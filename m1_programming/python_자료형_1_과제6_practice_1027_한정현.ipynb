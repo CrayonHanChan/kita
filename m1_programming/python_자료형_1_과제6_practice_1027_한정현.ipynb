{
 "cells": [
  {
   "cell_type": "markdown",
   "id": "3f6ecbc4",
   "metadata": {},
   "source": [
    "#### [과제6] 다음 과제를 수행하세요.\n",
    "- 사용자로 부터 텍스트를 입력 받는다. input\n",
    "- 문장을 단어 단위로 분리 split\n",
    "- 단어의 빈도 수를 저장할 딕셔너리를 생성. 결과 생성할 것을 {}로 선언 word frequency를 딕셔너리로 선언. word_frequency = {}\n",
    "- 각 단어의 빈도 수를 계산(for 문 / if else문)\n",
    "- 결과 출력"
   ]
  },
  {
   "cell_type": "code",
   "execution_count": null,
   "id": "5cd4d156",
   "metadata": {},
   "outputs": [],
   "source": [
    "# 강사님 솔루션\n",
    "word_frequency = {} # 이게 아주 키다! list론 이게 안됨\n",
    "words_list = [나는 밥을 먹었다. 나는 학교에 간다.]\n",
    "for word in words_list:\n",
    "    if word in word_frequency:\n",
    "        words_frequency[word] += 1\n",
    "    else:\n",
    "        words_frequency[word] = 1"
   ]
  },
  {
   "cell_type": "code",
   "execution_count": null,
   "id": "cadb2423",
   "metadata": {},
   "outputs": [],
   "source": [
    "{'나는':2,'밥을':1}"
   ]
  },
  {
   "cell_type": "code",
   "execution_count": null,
   "id": "f82c1947",
   "metadata": {},
   "outputs": [],
   "source": []
  }
 ],
 "metadata": {
  "kernelspec": {
   "display_name": "Python 3 (ipykernel)",
   "language": "python",
   "name": "python3"
  },
  "language_info": {
   "codemirror_mode": {
    "name": "ipython",
    "version": 3
   },
   "file_extension": ".py",
   "mimetype": "text/x-python",
   "name": "python",
   "nbconvert_exporter": "python",
   "pygments_lexer": "ipython3",
   "version": "3.10.13"
  }
 },
 "nbformat": 4,
 "nbformat_minor": 5
}
