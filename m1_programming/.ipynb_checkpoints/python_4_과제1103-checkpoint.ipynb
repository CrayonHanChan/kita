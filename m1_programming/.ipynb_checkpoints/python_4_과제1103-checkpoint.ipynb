{
 "cells": [
  {
   "cell_type": "markdown",
   "id": "afa036b9",
   "metadata": {},
   "source": [
    "#### 과제1_1103 :파이썬으로 음식 메뉴 추천 프로그램 작성하기\n",
    "<!-- \n",
    "요구 사항:\n",
    "\n",
    "- 사용자에게 기본 제공되는 메뉴 목록을 보여줍니다.\n",
    "- 사용자가 추가하고 싶은 메뉴를 입력할 수 있도록 요청합니다.\n",
    "- 사용자가 \"stop\"이라고 입력하면 메뉴 입력을 중단합니다.\n",
    "- 메뉴 목록을 무작위로 섞습니다.\n",
    "- 사용자가 원하는 추천 메뉴의 갯수를 입력할 수 있도록 합니다.\n",
    "- 입력한 숫자만큼 메뉴에서 무작위로 추천해줍니다.\n",
    "- 사용자가 추천 메뉴에 만족하지 않으면 메뉴봇이 자동으로 추천하는 옵션을 제공합니다.\n",
    "\n",
    "시나리오:\n",
    "\n",
    "기본으로 제공하는 메뉴:<br>\n",
    "{'맥도날드', '쉑쉑버거', '편의점', '분식집', '닭곰탕', '짬뽕'}\n",
    "\n",
    "주변 음식점 이름을 적으세요. 없으면 'stop'을 입력하세요: 중국집<br>\n",
    "주변 음식점 이름을 적으세요. 없으면 'stop'을 입력하세요: stop<br>\n",
    "추천받고 싶은 메뉴의 갯수를 말하세요: 2<br>\n",
    "추천 메뉴는 ['짬뽕', '편의점'] 입니다.<br>\n",
    "\n",
    "다른 추천을 원하시나요? (y/n): y<br>\n",
    "추천 메뉴의 수를 2으로 설정합니다.<br>\n",
    "추천 메뉴는 ['편의점', '닭곰탕'] 입니다.\n",
    " -->\n",
    "#### 작성해야 할 코드의 순서\n",
    "<!-- \n",
    "random 모듈을 임포트합니다.\n",
    "초기 메뉴 리스트를 정의합니다.\n",
    "사용자에게 추가할 메뉴 이름을 입력받습니다.\n",
    "사용자가 \"stop\"을 입력할 때까지 메뉴 리스트에 항목을 추가합니다.\n",
    "메뉴 리스트를 무작위로 섞습니다.\n",
    "사용자에게 추천받고 싶은 메뉴의 갯수를 입력받습니다.\n",
    "입력받은 숫자만큼 메뉴를 무작위로 추천합니다.\n",
    "사용자에게 추가 추천을 원하는지 물어봅니다.\n",
    "사용자의 응답에 따라 추가 추천을 하거나 프로그램을 종료합니다.\n",
    "주의 사항:\n",
    "\n",
    "사용자가 메뉴 갯수를 선택할 때 숫자를 입력하지 않으면, 오류 메시지를 출력하고 다시 숫자를 입력하도록 합니다.\n",
    "사용자가 추천 메뉴에 만족하지 않을 경우 무작위로 새로운 추천 갯수를 정하고, 사용자에게 추천할지 물어봅니다.\n",
    "사용자 입력이 'y' 또는 'n'이 아닌 경우 적절한 메시지와 함께 프로그램을 종료합니다. -->"
   ]
  },
  {
   "cell_type": "markdown",
   "id": "e9bb9deb",
   "metadata": {},
   "source": [
    "#### 과제2_1103 : 메뉴 추천 프로그램을 사용자 함수 3개를 이용해서 구조화 하세요.(add_menu_items, get_recommendation, main)"
   ]
  },
  {
   "cell_type": "markdown",
   "id": "b2a7cd7b",
   "metadata": {},
   "source": [
    "#### 과제3_1103 : \n",
    "<!-- input(\"문자 수정을 원하시면 '수정'을 입력하시고, 문자 개수를 찾기 및 삭제를 원하시면 '찾기'를 입력해주세요>\")\n",
    "아래 시나리오가 구현될 수 있도록 코드를 작성하세요.\n",
    "\n",
    "#### 시나리오\n",
    "문자 수정을 원하시면 '수정'을 입력하시고, 문자 개수를 찾기 및 삭제를 원하시면 '찾기'를 입력해주세요>수정\n",
    "글을 입력해주세요>그는 빅 브라더를 사랑했다.\n",
    "\n",
    "글에서 수정하고 싶은 문자를 입력해주세요>사랑\n",
    "그는 빅 브라더를 사랑했다.\n",
    "\n",
    "문자를 어떻게 수정하시겠습니까?>존경\n",
    "그는 빅 브라더를 존경했다.\n",
    "\n",
    "문자 수정을 원하시면 '수정'을 입력하시고, 문자 개수를 찾기 및 삭제를 원하시면 '찾기'를 입력해주세요>찾기\n",
    "글을 입력해주세요>호랑이 인형은 귀엽다. 그래서 나는 매일 호랑이 인형을 들고 잔다.호랑이 인형을 갖고 있는\n",
    "사람은 많다.\n",
    "\n",
    "글에서 찾고싶은 문자를 입력해주세요.>호랑이\n",
    "호랑이 인형은 귀엽다. 그래서 나는 매일 호랑이 인형을 들고 잔다.호랑이 인형을 갖고 있는 사람은 많다.\n",
    "해당 글에 존재하는 입력하신 문자의 개수는 3개 입니다.\n",
    "\n",
    "해당 글에서 입력하신 문자를 모두 삭제하시겠습니까?(Y/N)>Y\n",
    " 인형은 귀엽다. 그래서 나는 매일  인형을 들고 잔다. 인형을 갖고 있는 사람은 많다. -->"
   ]
  },
  {
   "cell_type": "markdown",
   "id": "561a16c0",
   "metadata": {},
   "source": [
    "#### 과제4_1103 : 게시물의 총 건수와 한 페이지에 보여 줄 게시물 수를 입력시 총 페이지 수를 출력하는 프로그램"
   ]
  },
  {
   "cell_type": "code",
   "execution_count": null,
   "id": "343f7153",
   "metadata": {},
   "outputs": [],
   "source": [
    "import time\n",
    "print(\"총 페이지 수 계산 프로그램 실행\",end=\"\")\n",
    "while 1 :\n",
    "    print(\"숫자를 입력해주세요. 숫자외의 데이터나 음수를 입력하면 프로그램이 종료됩니다.\")\n",
    "    total_gesimul = input(\"게시물의 총 건수 : \")\n",
    "    page_gesimul = input(\"한 페이지에 보여줄 게시물 수 : \")\n",
    "    if int(total_gesimul) * 1 >= 0 :\n",
    "        print(\"확인중..\",end=\"\")\n",
    "        time.sleep(1.2)\n",
    "    else :\n",
    "        print(\"확인중..\",end=\"\")\n",
    "        time.sleep(1.2)\n",
    "        print(\"\\n\"+\"잘못 입력하여 프로그램을 종료합니다.\")\n",
    "        break\n",
    "    if  int(page_gesimul) * 1 >= 0 :\n",
    "        print(\"\")\n",
    "    else :\n",
    "        print(\"\\n\"+\"확인중..\",end=\"\")\n",
    "        time.sleep(1.2)\n",
    "        print(\"\\n\"+\"잘못 입력하여 프로그램을 종료합니다.\")\n",
    "        break\n",
    "    \n",
    "    time.sleep(0.5)\n",
    "    print(\"..!\")\n",
    "    time.sleep(0.5)\n",
    "    print(\".!!\")\n",
    "    time.sleep(0.8)\n",
    "    print(\"!!!\")\n",
    "    time.sleep(0.5)\n",
    "    print(\"성공!\")\n",
    "    total_gesimul = int(total_gesimul)\n",
    "    page_gesimul = int(page_gesimul)\n",
    "    total_page = total_gesimul // page_gesimul\n",
    "    total_page_add = total_gesimul % page_gesimul\n",
    "    if total_page == 0 and total_page_add > 0 :\n",
    "        print(\"총 페이지 수는 1 입니다.\")\n",
    "    elif total_page == 0 and total_page_add == 0 :\n",
    "        print(\"게시물이 없습니다.\")\n",
    "    elif total_page > 0 and total_page_add == 0 :\n",
    "        print(f\"총 페이지 수는 {total_page} 입니다.\")\n",
    "    elif total_page > 0 and total_page_add > 0 :\n",
    "        print(f\"총 페이지 수는 {total_page+1}\")\n",
    "    elif total_gesimul < page_gesimul :\n",
    "        print(f\"총 페이지 수는 1 입니다. 게시물을 좀 더 만들어 보세요.\")\n",
    "    else :\n",
    "        print(\"출력할 수 없습니다. 알맞은 형식이 아닙니다.\")"
   ]
  },
  {
   "cell_type": "markdown",
   "id": "1e105353",
   "metadata": {},
   "source": [
    "#### 과제5_1103 : 1000명에 대하여 아래와 같이 출력하세요(출력 포멧)\n",
    "<!-- 이름 :라바\n",
    "몸무게: 80\n",
    "키: 146 -->"
   ]
  },
  {
   "cell_type": "markdown",
   "id": "e14ab7eb",
   "metadata": {},
   "source": [
    "#### 과제6_1103\n",
    "<!-- Q1000명에 대하여 아래와 같이 출력하세요\n",
    "bmi = round(int(weight) / ((int(height) / 100) ** 2),2)\n",
    "이름 :라바\n",
    "몸무게: 80\n",
    "키: 146\n",
    "BMI: 37.53049352598987\n",
    "결과: 과체중 -->"
   ]
  },
  {
   "cell_type": "markdown",
   "id": "61319e0d",
   "metadata": {},
   "source": [
    "#### 과제7_1103 : 사칙연산 기능을 포함하는 모듈을 작성 후 임포트해서 사칙연산을 수행하세요.\n",
    "- 모듈 cal4 작성 후 직접 실행하는 경우와 모듈 임포트하여 연산하는 두가지 경우"
   ]
  },
  {
   "cell_type": "markdown",
   "id": "7648dd05",
   "metadata": {},
   "source": [
    "#### 과제8_1103 : 올해 경과된 날짜 수를 계산하세요."
   ]
  },
  {
   "cell_type": "markdown",
   "id": "ec05e666",
   "metadata": {},
   "source": [
    "#### 과제9_1103 : 파이썬의 random 모듈을 사용하여 간단한 구매 데이터 세트를 생성하세요. 이 데이터 세트에는 다음과 같은 정보가 포함:\n",
    "\n",
    "- 구매 ID\n",
    "- 구매자 ID\n",
    "- 구매한 제품의 ID\n",
    "- 구매한 제품의 수량\n",
    "- 구매 날짜와 시간\n",
    "- purchase_id: 1000에서 9999 사이의 랜덤 정수\n",
    "- buyer_id: 100에서 999 사이의 랜덤 정수\n",
    "- product_id: 10에서 99 사이의 랜덤 정수\n",
    "- quantity: 1에서 10 사이의 랜덤 정수\n",
    "- purchase_date: 최근 365일 이내의 랜덤 날짜 및 시간"
   ]
  }
 ],
 "metadata": {
  "kernelspec": {
   "display_name": "Python 3 (ipykernel)",
   "language": "python",
   "name": "python3"
  },
  "language_info": {
   "codemirror_mode": {
    "name": "ipython",
    "version": 3
   },
   "file_extension": ".py",
   "mimetype": "text/x-python",
   "name": "python",
   "nbconvert_exporter": "python",
   "pygments_lexer": "ipython3",
   "version": "3.10.13"
  }
 },
 "nbformat": 4,
 "nbformat_minor": 5
}
