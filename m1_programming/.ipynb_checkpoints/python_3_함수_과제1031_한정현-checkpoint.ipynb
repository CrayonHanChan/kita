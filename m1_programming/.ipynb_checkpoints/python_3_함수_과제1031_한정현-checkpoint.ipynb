{
 "cells": [
  {
   "cell_type": "markdown",
   "id": "96702fce",
   "metadata": {},
   "source": [
    "#### 과제01_1031 : 사용자가 입력한 게임 회수만큼 로또 번호를 출력하는 프로그램을 작성하세요.(중복 처리)"
   ]
  },
  {
   "cell_type": "code",
   "execution_count": 1,
   "id": "5cd2526e",
   "metadata": {},
   "outputs": [
    {
     "name": "stdout",
     "output_type": "stream",
     "text": [
      "횟수 입력 : 3\n",
      "1번째 로또 [4, 33, 34, 36, 37, 45]\n",
      "2번째 로또 [1, 18, 24, 26, 27, 35]\n",
      "3번째 로또 [9, 18, 19, 21, 37, 41]\n"
     ]
    }
   ],
   "source": [
    "# 과제01_1031 솔루션\n",
    "import random\n",
    "a = int(input(\"횟수 입력 : \"))\n",
    "for i in range(a) :\n",
    "    b = random.sample(range(1,46),6)\n",
    "    b.sort()\n",
    "    print(f'{i+1}번째 로또' ,b)"
   ]
  },
  {
   "cell_type": "markdown",
   "id": "96b22d86",
   "metadata": {},
   "source": [
    "#### 과제01-1_1031 : sample 을 사용하지않고 중복 처리를 하세요."
   ]
  },
  {
   "cell_type": "code",
   "execution_count": 5,
   "id": "ecbbe43c",
   "metadata": {},
   "outputs": [
    {
     "ename": "SyntaxError",
     "evalue": "invalid syntax (3197293833.py, line 4)",
     "output_type": "error",
     "traceback": [
      "\u001b[1;36m  Cell \u001b[1;32mIn[5], line 4\u001b[1;36m\u001b[0m\n\u001b[1;33m    lotto_numbers = for i in range(1, 46)\u001b[0m\n\u001b[1;37m                    ^\u001b[0m\n\u001b[1;31mSyntaxError\u001b[0m\u001b[1;31m:\u001b[0m invalid syntax\n"
     ]
    }
   ],
   "source": [
    "# 과제01-1_1031 솔루션\n",
    "# 솔루션 수정 필요\n",
    "import random\n",
    "turns = int(input(\"횟수 입력: \"))\n",
    "lotto_numbers = for i in range(1, 46)\n",
    "for i in range(turns) :\n",
    "    lotto_numbers = "
   ]
  },
  {
   "cell_type": "markdown",
   "id": "daa22470",
   "metadata": {},
   "source": [
    "#### 과제2_1031 현재 계절 구분 프로그램\n",
    "- 시나리오 : 3 ~ 5월은 봄, 6 ~ 8월은 여름, 9 ~ 11월은 가을, 12 ~ 2월은 겨울로 구분. 지금 계절을 알려주는 프로그램 \n",
    "- 각 계절별 출력 멘트는 계절에 맞게 창작\n",
    "- if 조건문으로 datetime 모듈을 import해서 datetime.now 함수를 사용해서 작성"
   ]
  },
  {
   "cell_type": "code",
   "execution_count": 3,
   "id": "9a7790dc",
   "metadata": {},
   "outputs": [
    {
     "name": "stdout",
     "output_type": "stream",
     "text": [
      "가을.\n"
     ]
    }
   ],
   "source": [
    "# 과제2_1031 솔루션 \n",
    "from datetime import datetime\n",
    "spring = [3,4,5]\n",
    "summer = [6,7,8]\n",
    "autumn = [9,10,11]\n",
    "winter = [12,1,2]\n",
    "\n",
    "month = datetime.now().month\n",
    "if month in spring : \n",
    "    print(\"봄입니다.\")\n",
    "if month in summer :\n",
    "    print(\"여름\")\n",
    "if month in autumn : \n",
    "    print(\"가을.\")\n",
    "if month in winter :\n",
    "    print(\"겨울\")"
   ]
  },
  {
   "cell_type": "markdown",
   "id": "96ea5791",
   "metadata": {},
   "source": [
    "#### 과제3_1031 : 1부터 99까지 아래와 같이 2개의 수를 곱해서 가장 큰 수를 구하세요.\n",
    "1*99, 2*98 ...99*1"
   ]
  },
  {
   "cell_type": "code",
   "execution_count": 4,
   "id": "01270448",
   "metadata": {},
   "outputs": [
    {
     "name": "stdout",
     "output_type": "stream",
     "text": [
      "2500\n"
     ]
    }
   ],
   "source": [
    "# 과제3_1031 솔루션 # while 문 사용\n",
    "n = 1\n",
    "m = 0\n",
    "while 1 :\n",
    "    n += 1\n",
    "    if n >= 100 :\n",
    "        break\n",
    "    if m >= n*(100-n) :\n",
    "        continue\n",
    "    else : \n",
    "        m = n*(100-n)   \n",
    "print(m)"
   ]
  },
  {
   "cell_type": "code",
   "execution_count": 6,
   "id": "21eb46eb",
   "metadata": {},
   "outputs": [
    {
     "name": "stdout",
     "output_type": "stream",
     "text": [
      "2500\n"
     ]
    }
   ],
   "source": [
    "# 과제3_1031 솔루션 # for문 사용\n",
    "max = 0\n",
    "for i in range (1,100)  :\n",
    "    if max >= i*(100-i) :\n",
    "        continue\n",
    "    else :\n",
    "        max = i*(100-i)\n",
    "print(max)"
   ]
  },
  {
   "cell_type": "markdown",
   "id": "f2a06805",
   "metadata": {},
   "source": [
    "#### 과제4_1031 [    ]을 채워서 아래의 출력과 같이 출력하세요.\n",
    "-출력 :\n",
    "-numbers = [1,2,3,4,5,6,7,8,9]\n",
    "-output = [[], [], []]\n",
    "\n",
    "- [[1,4,7],[2,5,8],[3,6,9]]"
   ]
  },
  {
   "cell_type": "code",
   "execution_count": 7,
   "id": "c35f0191",
   "metadata": {},
   "outputs": [
    {
     "ename": "NameError",
     "evalue": "name 'numbers' is not defined",
     "output_type": "error",
     "traceback": [
      "\u001b[1;31m---------------------------------------------------------------------------\u001b[0m",
      "\u001b[1;31mNameError\u001b[0m                                 Traceback (most recent call last)",
      "Cell \u001b[1;32mIn[7], line 3\u001b[0m\n\u001b[0;32m      1\u001b[0m \u001b[38;5;66;03m# 과제4_1031 솔루션\u001b[39;00m\n\u001b[0;32m      2\u001b[0m \u001b[38;5;28;01mfor\u001b[39;00m i \u001b[38;5;129;01min\u001b[39;00m \u001b[38;5;28mrange\u001b[39m(\u001b[38;5;241m3\u001b[39m) :\n\u001b[1;32m----> 3\u001b[0m     output \u001b[38;5;241m=\u001b[39m \u001b[38;5;28mlist\u001b[39m(\u001b[38;5;28mmap\u001b[39m(\u001b[38;5;28mint\u001b[39m,\u001b[43mnumbers\u001b[49m[:\u001b[38;5;241m3\u001b[39m]))\n\u001b[0;32m      4\u001b[0m     \u001b[38;5;28mprint\u001b[39m(output)\n",
      "\u001b[1;31mNameError\u001b[0m: name 'numbers' is not defined"
     ]
    }
   ],
   "source": [
    "# 과제4_1031 솔루션\n",
    "# 솔루션 수정 필요\n",
    "for i in range(3) :\n",
    "    output = list(map(int,numbers[:3]))\n",
    "    print(output)"
   ]
  },
  {
   "cell_type": "markdown",
   "id": "501ded41",
   "metadata": {},
   "source": [
    "#### 과제5_1031 컴퓨터가 랜덤하게 생성하는 숫자 맞추기 게임 프로그램을 작성하세요"
   ]
  },
  {
   "cell_type": "code",
   "execution_count": 8,
   "id": "8bc56956",
   "metadata": {},
   "outputs": [
    {
     "name": "stdout",
     "output_type": "stream",
     "text": [
      "1부터 20까지의 숫자중 하나를 입력해주세요. : 10\n",
      "정답은 해당 수 보다 더 작은 수 입니다..\n",
      "1부터 20까지의 숫자중 하나를 입력해주세요. : 7\n",
      "정답은 해당 수 보다 더 작은 수 입니다..\n",
      "1부터 20까지의 숫자중 하나를 입력해주세요. : 4\n",
      "정답입니다\n"
     ]
    }
   ],
   "source": [
    "# 과제5_1031 솔루션\n",
    "\n",
    "import random\n",
    "number = random.randint(1,20)\n",
    "\n",
    "while True :\n",
    "    ans = int(input(\"1부터 20까지의 숫자중 하나를 입력해주세요. : \"))\n",
    "    if ans == number :\n",
    "        print(\"정답입니다\")\n",
    "        break\n",
    "    elif ans > number :\n",
    "        print(\"정답은 해당 수 보다 더 작은 수 입니다..\")\n",
    "    else :\n",
    "        print(\"정답은 해당 수 보다 더 큰 수 입니다.\")"
   ]
  },
  {
   "cell_type": "markdown",
   "id": "9314fd3f",
   "metadata": {},
   "source": [
    "#### 과제6_1031 Player가 3승할 때까지 계속 진행되는 가위바위보 게임 프로그램을 작성하세요.\n",
    "- 게임을 Player와 컴퓨터가 진행"
   ]
  },
  {
   "cell_type": "code",
   "execution_count": 9,
   "id": "ba77a7d0",
   "metadata": {
    "scrolled": true
   },
   "outputs": [
    {
     "name": "stdout",
     "output_type": "stream",
     "text": [
      "가위, 바위, 보 중에서 하나를 입력하세요. : 가위\n",
      "패배\n",
      "0\n",
      "가위, 바위, 보 중에서 하나를 입력하세요. : 가위\n",
      "패배\n",
      "0\n",
      "가위, 바위, 보 중에서 하나를 입력하세요. : 가위\n",
      "무승부\n",
      "0\n",
      "가위, 바위, 보 중에서 하나를 입력하세요. : 가위\n",
      "패배\n",
      "0\n",
      "가위, 바위, 보 중에서 하나를 입력하세요. : 가위\n",
      "무승부\n",
      "0\n",
      "가위, 바위, 보 중에서 하나를 입력하세요. : 가위\n",
      "무승부\n",
      "0\n",
      "가위, 바위, 보 중에서 하나를 입력하세요. : 가위\n",
      "무승부\n",
      "0\n",
      "가위, 바위, 보 중에서 하나를 입력하세요. : 가위\n",
      "승리\n",
      "1\n",
      "가위, 바위, 보 중에서 하나를 입력하세요. : 가위\n",
      "승리\n",
      "2\n",
      "가위, 바위, 보 중에서 하나를 입력하세요. : 가위\n",
      "승리\n",
      "3\n",
      "3승을 하여 게임이 종료되었습니다...\n"
     ]
    }
   ],
   "source": [
    "# 과제6_1031 솔루션\n",
    "import random\n",
    "point = 0\n",
    "while True :\n",
    "    if point == 3 :\n",
    "        print(\"3승을 하여 게임이 종료되었습니다...\")\n",
    "        break\n",
    "    computer = random.choice(['가위','바위','보'])\n",
    "    me = str(input(\"가위, 바위, 보 중에서 하나를 입력하세요. : \"))\n",
    "    if me == computer :\n",
    "        print(\"무승부\")\n",
    "        print(point)\n",
    "    elif (me == '가위' and computer == '보') or (me == '보' and computer == '바위') or (me == '바위' and computer == '가위') :\n",
    "        print(\"승리\")\n",
    "        point += 1\n",
    "        print(point)\n",
    "    else : \n",
    "        print(\"패배\")\n",
    "        print(point)"
   ]
  },
  {
   "cell_type": "markdown",
   "id": "b5debd64",
   "metadata": {},
   "source": [
    "#### 과제7_1031\n",
    "- 음식점의 음식 주문가격 산출 프로그램을 자유롭게 작성하세요\n",
    "\n",
    "'''\n",
    "KITA 식당에 오신 것을 환영합니다\n",
    "\n",
    "========================================\n",
    "\n",
    "          - 메  뉴 -\n",
    "    1. 불고기 비빔밥 : 12,000원\n",
    "    2. 야채 비빔밥 : 8,000원\n",
    "    3. 전주 비빔밥 : 10,000원\n",
    "\n",
    "    세트 주문시 : 3000원 추가\n",
    "    (세트는 밥과 반찬이 추가됩니다.)\n",
    "\n",
    "========================================\n",
    "\n",
    "비빔밥 메뉴를 선택해 주세요. 1, 2, 3 >>> 2\n",
    "세트 주문을 하시겠습니까? 3,000원 추가. y, n >>> y\n",
    "총 금액은 11000원 입니다.\n",
    "'''"
   ]
  },
  {
   "cell_type": "code",
   "execution_count": null,
   "id": "54a8f5a1",
   "metadata": {},
   "outputs": [],
   "source": [
    "# 과제7_1031 솔루션\n"
   ]
  },
  {
   "cell_type": "markdown",
   "id": "5c57b1d3",
   "metadata": {},
   "source": [
    "#### 과제8_1031\n",
    "- 과제8-1 내장함수(배운 것) 5개를 활용해서 간단한 프로그램을 만드세요.\n",
    "- 과제8-2 외장함수(배운 것) 5개를 활용해서 간단한 프로그램을 만드세요.\n",
    "- 과제8-3 사용자 함수 3개를 작성하세요.\n",
    "- 과제8-4 리스트를 작성하고 람다 함수를 이용해서 한번에 함수를 적용하여 결과값을 출력하세요\n",
    "- 과제8-5 외부 라이브러리를 임포트해서 간단한 프로그램을 만드세요."
   ]
  },
  {
   "cell_type": "markdown",
   "id": "b65ee84b",
   "metadata": {},
   "source": [
    "#### 과제8-1_1031 내장함수(배운 것) 5개를 활용해서 간단한 프로그램을 만드세요."
   ]
  },
  {
   "cell_type": "code",
   "execution_count": 13,
   "id": "4a8fb613",
   "metadata": {},
   "outputs": [
    {
     "name": "stdout",
     "output_type": "stream",
     "text": [
      "내장함수 5개 활용하기 첫번째! 사용자가 직접 입력하는 지금 이 함수의 이름은? 힌트 : i***t : input\n",
      "input\n",
      "4\n",
      "<class 'list'>\n",
      "[('apple', 'Cove'), ('ornage', 'Jeff'), ('pear', 'Lay')]\n"
     ]
    }
   ],
   "source": [
    "# 과제8-1_1031 솔루션\n",
    "\n",
    "# 첫번째 내장함수 input()\n",
    "a = str(input(\"내장함수 5개 활용하기 첫번째! 사용자가 직접 입력하는 지금 이 함수의 이름은? 힌트 : i***t : \"))\n",
    "\n",
    "# 두번째 내장함수 print()\n",
    "print(a)\n",
    "list_any = [1,2,3,4]\n",
    "\n",
    "# 세번째 내장함수 len()\n",
    "print(len(list_any))\n",
    "\n",
    "# 네번째 내장함수 type()\n",
    "print(type(list_any))\n",
    "\n",
    "# 다섯번째 내장함수 zip(), list()\n",
    "fruits = ['apple', 'ornage', 'pear']\n",
    "name = ['Cove', 'Jeff', 'Lay']\n",
    "zipped = zip(fruits,name)\n",
    "print(list(zipped))"
   ]
  },
  {
   "cell_type": "markdown",
   "id": "55d169c5",
   "metadata": {},
   "source": [
    "#### 과제8-2_1031 외장함수(배운 것) 5개를 활용해서 간단한 프로그램을 만드세요."
   ]
  },
  {
   "cell_type": "code",
   "execution_count": null,
   "id": "231a465e",
   "metadata": {},
   "outputs": [],
   "source": [
    "# 과제8-2_1031 솔루션\n",
    "# 솔루션 수정 필요\n",
    "\n",
    "# 첫번째 외장함수 random()\n",
    "import random\n",
    "a = "
   ]
  },
  {
   "cell_type": "markdown",
   "id": "3f533556",
   "metadata": {},
   "source": [
    "#### 과제8-3_1031 사용자 함수 3개를 작성하세요."
   ]
  },
  {
   "cell_type": "code",
   "execution_count": 14,
   "id": "380bec37",
   "metadata": {},
   "outputs": [
    {
     "name": "stdout",
     "output_type": "stream",
     "text": [
      "Hello. 한정현!\n",
      "10048\n",
      "1 3\n",
      "10 -600\n"
     ]
    }
   ],
   "source": [
    "# 과제8-3_1031 솔루션\n",
    "\n",
    "# 첫번째 사용자 함수 : 인사하기\n",
    "def greeting(name):\n",
    "    return f\"Hello. {name}!\"\n",
    "print(greeting(\"한정현\"))\n",
    "\n",
    "# 두번째 사용자 함수 : 수학연산\n",
    "def haha(x) :\n",
    "    return x*(x + 2) +10000\n",
    "result = haha(6)\n",
    "print(result)\n",
    "\n",
    "# 세번째 사용자 함수 : \n",
    "def print_number(x, y) :\n",
    "    print(x, y)\n",
    "print_number(1, 3)\n",
    "print_number(10, -600)"
   ]
  }
 ],
 "metadata": {
  "kernelspec": {
   "display_name": "Python 3 (ipykernel)",
   "language": "python",
   "name": "python3"
  },
  "language_info": {
   "codemirror_mode": {
    "name": "ipython",
    "version": 3
   },
   "file_extension": ".py",
   "mimetype": "text/x-python",
   "name": "python",
   "nbconvert_exporter": "python",
   "pygments_lexer": "ipython3",
   "version": "3.10.13"
  }
 },
 "nbformat": 4,
 "nbformat_minor": 5
}
