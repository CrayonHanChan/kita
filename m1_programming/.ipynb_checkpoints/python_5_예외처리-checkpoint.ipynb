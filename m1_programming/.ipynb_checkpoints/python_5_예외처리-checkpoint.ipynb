{
 "cells": [
  {
   "cell_type": "markdown",
   "id": "ef9ae5d7",
   "metadata": {},
   "source": [
    "#### 과제1_1106 : 1에서 백만까지 더하는데 걸리는 프로그램 실행 시간을 밀리초(ms) 단위로 구하세요. (1ms=0.001초)"
   ]
  },
  {
   "cell_type": "code",
   "execution_count": 1,
   "id": "92452d2c",
   "metadata": {
    "scrolled": true
   },
   "outputs": [
    {
     "name": "stdout",
     "output_type": "stream",
     "text": [
      "0.07687\n"
     ]
    }
   ],
   "source": [
    "# 과제1_1106 솔루션\n",
    "import time\n",
    "big_sum = 0\n",
    "start = time.time()\n",
    "for i in range(1,1000001):\n",
    "    big_sum += 1\n",
    "end = time.time()\n",
    "\n",
    "# print(start)\n",
    "# print(end)\n",
    "sum_time = end - start\n",
    "print(round(sum_time,5))"
   ]
  },
  {
   "cell_type": "code",
   "execution_count": 27,
   "id": "01a68411",
   "metadata": {},
   "outputs": [
    {
     "name": "stdout",
     "output_type": "stream",
     "text": [
      "2023-11-06 21:02:46.481278\n",
      "2023-11-06 21:02:46.626193\n",
      "0:00:00.144915\n",
      "<class 'datetime.timedelta'>\n",
      "['0:00:00', '144915']\n"
     ]
    }
   ],
   "source": [
    "# 과제1_1106 솔루션\n",
    "import datetime\n",
    "big_sum = 0\n",
    "start = datetime.datetime.now()\n",
    "for i in range(1,1000001):\n",
    "    big_sum += 1\n",
    "end = datetime.datetime.now()\n",
    "\n",
    "print(start)\n",
    "print(end)\n",
    "sum_time = end - start\n",
    "print(sum_time)\n",
    "print(type(sum_time))\n",
    "a =str(sum_time).split('.')\n",
    "print(a)\n",
    "# print(sum_time).spilt('.')"
   ]
  },
  {
   "cell_type": "code",
   "execution_count": 11,
   "id": "abf49816",
   "metadata": {},
   "outputs": [
    {
     "data": {
      "text/plain": [
       "datetime.datetime(2023, 11, 6, 20, 57, 25, 949024)"
      ]
     },
     "execution_count": 11,
     "metadata": {},
     "output_type": "execute_result"
    }
   ],
   "source": [
    "import datetime\n",
    "datetime.datetime.now()"
   ]
  },
  {
   "cell_type": "markdown",
   "id": "59c93ecc",
   "metadata": {},
   "source": [
    "#### 파이썬에서 언더바/더블언더바 의 의미와 역할\n",
    "\n",
    "단일 언더바 (_):\n",
    "\n",
    "- 인터프리터: 파이썬 인터프리터에서 단일 언더바는 가장 최근의 표현식의 결과를 저장\n",
    "- 변수 이름: 관례적으로 관심이 없는 값을 할당할 때 사용합니다. 예를 들어, for _ in range(5):는 반복문에서 인덱스를 사용하지 않을 때 관용적으로 사용 # i 등의 요소대신..\n",
    "- 국제화(i18n)/지역화(l10n): 함수 이름으로서 _()는 종종 gettext 모듈을 통해 문자열을 번역하는 데 사용\n",
    "- 값 무시: 튜플 언패킹에서 특정 값을 무시할 때 사용합니다. 예: x, _, y = (1, 2, 3) 여기서 2는 무시 # 1 3 중요하고 여기선 2가 안중요해 할때 씀\n",
    "\n",
    "단일 선행 언더바 (_변수):\n",
    "- 일반적으로 모듈 내부에서만 사용되는 \"private\" 변수나 함수 또는 메서드를 지정할 때 사용\n",
    "- 파이썬에서 강제할 수는 없지만, 이것은 프로그래머에게 그 변수나 함수가 내부 사용을 위한 것임을 알려주는 관례\n",
    "\n",
    "단일 후행 언더바 (변수_):\n",
    "- 파이썬 키워드와 충돌을 피하기 위해 사용됩니다. 예를 들어, class_는 class라는 이름 대신 사용 # class_ 등을 많이 씀 # class는 예약어 이기 때문에 모듈내부에서만 쓰는것을 위해 구분하기 위해 class_ 를 씀\n",
    "\n",
    "더블 선행 언더바 (__변수):\n",
    "- 클래스의 속성을 이름 맹글링(name mangling)하기 위해 사용\n",
    "- 이는 속성이 해당 클래스와 그 서브클래스 내부에서만 사용될 것임을 나타내며, 부모 클래스의 필드와 이름 충돌을 피하는 데 도움을 준다. 예: __private_var는 _ClassName__private_var로 변환되어 클래스 외부에서 직접 접근할 수 없습니다.\n",
    "\n",
    "더블 선행과 후행 언더바 (변수):\n",
    "- 파이썬의 매직 메서드 또는 특별 메서드를 나타냅니다. 이들은 특별한 의미를 가지며, 파이썬의 내부 구조와 연동\n",
    "- 예를 들어, __init__, __call__, __str__, __repr__ 등이 있습니다. 이러한 메서드들은 사용자 정의 객체가 내장 타입과 상호작용하는 방식을 정의<br>\n",
    "    __init__: 객체가 생성될 때 초기화를 담당합니다.<br>\n",
    "    __repr__: 객체의 “공식적인” 문자열 표현을 제공합니다.<br>\n",
    "    __add__: + 연산자로 두 객체를 더할 때 호출됩니다.<br>\n",
    "    __call__: 객체를 함수처럼 호출할 수 있게 합니다 (예: instance()).<br>\n",
    "    __getitem__: 인덱싱을 통해 요소에 접근할 때 호출됩니다 (예: instance[key]).\n",
    "- __main__은 파이썬에서 사용되는 특별한 변수이며, 현재 최상위 실행 환경이 무엇인지를 나타내는 데 사용됩니다. 파이썬 스크립트가 직접 실행될 때 그 스크립트의 __name__ 변수는 \"__main__\"으로 설정"
   ]
  },
  {
   "cell_type": "code",
   "execution_count": 1,
   "id": "6cda3d90",
   "metadata": {},
   "outputs": [
    {
     "data": {
      "text/plain": [
       "9"
      ]
     },
     "execution_count": 1,
     "metadata": {},
     "output_type": "execute_result"
    }
   ],
   "source": [
    "5 + 4"
   ]
  },
  {
   "cell_type": "code",
   "execution_count": 2,
   "id": "0ee34a80",
   "metadata": {
    "scrolled": true
   },
   "outputs": [
    {
     "data": {
      "text/plain": [
       "9"
      ]
     },
     "execution_count": 2,
     "metadata": {},
     "output_type": "execute_result"
    }
   ],
   "source": [
    "_ # 가장 최근의 표현식의 결과를 출력"
   ]
  },
  {
   "cell_type": "code",
   "execution_count": 3,
   "id": "2ef9b459",
   "metadata": {},
   "outputs": [
    {
     "name": "stdout",
     "output_type": "stream",
     "text": [
      "0\n",
      "1\n",
      "2\n",
      "3\n",
      "4\n"
     ]
    }
   ],
   "source": [
    "for _ in range(5): # i등과 같은 요소 대신에 _ 를 씀 이떄는 i 가 별로 중요하지 않을때 ...\n",
    "    print(_)"
   ]
  },
  {
   "cell_type": "code",
   "execution_count": 6,
   "id": "94c68187",
   "metadata": {},
   "outputs": [
    {
     "name": "stdout",
     "output_type": "stream",
     "text": [
      "1번 : a\n",
      "2번 : b\n",
      "3번 : c\n",
      "6번 : d\n",
      "5번 : e\n"
     ]
    }
   ],
   "source": [
    "# 리스트의 각 아이템이 튜플 형태를 이루고 있어야 함\n",
    "for i, _ in [(1,'a'),(2,'b'),(3,'c'),(6,'d'),(5,'e')]:\n",
    "    print(f\"{i}번 : {_}\")"
   ]
  },
  {
   "cell_type": "code",
   "execution_count": 7,
   "id": "61a37814",
   "metadata": {},
   "outputs": [
    {
     "name": "stdout",
     "output_type": "stream",
     "text": [
      "0번 : 1\n",
      "1번 : 2\n",
      "2번 : 3\n",
      "3번 : 4\n",
      "4번 : 5\n"
     ]
    }
   ],
   "source": [
    "for i, _ in enumerate([1,2,3,4,5]) :\n",
    "    print(f\"{i}번 : {_}\")"
   ]
  },
  {
   "cell_type": "code",
   "execution_count": 8,
   "id": "93c8ef09",
   "metadata": {},
   "outputs": [],
   "source": [
    "# _internalUse 클래스와 _inernal_method 메서드, 그리고 _internal_function 함수는 모두 단일 선행 언더바를 사용하여 정의\n",
    "# 이것은 이들이 모듈 내부에서만 사용되도록 의도\n",
    "class _internalUse:\n",
    "    def __init__(self):\n",
    "        print(\"이 클래스는 내부적으로만 사용됩니다,\")\n",
    "        \n",
    "    def _internal_method(self):\n",
    "        print(\"이 메서드는 내부적으로만 사용됩니다,\")\n",
    "def _internal_function():\n",
    "    print(\"이 함수는 내부적으로만 사용됩니다,\")"
   ]
  },
  {
   "cell_type": "code",
   "execution_count": 9,
   "id": "e60f0acb",
   "metadata": {},
   "outputs": [],
   "source": [
    "# class는 파이썬에서 클래스를 정의할 때 사용하는 키워드입니다. 만약 변수로 class를 사용하고 싶다면,\n",
    "# 이름 충돌을 피하기 위해 후행 언더바를 사용\n",
    "class_ = \"This is a string variable, not a class\"\n",
    "\n",
    "# from_은 파이썬의 from 키워드와 충돌하지 않도록 하기 위해 후행 언더바를 붙여서 사용\n",
    "def send_email(address, from_):\n",
    "    print(f\"Sending email to {address} from {from_}\")"
   ]
  },
  {
   "cell_type": "code",
   "execution_count": null,
   "id": "8238b6a8",
   "metadata": {},
   "outputs": [],
   "source": [
    "# __privateVar와 __privateMethod는 클래스 Test 내부에서만 사용될 것이라는 의미로 이름 앞에 더블 언더바를 붙였습니다. \n",
    "# 파이썬 인터프리터는 이 이름들을 _Test__privateVar와 _Test__privateMethod로 맹글링하여 내부적으로 사용합니다. \n",
    "# 따라서 이들에 대한 직접적인 접근은 에러를 발생\n",
    "class Test:\n",
    "    def __init__(self):\n",
    "        self.__privateVar = 42\n",
    "\n",
    "    def __privateMethod(self):\n",
    "        return \"This is a private method\"\n",
    "\n",
    "# 외부에서 접근\n",
    "test = Test()\n",
    "# print(test.__privateVar)  # 이 코드는 에러를 발생시킵니다.\n",
    "# print(test.__privateMethod())  # 이 코드도 에러를 발생시킵니다."
   ]
  },
  {
   "cell_type": "code",
   "execution_count": 10,
   "id": "cae5a46c",
   "metadata": {},
   "outputs": [
    {
     "data": {
      "text/plain": [
       "5"
      ]
     },
     "execution_count": 10,
     "metadata": {},
     "output_type": "execute_result"
    }
   ],
   "source": [
    "_"
   ]
  },
  {
   "cell_type": "markdown",
   "id": "5dfb4be1",
   "metadata": {},
   "source": [
    "#### 파이썬에서 -1은 다양한 방식으로 사용됩니다. 다음은 일부 예시입니다:\n",
    "\n",
    "- 인덱스: 파이썬에서는 리스트, 문자열, 튜플 등의 시퀀스 자료형의 인덱스를 지정할 때 음수를 사용할 수 있습니다. 이때 -1은 시퀀스의 마지막 요소를 가리킵니다. 예를 들어, 리스트에서 my_list[-1]은 리스트의 마지막 요소를 반환합니다.\n",
    "\n",
    "- 슬라이스: 마찬가지로, 시퀀스 자료형의 슬라이스를 지정할 때도 음수를 사용할 수 있습니다. 이때 -1은 시퀀스의 마지막 요소를 가리킵니다. 예를 들어, 리스트에서 my_list[:-1]은 마지막 요소를 제외한 모든 요소를 반환합니다.\n",
    "\n",
    "- 반환 값: 일부 함수에서는 실패 또는 오류를 나타내는 값을 -1로 반환합니다. 예를 들어, 문자열에서 find() 메서드는 문자열에서 지정된 문자열을 찾을 수 없을 때 -1을 반환합니다.\n",
    "\n",
    "- 비트 연산: 비트 연산에서는 -1이 모든 비트가 1인 이진수로 사용됩니다. 예를 들어, 0b11111111은 10진수로 255이며, -1과 같습니다"
   ]
  },
  {
   "cell_type": "code",
   "execution_count": 13,
   "id": "c5cd24b8",
   "metadata": {},
   "outputs": [
    {
     "data": {
      "text/plain": [
       "[1, 2, 3, 4]"
      ]
     },
     "execution_count": 13,
     "metadata": {},
     "output_type": "execute_result"
    }
   ],
   "source": [
    "list1 = [1,2,3,4,5]\n",
    "list1[:-1]"
   ]
  },
  {
   "cell_type": "markdown",
   "id": "0a2a446e",
   "metadata": {},
   "source": [
    "#### 에러(Error) vs. 예외(Exception).\n",
    "\n",
    "#### 에러(Error): # 실행전에 발생 \n",
    "- 에러는 주로 프로그램 실행 전에 발생하는, 프로그램의 잘못된 구문이나 절차 등에 의해 발생하는 문제를 말한다.\n",
    "- 대표적인 에러로는 구문 에러(SyntaxError)가 있다. 예를 들어, 올바르지 않은 들여쓰기나 잘못된 코드 구조로 인해 파이썬 인터프리터가 코드를 실행하기 전에 에러를 발생시킨다.\n",
    "- 에러는 대체로 프로그램의 수정 없이는 복구될 수 없는 심각한 문제들이다.\n",
    "\n",
    "#### 예외(Exception): #실행중에 발생\n",
    "- 예외는 실행 중인 프로그램에 영향을 주는 이벤트로, 일반적인 프로그램 흐름을 방해한다.\n",
    "- 예외는 프로그램의 정상적인 흐름을 방해하지만, 적절한 예외 처리를 통해 프로그램의 중단 없이 예외를 '잡아내고(catch)' 처리할 수 있다. 예를 들어, 파일을 열 때 파일이 존재하지 않는 경우 FileNotFoundError 예외가 발생할 수 있다. 이 경우 적절한 except 블록으로 예외를 처리하여 사용자에게 메시지를 표시하고 대안적인 행동을 취할 수 있다.\n",
    "- 예외는 try-except 블록을 통해 프로그램에서 처리할 수 있으며, 이를 통해 프로그램이 예외 상황에서도 안정적으로 동작하도록 만들 수 있다.\n",
    "\n",
    "- 요약하자면, 에러는 대개 코드 수정이 필요한 문제들을 가리키며, 예외는 프로그램 실행 중에 발생하지만 적절히 처리할 수 있는 예상 가능한 '예외적' 상황들을 말한다.\n",
    "\n",
    "#### 파이썬에서 발생할 수 있는 에러와 예외의 유형:\n",
    "#### 에러 : 프로그램이 실행되기 전에 발생하는 문제\n",
    "- SyntaxError: 코드의 구문이 잘못되었을 때 생긴다.<br>\n",
    "\n",
    "#### 예외 : 실행 시간(runtime) 중에 발생하고 처리 가능\n",
    "- NameError: 정의되지 않은 변수를 호출할 때 생긴다.\n",
    "- TypeError: 연산이나 함수가 부적절한 유형의 객체에 적용될 때 발생한다.\n",
    "- ValueError: 연산이나 함수가 적절하지 않은 값을 객체에 적용할 때 발생한다.\n",
    "- IndexError: 리스트 등의 시퀀스에서 존재하지 않는 인덱스를 사용할 때 생긴다. # 인덱스가 5개있는데 6개 7개 하라고하면 err\n",
    "- KeyError: 딕셔너리에서 존재하지 않는 키를 사용할 때 발생한다.\n",
    "- AttributeError: 존재하지 않는 속성이나 메서드를 호출할 때 생긴다.\n",
    "- IOError 또는 OSError: 파일 입출력 과정에서 에러가 생길 때 발생한다.1\n",
    "- ZeroDivisionError: 0으로 나눌 때 생긴다.\n",
    "- ImportError: 모듈을 임포트할 수 없을 때 발생한다.\n",
    "- StopIteration: 이터레이터에 더 이상의 아이템이 없을 때 next()를 호출하면 발생한다.\n",
    "- MemoryError: 메모리 할당이 실패할 때 생긴다.\n",
    "- RecursionError: 재귀 호출이 너무 깊어질 때 발생한다."
   ]
  },
  {
   "cell_type": "code",
   "execution_count": 14,
   "id": "3e45a72d",
   "metadata": {},
   "outputs": [
    {
     "ename": "NameError",
     "evalue": "name 'name' is not defined",
     "output_type": "error",
     "traceback": [
      "\u001b[1;31m---------------------------------------------------------------------------\u001b[0m",
      "\u001b[1;31mNameError\u001b[0m                                 Traceback (most recent call last)",
      "Cell \u001b[1;32mIn[14], line 2\u001b[0m\n\u001b[0;32m      1\u001b[0m Name \u001b[38;5;241m=\u001b[39m \u001b[38;5;241m234\u001b[39m\n\u001b[1;32m----> 2\u001b[0m \u001b[38;5;28mprint\u001b[39m(\u001b[43mname\u001b[49m)\n",
      "\u001b[1;31mNameError\u001b[0m: name 'name' is not defined"
     ]
    }
   ],
   "source": [
    "# 구문 오류\n",
    "Name = 234\n",
    "print(name) # 변수 name이아닌 Name 으로 해야함\n",
    "\n",
    "# ---------------------------------------------------------------------------\n",
    "# NameError                                 Traceback (most recent call last)\n",
    "# Cell In[14], line 2\n",
    "#       1 Name = 234\n",
    "# ----> 2 print(name)\n",
    "\n",
    "# NameError: name 'name' is not defined"
   ]
  },
  {
   "cell_type": "code",
   "execution_count": 16,
   "id": "c0023e58",
   "metadata": {
    "scrolled": true
   },
   "outputs": [
    {
     "name": "stdout",
     "output_type": "stream",
     "text": [
      "숫자1 입력  :12\n",
      "숫자2 입력 :2\n"
     ]
    },
    {
     "ename": "TypeError",
     "evalue": "unsupported operand type(s) for -: 'str' and 'int'",
     "output_type": "error",
     "traceback": [
      "\u001b[1;31m---------------------------------------------------------------------------\u001b[0m",
      "\u001b[1;31mTypeError\u001b[0m                                 Traceback (most recent call last)",
      "Cell \u001b[1;32mIn[16], line 4\u001b[0m\n\u001b[0;32m      2\u001b[0m num1 \u001b[38;5;241m=\u001b[39m \u001b[38;5;28minput\u001b[39m(\u001b[38;5;124m\"\u001b[39m\u001b[38;5;124m숫자1 입력  :\u001b[39m\u001b[38;5;124m\"\u001b[39m)\n\u001b[0;32m      3\u001b[0m num2 \u001b[38;5;241m=\u001b[39m \u001b[38;5;28minput\u001b[39m(\u001b[38;5;124m\"\u001b[39m\u001b[38;5;124m숫자2 입력 :\u001b[39m\u001b[38;5;124m\"\u001b[39m)\n\u001b[1;32m----> 4\u001b[0m \u001b[38;5;28mprint\u001b[39m(\u001b[43mnum1\u001b[49m\u001b[43m \u001b[49m\u001b[38;5;241;43m+\u001b[39;49m\u001b[43m \u001b[49m\u001b[43mnum2\u001b[49m\u001b[43m \u001b[49m\u001b[38;5;241;43m-\u001b[39;49m\u001b[43m \u001b[49m\u001b[38;5;241;43m2\u001b[39;49m)\n",
      "\u001b[1;31mTypeError\u001b[0m: unsupported operand type(s) for -: 'str' and 'int'"
     ]
    }
   ],
   "source": [
    "# 사용자가 입력한 두 수를 더한 값에 -2를 한값을 구하는 프로그램\n",
    "num1 = input(\"숫자1 입력  :\")\n",
    "num2 = input(\"숫자2 입력 : \")\n",
    "print(num1 + num2 - 2) # num1과 num2 이 str 타입기 때문에 정수인 2 와 연산 불가\n",
    "\n",
    "# 숫자1 입력  :12\n",
    "# 숫자2 입력 :2\n",
    "# ---------------------------------------------------------------------------\n",
    "# TypeError                                 Traceback (most recent call last)\n",
    "# Cell In[16], line 4\n",
    "#       2 num1 = input(\"숫자1 입력  :\")\n",
    "#       3 num2 = input(\"숫자2 입력 :\")\n",
    "# ----> 4 print(num1 + num2 - 2)\n",
    "\n",
    "# TypeError: unsupported operand type(s) for -: 'str' and 'int'"
   ]
  },
  {
   "cell_type": "code",
   "execution_count": 27,
   "id": "a9fd08e2",
   "metadata": {},
   "outputs": [
    {
     "name": "stdout",
     "output_type": "stream",
     "text": [
      "정수입력 : r\n"
     ]
    },
    {
     "ename": "ValueError",
     "evalue": "invalid literal for int() with base 10: 'r'",
     "output_type": "error",
     "traceback": [
      "\u001b[1;31m---------------------------------------------------------------------------\u001b[0m",
      "\u001b[1;31mValueError\u001b[0m                                Traceback (most recent call last)",
      "Cell \u001b[1;32mIn[27], line 2\u001b[0m\n\u001b[0;32m      1\u001b[0m \u001b[38;5;66;03m# 정수를 입력하지 않은 경우 예외 발생\u001b[39;00m\n\u001b[1;32m----> 2\u001b[0m num_input \u001b[38;5;241m=\u001b[39m \u001b[38;5;28;43mint\u001b[39;49m\u001b[43m(\u001b[49m\u001b[38;5;28;43minput\u001b[39;49m\u001b[43m(\u001b[49m\u001b[38;5;124;43m\"\u001b[39;49m\u001b[38;5;124;43m정수입력 : \u001b[39;49m\u001b[38;5;124;43m\"\u001b[39;49m\u001b[43m)\u001b[49m\u001b[43m)\u001b[49m\n\u001b[0;32m      3\u001b[0m \u001b[38;5;28mprint\u001b[39m(\u001b[38;5;124m\"\u001b[39m\u001b[38;5;124m원의 반지름 : \u001b[39m\u001b[38;5;124m\"\u001b[39m,num_input)\n",
      "\u001b[1;31mValueError\u001b[0m: invalid literal for int() with base 10: 'r'"
     ]
    }
   ],
   "source": [
    "# 정수를 입력하지 않은 경우 예외 발생\n",
    "num_input = int(input(\"정수입력 : \"))\n",
    "print(\"원의 반지름 : \",num_input)\n",
    "\n",
    "# 정수입력 : r\n",
    "# ---------------------------------------------------------------------------\n",
    "# ValueError                                Traceback (most recent call last)\n",
    "# Cell In[27], line 2\n",
    "#       1 # 정수를 입력하지 않은 경우 예외 발생\n",
    "# ----> 2 num_input = int(input(\"정수입력 : \"))\n",
    "#       3 print(\"원의 반지름 : \",num_input)\n",
    "\n",
    "# ValueError: invalid literal for int() with base 10: 'r'"
   ]
  },
  {
   "cell_type": "code",
   "execution_count": 36,
   "id": "887395e7",
   "metadata": {},
   "outputs": [
    {
     "ename": "NameError",
     "evalue": "name 'num_input' is not defined",
     "output_type": "error",
     "traceback": [
      "\u001b[1;31m---------------------------------------------------------------------------\u001b[0m",
      "\u001b[1;31mNameError\u001b[0m                                 Traceback (most recent call last)",
      "Cell \u001b[1;32mIn[36], line 2\u001b[0m\n\u001b[0;32m      1\u001b[0m \u001b[38;5;66;03m# 조건문으로 예외 처리\u001b[39;00m\n\u001b[1;32m----> 2\u001b[0m \u001b[38;5;28;01mif\u001b[39;00m \u001b[38;5;28mtype\u001b[39m(\u001b[43mnum_input\u001b[49m) \u001b[38;5;241m==\u001b[39m \u001b[38;5;28mint\u001b[39m :\n\u001b[0;32m      3\u001b[0m     num_input \u001b[38;5;241m=\u001b[39m \u001b[38;5;28mint\u001b[39m(\u001b[38;5;28minput\u001b[39m(\u001b[38;5;124m\"\u001b[39m\u001b[38;5;124m정수입력 : \u001b[39m\u001b[38;5;124m\"\u001b[39m))\n\u001b[0;32m      4\u001b[0m     \u001b[38;5;28mprint\u001b[39m(\u001b[38;5;124m\"\u001b[39m\u001b[38;5;124m원의 반지름 : \u001b[39m\u001b[38;5;124m\"\u001b[39m,num_input)\n",
      "\u001b[1;31mNameError\u001b[0m: name 'num_input' is not defined"
     ]
    }
   ],
   "source": [
    "# if else 조건문으로 예외 처리\n",
    "if type(num_input) == int : # 조건문 어떻게 만들까?\n",
    "    num_input = int(input(\"정수입력 : \"))\n",
    "    print(\"원의 반지름 : \",num_input)\n",
    "else : \n",
    "    print(\"실패\")"
   ]
  },
  {
   "cell_type": "code",
   "execution_count": 18,
   "id": "37bd0fd6",
   "metadata": {
    "scrolled": true
   },
   "outputs": [
    {
     "ename": "IndexError",
     "evalue": "list index out of range",
     "output_type": "error",
     "traceback": [
      "\u001b[1;31m---------------------------------------------------------------------------\u001b[0m",
      "\u001b[1;31mIndexError\u001b[0m                                Traceback (most recent call last)",
      "Cell \u001b[1;32mIn[18], line 2\u001b[0m\n\u001b[0;32m      1\u001b[0m list10 \u001b[38;5;241m=\u001b[39m [\u001b[38;5;241m1\u001b[39m,\u001b[38;5;241m2\u001b[39m,\u001b[38;5;241m3\u001b[39m,\u001b[38;5;241m4\u001b[39m,\u001b[38;5;241m5\u001b[39m,\u001b[38;5;241m6\u001b[39m,\u001b[38;5;241m7\u001b[39m,\u001b[38;5;241m8\u001b[39m,\u001b[38;5;241m9\u001b[39m,\u001b[38;5;241m10\u001b[39m]\n\u001b[1;32m----> 2\u001b[0m \u001b[43mlist10\u001b[49m\u001b[43m[\u001b[49m\u001b[38;5;241;43m200\u001b[39;49m\u001b[43m]\u001b[49m\n",
      "\u001b[1;31mIndexError\u001b[0m: list index out of range"
     ]
    }
   ],
   "source": [
    "list10 = [1,2,3,4,5,6,7,8,9,10] # list10 은 1부터 10까지..\n",
    "list10[200] # 200을 불러오면 리스트안에 200이없으니 오류\n",
    "\n",
    "# -------------------------------------------------------------\n",
    "# IndexError                                Traceback (most recent call last)\n",
    "# Cell In[18], line 2\n",
    "#       1 list10 = [1,2,3,4,5,6,7,8,9,10]\n",
    "# ----> 2 list10[200]\n",
    "\n",
    "# IndexError: list index out of range--------------"
   ]
  },
  {
   "cell_type": "code",
   "execution_count": 26,
   "id": "5bdac8dc",
   "metadata": {},
   "outputs": [
    {
     "ename": "KeyError",
     "evalue": "4",
     "output_type": "error",
     "traceback": [
      "\u001b[1;31m---------------------------------------------------------------------------\u001b[0m",
      "\u001b[1;31mKeyError\u001b[0m                                  Traceback (most recent call last)",
      "Cell \u001b[1;32mIn[26], line 2\u001b[0m\n\u001b[0;32m      1\u001b[0m num_dict \u001b[38;5;241m=\u001b[39m {\u001b[38;5;241m1\u001b[39m : \u001b[38;5;124m\"\u001b[39m\u001b[38;5;124m일등\u001b[39m\u001b[38;5;124m\"\u001b[39m, \u001b[38;5;241m2\u001b[39m : \u001b[38;5;124m\"\u001b[39m\u001b[38;5;124m이등\u001b[39m\u001b[38;5;124m\"\u001b[39m, \u001b[38;5;241m3\u001b[39m : \u001b[38;5;124m\"\u001b[39m\u001b[38;5;124m삼등\u001b[39m\u001b[38;5;124m\"\u001b[39m}\n\u001b[1;32m----> 2\u001b[0m \u001b[38;5;28mprint\u001b[39m(\u001b[43mnum_dict\u001b[49m\u001b[43m[\u001b[49m\u001b[38;5;241;43m4\u001b[39;49m\u001b[43m]\u001b[49m)\n",
      "\u001b[1;31mKeyError\u001b[0m: 4"
     ]
    }
   ],
   "source": [
    "num_dict = {1 : \"일등\", 2 : \"이등\", 3 : \"삼등\"}\n",
    "print(num_dict[4])\n",
    "\n",
    "# ---------------------------------------------------------------------------\n",
    "# KeyError                                  Traceback (most recent call last)\n",
    "# Cell In[26], line 2\n",
    "#       1 num_dict = {1 : \"일등\", 2 : \"이등\", 3 : \"삼등\"}\n",
    "# ----> 2 print(num_dict[4])\n",
    "\n",
    "# KeyError: 4"
   ]
  },
  {
   "cell_type": "code",
   "execution_count": 37,
   "id": "031562cc",
   "metadata": {},
   "outputs": [
    {
     "ename": "KeyError",
     "evalue": "'c'",
     "output_type": "error",
     "traceback": [
      "\u001b[1;31m---------------------------------------------------------------------------\u001b[0m",
      "\u001b[1;31mKeyError\u001b[0m                                  Traceback (most recent call last)",
      "Cell \u001b[1;32mIn[37], line 2\u001b[0m\n\u001b[0;32m      1\u001b[0m my_dict \u001b[38;5;241m=\u001b[39m {\u001b[38;5;124m'\u001b[39m\u001b[38;5;124ma\u001b[39m\u001b[38;5;124m'\u001b[39m:\u001b[38;5;241m1\u001b[39m,\u001b[38;5;124m'\u001b[39m\u001b[38;5;124mb\u001b[39m\u001b[38;5;124m'\u001b[39m:\u001b[38;5;241m2\u001b[39m}\n\u001b[1;32m----> 2\u001b[0m \u001b[38;5;28mprint\u001b[39m(\u001b[43mmy_dict\u001b[49m\u001b[43m[\u001b[49m\u001b[38;5;124;43m'\u001b[39;49m\u001b[38;5;124;43mc\u001b[39;49m\u001b[38;5;124;43m'\u001b[39;49m\u001b[43m]\u001b[49m)\n",
      "\u001b[1;31mKeyError\u001b[0m: 'c'"
     ]
    }
   ],
   "source": [
    "my_dict = {'a':1,'b':2}\n",
    "print(my_dict['c'])"
   ]
  },
  {
   "cell_type": "code",
   "execution_count": 20,
   "id": "230ba0cf",
   "metadata": {
    "scrolled": true
   },
   "outputs": [
    {
     "ename": "AttributeError",
     "evalue": "'list' object has no attribute 'hotdog'",
     "output_type": "error",
     "traceback": [
      "\u001b[1;31m---------------------------------------------------------------------------\u001b[0m",
      "\u001b[1;31mAttributeError\u001b[0m                            Traceback (most recent call last)",
      "Cell \u001b[1;32mIn[20], line 1\u001b[0m\n\u001b[1;32m----> 1\u001b[0m \u001b[43mlist10\u001b[49m\u001b[38;5;241;43m.\u001b[39;49m\u001b[43mhotdog\u001b[49m()\n",
      "\u001b[1;31mAttributeError\u001b[0m: 'list' object has no attribute 'hotdog'"
     ]
    }
   ],
   "source": [
    "list10 = [1,2,3,4,5,6,7,8,9,10]\n",
    "list10.hotdog()\n",
    "\n",
    "# ---------------------------------------------------------------------------\n",
    "# AttributeError                            Traceback (most recent call last)\n",
    "# Cell In[20], line 1\n",
    "# ----> 1 list10.hotdog()\n",
    "\n",
    "# AttributeError: 'list' object has no attribute 'hotdog'"
   ]
  },
  {
   "cell_type": "code",
   "execution_count": 23,
   "id": "345f5133",
   "metadata": {},
   "outputs": [
    {
     "ename": "FileNotFoundError",
     "evalue": "[Errno 2] No such file or directory: 'hotdog.jpg'",
     "output_type": "error",
     "traceback": [
      "\u001b[1;31m---------------------------------------------------------------------------\u001b[0m",
      "\u001b[1;31mFileNotFoundError\u001b[0m                         Traceback (most recent call last)",
      "Cell \u001b[1;32mIn[23], line 1\u001b[0m\n\u001b[1;32m----> 1\u001b[0m f \u001b[38;5;241m=\u001b[39m \u001b[38;5;28;43mopen\u001b[39;49m\u001b[43m(\u001b[49m\u001b[38;5;124;43m'\u001b[39;49m\u001b[38;5;124;43mhotdog.jpg\u001b[39;49m\u001b[38;5;124;43m'\u001b[39;49m\u001b[43m,\u001b[49m\u001b[38;5;124;43m'\u001b[39;49m\u001b[38;5;124;43mr\u001b[39;49m\u001b[38;5;124;43m'\u001b[39;49m\u001b[43m)\u001b[49m\n\u001b[0;32m      2\u001b[0m f\u001b[38;5;241m.\u001b[39mclose()\n",
      "File \u001b[1;32mC:\\anaconda3\\envs\\kita\\lib\\site-packages\\IPython\\core\\interactiveshell.py:286\u001b[0m, in \u001b[0;36m_modified_open\u001b[1;34m(file, *args, **kwargs)\u001b[0m\n\u001b[0;32m    279\u001b[0m \u001b[38;5;28;01mif\u001b[39;00m file \u001b[38;5;129;01min\u001b[39;00m {\u001b[38;5;241m0\u001b[39m, \u001b[38;5;241m1\u001b[39m, \u001b[38;5;241m2\u001b[39m}:\n\u001b[0;32m    280\u001b[0m     \u001b[38;5;28;01mraise\u001b[39;00m \u001b[38;5;167;01mValueError\u001b[39;00m(\n\u001b[0;32m    281\u001b[0m         \u001b[38;5;124mf\u001b[39m\u001b[38;5;124m\"\u001b[39m\u001b[38;5;124mIPython won\u001b[39m\u001b[38;5;124m'\u001b[39m\u001b[38;5;124mt let you open fd=\u001b[39m\u001b[38;5;132;01m{\u001b[39;00mfile\u001b[38;5;132;01m}\u001b[39;00m\u001b[38;5;124m by default \u001b[39m\u001b[38;5;124m\"\u001b[39m\n\u001b[0;32m    282\u001b[0m         \u001b[38;5;124m\"\u001b[39m\u001b[38;5;124mas it is likely to crash IPython. If you know what you are doing, \u001b[39m\u001b[38;5;124m\"\u001b[39m\n\u001b[0;32m    283\u001b[0m         \u001b[38;5;124m\"\u001b[39m\u001b[38;5;124myou can use builtins\u001b[39m\u001b[38;5;124m'\u001b[39m\u001b[38;5;124m open.\u001b[39m\u001b[38;5;124m\"\u001b[39m\n\u001b[0;32m    284\u001b[0m     )\n\u001b[1;32m--> 286\u001b[0m \u001b[38;5;28;01mreturn\u001b[39;00m io_open(file, \u001b[38;5;241m*\u001b[39margs, \u001b[38;5;241m*\u001b[39m\u001b[38;5;241m*\u001b[39mkwargs)\n",
      "\u001b[1;31mFileNotFoundError\u001b[0m: [Errno 2] No such file or directory: 'hotdog.jpg'"
     ]
    }
   ],
   "source": [
    "f = open('hotdog.jpg','r')\n",
    "f.close()\n",
    "\n",
    "# ---------------------------------------------------------------------------\n",
    "# FileNotFoundError                         Traceback (most recent call last)\n",
    "# Cell In[23], line 1\n",
    "# ----> 1 f = open('hotdog.jpg','r')\n",
    "#       2 f.close()\n",
    "\n",
    "# File C:\\anaconda3\\envs\\kita\\lib\\site-packages\\IPython\\core\\interactiveshell.py:286, in _modified_open(file, *args, **kwargs)\n",
    "#     279 if file in {0, 1, 2}:\n",
    "#     280     raise ValueError(\n",
    "#     281         f\"IPython won't let you open fd={file} by default \"\n",
    "#     282         \"as it is likely to crash IPython. If you know what you are doing, \"\n",
    "#     283         \"you can use builtins' open.\"\n",
    "#     284     )\n",
    "# --> 286 return io_open(file, *args, **kwargs)\n",
    "\n",
    "# FileNotFoundError: [Errno 2] No such file or directory: 'hotdog.jpg'"
   ]
  },
  {
   "cell_type": "code",
   "execution_count": 38,
   "id": "46a75a21",
   "metadata": {},
   "outputs": [
    {
     "ename": "FileNotFoundError",
     "evalue": "[Errno 2] No such file or directory: 'non_existent_file.txt'",
     "output_type": "error",
     "traceback": [
      "\u001b[1;31m---------------------------------------------------------------------------\u001b[0m",
      "\u001b[1;31mFileNotFoundError\u001b[0m                         Traceback (most recent call last)",
      "Cell \u001b[1;32mIn[38], line 1\u001b[0m\n\u001b[1;32m----> 1\u001b[0m \u001b[38;5;28;01mwith\u001b[39;00m \u001b[38;5;28;43mopen\u001b[39;49m\u001b[43m(\u001b[49m\u001b[38;5;124;43m'\u001b[39;49m\u001b[38;5;124;43mnon_existent_file.txt\u001b[39;49m\u001b[38;5;124;43m'\u001b[39;49m\u001b[43m)\u001b[49m \u001b[38;5;28;01mas\u001b[39;00m f :\n\u001b[0;32m      2\u001b[0m     read_data \u001b[38;5;241m=\u001b[39m f\u001b[38;5;241m.\u001b[39mread()\n",
      "File \u001b[1;32mC:\\anaconda3\\envs\\kita\\lib\\site-packages\\IPython\\core\\interactiveshell.py:286\u001b[0m, in \u001b[0;36m_modified_open\u001b[1;34m(file, *args, **kwargs)\u001b[0m\n\u001b[0;32m    279\u001b[0m \u001b[38;5;28;01mif\u001b[39;00m file \u001b[38;5;129;01min\u001b[39;00m {\u001b[38;5;241m0\u001b[39m, \u001b[38;5;241m1\u001b[39m, \u001b[38;5;241m2\u001b[39m}:\n\u001b[0;32m    280\u001b[0m     \u001b[38;5;28;01mraise\u001b[39;00m \u001b[38;5;167;01mValueError\u001b[39;00m(\n\u001b[0;32m    281\u001b[0m         \u001b[38;5;124mf\u001b[39m\u001b[38;5;124m\"\u001b[39m\u001b[38;5;124mIPython won\u001b[39m\u001b[38;5;124m'\u001b[39m\u001b[38;5;124mt let you open fd=\u001b[39m\u001b[38;5;132;01m{\u001b[39;00mfile\u001b[38;5;132;01m}\u001b[39;00m\u001b[38;5;124m by default \u001b[39m\u001b[38;5;124m\"\u001b[39m\n\u001b[0;32m    282\u001b[0m         \u001b[38;5;124m\"\u001b[39m\u001b[38;5;124mas it is likely to crash IPython. If you know what you are doing, \u001b[39m\u001b[38;5;124m\"\u001b[39m\n\u001b[0;32m    283\u001b[0m         \u001b[38;5;124m\"\u001b[39m\u001b[38;5;124myou can use builtins\u001b[39m\u001b[38;5;124m'\u001b[39m\u001b[38;5;124m open.\u001b[39m\u001b[38;5;124m\"\u001b[39m\n\u001b[0;32m    284\u001b[0m     )\n\u001b[1;32m--> 286\u001b[0m \u001b[38;5;28;01mreturn\u001b[39;00m io_open(file, \u001b[38;5;241m*\u001b[39margs, \u001b[38;5;241m*\u001b[39m\u001b[38;5;241m*\u001b[39mkwargs)\n",
      "\u001b[1;31mFileNotFoundError\u001b[0m: [Errno 2] No such file or directory: 'non_existent_file.txt'"
     ]
    }
   ],
   "source": [
    "with open('non_existent_file.txt') as f :\n",
    "    read_data = f.read()"
   ]
  },
  {
   "cell_type": "code",
   "execution_count": 17,
   "id": "04eedb6d",
   "metadata": {},
   "outputs": [
    {
     "ename": "ZeroDivisionError",
     "evalue": "integer division or modulo by zero",
     "output_type": "error",
     "traceback": [
      "\u001b[1;31m---------------------------------------------------------------------------\u001b[0m",
      "\u001b[1;31mZeroDivisionError\u001b[0m                         Traceback (most recent call last)",
      "Cell \u001b[1;32mIn[17], line 1\u001b[0m\n\u001b[1;32m----> 1\u001b[0m \u001b[38;5;28mprint\u001b[39m(\u001b[38;5;241;43m10\u001b[39;49m\u001b[38;5;241;43m/\u001b[39;49m\u001b[38;5;241;43m/\u001b[39;49m\u001b[38;5;241;43m0\u001b[39;49m)\n",
      "\u001b[1;31mZeroDivisionError\u001b[0m: integer division or modulo by zero"
     ]
    }
   ],
   "source": [
    "print(10//0) # 10 나누기 0\n",
    "\n",
    "# ---------------------------------------------------------------------------\n",
    "# ZeroDivisionError                         Traceback (most recent call last)\n",
    "# Cell In[17], line 1\n",
    "# ----> 1 print(10//0)\n",
    "\n",
    "# ZeroDivisionError: integer division or modulo by zero"
   ]
  },
  {
   "cell_type": "code",
   "execution_count": 19,
   "id": "cf7dafd6",
   "metadata": {
    "scrolled": false
   },
   "outputs": [
    {
     "ename": "ModuleNotFoundError",
     "evalue": "No module named 'hotdog'",
     "output_type": "error",
     "traceback": [
      "\u001b[1;31m---------------------------------------------------------------------------\u001b[0m",
      "\u001b[1;31mModuleNotFoundError\u001b[0m                       Traceback (most recent call last)",
      "Cell \u001b[1;32mIn[19], line 1\u001b[0m\n\u001b[1;32m----> 1\u001b[0m \u001b[38;5;28;01mimport\u001b[39;00m \u001b[38;5;21;01mhotdog\u001b[39;00m\n",
      "\u001b[1;31mModuleNotFoundError\u001b[0m: No module named 'hotdog'"
     ]
    }
   ],
   "source": [
    "import hotdog\n",
    "\n",
    "# ---------------------------------------------------------------------------\n",
    "# ModuleNotFoundError                       Traceback (most recent call last)\n",
    "# Cell In[19], line 1\n",
    "# ----> 1 import hotdog\n",
    "\n",
    "# ModuleNotFoundError: No module named 'hotdog'"
   ]
  },
  {
   "cell_type": "code",
   "execution_count": 25,
   "id": "652c40e9",
   "metadata": {},
   "outputs": [
    {
     "ename": "StopIteration",
     "evalue": "",
     "output_type": "error",
     "traceback": [
      "\u001b[1;31m---------------------------------------------------------------------------\u001b[0m",
      "\u001b[1;31mStopIteration\u001b[0m                             Traceback (most recent call last)",
      "Cell \u001b[1;32mIn[25], line 6\u001b[0m\n\u001b[0;32m      4\u001b[0m \u001b[38;5;28mnext\u001b[39m(my_iterator)\n\u001b[0;32m      5\u001b[0m \u001b[38;5;28mnext\u001b[39m(my_iterator)\n\u001b[1;32m----> 6\u001b[0m \u001b[38;5;28;43mnext\u001b[39;49m\u001b[43m(\u001b[49m\u001b[43mmy_iterator\u001b[49m\u001b[43m)\u001b[49m\n",
      "\u001b[1;31mStopIteration\u001b[0m: "
     ]
    }
   ],
   "source": [
    "# StopIteration : 이터레이터가 더 이상 값을 제공하지 않음. 모든 값을 이미 소진한 이터레이터에 대해 next()를 호출하면 StopIteration 발생\n",
    "my_iterator = iter([1,2,3])\n",
    "next(my_iterator)\n",
    "next(my_iterator)\n",
    "next(my_iterator)\n",
    "next(my_iterator) # 여기서 StopIteration 발생"
   ]
  },
  {
   "cell_type": "code",
   "execution_count": null,
   "id": "f2da261d",
   "metadata": {},
   "outputs": [],
   "source": [
    "# MemoryError : 매우 큰 메모리 할당 시도. 시스템에서 제공하는 메모리 용량을 초과하려고 하면 MemoryError 가 발생\n",
    "# very_large_list = [0] * (10**10) # 실행하면.... 에러 발생 # 돌리지 말자..!!! XXX"
   ]
  },
  {
   "cell_type": "code",
   "execution_count": null,
   "id": "8d1b2ec7",
   "metadata": {},
   "outputs": [],
   "source": [
    "# RecursionError : 너무 많은 재귀 호출\n",
    "# 아무런 종료 조건 없이 자기 자신을 계속해서 호출하므로,\n",
    "# 파이썬의 최대 재귀 깊이에 도달할때까지 실행.\n",
    "# 이 한계 (1000번정도,,) 에 도달하면 예외가 발생\n",
    "\n",
    "# def recursive_function(): # 돌리지 말자!!!!!! ㄴㄴㄴㄴㄴ\n",
    "#     recursive_function()\n",
    "# recursive_function()"
   ]
  },
  {
   "cell_type": "markdown",
   "id": "6cb3906f",
   "metadata": {},
   "source": [
    "#### 파이썬에서 예외 처리\n",
    "프로그램 실행 중 발생할 수 있는 오류를 예상하고 관리할 수 있게 하는 강력한 기능이다. 이는 try, except, else, finally 블록을 사용해 수행된다. 각 구성 요소에 대해 간략히 설명하자면:\n",
    "\n",
    "- try: 이 코드 블록은 예외를 발생시킬 수 있는 연산을 포함한다. 코드가 오류를 일으킬 수 있다는 것을 \"시도\"하는 곳이다.b\n",
    "\n",
    "- except: try 블록 내에서 오류가 발생하면, 파이썬은 그 블록의 실행을 멈추고 except 블록으로 점프한다. except 블록에서는 예외를 처리한다, 즉 오류에 대응하는 코드가 들어간다. 특정 예외를 이름으로 잡거나 모든 예외를 잡을 수 있다.\n",
    "\n",
    "- else: 이 블록은 선택적이며 try-except 블록 뒤에 올 수 있다. else 블록의 코드는 try 블록에서 예외가 발생하지 않았을 때만 실행된다. try 블록이 성공적으로 실행됐을 때만 실행되어야 하는 코드를 넣기에 적합하다.\n",
    "\n",
    "- finally: 이 블록은 선택적이지만, 존재한다면 예외 발생 여부와 관계없이 실행된다. 파일을 닫거나 리소스를 해제하는 등의 정리 작업을 위해 자주 사용된다. 이 작업들은 오류 발생 여부와 관계없이 수행되어야 한다.\n",
    "#### 예외 처리 방법\n",
    "- try + except<br>\n",
    "  try : 에러가 발생할 것 같은, 예외처리를 하고 싶은 곳을 찾아서 try 구문에 코드를 작성합니다.<br>\n",
    "  except : 에러가 발생했을 때 처리할 코드를 작성합니다.\n",
    "- try + except + else<br>\n",
    "  else 는 에러가 발생하지 않았을때 거치는 구문입니다. else만 단독으로 try + else 는 불가능합니다. except 가 있어야 합니다.\n",
    "- try + finally<br>\n",
    "  finally 는 에러가 발생해도, 발생하지 않아도 무조건 거치는 구문입니다.except. 없이 try + finally 만 사용한다면 에러가 발생한 후에 finally 구문까지만 실행이 되고 프로그램이 중간에 죽게 됩니다.\n",
    "- try + except + finally\n",
    "  <br> except 구문을 추가하고 finally 구문도 있음\n",
    "- try + except + else + finally\n",
    "  <br> try (해당 구문 안에서 에러 발생 시 처리 가능 - 필수)\n",
    "  <br> except (에러 발생시 수행 - 선택이지만 에러를 처리하려면 필수)\n",
    "  <br> else (에러 없을 때 수행 - 선택이지만 except 없이는 올 수 없음)\n",
    "  <br> finally (에러가 있거나 없거나 상관없이 항상 수행 - 선택)"
   ]
  },
  {
   "cell_type": "code",
   "execution_count": 6,
   "id": "fd59c205",
   "metadata": {},
   "outputs": [
    {
     "name": "stdout",
     "output_type": "stream",
     "text": [
      "An error occurred: name 'unknown_var' is not defined\n"
     ]
    }
   ],
   "source": [
    "try :\n",
    "    print(unknown_var)\n",
    "except NameError as e :\n",
    "    print(f\"An error occurred: {e}\")"
   ]
  },
  {
   "cell_type": "code",
   "execution_count": 9,
   "id": "31b16857",
   "metadata": {},
   "outputs": [
    {
     "name": "stdout",
     "output_type": "stream",
     "text": [
      "An error occurred : can only concatenate str (not \"int\") to str\n"
     ]
    }
   ],
   "source": [
    "try : \n",
    "    '2' + 2\n",
    "except TypeError as e:\n",
    "    print(f\"An error occurred : {e}\")"
   ]
  },
  {
   "cell_type": "code",
   "execution_count": 11,
   "id": "0c989417",
   "metadata": {},
   "outputs": [
    {
     "name": "stdout",
     "output_type": "stream",
     "text": [
      "An error occurred : invalid literal for int() with base 10: 'abc'\n"
     ]
    }
   ],
   "source": [
    "try : \n",
    "    int('abc')\n",
    "except ValueError as e:\n",
    "    print(f\"An error occurred : {e}\")"
   ]
  },
  {
   "cell_type": "code",
   "execution_count": 13,
   "id": "541d0bb4",
   "metadata": {},
   "outputs": [
    {
     "name": "stdout",
     "output_type": "stream",
     "text": [
      "An error occurred : list index out of range\n"
     ]
    }
   ],
   "source": [
    "my_list =[1,2,3]\n",
    "try : \n",
    "    print(my_list[3])\n",
    "except IndexError as e:\n",
    "    print(f\"An error occurred : {e}\")"
   ]
  },
  {
   "cell_type": "code",
   "execution_count": 17,
   "id": "c18d8fb0",
   "metadata": {},
   "outputs": [
    {
     "name": "stdout",
     "output_type": "stream",
     "text": [
      "The key wasn't found : 'c'\n"
     ]
    }
   ],
   "source": [
    "my_dict = {'a':1, 'b':2}\n",
    "try : \n",
    "    print(my_dict['c'])\n",
    "except KeyError as e:\n",
    "    print(f\"The key wasn't found : {e}\")"
   ]
  },
  {
   "cell_type": "code",
   "execution_count": 18,
   "id": "cc5364c1",
   "metadata": {},
   "outputs": [
    {
     "name": "stdout",
     "output_type": "stream",
     "text": [
      "An error occurred : 'list' object has no attribute 'push'\n"
     ]
    }
   ],
   "source": [
    "my_list = [1,2,3]\n",
    "try : \n",
    "    my_list.push(4)\n",
    "except AttributeError as e :\n",
    "    print(f\"An error occurred : {e}\")"
   ]
  },
  {
   "cell_type": "code",
   "execution_count": 19,
   "id": "d075eb35",
   "metadata": {},
   "outputs": [
    {
     "name": "stdout",
     "output_type": "stream",
     "text": [
      "File error : [Errno 2] No such file or directory: 'non_existent_file.txt'\n"
     ]
    }
   ],
   "source": [
    "try : \n",
    "    with open('non_existent_file.txt') as f :\n",
    "        read_data = f.read()\n",
    "except OSError as e :\n",
    "    print(f\"File error : {e}\")"
   ]
  },
  {
   "cell_type": "code",
   "execution_count": 20,
   "id": "5497dabd",
   "metadata": {},
   "outputs": [
    {
     "name": "stdout",
     "output_type": "stream",
     "text": [
      "Math error : division by zero\n"
     ]
    }
   ],
   "source": [
    "try :\n",
    "    division = 10/0\n",
    "except ZeroDivisionError as e :\n",
    "    print(f\"Math error : {e}\")"
   ]
  },
  {
   "cell_type": "code",
   "execution_count": 22,
   "id": "80f69041",
   "metadata": {},
   "outputs": [
    {
     "name": "stdout",
     "output_type": "stream",
     "text": [
      "import error : No module named 'non_existent_module'\n"
     ]
    }
   ],
   "source": [
    "try : \n",
    "    import non_existent_module\n",
    "except ImportError as e :\n",
    "    print(f\"import error : {e}\")"
   ]
  },
  {
   "cell_type": "code",
   "execution_count": 24,
   "id": "23c96eca",
   "metadata": {},
   "outputs": [
    {
     "name": "stdout",
     "output_type": "stream",
     "text": [
      "1\n",
      "2\n",
      "3\n",
      "Reached the end of the iterator.\n"
     ]
    }
   ],
   "source": [
    "my_iterator = iter([1,2,3])\n",
    "try : \n",
    "    while True : \n",
    "        item = next(my_iterator)\n",
    "        print(item)\n",
    "except StopIteration : \n",
    "    print(\"Reached the end of the iterator.\")"
   ]
  },
  {
   "cell_type": "code",
   "execution_count": 26,
   "id": "154ba08b",
   "metadata": {},
   "outputs": [
    {
     "name": "stdout",
     "output_type": "stream",
     "text": [
      "Not enough memory : \n"
     ]
    }
   ],
   "source": [
    "try : \n",
    "#     very_large_list = [0] * (10**10) #### 실행 XXXXXXX ####\n",
    "except MemoryError as e :\n",
    "    print(f\"Not enough memory : {e}\")"
   ]
  },
  {
   "cell_type": "code",
   "execution_count": null,
   "id": "88ae684e",
   "metadata": {},
   "outputs": [],
   "source": [
    "#  이에러 뜨면 1000번을 넘게 재귀를 돌렸구나.. 라고 알면 됨 실행 XX\n",
    "# def recursive_function(): ##### 실행 XXXX ###\n",
    "    recursive_function()\n",
    "try : \n",
    "    recursive _ function()\n",
    "except RecursionError as e :\n",
    "    print(f\"Recursion limit reached: {e}\")"
   ]
  },
  {
   "cell_type": "code",
   "execution_count": 27,
   "id": "f7f57ad9",
   "metadata": {},
   "outputs": [
    {
     "name": "stdout",
     "output_type": "stream",
     "text": [
      "안녕하세요\n",
      "예외가 발생했습니다.\n"
     ]
    }
   ],
   "source": [
    "try :\n",
    "    print(\"안녕하세요\")\n",
    "    print(param)\n",
    "except : \n",
    "    print(\"예외가 발생했습니다.\")"
   ]
  },
  {
   "cell_type": "code",
   "execution_count": 44,
   "id": "7e6163de",
   "metadata": {},
   "outputs": [
    {
     "name": "stdout",
     "output_type": "stream",
     "text": [
      "g\n",
      "==Mid\n",
      "예외가 발생하지 않았습니다.\n"
     ]
    }
   ],
   "source": [
    "arr = ['b','l','o','g']\n",
    "try : \n",
    "    print(arr[3]) # error\n",
    "    print(\"==Mid\") \n",
    "except :\n",
    "    print(\"헉! 예외다!\")\n",
    "else : \n",
    "    print(\"예외가 발생하지 않았습니다.\") # arr[3] 하면 예외가 없으니까 except 구문 실행 안하고 try를 실행하고 else 도 실행\n",
    "# else 는 예외가 발생하지 않았을때 실행"
   ]
  },
  {
   "cell_type": "code",
   "execution_count": 35,
   "id": "b148fc24",
   "metadata": {},
   "outputs": [
    {
     "name": "stdout",
     "output_type": "stream",
     "text": [
      "list index out of range : list index out of range\n"
     ]
    }
   ],
   "source": [
    "arr = ['b','l','o','g']\n",
    "try : \n",
    "    print(arr[8])\n",
    "except IndexError as e :\n",
    "    print(f\"list index out of range : {e}\")"
   ]
  },
  {
   "cell_type": "code",
   "execution_count": 59,
   "id": "0f17c5c5",
   "metadata": {
    "scrolled": true
   },
   "outputs": [
    {
     "name": "stdout",
     "output_type": "stream",
     "text": [
      "== Program Start\n",
      "== finally\n"
     ]
    },
    {
     "ename": "IndexError",
     "evalue": "list index out of range",
     "output_type": "error",
     "traceback": [
      "\u001b[1;31m---------------------------------------------------------------------------\u001b[0m",
      "\u001b[1;31mIndexError\u001b[0m                                Traceback (most recent call last)",
      "Cell \u001b[1;32mIn[59], line 4\u001b[0m\n\u001b[0;32m      2\u001b[0m \u001b[38;5;28;01mtry\u001b[39;00m :\n\u001b[0;32m      3\u001b[0m     arr \u001b[38;5;241m=\u001b[39m [\u001b[38;5;124m'\u001b[39m\u001b[38;5;124mb\u001b[39m\u001b[38;5;124m'\u001b[39m,\u001b[38;5;124m'\u001b[39m\u001b[38;5;124ml\u001b[39m\u001b[38;5;124m'\u001b[39m,\u001b[38;5;124m'\u001b[39m\u001b[38;5;124mo\u001b[39m\u001b[38;5;124m'\u001b[39m,\u001b[38;5;124m'\u001b[39m\u001b[38;5;124mg\u001b[39m\u001b[38;5;124m'\u001b[39m]\n\u001b[1;32m----> 4\u001b[0m     \u001b[38;5;28mprint\u001b[39m(\u001b[43marr\u001b[49m\u001b[43m[\u001b[49m\u001b[38;5;241;43m8\u001b[39;49m\u001b[43m]\u001b[49m) \u001b[38;5;66;03m# error\u001b[39;00m\n\u001b[0;32m      5\u001b[0m     \u001b[38;5;28mprint\u001b[39m(\u001b[38;5;124m\"\u001b[39m\u001b[38;5;124m== Mid\u001b[39m\u001b[38;5;124m\"\u001b[39m)\n\u001b[0;32m      6\u001b[0m \u001b[38;5;28;01mfinally\u001b[39;00m : \u001b[38;5;66;03m# finally 는 에러가 나든 안나든 무조건 실행\u001b[39;00m\n",
      "\u001b[1;31mIndexError\u001b[0m: list index out of range"
     ]
    }
   ],
   "source": [
    "print(\"== Program Start\")\n",
    "try :\n",
    "    arr = ['b','l','o','g']\n",
    "    print(arr[8]) # error\n",
    "    print(\"== Mid\")\n",
    "finally : # finally 는 에러가 나든 안나든 무조건 실행\n",
    "    print(\"== finally\")\n",
    "\n",
    "print(\"== Program End\")"
   ]
  },
  {
   "cell_type": "code",
   "execution_count": 1,
   "id": "f6ee8e6a",
   "metadata": {},
   "outputs": [
    {
     "name": "stdout",
     "output_type": "stream",
     "text": [
      "1\n",
      "사용자에 의해 프로그램이 중단되었습니다.\n"
     ]
    }
   ],
   "source": [
    "import time\n",
    "count = 1 \n",
    "try : \n",
    "    while True :\n",
    "        print(count)\n",
    "        count += 1\n",
    "        time.sleep(1)\n",
    "except KeyboardInterrupt :\n",
    "    print(\"사용자에 의해 프로그램이 중단되었습니다.\")"
   ]
  },
  {
   "cell_type": "code",
   "execution_count": 58,
   "id": "27ffbc3f",
   "metadata": {},
   "outputs": [
    {
     "name": "stdout",
     "output_type": "stream",
     "text": [
      "name 'param' is not defined\n"
     ]
    }
   ],
   "source": [
    "# 코드에서 예외 발생 내용을 확인하고자 하는경우 처리 발생\n",
    "try: \n",
    "    print(param)\n",
    "except Exception as e : # Exception  -> 어떤 예외일지 문구 잘 모를때 이거 넣음 됨!\n",
    "    print(e)"
   ]
  },
  {
   "cell_type": "code",
   "execution_count": 50,
   "id": "c3af1f5b",
   "metadata": {},
   "outputs": [
    {
     "name": "stdout",
     "output_type": "stream",
     "text": [
      "예외가 발생했습니다.\n",
      "무조건 실행하는 코드\n"
     ]
    }
   ],
   "source": [
    "try : \n",
    "    arr = ['b','l','o','g']\n",
    "    print(arr[8]) # error\n",
    "    print(\"== Mid\") # try 안에 예외가 있기때문에 try실행안하고 except 실행. 그리고 finally 는 오류 상관없이 무조건 실행.\n",
    "except : \n",
    "    print(\"예외가 발생했습니다.\")\n",
    "finally  :\n",
    "    print(\"무조건 실행하는 코드\")"
   ]
  },
  {
   "cell_type": "code",
   "execution_count": 62,
   "id": "7add05e3",
   "metadata": {},
   "outputs": [
    {
     "name": "stdout",
     "output_type": "stream",
     "text": [
      "== Program Start\n",
      "== except\n",
      "== finally\n",
      "== Program End\n"
     ]
    }
   ],
   "source": [
    "print(\"== Program Start\")\n",
    "try :\n",
    "    arr = ['b','l','o','g']\n",
    "# print(arr[0]) # not error\n",
    "    print(arr[111]) # error\n",
    "    print(\"== Mid\")\n",
    "except : \n",
    "    print(\"== except\")\n",
    "else : # 예외가 발생하지 않았을때 실행..\n",
    "    print(\"== else\")\n",
    "finally : \n",
    "    print(\"== finally\")\n",
    "\n",
    "print(\"== Program End\")"
   ]
  },
  {
   "cell_type": "code",
   "execution_count": null,
   "id": "459e0635",
   "metadata": {},
   "outputs": [],
   "source": [
    "#### 과제1_1107 : 4가지 예외 처리가 필요한 경우에 대해서 코딩을 수행하세요.\n",
    "1. try - except\n",
    "2. try - except - finally \n",
    "3. try - except - else\n",
    "4. try - except - else -finally"
   ]
  },
  {
   "cell_type": "code",
   "execution_count": null,
   "id": "cbaaa9ea",
   "metadata": {},
   "outputs": [],
   "source": [
    "# 과제1_1107 심주승님 솔루션\n",
    "# 1-1\n",
    "try:\n",
    "    ans = int(input('정수값을 입력하세요: '))\n",
    "except:\n",
    "    print('잘못 입력하셨습니다. 다음에 다시 이용해주세요.')\n",
    "    \n",
    "# 1-2\n",
    "try:\n",
    "    ans = int(input('정수값을 입력하세요: '))\n",
    "except:\n",
    "    print('잘못 입력하셨습니다. 다음에 다시 이용해주세요.')\n",
    "finally:\n",
    "    print('프로그램을 종료합니다.')\n",
    "\n",
    "# 1-3\n",
    "try:\n",
    "    ans = int(input('정수값을 입력하세요: '))\n",
    "except:\n",
    "    print('잘못 입력하셨습니다. 다음에 다시 이용해주세요.')\n",
    "else:\n",
    "    print(f'오늘의 행운의 숫자는 {ans}입니다.')\n",
    "    \n",
    "# 1-4\n",
    "try:\n",
    "    ans = int(input('정수값을 입력하세요: '))\n",
    "except:\n",
    "    print('잘못 입력하셨습니다. 다음에 다시 이용해주세요.')\n",
    "else:\n",
    "    print(f'오늘의 행운의 숫자는 {ans}입니다.')\n",
    "finally:\n",
    "    print('프로그램을 종료합니다.')"
   ]
  },
  {
   "cell_type": "code",
   "execution_count": 2,
   "id": "7082d64c",
   "metadata": {},
   "outputs": [
    {
     "name": "stdout",
     "output_type": "stream",
     "text": [
      "정수 입력 : ㄹ\n",
      "정수만을 입력해야 합니다.\n"
     ]
    }
   ],
   "source": [
    "# 과제1_1107 솔루션\n",
    "# try - except\n",
    "try : \n",
    "    num = int(input(\"정수 입력 : \"))\n",
    "    print(num)\n",
    "except : \n",
    "    print(\"정수만을 입력해야 합니다.\")"
   ]
  },
  {
   "cell_type": "code",
   "execution_count": null,
   "id": "b8b26ef3",
   "metadata": {},
   "outputs": [],
   "source": [
    "# 과제1_1107 솔루션\n",
    "# try - except - finally \n",
    "try : \n",
    "    num = int(input(\"정수 입력 : \"))\n",
    "    print(num)\n",
    "except : \n",
    "    print(\"정수만을 입력해야 합니다.\")\n",
    "finally : \n",
    "    print(\"\")"
   ]
  },
  {
   "cell_type": "code",
   "execution_count": 57,
   "id": "a8086531",
   "metadata": {},
   "outputs": [
    {
     "name": "stdout",
     "output_type": "stream",
     "text": [
      "정수 숫자를 입력해 주세요.123\n",
      "124\n"
     ]
    }
   ],
   "source": [
    "try : \n",
    "    i = int(input(\"정수 숫자를 입력해 주세요.\"))\n",
    "    print(i+1)\n",
    "except :\n",
    "    print(\"input 값은 정수가 아닙니다. 정수를 입력해주세요.\")"
   ]
  },
  {
   "cell_type": "code",
   "execution_count": null,
   "id": "a5535bee",
   "metadata": {},
   "outputs": [],
   "source": [
    "# Q1. 리스트 ['52','273','32','문자','103'] 에서 숫자 부분만 출력하세요.[예외 처리 수행]"
   ]
  },
  {
   "cell_type": "code",
   "execution_count": null,
   "id": "88cd3301",
   "metadata": {},
   "outputs": [],
   "source": [
    "# Q1. 솔루션\n",
    "list1107 = ['52','273','32','문자','103']\n",
    "try : \n",
    "    print(list1107)\n",
    "except : \n",
    "    "
   ]
  },
  {
   "cell_type": "code",
   "execution_count": 3,
   "id": "12d51ccf",
   "metadata": {},
   "outputs": [
    {
     "name": "stdout",
     "output_type": "stream",
     "text": [
      "[52, 273, 32, 103]\n"
     ]
    }
   ],
   "source": [
    "list1 = ['52', '273', '32', '문자', '103']\n",
    "result = []\n",
    "for i in list1:\n",
    "    try:\n",
    "        result.append(int(i))\n",
    "    except:\n",
    "        pass # 예외가 발생하는 상황(int(i) != '문자') 이 오면 pass 해라\n",
    "print(result)"
   ]
  },
  {
   "cell_type": "code",
   "execution_count": 4,
   "id": "5539050e",
   "metadata": {},
   "outputs": [
    {
     "name": "stdout",
     "output_type": "stream",
     "text": [
      "52\n",
      "273\n",
      "32\n",
      "103\n"
     ]
    }
   ],
   "source": [
    "list1 = ['52','273','32','문자','103']\n",
    "for item in list1:\n",
    "    try:\n",
    "        print(int(item))\n",
    "    except:\n",
    "        continue"
   ]
  },
  {
   "cell_type": "code",
   "execution_count": 5,
   "id": "04dc9c3a",
   "metadata": {},
   "outputs": [
    {
     "name": "stdout",
     "output_type": "stream",
     "text": [
      "['52', '273', '32', '103']\n"
     ]
    }
   ],
   "source": [
    "list_input = ['52', '273', '32', '문자', '103']\n",
    "list_num = []\n",
    "for i in list_input:\n",
    "    try:\n",
    "        int(i)\n",
    "    except ValueError:\n",
    "        pass\n",
    "    else:\n",
    "        list_num.append(i)\n",
    "print(list_num)"
   ]
  },
  {
   "cell_type": "code",
   "execution_count": null,
   "id": "9062e291",
   "metadata": {},
   "outputs": [],
   "source": [
    "# Q2. 정수를 입력하면 '정수', 정수가 아니면 '정수 아님'을 출력하세요"
   ]
  },
  {
   "cell_type": "code",
   "execution_count": 7,
   "id": "33c6279d",
   "metadata": {
    "scrolled": true
   },
   "outputs": [
    {
     "name": "stdout",
     "output_type": "stream",
     "text": [
      "정수 입력 : 12\n",
      "정수\n"
     ]
    }
   ],
   "source": [
    "# Q2. 솔루션\n",
    "try :\n",
    "    js = int(input(\"정수 입력 : \"))\n",
    "#     if type(js) == int : #이거 안해도됨..... 왜냐면 예외 처리 니까 int 값 입력 안하면 오류 뜨는데 그럼 정수아님 출력..\n",
    "        print(\"정수\")\n",
    "except :\n",
    "    print(\"정수 아님\")"
   ]
  },
  {
   "cell_type": "code",
   "execution_count": 13,
   "id": "bf8c6f72",
   "metadata": {},
   "outputs": [
    {
     "name": "stdout",
     "output_type": "stream",
     "text": [
      "정수를 입력하세요123\n",
      "정수\n",
      "예외 발생하지 않음\n"
     ]
    }
   ],
   "source": [
    "try:\n",
    "    int(input('정수를 입력하세요'))\n",
    "    print('정수')\n",
    "except:\n",
    "    print('정수아님')\n",
    "else : \n",
    "    print(\"예외 발생하지 않음\")"
   ]
  },
  {
   "cell_type": "code",
   "execution_count": 9,
   "id": "f6250492",
   "metadata": {
    "scrolled": true
   },
   "outputs": [
    {
     "ename": "SyntaxError",
     "evalue": "invalid syntax (1622084667.py, line 2)",
     "output_type": "error",
     "traceback": [
      "\u001b[1;36m  Cell \u001b[1;32mIn[9], line 2\u001b[1;36m\u001b[0m\n\u001b[1;33m    - 정수를 입력하지 않으면 : '입력 값' > '정수 아님' > '프로그램 종료'\u001b[0m\n\u001b[1;37m          ^\u001b[0m\n\u001b[1;31mSyntaxError\u001b[0m\u001b[1;31m:\u001b[0m invalid syntax\n"
     ]
    }
   ],
   "source": [
    "#### 과제2_1107 : 두가지 시나리오를 예외처리를 하여 코드를 수행하세요\n",
    "- 정수를 입력하면 : '정수 입력' > '예외 발생하지 않음' > '프로그램 종료'\n",
    "- 정수를 입력하지 않으면 : '입력 값' > '정수 아님' > '프로그램 종료'"
   ]
  },
  {
   "cell_type": "code",
   "execution_count": 4,
   "id": "6aba2000",
   "metadata": {},
   "outputs": [
    {
     "name": "stdout",
     "output_type": "stream",
     "text": [
      "정수 입력 : ㄹㅇ\n",
      "정수 아님\n",
      "프로그램 종료\n"
     ]
    }
   ],
   "source": [
    "# 과제2_1107 솔루션\n",
    "try :\n",
    "    int(input(\"정수 입력 : \"))\n",
    "except :\n",
    "    print(\"정수 아님\")\n",
    "else :\n",
    "    print(\"예외 발생하지 않음\")\n",
    "finally : \n",
    "    print(\"프로그램 종료\")"
   ]
  },
  {
   "cell_type": "markdown",
   "id": "aaaf0c62",
   "metadata": {},
   "source": [
    "- 문제3_1107 : 파일 이름을 사용자로부터 입력받아 파일의 내용을 읽고 출력하는 프로그램을 작성하되, 파일이 존재하지 않을 경우 사용자에게 적절한 오류 메시지를 출력하고, 다시 파일 이름을 입력받도록 처리하세요."
   ]
  },
  {
   "cell_type": "code",
   "execution_count": null,
   "id": "d8daefd9",
   "metadata": {},
   "outputs": [
    {
     "name": "stdout",
     "output_type": "stream",
     "text": [
      "읽고 싶은 파일의 이름을 입력하세요 (예: text.txt): OT\n",
      "입력하신 이름의 파일이 존재하지 않습니다. 다시 확인해주세요.\n",
      "읽고 싶은 파일의 이름을 입력하세요 (예: text.txt): day01\n",
      "입력하신 이름의 파일이 존재하지 않습니다. 다시 확인해주세요.\n",
      "입력하신 이름의 파일이 존재하지 않습니다. 다시 확인해주세요.\n",
      "입력하신 이름의 파일이 존재하지 않습니다. 다시 확인해주세요.\n",
      "입력하신 이름의 파일이 존재하지 않습니다. 다시 확인해주세요.\n"
     ]
    }
   ],
   "source": [
    "# 문제3_1107 전유빈님 솔루션\n",
    "while 1:\n",
    "    try:\n",
    "        file_name = input(\"읽고 싶은 파일의 이름을 입력하세요 (예: text.txt): \")\n",
    "        with open(file_name) as f:\n",
    "            data = f.read()\n",
    "            print(data)\n",
    "        break\n",
    "    except:\n",
    "        print(\"입력하신 이름의 파일이 존재하지 않습니다. 다시 확인해주세요.\")"
   ]
  },
  {
   "cell_type": "markdown",
   "id": "fb533530",
   "metadata": {},
   "source": [
    "- 문제4_1107 : 사용자로부터 문자열을 입력받아 정수로 변환하고 출력하는 프로그램을 작성하세요. 입력된 문자열이 정수로 변환될 수 없는 경우, 사용자에게 ValueError가 발생했다는 메시지를 출력하고, 다시 입력을 받도록 처리하세요."
   ]
  },
  {
   "cell_type": "code",
   "execution_count": 4,
   "id": "2af6703c",
   "metadata": {},
   "outputs": [
    {
     "name": "stdout",
     "output_type": "stream",
     "text": [
      "정수입력a\n",
      "ValueError: 정수로 변환할 수 없습니다. 다시 시도하세요.\n",
      "정수입력R\n",
      "ValueError: 정수로 변환할 수 없습니다. 다시 시도하세요.\n",
      "정수입력1\n",
      "입력한 정수: 1\n"
     ]
    }
   ],
   "source": [
    "# 문제4_1107 솔루션\n",
    "while True:\n",
    "    try:\n",
    "        x = input('정수입력')\n",
    "        number = int(x)\n",
    "        print(f\"입력한 정수: {number}\")\n",
    "        break\n",
    "    except:\n",
    "        print(\"ValueError: 정수로 변환할 수 없습니다. 다시 시도하세요.\")"
   ]
  },
  {
   "cell_type": "markdown",
   "id": "6b35461c",
   "metadata": {},
   "source": [
    "- 문제5_1107: 리스트 인덱스 예외 처리\n",
    "- 사용자로부터 인덱스를 입력받아, 사전에 정의된 리스트의 해당 인덱스의 값을 출력하는 프로그램을 작성하세요. 사용자가 유효하지 않은 인덱스를 입력할 경우 IndexError를 처리하여, 오류 메시지를 출력하고 다시 인덱스를 입력받도록 하세요."
   ]
  },
  {
   "cell_type": "code",
   "execution_count": 8,
   "id": "98113406",
   "metadata": {},
   "outputs": [
    {
     "name": "stdout",
     "output_type": "stream",
     "text": [
      "인덱스값(0~2)133\n",
      "\n",
      "list index out of range 0~2만 입력하세요\n",
      "인덱스값(0~2)2\n",
      "자바스크립트\n"
     ]
    }
   ],
   "source": [
    "# 문제5_1107 김학준님 솔루션\n",
    "while True:\n",
    "    try:\n",
    "        my_list=['파이썬','자바','자바스크립트']\n",
    "        print(my_list[int(input('인덱스값(0~2)'))])\n",
    "        break\n",
    "    except IndexError as e:\n",
    "        print(f'{e} 0~2만 입력하세요')"
   ]
  },
  {
   "cell_type": "markdown",
   "id": "7e702a19",
   "metadata": {},
   "source": [
    "- 문제6_1107: 딕셔너리 키 예외 처리\n",
    "- 사용자로부터 키를 입력받아, 사전에 정의된 딕셔너리에서 해당 키의 값을 출력하는 프로그램을 작성하세요. 입력된 키가 딕셔너리에 존재하지 않을 경우 KeyError를 처리하여 사용자에게 알려주고, 다른 키를 입력받도록 하세요."
   ]
  },
  {
   "cell_type": "code",
   "execution_count": 10,
   "id": "b6d89aba",
   "metadata": {},
   "outputs": [
    {
     "name": "stdout",
     "output_type": "stream",
     "text": [
      "당신이 좋아하는 분식류는 무엇인가요?: 감자\n",
      "예시로 들었던 분식은 '김밥, 떡볶이, 튀김, 순대, 우동, 국수'입니다. 이 중 하나를 골라주세요.\n",
      "\n",
      "당신이 좋아하는 분식류는 무엇인가요?: 김밥\n",
      "선택하신 분식을 좋아하는 사람은 '3'명이 더 있습니다.\n"
     ]
    }
   ],
   "source": [
    "# 문제6_1107 김신미님 솔루션\n",
    "dict = {'김밥':3, '떡볶이':2, '튀김':7, '순대':4, '우동':1, '국수':10}\n",
    "result = ''\n",
    "\n",
    "while 1:\n",
    "    try:\n",
    "        key = input(\"당신이 좋아하는 분식류는 무엇인가요?: \")\n",
    "        result = dict[key]\n",
    "    except Exception as e:\n",
    "        print(\"예시로 들었던 분식은 '김밥, 떡볶이, 튀김, 순대, 우동, 국수'입니다. 이 중 하나를 골라주세요.\\n\")\n",
    "    else:\n",
    "        print(f\"선택하신 분식을 좋아하는 사람은 '{result}'명이 더 있습니다.\")\n",
    "        break"
   ]
  }
 ],
 "metadata": {
  "kernelspec": {
   "display_name": "Python 3 (ipykernel)",
   "language": "python",
   "name": "python3"
  },
  "language_info": {
   "codemirror_mode": {
    "name": "ipython",
    "version": 3
   },
   "file_extension": ".py",
   "mimetype": "text/x-python",
   "name": "python",
   "nbconvert_exporter": "python",
   "pygments_lexer": "ipython3",
   "version": "3.10.13"
  }
 },
 "nbformat": 4,
 "nbformat_minor": 5
}
