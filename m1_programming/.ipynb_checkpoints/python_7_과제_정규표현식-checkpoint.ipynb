{
 "cells": [
  {
   "cell_type": "markdown",
   "id": "c7b334d1",
   "metadata": {},
   "source": [
    "문제1_1113: 문자열 \"The cat in the hat.\"에서 \"cat\"과 \"hat\"을 찾으세요."
   ]
  },
  {
   "cell_type": "code",
   "execution_count": 5,
   "id": "f75cc97e",
   "metadata": {},
   "outputs": [
    {
     "name": "stdout",
     "output_type": "stream",
     "text": [
      "['cat', 'hat']\n"
     ]
    }
   ],
   "source": [
    "import re\n",
    "\n",
    "print(re.findall(\"[ch]*at\",\"The cat in the hat.\"))"
   ]
  },
  {
   "cell_type": "markdown",
   "id": "a06069ec",
   "metadata": {},
   "source": [
    "문제2_1113: 문자열 \"bat, cat, rat, fat\"에서 \"bat\", \"cat\", \"rat\"을 찾되, \"fat\"은 제외하세요."
   ]
  },
  {
   "cell_type": "code",
   "execution_count": null,
   "id": "2fad7510",
   "metadata": {},
   "outputs": [],
   "source": [
    "print(re.findall(\"[bcr]+at\",\"bat, cat, rat, fat\"))"
   ]
  },
  {
   "cell_type": "markdown",
   "id": "01359b74",
   "metadata": {},
   "source": [
    "문제3_1113: 문자열 \"123 abc 456\"에서 모든 숫자를 찾으세요."
   ]
  },
  {
   "cell_type": "code",
   "execution_count": null,
   "id": "d1eb89c3",
   "metadata": {},
   "outputs": [],
   "source": [
    "import re\n",
    "\n",
    "text = \"123 abc 456\"\n",
    "\n",
    "# pattern = r'\\d+' # 숫자가 반복되는것을 출력 # 로스트링을 한이유는 escape되게끔.. \\자체로 되게끔.. r 안하면 \\\\d+ 이런식으로해야함\n",
    "pattern = '\\\\d+'\n",
    "matches = re.findall(pattern, text)\n",
    "\n",
    "print(matches)"
   ]
  },
  {
   "cell_type": "markdown",
   "id": "0489ea52",
   "metadata": {},
   "source": [
    "문제4_1113: 문자열 \"Hello, my name is John.\"에서 첫 단어 \"Hello\"를 찾으세요."
   ]
  },
  {
   "cell_type": "code",
   "execution_count": null,
   "id": "0de8573b",
   "metadata": {},
   "outputs": [],
   "source": [
    "import re\n",
    "text = \"Hello, my name is John.\"\n",
    "pattern = r\"^Hello\"\n",
    "matches = re.match(pattern,text)\n",
    "if matches : \n",
    "    print(matches.group())"
   ]
  },
  {
   "cell_type": "markdown",
   "id": "8fc52538",
   "metadata": {},
   "source": [
    "문제5_1113: 문자열 \"The car parked in the garage #42.\"에서 문장의 마지막 단어 \"garage\"를 찾으세요."
   ]
  },
  {
   "cell_type": "code",
   "execution_count": null,
   "id": "b75e645a",
   "metadata": {},
   "outputs": [],
   "source": [
    "print(re.search('garage','The car parked in the garage #42.').group())"
   ]
  },
  {
   "cell_type": "markdown",
   "id": "f2aeb7cb",
   "metadata": {},
   "source": [
    "문제6_1113: 이메일 주소 찾기\n",
    "- 조건: user@example.com과 같은 이메일 주소를 찾는 정규 표현식을 작성하세요."
   ]
  },
  {
   "cell_type": "code",
   "execution_count": null,
   "id": "ceb03e94",
   "metadata": {},
   "outputs": [],
   "source": [
    "# 문제6_1113 솔루션\n",
    "import re\n",
    "emails = \"user@example.com\"\n",
    "pattern = re.compile(\".*\\@.*\\..*\")\n",
    "m = pattern.finditer(emails)\n",
    "for i in m:print(i.group(),end=\" \")"
   ]
  },
  {
   "cell_type": "markdown",
   "id": "816f26c5",
   "metadata": {},
   "source": [
    "문제7_1113: 전화번호 검증\n",
    "- 조건: 010-1234-5678 형태의 대한민국 전화번호와 일치하는 정규 표현식을 작성하세요."
   ]
  },
  {
   "cell_type": "code",
   "execution_count": null,
   "id": "ac577a4d",
   "metadata": {},
   "outputs": [],
   "source": [
    "import re\n",
    "\n",
    "# phone_pattern = r'[0-9]{3}-[0-9]{4}-[0-9]{4}'\n",
    "phone_pattern = r'\\d{3}-\\d{4}-\\d{4}'\n",
    "\n",
    "text = '대한민국 전화번호는 010-1234-5678입니다.'\n",
    "\n",
    "matches = re.findall(phone_pattern, text)\n",
    "\n",
    "print(matches)"
   ]
  },
  {
   "cell_type": "markdown",
   "id": "d7a5fe4d",
   "metadata": {},
   "source": [
    "문제8_1113: 웹사이트 URL 검증\n",
    "- 조건: http://www.example.com 형태의 웹사이트 주소와 일치하는 정규 표현식을 작성하세요."
   ]
  },
  {
   "cell_type": "code",
   "execution_count": null,
   "id": "3b153440",
   "metadata": {},
   "outputs": [],
   "source": [
    "url_example = \"http://www.example.com\"\n",
    "url_pattern = r'http[s]?://www\\.[a-zA-Z0-9-]+\\.[a-zA-Z]+/?'\n",
    "if re.match(url_pattern, url_example):\n",
    "    print(\"유효한 URL입니다.\")\n",
    "else:\n",
    "    print(\"유효하지 않은 URL입니다.\")"
   ]
  },
  {
   "cell_type": "markdown",
   "id": "f26185ef",
   "metadata": {},
   "source": [
    "문제9_1113: 날짜 형식 검증\n",
    "- 조건: YYYY-MM-DD 형식의 날짜와 일치하는 정규 표현식을 작성하세요 (예: 2023-11-09)."
   ]
  },
  {
   "cell_type": "code",
   "execution_count": null,
   "id": "f891129c",
   "metadata": {},
   "outputs": [],
   "source": [
    "# 문제9_1113 솔루션\n",
    "import re\n",
    "dates = \"2023-11-09\"\n",
    "pattern = re.compile(r\"\\d{4}-\\d{2}-\\d{2}\")\n",
    "m = pattern.search(dates)\n",
    "print(m.group())"
   ]
  },
  {
   "cell_type": "markdown",
   "id": "57f3510a",
   "metadata": {},
   "source": [
    "문제10_1113: HTML 태그 제거\n",
    "- 조건: <p>Hello World</p>와 같은 HTML 태그를 찾아 제거하는 정규 표현식을 작성하세요."
   ]
  },
  {
   "cell_type": "code",
   "execution_count": null,
   "id": "056bfaa3",
   "metadata": {},
   "outputs": [],
   "source": [
    "import re\n",
    "\n",
    "html_example = '<p>Hello World</p>'\n",
    "html_pattern = r\"<[^>]+>\"\n",
    "m = re.sub(html_pattern, '', html_example)\n",
    "print(m)"
   ]
  },
  {
   "cell_type": "markdown",
   "id": "fe846fb1",
   "metadata": {},
   "source": [
    "문제11_1113: 숫자만 추출\n",
    "- 조건: 문자열에서 숫자만 추출하는 정규 표현식을 작성하세요 (예: abc1234d5e에서 12345 추출)."
   ]
  },
  {
   "cell_type": "code",
   "execution_count": 1,
   "id": "81d47ea3",
   "metadata": {},
   "outputs": [
    {
     "name": "stdout",
     "output_type": "stream",
     "text": [
      "<re.Match object; span=(3, 4), match='1'>\n"
     ]
    }
   ],
   "source": [
    "# 문제11_1113 솔루션\n",
    "import re\n",
    "text = 'abc1234d5e'\n",
    "pattern = re.compile(r\"[\\d]\")\n",
    "m = pattern.search(text)\n",
    "print(m)"
   ]
  },
  {
   "cell_type": "markdown",
   "id": "54ea797a",
   "metadata": {},
   "source": [
    "문제12_1113: 대문자로 시작하는 단어 찾기\n",
    "- 조건: 각 단어가 대문자로 시작하는 경우와 일치하는 정규 표현식을 작성하세요 (예: Hello World에서 Hello와 World 추출)."
   ]
  },
  {
   "cell_type": "code",
   "execution_count": 2,
   "id": "cd6dfd97",
   "metadata": {},
   "outputs": [
    {
     "name": "stdout",
     "output_type": "stream",
     "text": [
      "Hello World "
     ]
    }
   ],
   "source": [
    "# 문제12_1113\n",
    "import re\n",
    "text = \"Hello World\"\n",
    "pattern = re.compile(r\"[^\\s]+\", re.I)\n",
    "m = pattern.finditer(text)\n",
    "for i in m:print(i.group(),end = \" \")"
   ]
  },
  {
   "cell_type": "markdown",
   "id": "aa0e61f3",
   "metadata": {},
   "source": [
    "문제13_1113: 이메일 유효성 검사\n",
    "- 조건: 이메일 주소가 유효한 형식인지 검사하는 정규 표현식을 작성하세요. 유효한 이메일 형식은 username@domain.extension과 같습니다."
   ]
  },
  {
   "cell_type": "code",
   "execution_count": 5,
   "id": "c707315a",
   "metadata": {},
   "outputs": [
    {
     "name": "stdout",
     "output_type": "stream",
     "text": [
      "username@domain.extension\n"
     ]
    }
   ],
   "source": [
    "# 문제13_1113 솔루션\n",
    "import re\n",
    "text = \"username@domain.extension\"\n",
    "pattern = r\"[a-zA-Z0-9_-]{5,20}@[a-zA-Z0-9]{3,20}\\.[a-zA-Z]{2,10}$\"\n",
    "m = re.search(pattern, text)\n",
    "print(m.group())"
   ]
  },
  {
   "cell_type": "markdown",
   "id": "b8e3970e",
   "metadata": {},
   "source": [
    "문제14_1113: IP 주소 검증\n",
    "- 조건: 192.168.1.1과 같은 IPv4 주소와 일치하는 정규 표현식을 작성하세요."
   ]
  },
  {
   "cell_type": "code",
   "execution_count": 28,
   "id": "8f3d602c",
   "metadata": {},
   "outputs": [
    {
     "name": "stdout",
     "output_type": "stream",
     "text": [
      "유효한 IP 주소입니다.\n"
     ]
    }
   ],
   "source": [
    "ip_example = \"192.168.1.1\"\n",
    "ip_pattern = r\"\\b(?:[0-9]{1,3}\\.){3}[0-9]{1,3}\\b\"\n",
    "if re.match(ip_pattern, ip_example) :\n",
    "    print(\"유효한 IP 주소입니다.\")\n",
    "else :\n",
    "    print(\"유효하지 않은 IP 주소입니다.\")"
   ]
  },
  {
   "cell_type": "markdown",
   "id": "aabe7a0e",
   "metadata": {},
   "source": [
    "문제15_1113: 코드 주석 찾기\n",
    "- 조건: # This is a comment와 같은 파이썬 코드 내의 주석과 일치하는 정규 표현식을 작성하세요."
   ]
  }
 ],
 "metadata": {
  "kernelspec": {
   "display_name": "Python 3 (ipykernel)",
   "language": "python",
   "name": "python3"
  },
  "language_info": {
   "codemirror_mode": {
    "name": "ipython",
    "version": 3
   },
   "file_extension": ".py",
   "mimetype": "text/x-python",
   "name": "python",
   "nbconvert_exporter": "python",
   "pygments_lexer": "ipython3",
   "version": "3.10.13"
  }
 },
 "nbformat": 4,
 "nbformat_minor": 5
}
