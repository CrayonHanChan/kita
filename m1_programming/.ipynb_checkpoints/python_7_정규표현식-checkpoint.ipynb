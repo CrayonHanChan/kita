{
 "cells": [
  {
   "cell_type": "markdown",
   "id": "ed4536d7",
   "metadata": {},
   "source": [
    "#### 파이썬에서 정규 표현식(Regular Expressions)은 문자열을 처리할 때 매우 강력하고 유연한 도구\n",
    "\n",
    "#### 기본 개념:\n",
    "- 패턴 매칭 (Pattern Matching): 특정 패턴이 문자열에 존재하는지 확인. 예를 들어, 이메일 주소나 전화번호와 같은 특정 형식을 갖는 문자열을 찾을 때 사용\n",
    "\n",
    "- 메타 문자 (Meta Characters): 정규 표현식의 핵심 요소로, 특별한 의미를 가진 문자들. 예를 들어,^, 달러사인, *, +, ?, {}, [], \\, |, ()등이 있습니다.\n",
    "\n",
    "- 리터럴 (Literal): 일반 텍스트 문자. 특별한 의미 없이 문자 그대로를 의미\n",
    "\n",
    "#### re 모듈 : 파이썬은 정규표현식을 지원하기 위해 기본으로 제공\n",
    "- re.compile의 결과로 리턴되는 객체를 이용하여 그 이후 작업 수행 #그래서 install 할 필요없음\n",
    "\n",
    "#### 주요 기능:\n",
    "- re.match(pattern, string): 문자열 내에서 시작 부분부터 정규표현식과 일치하는지 확인 #무조건시작부분이어야함 중간부분에있으면 X\n",
    "- re.search(pattern, string): 문자열 전체를 검색하여 주어진 정규표현식과 일치하는 첫번째 위치를 확인 # 전체에시작부분이 아니어도 됨 중간 마지막에 있다! 하면 중간임 처음에오는거 하나만.\n",
    "- re.findall(pattern, string): 문자열 내에서 주어진 패턴과 일치하는 모든 부분을 찾아 리스트로 반환 # findall 은 전부다..\n",
    "- re.finditer(): 정규식과 매치되는 모든 문자열을 반복 가능한 객체로 리턴\n",
    "- re.sub(pattern, repl, string): 문자열 내에서 주어진 패턴과 일치하는 부분을 다른 문자열로 대체 # \n",
    "- re.compile(pattern): 주어진 패턴을 컴파일하여 재사용 가능한 정규 표현식 객체를 생성"
   ]
  },
  {
   "cell_type": "markdown",
   "id": "fabe3203",
   "metadata": {},
   "source": [
    "#### re.match에서 반환되는 match 객체는 클래스의 인스턴스\n",
    "- Python의 re 모듈에서 match 객체는 re.Match 클래스의 인스턴스로, 정규 표현식과의 일치에 대한 정보를 담고 있다.\n",
    "\n",
    "- re.Match 클래스의 인스턴스는 다음과 같은 중요한 메소드와 속성을 가지고 있다:\n",
    "  - group(): 일치하는 문자열을 반환. group(0) 또는 group()은 전체 일치를 반환 # 하고, group(1), group(2), 등은 괄호로 구분된 하위 패턴들의 일치를 반환. ( group 이 안먹혀서 확인해봐야함.... ) -> 그룹이 꼭 있어야 작동.\n",
    "  - start() 및 end(): 일치하는 부분의 시작과 끝 인덱스를 반환.\n",
    "  - span(): 일치하는 부분의 시작과 끝 인덱스를 포함하는 튜플을 반환."
   ]
  },
  {
   "cell_type": "code",
   "execution_count": 20,
   "id": "63fc8f89",
   "metadata": {
    "scrolled": true
   },
   "outputs": [
    {
     "name": "stdout",
     "output_type": "stream",
     "text": [
      "apple\n",
      "apple\n",
      "0\n",
      "5\n",
      "(0, 5)\n"
     ]
    }
   ],
   "source": [
    "import re\n",
    "\n",
    "match = re.match('apple','apple pie')\n",
    "print(match.group())\n",
    "print(match.group(0))\n",
    "print(match.start())\n",
    "print(match.end())\n",
    "print(match.span())"
   ]
  },
  {
   "cell_type": "code",
   "execution_count": 28,
   "id": "b8a9877d",
   "metadata": {
    "scrolled": true
   },
   "outputs": [
    {
     "name": "stdout",
     "output_type": "stream",
     "text": [
      "apple\n",
      "apple\n",
      "6\n",
      "11\n",
      "(6, 11)\n"
     ]
    }
   ],
   "source": [
    "import re\n",
    "\n",
    "search = re.search('apple','sweet apple pie') # 중간에 오는 apple 을 찾아줌\n",
    "print(search.group())\n",
    "print(search.group(0))\n",
    "print(search.start())\n",
    "print(search.end())\n",
    "print(search.span())"
   ]
  },
  {
   "cell_type": "code",
   "execution_count": 31,
   "id": "f06af2d8",
   "metadata": {},
   "outputs": [
    {
     "name": "stdout",
     "output_type": "stream",
     "text": [
      "apple\n"
     ]
    }
   ],
   "source": [
    "# 그룹을 할때는 괄호를 써서..\n",
    "# 그룹 선택\n",
    "p = r\"(apple) pie\"\n",
    "t = \"apple pie\"\n",
    "\n",
    "match = re.match(p,t)\n",
    "print(match.group(1))"
   ]
  },
  {
   "cell_type": "code",
   "execution_count": 36,
   "id": "3af56bc8",
   "metadata": {},
   "outputs": [
    {
     "name": "stdout",
     "output_type": "stream",
     "text": [
      "pie\n"
     ]
    }
   ],
   "source": [
    "# Q. group(2)를 출력해보세요.\n",
    "pattern = r\"(apple) (pie)\"\n",
    "t = \"apple pie\"\n",
    "\n",
    "match = re.match(pattern,t)\n",
    "print(match.group(2))"
   ]
  },
  {
   "cell_type": "code",
   "execution_count": 46,
   "id": "548bc77a",
   "metadata": {},
   "outputs": [
    {
     "name": "stdout",
     "output_type": "stream",
     "text": [
      "pie\n",
      "a\n"
     ]
    }
   ],
   "source": [
    "# Q. group(2)를 출력해보세요.\n",
    "pattern = r\"(apple) (pie) (a)\"\n",
    "t = \"apple pie a\"\n",
    "\n",
    "match = re.match(pattern,t)\n",
    "print(match.group(2))\n",
    "print(match.group(3))\n"
   ]
  },
  {
   "cell_type": "code",
   "execution_count": 6,
   "id": "12e270f1",
   "metadata": {},
   "outputs": [
    {
     "name": "stdout",
     "output_type": "stream",
     "text": [
      "Found an apple\n",
      "oh my banana\n",
      "['a', 'a', 'a']\n",
      "red sky and red ocean\n",
      "['e', 'd']\n"
     ]
    }
   ],
   "source": [
    "import re\n",
    "#검색하기\n",
    "if re.search(\"apple\",\"apple.pie\"):\n",
    "    print(\"Found an apple\")\n",
    "\n",
    "if re.match(\"apple\",\"apple.pie\"):\n",
    "    print(\"oh my banana\")\n",
    "    \n",
    "# 모든 일치 항목 찾기\n",
    "print(re.findall('a','ab ac ad')) # 어떤 한 문자와 일치\n",
    "    \n",
    "# 문자열 대체하기\n",
    "print(re.sub('blue','red','blue sky and blue ocean'))\n",
    "      \n",
    "# 패턴 컴파일하기\n",
    "pattern = re.compile('[a-e]')\n",
    "print(pattern.findall(\"hello world\"))"
   ]
  },
  {
   "cell_type": "markdown",
   "id": "eeb6ba8b",
   "metadata": {},
   "source": [
    "#### 정규 표현식의 기본 구성 요소\n",
    "1. 리터럴(Literals): 일반 텍스트 문자(예: a, b, 1, 2)\n",
    "\n",
    "2. 메타 문자(Meta Characters): 특별한 의미를 지닌 문자들\n",
    "- `.`: 어떤 한 문자와 일치 (newline 제외) # 모든 문자와 일치 할 수 있음 그중에서 하나라는 뜻 줄바꿈은 제외(\\n 제외)\n",
    "- ^: 문자열의 시작과 일치\n",
    "- 달러사인: 문자열의 끝과 일치\n",
    "- *: 0번 이상 반복되는 경우와 일치\n",
    "- +: 1번 이상 반복되는 경우와 일치\n",
    "- ?: 0번 또는 1번 등장하는 경우와 일치\n",
    "- {m,n}: 최소 m번, 최대 n번 반복\n",
    "- []: 문자 집합 중 하나와 일치 (예: [abc]는 a, b, c 중 하나와 일치)\n",
    "- |: OR 조건 (예: a|b는 a 또는 b)\n",
    "- (...): 그룹화\n",
    "\n",
    "3. 특수 시퀀스(Special Sequences):\n",
    "- \\d: 숫자와 일치\n",
    "- \\D: 숫자가 아닌 문자와 일치\n",
    "- \\s: 공백 문자와 일치 # space 관련\n",
    "- \\S: 공백이 아닌 문자와 일치\n",
    "- \\w: 단어 문자(문자, 숫자, 밑줄)와 일치\n",
    "- \\W: 단어 문자가 아닌 것과 일치"
   ]
  },
  {
   "cell_type": "code",
   "execution_count": null,
   "id": "8cd7ce0e",
   "metadata": {},
   "outputs": [],
   "source": [
    "[0-9] 와 \\d 랑 같음 숫자와 일치..\n",
    "\\n \\t 대행 탭 공백문자 \\s 공백 문자와 일치\n",
    "\\S 는 \\s의 반대. 공백이 아닌 모든문자와일치\n",
    "\\w 단어문자 와 일치\n",
    "\\W 단어문자가아닌것과일치"
   ]
  },
  {
   "cell_type": "markdown",
   "id": "5f26ecd2",
   "metadata": {},
   "source": [
    "1. `.` (마침표)\n",
    "- 의미: 어떤 한 문자와 일치(줄바꿈 문자 제외)\n",
    "- 예시:\n",
    "  - 패턴: a.b\n",
    "  - 매칭 예시: \"acb\" - 가운데에 c 문자라서 됨, \"a*b\", \"a3b\"\n",
    "  - 불일치 예시: \"ab\"- 가운데 암것도 없어서 안됨, \"a\\nb\"- 줄바꿈은 안됨\n",
    "2. ^ (캐럿)\n",
    "- 의미: 문자열의 시작과 일치\n",
    "- 예시:\n",
    "  - 패턴: ^Hello\n",
    "  - 매칭 예시: \"Hello world\" - 시작이 Hello 라서 됨\n",
    "  - 불일치 예시: \"world, Hello\" - 시작이 world 라서안됨\n",
    "3. \\$ (달러 기호)\n",
    "- 의미: 문자열의 끝과 일치\n",
    "- 예시:\n",
    "  - 패턴: end$ - 끝과 일치라서 뒤에다가 달러사인\n",
    "  - 매칭 예시: \"It's the end\" - end가 뒤에오니까 됨\n",
    "  - 불일치 예시: \"end of the story\"\n",
    "4. \\* (별표)\n",
    "- 의미: 앞의 문자가 0번 이상 반복\n",
    "- 예시:\n",
    "  - 패턴: a*b # 별표라면 앞에를 봐야함. b앞에 a가 0번이상. 패턴이니까 b는 꼭 있어야함\n",
    "  - 매칭 예시: \"b\" - b가 있고 a가 0번 이라 됨, \"ab\", \"aaab\"  \n",
    "  - 불일치 예시: \"a\" - b 가없음\n",
    "5. \\+ (플러스)\n",
    "- 의미: 앞의 문자가 1번 이상 반복\n",
    "- 예시:\n",
    "  - 패턴: a+b # b앞에 a 가 한번이상 있어야함\n",
    "  - 매칭 예시: \"ab\", \"aaab\"\n",
    "  - 불일치 예시: \"b\"- a가 1번이상없음, \"a\" - b가 없음\n",
    "6. ? (물음표)\n",
    "- 의미: 앞의 문자가 0번 또는 1번 등장\n",
    "- 예시:\n",
    "  - 패턴: a?b # a가 없거나 한번\n",
    "  - 매칭 예시: \"ab\", \"b\"\n",
    "  - 불일치 예시: \"aab\" - 2개있으면 안됨\n",
    "7. {m,n} (중괄호)\n",
    "- 의미: 앞의 문자가 최소 m번, 최대 n번 반복\n",
    "- 예시:\n",
    "  - 패턴: a{2,3} - 반복\n",
    "  - 매칭 예시: \"aa\", \"aaa\"\n",
    "  - 불일치 예시: \"a\"-범위 2~3 만족X, \"aaaa\"\n",
    "8. `[]` (대괄호)\n",
    "- 의미: 대괄호 안의 문자 중 하나와 일치\n",
    "- 예시:\n",
    "  - 패턴: [abc] - a,b,c중 하나면 됨\n",
    "  - 매칭 예시: \"a\", \"b\", \"c\"\n",
    "  - 불일치 예시: \"d\" - 대괄호 안의 문자가 아님\n",
    "9. | (파이프)\n",
    "- 의미: OR 조건\n",
    "- 예시:\n",
    "  - 패턴: a|b - 이중에 하나만 있으면 됨\n",
    "  - 매칭 예시: \"a\", \"b\"\n",
    "  - 불일치 예시: \"c\" - 둘다 없으면 안됨 하나라도 있어야함\n",
    "10. (...) (괄호)\n",
    "- 의미: 그룹화, 캡처 그룹\n",
    "- 예시:\n",
    "  - 패턴: (a|b)c - 그룹화\n",
    "  - 매칭 예시: \"ac\", \"bc\""
   ]
  },
  {
   "cell_type": "markdown",
   "id": "09ed936b",
   "metadata": {},
   "source": [
    "- 괄호 ()는 '그룹화'를 위해 사용 : 주로 여러 문자열 패턴을 하나의 단위로 묶거나, 특정 부분의 문자열을 추출하는 데 사용\n",
    "\n",
    "- 그룹화의 주요 용도:\n",
    "- 패턴의 일부를 하나의 단위로 묶기 : 괄호는 여러 문자 또는 문자 집합을 하나의 단위로 묶어서, 그 전체에 대해 수량자 (예: *, +, ?, {m,n} 등)를 적용할 수 있게 한다.\n",
    "\n",
    "- 텍스트 캡처 : 괄호로 묶인 부분은 '캡처 그룹'이 되어, 매칭된 텍스트를 나중에 사용하기 위해 저장. 예를 들어, re.search()나 re.match() 등의 함수로 매치 객체를 얻은 후, group() 메서드를 사용하여 이 텍스트를 추출할 수 있다.\n",
    "\n",
    "- 백레퍼런스(backreferences): 정규 표현식 내에서 앞서 정의된 그룹을 다시 참조할 수 있다. 이는 패턴이 이전에 매치된 동일한 텍스트와 일치해야 할 때 유용.\n",
    "\n",
    "- 비캡처 그룹(non-capturing groups): 때로는 괄호를 사용하여 그룹을 만들지만, 매치된 내용을 나중에 사용하고 싶지 않을 때가 있다. 이 경우 (?:...) 형태를 사용하여 그룹을 만든다. 이 그룹은 매칭에는 영향을 주지만, 결과를 저장하지는 않는다."
   ]
  },
  {
   "cell_type": "code",
   "execution_count": null,
   "id": "1a614481",
   "metadata": {},
   "outputs": [],
   "source": [
    "#### Python에서 로우 스트링\n",
    "- 문자열 앞에 r이나 R을 붙여 정의\n",
    "- 주요 목적은 문자열 내의 백슬래시(\\)를 이스케이프 시퀀스로 처리하지 않도록 하는 것이다.\n",
    "- 예를 들어:\n",
    "    - 일반 문자열: \"\\\\\\d\" (정규 표현식에서 숫자를 의미하는 \\d를 나타내려면 두 개의 백슬래시가 필요)\n",
    "    - 로우 스트링: r\"\\d\" (한 개의 백슬래시만으로도 정규 표현식에서 \\d를 나타낼 수 있음)"
   ]
  },
  {
   "cell_type": "code",
   "execution_count": 43,
   "id": "944e249a",
   "metadata": {
    "scrolled": true
   },
   "outputs": [
    {
     "name": "stdout",
     "output_type": "stream",
     "text": [
      "전체날짜 :  2023-04-30\n",
      "연도 :  2023\n",
      "월 :  04\n",
      "일 :  30\n"
     ]
    }
   ],
   "source": [
    "import re\n",
    "\n",
    "# 정규표현식 패턴 : YYYY-MM-DD 형식의 날짜 ( 예 : 2023-04-30 )\n",
    "pattern = r'(\\d{4})-(\\d{2})-(\\d{2})'\n",
    "\n",
    "# 검색할 문자열\n",
    "text = \"오늘의 날짜는 2023-04-30 입니다.\"\n",
    "\n",
    "# 패턴 검색\n",
    "match = re.search(pattern, text)\n",
    "\n",
    "# 매치 결과 확인\n",
    "if match : \n",
    "    print(\"전체날짜 : \", match.group()) # 전체 매치 (\"2023-04-30\")\n",
    "    print(\"연도 : \", match.group(1)) # 첫 번째 그룹 : (\"2023\")\n",
    "    print(\"월 : \", match.group(2)) # 두 번째 그룹 : (\"04\")\n",
    "    print(\"일 : \", match.group(3)) # 세 번째 그룹 : (\"30\")\n",
    "    \n",
    "else :\n",
    "    print(\"매치 되는 날짜가 없습니다.\")"
   ]
  },
  {
   "cell_type": "code",
   "execution_count": null,
   "id": "452da0b3",
   "metadata": {},
   "outputs": [],
   "source": [
    "#### 주요 기능:\n",
    "- re.match(pattern, string): 문자열 내에서 시작 부분부터 정규표현식과 일치하는지 확인 #무조건시작부분이어야함 중간부분에있으면 X\n",
    "- re.search(pattern, string): 문자열 전체를 검색하여 주어진 정규표현식과 일치하는 첫번째 위치를 확인 # 전체에시작부분이 아니어도 됨 중간 마지막에 있다! 하면 중간임 처음에오는거 하나만.\n",
    "- re.findall(pattern, string): 문자열 내에서 주어진 패턴과 일치하는 모든 부분을 찾아 리스트로 반환 # findall 은 전부다..\n",
    "- re.finditer(): 정규식과 매치되는 모든 문자열을 반복 가능한 객체로 리턴\n",
    "- re.sub(pattern, repl, string): 문자열 내에서 주어진 패턴과 일치하는 부분을 다른 문자열로 대체 # \n",
    "- re.compile(pattern): 주어진 패턴을 컴파일하여 재사용 가능한 정규 표현식 객체를 생성"
   ]
  },
  {
   "cell_type": "code",
   "execution_count": null,
   "id": "ce5f0b67",
   "metadata": {},
   "outputs": [],
   "source": [
    "2. 메타 문자(Meta Characters): 특별한 의미를 지닌 문자들\n",
    "- `.`: 어떤 한 문자와 일치 (newline 제외) # 모든 문자와 일치 할 수 있음 그중에서 하나라는 뜻 줄바꿈은 제외(\\n 제외)\n",
    "- ^: 문자열의 시작과 일치\n",
    "- 달러사인: 문자열의 끝과 일치\n",
    "- *: 0번 이상 반복되는 경우와 일치\n",
    "- +: 1번 이상 반복되는 경우와 일치\n",
    "- ?: 0번 또는 1번 등장하는 경우와 일치\n",
    "- {m,n}: 최소 m번, 최대 n번 반복\n",
    "- []: 문자 집합 중 하나와 일치 (예: [abc]는 a, b, c 중 하나와 일치)\n",
    "- |: OR 조건 (예: a|b는 a 또는 b)\n",
    "- (...): 그룹화\n",
    "\n",
    "3. 특수 시퀀스(Special Sequences):\n",
    "- \\d: 숫자와 일치\n",
    "- \\D: 숫자가 아닌 문자와 일치\n",
    "- \\s: 공백 문자와 일치 # space 관련\n",
    "- \\S: 공백이 아닌 문자와 일치\n",
    "- \\w: 단어 문자(문자, 숫자, 밑줄)와 일치\n",
    "- \\W: 단어 문자가 아닌 것과 일치"
   ]
  },
  {
   "cell_type": "code",
   "execution_count": null,
   "id": "215857a3",
   "metadata": {},
   "outputs": [],
   "source": [
    "문제1_1113: 문자열 \"The cat in the hat.\"에서 \"cat\"과 \"hat\"을 찾으세요."
   ]
  },
  {
   "cell_type": "code",
   "execution_count": 94,
   "id": "5b978175",
   "metadata": {},
   "outputs": [
    {
     "name": "stdout",
     "output_type": "stream",
     "text": [
      "['cat', 'hat']\n"
     ]
    }
   ],
   "source": [
    "print(re.findall(r'.at', \"The cat in the hat.\"))"
   ]
  },
  {
   "cell_type": "code",
   "execution_count": 198,
   "id": "a890dcc1",
   "metadata": {},
   "outputs": [
    {
     "name": "stdout",
     "output_type": "stream",
     "text": [
      "['cat', 'hat']\n"
     ]
    }
   ],
   "source": [
    "# 문제1_1113 전유빈님 솔루션\n",
    "import re\n",
    "\n",
    "print(re.findall(\"[ch]*at\",\"The cat in the hat.\"))"
   ]
  },
  {
   "cell_type": "code",
   "execution_count": 9,
   "id": "6f307500",
   "metadata": {},
   "outputs": [
    {
     "name": "stdout",
     "output_type": "stream",
     "text": [
      "['cat', 'hat']\n"
     ]
    }
   ],
   "source": [
    "# 문제1_1113 심주승님 솔루션\n",
    "import re\n",
    "\n",
    "g = re.findall('cat|hat', 'The cat in the hat')\n",
    "print(g)"
   ]
  },
  {
   "cell_type": "code",
   "execution_count": 8,
   "id": "c63f8f39",
   "metadata": {},
   "outputs": [
    {
     "name": "stdout",
     "output_type": "stream",
     "text": [
      "re.compile('[cat, hat]')\n"
     ]
    }
   ],
   "source": [
    "import re\n",
    "text = \"The cat in the hat.\"\n",
    "pattern = re.compile(r'[cat, hat]')\n",
    "print(pattern)"
   ]
  },
  {
   "cell_type": "code",
   "execution_count": null,
   "id": "39e52adb",
   "metadata": {},
   "outputs": [],
   "source": [
    "문제2_1113: 문자열 \"bat, cat, rat, fat\"에서 \"bat\", \"cat\", \"rat\"을 찾되, \"fat\"은 제외하세요."
   ]
  },
  {
   "cell_type": "code",
   "execution_count": 202,
   "id": "4b29888c",
   "metadata": {},
   "outputs": [
    {
     "name": "stdout",
     "output_type": "stream",
     "text": [
      "['bat', 'cat', 'rat']\n"
     ]
    }
   ],
   "source": [
    "sub_text = re.sub(\"fat\", '', \"bat, cat, rat, fat\")\n",
    "print(re.findall(r'\\S{3,3}',sub_text))"
   ]
  },
  {
   "cell_type": "code",
   "execution_count": null,
   "id": "8d045b2b",
   "metadata": {},
   "outputs": [],
   "source": [
    "# 문제2_1113 주용규님 솔루션\n",
    "import re\n",
    "\n",
    "p2 = r\"[^f]at\" # [^f] 는 f를 제외한다, 원래는 시작부분을 뜻함\n",
    "t2 = \"bat, cat, rat, fat\"\n",
    "s2 = re.findall(p2, t2) # (pattern, string)\n",
    "\n",
    "print(s2)"
   ]
  },
  {
   "cell_type": "code",
   "execution_count": null,
   "id": "665eec80",
   "metadata": {},
   "outputs": [],
   "source": [
    "# 문제2_1113 전유빈님 솔루션\n",
    "print(re.findall(\"[bcr]+at\",\"bat, cat, rat, fat\")) # bcr있는것만 .. [bcr] !!"
   ]
  },
  {
   "cell_type": "code",
   "execution_count": null,
   "id": "46849c51",
   "metadata": {},
   "outputs": [],
   "source": [
    "문제3_1113: 문자열 \"123 abc 456\"에서 모든 숫자를 찾으세요."
   ]
  },
  {
   "cell_type": "code",
   "execution_count": 169,
   "id": "2e7bf555",
   "metadata": {
    "scrolled": true
   },
   "outputs": [
    {
     "name": "stdout",
     "output_type": "stream",
     "text": [
      "['123', '456']\n"
     ]
    }
   ],
   "source": [
    "print(re.findall(r'\\d{3}',\"123 abc 456\"))"
   ]
  },
  {
   "cell_type": "code",
   "execution_count": 213,
   "id": "c8f67fef",
   "metadata": {},
   "outputs": [
    {
     "name": "stdout",
     "output_type": "stream",
     "text": [
      "['123', '456']\n"
     ]
    }
   ],
   "source": [
    "# 문제3_1113 윤성민님 솔루션\n",
    "import re\n",
    "\n",
    "text = \"123 abc 456\"\n",
    "\n",
    "# pattern = r'\\d+' # 숫자가 반복되는것을 출력 # 로스트링을 한이유는 escape되게끔.. \\자체로 되게끔.. r 안하면 \\\\d+ 이런식으로해야함\n",
    "pattern = '\\\\d+'\n",
    "matches = re.findall(pattern, text)\n",
    "\n",
    "print(matches)"
   ]
  },
  {
   "cell_type": "code",
   "execution_count": null,
   "id": "0da3fe81",
   "metadata": {},
   "outputs": [],
   "source": [
    "문제4_1113: 문자열 \"Hello, my name is John.\"에서 첫 단어 \"Hello\"를 찾으세요."
   ]
  },
  {
   "cell_type": "code",
   "execution_count": 205,
   "id": "36004d57",
   "metadata": {},
   "outputs": [
    {
     "name": "stdout",
     "output_type": "stream",
     "text": [
      "['Hello']\n"
     ]
    }
   ],
   "source": [
    "print(re.findall(r'^Hello',\"Hello, my name is John.\"))"
   ]
  },
  {
   "cell_type": "code",
   "execution_count": 215,
   "id": "ace4a09d",
   "metadata": {},
   "outputs": [
    {
     "name": "stdout",
     "output_type": "stream",
     "text": [
      "Hello\n"
     ]
    }
   ],
   "source": [
    "import re\n",
    "text = \"Hello, my name is John.\"\n",
    "pattern = r\"^Hello\"\n",
    "matches = re.match(pattern,text)\n",
    "if matches : \n",
    "    print(matches.group())"
   ]
  },
  {
   "cell_type": "code",
   "execution_count": null,
   "id": "d32e5441",
   "metadata": {},
   "outputs": [],
   "source": [
    "문제5_1113: 문자열 \"The car parked in the garage #42.\"에서 문장의 마지막 단어 \"garage\"를 찾으세요."
   ]
  },
  {
   "cell_type": "code",
   "execution_count": 218,
   "id": "f64edc16",
   "metadata": {},
   "outputs": [
    {
     "name": "stdout",
     "output_type": "stream",
     "text": [
      "garag\n"
     ]
    }
   ],
   "source": [
    "print(re.search(r'\\S*g',\"The car parked in the garage #42.\").group())"
   ]
  },
  {
   "cell_type": "code",
   "execution_count": 216,
   "id": "80edede5",
   "metadata": {},
   "outputs": [
    {
     "name": "stdout",
     "output_type": "stream",
     "text": [
      "garage\n"
     ]
    }
   ],
   "source": [
    "print(re.search('garage','The car parked in the garage #42.').group()) # garage 가 중간에 있어서 search 해야함"
   ]
  },
  {
   "cell_type": "code",
   "execution_count": 224,
   "id": "579c4729",
   "metadata": {},
   "outputs": [
    {
     "data": {
      "text/plain": [
       "'python '"
      ]
     },
     "execution_count": 224,
     "metadata": {},
     "output_type": "execute_result"
    }
   ],
   "source": [
    "import re\n",
    "p = re.compile(\"[a-z]+\\s\") # a부터 z 까지 소문자 알파벳. 하나이상. 공백(스페이스)\n",
    "m = p.match(\"python python\") # 공백이 있어야 출력.. # match 메소드를 이용해서 m 을 만들고..\n",
    "m.group() # 공백까지 출력 # 그룹으로 출력"
   ]
  },
  {
   "cell_type": "code",
   "execution_count": 225,
   "id": "5086a97c",
   "metadata": {},
   "outputs": [
    {
     "data": {
      "text/plain": [
       "'python '"
      ]
     },
     "execution_count": 225,
     "metadata": {},
     "output_type": "execute_result"
    }
   ],
   "source": [
    "re.match(\"[a-z]+\\s\", \"python python\").group() # 한줄에 끝. 근데 텍스트가 긴경우에는나눠서 하는것이 좋음"
   ]
  },
  {
   "cell_type": "code",
   "execution_count": 226,
   "id": "47a2f5e0",
   "metadata": {},
   "outputs": [
    {
     "data": {
      "text/plain": [
       "['python ']"
      ]
     },
     "execution_count": 226,
     "metadata": {},
     "output_type": "execute_result"
    }
   ],
   "source": [
    "p.findall(\"python python\")"
   ]
  },
  {
   "cell_type": "code",
   "execution_count": 228,
   "id": "f6df82d0",
   "metadata": {},
   "outputs": [
    {
     "name": "stdout",
     "output_type": "stream",
     "text": [
      "None\n"
     ]
    }
   ],
   "source": [
    "m = p.match(\"3python\")\n",
    "print(m)"
   ]
  },
  {
   "cell_type": "code",
   "execution_count": 232,
   "id": "4f9d5f6e",
   "metadata": {},
   "outputs": [
    {
     "name": "stdout",
     "output_type": "stream",
     "text": [
      "<re.Match object; span=(1, 8), match='python '>\n"
     ]
    }
   ],
   "source": [
    "m = p.search(\"3python \")\n",
    "print(m)"
   ]
  },
  {
   "cell_type": "code",
   "execution_count": 243,
   "id": "49e41c33",
   "metadata": {},
   "outputs": [
    {
     "name": "stdout",
     "output_type": "stream",
     "text": [
      "anker\n",
      "banker\n"
     ]
    }
   ],
   "source": [
    "# 문자 클래스 : []\n",
    "pattern = re.compile(\"[a-z]+\") # 소문자만\n",
    "# pattern = re.compile(\"[a-zA-Z0-9]+\") # 영대문자 다 숫자까지 다\n",
    "p1 = pattern.search(\"Banker\")\n",
    "p2 = pattern.search(\"banker\")\n",
    "print(p1.group()) # 대문자인 B 만 빼고 anker 출력\n",
    "print(p2.group()) # 다출력 banker"
   ]
  },
  {
   "cell_type": "code",
   "execution_count": 252,
   "id": "734b3bb1",
   "metadata": {},
   "outputs": [
    {
     "data": {
      "text/plain": [
       "'a'"
      ]
     },
     "execution_count": 252,
     "metadata": {},
     "output_type": "execute_result"
    }
   ],
   "source": [
    "# group 매치된 문자열을 리턴\n",
    "# Q. '123456abc' 에서 'a'만 출력하세요.\n",
    "\n",
    "import re\n",
    "regex = re.compile('[a]') # 컴파일로 리턴 다시 받고, 대괄호 안에 문자a 를 넣어서 a 가 선택되게끔..\n",
    "text = '123456abc' \n",
    "m = regex.search(text) # 중간에 있는거 출력\n",
    "m.group() # 그룹으로 출력하면 a 가 나옴"
   ]
  },
  {
   "cell_type": "code",
   "execution_count": 265,
   "id": "dc378ac3",
   "metadata": {},
   "outputs": [
    {
     "data": {
      "text/plain": [
       "'대'"
      ]
     },
     "execution_count": 265,
     "metadata": {},
     "output_type": "execute_result"
    }
   ],
   "source": [
    "# Q. \"KOREA 대한민국\"에서 \"대\"만 출력하세요.\n",
    "import re\n",
    "regex = re.compile(\"[가-힣]\") # 한글 전부다 하려면 가-힣\n",
    "text = \"KOREA 대한민국\"\n",
    "m = regex.search(text)\n",
    "m.group()"
   ]
  },
  {
   "cell_type": "code",
   "execution_count": 269,
   "id": "77ad3624",
   "metadata": {},
   "outputs": [
    {
     "data": {
      "text/plain": [
       "'122333c'"
      ]
     },
     "execution_count": 269,
     "metadata": {},
     "output_type": "execute_result"
    }
   ],
   "source": [
    "# search는 문자열 전체를 검색하여 정규식과 매칭되는 패턴을 찾는다.\n",
    "# a{2}는 a를 2회 반복하여 사용\n",
    "# Q. \"122333c\" 를 모두 출력하세요\n",
    "import re\n",
    "regex = re.compile(\"12{2}3{3}c\") # 2가 두번반복, 3이 세번반복된것을 골라주는것.\n",
    "text = \"122333cKKKKKK\" \n",
    "m = regex.search(text) # 텍스트에서 걸러주기..\n",
    "m.group()"
   ]
  },
  {
   "cell_type": "code",
   "execution_count": 280,
   "id": "df640d3f",
   "metadata": {},
   "outputs": [
    {
     "name": "stdout",
     "output_type": "stream",
     "text": [
      "aaaaBBBcccDDDeee\n"
     ]
    }
   ],
   "source": [
    "# Q. \"aaaaBBBcccDDDeee\" 을 모두 출력하세요.\n",
    "import re\n",
    "regex = re.compile(\"a{4}B{3}c{3}D{3}e{3}\")\n",
    "text = \"aaaaBBBcccDDDeee\"\n",
    "\n",
    "m = regex.search(text).group()\n",
    "print(m)\n",
    "# m.group()"
   ]
  },
  {
   "cell_type": "code",
   "execution_count": 298,
   "id": "18f6b619",
   "metadata": {},
   "outputs": [
    {
     "name": "stdout",
     "output_type": "stream",
     "text": [
      "<re.Match object; span=(1, 2), match='C'>\n",
      "<re.Match object; span=(0, 1), match='C'>\n",
      "<re.Match object; span=(2, 3), match='C'>\n"
     ]
    }
   ],
   "source": [
    "# Q. BC, CC, ABC 모두 C가 출력되는 정규 표현식을 ( ) 에 작성하세요.\n",
    "\n",
    "import re\n",
    "\n",
    "# pattern = re.compile(\"C{1}\")\n",
    "# pattern = re.compile(\"C\")\n",
    "# pattern = re.compile('[C]+')\n",
    "# pattern = re.compile('[A-C]+')\n",
    "pattern = re.compile('[A-C]+')\n",
    "pattern = re.compile('A?C')\n",
    "\n",
    "text1 = \"BC\"\n",
    "text2 = \"CC\"\n",
    "text3 = \"ABC\"\n",
    "\n",
    "p1 = pattern.search(text1)\n",
    "p2 = pattern.search(text2)\n",
    "p3 = pattern.search(text3)\n",
    "\n",
    "print(p1)\n",
    "print(p2)\n",
    "print(p3)"
   ]
  },
  {
   "cell_type": "code",
   "execution_count": 303,
   "id": "c292e213",
   "metadata": {},
   "outputs": [
    {
     "name": "stdout",
     "output_type": "stream",
     "text": [
      "<re.Match object; span=(1, 2), match='C'>\n",
      "<re.Match object; span=(0, 1), match='C'>\n",
      "<re.Match object; span=(0, 2), match='AC'>\n"
     ]
    }
   ],
   "source": [
    "# C나 A 가 나오게끔\n",
    "import re\n",
    "\n",
    "pattern = re.compile('A?C')\n",
    "\n",
    "text1 = \"BC\"\n",
    "text2 = \"CC\"\n",
    "text3 = \"AC\"\n",
    "\n",
    "p1 = pattern.search(text1)\n",
    "p2 = pattern.search(text2)\n",
    "p3 = pattern.search(text3)\n",
    "\n",
    "print(p1)\n",
    "print(p2)\n",
    "print(p3)"
   ]
  },
  {
   "cell_type": "code",
   "execution_count": 309,
   "id": "1835a520",
   "metadata": {},
   "outputs": [
    {
     "name": "stdout",
     "output_type": "stream",
     "text": [
      "life is too short "
     ]
    }
   ],
   "source": [
    "# finditer는 findall과 동일하지만 그 결과로 반복 가능한 객체(iterator object)를 돌려준다.\n",
    "# 반복 가능한 객체가 포함하는 각각의 요소는 match 객체이다.\n",
    "p = re.compile(\"[a-z]+\")\n",
    "result = p.finditer(\"life is too short\")\n",
    "# print(list(result))\n",
    "for r in result:print(r.group(),end=\" \") # finditer는 for문을 써서 이렇게 출력할수 있다."
   ]
  },
  {
   "cell_type": "code",
   "execution_count": 312,
   "id": "9afac003",
   "metadata": {},
   "outputs": [
    {
     "data": {
      "text/plain": [
       "['1', '2', '3', '4', '1', '2', '3', '4']"
      ]
     },
     "execution_count": 312,
     "metadata": {},
     "output_type": "execute_result"
    }
   ],
   "source": [
    "# Q. '1234a1234'에서 '1','2','3','4'를 모두 출력하세요.\n",
    "import re\n",
    "regex =re.compile('[1234]')\n",
    "text = '1234a1234'\n",
    "regex.findall(text)"
   ]
  },
  {
   "cell_type": "code",
   "execution_count": 313,
   "id": "f42953cd",
   "metadata": {},
   "outputs": [
    {
     "data": {
      "text/plain": [
       "['Python', 'is', 'very', 'good', 'programming', 'language']"
      ]
     },
     "execution_count": 313,
     "metadata": {},
     "output_type": "execute_result"
    }
   ],
   "source": [
    "# Q. \"Python3\" is very good programming language!\" 에서 ['Python', 'is', 'very', 'good', 'programming', 'language']를\n",
    "# 모두 출력하세요\n",
    "pattern = re.compile(\"[a-zA-Z]+\")\n",
    "pattern.findall(\"Python3 is very good programming language!\")"
   ]
  },
  {
   "cell_type": "code",
   "execution_count": 319,
   "id": "4813f4a4",
   "metadata": {},
   "outputs": [
    {
     "name": "stdout",
     "output_type": "stream",
     "text": [
      "None\n",
      "<re.Match object; span=(0, 3), match='acb'>\n",
      "<re.Match object; span=(0, 6), match='a12?Ab'>\n"
     ]
    }
   ],
   "source": [
    "# Dot(.) 메타 문자는 줄바꿈 문자(\\n)을 제외한 모든 문자와 매치\n",
    "import re\n",
    "p = re.compile(\"a.+b\")\n",
    "m1 = p.match(\"a\\nb\")\n",
    "m2 = p.match(\"acb\")\n",
    "m3 = p.match(\"a12?Ab\")\n",
    "print(m1) #None\n",
    "print(m2) #acb\n",
    "print(m3) #a12?Ab"
   ]
  },
  {
   "cell_type": "code",
   "execution_count": 323,
   "id": "535b7130",
   "metadata": {},
   "outputs": [
    {
     "name": "stdout",
     "output_type": "stream",
     "text": [
      "<re.Match object; span=(0, 3), match='a\\nb'>\n"
     ]
    }
   ],
   "source": [
    "# re.DOTALL 옵션은 여러 줄로 이루어진 문자열에서 \\n에 상관없이 검색시 사용\n",
    "p = re.compile(\"a.b\", re.DOTALL)\n",
    "m = p.match(\"a\\nb\")\n",
    "print(m)\n",
    "# a\n",
    "# b"
   ]
  },
  {
   "cell_type": "code",
   "execution_count": null,
   "id": "70be13d0",
   "metadata": {},
   "outputs": [],
   "source": [
    "# Q. text에서 what are you doing?만 출력하세요\n",
    "text = \"what are you doing?\\nit is going to be late for school\"\n",
    "\"\\nwe need to hurry up\""
   ]
  },
  {
   "cell_type": "code",
   "execution_count": 362,
   "id": "7d7e063a",
   "metadata": {},
   "outputs": [
    {
     "name": "stdout",
     "output_type": "stream",
     "text": [
      "what are you doing?\n"
     ]
    }
   ],
   "source": [
    "# 주용규님 솔루션\n",
    "text = 'what are you doing?\\nit is going to be late for school\\\n",
    "\\\\nwe need to hurry up'\n",
    "p = re.compile(r\"^[\\S\\s]+\\?\") # ^맨앞에서 [\\S\\s]전부다에서 +하나이상 \\?물음표가 마지막 근데 escape하려면 \\붙여서..\n",
    "# r\"^[\\S\\s]+\\?\" -> '.*' .모든문자한개가 *전체 # 줄바꿈 표시는 안되서 이렇게 하면 됨 그러면 what are you doing? 만 나옴\n",
    "print(p.search(text).group())"
   ]
  },
  {
   "cell_type": "code",
   "execution_count": 363,
   "id": "736d73c0",
   "metadata": {},
   "outputs": [
    {
     "name": "stdout",
     "output_type": "stream",
     "text": [
      "what are you doing?\n"
     ]
    }
   ],
   "source": [
    "# 심주승님 솔루션\n",
    "text = 'what are you doing?\\nit is going to be late for school!\\nwe need to hurry up'\n",
    "\n",
    "m = re.compile('what.+')\n",
    "p = m.match(text)\n",
    "\n",
    "print(p.group())"
   ]
  },
  {
   "cell_type": "code",
   "execution_count": null,
   "id": "b31d9f52",
   "metadata": {},
   "outputs": [],
   "source": [
    "# Q. text에서 전체문장 모두 출력하세요"
   ]
  },
  {
   "cell_type": "code",
   "execution_count": 374,
   "id": "17ae8e32",
   "metadata": {},
   "outputs": [
    {
     "ename": "AttributeError",
     "evalue": "'list' object has no attribute 'search'",
     "output_type": "error",
     "traceback": [
      "\u001b[1;31m---------------------------------------------------------------------------\u001b[0m",
      "\u001b[1;31mAttributeError\u001b[0m                            Traceback (most recent call last)",
      "Cell \u001b[1;32mIn[374], line 6\u001b[0m\n\u001b[0;32m      4\u001b[0m pattern \u001b[38;5;241m=\u001b[39m re\u001b[38;5;241m.\u001b[39mcompile(\u001b[38;5;124mr\u001b[39m\u001b[38;5;124m\"\u001b[39m\u001b[38;5;124m.*\u001b[39m\u001b[38;5;124m\"\u001b[39m)\n\u001b[0;32m      5\u001b[0m m \u001b[38;5;241m=\u001b[39m pattern\u001b[38;5;241m.\u001b[39mfindall(text)\n\u001b[1;32m----> 6\u001b[0m \u001b[38;5;28mprint\u001b[39m(\u001b[43mm\u001b[49m\u001b[38;5;241;43m.\u001b[39;49m\u001b[43msearch\u001b[49m(text)\u001b[38;5;241m.\u001b[39mgroup())\n",
      "\u001b[1;31mAttributeError\u001b[0m: 'list' object has no attribute 'search'"
     ]
    }
   ],
   "source": [
    "# 솔루션\n",
    "text = \"what are you doing?\\nit is going to be late for school\"\n",
    "\"\\nwe need to hurry up\"\n",
    "pattern = re.compile(r\".*\")\n",
    "m = pattern.findall(text)\n",
    "print(m.search(text).group())"
   ]
  },
  {
   "cell_type": "code",
   "execution_count": 370,
   "id": "1f6889df",
   "metadata": {},
   "outputs": [
    {
     "name": "stdout",
     "output_type": "stream",
     "text": [
      "what are you doing?\n",
      "it is going to be late for school\n",
      "we need to hurry up\n"
     ]
    }
   ],
   "source": [
    "# 솔루션\n",
    "text = (\"what are you doing?\\nit is going to be late for school\"\n",
    "\"\\nwe need to hurry up\") # 괄호가 찾아줄 문장 전체에 들어가야함\n",
    "p = re.compile(\".*\",re.DOTALL)\n",
    "print(p.search(text).group())"
   ]
  },
  {
   "cell_type": "code",
   "execution_count": 351,
   "id": "0bf8703c",
   "metadata": {
    "scrolled": true
   },
   "outputs": [
    {
     "name": "stdout",
     "output_type": "stream",
     "text": [
      "what are you doing?\n",
      "it is going to be late for school!\n",
      "we need to hurry up\n"
     ]
    }
   ],
   "source": [
    "# 심주승님 솔루션\n",
    "text = 'what are you doing?\\nit is going to be late for school!\\nwe need to hurry up'\n",
    "\n",
    "m = re.compile('what.*up', re.DOTALL) # what와야하고.(다되는데)*(전부)up까지. 사실상 처음부터 마지막 까지임.\n",
    "# 그리고 re.DOTALL 이면 스페이스 포함 모두(줄바꿈도 포함.)\n",
    "p = m.match(text)\n",
    "\n",
    "# print(p)\n",
    "print(p.group())"
   ]
  },
  {
   "cell_type": "code",
   "execution_count": 354,
   "id": "40b23982",
   "metadata": {},
   "outputs": [
    {
     "name": "stdout",
     "output_type": "stream",
     "text": [
      "what are you doing?\n",
      "it is going to be late for school\n",
      "we need to hurry up\n"
     ]
    }
   ],
   "source": [
    "# 최재빈님 솔루션\n",
    "import re\n",
    "\n",
    "text = 'what are you doing?\\nit is going to be late for school' '\\nwe need to hurry up'\n",
    "\n",
    "pattern = r'.+'\n",
    "\n",
    "match = re.search(pattern, text, re.DOTALL)\n",
    "\n",
    "if match:\n",
    "    full_text = match.group()\n",
    "else:\n",
    "    full_text = \"찾으시는 패턴이 없습니다\"\n",
    "\n",
    "print(full_text)"
   ]
  },
  {
   "cell_type": "code",
   "execution_count": 376,
   "id": "51ef55a4",
   "metadata": {},
   "outputs": [
    {
     "name": "stdout",
     "output_type": "stream",
     "text": [
      "<re.Match object; span=(0, 6), match='python'>\n",
      "<re.Match object; span=(0, 6), match='Python'>\n",
      "<re.Match object; span=(0, 6), match='PYTHON'>\n"
     ]
    }
   ],
   "source": [
    "# re.IGNORECASE 또는 re.I 옵션은 대소문자 구분 없이 매치를 수행시 사용\n",
    "p = re.compile(\"[a-z]+\",re.I)\n",
    "print(p.match('python'))\n",
    "print(p.match(\"Python\"))\n",
    "print(p.match(\"PYTHON\"))"
   ]
  },
  {
   "cell_type": "code",
   "execution_count": null,
   "id": "9d35a750",
   "metadata": {},
   "outputs": [],
   "source": [
    "# Q. text에서 대소문자 구분없이 전체문장 모두 출력하세요.\n",
    "text = \"Friend fRiend friEnd FRIEND\""
   ]
  },
  {
   "cell_type": "code",
   "execution_count": 5,
   "id": "a3776b89",
   "metadata": {},
   "outputs": [
    {
     "ename": "TypeError",
     "evalue": "'module' object is not iterable",
     "output_type": "error",
     "traceback": [
      "\u001b[1;31m---------------------------------------------------------------------------\u001b[0m",
      "\u001b[1;31mTypeError\u001b[0m                                 Traceback (most recent call last)",
      "Cell \u001b[1;32mIn[5], line 6\u001b[0m\n\u001b[0;32m      4\u001b[0m p \u001b[38;5;241m=\u001b[39m re\u001b[38;5;241m.\u001b[39mcompile(\u001b[38;5;124mr\u001b[39m\u001b[38;5;124m\"\u001b[39m\u001b[38;5;124mfriend\u001b[39m\u001b[38;5;124m\"\u001b[39m,re\u001b[38;5;241m.\u001b[39mI)\n\u001b[0;32m      5\u001b[0m \u001b[38;5;66;03m# print(p.findall(text))\u001b[39;00m\n\u001b[1;32m----> 6\u001b[0m \u001b[38;5;28;01mfor\u001b[39;00m i \u001b[38;5;129;01min\u001b[39;00m re:\u001b[38;5;28mprint\u001b[39m(r\u001b[38;5;241m.\u001b[39mgroup(),end\u001b[38;5;241m=\u001b[39m\u001b[38;5;124m\"\u001b[39m\u001b[38;5;124m \u001b[39m\u001b[38;5;124m\"\u001b[39m)\n",
      "\u001b[1;31mTypeError\u001b[0m: 'module' object is not iterable"
     ]
    }
   ],
   "source": [
    "# 솔루션\n",
    "import re\n",
    "text = \"Friend fRiend friEnd FRIEND\"\n",
    "p = re.compile(r\"friend\",re.I)\n",
    "# print(p.findall(text))\n",
    "for i in re:print(r.group(),end=\" \")"
   ]
  },
  {
   "cell_type": "code",
   "execution_count": 2,
   "id": "2c4900c1",
   "metadata": {},
   "outputs": [
    {
     "name": "stdout",
     "output_type": "stream",
     "text": [
      "Friend\n",
      "fRiend\n",
      "friEnd\n",
      "FRIEND\n"
     ]
    }
   ],
   "source": [
    "# 솔루션\n",
    "import re\n",
    "text = \"Friend fRiend friEnd FRIEND\"\n",
    "p = re.compile(r\"friend\",re.I)\n",
    "list = p.findall(text)\n",
    "for i in list:\n",
    "    print(i)"
   ]
  },
  {
   "cell_type": "code",
   "execution_count": 391,
   "id": "eae46765",
   "metadata": {},
   "outputs": [
    {
     "name": "stdout",
     "output_type": "stream",
     "text": [
      "Friend fRiend friEnd FRIEND\n"
     ]
    }
   ],
   "source": [
    "# 이민지님 솔루션\n",
    "text = \"Friend fRiend friEnd FRIEND\"\n",
    "p = re.compile('.*', re.I)\n",
    "print(p.match(text).group())"
   ]
  },
  {
   "cell_type": "code",
   "execution_count": 401,
   "id": "8652684a",
   "metadata": {},
   "outputs": [
    {
     "name": "stdout",
     "output_type": "stream",
     "text": [
      "['python one']\n"
     ]
    }
   ],
   "source": [
    "# python 이라는 문자열로 시작하고 그 뒤에 whitespace, 그뒤에 단어가 오는경우\n",
    "import re\n",
    "p = re.compile(\"^python\\s\\w+\") # 맨앞 파이선 스페이스 문자 가 하나이상\n",
    "\n",
    "data = \"\"\"python one\n",
    "life is too short\n",
    "python two\n",
    "you need python\n",
    "python three\"\"\"\n",
    "print(p.findall(data))"
   ]
  },
  {
   "cell_type": "code",
   "execution_count": 402,
   "id": "b052f7fd",
   "metadata": {},
   "outputs": [
    {
     "name": "stdout",
     "output_type": "stream",
     "text": [
      "['python one', 'python two', 'python three']\n"
     ]
    }
   ],
   "source": [
    "# re.MULTILINE 또는 re.M옵션으로 ^메타 문자를 각 라인의 처음으로 인식시킴\n",
    "import re\n",
    "p = re.compile(\"^python\\s\\w+\",re.M) # 매줄마다 ^ <- 캐럿을 처음으로 인식시킴 그래서 줄마다 다 출력가능..\n",
    "\n",
    "data = \"\"\"python one\n",
    "life is too short\n",
    "python two\n",
    "you need python\n",
    "python three\"\"\"\n",
    "print(p.findall(data))"
   ]
  },
  {
   "cell_type": "code",
   "execution_count": null,
   "id": "c3de7e90",
   "metadata": {},
   "outputs": [],
   "source": [
    "# 연습..\n",
    "import re\n",
    "pattern = re.compile(\"^Hello\\s\\w+\")"
   ]
  },
  {
   "cell_type": "code",
   "execution_count": null,
   "id": "7ca61a32",
   "metadata": {},
   "outputs": [],
   "source": [
    "문제6_1113: 이메일 주소 찾기\n",
    "- 조건: user@example.com과 같은 이메일 주소를 찾는 정규 표현식을 작성하세요."
   ]
  },
  {
   "cell_type": "code",
   "execution_count": 427,
   "id": "df4771a9",
   "metadata": {},
   "outputs": [
    {
     "name": "stdout",
     "output_type": "stream",
     "text": [
      "user@example.com, user@example.com "
     ]
    }
   ],
   "source": [
    "# 문제6_1113 솔루션\n",
    "import re\n",
    "emails = \"user@example.com\"\n",
    "pattern = re.compile(\".*\\@.*\\..*\")\n",
    "m = pattern.finditer(emails)\n",
    "for i in m:print(i.group(),end=\" \")"
   ]
  },
  {
   "cell_type": "code",
   "execution_count": 26,
   "id": "c4f5c3ec",
   "metadata": {},
   "outputs": [
    {
     "name": "stdout",
     "output_type": "stream",
     "text": [
      "user@example.com\n"
     ]
    }
   ],
   "source": [
    "# 문제6_1113 황인서님 솔루션\n",
    "import re \n",
    "text = \"user@example.com\"\n",
    "pattern = r\"\\b[a-zA-Z0-9._+-]+\\@[a-zA-Z0-9]+\\.[a-zA-Z]{2,4}\\b\" # \\b ~~~ \\b 은 여기부터 저기까지 막는거. 딴것들이 안들어감 다른거 개입이 안되도록..\n",
    "email = re.search(pattern, text)\n",
    "print(email.group())"
   ]
  },
  {
   "cell_type": "code",
   "execution_count": null,
   "id": "b27d8121",
   "metadata": {},
   "outputs": [],
   "source": [
    "문제7_1113: 전화번호 검증\n",
    "- 조건: 010-1234-5678 형태의 대한민국 전화번호와 일치하는 정규 표현식을 작성하세요."
   ]
  },
  {
   "cell_type": "code",
   "execution_count": 499,
   "id": "84ddab63",
   "metadata": {
    "scrolled": true
   },
   "outputs": [
    {
     "name": "stdout",
     "output_type": "stream",
     "text": [
      "010-1234-5678\n"
     ]
    }
   ],
   "source": [
    "# 문제7_1113 솔루션\n",
    "import re\n",
    "phone_numbers = '010-1234-5678'\n",
    "pattern = re.compile(r\"010-\\d{4}-\\d{4}\")\n",
    "m = pattern.search(phone_numbers)\n",
    "print(m.group())"
   ]
  },
  {
   "cell_type": "code",
   "execution_count": 501,
   "id": "ef3f95f1",
   "metadata": {},
   "outputs": [
    {
     "name": "stdout",
     "output_type": "stream",
     "text": [
      "['010-1234-5678']\n"
     ]
    }
   ],
   "source": [
    "# 문제7_1113 윤성민님 솔루션 \n",
    "import re\n",
    "\n",
    "# phone_pattern = r'[0-9]{3}-[0-9]{4}-[0-9]{4}'\n",
    "phone_pattern = r'\\d{3}-\\d{4}-\\d{4}'\n",
    "\n",
    "text = '대한민국 전화번호는 010-1234-5678입니다.'\n",
    "\n",
    "matches = re.findall(phone_pattern, text)\n",
    "\n",
    "print(matches)"
   ]
  },
  {
   "cell_type": "code",
   "execution_count": null,
   "id": "3b15ee23",
   "metadata": {},
   "outputs": [],
   "source": [
    "문제8_1113: 웹사이트 URL 검증\n",
    "- 조건: http://www.example.com 형태의 웹사이트 주소와 일치하는 정규 표현식을 작성하세요."
   ]
  },
  {
   "cell_type": "code",
   "execution_count": 447,
   "id": "f8eded59",
   "metadata": {},
   "outputs": [
    {
     "name": "stdout",
     "output_type": "stream",
     "text": [
      "http://www.example.com\n"
     ]
    }
   ],
   "source": [
    "# 문제8_1113 솔루션\n",
    "websites = 'http://www.example.com'\n",
    "pattern = re.compile(r\"http://www\\..*\\.com\")\n",
    "m = pattern.search(websites)\n",
    "print(m.group())"
   ]
  },
  {
   "cell_type": "code",
   "execution_count": 502,
   "id": "bcf1607f",
   "metadata": {},
   "outputs": [
    {
     "name": "stdout",
     "output_type": "stream",
     "text": [
      "['http://www.example.com']\n"
     ]
    }
   ],
   "source": [
    "# 문제8_1113 최재빈님 솔루션\n",
    "import re\n",
    "pattern = r'http://www\\.[a-zA-Z0-9]+\\.[a-zA-Z]+'\n",
    "\n",
    "text = 'asdzxv http://www.example.com'\n",
    "\n",
    "print(re.findall(pattern, text))"
   ]
  },
  {
   "cell_type": "code",
   "execution_count": 36,
   "id": "de7a1a36",
   "metadata": {},
   "outputs": [
    {
     "name": "stdout",
     "output_type": "stream",
     "text": [
      "유효한 URL입니다.\n"
     ]
    }
   ],
   "source": [
    "# 문제8_1113 솔루션 # ?를 사용하여 http, https 둘다 할수있게끔..\n",
    "url_example = \"http://www.example.com\"\n",
    "url_pattern = r'http[s]?://www\\.[a-zA-Z0-9-]+\\.[a-zA-Z]+/?'\n",
    "if re.match(url_pattern, url_example):\n",
    "    print(\"유효한 URL입니다.\")\n",
    "else:\n",
    "    print(\"유효하지 않은 URL입니다.\")"
   ]
  },
  {
   "cell_type": "code",
   "execution_count": null,
   "id": "34a0acaf",
   "metadata": {},
   "outputs": [],
   "source": [
    "문제9_1113: 날짜 형식 검증\n",
    "- 조건: YYYY-MM-DD 형식의 날짜와 일치하는 정규 표현식을 작성하세요 (예: 2023-11-09)."
   ]
  },
  {
   "cell_type": "code",
   "execution_count": 448,
   "id": "5487092b",
   "metadata": {},
   "outputs": [
    {
     "name": "stdout",
     "output_type": "stream",
     "text": [
      "2023-11-09\n"
     ]
    }
   ],
   "source": [
    "# 문제9_1113 솔루션\n",
    "import re\n",
    "dates = \"2023-11-09\"\n",
    "pattern = re.compile(r\"\\d{4}-\\d{2}-\\d{2}\")\n",
    "m = pattern.search(dates)\n",
    "print(m.group())"
   ]
  },
  {
   "cell_type": "code",
   "execution_count": null,
   "id": "f7ce460b",
   "metadata": {},
   "outputs": [],
   "source": [
    "문제10_1113: HTML 태그 제거\n",
    "- 조건: <p>Hello World</p>와 같은 HTML 태그를 찾아 제거하는 정규 표현식을 작성하세요."
   ]
  },
  {
   "cell_type": "code",
   "execution_count": 504,
   "id": "4157911a",
   "metadata": {},
   "outputs": [
    {
     "name": "stdout",
     "output_type": "stream",
     "text": [
      "Hello World\n"
     ]
    }
   ],
   "source": [
    "# 문제10_1113 서영우님 솔루션 \n",
    "p = re.compile(r'\\W+\\w\\W')\n",
    "print(p.sub('', '<p>Hello World</p>'))"
   ]
  },
  {
   "cell_type": "code",
   "execution_count": 506,
   "id": "ce8b02e6",
   "metadata": {},
   "outputs": [
    {
     "name": "stdout",
     "output_type": "stream",
     "text": [
      "Hello World\n"
     ]
    }
   ],
   "source": [
    "# 문제10_1113 주용규님 솔루션 \n",
    "import re\n",
    "p10 = re.compile(r'<.*?>') # *? 이렇게하면 특정 특징이 생김....\n",
    "t10 = r'<p>Hello World</p>'\n",
    "\n",
    "print(re.sub(p10,'',t10))"
   ]
  },
  {
   "cell_type": "code",
   "execution_count": 22,
   "id": "e7a2a491",
   "metadata": {},
   "outputs": [
    {
     "name": "stdout",
     "output_type": "stream",
     "text": [
      "Hello World\n"
     ]
    }
   ],
   "source": [
    "import re\n",
    "\n",
    "html_example = '<p>Hello World</p>'\n",
    "html_pattern = r\"<[^>]+>\"\n",
    "m = re.sub(html_pattern, '', html_example)\n",
    "print(m)"
   ]
  },
  {
   "cell_type": "code",
   "execution_count": 509,
   "id": "7f9810db",
   "metadata": {
    "scrolled": false
   },
   "outputs": [
    {
     "name": "stdout",
     "output_type": "stream",
     "text": [
      "<re.Match object; span=(0, 4), match='Crow'>\n",
      "\n",
      "<re.Match object; span=(0, 4), match='Life'>\n",
      "None\n",
      "\n",
      "None\n",
      "<re.Match object; span=(3, 7), match='Life'>\n"
     ]
    }
   ],
   "source": [
    "# 메타 문자\n",
    "# |(or와 동일한 의미), ^(문자열의 맨처음), $(문자열의 끝과 매치)\n",
    "import re\n",
    "p = re.compile(\"Crow|Servo\")\n",
    "m = p.match(\"CrowHello\")\n",
    "print(m)\n",
    "print()\n",
    "print(re.search(\"^Life\",\"Life is too short\"))\n",
    "print(re.search(\"^Life\",\"My Life\"))\n",
    "print()\n",
    "print(re.search(\"Life$\",\"Life is too short\"))\n",
    "print(re.search(\"Life$\",\"My Life\"))"
   ]
  },
  {
   "cell_type": "code",
   "execution_count": 511,
   "id": "c4753a63",
   "metadata": {},
   "outputs": [
    {
     "name": "stdout",
     "output_type": "stream",
     "text": [
      "home\n"
     ]
    }
   ],
   "source": [
    "# Q. \"we are going home\" 에서 home 만 출력하세요.\n",
    "text = \"we are going home\"\n",
    "regex = re.compile(r\"home$\")\n",
    "m1 = regex.search(text)\n",
    "print(m1.group())"
   ]
  },
  {
   "cell_type": "code",
   "execution_count": 514,
   "id": "b66bc479",
   "metadata": {
    "scrolled": true
   },
   "outputs": [
    {
     "name": "stdout",
     "output_type": "stream",
     "text": [
      "199305\n"
     ]
    }
   ],
   "source": [
    "# Q. '199305,1923A,a93247' 에서 '199305' 만 출력하세요.\n",
    "text = '199305,1923A,a93247'\n",
    "pattern = re.compile(r\"\\d{6}\")\n",
    "m = pattern.match(text)\n",
    "print(m.group())"
   ]
  },
  {
   "cell_type": "code",
   "execution_count": 523,
   "id": "f0f91e22",
   "metadata": {},
   "outputs": [
    {
     "name": "stdout",
     "output_type": "stream",
     "text": [
      "['199305']\n"
     ]
    }
   ],
   "source": [
    "regex = re.compile(r\"^\\d+\")\n",
    "m = regex.findall('199305,1923A,a93247')\n",
    "print(m)"
   ]
  },
  {
   "cell_type": "code",
   "execution_count": 526,
   "id": "679dd7a4",
   "metadata": {},
   "outputs": [
    {
     "data": {
      "text/plain": [
       "['99food234']"
      ]
     },
     "execution_count": 526,
     "metadata": {},
     "output_type": "execute_result"
    }
   ],
   "source": [
    "# Q. \"99food234, a93456\\n, a9356ba\" 에서 \"99food234\"만 출력하세요\n",
    "regex = re.compile(r\"^\\w+\\d\") # \\w 는 문자,숫자,밑줄 로 시작되고 그게 하나이상이고 그리고 숫자\n",
    "regex.findall(\"99food234, a93456\\n, a9356ba \")"
   ]
  },
  {
   "cell_type": "code",
   "execution_count": 23,
   "id": "b6ec83c6",
   "metadata": {},
   "outputs": [
    {
     "name": "stdout",
     "output_type": "stream",
     "text": [
      "<re.Match object; span=(3, 8), match='class'>\n",
      "None\n",
      "\n",
      "None\n",
      "<re.Match object; span=(6, 11), match='class'>\n"
     ]
    }
   ],
   "source": [
    "# \\b whitespace 에 의해 구분\n",
    "# \\B whitespace로 구분된 단어가 아닌 경우에만 매치\n",
    "p = re.compile(r\"\\bclass\\b\") # class 블락\n",
    "print(p.search(\"no class at all\")) # 블락이 된것 출력\n",
    "print(p.search(\"the declassified algorithim\")) # 블락이 되지않은것 출력 X\n",
    "print()\n",
    "q = re.compile(r\"\\Bclass\\B\") # class 양쪽에 무언가가 와야함 그러면 출력\n",
    "print(q.search(\"no class at all\")) # 블락이 된것 출력 X\n",
    "print(q.search(\"the declassified algorithim\")) # 블락이 되지않은것 출력"
   ]
  },
  {
   "cell_type": "code",
   "execution_count": 2,
   "id": "061431c3",
   "metadata": {},
   "outputs": [
    {
     "name": "stdout",
     "output_type": "stream",
     "text": [
      "중복 중복\n"
     ]
    }
   ],
   "source": [
    "# \\1dms cjt qjsWo zoqcj rmfnq ((\\b\\w+))이 매치한 텍스트와 동일한 텍스트를 다시 찾는다.\n",
    "# Capturing Group ((\\b\\w+)): 괄호는 캡처 그룹을 만듭니다. 이 경우 \\b\\w+ 는 단어 경계로 시작하는 하나 이상의 단어 문자로 이루어진\n",
    "# 시퀸스를 캡처\n",
    "import re\n",
    "\n",
    "pattern = r\"(\\b\\w+)\\s+\\1\"\n",
    "text = \"이것은 중복 중복 단어입니다.\"\n",
    "\n",
    "match = re.search(pattern, text)\n",
    "\n",
    "if match :\n",
    "    print(match.group()) # \"중복 중복\""
   ]
  },
  {
   "cell_type": "code",
   "execution_count": 17,
   "id": "2edd14e5",
   "metadata": {},
   "outputs": [
    {
     "name": "stdout",
     "output_type": "stream",
     "text": [
      "년 :  2023-04-30\n",
      "월 :  04\n",
      "일 :  30\n",
      "2023-04-30\n"
     ]
    }
   ],
   "source": [
    "# 첫 번째 숫자 그룹은 비캡처 그룹 (?:\\d{4}) 로 설정되어 있어, 매치 결과는 저장되지 않고 '월'과 '일'만 캡처된다.\n",
    "import re\n",
    "\n",
    "pattern = r\"(?:\\d{4})-(\\d{2})-(\\d{2})\"\n",
    "text = \"오늘의 날짜는 2023-04-30입니다.\"\n",
    "\n",
    "match = re.search(pattern, text)\n",
    "\n",
    "if match : \n",
    "#     print(\"년 : \", match.group()) # 그룹화 안됨. 왜냐면 캡처가 안되기때문. ?: 가 그런의미\n",
    "    print(\"월 : \", match.group(1)) # '04'\n",
    "    print(\"일 : \", match.group(2)) # '30'\n",
    "    print(match.group(0))"
   ]
  },
  {
   "cell_type": "code",
   "execution_count": 4,
   "id": "ff4303ba",
   "metadata": {},
   "outputs": [
    {
     "name": "stdout",
     "output_type": "stream",
     "text": [
      "<re.Match object; span=(3, 9), match='ABCDEF'>\n",
      "ABCDEF\n",
      "ABCDEF\n",
      "AB\n",
      "CD\n",
      "EF\n"
     ]
    }
   ],
   "source": [
    "p = re.compile(\"((AB)(CD)(EF))+\")\n",
    "m = p.search(\"DEFABCDEFDEF OK?\")\n",
    "print(m)\n",
    "print(m.group(0))\n",
    "print(m.group(1))\n",
    "print(m.group(2))\n",
    "print(m.group(3))\n",
    "print(m.group(4))"
   ]
  },
  {
   "cell_type": "code",
   "execution_count": null,
   "id": "ac59d937",
   "metadata": {},
   "outputs": [],
   "source": [
    "# Q. 정규표현식을 사용하여 text에서 지역코드만 출력하세요.\n",
    "import re\n",
    "text = \"문의사항이 있으면 032-232-3245 으로 연락주시기 바랍니다.\"\n",
    "# 지역코드 = 032"
   ]
  },
  {
   "cell_type": "code",
   "execution_count": 8,
   "id": "bb2cb85e",
   "metadata": {},
   "outputs": [
    {
     "name": "stdout",
     "output_type": "stream",
     "text": [
      "<re.Match object; span=(10, 13), match='032'>\n"
     ]
    }
   ],
   "source": [
    "# 솔루션\n",
    "import re\n",
    "text = \"문의사항이 있으면 032-232-3245 으로 연락주시기 바랍니다.\"\n",
    "pattern = re.compile(r\"\\d{3}\")\n",
    "m = pattern.search(text)\n",
    "print(m)"
   ]
  },
  {
   "cell_type": "code",
   "execution_count": 13,
   "id": "5973beb2",
   "metadata": {},
   "outputs": [
    {
     "name": "stdout",
     "output_type": "stream",
     "text": [
      "032\n"
     ]
    }
   ],
   "source": [
    "# 서영우님 솔루션\n",
    "text = '문의사항이 있으면 032-232-3245 으로 연락주시기 바랍니다.'\n",
    "p = re.compile('(\\d{3})-(\\d{3}-\\d{4})')\n",
    "print(p.search(text).group(1)) # 그룹화.. 그룹화의 목적은 원한는 것만 뽑기 위해.."
   ]
  },
  {
   "cell_type": "code",
   "execution_count": 14,
   "id": "1ca60681",
   "metadata": {},
   "outputs": [
    {
     "name": "stdout",
     "output_type": "stream",
     "text": [
      "232-3245\n"
     ]
    }
   ],
   "source": [
    "# 지역코드 제외해서 뽑으면....\n",
    "text = '문의사항이 있으면 032-232-3245 으로 연락주시기 바랍니다.'\n",
    "p = re.compile('(\\d{3})-(\\d{3}-\\d{4})')\n",
    "print(p.search(text).group(2))"
   ]
  },
  {
   "cell_type": "code",
   "execution_count": 16,
   "id": "dae6609f",
   "metadata": {
    "scrolled": true
   },
   "outputs": [
    {
     "name": "stdout",
     "output_type": "stream",
     "text": [
      "<re.Match object; span=(0, 18), match='park 010-1234-1234'>\n",
      "park 010-1234-1234\n",
      "park\n",
      "010-1234-1234\n",
      "010\n",
      "park 010-1234-1234\n"
     ]
    }
   ],
   "source": [
    "# 그룹이 중첩되어 있는 경우는 바깥쪽부터 시작하여 안쪽으로 들어갈수록 인덱스 증가\n",
    "# Q. 정규표현식을 사용하여 \"park 010-1234-1234\" 에서 지역코드만 출력하세요.\n",
    "\n",
    "p = re.compile(r\"(\\w+)\\s+((\\d+)[-]\\d+[-]\\d+)\")\n",
    "m = p.search(\"park 010-1234-1234\")\n",
    "print(m)\n",
    "print(m.group(0))\n",
    "print(m.group(1))\n",
    "print(m.group(2))\n",
    "print(m.group(3))\n",
    "print(m.group())"
   ]
  },
  {
   "cell_type": "code",
   "execution_count": 49,
   "id": "e40a80b5",
   "metadata": {},
   "outputs": [
    {
     "name": "stdout",
     "output_type": "stream",
     "text": [
      "<re.Match object; span=(0, 18), match='park 010-1234-1234'>\n",
      "park\n",
      "park 010-1234-1234\n",
      "park\n",
      "010-1234-1234\n",
      "010\n"
     ]
    }
   ],
   "source": [
    "# 그룹핑된 문자열에 이름 붙이기 : 확장 구문 (?P<name>\\w+)\n",
    "p = re.compile(r\"(?P<name>\\w+)\\s+((\\d+)[-]\\d+[-]\\d+)\")\n",
    "m = p.search(\"park 010-1234-1234\")\n",
    "print(m)\n",
    "print(m.group(\"name\"))\n",
    "print(m.group(0))\n",
    "print(m.group(1))\n",
    "print(m.group(2))\n",
    "print(m.group(3)) # 그룹은 바깥게 먼저 이거는 (\\d+) 그룹안의 그룹"
   ]
  },
  {
   "cell_type": "code",
   "execution_count": 63,
   "id": "8bf6e2cb",
   "metadata": {},
   "outputs": [
    {
     "data": {
      "text/plain": [
       "'the the'"
      ]
     },
     "execution_count": 63,
     "metadata": {},
     "output_type": "execute_result"
    }
   ],
   "source": [
    "# 그룹명을 이용하여 정규식 내에서 재참조\n",
    "p = re.compile(r\"(?P<word>\\w+)\\s+(?P=word)\")\n",
    "p.search(\"Paris in the the spring\").group()"
   ]
  },
  {
   "cell_type": "code",
   "execution_count": null,
   "id": "329979bf",
   "metadata": {},
   "outputs": [],
   "source": [
    "# Q. 이름으로 그룹을 참조하여 \"Lots of punctuation\" 에서 Lots을 출력하세요."
   ]
  },
  {
   "cell_type": "code",
   "execution_count": 66,
   "id": "d4f64176",
   "metadata": {},
   "outputs": [
    {
     "data": {
      "text/plain": [
       "'Lots'"
      ]
     },
     "execution_count": 66,
     "metadata": {},
     "output_type": "execute_result"
    }
   ],
   "source": [
    "# 솔루션\n",
    "import re\n",
    "text = \"Lots of punctuation\"\n",
    "pattern = re.compile(r\"(?P<word>\\b\\w+\\b)\")\n",
    "m = pattern.search( \"((( Lots of punctuation)))\" )\n",
    "m.group()"
   ]
  },
  {
   "cell_type": "markdown",
   "id": "d424a1fa",
   "metadata": {},
   "source": [
    "정규 표현식에서 전방탐색(Lookahead) # 난이도 중급 이상\n",
    "- 특정 패턴 뒤에 오는 문자열을 확인하는 방법으로, 긍정 전방탐색과 부정 전방탐색 두 가지 형태가 있다. \n",
    "- 이들은 매칭을 결정하는 조건을 설정하지만, 실제로 해당 문자열을 결과에 포함시키지는 않는다. 즉, 문자열을 '소모(consume)'하지 않는다..\n",
    "\n",
    "- 긍정 전방탐색 (Positive Lookahead)\n",
    "    - 형식: (?=...)\n",
    "    - 설명: 긍정 전방탐색은 ...에 해당하는 정규식 패턴이 일치해야 하지만, 해당 부분은 결과에 포함되지 않는다.\n",
    "    - 예시: X(?=Y)는 'Y'가 뒤따르는 'X'에 일치합니다. 'X'는 결과에 포함되지만, 'Y'는 포함되지 않는다.\n",
    "- 부정 전방탐색 (Negative Lookahead)\n",
    "    - 형식: (?!...)\n",
    "    - 설명: 부정 전방탐색은 ...에 해당하는 정규식 패턴이 일치하지 않아야 합니다. 여기서도 일치하는 부분은 결과에 포함되지 않는다.\n",
    "    - 예시: X(?!Y)는 'Y'가 뒤따르지 않는 'X'에 일치합니다. 'X'는 결과에 포함되지만, 'Y'는 검사 대상이지 결과에 포함되지 않는다."
   ]
  },
  {
   "cell_type": "code",
   "execution_count": 67,
   "id": "4784827d",
   "metadata": {},
   "outputs": [
    {
     "name": "stdout",
     "output_type": "stream",
     "text": [
      "http:\n",
      "\n",
      "http\n",
      "\n"
     ]
    }
   ],
   "source": [
    "# 전방 탐색\n",
    "# 긍정 (?=...) ...에 해당되는 정규식과 매치되어야 하며 조건이 통과되어도 문자열이 소모되지 않음\n",
    "# 부정 (?!...) ...에 해당되는 정규식과 매치되지 않아야 하며 조건이 통과되어도 문자열이 소모되지 않음\n",
    "\n",
    "p = re.compile(r\".+:\")\n",
    "m = p.search(\"http://google.com\")\n",
    "print(m.group())\n",
    "print()\n",
    "p=re.compile(r\".+(?=:)\") # : 에 해당되는 문자열이 정규식 엔진에 의해 소모되지 않음(검색에는 포함되자만 결과에는 제외)\n",
    "m = p.search(\"http://google.com\")\n",
    "print(m.group())\n",
    "print()"
   ]
  },
  {
   "cell_type": "markdown",
   "id": "b0b2d993",
   "metadata": {},
   "source": [
    "긍정 전방탐색 사용\n",
    "\n",
    "문제1_1114: 문자열 \"I love cats but I hate catching colds\"에서 'cat' 다음에 's'가 오는 단어만 찾으세요."
   ]
  },
  {
   "cell_type": "code",
   "execution_count": 71,
   "id": "bb2a2e93",
   "metadata": {},
   "outputs": [
    {
     "name": "stdout",
     "output_type": "stream",
     "text": [
      "cat\n"
     ]
    }
   ],
   "source": [
    "# 문제1_1114 솔루션\n",
    "text = \"I love cats but I hate catching colds\"\n",
    "pattern = re.compile(r\"cat(?=s)\")\n",
    "m = pattern.search(text)\n",
    "print(m.group())"
   ]
  },
  {
   "cell_type": "code",
   "execution_count": 68,
   "id": "f6656c98",
   "metadata": {},
   "outputs": [
    {
     "data": {
      "text/plain": [
       "<re.Match object; span=(7, 10), match='cat'>"
      ]
     },
     "execution_count": 68,
     "metadata": {},
     "output_type": "execute_result"
    }
   ],
   "source": [
    "import re\n",
    "text = \"I love cats but I hate catching colds\"\n",
    "pattern = re.compile(r'cat(?=s)')\n",
    "pattern.search(text)"
   ]
  },
  {
   "cell_type": "markdown",
   "id": "6894521e",
   "metadata": {},
   "source": [
    "부정 전방탐색 사용\n",
    "\n",
    "문제2_1114: 문자열 \"7UP, Cherry7UP, 7Down\"에서 '7' 뒤에 'UP'이 오지 않는 숫자 7을 찾으세요."
   ]
  },
  {
   "cell_type": "code",
   "execution_count": 74,
   "id": "e8fbdc34",
   "metadata": {
    "scrolled": true
   },
   "outputs": [
    {
     "name": "stdout",
     "output_type": "stream",
     "text": [
      "7\n"
     ]
    }
   ],
   "source": [
    "# 문제2_1114 솔루션\n",
    "text = \"7UP, Cherry7UP, 7Down\"\n",
    "pattern = re.compile(r\"7(?!UP)\")\n",
    "m = re.search(pattern,text)\n",
    "print(m.group())"
   ]
  },
  {
   "cell_type": "markdown",
   "id": "d3409036",
   "metadata": {},
   "source": [
    "문제3_1114: 다음 텍스트에서 화폐 단위('€')가 붙어 있는 숫자만 찾으세요.\n",
    "\n",
    "\"Prices are 30€ for adults, 20 for children and 25€ for seniors.\""
   ]
  },
  {
   "cell_type": "code",
   "execution_count": 1,
   "id": "64b316d5",
   "metadata": {
    "scrolled": true
   },
   "outputs": [
    {
     "name": "stdout",
     "output_type": "stream",
     "text": [
      "30 25 "
     ]
    }
   ],
   "source": [
    "# 문제3_1114 솔루션\n",
    "import re\n",
    "text = \"Prices are 30€ for adults, 20 for children and 25€ for seniors.\"\n",
    "pattern = re.compile(r\"\\d+(?=€)\")\n",
    "m = re.finditer(pattern,text)\n",
    "for i in m :\n",
    "    print(i.group(), end=\" \")"
   ]
  },
  {
   "cell_type": "code",
   "execution_count": 3,
   "id": "aa8372da",
   "metadata": {},
   "outputs": [
    {
     "name": "stdout",
     "output_type": "stream",
     "text": [
      "3 20 2 "
     ]
    }
   ],
   "source": [
    "import re\n",
    "text = \"Prices are 30€ for adults, 20 for children and 25€ for seniors.\"\n",
    "pattern = re.compile(r\"\\d+(?!€)\") # 부정 탐색\n",
    "m = re.finditer(pattern,text)\n",
    "for i in m :\n",
    "    print(i.group(), end=\" \") # 3 20 2 가 나오는데 그 이유는 3뒤에오면 안됨 그래서 0유로는 안나오고 3만나옴\n",
    "    #20같은경우에는 20뒤에 오면안되는데 안와서 그대로 출력됨"
   ]
  },
  {
   "cell_type": "code",
   "execution_count": 4,
   "id": "05d05807",
   "metadata": {},
   "outputs": [
    {
     "name": "stdout",
     "output_type": "stream",
     "text": [
      "['30', '25']\n"
     ]
    }
   ],
   "source": [
    "# 문제3_1114 전유빈님 솔루션\n",
    "import re\n",
    "p = r'\\d+(?=€)'\n",
    "print(re.findall(p,\"Prices are 30€ for adults, 20 for children and 25€ for seniors.\"))"
   ]
  },
  {
   "cell_type": "markdown",
   "id": "a1813c3a",
   "metadata": {},
   "source": [
    "문제4_1114: 다음 텍스트에서 'com'으로 끝나는 이메일 주소의 도메인 부분만 추출하세요. (예: 'example@domain.com'에서 'domain')"
   ]
  },
  {
   "cell_type": "code",
   "execution_count": 5,
   "id": "ab52e425",
   "metadata": {},
   "outputs": [
    {
     "name": "stdout",
     "output_type": "stream",
     "text": [
      "['domain.com']\n"
     ]
    }
   ],
   "source": [
    "# 문제4_1114 서영우님 솔루션\n",
    "p = re.compile(r'\\w+.(?=com).+')\n",
    "m = p.findall('example@domain.com')\n",
    "print(m)"
   ]
  },
  {
   "cell_type": "code",
   "execution_count": 6,
   "id": "1c54b103",
   "metadata": {},
   "outputs": [
    {
     "name": "stdout",
     "output_type": "stream",
     "text": [
      "['company', 'enterprise']\n"
     ]
    }
   ],
   "source": [
    "# text2 가 주어진 문제4..\n",
    "text2 = \"Contact us at support@company.com, sales@enterprise.com or info@organization.org.\"\n",
    "pattern2 = r\"(?<=@)[a-zA-Z0-9.-]+(?=\\.com)\" # ?<= 후방탐색\n",
    "matches2 = re.findall(pattern2, text2)\n",
    "print(matches2)"
   ]
  },
  {
   "cell_type": "code",
   "execution_count": 2,
   "id": "847cabf8",
   "metadata": {},
   "outputs": [
    {
     "name": "stdout",
     "output_type": "stream",
     "text": [
      "colour socks and colour shoes\n",
      "colour socks and red shoes\n",
      "colur socks and colur shoes\n"
     ]
    }
   ],
   "source": [
    "# 문자열 바꾸기\n",
    "# sub 메서드를 사용하면 정규식과 매치되는 부분을 다른 문자로 쉽게 바굴 수 있음\n",
    "# 바꾸기 횟수를 제어하려면 세 번째 매개변수로 count 값을 넘기면 됨\n",
    "# subn 역시 sub와 동일한 기능을 하지만 반환 결과를 튜플로 돌려줌. 두 번째 요소는 바꾸기 발생 횟수\n",
    "p = re.compile(\"(blue|white|red)\")\n",
    "print(p.sub(\"colour\", \"blue socks and red shoes\"))\n",
    "print(p.sub(\"colour\", \"blue socks and red shoes\", count=1)) # 바꾸기 횟수를 제어\n",
    "print(p.sub(\"colur\",\"blue socks and red shoes\"))"
   ]
  },
  {
   "cell_type": "markdown",
   "id": "b3574a02",
   "metadata": {},
   "source": [
    "문제5_1114: 텍스트에서 모든 이메일 주소를 'email'로 대체하세요.\n",
    "    \n",
    "text = \"Contact: john.doe@example.com, jane.smith@workplace.org\""
   ]
  },
  {
   "cell_type": "code",
   "execution_count": 7,
   "id": "7646244c",
   "metadata": {},
   "outputs": [
    {
     "name": "stdout",
     "output_type": "stream",
     "text": [
      "Contact: email, email\n"
     ]
    }
   ],
   "source": [
    "# 문제5_1114 김신미님 솔루션\n",
    "import re\n",
    "\n",
    "txt = \"Contact: john.doe@example.com, jane.smith@workplace.org\"\n",
    "p = re.compile(r'[a-zA-z0-9.%+-_]+@[a-zA-Z0-9]+\\.[A-Za-z]{2,5}')\n",
    "\n",
    "print(p.sub('email', txt))"
   ]
  },
  {
   "cell_type": "markdown",
   "id": "8eee7fa2",
   "metadata": {},
   "source": [
    "문제6_1114: 텍스트에서 모든 전화번호를 'phone'으로 대체하세요. 전화번호는 다음과 같은 형식으로 가정합니다: '123-456-7890'."
   ]
  },
  {
   "cell_type": "code",
   "execution_count": 8,
   "id": "957f9552",
   "metadata": {},
   "outputs": [
    {
     "name": "stdout",
     "output_type": "stream",
     "text": [
      "phone\n"
     ]
    }
   ],
   "source": [
    "# 문제6_1114 김학준님 솔루션\n",
    "import re\n",
    "p = re.compile(r'\\d{3}-\\d{3}-\\d{4}')\n",
    "t ='123-456-7890'\n",
    "m=p.sub('phone',t)\n",
    "print(m)"
   ]
  },
  {
   "cell_type": "code",
   "execution_count": 10,
   "id": "eb7c9b56",
   "metadata": {},
   "outputs": [
    {
     "ename": "TypeError",
     "evalue": "sub() missing 1 required positional argument: 'string'",
     "output_type": "error",
     "traceback": [
      "\u001b[1;31m---------------------------------------------------------------------------\u001b[0m",
      "\u001b[1;31mTypeError\u001b[0m                                 Traceback (most recent call last)",
      "Cell \u001b[1;32mIn[10], line 4\u001b[0m\n\u001b[0;32m      2\u001b[0m text2 \u001b[38;5;241m=\u001b[39m \u001b[38;5;124m\"\u001b[39m\u001b[38;5;124mOur office numbers are 123-456-7890 and 987-654-3210.\u001b[39m\u001b[38;5;124m\"\u001b[39m\n\u001b[0;32m      3\u001b[0m pattern2 \u001b[38;5;241m=\u001b[39m \u001b[38;5;124mr\u001b[39m\u001b[38;5;124m\"\u001b[39m\u001b[38;5;124m\\\u001b[39m\u001b[38;5;124md\u001b[39m\u001b[38;5;132;01m{3}\u001b[39;00m\u001b[38;5;124m-\u001b[39m\u001b[38;5;124m\\\u001b[39m\u001b[38;5;124md\u001b[39m\u001b[38;5;132;01m{3}\u001b[39;00m\u001b[38;5;124m-\u001b[39m\u001b[38;5;124m\\\u001b[39m\u001b[38;5;124md\u001b[39m\u001b[38;5;124m{\u001b[39m\u001b[38;5;124m4]}\u001b[39m\u001b[38;5;124m\"\u001b[39m\n\u001b[1;32m----> 4\u001b[0m replaced_text2 \u001b[38;5;241m=\u001b[39m \u001b[43mre\u001b[49m\u001b[38;5;241;43m.\u001b[39;49m\u001b[43msub\u001b[49m\u001b[43m(\u001b[49m\u001b[43mpattern2\u001b[49m\u001b[43m,\u001b[49m\u001b[43m \u001b[49m\u001b[38;5;124;43m'\u001b[39;49m\u001b[38;5;124;43mphone\u001b[39;49m\u001b[38;5;124;43m'\u001b[39;49m\u001b[43m)\u001b[49m\n\u001b[0;32m      5\u001b[0m \u001b[38;5;28mprint\u001b[39m(replaced_text2)\n",
      "\u001b[1;31mTypeError\u001b[0m: sub() missing 1 required positional argument: 'string'"
     ]
    }
   ],
   "source": [
    "# 문제6 text2 가 주어진...\n",
    "text2 = \"Our office numbers are 123-456-7890 and 987-654-3210.\"\n",
    "pattern2 = r\"\\d{3}-\\d{3}-\\d{4]}\"\n",
    "replaced_text2 = re.sub(pattern2, 'phone')"
   ]
  },
  {
   "cell_type": "code",
   "execution_count": 76,
   "id": "21485d26",
   "metadata": {},
   "outputs": [
    {
     "data": {
      "text/plain": [
       "'abc'"
      ]
     },
     "execution_count": 76,
     "metadata": {},
     "output_type": "execute_result"
    }
   ],
   "source": [
    "import re\n",
    "p = re.compile(\"\\d\")\n",
    "p.sub(\"\",\"12345abc\")"
   ]
  },
  {
   "cell_type": "code",
   "execution_count": 80,
   "id": "90f2f1e9",
   "metadata": {},
   "outputs": [
    {
     "data": {
      "text/plain": [
       "'12345'"
      ]
     },
     "execution_count": 80,
     "metadata": {},
     "output_type": "execute_result"
    }
   ],
   "source": [
    "# Q. \"12345abc\"에서 '12345' 만 출력하세요.\n",
    "import re\n",
    "str = '12345abc'\n",
    "re.sub(\"[^0-9]\",'',str)"
   ]
  },
  {
   "cell_type": "code",
   "execution_count": 84,
   "id": "1fa187b2",
   "metadata": {},
   "outputs": [
    {
     "name": "stdout",
     "output_type": "stream",
     "text": [
      "010-1234-1234 park\n"
     ]
    }
   ],
   "source": [
    "# sub 메서드를 사용할 때 참조 구문을 사용\n",
    "# 이름 + 전화번호의 문자열을 전화번호 + 이름으로 바꾸는 예\n",
    "# sub의 바꿀 문자열 부분에 \\g<그룹이름>을 사용하면 정규식의 그룹 이름을 참조\n",
    "p = re.compile(r\"(?P<name>\\w+)\\s+(?P<phone>(\\d+)[-]\\d+[-]\\d+)\")\n",
    "print(p.sub(\"\\g<phone> \\g<name>\", \"park 010-1234-1234\")) # \\g<phone> \\g<name> 은 대체할 문자열"
   ]
  },
  {
   "cell_type": "code",
   "execution_count": 93,
   "id": "2216fda5",
   "metadata": {},
   "outputs": [
    {
     "name": "stdout",
     "output_type": "stream",
     "text": [
      "010-1234-1234 park\n"
     ]
    }
   ],
   "source": [
    "# 그룹 이름 대신 참조 번호를 사용할 수있음\n",
    "p = re.compile(r\"(?P<name>\\w+)\\s+(?P<phone>(\\d+)[-]\\d+[-]\\d+)\")\n",
    "print(p.sub(\"\\g<2> \\g<1>\",\"park 010-1234-1234\"))"
   ]
  },
  {
   "cell_type": "code",
   "execution_count": 91,
   "id": "9f58223d",
   "metadata": {},
   "outputs": [
    {
     "name": "stdout",
     "output_type": "stream",
     "text": [
      "010-1234-1234 park\n"
     ]
    }
   ],
   "source": [
    "p = re.compile(r\"(?P<name>\\w+)\\s+(?P<number>(\\d+)[-]\\d+[-]\\d+)\")\n",
    "print(p.sub(\"\\g<number> \\g<name>\", \"park 010-1234-1234\"))"
   ]
  },
  {
   "cell_type": "code",
   "execution_count": 90,
   "id": "95e8a95f",
   "metadata": {},
   "outputs": [
    {
     "data": {
      "text/plain": [
       "'Call 0xffd2 for printing, 0xc000 for user code.'"
      ]
     },
     "execution_count": 90,
     "metadata": {},
     "output_type": "execute_result"
    }
   ],
   "source": [
    "# sub 메서드의 매개변수로 함수 넣기\n",
    "# hexrepl 함수는 match 객체(위에서 숫자에 매치되는)를 입력으로 받아 16진수로 변환하여 돌려주는 함수\n",
    "# sub의 첫 번째 매개변수로 함수를 사용할 경우 해당 함수의 첫 번째 매개변수에는 정규식과 매치된 match객체가 입력\n",
    "# 매치되는 문자열은 함수의 반환 값으로 변환\n",
    "\n",
    "def hexrepl(match):\n",
    "    value = int(match.group())\n",
    "    return hex(value)\n",
    "p = re.compile(r\"\\d+\")\n",
    "p.sub(hexrepl, \"Call 65490 for printing, 49152 for user code.\")"
   ]
  },
  {
   "cell_type": "markdown",
   "id": "b11f28eb",
   "metadata": {},
   "source": [
    "Greedy (탐욕스러운) 매칭\n",
    "- Greedy 매칭은 가능한 한 많은 문자와 일치하려고 한다. 즉, 주어진 패턴과 일치하는 문자열 중 가장 긴 것을 찾는다.\n",
    "- 예를 들어, 정규 표현식 a.*b는 a로 시작하고 b로 끝나는 가장 긴 문자열 부분과 일치한다. (모든문장이 0보다이상이면 .*)\n",
    "\n",
    "Non-Greedy (비탐욕스러운) 매칭\n",
    "- Non-Greedy 매칭은 가능한 한 적은 문자와 일치하려고 한다. 즉, 주어진 패턴과 일치하는 문자열 중 가장 짧은 것을 찾는다.\n",
    "- 예를 들어, 정규 표현식 a.*?b는 a로 시작하고 b로 끝나는 가장 짧은 문자열 부분과 일치합니다."
   ]
  },
  {
   "cell_type": "code",
   "execution_count": 124,
   "id": "47c7ab59",
   "metadata": {},
   "outputs": [
    {
     "name": "stdout",
     "output_type": "stream",
     "text": [
      "['<div>Hello</div><div>World</div>']\n"
     ]
    }
   ],
   "source": [
    "# 탐욕적\n",
    "import re\n",
    "text = \"<div>Hello</div><div>World</div>\"\n",
    "pattern = r\"<div>.*</div>\"\n",
    "matches = re.findall(pattern, text)\n",
    "print(matches)"
   ]
  },
  {
   "cell_type": "code",
   "execution_count": 125,
   "id": "e7131c82",
   "metadata": {},
   "outputs": [
    {
     "name": "stdout",
     "output_type": "stream",
     "text": [
      "['<div>Hello</div>', '<div>World</div>']\n"
     ]
    }
   ],
   "source": [
    "# 비탐욕적\n",
    "pattern_ng = r\"<div>.*?</div>\"\n",
    "matches_ng = re.findall(pattern_ng, text)\n",
    "print(matches_ng)"
   ]
  },
  {
   "cell_type": "markdown",
   "id": "823bf4aa",
   "metadata": {},
   "source": [
    "1. *? (Non-Greedy Kleene Star)\n",
    "- Greedy: *는 0회 이상 반복하는 가장 긴 문자열을 찾는다.\n",
    "- Non-Greedy: *?는 0회 이상 반복하는 가장 짧은 문자열을 찾는다.\n",
    "2. +? (Non-Greedy Plus)\n",
    "- Greedy: +는 1회 이상 반복하는 가장 긴 문자열을 찾는다.\n",
    "- Non-Greedy: +?는 1회 이상 반복하는 가장 짧은 문자열을 찾는다.\n",
    "3. ?? (Non-Greedy Question Mark)\n",
    "- Greedy: ?는 0회 또는 1회 반복하는 가장 긴 문자열을 찾는다.\n",
    "- Non-Greedy: ??는 0회 또는 1회 반복하는 가장 짧은 문자열을 찾는다.\n",
    "4. {m,n}? (Non-Greedy 범위 반복자)\n",
    "- Greedy: {m,n}은 m회에서 n회까지 반복하는 가장 긴 문자열을 찾는다.\n",
    "- Non-Greedy: {m,n}?은 m회에서 n회까지 반복하는 가장 짧은 문자열을 찾는다."
   ]
  },
  {
   "cell_type": "code",
   "execution_count": 131,
   "id": "7989d8bb",
   "metadata": {},
   "outputs": [
    {
     "name": "stdout",
     "output_type": "stream",
     "text": [
      "['<div>First</div><div>Second</div>']\n",
      "['<div>First</div>', '<div>Second</div>']\n",
      "['ooooo']\n",
      "['o', 'o', 'o', 'o', 'o']\n",
      "['', '', '', '', 'o', '', '']\n",
      "['', '', '', '', '', 'o', '', '']\n",
      "['oooo']\n",
      "['oo', 'oo']\n"
     ]
    }
   ],
   "source": [
    "import re\n",
    "text = \"<div>First</div><div>Second</div>\"\n",
    "# Greedy 매칭\n",
    "print(re.findall(r\"<div>.*</div>\", text))\n",
    "# Non-Greddy 매칭\n",
    "print(re.findall(r\"<div>.*?</div>\", text))\n",
    "\n",
    "text = \"Hellooooo\"\n",
    "# Greedy 매칭\n",
    "print(re.findall(r\"o+\",text))\n",
    "# Non-Greedy 매칭\n",
    "print(re.findall(r\"o+?\",text))\n",
    "\n",
    "text = \"Hello?\"\n",
    "# Greedy 매칭\n",
    "print(re.findall(r\"o?\",text))\n",
    "# Non-Greedy 매칭\n",
    "print(re.findall(r\"o??\",text)) # 출력값 요소가 하나 더많은 이유는 Non-Greedy 여기서 매칭이 o 가 가장짧은거 찾는데 1개밖에없으니 0개, 1개 인거 해서 저렇게나온듯\n",
    "\n",
    "text = \"Helloooo\"\n",
    "# Greedy 매칭\n",
    "print(re.findall(r\"o{2,4}\",text))\n",
    "# Non-Greedy 매칭\n",
    "print(re.findall(r\"o{2,4}?\",text))"
   ]
  },
  {
   "cell_type": "code",
   "execution_count": null,
   "id": "57932e73",
   "metadata": {},
   "outputs": [],
   "source": [
    "문제7_1114: HTML 텍스트에서 \\<p> 태그로 둘러싸인 전체 부분을 찾으세요 (Greedy 방식 사용).\n",
    "    html = \"<div>Hello <p>world</p> this is <p>a test</p></div>"
   ]
  },
  {
   "cell_type": "code",
   "execution_count": 11,
   "id": "e671a736",
   "metadata": {},
   "outputs": [
    {
     "data": {
      "text/plain": [
       "['This is the first paragraph.', 'This is the second paragraph.']"
      ]
     },
     "execution_count": 11,
     "metadata": {},
     "output_type": "execute_result"
    }
   ],
   "source": [
    "# 문제7_1114 최재빈님 솔루션\n",
    "import re\n",
    "html_text = \"<p>This is the first paragraph.</p><p>This is the second paragraph.</p>\"\n",
    "pattern = r'<p>([^<]*)</p>'\n",
    "matches = re.findall(pattern, html_text)\n",
    "matches"
   ]
  },
  {
   "cell_type": "code",
   "execution_count": 14,
   "id": "2966acf5",
   "metadata": {},
   "outputs": [
    {
     "name": "stdout",
     "output_type": "stream",
     "text": [
      "['<p>world</p> this is <p>a test</p>']\n"
     ]
    }
   ],
   "source": [
    "import re\n",
    "html = \"<div>Hello <p>world</p> this is <p>a test</p></div>\"\n",
    "# Greedy 매칭\n",
    "greedy_matches = re.findall(r\"<p>.*</p>\",html)\n",
    "print(greedy_matches)"
   ]
  },
  {
   "cell_type": "code",
   "execution_count": null,
   "id": "e3fe0ebf",
   "metadata": {},
   "outputs": [],
   "source": [
    "문제8_1114: 같은 HTML 텍스트에서 각 <p> 태그로 둘러싸인 부분을 별도로 찾으세요 (Non-Greedy 방식 사용)."
   ]
  },
  {
   "cell_type": "code",
   "execution_count": 15,
   "id": "b8b19af8",
   "metadata": {},
   "outputs": [
    {
     "name": "stdout",
     "output_type": "stream",
     "text": [
      "['<p>world</p>', '<p>a test</p>']\n"
     ]
    }
   ],
   "source": [
    "# 문제8_1114 김신미님 솔루션\n",
    "import re\n",
    "\n",
    "html = \"<div>Hello <p>world</p> this is <p>a test</p></div>\"\n",
    "print(re.findall(r'<p>.*?</p>', html)) # ? 붙여줘서 non-greedy로 하고 최소로 만듦"
   ]
  },
  {
   "cell_type": "code",
   "execution_count": null,
   "id": "f8b9a43d",
   "metadata": {},
   "outputs": [],
   "source": []
  },
  {
   "cell_type": "code",
   "execution_count": null,
   "id": "b49fff25",
   "metadata": {},
   "outputs": [],
   "source": []
  },
  {
   "cell_type": "code",
   "execution_count": null,
   "id": "e2900c0b",
   "metadata": {},
   "outputs": [],
   "source": []
  },
  {
   "cell_type": "markdown",
   "id": "e7216808",
   "metadata": {},
   "source": [
    "문제11_1113: 숫자만 추출\n",
    "- 조건: 문자열에서 숫자만 추출하는 정규 표현식을 작성하세요 (예: abc1234d5e에서 12345 추출)."
   ]
  },
  {
   "cell_type": "code",
   "execution_count": 5,
   "id": "0ab0fbfa",
   "metadata": {
    "scrolled": true
   },
   "outputs": [
    {
     "name": "stdout",
     "output_type": "stream",
     "text": [
      "12345"
     ]
    }
   ],
   "source": [
    "# 문제11_1113 솔루션\n",
    "import re\n",
    "text = 'abc1234d5e'\n",
    "pattern = re.compile(r\"[0-9]\")\n",
    "m = re.findall(pattern, text)\n",
    "for i in m :\n",
    "    print(i, end='')"
   ]
  },
  {
   "cell_type": "code",
   "execution_count": 4,
   "id": "dfd9e8da",
   "metadata": {},
   "outputs": [
    {
     "name": "stdout",
     "output_type": "stream",
     "text": [
      "12345"
     ]
    }
   ],
   "source": [
    "# 문제11_1113 심주승님 솔루션\n",
    "import re\n",
    "\n",
    "p = re.compile('[0-9]+')\n",
    "m = p.findall('abc1234d5e') \n",
    "\n",
    "for i in m:\n",
    "    print(i, end = '')"
   ]
  },
  {
   "cell_type": "code",
   "execution_count": null,
   "id": "3097f6b4",
   "metadata": {},
   "outputs": [],
   "source": [
    "# 문제11_1113 전유빈님 솔루션\n",
    "import re\n",
    "text = 'abc1234d5e'\n",
    "re.findall(r'\\d',text)"
   ]
  },
  {
   "cell_type": "code",
   "execution_count": 6,
   "id": "3e7d6bd0",
   "metadata": {},
   "outputs": [
    {
     "name": "stdout",
     "output_type": "stream",
     "text": [
      "추출된 숫자 : 1 2 3 4 5\n"
     ]
    }
   ],
   "source": [
    "# join 활용\n",
    "string_with_numbers = 'abc1234d5e'\n",
    "numbers_patterns = r\"\\d\"\n",
    "numbers = ' '.join(re.findall(numbers_patterns, string_with_numbers))\n",
    "print(f\"추출된 숫자 : {numbers}\")"
   ]
  },
  {
   "cell_type": "markdown",
   "id": "ccd25ab2",
   "metadata": {},
   "source": [
    "문제12_1113: 대문자로 시작하는 단어 찾기\n",
    "- 조건: 각 단어가 대문자로 시작하는 경우와 일치하는 정규 표현식을 작성하세요 (예: Hello World에서 Hello와 World 추출)."
   ]
  },
  {
   "cell_type": "code",
   "execution_count": 33,
   "id": "021b69f7",
   "metadata": {
    "scrolled": true
   },
   "outputs": [
    {
     "name": "stdout",
     "output_type": "stream",
     "text": [
      "Hello World "
     ]
    }
   ],
   "source": [
    "# 문제12_1113 솔루션\n",
    "import re\n",
    "text = \"Hello World\"\n",
    "pattern = re.compile(r\"[^\\s]+\", re.I)\n",
    "m = pattern.finditer(text)\n",
    "for i in m:print(i.group(),end = \" \")"
   ]
  },
  {
   "cell_type": "code",
   "execution_count": 35,
   "id": "9112a570",
   "metadata": {},
   "outputs": [
    {
     "name": "stdout",
     "output_type": "stream",
     "text": [
      "['Hello', 'World', 'H']\n"
     ]
    }
   ],
   "source": [
    "# 문제12_1113 주용규님 솔루션\n",
    "import re\n",
    "find_str = re.findall(r'\\b[A-Z][a-z]*\\b', 'Hello World H H3')\n",
    "print(find_str)"
   ]
  },
  {
   "cell_type": "code",
   "execution_count": 23,
   "id": "92f87202",
   "metadata": {},
   "outputs": [
    {
     "name": "stdout",
     "output_type": "stream",
     "text": [
      "['Hello', 'World', 'Hel', 'Lo', 'H', 'Wo', 'Rld']\n"
     ]
    }
   ],
   "source": [
    "p = re.compile('([A-Z][a-z]*)')\n",
    "print(p.findall('Hello World Hel Lo Wo Rld'))"
   ]
  },
  {
   "cell_type": "code",
   "execution_count": 7,
   "id": "3977c127",
   "metadata": {
    "scrolled": true
   },
   "outputs": [
    {
     "name": "stdout",
     "output_type": "stream",
     "text": [
      "life is too short "
     ]
    }
   ],
   "source": [
    "p = re.compile(\"[a-z]+\")\n",
    "result = p.finditer(\"life is too short\")\n",
    "# print(list(result))\n",
    "for r in result:print(r.group(),end=\" \")"
   ]
  },
  {
   "cell_type": "code",
   "execution_count": 15,
   "id": "fbfd3438",
   "metadata": {},
   "outputs": [
    {
     "name": "stdout",
     "output_type": "stream",
     "text": [
      "Friend fRiend friEnd FRIEND "
     ]
    }
   ],
   "source": [
    "import re\n",
    "text = \"Friend fRiend friEnd FRIEND\"\n",
    "p = re.compile(r\"friend\",re.I)\n",
    "m = p.finditer(text)\n",
    "for i in m:print(i.group(),end=\" \")"
   ]
  },
  {
   "cell_type": "code",
   "execution_count": 18,
   "id": "58b9af2a",
   "metadata": {},
   "outputs": [
    {
     "name": "stdout",
     "output_type": "stream",
     "text": [
      "Friend fRiend friEnd FRIEND "
     ]
    }
   ],
   "source": [
    "text = \"Friend fRiend friEnd FRIEND\"\n",
    "p = re.compile(r\"friend\",re.I)\n",
    "list = p.findall(text)\n",
    "for i in list:\n",
    "    print(i,end=\" \")"
   ]
  },
  {
   "cell_type": "markdown",
   "id": "3b19a0dc",
   "metadata": {},
   "source": [
    "문제13_1113: 이메일 유효성 검사\n",
    "- 조건: 이메일 주소가 유효한 형식인지 검사하는 정규 표현식을 작성하세요. 유효한 이메일 형식은 username@domain.extension과 같습니다."
   ]
  },
  {
   "cell_type": "code",
   "execution_count": 24,
   "id": "d59680f1",
   "metadata": {
    "scrolled": true
   },
   "outputs": [
    {
     "name": "stdout",
     "output_type": "stream",
     "text": [
      "username@domain.extension\n"
     ]
    }
   ],
   "source": [
    "# 문제13_1113 솔루션\n",
    "import re\n",
    "text = \"username@domain.extension\"\n",
    "pattern = r\"[a-zA-Z0-9_-]{5,20}\\@[a-zA-Z0-9]{3,20}\\.[a-zA-Z]{2,20}\"\n",
    "m = re.search(pattern, text)\n",
    "print(m.group())"
   ]
  },
  {
   "cell_type": "code",
   "execution_count": 23,
   "id": "d7515836",
   "metadata": {
    "scrolled": true
   },
   "outputs": [
    {
     "name": "stdout",
     "output_type": "stream",
     "text": [
      "username@domain.extension\n"
     ]
    }
   ],
   "source": [
    "# 문제13_1113 솔루션\n",
    "# .co.kr 혹은 .co.uk 등과 같은 최상위 도메인을 모두 처리할 수 있음\n",
    "import re\n",
    "text = \"username@domain.extension\"\n",
    "pattern = r\"[a-zA-Z0-9_-]{5,20}\\@[a-zA-Z0-9]{3,20}\\.[a-zA-Z]{2,20}(?:\\.[a-zA-Z]{2,20})?\"\n",
    "m = re.search(pattern, text)\n",
    "print(m.group())"
   ]
  },
  {
   "cell_type": "code",
   "execution_count": null,
   "id": "6a6c7a64",
   "metadata": {},
   "outputs": [],
   "source": [
    "# 문제13_1113 전유빈님 솔루션\n",
    "email = 'username@domain.extension'\n",
    "p = r'\\w+@+domain.extension'\n",
    "if re.match(p, email):\n",
    "    print(\"유효한 이메일 형식입니다.\")\n",
    "else:\n",
    "    print(\"유효하지 않은 이메일 형식입니다.\")"
   ]
  },
  {
   "cell_type": "code",
   "execution_count": null,
   "id": "e561e537",
   "metadata": {},
   "outputs": [],
   "source": [
    "# 문제13_1113 솔루션\n",
    "# .co.kr 혹은 .co.uk 등과 같은 최상위 도메인을 모두 처리할 수 있음\n",
    "import re\n",
    "text = \"username@domain.extension\"\n",
    "pattern = r\"[a-zA-Z0-9_-]{5,20}\\@[a-zA-Z0-9]{3,20}\\.[a-zA-Z]{2,20}(?:\\.[a-zA-Z]{2,20})?\"\n",
    "m = re.search(pattern, text)\n",
    "print(m.group())"
   ]
  },
  {
   "cell_type": "code",
   "execution_count": null,
   "id": "99fa5a1b",
   "metadata": {},
   "outputs": [],
   "source": [
    "import re\n",
    "email_example2 = \"username@domain.extension\"\n",
    "email_example2 = r\"^[a-zA-Z0-9._%+-]+@[a-zA-Z0-9-]+\\.[A-Za-z]{2,10}$\"\n",
    "if re.match(email_example2, email_example2):\n",
    "    print(\"유효한 이메일 형식입니다.\")\n",
    "else : \n",
    "    print(\"유효하지 않은 이메일 형식입니다.\")"
   ]
  },
  {
   "cell_type": "markdown",
   "id": "2779cfef",
   "metadata": {},
   "source": [
    "문제14_1113: IP 주소 검증\n",
    "- 조건: 192.168.1.1과 같은 IPv4 주소와 일치하는 정규 표현식을 작성하세요."
   ]
  },
  {
   "cell_type": "code",
   "execution_count": null,
   "id": "f2d04a03",
   "metadata": {},
   "outputs": [],
   "source": [
    "# 문제14_1113 최재빈님 솔루션\n",
    "import re\n",
    "ip_examples = [\"192.168.1.1\", \"255.255.255.255\", \"0.0.0.0\", \n",
    "               \"256.1.1.1\", \"1.1.1.1.1\", \"123.456.78.90\"]\n",
    "pattern = r'^((25[0-5]|2[0-4]\\d|1\\d{2}|[1-9]?\\d)\\.){3}(25[0-5]|2[0-4]\\d|1\\d{2}|[1-9]?\\d)$'\n",
    "checks = {ip: bool(re.match(pattern, ip)) for ip in ip_examples}\n",
    "checks"
   ]
  },
  {
   "cell_type": "code",
   "execution_count": null,
   "id": "0b64a871",
   "metadata": {},
   "outputs": [],
   "source": [
    "# 문제14_1113 서영우님 솔루션\n",
    "p = re.compile(r'\\d{1,3}\\.\\d{1,3}\\.\\d{1,3}\\.\\d{1,3}')\n",
    "print(p.search('192.168.1.1'))"
   ]
  },
  {
   "cell_type": "code",
   "execution_count": 38,
   "id": "c01ab555",
   "metadata": {},
   "outputs": [
    {
     "name": "stdout",
     "output_type": "stream",
     "text": [
      "192.168.1.1\n",
      "1\n"
     ]
    }
   ],
   "source": [
    "# 비캡처 그룹 : (?:..)\n",
    "ip_example = \"192.168.1.1\"\n",
    "\n",
    "p = re.compile(r\"\\b(?:[0-9]{1,3}\\.){3}([0-9]{1,3})\\b\")\n",
    "match = p.search(\"192.168.1.1\")\n",
    "print(match.group())\n",
    "print(match.group(1))"
   ]
  },
  {
   "cell_type": "markdown",
   "id": "ae45b5c1",
   "metadata": {},
   "source": [
    "문제15_1113: 코드 주석 찾기\n",
    "- 조건: # This is a comment와 같은 파이썬 코드 내의 주석과 일치하는 정규 표현식을 작성하세요."
   ]
  },
  {
   "cell_type": "code",
   "execution_count": 94,
   "id": "14417a56",
   "metadata": {
    "scrolled": true
   },
   "outputs": [
    {
     "name": "stdout",
     "output_type": "stream",
     "text": [
      "['# This is a comment']\n"
     ]
    }
   ],
   "source": [
    "# 문제15_1113 솔루션\n",
    "import re\n",
    "text = '# This is a comment'\n",
    "pattern = re.compile(r\"#.*\")\n",
    "m = re.findall(pattern,text)\n",
    "print(m)"
   ]
  },
  {
   "cell_type": "code",
   "execution_count": 39,
   "id": "233b0a0d",
   "metadata": {},
   "outputs": [
    {
     "data": {
      "text/plain": [
       "'# This is a comment'"
      ]
     },
     "execution_count": 39,
     "metadata": {},
     "output_type": "execute_result"
    }
   ],
   "source": [
    "# 문제15_1113 전유빈님 솔루션\n",
    "comment = \"# This is a comment\"\n",
    "p = r'#.*'\n",
    "re.match(p,comment).group()"
   ]
  },
  {
   "cell_type": "code",
   "execution_count": 40,
   "id": "b05beb47",
   "metadata": {},
   "outputs": [
    {
     "data": {
      "text/plain": [
       "['# 주석입니다', '# 주석입니다 2']"
      ]
     },
     "execution_count": 40,
     "metadata": {},
     "output_type": "execute_result"
    }
   ],
   "source": [
    "# 문제15_1113 최재빈님 솔루션\n",
    "import re\n",
    "code = \"\"\"\n",
    "def example():\n",
    "    return 42  # 주석입니다\n",
    "# 주석입니다 2\n",
    "print(example())\n",
    "\"\"\"\n",
    "# 파이썬 주석을 찾는 정규 표현식 패턴\n",
    "pattern = r'#.*'\n",
    "# 패턴과 일치하는 모든 주석 찾기\n",
    "comments = re.findall(pattern, code)\n",
    "# 결과 출력\n",
    "comments"
   ]
  },
  {
   "cell_type": "code",
   "execution_count": 41,
   "id": "417ecbe5",
   "metadata": {},
   "outputs": [
    {
     "name": "stdout",
     "output_type": "stream",
     "text": [
      "#따뜻한 # 가벼운\n",
      "# 주석 샘플 # 확인\n",
      "#      담백한\n",
      "#   소박한\n"
     ]
    }
   ],
   "source": [
    "# 문제15_1113 주용규님 솔루션\n",
    "import re\n",
    "\n",
    "data = '''python one\n",
    "life is too short #따뜻한 # 가벼운\n",
    "python two  \n",
    "# 주석 샘플 # 확인\n",
    "you need python  #      담백한\n",
    "python three #   소박한'''\n",
    "\n",
    "pattern = r'#\\s*[^\\n]+'  \n",
    "\n",
    "matches = re.findall(pattern, data)\n",
    "\n",
    "for match in matches:\n",
    "    print(match)"
   ]
  },
  {
   "cell_type": "code",
   "execution_count": null,
   "id": "f9928a0b",
   "metadata": {},
   "outputs": [],
   "source": []
  },
  {
   "cell_type": "code",
   "execution_count": null,
   "id": "f7cd2fd1",
   "metadata": {},
   "outputs": [],
   "source": []
  },
  {
   "cell_type": "code",
   "execution_count": null,
   "id": "7b1d7766",
   "metadata": {},
   "outputs": [],
   "source": []
  },
  {
   "cell_type": "code",
   "execution_count": null,
   "id": "5b222ef0",
   "metadata": {},
   "outputs": [],
   "source": []
  },
  {
   "cell_type": "code",
   "execution_count": null,
   "id": "17f9686c",
   "metadata": {},
   "outputs": [],
   "source": []
  },
  {
   "cell_type": "code",
   "execution_count": null,
   "id": "8731643e",
   "metadata": {},
   "outputs": [],
   "source": []
  },
  {
   "cell_type": "code",
   "execution_count": null,
   "id": "9c0f8688",
   "metadata": {},
   "outputs": [],
   "source": []
  },
  {
   "cell_type": "code",
   "execution_count": null,
   "id": "4ccbd07a",
   "metadata": {},
   "outputs": [],
   "source": []
  }
 ],
 "metadata": {
  "kernelspec": {
   "display_name": "Python 3 (ipykernel)",
   "language": "python",
   "name": "python3"
  },
  "language_info": {
   "codemirror_mode": {
    "name": "ipython",
    "version": 3
   },
   "file_extension": ".py",
   "mimetype": "text/x-python",
   "name": "python",
   "nbconvert_exporter": "python",
   "pygments_lexer": "ipython3",
   "version": "3.10.13"
  }
 },
 "nbformat": 4,
 "nbformat_minor": 5
}
