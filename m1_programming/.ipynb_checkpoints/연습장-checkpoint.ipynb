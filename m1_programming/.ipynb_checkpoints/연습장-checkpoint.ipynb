{
 "cells": [
  {
   "cell_type": "code",
   "execution_count": 1,
   "id": "d504345e",
   "metadata": {},
   "outputs": [
    {
     "name": "stdout",
     "output_type": "stream",
     "text": [
      "4465\n"
     ]
    }
   ],
   "source": [
    "# 과제8-1_1030\n",
    "x = 1\n",
    "sum = 0\n",
    "while x <= 100 : \n",
    "    if x < 5 or x < 95 :\n",
    "        sum += x\n",
    "    x += 1\n",
    "print(sum)"
   ]
  },
  {
   "cell_type": "code",
   "execution_count": 2,
   "id": "e884fb1d",
   "metadata": {},
   "outputs": [
    {
     "name": "stdout",
     "output_type": "stream",
     "text": [
      "4550\n"
     ]
    }
   ],
   "source": [
    "num = 1\n",
    "sum = 0\n",
    "while num <= 100:\n",
    "    if num < 5 or num > 95: \n",
    "        num += 1\n",
    "        continue\n",
    "    sum += num\n",
    "    num += 1\n",
    "print(sum)"
   ]
  },
  {
   "cell_type": "code",
   "execution_count": 3,
   "id": "5e97df37",
   "metadata": {},
   "outputs": [
    {
     "name": "stdout",
     "output_type": "stream",
     "text": [
      "4550\n"
     ]
    }
   ],
   "source": [
    "num = 0\n",
    "sum = 0\n",
    "\n",
    "while num < 100:\n",
    "    num += 1\n",
    "    \n",
    "    if num < 5 or num > 95:\n",
    "        continue\n",
    "    else:\n",
    "        sum += num\n",
    "print(sum)\n"
   ]
  },
  {
   "cell_type": "code",
   "execution_count": null,
   "id": "e7819639",
   "metadata": {},
   "outputs": [],
   "source": [
    "# 과제8_1030 솔루션 #원본\n",
    "num = 1\n",
    "sum = 0\n",
    "while num <= 100 :\n",
    "    if num >= 5 and num <= 95 :\n",
    "        sum += num\n",
    "    num += 1\n",
    "print(sum)"
   ]
  },
  {
   "cell_type": "code",
   "execution_count": 15,
   "id": "2357bc67",
   "metadata": {},
   "outputs": [
    {
     "name": "stdout",
     "output_type": "stream",
     "text": [
      "4550\n"
     ]
    }
   ],
   "source": [
    "# 과제8_1030 솔루션\n",
    "num = 1\n",
    "sum = 0\n",
    "while num <= 100 :\n",
    "    if num >= 5 and num <= 95 :\n",
    "        sum += num\n",
    "    num += 1\n",
    "else :\n",
    "    print(sum)"
   ]
  },
  {
   "cell_type": "code",
   "execution_count": null,
   "id": "e7e55eeb",
   "metadata": {},
   "outputs": [],
   "source": [
    "num = 1\n",
    "sum = 0\n",
    "while num <= 100 :\n",
    "    if num >= 5 and num <= 95 :\n",
    "        sum += num\n",
    "    num += 1\n",
    "print(sum)"
   ]
  },
  {
   "cell_type": "code",
   "execution_count": 25,
   "id": "2dd03148",
   "metadata": {},
   "outputs": [
    {
     "name": "stdout",
     "output_type": "stream",
     "text": [
      "4550\n"
     ]
    }
   ],
   "source": [
    "# 과제8_1030 솔루션\n",
    "num <= 100\n",
    "num = 1\n",
    "sum = 0\n",
    "while 1 :\n",
    "    if num >= 5 and num <= 95 :\n",
    "        sum += num \n",
    "    num += 1\n",
    "    if num >= 100 :\n",
    "        break\n",
    "print(sum)"
   ]
  },
  {
   "cell_type": "code",
   "execution_count": 31,
   "id": "7a677edc",
   "metadata": {},
   "outputs": [
    {
     "ename": "KeyboardInterrupt",
     "evalue": "",
     "output_type": "error",
     "traceback": [
      "\u001b[1;31m---------------------------------------------------------------------------\u001b[0m",
      "\u001b[1;31mKeyboardInterrupt\u001b[0m                         Traceback (most recent call last)",
      "Cell \u001b[1;32mIn[31], line 4\u001b[0m\n\u001b[0;32m      2\u001b[0m num \u001b[38;5;241m=\u001b[39m \u001b[38;5;241m1\u001b[39m\n\u001b[0;32m      3\u001b[0m \u001b[38;5;28msum\u001b[39m \u001b[38;5;241m=\u001b[39m \u001b[38;5;241m0\u001b[39m\n\u001b[1;32m----> 4\u001b[0m \u001b[38;5;28;01mwhile\u001b[39;00m \u001b[43mnum\u001b[49m\u001b[43m \u001b[49m\u001b[38;5;241;43m<\u001b[39;49m\u001b[38;5;241;43m=\u001b[39;49m\u001b[43m \u001b[49m\u001b[38;5;241;43m100\u001b[39;49m :\n\u001b[0;32m      5\u001b[0m     \u001b[38;5;28;01mif\u001b[39;00m num \u001b[38;5;241m>\u001b[39m\u001b[38;5;241m=\u001b[39m \u001b[38;5;241m5\u001b[39m \u001b[38;5;129;01mand\u001b[39;00m num \u001b[38;5;241m<\u001b[39m\u001b[38;5;241m=\u001b[39m \u001b[38;5;241m95\u001b[39m :\n\u001b[0;32m      6\u001b[0m         \u001b[38;5;28msum\u001b[39m \u001b[38;5;241m+\u001b[39m\u001b[38;5;241m=\u001b[39m num\n",
      "\u001b[1;31mKeyboardInterrupt\u001b[0m: "
     ]
    }
   ],
   "source": [
    "# 과제8_1030 솔루션\n",
    "num = 1\n",
    "sum = 0\n",
    "while num <= 100 :\n",
    "    if num >= 5 and num <= 95 :\n",
    "        sum += num\n",
    "    else :\n",
    "        num += 1\n",
    "print(sum)"
   ]
  },
  {
   "cell_type": "code",
   "execution_count": 28,
   "id": "c04cb836",
   "metadata": {
    "scrolled": true
   },
   "outputs": [
    {
     "name": "stdout",
     "output_type": "stream",
     "text": [
      "4550\n"
     ]
    }
   ],
   "source": [
    "# 과제8_1030 솔루션\n",
    "num = 1\n",
    "sum = 0\n",
    "while num <= 100 :\n",
    "    if num >= 5 and num <= 95 :\n",
    "        sum += num\n",
    "    num += 1\n",
    "print(sum)"
   ]
  },
  {
   "cell_type": "code",
   "execution_count": 34,
   "id": "707099bc",
   "metadata": {},
   "outputs": [
    {
     "name": "stdout",
     "output_type": "stream",
     "text": [
      "4550\n"
     ]
    }
   ],
   "source": [
    "num = 1\n",
    "sum = 0\n",
    "while 1 :\n",
    "    if num >= 5 and num <= 95 :\n",
    "        sum += num \n",
    "    if num >= 100 :\n",
    "        break\n",
    "    else :\n",
    "        num += 1\n",
    "\n",
    "print(sum)"
   ]
  },
  {
   "cell_type": "code",
   "execution_count": 37,
   "id": "2156bcff",
   "metadata": {},
   "outputs": [
    {
     "name": "stdout",
     "output_type": "stream",
     "text": [
      "4550\n"
     ]
    }
   ],
   "source": [
    "num = 1\n",
    "sum = 0\n",
    "while 1 :\n",
    "    if num >= 5 and num <= 95 :\n",
    "        sum += num\n",
    "    if num >= 100 :\n",
    "        break\n",
    "    else :\n",
    "        num += 1\n",
    "\n",
    "print(sum)"
   ]
  },
  {
   "cell_type": "code",
   "execution_count": null,
   "id": "682c9efb",
   "metadata": {},
   "outputs": [],
   "source": [
    "num = 1\n",
    "sum = 0\n",
    "while num <= 100 :\n",
    "    if num >= 5 and num <= 95 :\n",
    "        sum += num\n",
    "    if num \n",
    "    num += 1\n",
    "print(sum)"
   ]
  },
  {
   "cell_type": "code",
   "execution_count": 41,
   "id": "0bf0434a",
   "metadata": {},
   "outputs": [
    {
     "name": "stdout",
     "output_type": "stream",
     "text": [
      "3에서 루프를 중단합니다.\n"
     ]
    }
   ],
   "source": [
    "# 어제 학습한 내용이예요.\n",
    "# break 문을 사용하여 루프를 중단하면 else 절은 실행되지 않음\n",
    "for i in range(5):\n",
    "    if i == 3:\n",
    "        print(f'{i}에서 루프를 중단합니다.')\n",
    "        break\n",
    "else:\n",
    "    print('루프가 정상적으로 완료되었습니다.')"
   ]
  },
  {
   "cell_type": "code",
   "execution_count": 40,
   "id": "1be482da",
   "metadata": {},
   "outputs": [
    {
     "name": "stdout",
     "output_type": "stream",
     "text": [
      "3에서 루프를 중단합니다.\n",
      "루프가 정상적으로 완료되었습니다.\n"
     ]
    }
   ],
   "source": [
    "# 어제 학습한 내용이예요.\n",
    "# break 문을 사용하여 루프를 중단하면 else 절은 실행되지 않음\n",
    "for i in range(5):\n",
    "    if i == 3:\n",
    "        print(f'{i}에서 루프를 중단합니다.')\n",
    "else:\n",
    "    print('루프가 정상적으로 완료되었습니다.')"
   ]
  },
  {
   "cell_type": "code",
   "execution_count": 42,
   "id": "05d8f5c0",
   "metadata": {},
   "outputs": [
    {
     "name": "stdout",
     "output_type": "stream",
     "text": [
      "4550\n"
     ]
    }
   ],
   "source": [
    "#### 과제8_1030 : 1부터 100까지의 정수 중 5 에서 95 까지의 합을 구하세요.\n",
    "\n",
    "sum = 0\n",
    "for i in range(1,101) : \n",
    "    if i >= 5 and i <= 95 :\n",
    "        sum += i\n",
    "print(sum)"
   ]
  },
  {
   "cell_type": "code",
   "execution_count": 44,
   "id": "702f8e74",
   "metadata": {},
   "outputs": [
    {
     "name": "stdout",
     "output_type": "stream",
     "text": [
      "4550\n"
     ]
    }
   ],
   "source": [
    "# 과제 8 while 로 해보기\n",
    "\n",
    "i = 1\n",
    "sum = 0\n",
    "while i <= 100 :\n",
    "    if i >= 5 and i <= 95 :\n",
    "        sum += i\n",
    "    i += 1\n",
    "print(sum)"
   ]
  },
  {
   "cell_type": "code",
   "execution_count": null,
   "id": "a6fa36d0",
   "metadata": {},
   "outputs": [],
   "source": [
    "##### 과제8-1_1031 : 1부터 100까지의 정수중 5부터 95까지의 합을 구하세요.\n",
    "(x < 5 or x > 95) 을 사용"
   ]
  },
  {
   "cell_type": "code",
   "execution_count": 45,
   "id": "0643f814",
   "metadata": {},
   "outputs": [
    {
     "name": "stdout",
     "output_type": "stream",
     "text": [
      "500\n"
     ]
    }
   ],
   "source": [
    "# for 문 사용\n",
    "sum = 0\n",
    "x = 1\n",
    "for x in range(1,101):\n",
    "    if x < 5 or x > 95 :\n",
    "        sum += x\n",
    "print(sum)"
   ]
  },
  {
   "cell_type": "code",
   "execution_count": 49,
   "id": "ba16f9ec",
   "metadata": {},
   "outputs": [
    {
     "name": "stdout",
     "output_type": "stream",
     "text": [
      "4550\n"
     ]
    }
   ],
   "source": [
    "# while 문 사용\n",
    "\n",
    "sum = 0\n",
    "x = 1\n",
    "while x <= 100 :\n",
    "    if x < 5 or x > 95 :\n",
    "        x += 1\n",
    "        continue\n",
    "    sum += x\n",
    "    x += 1\n",
    "print(sum)"
   ]
  },
  {
   "cell_type": "code",
   "execution_count": 50,
   "id": "e7944752",
   "metadata": {},
   "outputs": [
    {
     "name": "stdout",
     "output_type": "stream",
     "text": [
      "4550\n"
     ]
    }
   ],
   "source": [
    "# for 문 사용\n",
    "\n",
    "sum = 0\n",
    "for x in range(1,101) :\n",
    "    if x < 5 or x > 95 :\n",
    "        continue\n",
    "    sum += x\n",
    "print(sum)"
   ]
  },
  {
   "cell_type": "code",
   "execution_count": null,
   "id": "f3216bf2",
   "metadata": {},
   "outputs": [],
   "source": [
    "#### 과제9_1030 : while문을 사용해 1부터 1000까지의 정수 중 3과 5의 공배수의 합을 구해 보세요\n"
   ]
  },
  {
   "cell_type": "code",
   "execution_count": 52,
   "id": "1408779b",
   "metadata": {},
   "outputs": [
    {
     "name": "stdout",
     "output_type": "stream",
     "text": [
      "안녕하세요~\n",
      "Hi~\n"
     ]
    }
   ],
   "source": [
    "def greeting() :\n",
    "    print(\"안녕하세요~\")\n",
    "    print(\"Hi~\")\n",
    "greeting()"
   ]
  },
  {
   "cell_type": "code",
   "execution_count": 66,
   "id": "46cc034e",
   "metadata": {},
   "outputs": [
    {
     "name": "stdout",
     "output_type": "stream",
     "text": [
      "Hi\n"
     ]
    }
   ],
   "source": [
    "def 인사(h) :\n",
    "    return f'{h}'\n",
    "print(인사(\"Hi\"))"
   ]
  },
  {
   "cell_type": "code",
   "execution_count": 55,
   "id": "329f9408",
   "metadata": {},
   "outputs": [
    {
     "name": "stdout",
     "output_type": "stream",
     "text": [
      "8\n"
     ]
    }
   ],
   "source": [
    "def multi(num) :\n",
    "    print(num * 2)\n",
    "    \n",
    "multi(4)"
   ]
  },
  {
   "cell_type": "code",
   "execution_count": 56,
   "id": "1e3c6b5e",
   "metadata": {},
   "outputs": [
    {
     "data": {
      "text/plain": [
       "10"
      ]
     },
     "execution_count": 56,
     "metadata": {},
     "output_type": "execute_result"
    }
   ],
   "source": [
    "def 함수2() :\n",
    "    return 10\n",
    "\n",
    "함수2()"
   ]
  },
  {
   "cell_type": "code",
   "execution_count": 57,
   "id": "bd1cce10",
   "metadata": {},
   "outputs": [
    {
     "name": "stdout",
     "output_type": "stream",
     "text": [
      "10\n"
     ]
    }
   ],
   "source": [
    "def 함수2() :\n",
    "    return 10\n",
    "\n",
    "print( 함수2() )"
   ]
  },
  {
   "cell_type": "code",
   "execution_count": 58,
   "id": "e4b840c6",
   "metadata": {},
   "outputs": [
    {
     "name": "stdout",
     "output_type": "stream",
     "text": [
      "6\n"
     ]
    }
   ],
   "source": [
    "def 수학연산(x) :\n",
    "    return x + 2\n",
    "\n",
    "결과 = 수학연산(4)\n",
    "\n",
    "print(결과)"
   ]
  },
  {
   "cell_type": "code",
   "execution_count": null,
   "id": "8b144413",
   "metadata": {},
   "outputs": [],
   "source": [
    "def 수학연산(x) :\n",
    "    print(x + 2)\n",
    "\n",
    "\n",
    "결과 = 수학연산(4)\n",
    "print(수학연산(4))\n",
    "print(결과)"
   ]
  },
  {
   "cell_type": "code",
   "execution_count": 75,
   "id": "c99a9d7e",
   "metadata": {},
   "outputs": [
    {
     "name": "stdout",
     "output_type": "stream",
     "text": [
      "None\n",
      "None\n"
     ]
    }
   ],
   "source": [
    "def 수학연산(x) :\n",
    "    결과 = x + 2\n",
    "    \n",
    "x = 6\n",
    "print(결과)\n",
    "print(수학연산(x))"
   ]
  },
  {
   "cell_type": "code",
   "execution_count": 81,
   "id": "8819cb18",
   "metadata": {},
   "outputs": [
    {
     "name": "stdout",
     "output_type": "stream",
     "text": [
      "6\n"
     ]
    }
   ],
   "source": [
    "def 수학연산(x) :\n",
    "    return x + 2\n",
    "    \n",
    "x = 4\n",
    "print(수학연산(x))"
   ]
  },
  {
   "cell_type": "code",
   "execution_count": 85,
   "id": "572229c3",
   "metadata": {},
   "outputs": [
    {
     "name": "stdout",
     "output_type": "stream",
     "text": [
      "3, 4의 합은 7입니다.\n"
     ]
    }
   ],
   "source": [
    "def add(a, b): \n",
    "    print(\"%d, %d의 합은 %d입니다.\" % (a, b, a+b))\n",
    "\n",
    "add(3,4)"
   ]
  },
  {
   "cell_type": "code",
   "execution_count": null,
   "id": "506c646e",
   "metadata": {},
   "outputs": [],
   "source": [
    "#### [과제1_1030] num1 = 12345, num2 = 12.345679 을 아래와 같이 출력하세요.\n",
    "12345\n",
    "     12345\n",
    "12.345679\n",
    "          12.346"
   ]
  },
  {
   "cell_type": "code",
   "execution_count": 113,
   "id": "19b684e8",
   "metadata": {},
   "outputs": [
    {
     "name": "stdout",
     "output_type": "stream",
     "text": [
      "12345\n",
      "     12345\n",
      "12.345679\n",
      "          12.3457\n"
     ]
    }
   ],
   "source": [
    "a =12345\n",
    "b= 12.345679\n",
    "print('%d' %(a)) # '%d 문자열도가능 ' %(변수)\n",
    "print(f'{a:10d}')\n",
    "print(f'{b}')\n",
    "print(f'{b:17.04f}')"
   ]
  },
  {
   "cell_type": "code",
   "execution_count": null,
   "id": "e65af933",
   "metadata": {},
   "outputs": [],
   "source": [
    "#### 과제2_1030 : listdata = ['a', 'b', 'c']에서 조건문을 이용해서 아래와 같이 출력하세요\n",
    "\n",
    "\n",
    "a가 listdata에 있습니다.\n",
    "b가 listdata에 있습니다.\n",
    "c가 listdata에 있습니다."
   ]
  },
  {
   "cell_type": "code",
   "execution_count": 117,
   "id": "3d53e5ac",
   "metadata": {},
   "outputs": [
    {
     "name": "stdout",
     "output_type": "stream",
     "text": [
      "a가 listdata에 있습니다.\n",
      "b가 listdata에 있습니다.\n",
      "c가 listdata에 있습니다.\n"
     ]
    }
   ],
   "source": [
    "listdata = ['a', b, 'c']\n",
    "if 'a' in listdata : print(\"a가 listdata에 있습니다.\")\n",
    "if b in listdata : print(\"b가 listdata에 있습니다.\")\n",
    "if 'c' in listdata : print(\"c가 listdata에 있습니다.\")"
   ]
  },
  {
   "cell_type": "code",
   "execution_count": 124,
   "id": "edd87b8e",
   "metadata": {},
   "outputs": [
    {
     "name": "stdout",
     "output_type": "stream",
     "text": [
      "a가 listdata2에 있습니다.\n",
      "b가 listdata2에 있습니다.\n",
      "c가 listdata2에 있습니다.\n"
     ]
    }
   ],
   "source": [
    "listdata2 = ['a', 'b', 'c'] # for문\n",
    "for i in listdata2 :\n",
    "    if i in listdata2:\n",
    "        print(f'{i}가 listdata2에 있습니다.')"
   ]
  },
  {
   "cell_type": "code",
   "execution_count": 126,
   "id": "71fadfbf",
   "metadata": {},
   "outputs": [
    {
     "name": "stdout",
     "output_type": "stream",
     "text": [
      "a가 listdata2에 있습니다.\n",
      "b가 listdata2에 있습니다.\n",
      "c가 listdata2에 있습니다.\n"
     ]
    }
   ],
   "source": [
    "listdata2 = ['a', 'b', 'c'] # for문\n",
    "for m in listdata2 :\n",
    "    if m in listdata2:\n",
    "        print(f'{m}가 listdata2에 있습니다.')"
   ]
  },
  {
   "cell_type": "code",
   "execution_count": 130,
   "id": "2bae2700",
   "metadata": {
    "scrolled": true
   },
   "outputs": [
    {
     "name": "stdout",
     "output_type": "stream",
     "text": [
      "a가 listdata2에 있습니다.\n",
      "b가 listdata2에 있습니다.\n",
      "c가 listdata2에 있습니다.\n"
     ]
    }
   ],
   "source": [
    "listdata2 = ['a','b','c']\n",
    "for index in listdata2 :\n",
    "    if index in listdata2 :\n",
    "        print(f'{index}가 listdata2에 있습니다.')"
   ]
  },
  {
   "cell_type": "code",
   "execution_count": 128,
   "id": "a46471d1",
   "metadata": {},
   "outputs": [
    {
     "name": "stdout",
     "output_type": "stream",
     "text": [
      "네\n"
     ]
    }
   ],
   "source": [
    "#### 과제3_1030 : 돈이 있으면 택시를 타고, 돈이 없으면 걸어 간다를 만족하는 조건문을 작성하세요"
   ]
  },
  {
   "cell_type": "code",
   "execution_count": 132,
   "id": "f0a3d0ab",
   "metadata": {},
   "outputs": [
    {
     "name": "stdout",
     "output_type": "stream",
     "text": [
      "주머니에 있는 돈을 입력해 주세요 : 1233123\n",
      "택시를 탄다\n"
     ]
    }
   ],
   "source": [
    "money = int(input(\"주머니에 있는 돈을 입력해 주세요 : \"))\n",
    "if money >= 5000 :\n",
    "    print(\"택시를 탄다\")\n",
    "else : \n",
    "    print(\"걸어간다\")"
   ]
  },
  {
   "cell_type": "code",
   "execution_count": null,
   "id": "c82a35ab",
   "metadata": {},
   "outputs": [],
   "source": [
    "#### 과제4_1030 : 조건부 표현식을 한줄의 조건문으로 작성하세요.\n",
    "score = 70\n",
    "if score >= 60:\n",
    "    message = \"success\"\n",
    "else: \n",
    "    message = \"failure\"\n",
    "    \n",
    "print(message)"
   ]
  },
  {
   "cell_type": "code",
   "execution_count": 139,
   "id": "61f97483",
   "metadata": {},
   "outputs": [
    {
     "name": "stdout",
     "output_type": "stream",
     "text": [
      "success\n"
     ]
    }
   ],
   "source": [
    "score = 70\n",
    "print(\"success\") if score >= 60 else print(\"failure\")"
   ]
  },
  {
   "cell_type": "code",
   "execution_count": 142,
   "id": "8167d58d",
   "metadata": {},
   "outputs": [
    {
     "name": "stdout",
     "output_type": "stream",
     "text": [
      "success\n"
     ]
    }
   ],
   "source": [
    "score = 70\n",
    "print(\"success\") if score >= 60 else print(\"failure\")"
   ]
  },
  {
   "cell_type": "code",
   "execution_count": null,
   "id": "ada08a02",
   "metadata": {},
   "outputs": [],
   "source": [
    "#### 과제5_1030 : \"수입과 지출금액을 비교해서 수입이 많은면 저축 증가, 반대이면 빚이 증가\" 프로그램 작성"
   ]
  },
  {
   "cell_type": "code",
   "execution_count": 147,
   "id": "bf8f72d9",
   "metadata": {},
   "outputs": [
    {
     "name": "stdout",
     "output_type": "stream",
     "text": [
      "수입을 입력해주세요 : 123\n",
      "지출을 입력해주세요 : 123\n",
      "현상 유지\n"
     ]
    }
   ],
   "source": [
    "money_input = int(input(\"수입을 입력해주세요 : \"))\n",
    "money_output = int(input(\"지출을 입력해주세요 : \"))\n",
    "if money_input == money_output :\n",
    "    print(\"현상 유지\")\n",
    "elif money_input > money_output :\n",
    "    print(\"수입 증가\")\n",
    "else : \n",
    "    print(\"부채 증가\")"
   ]
  },
  {
   "cell_type": "code",
   "execution_count": null,
   "id": "b44d76d0",
   "metadata": {},
   "outputs": [],
   "source": [
    "#### 과제6_1030: 1~10 범위의 정수에서 1부터 5까지만 출력하세요."
   ]
  },
  {
   "cell_type": "code",
   "execution_count": 149,
   "id": "23e2f308",
   "metadata": {},
   "outputs": [
    {
     "name": "stdout",
     "output_type": "stream",
     "text": [
      "1\n",
      "2\n",
      "3\n",
      "4\n",
      "5\n"
     ]
    }
   ],
   "source": [
    "# while 문\n",
    "number=1\n",
    "while True :\n",
    "    if number <= 10 :\n",
    "        print(number)\n",
    "        number += 1\n",
    "    if number > 5 :\n",
    "        break"
   ]
  },
  {
   "cell_type": "code",
   "execution_count": 155,
   "id": "2b08a255",
   "metadata": {},
   "outputs": [
    {
     "name": "stdout",
     "output_type": "stream",
     "text": [
      "1\n",
      "2\n",
      "3\n",
      "4\n",
      "5\n"
     ]
    }
   ],
   "source": [
    "# for 문\n",
    "for index in range(1,11) :\n",
    "    if index <= 5 :\n",
    "        print(index)"
   ]
  },
  {
   "cell_type": "code",
   "execution_count": 159,
   "id": "93130069",
   "metadata": {
    "scrolled": true
   },
   "outputs": [
    {
     "name": "stdout",
     "output_type": "stream",
     "text": [
      "1 2 3 4 5 "
     ]
    }
   ],
   "source": [
    "for i in range(1,11) :\n",
    "    if i > 5 :\n",
    "        break\n",
    "    print(i, end=' ')"
   ]
  },
  {
   "cell_type": "code",
   "execution_count": 158,
   "id": "5a554cab",
   "metadata": {},
   "outputs": [
    {
     "name": "stdout",
     "output_type": "stream",
     "text": [
      "6\n"
     ]
    }
   ],
   "source": [
    "for i in range(1,11) :\n",
    "    if i > 5 :\n",
    "        break\n",
    "print(i) # 들여쓰기 빼면 6출력"
   ]
  },
  {
   "cell_type": "code",
   "execution_count": null,
   "id": "72b93991",
   "metadata": {},
   "outputs": [],
   "source": [
    "#### 과제7_1030: numbers 리스트에서 15,20,25 를 출력하세요. (for문과 if 조건 사용 필수)\n",
    "numbers= [5,15,6,20,7,25]"
   ]
  },
  {
   "cell_type": "code",
   "execution_count": 168,
   "id": "2f4f7fd7",
   "metadata": {},
   "outputs": [
    {
     "name": "stdout",
     "output_type": "stream",
     "text": [
      "[5, 15, 6, 20, 7, 25]\n",
      "[5, 15, 6, 20, 7, 25]\n",
      "[5, 15, 6, 20, 7, 25]\n",
      "[5, 15, 6, 20, 7, 25]\n",
      "[5, 15, 6, 20, 7, 25]\n",
      "[5, 15, 6, 20, 7, 25]\n"
     ]
    }
   ],
   "source": [
    "numbers= [5,15,6,20,7,25]\n",
    "for i in numbers :\n",
    "    print(list(numbers))"
   ]
  },
  {
   "cell_type": "code",
   "execution_count": 175,
   "id": "d104e7d6",
   "metadata": {},
   "outputs": [
    {
     "name": "stdout",
     "output_type": "stream",
     "text": [
      "15\n",
      "20\n",
      "25\n"
     ]
    }
   ],
   "source": [
    "numbers= [5,15,6,20,7,25]\n",
    "for i in numbers :\n",
    "     if i > 10 :\n",
    "        print(i)"
   ]
  },
  {
   "cell_type": "code",
   "execution_count": 176,
   "id": "8c5cb09b",
   "metadata": {
    "scrolled": true
   },
   "outputs": [
    {
     "name": "stdout",
     "output_type": "stream",
     "text": [
      "15\n",
      "20\n",
      "25\n"
     ]
    }
   ],
   "source": [
    "numbers= [5,15,6,20,7,25]\n",
    "for i in numbers :\n",
    "    if i % 5 == 0 and i > 5 :\n",
    "        print(i)"
   ]
  },
  {
   "cell_type": "code",
   "execution_count": null,
   "id": "39d0d70a",
   "metadata": {},
   "outputs": [],
   "source": [
    "#### 과제8_1030 : 1부터 100까지의 정수 중 5 에서 95 까지의 합을 구하세요."
   ]
  },
  {
   "cell_type": "code",
   "execution_count": 178,
   "id": "7b64ad74",
   "metadata": {},
   "outputs": [
    {
     "name": "stdout",
     "output_type": "stream",
     "text": [
      "4550\n"
     ]
    }
   ],
   "source": [
    "num = 1\n",
    "sum = 0\n",
    "for i in range(1, 101) :\n",
    "    if num >= 5 and num <= 95 :\n",
    "        sum += num\n",
    "    num += 1\n",
    "print(sum)"
   ]
  },
  {
   "cell_type": "code",
   "execution_count": 224,
   "id": "9d967809",
   "metadata": {},
   "outputs": [
    {
     "name": "stdout",
     "output_type": "stream",
     "text": [
      "4550\n"
     ]
    }
   ],
   "source": [
    "n = 1\n",
    "sum = 0\n",
    "while 1 :\n",
    "    if n >= 5 and n <= 95 :\n",
    "        sum += n\n",
    "    n += 1\n",
    "    if n > 100 :\n",
    "        break\n",
    "print(sum)"
   ]
  },
  {
   "cell_type": "code",
   "execution_count": 216,
   "id": "4b6d4b56",
   "metadata": {},
   "outputs": [
    {
     "name": "stdout",
     "output_type": "stream",
     "text": [
      "1\n",
      "2\n",
      "3\n",
      "4\n",
      "5\n",
      "6\n",
      "7\n",
      "8\n",
      "9\n"
     ]
    }
   ],
   "source": [
    "for i in range(1,10) :\n",
    "    print(i)\n",
    "    "
   ]
  },
  {
   "cell_type": "code",
   "execution_count": null,
   "id": "abf84a5a",
   "metadata": {},
   "outputs": [],
   "source": [
    "##### 과제8-1_1031 : 1부터 100까지의 정수중 5부터 95까지의 합을 구하세요.\n",
    "(x < 5 or x > 95) 을 사용"
   ]
  },
  {
   "cell_type": "code",
   "execution_count": 225,
   "id": "b62c9dd1",
   "metadata": {},
   "outputs": [
    {
     "name": "stdout",
     "output_type": "stream",
     "text": [
      "4550\n"
     ]
    }
   ],
   "source": [
    "x= 1\n",
    "sum = 0\n",
    "for i in range(1, 101):\n",
    "    if x < 5 or x > 95 :\n",
    "        x += 1\n",
    "        continue\n",
    "    sum += x\n",
    "    x += 1\n",
    "print(sum)"
   ]
  },
  {
   "cell_type": "code",
   "execution_count": 239,
   "id": "94233129",
   "metadata": {},
   "outputs": [
    {
     "name": "stdout",
     "output_type": "stream",
     "text": [
      "4550\n"
     ]
    }
   ],
   "source": [
    "x = 1\n",
    "sum = 0\n",
    "while 1 :\n",
    "    if x > 100 :\n",
    "        break\n",
    "    if x < 5 or x >95 :\n",
    "        x += 1\n",
    "        continue\n",
    "    sum += x\n",
    "    x += 1\n",
    "print(sum)"
   ]
  },
  {
   "cell_type": "code",
   "execution_count": 240,
   "id": "0f9005e6",
   "metadata": {},
   "outputs": [
    {
     "name": "stdout",
     "output_type": "stream",
     "text": [
      "4545\n"
     ]
    }
   ],
   "source": [
    "x = 1\n",
    "sum = 0\n",
    "while 1 :\n",
    "    x += 1\n",
    "    if x > 100 :\n",
    "        break\n",
    "    if x < 5 or x >95 :\n",
    "        x += 1\n",
    "        continue\n",
    "    sum += x\n",
    "    \n",
    "print(sum)"
   ]
  },
  {
   "cell_type": "code",
   "execution_count": 246,
   "id": "4dc3b118",
   "metadata": {
    "scrolled": true
   },
   "outputs": [
    {
     "name": "stdout",
     "output_type": "stream",
     "text": [
      "5 6 7 8 9 10 11 12 13 14 15 16 17 18 19 20 21 22 23 24 25 26 27 28 29 30 31 32 33 34 35 36 37 38 39 40 41 42 43 44 45 46 47 48 49 50 51 52 53 54 55 56 57 58 59 60 61 62 63 64 65 66 67 68 69 70 71 72 73 74 75 76 77 78 79 80 81 82 83 84 85 86 87 88 89 90 91 92 93 94 95 4550\n"
     ]
    }
   ],
   "source": [
    "sum1 = 0\n",
    "for i in range(5, 96) :\n",
    "    sum1 += i\n",
    "    print(i,end=' ')\n",
    "print(sum1)\n"
   ]
  },
  {
   "cell_type": "code",
   "execution_count": null,
   "id": "ebd438b8",
   "metadata": {},
   "outputs": [],
   "source": []
  },
  {
   "cell_type": "code",
   "execution_count": null,
   "id": "d682aa00",
   "metadata": {},
   "outputs": [],
   "source": [
    "#### 과제9_1030 : while문을 사용해 1부터 1000까지의 정수 중 3과 5의 공배수의 합을 구해 보세요"
   ]
  },
  {
   "cell_type": "code",
   "execution_count": 247,
   "id": "2be77357",
   "metadata": {},
   "outputs": [
    {
     "name": "stdout",
     "output_type": "stream",
     "text": [
      "33165\n"
     ]
    }
   ],
   "source": [
    "n = 1 \n",
    "sum = 0\n",
    "while 1 :\n",
    "    n+=1\n",
    "    if n > 1000 :\n",
    "        break\n",
    "    if n % 3 == 0 and n % 5 == 0 :\n",
    "        sum += n\n",
    "#     n+=1\n",
    "print(sum)"
   ]
  },
  {
   "cell_type": "markdown",
   "id": "896cb2d5",
   "metadata": {},
   "source": [
    "n = 1 \n",
    "sum = 0\n",
    "while 1 :\n",
    "    if n > 1000 :\n",
    "        break\n",
    "    if n % 3 == 0 and n % 5 == 0 :\n",
    "        sum += n #이곳1\n",
    "    n += 1  #이곳2\n",
    "print(sum)\n",
    "\n",
    "위 프로그램은 내가 만든 파이썬으로한 간단한 hile문을 사용해 1부터 1000까지의 정수 중 3과 5의 공배수의 합을 구해 보세요 프로그램이야\n",
    "근데 하다가 의문점이 생겨서.\n",
    "이곳1 줄의 소스코드와 이곳2줄의 소스코드가 서로 들여쓰기가 다른데\n",
    "왜 다른지 알려줄수있을까?\n",
    "\n",
    "ChatGPT\n",
    "네, 질문에 대한 답변 드리겠습니다.\n",
    "\n",
    "위 프로그램에서 이곳1과 이곳2의 들여쓰기가 다른 이유는 그 두 줄이 각기 다른 조건 및 구문에 속하기 때문입니다.\n",
    "\n",
    "이곳1: sum += n\n",
    "\n",
    "이 줄은 if n % 3 == 0 and n % 5 == 0: 조건문에 속하므로, 이 조건이 참일 때만 실행됩니다. 즉, n이 3과 5의 공배수일 때만 이 줄이 실행되어 sum에 n이 더해집니다.\n",
    "이곳2: n += 1\n",
    "\n",
    "이 줄은 while 루프의 메인 본문에 속합니다. 따라서 while 루프의 반복마다 매번 실행되며, n의 값을 1씩 증가시킵니다.\n",
    "들여쓰기는 파이썬에서 매우 중요한 요소로, 코드의 블록 구조와 실행 흐름을 결정합니다. 이곳1의 코드는 if 조건문에 속하므로 그만큼 들여써져 있고, 이곳2의 코드는 while 루프에 바로 속하므로 if 조건문보다는 한 단계 덜 들여써져 있습니다."
   ]
  },
  {
   "cell_type": "code",
   "execution_count": 255,
   "id": "43ed325d",
   "metadata": {},
   "outputs": [
    {
     "name": "stdout",
     "output_type": "stream",
     "text": [
      "21\n"
     ]
    }
   ],
   "source": [
    "#### 과제10_1030 : 현재 시각을 오전과 오후로 구분하는 프로그램을 작성하세요. \n",
    "# 현재 시간 구하는 방법\n",
    "import datetime\n",
    "now=datetime.datetime.now()\n",
    "print(now.hour)"
   ]
  },
  {
   "cell_type": "code",
   "execution_count": 257,
   "id": "d23d3339",
   "metadata": {},
   "outputs": [
    {
     "name": "stdout",
     "output_type": "stream",
     "text": [
      "21\n",
      "오후\n"
     ]
    }
   ],
   "source": [
    "import datetime\n",
    "now=datetime.datetime.now()\n",
    "print(now.hour)\n",
    "\n",
    "\n",
    "if now.hour < 12 :\n",
    "    print(\"오전\")\n",
    "if now.hour >= 12 :\n",
    "    print(\"오후\")"
   ]
  },
  {
   "cell_type": "code",
   "execution_count": 263,
   "id": "802d316b",
   "metadata": {},
   "outputs": [
    {
     "ename": "AttributeError",
     "evalue": "'builtin_function_or_method' object has no attribute 'hour'",
     "output_type": "error",
     "traceback": [
      "\u001b[1;31m---------------------------------------------------------------------------\u001b[0m",
      "\u001b[1;31mAttributeError\u001b[0m                            Traceback (most recent call last)",
      "Cell \u001b[1;32mIn[263], line 3\u001b[0m\n\u001b[0;32m      1\u001b[0m \u001b[38;5;28;01mfrom\u001b[39;00m \u001b[38;5;21;01mdatetime\u001b[39;00m \u001b[38;5;28;01mimport\u001b[39;00m datetime\n\u001b[0;32m      2\u001b[0m now\u001b[38;5;241m=\u001b[39mdatetime\u001b[38;5;241m.\u001b[39mnow\n\u001b[1;32m----> 3\u001b[0m \u001b[38;5;28mprint\u001b[39m(\u001b[43mnow\u001b[49m\u001b[38;5;241;43m.\u001b[39;49m\u001b[43mhour\u001b[49m)\n",
      "\u001b[1;31mAttributeError\u001b[0m: 'builtin_function_or_method' object has no attribute 'hour'"
     ]
    }
   ],
   "source": [
    "from datetime import datetime\n",
    "now=datetime.now\n",
    "print(now.hour)"
   ]
  },
  {
   "cell_type": "code",
   "execution_count": null,
   "id": "ff577a53",
   "metadata": {},
   "outputs": [],
   "source": [
    "#### 과제11_1030 : 태어난 연도를 입력받아 띠를 출력하는 프로그램을 작성하세요.\n",
    "원숭이, 닭, 개, 돼지, 쥐, 소, 범, 토끼, 용, 뱀, 말, 양띠"
   ]
  },
  {
   "cell_type": "code",
   "execution_count": 266,
   "id": "57b2cd1c",
   "metadata": {},
   "outputs": [
    {
     "name": "stdout",
     "output_type": "stream",
     "text": [
      "연도 입력 : 1\n",
      "닭\n"
     ]
    }
   ],
   "source": [
    "year = int(input(\"연도 입력 : \"))\n",
    "byear= year % 12\n",
    "if byear == 0 :\n",
    "    print(\"원숭이\")\n",
    "elif byear == 1:\n",
    "    print(\"닭\")"
   ]
  },
  {
   "cell_type": "code",
   "execution_count": 7,
   "id": "544d79dc",
   "metadata": {},
   "outputs": [
    {
     "name": "stdout",
     "output_type": "stream",
     "text": [
      "태어난 해를 입력하세요 : 2001\n",
      "뱀 띠입니다.\n"
     ]
    }
   ],
   "source": [
    "a = ['원숭이', '닭', '개', '돼지', '쥐', '소', '범', '토끼', '용', '뱀', '말', '양띠']\n",
    "s = int(input(\"태어난 해를 입력하세요 : \"))\n",
    "year= s % 12\n",
    "print(f'{a[year]} 띠입니다.')"
   ]
  },
  {
   "cell_type": "code",
   "execution_count": 8,
   "id": "41bdc8c2",
   "metadata": {},
   "outputs": [
    {
     "name": "stdout",
     "output_type": "stream",
     "text": [
      "태어난 해 : 2001\n",
      "뱀띠입니다.\n"
     ]
    }
   ],
   "source": [
    "애니멀 = ['원숭이', '닭', '개', '돼지', '쥐', '소', '범', '토끼', '용', '뱀', '말', '양']\n",
    "해 = int(input(\"태어난 해 : \"))\n",
    "년 = 해 % 12\n",
    "print(f'{애니멀[년]}띠입니다.')"
   ]
  },
  {
   "cell_type": "code",
   "execution_count": null,
   "id": "d75944c3",
   "metadata": {},
   "outputs": [],
   "source": [
    "# 과제12_1030 : 커피 자판기 프로그램\n",
    "- 시나리오 : 자판기 커피 재고 5잔, 커피 1잔 가격 300원, 재고 범위내에서 300원 이상 돈을 넣으면\n",
    "    거스름돈과 커피를 주고 그렇지 않으면 반환하며 재고가 소진되면 안내멘트 출력\n",
    "- 각 Case별 멘트 출력은 상황에 맞게 창작\n",
    "- while, if ~ elif ~ else 제어문을 사용하여 작성"
   ]
  },
  {
   "cell_type": "code",
   "execution_count": 16,
   "id": "97a6d7ac",
   "metadata": {
    "scrolled": true
   },
   "outputs": [
    {
     "name": "stdout",
     "output_type": "stream",
     "text": [
      "동전이나 지폐를 넣어주세요. : 1000\n",
      "300원으로 커피 1잔 나왔습니다. 맛있게 드세요.\n",
      "거스름돈이 나옵니다. 거스름돈 700원을 받아가세요.\n",
      "동전이나 지폐를 넣어주세요. : 300\n",
      "300원으로 커피 1잔 나왔습니다. 맛있게 드세요.\n",
      "동전이나 지폐를 넣어주세요. : 2000\n",
      "300원으로 커피 1잔 나왔습니다. 맛있게 드세요.\n",
      "거스름돈이 나옵니다. 거스름돈 1700원을 받아가세요.\n",
      "동전이나 지폐를 넣어주세요. : 10\n",
      "돈이 부족하여 커피가 나오지 않았습니다.\n",
      "돈 10원을 받아가세요.\n",
      "동전이나 지폐를 넣어주세요. : 3000\n",
      "300원으로 커피 1잔 나왔습니다. 맛있게 드세요.\n",
      "거스름돈이 나옵니다. 거스름돈 2700원을 받아가세요.\n",
      "동전이나 지폐를 넣어주세요. : 10000\n",
      "300원으로 커피 1잔 나왔습니다. 맛있게 드세요.\n",
      "거스름돈이 나옵니다. 거스름돈 9700원을 받아가세요.\n",
      "모든 커피가 소진하여 마감합니다. 감사합니다.\n"
     ]
    }
   ],
   "source": [
    "coffee = 5 #재고\n",
    "while 1 :\n",
    "    coin = int(input(\"동전이나 지폐를 넣어주세요. : \"))\n",
    "    if coin == 300 :\n",
    "        print(\"300원으로 커피 1잔 나왔습니다. 맛있게 드세요.\")\n",
    "        coffee = coffee - 1\n",
    "    elif coin > 300 :\n",
    "        print(\"300원으로 커피 1잔 나왔습니다. 맛있게 드세요.\")\n",
    "        print(f\"거스름돈이 나옵니다. 거스름돈 {coin-300}원을 받아가세요.\")\n",
    "        coffee = coffee - 1\n",
    "    else : \n",
    "        print(\"돈이 부족하여 커피가 나오지 않았습니다.\")\n",
    "        print(f\"돈 {coin}원을 받아가세요.\")\n",
    "    if coffee == 0 :\n",
    "        print(\"모든 커피가 소진하여 마감합니다. 감사합니다.\")\n",
    "        break"
   ]
  },
  {
   "cell_type": "code",
   "execution_count": null,
   "id": "45dc3532",
   "metadata": {},
   "outputs": [],
   "source": [
    "# Q.1_1031 짝수와 짝수를 입력하면 곱한 값을 출력하고 홀수와 홀수를 입력하면 덧셈 값을 출력하고 그외는\n",
    "# 다시 입력하라는 메시지를 출력하세요."
   ]
  },
  {
   "cell_type": "code",
   "execution_count": null,
   "id": "ff95bb4c",
   "metadata": {},
   "outputs": [],
   "source": []
  },
  {
   "cell_type": "code",
   "execution_count": 34,
   "id": "3f223bf6",
   "metadata": {},
   "outputs": [
    {
     "name": "stdout",
     "output_type": "stream",
     "text": [
      "자연수_1 입력 : 0\n",
      "자연수_2 입력 : 0\n",
      "0\n"
     ]
    }
   ],
   "source": [
    "while 1 :\n",
    "    x = int(input(\"자연수_1 입력 : \"))\n",
    "    y= int(input(\"자연수_2 입력 : \"))\n",
    "    if x % 2 == 0 and y % 2 == 0 :\n",
    "        print(x * y)\n",
    "    elif x % 2 == 1 and y % 2 == 1 :\n",
    "        print(x + y)\n",
    "    else :\n",
    "        print(\"다시 입력해주세요\")\n",
    "    if x == 0 and y == 0 :\n",
    "        break"
   ]
  },
  {
   "cell_type": "code",
   "execution_count": 36,
   "id": "39b51529",
   "metadata": {},
   "outputs": [
    {
     "name": "stdout",
     "output_type": "stream",
     "text": [
      "정수를 입력0\n",
      "정수를 입력0\n",
      "0\n"
     ]
    }
   ],
   "source": [
    "# Q.1_1031 윤성민님 솔루션\n",
    "while True:\n",
    "    num1 = int(input(\"정수를 입력\"))\n",
    "    num2 = int(input(\"정수를 입력\"))\n",
    "    if num1 % 2 == 0 and num2 % 2 == 0:\n",
    "        print(num1*num2)\n",
    "    elif num1 % 2 == 1 and num2 % 2 == 1:\n",
    "        print(num1+num2)\n",
    "    else:\n",
    "        print(\"다시 입력하세요\")\n",
    "    if num1 == 0 and num2 == 0:\n",
    "        break"
   ]
  },
  {
   "cell_type": "code",
   "execution_count": 16,
   "id": "3a0125ae",
   "metadata": {
    "scrolled": true
   },
   "outputs": [
    {
     "name": "stdout",
     "output_type": "stream",
     "text": [
      "동전이나 지폐를 넣어주세요. : 1000\n",
      "300원으로 커피 1잔 나왔습니다. 맛있게 드세요.\n",
      "거스름돈이 나옵니다. 거스름돈 700원을 받아가세요.\n",
      "동전이나 지폐를 넣어주세요. : 300\n",
      "300원으로 커피 1잔 나왔습니다. 맛있게 드세요.\n",
      "동전이나 지폐를 넣어주세요. : 2000\n",
      "300원으로 커피 1잔 나왔습니다. 맛있게 드세요.\n",
      "거스름돈이 나옵니다. 거스름돈 1700원을 받아가세요.\n",
      "동전이나 지폐를 넣어주세요. : 10\n",
      "돈이 부족하여 커피가 나오지 않았습니다.\n",
      "돈 10원을 받아가세요.\n",
      "동전이나 지폐를 넣어주세요. : 3000\n",
      "300원으로 커피 1잔 나왔습니다. 맛있게 드세요.\n",
      "거스름돈이 나옵니다. 거스름돈 2700원을 받아가세요.\n",
      "동전이나 지폐를 넣어주세요. : 10000\n",
      "300원으로 커피 1잔 나왔습니다. 맛있게 드세요.\n",
      "거스름돈이 나옵니다. 거스름돈 9700원을 받아가세요.\n",
      "모든 커피가 소진하여 마감합니다. 감사합니다.\n"
     ]
    }
   ],
   "source": [
    "coffee = 5 #재고\n",
    "while 1 :\n",
    "    coin = int(input(\"동전이나 지폐를 넣어주세요. : \"))\n",
    "    if coin == 300 :\n",
    "        print(\"300원으로 커피 1잔 나왔습니다. 맛있게 드세요.\")\n",
    "        coffee = coffee - 1\n",
    "    elif coin > 300 :\n",
    "        print(\"300원으로 커피 1잔 나왔습니다. 맛있게 드세요.\")\n",
    "        print(f\"거스름돈이 나옵니다. 거스름돈 {coin-300}원을 받아가세요.\")\n",
    "        coffee = coffee - 1\n",
    "    else : \n",
    "        print(\"돈이 부족하여 커피가 나오지 않았습니다.\")\n",
    "        print(f\"돈 {coin}원을 받아가세요.\")\n",
    "    if coffee == 0 :\n",
    "        print(\"모든 커피가 소진하여 마감합니다. 감사합니다.\")\n",
    "        break"
   ]
  },
  {
   "cell_type": "code",
   "execution_count": null,
   "id": "3eed4d4d",
   "metadata": {},
   "outputs": [],
   "source": [
    "#  과제1_1031 : 사용자가 입력한 게임 회수만큼 로또 번호를 출력하는 프로그램을 작성하세요.(중복 처리)"
   ]
  },
  {
   "cell_type": "code",
   "execution_count": 45,
   "id": "a62a4bf3",
   "metadata": {
    "scrolled": false
   },
   "outputs": [
    {
     "name": "stdout",
     "output_type": "stream",
     "text": [
      "횟수 입력 : 3\n",
      "[45, 34, 5, 22, 11, 17]\n",
      "[3, 12, 29, 6, 19, 4]\n",
      "[13, 21, 39, 15, 8, 38]\n"
     ]
    }
   ],
   "source": [
    "import random\n",
    "a = int(input(\"횟수 입력 : \"))\n",
    "numbers_list = list(range(1,46))\n",
    "for i in range(a) :\n",
    "    yours = random.sample(numbers_list,6)\n",
    "    print(yours)"
   ]
  },
  {
   "cell_type": "code",
   "execution_count": 61,
   "id": "e7b7d8ac",
   "metadata": {},
   "outputs": [
    {
     "name": "stdout",
     "output_type": "stream",
     "text": [
      "횟수 입력 : 4\n",
      "[3, 20, 5, 33, 32, 2]\n",
      "[12, 37, 9, 15, 41, 20]\n",
      "[40, 4, 37, 1, 15, 28]\n",
      "[40, 4, 19, 37, 43, 6]\n"
     ]
    }
   ],
   "source": [
    "import random\n",
    "a = int(input(\"횟수 입력 : \"))\n",
    "n = list(range(1,46))\n",
    "for i in range(a) :\n",
    "    c = random.sample(n,6)\n",
    "    print(c)"
   ]
  },
  {
   "cell_type": "code",
   "execution_count": 60,
   "id": "503851df",
   "metadata": {
    "scrolled": true
   },
   "outputs": [
    {
     "data": {
      "text/plain": [
       "[2, 3]"
      ]
     },
     "execution_count": 60,
     "metadata": {},
     "output_type": "execute_result"
    }
   ],
   "source": [
    "import random\n",
    "a = 1,2,3,4\n",
    "random.sample(a,i)"
   ]
  },
  {
   "cell_type": "code",
   "execution_count": 74,
   "id": "27ac87e9",
   "metadata": {
    "scrolled": true
   },
   "outputs": [
    {
     "name": "stdout",
     "output_type": "stream",
     "text": [
      "횟수 입력 : 100\n",
      "1번째 로또 [2, 20, 24, 27, 28, 43]\n",
      "2번째 로또 [7, 14, 26, 37, 39, 43]\n",
      "3번째 로또 [9, 12, 19, 29, 35, 45]\n",
      "4번째 로또 [3, 4, 12, 22, 27, 45]\n",
      "5번째 로또 [5, 11, 14, 17, 20, 28]\n",
      "6번째 로또 [3, 10, 11, 16, 17, 32]\n",
      "7번째 로또 [1, 7, 21, 27, 29, 33]\n",
      "8번째 로또 [2, 11, 15, 20, 32, 34]\n",
      "9번째 로또 [1, 19, 23, 35, 36, 39]\n",
      "10번째 로또 [21, 29, 30, 34, 38, 41]\n",
      "11번째 로또 [6, 8, 24, 38, 43, 44]\n",
      "12번째 로또 [1, 3, 7, 8, 19, 36]\n",
      "13번째 로또 [2, 8, 26, 30, 34, 35]\n",
      "14번째 로또 [1, 7, 26, 28, 34, 39]\n",
      "15번째 로또 [4, 5, 10, 23, 29, 36]\n",
      "16번째 로또 [1, 8, 16, 21, 27, 43]\n",
      "17번째 로또 [2, 4, 6, 18, 30, 35]\n",
      "18번째 로또 [2, 5, 21, 29, 44, 45]\n",
      "19번째 로또 [16, 21, 27, 31, 36, 37]\n",
      "20번째 로또 [8, 21, 31, 34, 39, 41]\n",
      "21번째 로또 [4, 8, 17, 21, 26, 40]\n",
      "22번째 로또 [8, 14, 20, 21, 28, 40]\n",
      "23번째 로또 [7, 11, 21, 38, 39, 42]\n",
      "24번째 로또 [5, 8, 16, 21, 34, 42]\n",
      "25번째 로또 [1, 11, 18, 26, 36, 44]\n",
      "26번째 로또 [3, 7, 10, 15, 16, 37]\n",
      "27번째 로또 [4, 9, 20, 21, 26, 34]\n",
      "28번째 로또 [6, 8, 9, 16, 24, 37]\n",
      "29번째 로또 [13, 18, 27, 35, 37, 45]\n",
      "30번째 로또 [8, 9, 29, 34, 39, 43]\n",
      "31번째 로또 [5, 9, 34, 36, 38, 45]\n",
      "32번째 로또 [7, 12, 17, 18, 29, 38]\n",
      "33번째 로또 [10, 13, 23, 24, 30, 31]\n",
      "34번째 로또 [1, 2, 6, 16, 24, 41]\n",
      "35번째 로또 [10, 15, 16, 18, 19, 26]\n",
      "36번째 로또 [14, 19, 21, 36, 43, 45]\n",
      "37번째 로또 [8, 14, 15, 17, 31, 32]\n",
      "38번째 로또 [10, 27, 32, 34, 39, 40]\n",
      "39번째 로또 [2, 9, 28, 35, 36, 39]\n",
      "40번째 로또 [11, 19, 34, 35, 41, 43]\n",
      "41번째 로또 [4, 5, 7, 20, 25, 39]\n",
      "42번째 로또 [1, 20, 25, 31, 41, 44]\n",
      "43번째 로또 [14, 18, 25, 33, 41, 45]\n",
      "44번째 로또 [4, 8, 14, 18, 33, 39]\n",
      "45번째 로또 [3, 5, 15, 19, 30, 38]\n",
      "46번째 로또 [4, 16, 17, 37, 42, 44]\n",
      "47번째 로또 [7, 21, 22, 36, 38, 43]\n",
      "48번째 로또 [4, 17, 18, 19, 40, 45]\n",
      "49번째 로또 [4, 5, 13, 19, 26, 31]\n",
      "50번째 로또 [5, 12, 15, 27, 35, 42]\n",
      "51번째 로또 [9, 19, 21, 28, 34, 45]\n",
      "52번째 로또 [8, 13, 26, 30, 40, 45]\n",
      "53번째 로또 [3, 11, 25, 29, 35, 44]\n",
      "54번째 로또 [1, 9, 13, 16, 23, 33]\n",
      "55번째 로또 [4, 12, 21, 25, 33, 44]\n",
      "56번째 로또 [7, 22, 24, 25, 28, 31]\n",
      "57번째 로또 [4, 16, 19, 29, 30, 32]\n",
      "58번째 로또 [6, 13, 19, 20, 36, 39]\n",
      "59번째 로또 [4, 5, 9, 30, 33, 45]\n",
      "60번째 로또 [7, 10, 12, 26, 27, 44]\n",
      "61번째 로또 [1, 2, 11, 13, 23, 42]\n",
      "62번째 로또 [19, 28, 29, 39, 41, 43]\n",
      "63번째 로또 [5, 9, 18, 33, 38, 42]\n",
      "64번째 로또 [1, 22, 24, 29, 40, 42]\n",
      "65번째 로또 [17, 32, 36, 42, 44, 45]\n",
      "66번째 로또 [21, 24, 28, 31, 33, 38]\n",
      "67번째 로또 [1, 6, 25, 31, 32, 41]\n",
      "68번째 로또 [1, 3, 9, 10, 40, 41]\n",
      "69번째 로또 [4, 14, 21, 27, 43, 44]\n",
      "70번째 로또 [4, 5, 20, 31, 42, 43]\n",
      "71번째 로또 [5, 14, 25, 32, 35, 39]\n",
      "72번째 로또 [10, 22, 24, 29, 33, 40]\n",
      "73번째 로또 [8, 10, 15, 24, 30, 35]\n",
      "74번째 로또 [1, 2, 9, 11, 25, 37]\n",
      "75번째 로또 [2, 8, 18, 26, 37, 41]\n",
      "76번째 로또 [10, 16, 26, 31, 32, 35]\n",
      "77번째 로또 [3, 10, 18, 31, 32, 33]\n",
      "78번째 로또 [4, 24, 31, 33, 43, 44]\n",
      "79번째 로또 [13, 14, 17, 38, 41, 44]\n",
      "80번째 로또 [9, 12, 16, 26, 36, 38]\n",
      "81번째 로또 [4, 13, 28, 29, 33, 43]\n",
      "82번째 로또 [1, 3, 5, 13, 32, 36]\n",
      "83번째 로또 [7, 9, 21, 27, 29, 36]\n",
      "84번째 로또 [9, 14, 31, 36, 38, 43]\n",
      "85번째 로또 [9, 12, 15, 26, 33, 38]\n",
      "86번째 로또 [13, 26, 27, 40, 41, 45]\n",
      "87번째 로또 [16, 19, 21, 25, 30, 31]\n",
      "88번째 로또 [3, 23, 28, 33, 34, 44]\n",
      "89번째 로또 [4, 8, 21, 23, 34, 40]\n",
      "90번째 로또 [3, 22, 23, 25, 26, 44]\n",
      "91번째 로또 [24, 29, 31, 36, 37, 40]\n",
      "92번째 로또 [8, 12, 23, 24, 26, 32]\n",
      "93번째 로또 [8, 18, 21, 28, 29, 41]\n",
      "94번째 로또 [4, 13, 15, 22, 29, 40]\n",
      "95번째 로또 [1, 5, 10, 24, 32, 34]\n",
      "96번째 로또 [2, 4, 18, 23, 26, 39]\n",
      "97번째 로또 [6, 8, 22, 23, 27, 41]\n",
      "98번째 로또 [4, 12, 27, 29, 36, 43]\n",
      "99번째 로또 [2, 4, 10, 14, 21, 28]\n",
      "100번째 로또 [1, 18, 26, 29, 31, 44]\n"
     ]
    }
   ],
   "source": [
    "import random\n",
    "a = int(input(\"횟수 입력 : \"))\n",
    "for i in range(a) :\n",
    "    b = random.sample(range(1,46),6)\n",
    "    b.sort()\n",
    "    print(f'{i+1}번째 로또' ,b)"
   ]
  },
  {
   "cell_type": "code",
   "execution_count": 65,
   "id": "85eb62b2",
   "metadata": {},
   "outputs": [
    {
     "name": "stdout",
     "output_type": "stream",
     "text": [
      "cherry\n",
      "['apple', 'banna', 'data']\n",
      "data\n",
      "['apple', 'banna']\n"
     ]
    }
   ],
   "source": [
    "# pop 함수\n",
    "fruits = [\"apple\", \"banna\", \"cherry\", \"data\"]\n",
    "\n",
    "# 인덱스 2의 요소 (cherry)를 제거하고 반환\n",
    "removed_fruit = fruits.pop(2)\n",
    "print(removed_fruit)\n",
    "print(fruits)\n",
    "\n",
    "# 리스트의 마지막 요소 (data)를 제거하고 반환\n",
    "last_fruit = fruits.pop()\n",
    "print(last_fruit)\n",
    "print(fruits)"
   ]
  },
  {
   "cell_type": "code",
   "execution_count": 66,
   "id": "62601093",
   "metadata": {},
   "outputs": [
    {
     "name": "stdout",
     "output_type": "stream",
     "text": [
      "abc\n",
      "['bca', 'cab']\n"
     ]
    }
   ],
   "source": [
    "p = ['abc', 'bca', 'cab']\n",
    "rp = p.pop(0)\n",
    "print(rp)\n",
    "print(p)"
   ]
  },
  {
   "cell_type": "code",
   "execution_count": 68,
   "id": "d0d50052",
   "metadata": {},
   "outputs": [
    {
     "name": "stdout",
     "output_type": "stream",
     "text": [
      "cab\n",
      "['abc', 'bca']\n"
     ]
    }
   ],
   "source": [
    "p = ['abc', 'bca', 'cab']\n",
    "ap = p.pop()\n",
    "\n",
    "print(ap)\n",
    "print(p)"
   ]
  },
  {
   "cell_type": "code",
   "execution_count": null,
   "id": "c18d8066",
   "metadata": {},
   "outputs": [],
   "source": [
    "# 과제1-1_1031 : sample 을 사용하지않고 중복 처리를 하세요."
   ]
  },
  {
   "cell_type": "code",
   "execution_count": 71,
   "id": "ee70c06c",
   "metadata": {},
   "outputs": [
    {
     "name": "stdout",
     "output_type": "stream",
     "text": [
      "횟수 입력 : 13\n"
     ]
    }
   ],
   "source": [
    "from random import shuffle\n",
    "\n",
    "c = int(input(\"횟수 입력 : \"))\n",
    "for i in range(c) :\n",
    "    lt = for i in range(1,46)\n",
    "    random.shuffle(lt,6)\n",
    "    lt.pop()"
   ]
  },
  {
   "cell_type": "code",
   "execution_count": null,
   "id": "c5df1d22",
   "metadata": {},
   "outputs": [],
   "source": [
    "#### 과제2_1031 현재 계절 구분 프로그램\n",
    "- 시나리오 : 3 ~ 5월은 봄, 6 ~ 8월은 여름, 9 ~ 11월은 가을, 12 ~ 2월은 겨울로 구분. 지금 계절을 알려주는 프로그램 \n",
    "- 각 계절별 출력 멘트는 계절에 맞게 창작\n",
    "- if 조건문으로 datetime 모듈을 import해서 datetime.now 함수를 사용해서 작성"
   ]
  },
  {
   "cell_type": "code",
   "execution_count": 94,
   "id": "5eac2a17",
   "metadata": {},
   "outputs": [
    {
     "name": "stdout",
     "output_type": "stream",
     "text": [
      "2023-11-01 01:05:52.660154\n",
      "11\n"
     ]
    }
   ],
   "source": [
    "from datetime import datetime\n",
    "today = datetime.now()\n",
    "print(today)\n",
    "month = today.month\n",
    "print(month)"
   ]
  },
  {
   "cell_type": "code",
   "execution_count": 98,
   "id": "b567e8a8",
   "metadata": {},
   "outputs": [
    {
     "name": "stdout",
     "output_type": "stream",
     "text": [
      "11\n"
     ]
    }
   ],
   "source": [
    "from datetime import datetime\n",
    "a = datetime.now().month\n",
    "print(a)"
   ]
  },
  {
   "cell_type": "code",
   "execution_count": 102,
   "id": "90eb1f46",
   "metadata": {},
   "outputs": [
    {
     "name": "stdout",
     "output_type": "stream",
     "text": [
      "가을\n"
     ]
    }
   ],
   "source": [
    "from datetime import datetime\n",
    "spring = [3,4,5]\n",
    "summer = [6,7,8]\n",
    "autumn = [9,10,11]\n",
    "winter = [12,1,2]\n",
    "\n",
    "month = datetime.now().month\n",
    "if month in spring : \n",
    "    print(\"봄입니다.\")\n",
    "if month in autumn :\n",
    "    print(\"가을\")"
   ]
  },
  {
   "cell_type": "code",
   "execution_count": null,
   "id": "a30f89eb",
   "metadata": {},
   "outputs": [],
   "source": [
    "#### 과제3_1031 : 1부터 99까지 아래와 같이 2개의 수를 곱해서 가장 큰 수를 구하세요.\n",
    "1*99, 2*98 ...99*1"
   ]
  },
  {
   "cell_type": "code",
   "execution_count": 117,
   "id": "682ca2c9",
   "metadata": {},
   "outputs": [
    {
     "name": "stdout",
     "output_type": "stream",
     "text": [
      "2500\n"
     ]
    }
   ],
   "source": [
    "n = 1\n",
    "m = 0\n",
    "while 1 :\n",
    "    n += 1\n",
    "    if n >= 100 :\n",
    "        break\n",
    "    if m >= n*(100-n) :\n",
    "        continue\n",
    "    else : \n",
    "        m = n*(100-n)   \n",
    "print(m)"
   ]
  },
  {
   "cell_type": "code",
   "execution_count": 118,
   "id": "a0aef439",
   "metadata": {},
   "outputs": [
    {
     "name": "stdout",
     "output_type": "stream",
     "text": [
      "2500\n"
     ]
    }
   ],
   "source": [
    "m = 0\n",
    "for i in range(1, 100):\n",
    "    if m >= i*(100-i) :\n",
    "        continue\n",
    "    m = i*(100-i)\n",
    "print(m)"
   ]
  },
  {
   "cell_type": "code",
   "execution_count": null,
   "id": "862d6dab",
   "metadata": {},
   "outputs": [],
   "source": [
    "#### 과제4_1031 [    ]을 채워서 아래의 출력과 같이 출력하세요.\n",
    "-출력 :\n",
    "-numbers = [1,2,3,4,5,6,7,8,9]\n",
    "-output = [[], [], []]\n",
    "\n",
    "- [[1,4,7],[2,5,8],[3,6,9]]"
   ]
  },
  {
   "cell_type": "code",
   "execution_count": 165,
   "id": "1cd81293",
   "metadata": {},
   "outputs": [
    {
     "name": "stdout",
     "output_type": "stream",
     "text": [
      "[1, 2, 3]\n",
      "[1, 2, 3]\n",
      "[1, 2, 3]\n"
     ]
    }
   ],
   "source": [
    "numbers = [1,2,3,4,5,6,7,8,9]\n",
    "for i in range(3) :\n",
    "    output = list(map(int,numbers[:3]))\n",
    "    print(output)"
   ]
  },
  {
   "cell_type": "code",
   "execution_count": 150,
   "id": "eea6a9a0",
   "metadata": {
    "scrolled": true
   },
   "outputs": [
    {
     "data": {
      "text/plain": [
       "['1.2', '2.5', '3.7', '4.6']"
      ]
     },
     "execution_count": 150,
     "metadata": {},
     "output_type": "execute_result"
    }
   ],
   "source": [
    "a = [1.2, 2.5, 3.7, 4.6]\n",
    "a = list(map(str, a))\n",
    "a"
   ]
  },
  {
   "cell_type": "code",
   "execution_count": null,
   "id": "972686fa",
   "metadata": {},
   "outputs": [],
   "source": [
    "#### 과제5_1031 컴퓨터가 랜덤하게 생성하는 숫자 맞추기 게임 프로그램을 작성하세요"
   ]
  },
  {
   "cell_type": "code",
   "execution_count": 177,
   "id": "f3f5fd60",
   "metadata": {
    "scrolled": true
   },
   "outputs": [
    {
     "name": "stdout",
     "output_type": "stream",
     "text": [
      "1부터 20까지의 숫자중 하나를 입력해주세요. : 10\n",
      "정답은 해당 수 보다 더 작은 수 입니다..\n",
      "1부터 20까지의 숫자중 하나를 입력해주세요. : 5\n",
      "정답입니다\n"
     ]
    }
   ],
   "source": [
    "# 과제5_1031 솔루션\n",
    "\n",
    "import random\n",
    "number = random.randint(1,20)\n",
    "\n",
    "while True :\n",
    "    ans = int(input(\"1부터 20까지의 숫자중 하나를 입력해주세요. : \"))\n",
    "    if ans == number :\n",
    "        print(\"정답입니다\")\n",
    "        break\n",
    "    elif ans > number :\n",
    "        print(\"정답은 해당 수 보다 더 작은 수 입니다..\")\n",
    "    else :\n",
    "        print(\"정답은 해당 수 보다 더 큰 수 입니다.\")"
   ]
  },
  {
   "cell_type": "code",
   "execution_count": null,
   "id": "6d9b8417",
   "metadata": {},
   "outputs": [],
   "source": [
    "#### 과제6_1031 Player가 3승할 때까지 계속 진행되는 가위바위보 게임 프로그램을 작성하세요.\n",
    "- 게임을 Player와 컴퓨터가 진행"
   ]
  },
  {
   "cell_type": "code",
   "execution_count": 187,
   "id": "87a1a369",
   "metadata": {
    "scrolled": true
   },
   "outputs": [
    {
     "name": "stdout",
     "output_type": "stream",
     "text": [
      "가위, 바위, 보 중에서 하나를 입력하세요. : 보\n",
      "승리\n",
      "1\n",
      "가위, 바위, 보 중에서 하나를 입력하세요. : 보\n",
      "무승부\n",
      "1\n",
      "가위, 바위, 보 중에서 하나를 입력하세요. : 보\n",
      "무승부\n",
      "1\n",
      "가위, 바위, 보 중에서 하나를 입력하세요. : 보\n",
      "승리\n",
      "2\n",
      "가위, 바위, 보 중에서 하나를 입력하세요. : 보\n",
      "무승부\n",
      "2\n",
      "가위, 바위, 보 중에서 하나를 입력하세요. : 보\n",
      "승리\n",
      "3\n",
      "3승을 하여 게임이 종료되었습니다...\n"
     ]
    }
   ],
   "source": [
    "# 과제6_1031 솔루션\n",
    "import random\n",
    "point = 0\n",
    "while True :\n",
    "    if point == 3 :\n",
    "        print(\"3승을 하여 게임이 종료되었습니다...\")\n",
    "        break\n",
    "    computer = random.choice(['가위','바위','보'])\n",
    "    me = str(input(\"가위, 바위, 보 중에서 하나를 입력하세요. : \"))\n",
    "    if me == computer :\n",
    "        print(\"무승부\")\n",
    "        print(point)\n",
    "    elif (me == '가위' and computer == '보') or (me == '보' and computer == '바위') or (me == '바위' and computer == '가위') :\n",
    "        print(\"승리\")\n",
    "        point += 1\n",
    "        print(point)\n",
    "    else : \n",
    "        print(\"패배\")\n",
    "        print(point)"
   ]
  },
  {
   "cell_type": "code",
   "execution_count": 17,
   "id": "cc5868d0",
   "metadata": {},
   "outputs": [
    {
     "data": {
      "text/html": [
       "<div>\n",
       "<style scoped>\n",
       "    .dataframe tbody tr th:only-of-type {\n",
       "        vertical-align: middle;\n",
       "    }\n",
       "\n",
       "    .dataframe tbody tr th {\n",
       "        vertical-align: top;\n",
       "    }\n",
       "\n",
       "    .dataframe thead th {\n",
       "        text-align: right;\n",
       "    }\n",
       "</style>\n",
       "<table border=\"1\" class=\"dataframe\">\n",
       "  <thead>\n",
       "    <tr style=\"text-align: right;\">\n",
       "      <th></th>\n",
       "      <th>survived</th>\n",
       "      <th>pclass</th>\n",
       "      <th>sex</th>\n",
       "      <th>age</th>\n",
       "      <th>sibsp</th>\n",
       "      <th>parch</th>\n",
       "      <th>fare</th>\n",
       "      <th>embarked</th>\n",
       "      <th>class</th>\n",
       "      <th>who</th>\n",
       "      <th>adult_male</th>\n",
       "      <th>deck</th>\n",
       "      <th>embark_town</th>\n",
       "      <th>alive</th>\n",
       "      <th>alone</th>\n",
       "    </tr>\n",
       "  </thead>\n",
       "  <tbody>\n",
       "    <tr>\n",
       "      <th>0</th>\n",
       "      <td>0</td>\n",
       "      <td>3</td>\n",
       "      <td>male</td>\n",
       "      <td>22.0</td>\n",
       "      <td>1</td>\n",
       "      <td>0</td>\n",
       "      <td>7.2500</td>\n",
       "      <td>S</td>\n",
       "      <td>Third</td>\n",
       "      <td>man</td>\n",
       "      <td>True</td>\n",
       "      <td>NaN</td>\n",
       "      <td>Southampton</td>\n",
       "      <td>no</td>\n",
       "      <td>False</td>\n",
       "    </tr>\n",
       "    <tr>\n",
       "      <th>1</th>\n",
       "      <td>1</td>\n",
       "      <td>1</td>\n",
       "      <td>female</td>\n",
       "      <td>38.0</td>\n",
       "      <td>1</td>\n",
       "      <td>0</td>\n",
       "      <td>71.2833</td>\n",
       "      <td>C</td>\n",
       "      <td>First</td>\n",
       "      <td>woman</td>\n",
       "      <td>False</td>\n",
       "      <td>C</td>\n",
       "      <td>Cherbourg</td>\n",
       "      <td>yes</td>\n",
       "      <td>False</td>\n",
       "    </tr>\n",
       "    <tr>\n",
       "      <th>2</th>\n",
       "      <td>1</td>\n",
       "      <td>3</td>\n",
       "      <td>female</td>\n",
       "      <td>26.0</td>\n",
       "      <td>0</td>\n",
       "      <td>0</td>\n",
       "      <td>7.9250</td>\n",
       "      <td>S</td>\n",
       "      <td>Third</td>\n",
       "      <td>woman</td>\n",
       "      <td>False</td>\n",
       "      <td>NaN</td>\n",
       "      <td>Southampton</td>\n",
       "      <td>yes</td>\n",
       "      <td>True</td>\n",
       "    </tr>\n",
       "    <tr>\n",
       "      <th>3</th>\n",
       "      <td>1</td>\n",
       "      <td>1</td>\n",
       "      <td>female</td>\n",
       "      <td>35.0</td>\n",
       "      <td>1</td>\n",
       "      <td>0</td>\n",
       "      <td>53.1000</td>\n",
       "      <td>S</td>\n",
       "      <td>First</td>\n",
       "      <td>woman</td>\n",
       "      <td>False</td>\n",
       "      <td>C</td>\n",
       "      <td>Southampton</td>\n",
       "      <td>yes</td>\n",
       "      <td>False</td>\n",
       "    </tr>\n",
       "    <tr>\n",
       "      <th>4</th>\n",
       "      <td>0</td>\n",
       "      <td>3</td>\n",
       "      <td>male</td>\n",
       "      <td>35.0</td>\n",
       "      <td>0</td>\n",
       "      <td>0</td>\n",
       "      <td>8.0500</td>\n",
       "      <td>S</td>\n",
       "      <td>Third</td>\n",
       "      <td>man</td>\n",
       "      <td>True</td>\n",
       "      <td>NaN</td>\n",
       "      <td>Southampton</td>\n",
       "      <td>no</td>\n",
       "      <td>True</td>\n",
       "    </tr>\n",
       "  </tbody>\n",
       "</table>\n",
       "</div>"
      ],
      "text/plain": [
       "   survived  pclass     sex   age  sibsp  parch     fare embarked  class  \\\n",
       "0         0       3    male  22.0      1      0   7.2500        S  Third   \n",
       "1         1       1  female  38.0      1      0  71.2833        C  First   \n",
       "2         1       3  female  26.0      0      0   7.9250        S  Third   \n",
       "3         1       1  female  35.0      1      0  53.1000        S  First   \n",
       "4         0       3    male  35.0      0      0   8.0500        S  Third   \n",
       "\n",
       "     who  adult_male deck  embark_town alive  alone  \n",
       "0    man        True  NaN  Southampton    no  False  \n",
       "1  woman       False    C    Cherbourg   yes  False  \n",
       "2  woman       False  NaN  Southampton   yes   True  \n",
       "3  woman       False    C  Southampton   yes  False  \n",
       "4    man        True  NaN  Southampton    no   True  "
      ]
     },
     "execution_count": 17,
     "metadata": {},
     "output_type": "execute_result"
    }
   ],
   "source": [
    "import pandas as pd\n",
    "import seaborn as sns\n",
    "\n",
    "titanic = sns.load_dataset('titanic')\n",
    "\n",
    "titanic.head()"
   ]
  },
  {
   "cell_type": "code",
   "execution_count": 12,
   "id": "80263365",
   "metadata": {
    "scrolled": true
   },
   "outputs": [
    {
     "name": "stdout",
     "output_type": "stream",
     "text": [
      "3.141592653589793\n",
      "0.6931471805599453\n",
      "0.9950041652780258\n"
     ]
    }
   ],
   "source": [
    "import math\n",
    "print(math.pi)\n",
    "print(math.log(2))\n",
    "print(math.cos(0.1))"
   ]
  },
  {
   "cell_type": "markdown",
   "id": "9b87bcea",
   "metadata": {},
   "source": [
    "#### Q1_1101. 1~10까지 가변적으로 연산을 할 수 있는 사용자 함수를 작성(매개변수가 가변적)"
   ]
  },
  {
   "cell_type": "code",
   "execution_count": null,
   "id": "2ba21100",
   "metadata": {},
   "outputs": [],
   "source": [
    "# Q1_1101 주용규님 솔루션\n",
    "def all_add(*args):\n",
    "    result = 0\n",
    "    for i in args:\n",
    "        result += i\n",
    "    print(result)\n",
    "\n",
    "all_add(4,22,59)\n",
    "all_add(4,22,50,65,75)\n",
    "all_add(1,2,3)"
   ]
  },
  {
   "cell_type": "code",
   "execution_count": 28,
   "id": "ebec176b",
   "metadata": {},
   "outputs": [
    {
     "name": "stdout",
     "output_type": "stream",
     "text": [
      "1000\n"
     ]
    }
   ],
   "source": [
    "def func1(*args) :\n",
    "    re = 1\n",
    "    for i in args :\n",
    "        re *= i\n",
    "    print(re)\n",
    "    \n",
    "func1(1,10,100)"
   ]
  },
  {
   "cell_type": "code",
   "execution_count": null,
   "id": "d14de80f",
   "metadata": {},
   "outputs": [],
   "source": [
    "#### Q1_1101. 1~10까지 가변적으로 연산을 할 수 있는 사용자 함수를 작성(매개변수가 가변적)"
   ]
  },
  {
   "cell_type": "code",
   "execution_count": 30,
   "id": "30fd54fb",
   "metadata": {},
   "outputs": [
    {
     "name": "stdout",
     "output_type": "stream",
     "text": [
      "24\n"
     ]
    }
   ],
   "source": [
    "def f1(*args):\n",
    "    fu = 1\n",
    "    for n in args:\n",
    "        fu *= n\n",
    "    print(fu)\n",
    "f1(2,3,4)"
   ]
  },
  {
   "cell_type": "code",
   "execution_count": null,
   "id": "a58fc7ac",
   "metadata": {},
   "outputs": [],
   "source": [
    "#### Q2_1101. **args를 이용하여 아래와 같이 출력할 수 있는 사용자 함수 func2를 작성하세요\n",
    "- 출력 :\n",
    "- Width : 100\n",
    "- Height: 200\n",
    "- Other arguments: {'color' : 'red', 'thickness':5}"
   ]
  },
  {
   "cell_type": "code",
   "execution_count": 42,
   "id": "789c45e9",
   "metadata": {},
   "outputs": [
    {
     "name": "stdout",
     "output_type": "stream",
     "text": [
      "Width : 100\n",
      "Height : 200\n",
      "Other arguments: {'color': 'red', 'thickness': 5}\n"
     ]
    }
   ],
   "source": [
    "def func2(wid,hei,**kwargs) :\n",
    "    print(f\"Width : {wid}\")\n",
    "    print(f\"Height : {hei}\")\n",
    "    print(f\"Other arguments: {kwargs}\")\n",
    "    \n",
    "func2(100,200,color='red', thickness=5)"
   ]
  },
  {
   "cell_type": "code",
   "execution_count": null,
   "id": "58a52a13",
   "metadata": {},
   "outputs": [],
   "source": [
    "#### 과제1_1101 : 사용자 함수를 아래와 같이 사용할 수 있는 func3를 작성하세요.\n",
    "func3(100, 200)  \n",
    "출력: Width: 100, Height: 200, Color: blue, Thickness: 1\n",
    "\n",
    "func3(100, 200, color='green', thickness=10)  \n",
    "출력: Width: 100, Height: 200, Color: green, Thickness: 10"
   ]
  },
  {
   "cell_type": "code",
   "execution_count": null,
   "id": "b6d05827",
   "metadata": {},
   "outputs": [],
   "source": [
    "Color=\"blue\", Thickness=1"
   ]
  },
  {
   "cell_type": "code",
   "execution_count": 4,
   "id": "d7f2c359",
   "metadata": {},
   "outputs": [
    {
     "ename": "SyntaxError",
     "evalue": "invalid syntax (3854713088.py, line 1)",
     "output_type": "error",
     "traceback": [
      "\u001b[1;36m  Cell \u001b[1;32mIn[4], line 1\u001b[1;36m\u001b[0m\n\u001b[1;33m    def func3(wid,hei,**kwargs= Color=\"blue\", Thickness=1):\u001b[0m\n\u001b[1;37m                              ^\u001b[0m\n\u001b[1;31mSyntaxError\u001b[0m\u001b[1;31m:\u001b[0m invalid syntax\n"
     ]
    }
   ],
   "source": [
    "def func3(wid,hei,**kwargs= Color=\"blue\", Thickness=1):\n",
    "    print(f\"Width : {wid}\")\n",
    "    print(f\"Height : {hei}\")\n",
    "    print(f\"Other arguments: {kwargs}\")\n",
    "func3(100,200)"
   ]
  },
  {
   "cell_type": "code",
   "execution_count": 1,
   "id": "390fe7fb",
   "metadata": {
    "scrolled": true
   },
   "outputs": [
    {
     "name": "stdout",
     "output_type": "stream",
     "text": [
      "Width : 100\n",
      "Height : 200\n",
      "Other arguments: {'Color': 'blue', 'Thickness': 1}\n",
      "Width : 100\n",
      "Height : 200\n",
      "Other arguments: {}\n"
     ]
    }
   ],
   "source": [
    "def func3(wid,hei,**kwargs):\n",
    "    print(f\"Width : {wid}\")\n",
    "    print(f\"Height : {hei}\")\n",
    "    print(f\"Other arguments: {kwargs}\")\n",
    "\n",
    "func3(100,200,Color=\"blue\", Thickness=1)\n",
    "func3(100,200)"
   ]
  }
 ],
 "metadata": {
  "kernelspec": {
   "display_name": "Python 3 (ipykernel)",
   "language": "python",
   "name": "python3"
  },
  "language_info": {
   "codemirror_mode": {
    "name": "ipython",
    "version": 3
   },
   "file_extension": ".py",
   "mimetype": "text/x-python",
   "name": "python",
   "nbconvert_exporter": "python",
   "pygments_lexer": "ipython3",
   "version": "3.10.13"
  }
 },
 "nbformat": 4,
 "nbformat_minor": 5
}
