{
 "cells": [
  {
   "cell_type": "markdown",
   "id": "448f4e75",
   "metadata": {},
   "source": [
    "#### 파이썬에서 함수는 크게 내장 함수(Built-in Functions)와 외장 함수(External Functions)로 나뉩니다.\n",
    "\n",
    "1. 내장 함수 (Built-in Functions):\n",
    "- 내장 함수는 파이썬 인터프리터에 포함되어 있어, 별도의 모듈을 임포트(import)하지 않고도 사용 예를 들어, print(), len(), type(), range(), zip()(인덱스가같은것끼리..) 등이 내장 함수입니다. import 할 필요 없음 기본적인 작업을 수행..\n",
    "- 이러한 함수들은 기본적인 작업을 수행하며, 파이썬 프로그래밍의 기본적인 빌딩 블록(building blocks)으로 작동\n",
    "\n",
    "2. 외장 함수 (External Functions):\n",
    "- 표준 라이브러리에 포함된 모듈과 함수를 가리키는 것으로 모듈을 임포트하여 사용\n",
    "- 파이썬 표준 라이브러리의 os, sys, math, random, datetime 등의 모듈에는 다양한 외장 함수가 포함\n",
    "- 파이썬을 설치할때 같이 설치됨 import로 끌어오기만하면 됨 datetime 할때 .now 이런게 외장함수\n",
    "- 외장함수.. 모듈안에는 클래스 함수 .. 등이 있음\n",
    "- datetime(모듈).datetime(?).now(class)(외장함수) -> now 가 외장함수. 모듈들을 모아놓은것이 패키지\n",
    "- 디렉토리에 해당되는것이 패키지 라이브러리. .py 로 끝나는건 파이썬의 파일->모듈이 .py로 끝남. 그 모듈안에는 클래스나 아님 바로 함수를 쓸수도 있음. 그것을 쓸때에는 '.'을 사용해서 함. 패키지보다 더 큰 개념은 import pandas as pd -> panads는 pd로 줄여서 .. 그래서 쓰려면 .pd로 쓰면 됨 (pandas안에 들어간다.)\n",
    "\n",
    "3. 외부 라이브러리나 패키지\n",
    "- 표준 라이브러리에 포함되지 않아 기본 설치에는 포함되지 않는다. \n",
    "- 이를 사용하려면 먼저 해당 라이브러리나 패키지를 설치\n",
    "- 외부 라이브러리는 통상적으로 파이썬의 패키지 관리자인 pip를 사용하여 설치, 아나콘다에서는 conda install ~ 이렇게 했는데 파이썬에서는 pip 를 사용함\n",
    "- 설치 후에는 외장 함수와 마찬가지로 필요한 모듈을 임포트하여 사용\n",
    "- 예: numpy, pandas, requests 등의 외부 라이브러리에 포함된 함수들.\n",
    "\n",
    "3. 사용자 정의 함수(User-Defined Functions):\n",
    "- def = definition 데피니션 (=정의)\n",
    "- 사용자가 직접 정의하여 사용하는 함수\n",
    "- def 키워드를 사용하여 함수를 정의하며, 필요에 따라 매개변수와 반환 값(결과값 y=ax+b 에서 y)을 지정 임프값 반환값\n",
    "\n",
    "4. 람다 함수(Lambda Functions):\n",
    "- 이름 없는 간단한 함수를 정의할 때 사용하는 익명 함수\n",
    "- lambda 키워드를 사용하여 한 줄로 함수를 정의하며, 주로 간단한 연산이 필요할 때 사용"
   ]
  },
  {
   "cell_type": "code",
   "execution_count": 1,
   "id": "fe0cd0b4",
   "metadata": {},
   "outputs": [
    {
     "name": "stdout",
     "output_type": "stream",
     "text": [
      "Requirement already satisfied: pandas in c:\\anaconda3\\envs\\kita\\lib\\site-packages (2.1.1)\n",
      "Requirement already satisfied: numpy>=1.22.4 in c:\\anaconda3\\envs\\kita\\lib\\site-packages (from pandas) (1.26.0)\n",
      "Requirement already satisfied: python-dateutil>=2.8.2 in c:\\anaconda3\\envs\\kita\\lib\\site-packages (from pandas) (2.8.2)\n",
      "Requirement already satisfied: pytz>=2020.1 in c:\\anaconda3\\envs\\kita\\lib\\site-packages (from pandas) (2023.3.post1)\n",
      "Requirement already satisfied: tzdata>=2022.1 in c:\\anaconda3\\envs\\kita\\lib\\site-packages (from pandas) (2023.3)\n",
      "Requirement already satisfied: six>=1.5 in c:\\anaconda3\\envs\\kita\\lib\\site-packages (from python-dateutil>=2.8.2->pandas) (1.16.0)\n"
     ]
    }
   ],
   "source": [
    "!pip install pandas\n",
    "# 이미 설치되어있어서 Requirement already satisfied: ~ 이렇게뜸"
   ]
  },
  {
   "cell_type": "code",
   "execution_count": 4,
   "id": "d7c1de29",
   "metadata": {},
   "outputs": [
    {
     "name": "stdout",
     "output_type": "stream",
     "text": [
      "Hello, World!\n",
      "4\n",
      "<class 'int'>\n"
     ]
    }
   ],
   "source": [
    "# 내장 함수 예제\n",
    "print(\"Hello, World!\") # 출력 함수\n",
    "print(len([1,2,3,4])) # 길이 계산 함수\n",
    "print(type(10)) # 타입 확인 함수 # <class 'int'>"
   ]
  },
  {
   "cell_type": "code",
   "execution_count": 1,
   "id": "6a9a28e9",
   "metadata": {},
   "outputs": [
    {
     "name": "stdout",
     "output_type": "stream",
     "text": [
      "4.0\n",
      "4\n",
      "2023-10-31 15:14:51.502966\n"
     ]
    }
   ],
   "source": [
    "# 외장 함수 예제 # import로 써야함\n",
    "import math # 수학 모듈 임포트\n",
    "print(math.sqrt(16)) # square_route sqrt제곱근 계산 함수 math.sqrt(number)\n",
    "\n",
    "import random # 랜덤 모듈 임포트\n",
    "print(random.randint(1,10)) # 랜덤 정수 생성 함수 # 1부터 10까지의 랜덤 생성 # randint 는 양끝 포함..\n",
    "\n",
    "import datetime # 날짜와 시간 모듈 임포트\n",
    "print(datetime.datetime.now()) # 현재 날짜와 시간 출력 함수"
   ]
  },
  {
   "cell_type": "code",
   "execution_count": 8,
   "id": "d9395f06",
   "metadata": {},
   "outputs": [
    {
     "name": "stdout",
     "output_type": "stream",
     "text": [
      "      Name  Age\n",
      "0    Alice   25\n",
      "1      Bob   30\n",
      "2  Charlie   35\n"
     ]
    }
   ],
   "source": [
    "# 외부 라이브러리 예제\n",
    "# 먼저 pip를 사용하여 requests 라이브러리를 설치합니다.\n",
    "# !pip install pandas # 이미 설치가 되어있음..\n",
    "\n",
    "import pandas as pd\n",
    "data = {'Name' : ['Alice', 'Bob', 'Charlie'], 'Age':[25,30,35]}\n",
    "df = pd.DataFrame(data) # ~해서 df에 저장\n",
    "\n",
    "# pandas의 head() 함수 사용하여 DataFrame의 처음 5행 출력 (여기서는 3행만 존재)\n",
    "print(df.head()) # head는 앞에것만 5개 뽑기 # df.head(number)"
   ]
  },
  {
   "cell_type": "code",
   "execution_count": 12,
   "id": "8eae746f",
   "metadata": {},
   "outputs": [
    {
     "name": "stdout",
     "output_type": "stream",
     "text": [
      "Hello. 한정현!!\n"
     ]
    }
   ],
   "source": [
    "#사용자 함수 예제\n",
    "def greet(name):\n",
    "    return f\"Hello. {name}!\"\n",
    "\n",
    "print(greet(\"한정현!\"))"
   ]
  },
  {
   "cell_type": "markdown",
   "id": "55be6d65",
   "metadata": {},
   "source": [
    "#### 람다 함수"
   ]
  },
  {
   "cell_type": "code",
   "execution_count": 7,
   "id": "8586161a",
   "metadata": {},
   "outputs": [
    {
     "name": "stdout",
     "output_type": "stream",
     "text": [
      "12\n",
      "20\n"
     ]
    }
   ],
   "source": [
    "# 람다 함수는 간단한 한 줄의 함수를 작성할 때 유용\n",
    "multiply = lambda x, y: x * y\n",
    "print(multiply(3, 4)) # 출력 : 12\n",
    "\n",
    "sum = lambda a, b : a + b\n",
    "print(sum(0,20))"
   ]
  },
  {
   "cell_type": "code",
   "execution_count": 8,
   "id": "95ca1188",
   "metadata": {},
   "outputs": [
    {
     "name": "stdout",
     "output_type": "stream",
     "text": [
      "2\n",
      "11\n"
     ]
    }
   ],
   "source": [
    "mul = lambda a,b : a*b\n",
    "print(mul(1,2))\n",
    "\n",
    "sum1 = lambda c,d : c+d\n",
    "print(sum1(10,1))"
   ]
  },
  {
   "cell_type": "code",
   "execution_count": 18,
   "id": "0cad94b2",
   "metadata": {},
   "outputs": [
    {
     "name": "stdout",
     "output_type": "stream",
     "text": [
      "True\n",
      "False\n"
     ]
    }
   ],
   "source": [
    "# 조건 사용 :\n",
    "is_even = lambda x : True if x % 2 == 0 else False\n",
    "print(is_even(4)) # 출력 : True\n",
    "print(is_even(5)) # 출력 : False"
   ]
  },
  {
   "cell_type": "code",
   "execution_count": 99,
   "id": "4545afcd",
   "metadata": {
    "scrolled": true
   },
   "outputs": [
    {
     "ename": "TypeError",
     "evalue": "'list' object is not callable",
     "output_type": "error",
     "traceback": [
      "\u001b[1;31m---------------------------------------------------------------------------\u001b[0m",
      "\u001b[1;31mTypeError\u001b[0m                                 Traceback (most recent call last)",
      "Cell \u001b[1;32mIn[99], line 6\u001b[0m\n\u001b[0;32m      3\u001b[0m squared_numbers \u001b[38;5;241m=\u001b[39m \u001b[38;5;28mmap\u001b[39m(\u001b[38;5;28;01mlambda\u001b[39;00m x : x \u001b[38;5;241m*\u001b[39m x, numbers)\n\u001b[0;32m      4\u001b[0m \u001b[38;5;66;03m# 1일때 1x1 2일때 2x2 3일때 3x3 ... 1, 4 9 16 25 # 맵핑해라 곱하기던지 나누기던지 빼기던지.... \u001b[39;00m\n\u001b[0;32m      5\u001b[0m \u001b[38;5;66;03m# 데이터가 있는데 거기에 한꺼번에 함수 적용 map\u001b[39;00m\n\u001b[1;32m----> 6\u001b[0m \u001b[38;5;28mprint\u001b[39m(\u001b[38;5;28;43mlist\u001b[39;49m\u001b[43m(\u001b[49m\u001b[43msquared_numbers\u001b[49m\u001b[43m)\u001b[49m)\n",
      "\u001b[1;31mTypeError\u001b[0m: 'list' object is not callable"
     ]
    }
   ],
   "source": [
    "# map() 함수와 함께 사용 : \n",
    "numbers = [1,2,3,4,5]\n",
    "squared_numbers = map(lambda x : x * x, numbers)\n",
    "# 1일때 1x1 2일때 2x2 3일때 3x3 ... 1, 4 9 16 25 # 맵핑해라 곱하기던지 나누기던지 빼기던지.... \n",
    "# 데이터가 있는데 거기에 한꺼번에 함수 적용 map\n",
    "print(list(squared_numbers))"
   ]
  },
  {
   "cell_type": "code",
   "execution_count": 98,
   "id": "0bc39298",
   "metadata": {},
   "outputs": [
    {
     "ename": "ModuleNotFoundError",
     "evalue": "No module named 'map'",
     "output_type": "error",
     "traceback": [
      "\u001b[1;31m---------------------------------------------------------------------------\u001b[0m",
      "\u001b[1;31mModuleNotFoundError\u001b[0m                       Traceback (most recent call last)",
      "Cell \u001b[1;32mIn[98], line 2\u001b[0m\n\u001b[0;32m      1\u001b[0m \u001b[38;5;66;03m# map\u001b[39;00m\n\u001b[1;32m----> 2\u001b[0m \u001b[38;5;28;01mimport\u001b[39;00m \u001b[38;5;21;01mmap\u001b[39;00m\n\u001b[0;32m      3\u001b[0m num \u001b[38;5;241m=\u001b[39m [\u001b[38;5;241m1\u001b[39m,\u001b[38;5;241m5\u001b[39m,\u001b[38;5;241m10\u001b[39m]\n\u001b[0;32m      4\u001b[0m more_num \u001b[38;5;241m=\u001b[39m \u001b[38;5;28mmap\u001b[39m(\u001b[38;5;28;01mlambda\u001b[39;00m a : a \u001b[38;5;241m+\u001b[39m \u001b[38;5;241m2\u001b[39m, num)\n",
      "\u001b[1;31mModuleNotFoundError\u001b[0m: No module named 'map'"
     ]
    }
   ],
   "source": [
    "# map\n",
    "num = [1,5,10]\n",
    "more_num = map(lambda a : a + 2, num)\n",
    "print(list(more_num))"
   ]
  },
  {
   "cell_type": "code",
   "execution_count": 96,
   "id": "95833fdf",
   "metadata": {},
   "outputs": [
    {
     "ename": "TypeError",
     "evalue": "'list' object is not callable",
     "output_type": "error",
     "traceback": [
      "\u001b[1;31m---------------------------------------------------------------------------\u001b[0m",
      "\u001b[1;31mTypeError\u001b[0m                                 Traceback (most recent call last)",
      "Cell \u001b[1;32mIn[96], line 4\u001b[0m\n\u001b[0;32m      2\u001b[0m num \u001b[38;5;241m=\u001b[39m [\u001b[38;5;241m1\u001b[39m,\u001b[38;5;241m5\u001b[39m,\u001b[38;5;241m10\u001b[39m]\n\u001b[0;32m      3\u001b[0m more_num \u001b[38;5;241m=\u001b[39m \u001b[38;5;28mmap\u001b[39m(\u001b[38;5;28;01mlambda\u001b[39;00m a : a \u001b[38;5;241m*\u001b[39m \u001b[38;5;241m2\u001b[39m, num)\n\u001b[1;32m----> 4\u001b[0m \u001b[38;5;28mprint\u001b[39m(\u001b[38;5;28;43mlist\u001b[39;49m\u001b[43m(\u001b[49m\u001b[43mmore_num\u001b[49m\u001b[43m)\u001b[49m)\n",
      "\u001b[1;31mTypeError\u001b[0m: 'list' object is not callable"
     ]
    }
   ],
   "source": [
    "# map\n",
    "num = [1,5,10]\n",
    "more_num = map(lambda a : a * 2, num)\n",
    "print(list(more_num))"
   ]
  },
  {
   "cell_type": "code",
   "execution_count": 3,
   "id": "ca968ac0",
   "metadata": {},
   "outputs": [
    {
     "ename": "TypeError",
     "evalue": "'list' object is not callable",
     "output_type": "error",
     "traceback": [
      "\u001b[1;31m---------------------------------------------------------------------------\u001b[0m",
      "\u001b[1;31mTypeError\u001b[0m                                 Traceback (most recent call last)",
      "Cell \u001b[1;32mIn[3], line 3\u001b[0m\n\u001b[0;32m      1\u001b[0m abclist \u001b[38;5;241m=\u001b[39m [\u001b[38;5;241m1\u001b[39m,\u001b[38;5;241m2\u001b[39m,\u001b[38;5;241m3\u001b[39m,\u001b[38;5;241m4\u001b[39m]\n\u001b[0;32m      2\u001b[0m nlist \u001b[38;5;241m=\u001b[39m \u001b[38;5;28mmap\u001b[39m(\u001b[38;5;28;01mlambda\u001b[39;00m a : a \u001b[38;5;241m*\u001b[39m a, abclist)\n\u001b[1;32m----> 3\u001b[0m \u001b[38;5;28mprint\u001b[39m(\u001b[38;5;28;43mlist\u001b[39;49m\u001b[43m(\u001b[49m\u001b[43mnlist\u001b[49m\u001b[43m)\u001b[49m)\n",
      "\u001b[1;31mTypeError\u001b[0m: 'list' object is not callable"
     ]
    }
   ],
   "source": [
    "abclist = [1,2,3,4]\n",
    "nlist = map(lambda a : a * a, abclist)\n",
    "print(list(nlist))"
   ]
  },
  {
   "cell_type": "code",
   "execution_count": 30,
   "id": "c3a2fdf1",
   "metadata": {},
   "outputs": [
    {
     "name": "stdout",
     "output_type": "stream",
     "text": [
      "[2, 4]\n"
     ]
    }
   ],
   "source": [
    "# filter() 함수와 함께 사용:\n",
    "numbers = [1,2,3,4,5]\n",
    "even_numbers = filter(lambda x : x % 2 == 0, numbers) # numbers에서 만든조건을 만족하는것을 뻄\n",
    "print(list(even_numbers)) # list뜻은 ()안에있는것을 리스트로 바꾼다는뜻"
   ]
  },
  {
   "cell_type": "code",
   "execution_count": 13,
   "id": "150f7d26",
   "metadata": {},
   "outputs": [
    {
     "name": "stdout",
     "output_type": "stream",
     "text": [
      "[3]\n"
     ]
    }
   ],
   "source": [
    "#filter\n",
    "num = [1,3,6]\n",
    "an = filter(lambda a : a== 3,num)\n",
    "print(list(an))"
   ]
  },
  {
   "cell_type": "code",
   "execution_count": 13,
   "id": "8b51f34d",
   "metadata": {},
   "outputs": [
    {
     "name": "stdout",
     "output_type": "stream",
     "text": [
      "[('Alice', 90), ('Charlie', 88), ('Bob', 85)]\n"
     ]
    }
   ],
   "source": [
    "# sorted() 함수와 함께 사용 :\n",
    "students = [('Alice', 90),('Bob', 85),('Charlie',88)]\n",
    "# sorted_students = sorted(students, key=lambda x: x[1])\n",
    "sorted_students = sorted(students, key=lambda x : x[1], reverse=True) # key는 sort 기준\n",
    "print(sorted_students) # 출력 : [('Alice', 90), ('Charlie', 88),('Bob',85)]"
   ]
  },
  {
   "cell_type": "code",
   "execution_count": 16,
   "id": "c1ef64f3",
   "metadata": {},
   "outputs": [
    {
     "name": "stdout",
     "output_type": "stream",
     "text": [
      "[('Bob', 85), ('Charlie', 88), ('Alice', 90)]\n"
     ]
    }
   ],
   "source": [
    "# sorted() 함수와 함께 사용 :\n",
    "students = [('Alice', 90),('Bob', 85),('Charlie',88)]\n",
    "# sorted_students = sorted(students, key=lambda x: x[1])\n",
    "sorted_students = sorted(students, key=lambda x : x[1]) # key는 sorted할때 뭘기준? 여기선 값을 기준으로 해라\n",
    "print(sorted_students) # 출력 : [('Alice', 90), ('Charlie', 88),('Bob',85)]"
   ]
  },
  {
   "cell_type": "code",
   "execution_count": 21,
   "id": "d605e692",
   "metadata": {},
   "outputs": [
    {
     "name": "stdout",
     "output_type": "stream",
     "text": [
      "[('C', 50), ('B', 80), ('A', 90)]\n"
     ]
    }
   ],
   "source": [
    "stu = [('A', 90),('B',80),('C',50)]\n",
    "sorted_stu = sorted(stu, key=lambda x : x[1])\n",
    "print(sorted_stu)"
   ]
  },
  {
   "cell_type": "markdown",
   "id": "42442da7",
   "metadata": {},
   "source": [
    "#### 사용자 함수"
   ]
  },
  {
   "cell_type": "code",
   "execution_count": 44,
   "id": "fee1fc3d",
   "metadata": {},
   "outputs": [
    {
     "name": "stdout",
     "output_type": "stream",
     "text": [
      "25\n",
      "45\n",
      "대만\n"
     ]
    }
   ],
   "source": [
    "def add_number(n1, n2): # 함수이름을 add_number 로함 \n",
    "    ret = n1 + n2\n",
    "    return ret # 사용자함수에서 결과값은 항상 return으로 함\n",
    "\n",
    "def add_txt(t1, t2):\n",
    "    print(t1+t2)\n",
    "\n",
    "ans1 = add_number(10,15)\n",
    "print(ans1)\n",
    "ans2 = add_number(20,25)\n",
    "print(ans2)\n",
    "txt1= '대'\n",
    "txt2= '만'\n",
    "add_txt(txt1,txt2)"
   ]
  },
  {
   "cell_type": "markdown",
   "id": "6ae74661",
   "metadata": {},
   "source": [
    "#### 과제8_1031\n",
    "- 과제8-1 내장함수(배운 것) 5개를 활용해서 간단한 프로그램을 만드세요.\n",
    "- 과제8-2 외장함수(배운 것) 5개를 활용해서 간단한 프로그램을 만드세요.\n",
    "- 과제8-3 사용자 함수 3개를 작성하세요.\n",
    "- 과제8-4 리스트를 작성하고 람다 함수를 이용해서 한번에 함수를 적용하여 결과값을 출력하세요\n",
    "- 과제8-5 외부 라이브러리를 임포트해서 간단한 프로그램을 만드세요."
   ]
  },
  {
   "cell_type": "markdown",
   "id": "2553c69d",
   "metadata": {},
   "source": [
    "#### 과제8-1_1031 내장함수(배운 것) 5개를 활용해서 간단한 프로그램을 만드세요."
   ]
  },
  {
   "cell_type": "code",
   "execution_count": 60,
   "id": "1918abe1",
   "metadata": {},
   "outputs": [
    {
     "name": "stdout",
     "output_type": "stream",
     "text": [
      "내장함수 5개 활용하기.. 첫번째! 사용자가 입력하는 이 함수의 이름은 ? : input\n",
      "input\n",
      "4\n",
      "<class 'list'>\n",
      "[('apple', 'Cove'), ('ornage', 'Jeff'), ('pear', 'Lay')]\n"
     ]
    }
   ],
   "source": [
    "# 과제 8-1 솔루션\n",
    "\n",
    "# 첫번째 내장함수 input()\n",
    "a = str(input(\"내장함수 5개 활용하기.. 첫번째! 사용자가 입력하는 이 함수의 이름은 ? 영어로 써주세요.. : \"))\n",
    "\n",
    "# 두번째 내장함수 print()\n",
    "print(a)\n",
    "list_any = [1,2,3,4]\n",
    "\n",
    "# 세번째 내장함수 len()\n",
    "print(len(list_any))\n",
    "\n",
    "# 네번째 내장함수 type()\n",
    "print(type(list_any))\n",
    "\n",
    "# 다섯번째 내장함수 zip(), list()\n",
    "fruits = ['apple', 'ornage', 'pear']\n",
    "name = ['Cove', 'Jeff', 'Lay']\n",
    "zipped = zip(fruits,name)\n",
    "print(list(zipped))"
   ]
  },
  {
   "cell_type": "markdown",
   "id": "7e328897",
   "metadata": {},
   "source": [
    "#### 과제8-2_1031 외장함수(배운 것) 5개를 활용해서 간단한 프로그램을 만드세요."
   ]
  },
  {
   "cell_type": "code",
   "execution_count": null,
   "id": "b9290651",
   "metadata": {},
   "outputs": [],
   "source": [
    "# 과제8-2_1031 솔루션\n",
    "\n",
    "# 첫번째 외장함수 random()\n",
    "# 사용자가 입력한 게임 회수만큼 로또 번호를 출력하는 프로그램을 작성하세요.(중복 처리)\n",
    "import random\n",
    "num = int(input(\"\"))"
   ]
  },
  {
   "cell_type": "markdown",
   "id": "0000c8bc",
   "metadata": {},
   "source": [
    "#### 과제8-3_1031 사용자 함수 3개를 작성하세요."
   ]
  },
  {
   "cell_type": "code",
   "execution_count": 96,
   "id": "31fa9120",
   "metadata": {},
   "outputs": [
    {
     "name": "stdout",
     "output_type": "stream",
     "text": [
      "Hello. 한정현!\n",
      "10048\n",
      "1 3\n",
      "10 -600\n"
     ]
    }
   ],
   "source": [
    "# 과제8-3_1031 솔루션\n",
    "\n",
    "# 첫번째 사용자 함수 : 인사하기\n",
    "def greeting(name):\n",
    "    return f\"Hello. {name}!\"\n",
    "print(greeting(\"한정현\"))\n",
    "\n",
    "# 두번째 사용자 함수 : 수학연산\n",
    "def haha(x) :\n",
    "    return x*(x + 2) +10000\n",
    "result = haha(6)\n",
    "print(result)\n",
    "\n",
    "# 세번째 사용자 함수 : \n",
    "def print_number(x, y) :\n",
    "    print(x, y)\n",
    "print_number(1, 3)\n",
    "print_number(10, -600)"
   ]
  },
  {
   "cell_type": "markdown",
   "id": "274df996",
   "metadata": {},
   "source": [
    "#### 과제8-4 리스트를 작성하고 람다 함수를 이용해서 한번에 함수를 적용하여 결과값을 출력하세요"
   ]
  },
  {
   "cell_type": "code",
   "execution_count": null,
   "id": "cb199b3f",
   "metadata": {},
   "outputs": [],
   "source": [
    "# 과제8-4_1031 솔루션"
   ]
  },
  {
   "cell_type": "markdown",
   "id": "3d3bf642",
   "metadata": {},
   "source": [
    "#### 과제8-5 외부 라이브러리를 임포트해서 간단한 프로그램을 만드세요."
   ]
  },
  {
   "cell_type": "code",
   "execution_count": 29,
   "id": "90016ad3",
   "metadata": {},
   "outputs": [
    {
     "data": {
      "text/html": [
       "<div>\n",
       "<style scoped>\n",
       "    .dataframe tbody tr th:only-of-type {\n",
       "        vertical-align: middle;\n",
       "    }\n",
       "\n",
       "    .dataframe tbody tr th {\n",
       "        vertical-align: top;\n",
       "    }\n",
       "\n",
       "    .dataframe thead th {\n",
       "        text-align: right;\n",
       "    }\n",
       "</style>\n",
       "<table border=\"1\" class=\"dataframe\">\n",
       "  <thead>\n",
       "    <tr style=\"text-align: right;\">\n",
       "      <th></th>\n",
       "      <th>survived</th>\n",
       "      <th>pclass</th>\n",
       "      <th>sex</th>\n",
       "      <th>age</th>\n",
       "      <th>sibsp</th>\n",
       "      <th>parch</th>\n",
       "      <th>fare</th>\n",
       "      <th>embarked</th>\n",
       "      <th>class</th>\n",
       "      <th>who</th>\n",
       "      <th>adult_male</th>\n",
       "      <th>deck</th>\n",
       "      <th>embark_town</th>\n",
       "      <th>alive</th>\n",
       "      <th>alone</th>\n",
       "    </tr>\n",
       "  </thead>\n",
       "  <tbody>\n",
       "    <tr>\n",
       "      <th>0</th>\n",
       "      <td>0</td>\n",
       "      <td>3</td>\n",
       "      <td>male</td>\n",
       "      <td>22.0</td>\n",
       "      <td>1</td>\n",
       "      <td>0</td>\n",
       "      <td>7.2500</td>\n",
       "      <td>S</td>\n",
       "      <td>Third</td>\n",
       "      <td>man</td>\n",
       "      <td>True</td>\n",
       "      <td>NaN</td>\n",
       "      <td>Southampton</td>\n",
       "      <td>no</td>\n",
       "      <td>False</td>\n",
       "    </tr>\n",
       "    <tr>\n",
       "      <th>1</th>\n",
       "      <td>1</td>\n",
       "      <td>1</td>\n",
       "      <td>female</td>\n",
       "      <td>38.0</td>\n",
       "      <td>1</td>\n",
       "      <td>0</td>\n",
       "      <td>71.2833</td>\n",
       "      <td>C</td>\n",
       "      <td>First</td>\n",
       "      <td>woman</td>\n",
       "      <td>False</td>\n",
       "      <td>C</td>\n",
       "      <td>Cherbourg</td>\n",
       "      <td>yes</td>\n",
       "      <td>False</td>\n",
       "    </tr>\n",
       "    <tr>\n",
       "      <th>2</th>\n",
       "      <td>1</td>\n",
       "      <td>3</td>\n",
       "      <td>female</td>\n",
       "      <td>26.0</td>\n",
       "      <td>0</td>\n",
       "      <td>0</td>\n",
       "      <td>7.9250</td>\n",
       "      <td>S</td>\n",
       "      <td>Third</td>\n",
       "      <td>woman</td>\n",
       "      <td>False</td>\n",
       "      <td>NaN</td>\n",
       "      <td>Southampton</td>\n",
       "      <td>yes</td>\n",
       "      <td>True</td>\n",
       "    </tr>\n",
       "    <tr>\n",
       "      <th>3</th>\n",
       "      <td>1</td>\n",
       "      <td>1</td>\n",
       "      <td>female</td>\n",
       "      <td>35.0</td>\n",
       "      <td>1</td>\n",
       "      <td>0</td>\n",
       "      <td>53.1000</td>\n",
       "      <td>S</td>\n",
       "      <td>First</td>\n",
       "      <td>woman</td>\n",
       "      <td>False</td>\n",
       "      <td>C</td>\n",
       "      <td>Southampton</td>\n",
       "      <td>yes</td>\n",
       "      <td>False</td>\n",
       "    </tr>\n",
       "    <tr>\n",
       "      <th>4</th>\n",
       "      <td>0</td>\n",
       "      <td>3</td>\n",
       "      <td>male</td>\n",
       "      <td>35.0</td>\n",
       "      <td>0</td>\n",
       "      <td>0</td>\n",
       "      <td>8.0500</td>\n",
       "      <td>S</td>\n",
       "      <td>Third</td>\n",
       "      <td>man</td>\n",
       "      <td>True</td>\n",
       "      <td>NaN</td>\n",
       "      <td>Southampton</td>\n",
       "      <td>no</td>\n",
       "      <td>True</td>\n",
       "    </tr>\n",
       "  </tbody>\n",
       "</table>\n",
       "</div>"
      ],
      "text/plain": [
       "   survived  pclass     sex   age  sibsp  parch     fare embarked  class  \\\n",
       "0         0       3    male  22.0      1      0   7.2500        S  Third   \n",
       "1         1       1  female  38.0      1      0  71.2833        C  First   \n",
       "2         1       3  female  26.0      0      0   7.9250        S  Third   \n",
       "3         1       1  female  35.0      1      0  53.1000        S  First   \n",
       "4         0       3    male  35.0      0      0   8.0500        S  Third   \n",
       "\n",
       "     who  adult_male deck  embark_town alive  alone  \n",
       "0    man        True  NaN  Southampton    no  False  \n",
       "1  woman       False    C    Cherbourg   yes  False  \n",
       "2  woman       False  NaN  Southampton   yes   True  \n",
       "3  woman       False    C  Southampton   yes  False  \n",
       "4    man        True  NaN  Southampton    no   True  "
      ]
     },
     "execution_count": 29,
     "metadata": {},
     "output_type": "execute_result"
    }
   ],
   "source": [
    "# 과제8-5_1031 솔루션 # pandas\n",
    "import pandas as pd\n",
    "import seaborn as sns\n",
    "\n",
    "titanic = sns.load_dataset('titanic')\n",
    "\n",
    "titanic.head()"
   ]
  },
  {
   "cell_type": "code",
   "execution_count": 30,
   "id": "9555711f",
   "metadata": {},
   "outputs": [
    {
     "name": "stdout",
     "output_type": "stream",
     "text": [
      "3.141592653589793\n",
      "0.6931471805599453\n",
      "0.9950041652780258\n"
     ]
    }
   ],
   "source": [
    "# 과제8-5_1031 솔루션 # math\n",
    "import math\n",
    "print(math.pi)\n",
    "print(math.log(2))\n",
    "print(math.cos(0.1))"
   ]
  },
  {
   "cell_type": "markdown",
   "id": "deb37d4b",
   "metadata": {},
   "source": [
    "#### 함수 vs 메소드 \n",
    "- 함수 (Function) 단독. 독립적\n",
    "    - 함수는 특정 작업을 수행하거나 값을 계산하기 위해 정의된 코드의 블록\n",
    "    - 함수는 def 키워드를 사용하여 정의\n",
    "    - 함수는 전역적으로 호출할 수 있거나 다른 함수 내부에서 호출할 수 있다. 함수안이면 지역적. 로컬 이라 표현\n",
    "    - 예: print(), len(), max()\n",
    "- 메소드 (Method) 객체. 같이사용, .now() 이런식으로 . 을쓰는데 .앞에있는것이 객체\n",
    "    - 메소드는 객체에 속한 함수즉, 메소드는 특정 객체의 속성이거나 기능으로 정의\n",
    "    - 메소드는 객체와 연결되어 있으며, . (점) 표기법을 사용하여 해당 객체에 대한 메소드를 호출\n",
    "    - 메소드는 첫 번째 매개변수로 self를 사용하여 객체 자체를 참조 (클래스 내부에서 메소드를 정의할 때) 클래스안에있는 함수를 메소드라고함\n",
    "    - class에서 만들어지는걸 보통 객체라고 하는데 파이썬에선 모든게 객체가 될수 있음\n",
    "- 주요 차이점\n",
    "    - 정의: 함수는 독립적으로 정의되지만, 메소드는 클래스 내부에서 정의. 클래스를 가지고 객체를 만듦\n",
    "    - 호출: 함수는 이름만으로 호출될 수 있지만, 메소드는 객체를 통해 호출\n",
    "    - 참조: 메소드는 첫 번째 매개변수로 객체 자신을 참조(self), 반면 함수는 이런 자체 참조 매개변수를 갖지 않는다."
   ]
  },
  {
   "cell_type": "code",
   "execution_count": 34,
   "id": "cc9861f4",
   "metadata": {},
   "outputs": [
    {
     "name": "stdout",
     "output_type": "stream",
     "text": [
      "Hello form a function\n"
     ]
    }
   ],
   "source": [
    "def my_function():\n",
    "    print(\"Hello from a function\")\n",
    "\n",
    "my_function() # 함수 호출"
   ]
  },
  {
   "cell_type": "code",
   "execution_count": 35,
   "id": "96ff7fff",
   "metadata": {},
   "outputs": [
    {
     "name": "stdout",
     "output_type": "stream",
     "text": [
      "Hello from a method\n"
     ]
    }
   ],
   "source": [
    "class MyClass: # 이름이 MyClass인 클래스\n",
    "    def my_method(self):\n",
    "        print(\"Hello from a method\")\n",
    "\n",
    "obj # 붕어빵 = MyClass() #붕어빵기계/ #객체를 만드려면 MyClass 에 ()붙이면 MyClass() 이렇게 객체를 만들면 됨\n",
    "obj.my_method() # 메소드 호출 # . 쓰면 객체 만드는 순간 MyClass안에 있는 모든것을 다 쓸수 있음 . 이런 경우의 함수를 메소드라고부름"
   ]
  },
  {
   "cell_type": "code",
   "execution_count": 36,
   "id": "b6f66ba9",
   "metadata": {},
   "outputs": [
    {
     "data": {
      "text/plain": [
       "[1, 2, 3, 4, 5, 6]"
      ]
     },
     "execution_count": 36,
     "metadata": {},
     "output_type": "execute_result"
    }
   ],
   "source": [
    "# 메소드 사례\n",
    "my_list = [1,2,3,4,5]\n",
    "my_list.append(6) # 리스트에 요소 추가 # 객체.메소드 -> append 를 쓸땐 객체에다가 . 찍고  씀 my_list를 객체라고봄\n",
    "my_list"
   ]
  },
  {
   "cell_type": "code",
   "execution_count": 38,
   "id": "0a77a30b",
   "metadata": {},
   "outputs": [
    {
     "name": "stdout",
     "output_type": "stream",
     "text": [
      "HELLO\n"
     ]
    }
   ],
   "source": [
    "my_string = \"hello\"\n",
    "upper_string = my_string.upper() # 문자열을 대문자로 변환\n",
    "print(upper_string)"
   ]
  },
  {
   "cell_type": "code",
   "execution_count": 41,
   "id": "286d6eed",
   "metadata": {},
   "outputs": [
    {
     "data": {
      "text/plain": [
       "'value1'"
      ]
     },
     "execution_count": 41,
     "metadata": {},
     "output_type": "execute_result"
    }
   ],
   "source": [
    "my_dict = {'key1': 'value1', 'key2': 'value2'}\n",
    "value = my_dict.get('key1') # key1에 해당하는 값을 가져옴\n",
    "value"
   ]
  },
  {
   "cell_type": "code",
   "execution_count": 47,
   "id": "bd38d981",
   "metadata": {},
   "outputs": [
    {
     "data": {
      "text/plain": [
       "{1, 2, 3, 4}"
      ]
     },
     "execution_count": 47,
     "metadata": {},
     "output_type": "execute_result"
    }
   ],
   "source": [
    "my_set = {1,2,3}\n",
    "my_set.add(4) # 집합에 요소 추가 # my_set 가 객체가됨\n",
    "my_set"
   ]
  },
  {
   "cell_type": "code",
   "execution_count": 45,
   "id": "78cd117c",
   "metadata": {},
   "outputs": [
    {
     "data": {
      "text/plain": [
       "2"
      ]
     },
     "execution_count": 45,
     "metadata": {},
     "output_type": "execute_result"
    }
   ],
   "source": [
    "my_list = [1,2,3,4,5]\n",
    "index = my_list.index(3) # 리스트에서 3이라는 값의인덱스 반환\n",
    "index"
   ]
  },
  {
   "cell_type": "code",
   "execution_count": null,
   "id": "841a3525",
   "metadata": {},
   "outputs": [],
   "source": [
    "import \n",
    "표준라이브러리는 파이썬을 설치할때 같이 설치가되어서 따로 install 할필요가 없고\n",
    "외장함수는 따로 끌어다 써야하기 때문에 import를 씀\n",
    "표준라이브러리랑 외장함수 헷갈리기 쉽다"
   ]
  },
  {
   "cell_type": "markdown",
   "id": "2b66de97",
   "metadata": {},
   "source": [
    "#### 사용자 함수"
   ]
  },
  {
   "cell_type": "code",
   "execution_count": 49,
   "id": "2717c8fa",
   "metadata": {
    "scrolled": true
   },
   "outputs": [
    {
     "name": "stdout",
     "output_type": "stream",
     "text": [
      "25\n",
      "45\n",
      "대한민국~만세!\n"
     ]
    }
   ],
   "source": [
    "def add_number(n1,n2): # 함수 함수이름을 add_number 로함 . def,return 초록색 -> 문법\n",
    "    ret = n1+n2 # 매개변수. \n",
    "    return ret # ret을 반환.  # 사용자함수에서 결과값은 항상 return으로 함\n",
    "\n",
    "def add_txt(t1,t2):\n",
    "    print(t1+t2)\n",
    "\n",
    "ans1 = add_number(10,15)\n",
    "print(ans1)\n",
    "ans2 = add_number(20,25)\n",
    "print(ans2)\n",
    "txt1= '대한민국~'\n",
    "txt2= '만세!'\n",
    "add_txt(txt1,txt2)"
   ]
  },
  {
   "cell_type": "code",
   "execution_count": 23,
   "id": "0e7e56b8",
   "metadata": {},
   "outputs": [
    {
     "name": "stdout",
     "output_type": "stream",
     "text": [
      "베스트 : 파이썬\n",
      "1등 : 대한민국\n",
      "()\n",
      "(3, 5, 1, 5, 8)\n",
      "(3,)\n",
      "{}\n",
      "{'f': 50, 'color': 'blue'}\n"
     ]
    }
   ],
   "source": [
    "# 함수 인자 : 기본적으로 인지 순서에 대응되는 값을 함수 코드에 대입\n",
    "def add_txt(t1, t2= '파이썬') : # t2기본값을 대입한 기본 인자는 마지막에 위치해야함\n",
    "    print(t1+' : '+t2)\n",
    "    \n",
    "add_txt('베스트') # t1 베스트, t2 파이썬(이미 위 함수에 들어가있음) 대입 \n",
    "add_txt(t2 ='대한민국', t1='1등') # 인자 순서는 상관X , 키워드 인자에 의한 값 전달.\n",
    "\n",
    "def func1(*args): # *args 인자값에 가변성이 있을때 이렇게 사용해줌 # args 는 함수내부에서 튜플로 처리\n",
    "    print(args)\n",
    "\n",
    "def func2(width, height, **kwargs): # **kwargs 키워드 인자가 불명확한경우. 근데! 특징이 함수 내부에서 사전으로 처리가 됨. keward args 임\n",
    "    print(kwargs) #keward_arguments\n",
    "    \n",
    "func1() # 빈 튜플 () 출력\n",
    "func1(3,5,1,5,8)\n",
    "func1(3) # 튜플 요소 한개이면 , 뜸\n",
    "func2(10,20) # 빈 사전 {} 이 출력\n",
    "func2(10,20, f=50, color='blue')"
   ]
  },
  {
   "cell_type": "markdown",
   "id": "37250c52",
   "metadata": {},
   "source": [
    "#### Q1_1101. 1~10까지 가변적으로 연산을 할 수 있는 사용자 함수를 작성(매개변수가 가변적)"
   ]
  },
  {
   "cell_type": "code",
   "execution_count": 70,
   "id": "4a07f3d5",
   "metadata": {},
   "outputs": [
    {
     "name": "stdout",
     "output_type": "stream",
     "text": [
      "85\n",
      "216\n",
      "6\n"
     ]
    }
   ],
   "source": [
    "# Q1_1101 주용규님 솔루션\n",
    "def all_add(*args):\n",
    "    result = 0\n",
    "    for i in args:\n",
    "        result += i\n",
    "    print(result)\n",
    "\n",
    "all_add(4,22,59)\n",
    "all_add(4,22,50,65,75)\n",
    "all_add(1,2,3)"
   ]
  },
  {
   "cell_type": "code",
   "execution_count": 29,
   "id": "87c8eb1c",
   "metadata": {},
   "outputs": [
    {
     "name": "stdout",
     "output_type": "stream",
     "text": [
      "24\n",
      "90\n",
      "2\n"
     ]
    }
   ],
   "source": [
    "# Q1_1101 솔루션\n",
    "def f1(*args):\n",
    "    fu = 1\n",
    "    for n in args:\n",
    "        fu *= n\n",
    "    print(fu)\n",
    "\n",
    "f1(2,3,4)\n",
    "f1(10,9)\n",
    "f1(2)"
   ]
  },
  {
   "cell_type": "code",
   "execution_count": null,
   "id": "361c34eb",
   "metadata": {},
   "outputs": [],
   "source": [
    "#### Q2_1101. **args를 이용하여 아래와 같이 출력할 수 있는 사용자 함수 func2를 작성하세요\n",
    "- 출력 :\n",
    "- Width : 100\n",
    "- Height: 200\n",
    "- Other arguments: {'color' : 'red', 'thickness':5}"
   ]
  },
  {
   "cell_type": "code",
   "execution_count": 77,
   "id": "a4faf0dc",
   "metadata": {},
   "outputs": [
    {
     "name": "stdout",
     "output_type": "stream",
     "text": [
      "Width: 100\n",
      "Height: 200\n",
      "Other arguments: {'color': 'red', 'thickness': '5'}\n"
     ]
    }
   ],
   "source": [
    "# Q2_1101. 솔루션\n",
    "def func2(width, height, **kwargs):\n",
    "    print(f'Width: {width}')\n",
    "    print(f'Height: {height}')\n",
    "    print(f'Other arguments: {kwargs}')\n",
    "    \n",
    "func2(100,200, color='red', thickness='5')"
   ]
  },
  {
   "cell_type": "code",
   "execution_count": 74,
   "id": "71b0bed6",
   "metadata": {},
   "outputs": [
    {
     "name": "stdout",
     "output_type": "stream",
     "text": [
      "Width: 100\n",
      "Height: 200\n",
      "Other arguments: {'color': 'red', 'thickenss': 5}\n",
      "Width: 100\n",
      "Height: 200\n",
      "Other arguments: {'color': 'red', 'thickenss': 5, 'tpye': 'large'}\n"
     ]
    }
   ],
   "source": [
    "# Q2_1101. 서영우님 솔루션\n",
    "def func2(width, height, **kwargs):\n",
    "    print(f'Width: {width}')\n",
    "    print(f'Height: {height}')\n",
    "    print(f'Other arguments: {kwargs}')\n",
    "\n",
    "\n",
    "func2(100, 200, color='red', thickenss=5)\n",
    "func2(100, 200, color='red', thickenss=5, tpye='large') # kwargs 특징. args 처럼 여러개 써도 된다! 그래서 머신러닝 딥러닝 할때 많이씀"
   ]
  },
  {
   "cell_type": "markdown",
   "id": "8c332a85",
   "metadata": {},
   "source": [
    "#### 과제1_1101 : 사용자 함수를 아래와 같이 사용할 수 있는 func3를 작성하세요.\n",
    "func3(100, 200)  \n",
    "출력: Width: 100, Height: 200, Color: blue, Thickness: 1\n",
    "\n",
    "func3(100, 200, color='green', thickness=10)  \n",
    "출력: Width: 100, Height: 200, Color: green, Thickness: 10"
   ]
  },
  {
   "cell_type": "code",
   "execution_count": 1,
   "id": "a0bc911e",
   "metadata": {},
   "outputs": [
    {
     "name": "stdout",
     "output_type": "stream",
     "text": [
      "Width: 100, Height: 200, color: green, thickness: 10\n"
     ]
    }
   ],
   "source": [
    "# 과제1_1101 솔루션\n",
    "def func3(width, height, **kwargs):\n",
    "    dic_text = str(kwargs)[1:-1].replace(\"'\", \"\")\n",
    "    text3=f'Width: {width}, Height: {height}, {dic_text}'\n",
    "    print(text3)\n",
    "\n",
    "func3(100,200, color='green', thickness=10)"
   ]
  },
  {
   "cell_type": "code",
   "execution_count": null,
   "id": "cef38a3c",
   "metadata": {},
   "outputs": [],
   "source": [
    "# 과제1_1101 솔루션\n",
    "def func3(a, b,  color='blue', thickness=1):\n",
    "    print(f'Width: {a}, Height: {b}, Color: {color}, Thickness: {thickness}')\n",
    "    \n",
    "# 출력 : Width: 100, Height: 200, Color: blue, Thickness: 1\n",
    "func3(100, 200)\n",
    "\n",
    "# 출력: Width: 100, Height: 200, Color: green, Thickness: 10\n",
    "func3(100, 200, color='red', thickness=15 )"
   ]
  },
  {
   "cell_type": "markdown",
   "id": "515ffcbc",
   "metadata": {},
   "source": [
    "#### 과제2_1101 : 아래와 같이 출력되도록 func4를 작성하세요\n",
    "def print_info(**kwargs):\n",
    "    for key, value in kwargs.items():\n",
    "        print(f\"{key}: {value}\")\n",
    "\n",
    "        \n",
    "func4(100, 200, color='yellow', style='dotted')\n",
    "출력:\n",
    "color: yellow\n",
    "style: dotted"
   ]
  },
  {
   "cell_type": "code",
   "execution_count": null,
   "id": "c772e5ec",
   "metadata": {},
   "outputs": [],
   "source": [
    "# 과제2_1101 서영우님 솔루션\n",
    "def func4(a,b,**kwargs):\n",
    "    print_info(**kwargs) # 사용자함수 안에 사용자함수를 또 쓸수 있음 이게 포인트!!! 그래서 func4 안에 print_info에 kwargs 를 바로 넣어서 프린트 \n",
    "\n",
    "def print_info(**kwargs):\n",
    "    for key, value in kwargs.items():\n",
    "        print(f\"{key}: {value}\")\n",
    "\n",
    "        \n",
    "func4(100, 200, color='yellow', style='dotted')"
   ]
  },
  {
   "cell_type": "markdown",
   "id": "0f582139",
   "metadata": {},
   "source": [
    "#### 인자와 리턴값 여부에 따른 함수 유형"
   ]
  },
  {
   "cell_type": "code",
   "execution_count": 78,
   "id": "5b6757e4",
   "metadata": {},
   "outputs": [
    {
     "name": "stdout",
     "output_type": "stream",
     "text": [
      "HI\n"
     ]
    }
   ],
   "source": [
    "# 입력값이 없고 결과값만 있는 함수\n",
    "def say():\n",
    "    return 'HI'\n",
    "\n",
    "a = say()\n",
    "print(a)"
   ]
  },
  {
   "cell_type": "code",
   "execution_count": 24,
   "id": "a236b15f",
   "metadata": {},
   "outputs": [
    {
     "name": "stdout",
     "output_type": "stream",
     "text": [
      "3, 4의 합은 7입니다.\n"
     ]
    }
   ],
   "source": [
    "# 입력값은 있고 결과값이 없는 함수\n",
    "# 결과값은 오직 return 명령어로만 돌려 받을 수 있음\n",
    "def add(a,b):\n",
    "    print('%d, %d의 합은 %d입니다.' %(a,b,a+b))\n",
    "# add(3,4)\n",
    "a = add(3,4)\n",
    "print(a) # 리턴값이 없기 때문에 None 이 출력"
   ]
  },
  {
   "cell_type": "code",
   "execution_count": 84,
   "id": "2b3d5bdc",
   "metadata": {},
   "outputs": [
    {
     "name": "stdout",
     "output_type": "stream",
     "text": [
      "7\n"
     ]
    }
   ],
   "source": [
    "# 입력값과 결과값이 모두 있는 경우\n",
    "def add(a,b):\n",
    "    return a+b\n",
    "a = add(3,4)\n",
    "print(a) # 리턴값이 있기 때문에 None이 뜨지않음"
   ]
  },
  {
   "cell_type": "code",
   "execution_count": 93,
   "id": "601e50e2",
   "metadata": {},
   "outputs": [
    {
     "name": "stdout",
     "output_type": "stream",
     "text": [
      "30\n"
     ]
    },
    {
     "data": {
      "text/plain": [
       "30"
      ]
     },
     "execution_count": 93,
     "metadata": {},
     "output_type": "execute_result"
    }
   ],
   "source": [
    "# 입력값과 결과값이 모두 있는 함수\n",
    "def max(a,b,c):\n",
    "    if a > b :\n",
    "        if a > c :\n",
    "            return a\n",
    "        elif a < c :\n",
    "            return c\n",
    "    if a < b :\n",
    "        if b > c :\n",
    "            return b\n",
    "        else :\n",
    "            return c\n",
    "print(max(10,20,30))\n",
    "max(10,20,30)"
   ]
  },
  {
   "cell_type": "code",
   "execution_count": 85,
   "id": "675a2b89",
   "metadata": {},
   "outputs": [
    {
     "name": "stdout",
     "output_type": "stream",
     "text": [
      "Hi\n",
      "None\n"
     ]
    }
   ],
   "source": [
    "# 입력값도 결과값도 없는 함수\n",
    "def say():\n",
    "    print(\"Hi\")\n",
    "\n",
    "a = say()\n",
    "print(a)"
   ]
  },
  {
   "cell_type": "code",
   "execution_count": 118,
   "id": "c000519f",
   "metadata": {},
   "outputs": [
    {
     "name": "stdout",
     "output_type": "stream",
     "text": [
      "a : 2\n",
      "b : 3\n",
      "기호 : **\n",
      "8\n"
     ]
    }
   ],
   "source": [
    "def math(x,y,z):\n",
    "    if z ==  '*' :\n",
    "        return x*y\n",
    "    elif z == '/' :\n",
    "        return x/y\n",
    "    elif z == '//' :\n",
    "        return x//y\n",
    "    elif z == '%' :\n",
    "        return x%y\n",
    "    elif z == '+' :\n",
    "        return x+y\n",
    "    elif z == '-' :\n",
    "        return x-y\n",
    "    elif z == '**' :\n",
    "        return x**y\n",
    "    else :\n",
    "        return\n",
    "\n",
    "print(math(int(input(\"a : \")), int(input(\"b : \")), input(\"기호 : \")))"
   ]
  },
  {
   "cell_type": "code",
   "execution_count": 99,
   "id": "27cea47a",
   "metadata": {},
   "outputs": [
    {
     "data": {
      "text/plain": [
       "'1 smaller than 2'"
      ]
     },
     "execution_count": 99,
     "metadata": {},
     "output_type": "execute_result"
    }
   ],
   "source": [
    "def com(a,b):\n",
    "    if a>b:\n",
    "        return f'{a} bigger than {b}'\n",
    "    elif a<b:\n",
    "        return f'{a} smaller than {b}'\n",
    "    else : \n",
    "        return f'{a} is {b}'\n",
    "com(1,2)"
   ]
  },
  {
   "cell_type": "code",
   "execution_count": 103,
   "id": "28cf98b8",
   "metadata": {},
   "outputs": [
    {
     "name": "stdout",
     "output_type": "stream",
     "text": [
      "(7, 12)\n"
     ]
    }
   ],
   "source": [
    "# 함수의 반환 값은 언제나 하나임 - 결과 값으로 튜플 값 하나를 갖게 됨\n",
    "def add_and_mul(a,b):\n",
    "    return a+b, a*b\n",
    "\n",
    "result = add_and_mul(3,4)\n",
    "print(result) # 반환 값은 하나이기 때문에 표현하기위해 함수안에서 튜플로 묶어서 하나로 반환"
   ]
  },
  {
   "cell_type": "code",
   "execution_count": 109,
   "id": "93c978b9",
   "metadata": {},
   "outputs": [
    {
     "name": "stdout",
     "output_type": "stream",
     "text": [
      "15\n"
     ]
    },
    {
     "data": {
      "text/plain": [
       "1"
      ]
     },
     "execution_count": 109,
     "metadata": {},
     "output_type": "execute_result"
    }
   ],
   "source": [
    "# add_mul() 함수를 정의하여 1,2,3,4,5 를 입력 값으로 적용하여 덧셈(add), 곱셈(mul) 연산을 수행하세요.\n",
    "def add_mul(choice, *args):\n",
    "    if choice == \"+\" :\n",
    "        result = 0\n",
    "        for i in args : \n",
    "            result += i\n",
    "        return result\n",
    "    elif choice == \"*\" :\n",
    "        result = 1\n",
    "        return result\n",
    "        for i in args :\n",
    "            result *= i\n",
    "        return result\n",
    "    else :\n",
    "        print(\"수행할 수 없는 연산입니다.\")\n",
    "    \n",
    "print(add_mul('+', 1,2,3,4,5))\n",
    "add_mul('*', 1,2,3,4,5)"
   ]
  },
  {
   "cell_type": "markdown",
   "id": "6c814304",
   "metadata": {},
   "source": [
    "#### 과제3_1101 : 뻴셈, 나눗셈 멀티 계산 함수 sub_div를 작성\n",
    "('-', 2,4,6,8,10)\n",
    "('/', 2,4,6,8,10)"
   ]
  },
  {
   "cell_type": "code",
   "execution_count": null,
   "id": "f458c0a5",
   "metadata": {},
   "outputs": [],
   "source": [
    "# 과제3_1101 솔루션\n"
   ]
  },
  {
   "cell_type": "markdown",
   "id": "c1707aab",
   "metadata": {},
   "source": [
    "#### 지역변수와 전역변수\n",
    "- 지역변수는 함수 내부에서만 유효하고 \n",
    "- 전역변수는 코드 전반에 걸쳐 유효\n",
    "- 함수의 인자는 지역변수"
   ]
  },
  {
   "cell_type": "code",
   "execution_count": 110,
   "id": "913e27eb",
   "metadata": {},
   "outputs": [
    {
     "name": "stdout",
     "output_type": "stream",
     "text": [
      "지역변수\n"
     ]
    }
   ],
   "source": [
    "strdata = '전역변수' # 전역변수는 함수바깥.. 글로벌\n",
    "\n",
    "def func1():\n",
    "    strdata = '지역변수' # 지역변수는 함수안에.. 로컬\n",
    "    print(strdata)\n",
    "\n",
    "func1() # 지역변수를 따른다"
   ]
  },
  {
   "cell_type": "code",
   "execution_count": 111,
   "id": "43eaf3b4",
   "metadata": {},
   "outputs": [
    {
     "name": "stdout",
     "output_type": "stream",
     "text": [
      "전역변수\n"
     ]
    }
   ],
   "source": [
    "print(strdata) # 전역변수를 따른다"
   ]
  },
  {
   "cell_type": "code",
   "execution_count": 112,
   "id": "0e77a8f2",
   "metadata": {},
   "outputs": [
    {
     "name": "stdout",
     "output_type": "stream",
     "text": [
      "10\n"
     ]
    }
   ],
   "source": [
    "param = 10\n",
    "def func2(param):\n",
    "    param = 1\n",
    "    \n",
    "print(param) # 전역변수 10이 출력됨"
   ]
  },
  {
   "cell_type": "code",
   "execution_count": 115,
   "id": "50721d13",
   "metadata": {},
   "outputs": [
    {
     "name": "stdout",
     "output_type": "stream",
     "text": [
      "None\n",
      "50\n"
     ]
    }
   ],
   "source": [
    "param = 10\n",
    "def func3():\n",
    "    global param # 함수 내부에서 전역변수를 사용하려면 'global' 키워드를 이용해 전역변수를 사용한다고 명시\n",
    "    param = 50\n",
    "print(func3()) # 아무것도 없으니 None\n",
    "print(param)"
   ]
  },
  {
   "cell_type": "code",
   "execution_count": 121,
   "id": "3da9a78d",
   "metadata": {},
   "outputs": [
    {
     "name": "stdout",
     "output_type": "stream",
     "text": [
      "지역변수\n",
      "전역변수\n",
      "10\n",
      "1\n",
      "전역변수를 함수 안에서 사용\n",
      "50\n"
     ]
    }
   ],
   "source": [
    "param = 10\n",
    "strdata = '전역변수'\n",
    "\n",
    "def func1():\n",
    "    strdata = '지역변수'\n",
    "    print(strdata)\n",
    "    \n",
    "def func2(param):\n",
    "    param = 1\n",
    "    print(param)\n",
    "def func3():\n",
    "    global param\n",
    "    param = 50\n",
    "    \n",
    "func1()\n",
    "print(strdata)\n",
    "print(param)\n",
    "func2(param)\n",
    "print('전역변수를 함수 안에서 사용')\n",
    "func3()\n",
    "print(param)"
   ]
  },
  {
   "cell_type": "code",
   "execution_count": 125,
   "id": "6775883b",
   "metadata": {},
   "outputs": [
    {
     "name": "stdout",
     "output_type": "stream",
     "text": [
      "함수 내에서의 x 값: 20\n",
      "함수 밖에서의 x 값: 10\n"
     ]
    }
   ],
   "source": [
    "# 과제4_1101 : 아래 사용자 함수에서 결과가 아래와 같이 출력되도록 완성하세요.\n",
    "# 함수 내에서의 x 값: 20\n",
    "# 함수 밖에서의 x 값: 20   \n",
    "x = 10\n",
    "\n",
    "def modify_global():\n",
    "    x = 20\n",
    "    print(\"함수 내에서의 x 값:\", x)\n",
    "modify_global()\n",
    "print(\"함수 밖에서의 x 값:\", x)"
   ]
  },
  {
   "cell_type": "code",
   "execution_count": 126,
   "id": "77a89ce5",
   "metadata": {},
   "outputs": [
    {
     "name": "stdout",
     "output_type": "stream",
     "text": [
      "함수 내에서의 x 값: 20\n",
      "함수 밖에서의 x 값: 20\n"
     ]
    }
   ],
   "source": [
    "# 과제4_1101 솔루션\n",
    "x = 20\n",
    "\n",
    "def modify_global():\n",
    "    x = 20\n",
    "    print(\"함수 내에서의 x 값:\", x)\n",
    "modify_global()\n",
    "print(\"함수 밖에서의 x 값:\", x)"
   ]
  },
  {
   "cell_type": "code",
   "execution_count": null,
   "id": "690126a3",
   "metadata": {},
   "outputs": [],
   "source": [
    "# 함수 안에서 선언된 변수의 효력 범위"
   ]
  },
  {
   "cell_type": "code",
   "execution_count": 26,
   "id": "14a7e8c9",
   "metadata": {},
   "outputs": [
    {
     "name": "stdout",
     "output_type": "stream",
     "text": [
      "None\n",
      "1\n"
     ]
    }
   ],
   "source": [
    "a = 1 # 전역변수가 아니라 밑에다가 1대입해서 하려고 적은것\n",
    "def vartest(a):\n",
    "    a = a + 1\n",
    "\n",
    "print(vartest(a))\n",
    "print(a)"
   ]
  },
  {
   "cell_type": "code",
   "execution_count": 32,
   "id": "e30805c1",
   "metadata": {},
   "outputs": [
    {
     "name": "stdout",
     "output_type": "stream",
     "text": [
      "3\n",
      "2\n"
     ]
    }
   ],
   "source": [
    "# 함수 안에서 함수 밖의 변수를 변경하는 방법 - return 이용\n",
    "\n",
    "a = 1 # 전역변수 X\n",
    "def vartest(a):\n",
    "    a= a+1\n",
    "    return a\n",
    "\n",
    "a = vartest(a)\n",
    "print(vartest(a))\n",
    "print(a)"
   ]
  },
  {
   "cell_type": "code",
   "execution_count": 35,
   "id": "960999af",
   "metadata": {},
   "outputs": [
    {
     "name": "stdout",
     "output_type": "stream",
     "text": [
      "None\n",
      "2\n"
     ]
    }
   ],
   "source": [
    "# global 명령을 이용하는 방법\n",
    "a = 1\n",
    "def vartest():\n",
    "    global a\n",
    "    a = a + 1\n",
    "    \n",
    "print(vartest())\n",
    "print(a)"
   ]
  },
  {
   "cell_type": "code",
   "execution_count": null,
   "id": "2a1877a2",
   "metadata": {},
   "outputs": [],
   "source": [
    "#### 함수 리턴값 : return\n",
    "- 함수는 한 개 이상의 값을 리턴할 수 있으며 리턴값이 없을 수도 있다.\n",
    "- 리턴 값이 여러 개인 경우에는 튜플로 리턴값을 만들어 리턴"
   ]
  },
  {
   "cell_type": "code",
   "execution_count": 11,
   "id": "e2d76e59",
   "metadata": {},
   "outputs": [
    {
     "name": "stdout",
     "output_type": "stream",
     "text": [
      "(3, 2, 1)\n",
      "c b a\n",
      "c\n",
      "b\n",
      "a\n"
     ]
    }
   ],
   "source": [
    "def reverse(x,y,z):\n",
    "    return z, y, x\n",
    "ret = reverse(1,2,3)\n",
    "print(ret) # (3,2,1)이 출력됨\n",
    "\n",
    "r1, r2, r3 = reverse('a','b','c')\n",
    "print(r1,r2,r3)\n",
    "print(r1); print(r2); print(r3) # 튜플의 요소 개수만큼 나누어서 리턴값을 개별적으로 받을 수 있음"
   ]
  },
  {
   "cell_type": "code",
   "execution_count": 132,
   "id": "1e51ce71",
   "metadata": {},
   "outputs": [
    {
     "data": {
      "text/plain": [
       "'D:\\\\hjh_directory\\\\workspace\\\\jupyter\\\\python programming'"
      ]
     },
     "execution_count": 132,
     "metadata": {},
     "output_type": "execute_result"
    }
   ],
   "source": [
    "# 현재 작업 폴더\n",
    "%pwd"
   ]
  },
  {
   "cell_type": "code",
   "execution_count": 149,
   "id": "2738a8c0",
   "metadata": {},
   "outputs": [
    {
     "name": "stdout",
     "output_type": "stream",
     "text": [
      " D 드라이브의 볼륨: 새 볼륨\n",
      " 볼륨 일련 번호: 02B1-19A2\n",
      "\n",
      " D:\\hjh_directory\\workspace\\jupyter\\python programming 디렉터리\n",
      "\n",
      "2023-11-01  오후 02:23    <DIR>          .\n",
      "2023-11-01  오후 02:23    <DIR>          ..\n",
      "2023-11-01  오전 09:03    <DIR>          .ipynb_checkpoints\n",
      "2023-11-01  오후 02:23    <DIR>          ex\n",
      "2023-10-31  오전 11:02            15,505 python_2_제어문_과제1030_한정현.ipynb\n",
      "2023-11-01  오전 09:43            87,829 python_2_제어문_메모리부족FIX.ipynb\n",
      "2023-11-01  오후 02:22            50,645 python_3_함수.ipynb\n",
      "2023-11-01  오전 09:32            14,979 python_3_함수_과제1031_한정현.ipynb\n",
      "2023-10-31  오전 11:02            18,007 python_자료형_1_과제1027_한정현.ipynb\n",
      "2023-10-31  오전 11:02             1,786 python_자료형_1_과제6_practice_1027_한정현.ipynb\n",
      "2023-10-31  오전 11:02            98,091 python_자료형_1_한정현.ipynb\n",
      "2023-11-01  오전 10:23            65,084 연습장.ipynb\n",
      "               8개 파일             351,926 바이트\n",
      "               4개 디렉터리  473,596,682,240 바이트 남음\n"
     ]
    }
   ],
   "source": [
    "ls"
   ]
  },
  {
   "cell_type": "code",
   "execution_count": 141,
   "id": "337ca7cb",
   "metadata": {},
   "outputs": [
    {
     "name": "stdout",
     "output_type": "stream",
     "text": [
      " D 드라이브의 볼륨: 새 볼륨\n",
      " 볼륨 일련 번호: 02B1-19A2\n",
      "\n",
      " D:\\hjh_directory\\workspace\\jupyter\\python programming 디렉터리\n",
      "\n",
      "2023-11-01  오후 02:20    <DIR>          .\n",
      "2023-11-01  오후 02:20    <DIR>          ..\n",
      "2023-11-01  오전 09:03    <DIR>          .ipynb_checkpoints\n",
      "2023-10-31  오전 11:02            15,505 python_2_제어문_과제1030_한정현.ipynb\n",
      "2023-11-01  오전 09:43            87,829 python_2_제어문_메모리부족FIX.ipynb\n",
      "2023-11-01  오후 02:20            51,818 python_3_함수.ipynb\n",
      "2023-11-01  오전 09:32            14,979 python_3_함수_과제1031_한정현.ipynb\n",
      "2023-10-31  오전 11:02            18,007 python_자료형_1_과제1027_한정현.ipynb\n",
      "2023-10-31  오전 11:02             1,786 python_자료형_1_과제6_practice_1027_한정현.ipynb\n",
      "2023-10-31  오전 11:02            98,091 python_자료형_1_한정현.ipynb\n",
      "2023-11-01  오전 10:23            65,084 연습장.ipynb\n",
      "               8개 파일             353,099 바이트\n",
      "               3개 디렉터리  473,596,682,240 바이트 남음\n"
     ]
    }
   ],
   "source": [
    "!dir"
   ]
  },
  {
   "cell_type": "code",
   "execution_count": 147,
   "id": "156883fb",
   "metadata": {},
   "outputs": [],
   "source": [
    "# 파일 만들기\n",
    "!echo. > test.txt"
   ]
  },
  {
   "cell_type": "code",
   "execution_count": 148,
   "id": "16029cea",
   "metadata": {},
   "outputs": [],
   "source": [
    "# 파일 삭제\n",
    "!del test.txt"
   ]
  },
  {
   "cell_type": "markdown",
   "id": "6138f105",
   "metadata": {},
   "source": [
    "#### 파일 입출력"
   ]
  },
  {
   "cell_type": "code",
   "execution_count": 157,
   "id": "5eea01ec",
   "metadata": {},
   "outputs": [],
   "source": [
    "# 폴더 경로 이동\n",
    "import os \n",
    "os.chdir(\"D:\\\\hjh_directory\\\\workspace\\\\jupyter\\\\python programming\")"
   ]
  },
  {
   "cell_type": "code",
   "execution_count": 158,
   "id": "e20cd67c",
   "metadata": {},
   "outputs": [
    {
     "data": {
      "text/plain": [
       "'D:\\\\hjh_directory\\\\workspace\\\\jupyter\\\\python programming'"
      ]
     },
     "execution_count": 158,
     "metadata": {},
     "output_type": "execute_result"
    }
   ],
   "source": [
    "%pwd"
   ]
  },
  {
   "cell_type": "code",
   "execution_count": 159,
   "id": "b32e4b17",
   "metadata": {},
   "outputs": [],
   "source": [
    "# 파일 읽고 쓰기\n",
    "f = open('test1.txt','w')\n",
    "f.close()"
   ]
  },
  {
   "cell_type": "code",
   "execution_count": 160,
   "id": "57d19925",
   "metadata": {
    "scrolled": false
   },
   "outputs": [
    {
     "name": "stdout",
     "output_type": "stream",
     "text": [
      " D 드라이브의 볼륨: 새 볼륨\n",
      " 볼륨 일련 번호: 02B1-19A2\n",
      "\n",
      " D:\\hjh_directory\\workspace\\jupyter\\python programming 디렉터리\n",
      "\n",
      "2023-11-01  오후 02:26    <DIR>          .\n",
      "2023-11-01  오후 02:26    <DIR>          ..\n",
      "2023-11-01  오전 09:03    <DIR>          .ipynb_checkpoints\n",
      "2023-11-01  오후 02:23    <DIR>          ex\n",
      "2023-10-31  오전 11:02            15,505 python_2_제어문_과제1030_한정현.ipynb\n",
      "2023-11-01  오전 09:43            87,829 python_2_제어문_메모리부족FIX.ipynb\n",
      "2023-11-01  오후 02:26            52,140 python_3_함수.ipynb\n",
      "2023-11-01  오전 09:32            14,979 python_3_함수_과제1031_한정현.ipynb\n",
      "2023-10-31  오전 11:02            18,007 python_자료형_1_과제1027_한정현.ipynb\n",
      "2023-10-31  오전 11:02             1,786 python_자료형_1_과제6_practice_1027_한정현.ipynb\n",
      "2023-10-31  오전 11:02            98,091 python_자료형_1_한정현.ipynb\n",
      "2023-11-01  오후 02:26                 0 test1.txt\n",
      "2023-11-01  오전 10:23            65,084 연습장.ipynb\n",
      "               9개 파일             353,421 바이트\n",
      "               4개 디렉터리  473,596,682,240 바이트 남음\n"
     ]
    }
   ],
   "source": [
    "ls"
   ]
  },
  {
   "cell_type": "code",
   "execution_count": 164,
   "id": "ff4791fb",
   "metadata": {},
   "outputs": [],
   "source": [
    "f = open('test1.txt','w')\n",
    "for i in range(1,11):\n",
    "    data = '%d번째 줄입니다.\\n' %i\n",
    "    f.write(data)\n",
    "f.close()"
   ]
  },
  {
   "cell_type": "code",
   "execution_count": 165,
   "id": "4d1f5ed0",
   "metadata": {},
   "outputs": [
    {
     "name": "stdout",
     "output_type": "stream",
     "text": [
      "1번째 줄입니다.\n",
      "\n"
     ]
    }
   ],
   "source": [
    "f = open('test1.txt','r')\n",
    "line = f.readline() # .readline 은 라인별로 읽겠다.\n",
    "print(line)\n",
    "f.close()"
   ]
  },
  {
   "cell_type": "code",
   "execution_count": 168,
   "id": "3bbc8686",
   "metadata": {},
   "outputs": [
    {
     "name": "stdout",
     "output_type": "stream",
     "text": [
      "1번째 줄입니다.\n",
      "\n",
      "2번째 줄입니다.\n",
      "\n",
      "3번째 줄입니다.\n",
      "\n",
      "4번째 줄입니다.\n",
      "\n",
      "5번째 줄입니다.\n",
      "\n",
      "6번째 줄입니다.\n",
      "\n",
      "7번째 줄입니다.\n",
      "\n",
      "8번째 줄입니다.\n",
      "\n",
      "9번째 줄입니다.\n",
      "\n",
      "10번째 줄입니다.\n",
      "\n"
     ]
    }
   ],
   "source": [
    "f = open('test1.txt','r')\n",
    "for i in range(10):\n",
    "    line = f.readline() # .readline 은 라인별로 읽겠다.\n",
    "    print(line)\n",
    "f.close()"
   ]
  },
  {
   "cell_type": "code",
   "execution_count": 175,
   "id": "615b84bb",
   "metadata": {},
   "outputs": [
    {
     "name": "stdout",
     "output_type": "stream",
     "text": [
      "1번째 줄입니다.\n",
      "\n",
      "2번째 줄입니다.\n",
      "\n",
      "3번째 줄입니다.\n",
      "\n",
      "4번째 줄입니다.\n",
      "\n",
      "5번째 줄입니다.\n",
      "\n",
      "6번째 줄입니다.\n",
      "\n",
      "7번째 줄입니다.\n",
      "\n",
      "8번째 줄입니다.\n",
      "\n",
      "9번째 줄입니다.\n",
      "\n",
      "10번째 줄입니다.\n",
      "\n"
     ]
    }
   ],
   "source": [
    "f = open('test1.txt','r')\n",
    "while True :\n",
    "    line = f.readline() # .readline 은 라인별로 읽겠다.\n",
    "    if not line : break\n",
    "    print(line)\n",
    "f.close()"
   ]
  },
  {
   "cell_type": "code",
   "execution_count": 170,
   "id": "b566dca5",
   "metadata": {},
   "outputs": [
    {
     "name": "stdout",
     "output_type": "stream",
     "text": [
      "5번째 줄입니다.\n",
      "\n"
     ]
    }
   ],
   "source": [
    "# 원하는 줄만 출력\n",
    "f = open('test1.txt','r')\n",
    "for i in range(10):\n",
    "    line = f.readline()\n",
    "    if i == 4:\n",
    "        print(line)\n",
    "f.close()"
   ]
  },
  {
   "cell_type": "code",
   "execution_count": 176,
   "id": "bfc7923f",
   "metadata": {
    "scrolled": false
   },
   "outputs": [
    {
     "name": "stdout",
     "output_type": "stream",
     "text": [
      "1번째 줄입니다.\n",
      "2번째 줄입니다.\n",
      "3번째 줄입니다.\n",
      "4번째 줄입니다.\n",
      "5번째 줄입니다.\n",
      "6번째 줄입니다.\n",
      "7번째 줄입니다.\n",
      "8번째 줄입니다.\n",
      "9번째 줄입니다.\n",
      "10번째 줄입니다.\n",
      "\n"
     ]
    }
   ],
   "source": [
    "# f.read()는 파일 내용 전체를 문자열로 변환\n",
    "f = open('test1.txt','r')\n",
    "data = f.read()\n",
    "print(data)\n",
    "f.close()"
   ]
  },
  {
   "cell_type": "code",
   "execution_count": 4,
   "id": "cccf632b",
   "metadata": {},
   "outputs": [],
   "source": [
    "f = open('test1.txt','a')\n",
    "for i in range(11,16):\n",
    "    data = '%d번째 줄입니다.\\n' %i\n",
    "    f.write(data)\n",
    "f.close()"
   ]
  },
  {
   "cell_type": "code",
   "execution_count": 8,
   "id": "8d3bbb0b",
   "metadata": {},
   "outputs": [
    {
     "name": "stdout",
     "output_type": "stream",
     "text": [
      "1번째 줄입니다.\n",
      "2번째 줄입니다.\n",
      "3번째 줄입니다.\n",
      "4번째 줄입니다.\n",
      "5번째 줄입니다.\n",
      "6번째 줄입니다.\n",
      "7번째 줄입니다.\n",
      "8번째 줄입니다.\n",
      "9번째 줄입니다.\n",
      "10번째 줄입니다.\n",
      "11번째 줄입니다.\n",
      "12번째 줄입니다.\n",
      "13번째 줄입니다.\n",
      "14번째 줄입니다.\n",
      "15번째 줄입니다.\n",
      "11번째 줄입니다.\n",
      "12번째 줄입니다.\n",
      "13번째 줄입니다.\n",
      "14번째 줄입니다.\n",
      "15번째 줄입니다.\n",
      "11번째 줄입니다.\n",
      "12번째 줄입니다.\n",
      "13번째 줄입니다.\n",
      "14번째 줄입니다.\n",
      "15번째 줄입니다.\n",
      "\n"
     ]
    }
   ],
   "source": [
    "f = open('test1.txt','r')\n",
    "data = f.read()\n",
    "print(data)\n",
    "f.close()"
   ]
  },
  {
   "cell_type": "code",
   "execution_count": 1,
   "id": "de8d376c",
   "metadata": {},
   "outputs": [],
   "source": [
    "# with 문과 같이 사용\n",
    "with open('foo.txt','w') as f:\n",
    "    f.write('파이썬을 배웁시다.')"
   ]
  },
  {
   "cell_type": "code",
   "execution_count": 2,
   "id": "9e536fd5",
   "metadata": {},
   "outputs": [
    {
     "name": "stdout",
     "output_type": "stream",
     "text": [
      "파이썬을 배웁시다.\n"
     ]
    }
   ],
   "source": [
    "with open('foo.txt','r') as f:\n",
    "    data = f.read()\n",
    "    print(data)"
   ]
  },
  {
   "cell_type": "code",
   "execution_count": 5,
   "id": "55a4602d",
   "metadata": {},
   "outputs": [],
   "source": [
    "with open('test2.txt','w') as f :\n",
    "    for i in range(1,11) :\n",
    "        data = f'{i}번째 줄입니다.\\n'\n",
    "        f.write(data)"
   ]
  },
  {
   "cell_type": "code",
   "execution_count": 2,
   "id": "d5ce2f5b",
   "metadata": {},
   "outputs": [],
   "source": [
    "with open('test2.txt','a') as f :\n",
    "    for i in range(1,11) :\n",
    "        data = f'{i}번째 줄입니다.\\n'\n",
    "        f.write(data)"
   ]
  },
  {
   "cell_type": "code",
   "execution_count": 9,
   "id": "bef9050f",
   "metadata": {
    "scrolled": false
   },
   "outputs": [
    {
     "name": "stdout",
     "output_type": "stream",
     "text": [
      "1번째 줄입니다.\n",
      "2번째 줄입니다.\n",
      "3번째 줄입니다.\n",
      "4번째 줄입니다.\n",
      "5번째 줄입니다.\n",
      "6번째 줄입니다.\n",
      "7번째 줄입니다.\n",
      "8번째 줄입니다.\n",
      "9번째 줄입니다.\n",
      "10번째 줄입니다.\n",
      "1번째 줄입니다.\n",
      "2번째 줄입니다.\n",
      "3번째 줄입니다.\n",
      "4번째 줄입니다.\n",
      "5번째 줄입니다.\n",
      "6번째 줄입니다.\n",
      "7번째 줄입니다.\n",
      "8번째 줄입니다.\n",
      "9번째 줄입니다.\n",
      "10번째 줄입니다.\n",
      "\n"
     ]
    }
   ],
   "source": [
    "with open('test2.txt','r') as f :\n",
    "    data = f.read()\n",
    "    print(data)"
   ]
  },
  {
   "cell_type": "markdown",
   "id": "531aea92",
   "metadata": {},
   "source": [
    "#### 과제5_1101 : 원하는 데이터를 생성해서 저장하고 다시 읽어오세요."
   ]
  },
  {
   "cell_type": "code",
   "execution_count": null,
   "id": "9531754f",
   "metadata": {},
   "outputs": [],
   "source": [
    "# 과제5_1101 솔루션\n",
    "with open (\"wow.txt\",\"w\") as f :\n",
    "    f.write(\"파이썬 파일생성! 와우\")\n",
    "    \n",
    "with open (\"wow.txt\",\"r\") as f :\n",
    "    txt = f.read()\n",
    "    print(txt)"
   ]
  },
  {
   "cell_type": "code",
   "execution_count": null,
   "id": "cd7cfaed",
   "metadata": {},
   "outputs": [],
   "source": []
  },
  {
   "cell_type": "code",
   "execution_count": null,
   "id": "668f9755",
   "metadata": {},
   "outputs": [],
   "source": [
    "#### 파이썬 패키지,  모듈, 함수, 클래스\n",
    "- 코드 작성 시 이미 만들어져 있는 함수들을 활용하면 보다 효율적이고 빠르게 개발 가능\n",
    "- 이미 만들어져 있고 안정성이 검증된 함수들을 성격에 맞게 하나의 파이썬 파일에 묶어 만들어 놓을 것을 모듈이라 함\n",
    "- 외부 모듈에 있는 함수들을 활용하려면 이 모듈을 먼저 가져와서 사용해야 하는데 이것을 모듈을 임포트한다고 한다.\n",
    "- 파이썬 모듈이 하나의 파이썬 파일이라면 패키지는 디렉토리로 볼 수 있다.\n",
    "\n",
    "패키지\n",
    "1. 라이브러리라고도 부름\n",
    "2. 특정 기능과 관련된 여러 모듈을 한 그룹으로 묶은 것\n",
    "3. 패키지 안에 서브패키지가 있을 수도 있다.\n",
    "4. import 패키지/모듈, from 패키지/모듈 import 서브패키지/모듈 \n",
    "  \n",
    "   \n",
    "모듈\n",
    "1. 여러 기능들이 뭉쳐진 하나의. py파일\n",
    "2. 함수, 클래스, 변수 등 포함\n",
    "3. import 모듈\n",
    "\n",
    "함수\n",
    "1. 하나의 기능을 가진 코드의 집합\n",
    "2. 함수를 사용한다 = 함수를 호출한다\n",
    "3. 함수 사용 형태: 함수( )\n",
    "   - 필요한 경우 () 안에 매개변수 또는 옵션\n",
    "4. 종류\n",
    "   - 내장 함수(built in function)\n",
    "   - 외장 함수: import 해주어야 함\n",
    "   \n",
    "클래스   \n",
    "- 파이썬은 객체 지향 언어로클래스를 기반으로 객체를 만들어 사용한다.\n",
    "- 한 파이썬 파일(. py) 내에서 \"class class명():\"을 통해 클래스 선언"
   ]
  },
  {
   "cell_type": "code",
   "execution_count": 14,
   "id": "9ea30051",
   "metadata": {},
   "outputs": [
    {
     "name": "stdout",
     "output_type": "stream",
     "text": [
      "5초간 프로그램을 정지합니다.\n",
      "5초가 지나갔습니다.\n"
     ]
    }
   ],
   "source": [
    "# time 모듈\n",
    "import time\n",
    "\n",
    "print('5초간 프로그램을 정지합니다.')\n",
    "time.sleep(5)\n",
    "print('5초가 지나갔습니다.')"
   ]
  },
  {
   "cell_type": "code",
   "execution_count": 17,
   "id": "5a1a7903",
   "metadata": {},
   "outputs": [
    {
     "name": "stdout",
     "output_type": "stream",
     "text": [
      " D 드라이브의 볼륨: 새 볼륨\n",
      " 볼륨 일련 번호: 02B1-19A2\n",
      "\n",
      " D:\\hjh_directory\\workspace\\jupyter\\python programming 디렉터리\n",
      "\n",
      "2023-11-01  오후 03:18    <DIR>          .\n",
      "2023-11-01  오후 03:18    <DIR>          ..\n",
      "2023-11-01  오전 09:03    <DIR>          .ipynb_checkpoints\n",
      "2023-11-01  오후 02:23    <DIR>          ex\n",
      "2023-11-01  오후 02:45                18 foo.txt\n",
      "2023-11-01  오후 03:18                86 mymodule.py\n",
      "2023-10-31  오전 11:02            15,505 python_2_제어문_과제1030_한정현.ipynb\n",
      "2023-11-01  오전 09:43            87,829 python_2_제어문_메모리부족FIX.ipynb\n",
      "2023-11-01  오후 03:16            63,826 python_3_함수.ipynb\n",
      "2023-11-01  오전 09:32            14,979 python_3_함수_과제1031_한정현.ipynb\n",
      "2023-10-31  오전 11:02            18,007 python_자료형_1_과제1027_한정현.ipynb\n",
      "2023-10-31  오전 11:02             1,786 python_자료형_1_과제6_practice_1027_한정현.ipynb\n",
      "2023-10-31  오전 11:02            98,091 python_자료형_1_한정현.ipynb\n",
      "2023-11-01  오후 02:48               441 test1.txt\n",
      "2023-11-01  오후 02:48               342 test2.txt\n",
      "2023-11-01  오전 10:23            65,084 연습장.ipynb\n",
      "              12개 파일             365,994 바이트\n",
      "               4개 디렉터리  473,596,620,800 바이트 남음\n"
     ]
    }
   ],
   "source": [
    "ls"
   ]
  },
  {
   "cell_type": "code",
   "execution_count": 3,
   "id": "80dccacf",
   "metadata": {},
   "outputs": [],
   "source": [
    "# 사용자 작성 모듈\n",
    "with open('mymodule.py','w') as f :\n",
    "    f.write(\n",
    "'''\n",
    "def add_txt(t1,t2):\n",
    "    return t1+':'+t2\n",
    "def reverse(x,y,z):\n",
    "    return z,y,x\n",
    "\n",
    "''')"
   ]
  },
  {
   "cell_type": "code",
   "execution_count": 24,
   "id": "3980c164",
   "metadata": {},
   "outputs": [
    {
     "name": "stdout",
     "output_type": "stream",
     "text": [
      "\n",
      "def add_txt(t1,t2):\n",
      "    return t1+':'+t2\n",
      "def reverse(x,y,z):\n",
      "    retrun z,y,x\n",
      "\n",
      "\n"
     ]
    }
   ],
   "source": [
    "with open('mymodule.py','r') as f :\n",
    "    data = f.read()\n",
    "    print(data)"
   ]
  },
  {
   "cell_type": "code",
   "execution_count": 4,
   "id": "733f0e6d",
   "metadata": {},
   "outputs": [
    {
     "name": "stdout",
     "output_type": "stream",
     "text": [
      "대한민국:1등\n"
     ]
    }
   ],
   "source": [
    "import mymodule\n",
    "\n",
    "ret1 = mymodule.add_txt('대한민국','1등')\n",
    "print(ret1)"
   ]
  },
  {
   "cell_type": "code",
   "execution_count": 5,
   "id": "f08835d2",
   "metadata": {},
   "outputs": [
    {
     "name": "stdout",
     "output_type": "stream",
     "text": [
      "(3, 2, 1)\n"
     ]
    }
   ],
   "source": [
    "ret2 = mymodule.reverse(1,2,3)\n",
    "print(ret2)"
   ]
  },
  {
   "cell_type": "code",
   "execution_count": 25,
   "id": "5398ca86",
   "metadata": {},
   "outputs": [
    {
     "name": "stdout",
     "output_type": "stream",
     "text": [
      "안녕하세요\n",
      "안녕하세요\n",
      "None\n"
     ]
    }
   ],
   "source": [
    "# 클래스 # class 안에는 지역변수 메소드 함수들이 들어가 있을 수 있다.\n",
    "class MyClass:\n",
    "    var = '안녕하세요'\n",
    "    def sayHello(self):\n",
    "        print(self.var)\n",
    "        \n",
    "obj = MyClass() # MyClass 인스턴스 객체 생성\n",
    "print(obj.var)\n",
    "print(obj.sayHello())"
   ]
  },
  {
   "cell_type": "code",
   "execution_count": null,
   "id": "5a410280",
   "metadata": {},
   "outputs": [],
   "source": [
    "# !pip list\n",
    "# !pip install pandas"
   ]
  },
  {
   "cell_type": "code",
   "execution_count": 27,
   "id": "9b68343d",
   "metadata": {},
   "outputs": [
    {
     "data": {
      "text/html": [
       "<div>\n",
       "<style scoped>\n",
       "    .dataframe tbody tr th:only-of-type {\n",
       "        vertical-align: middle;\n",
       "    }\n",
       "\n",
       "    .dataframe tbody tr th {\n",
       "        vertical-align: top;\n",
       "    }\n",
       "\n",
       "    .dataframe thead th {\n",
       "        text-align: right;\n",
       "    }\n",
       "</style>\n",
       "<table border=\"1\" class=\"dataframe\">\n",
       "  <thead>\n",
       "    <tr style=\"text-align: right;\">\n",
       "      <th></th>\n",
       "      <th>a</th>\n",
       "      <th>b</th>\n",
       "      <th>c</th>\n",
       "    </tr>\n",
       "  </thead>\n",
       "  <tbody>\n",
       "    <tr>\n",
       "      <th>0</th>\n",
       "      <td>1</td>\n",
       "      <td>4</td>\n",
       "      <td>7</td>\n",
       "    </tr>\n",
       "    <tr>\n",
       "      <th>1</th>\n",
       "      <td>2</td>\n",
       "      <td>5</td>\n",
       "      <td>8</td>\n",
       "    </tr>\n",
       "    <tr>\n",
       "      <th>2</th>\n",
       "      <td>3</td>\n",
       "      <td>6</td>\n",
       "      <td>9</td>\n",
       "    </tr>\n",
       "  </tbody>\n",
       "</table>\n",
       "</div>"
      ],
      "text/plain": [
       "   a  b  c\n",
       "0  1  4  7\n",
       "1  2  5  8\n",
       "2  3  6  9"
      ]
     },
     "execution_count": 27,
     "metadata": {},
     "output_type": "execute_result"
    }
   ],
   "source": [
    "import pandas as pd\n",
    "df1 = pd.DataFrame({'a': [1,2,3,], 'b': [4,5,6], 'c':[7,8,9]})\n",
    "df1"
   ]
  },
  {
   "cell_type": "code",
   "execution_count": 29,
   "id": "070159c3",
   "metadata": {
    "scrolled": true
   },
   "outputs": [
    {
     "name": "stdout",
     "output_type": "stream",
     "text": [
      "<class 'pandas.core.frame.DataFrame'>\n",
      "RangeIndex: 3 entries, 0 to 2\n",
      "Data columns (total 3 columns):\n",
      " #   Column  Non-Null Count  Dtype\n",
      "---  ------  --------------  -----\n",
      " 0   a       3 non-null      int64\n",
      " 1   b       3 non-null      int64\n",
      " 2   c       3 non-null      int64\n",
      "dtypes: int64(3)\n",
      "memory usage: 200.0 bytes\n"
     ]
    }
   ],
   "source": [
    "df1.info()"
   ]
  },
  {
   "cell_type": "code",
   "execution_count": 42,
   "id": "1c16de66",
   "metadata": {},
   "outputs": [
    {
     "data": {
      "text/html": [
       "<div>\n",
       "<style scoped>\n",
       "    .dataframe tbody tr th:only-of-type {\n",
       "        vertical-align: middle;\n",
       "    }\n",
       "\n",
       "    .dataframe tbody tr th {\n",
       "        vertical-align: top;\n",
       "    }\n",
       "\n",
       "    .dataframe thead th {\n",
       "        text-align: right;\n",
       "    }\n",
       "</style>\n",
       "<table border=\"1\" class=\"dataframe\">\n",
       "  <thead>\n",
       "    <tr style=\"text-align: right;\">\n",
       "      <th></th>\n",
       "      <th>a</th>\n",
       "      <th>b</th>\n",
       "      <th>c</th>\n",
       "    </tr>\n",
       "  </thead>\n",
       "  <tbody>\n",
       "    <tr>\n",
       "      <th>0</th>\n",
       "      <td>1</td>\n",
       "      <td>4</td>\n",
       "      <td>7</td>\n",
       "    </tr>\n",
       "  </tbody>\n",
       "</table>\n",
       "</div>"
      ],
      "text/plain": [
       "   a  b  c\n",
       "0  1  4  7"
      ]
     },
     "execution_count": 42,
     "metadata": {},
     "output_type": "execute_result"
    }
   ],
   "source": [
    "df1.head(1)"
   ]
  },
  {
   "cell_type": "code",
   "execution_count": 43,
   "id": "609338ce",
   "metadata": {},
   "outputs": [
    {
     "data": {
      "text/plain": [
       "<bound method NDFrame.keys of    a  b  c\n",
       "0  1  4  7\n",
       "1  2  5  8\n",
       "2  3  6  9>"
      ]
     },
     "execution_count": 43,
     "metadata": {},
     "output_type": "execute_result"
    }
   ],
   "source": [
    "df1.keys"
   ]
  },
  {
   "cell_type": "code",
   "execution_count": 44,
   "id": "ca311fbb",
   "metadata": {},
   "outputs": [
    {
     "data": {
      "text/html": [
       "<div>\n",
       "<style scoped>\n",
       "    .dataframe tbody tr th:only-of-type {\n",
       "        vertical-align: middle;\n",
       "    }\n",
       "\n",
       "    .dataframe tbody tr th {\n",
       "        vertical-align: top;\n",
       "    }\n",
       "\n",
       "    .dataframe thead th {\n",
       "        text-align: right;\n",
       "    }\n",
       "</style>\n",
       "<table border=\"1\" class=\"dataframe\">\n",
       "  <thead>\n",
       "    <tr style=\"text-align: right;\">\n",
       "      <th></th>\n",
       "      <th>a</th>\n",
       "      <th>b</th>\n",
       "      <th>c</th>\n",
       "    </tr>\n",
       "  </thead>\n",
       "  <tbody>\n",
       "    <tr>\n",
       "      <th>count</th>\n",
       "      <td>3.0</td>\n",
       "      <td>3.0</td>\n",
       "      <td>3.0</td>\n",
       "    </tr>\n",
       "    <tr>\n",
       "      <th>mean</th>\n",
       "      <td>2.0</td>\n",
       "      <td>5.0</td>\n",
       "      <td>8.0</td>\n",
       "    </tr>\n",
       "    <tr>\n",
       "      <th>std</th>\n",
       "      <td>1.0</td>\n",
       "      <td>1.0</td>\n",
       "      <td>1.0</td>\n",
       "    </tr>\n",
       "    <tr>\n",
       "      <th>min</th>\n",
       "      <td>1.0</td>\n",
       "      <td>4.0</td>\n",
       "      <td>7.0</td>\n",
       "    </tr>\n",
       "    <tr>\n",
       "      <th>25%</th>\n",
       "      <td>1.5</td>\n",
       "      <td>4.5</td>\n",
       "      <td>7.5</td>\n",
       "    </tr>\n",
       "    <tr>\n",
       "      <th>50%</th>\n",
       "      <td>2.0</td>\n",
       "      <td>5.0</td>\n",
       "      <td>8.0</td>\n",
       "    </tr>\n",
       "    <tr>\n",
       "      <th>75%</th>\n",
       "      <td>2.5</td>\n",
       "      <td>5.5</td>\n",
       "      <td>8.5</td>\n",
       "    </tr>\n",
       "    <tr>\n",
       "      <th>max</th>\n",
       "      <td>3.0</td>\n",
       "      <td>6.0</td>\n",
       "      <td>9.0</td>\n",
       "    </tr>\n",
       "  </tbody>\n",
       "</table>\n",
       "</div>"
      ],
      "text/plain": [
       "         a    b    c\n",
       "count  3.0  3.0  3.0\n",
       "mean   2.0  5.0  8.0\n",
       "std    1.0  1.0  1.0\n",
       "min    1.0  4.0  7.0\n",
       "25%    1.5  4.5  7.5\n",
       "50%    2.0  5.0  8.0\n",
       "75%    2.5  5.5  8.5\n",
       "max    3.0  6.0  9.0"
      ]
     },
     "execution_count": 44,
     "metadata": {},
     "output_type": "execute_result"
    }
   ],
   "source": [
    "df1.describe() # 통계 요약표"
   ]
  },
  {
   "cell_type": "code",
   "execution_count": 41,
   "id": "cfc6ba2c",
   "metadata": {
    "scrolled": true
   },
   "outputs": [
    {
     "data": {
      "text/html": [
       "<div>\n",
       "<style scoped>\n",
       "    .dataframe tbody tr th:only-of-type {\n",
       "        vertical-align: middle;\n",
       "    }\n",
       "\n",
       "    .dataframe tbody tr th {\n",
       "        vertical-align: top;\n",
       "    }\n",
       "\n",
       "    .dataframe thead th {\n",
       "        text-align: right;\n",
       "    }\n",
       "</style>\n",
       "<table border=\"1\" class=\"dataframe\">\n",
       "  <thead>\n",
       "    <tr style=\"text-align: right;\">\n",
       "      <th></th>\n",
       "      <th>a</th>\n",
       "      <th>b</th>\n",
       "      <th>c</th>\n",
       "    </tr>\n",
       "  </thead>\n",
       "  <tbody>\n",
       "    <tr>\n",
       "      <th>0</th>\n",
       "      <td>1</td>\n",
       "      <td>2</td>\n",
       "      <td>3</td>\n",
       "    </tr>\n",
       "    <tr>\n",
       "      <th>1</th>\n",
       "      <td>4</td>\n",
       "      <td>5</td>\n",
       "      <td>6</td>\n",
       "    </tr>\n",
       "    <tr>\n",
       "      <th>2</th>\n",
       "      <td>7</td>\n",
       "      <td>8</td>\n",
       "      <td>9</td>\n",
       "    </tr>\n",
       "  </tbody>\n",
       "</table>\n",
       "</div>"
      ],
      "text/plain": [
       "   a  b  c\n",
       "0  1  2  3\n",
       "1  4  5  6\n",
       "2  7  8  9"
      ]
     },
     "execution_count": 41,
     "metadata": {},
     "output_type": "execute_result"
    }
   ],
   "source": [
    "import numpy as np\n",
    "import pandas as pd\n",
    "df2 = pd.DataFrame(np.array([[1,2,3],[4,5,6],[7,8,9]]), columns=['a','b','c'])\n",
    "\n",
    "df2"
   ]
  },
  {
   "cell_type": "code",
   "execution_count": 38,
   "id": "112ef9b3",
   "metadata": {},
   "outputs": [
    {
     "data": {
      "text/html": [
       "<div>\n",
       "<style scoped>\n",
       "    .dataframe tbody tr th:only-of-type {\n",
       "        vertical-align: middle;\n",
       "    }\n",
       "\n",
       "    .dataframe tbody tr th {\n",
       "        vertical-align: top;\n",
       "    }\n",
       "\n",
       "    .dataframe thead th {\n",
       "        text-align: right;\n",
       "    }\n",
       "</style>\n",
       "<table border=\"1\" class=\"dataframe\">\n",
       "  <thead>\n",
       "    <tr style=\"text-align: right;\">\n",
       "      <th></th>\n",
       "      <th>a</th>\n",
       "      <th>b</th>\n",
       "      <th>c</th>\n",
       "    </tr>\n",
       "  </thead>\n",
       "  <tbody>\n",
       "    <tr>\n",
       "      <th>0</th>\n",
       "      <td>1</td>\n",
       "      <td>2</td>\n",
       "      <td>3</td>\n",
       "    </tr>\n",
       "    <tr>\n",
       "      <th>1</th>\n",
       "      <td>4</td>\n",
       "      <td>5</td>\n",
       "      <td>6</td>\n",
       "    </tr>\n",
       "    <tr>\n",
       "      <th>2</th>\n",
       "      <td>7</td>\n",
       "      <td>8</td>\n",
       "      <td>9</td>\n",
       "    </tr>\n",
       "  </tbody>\n",
       "</table>\n",
       "</div>"
      ],
      "text/plain": [
       "   a  b  c\n",
       "0  1  2  3\n",
       "1  4  5  6\n",
       "2  7  8  9"
      ]
     },
     "execution_count": 38,
     "metadata": {},
     "output_type": "execute_result"
    }
   ],
   "source": [
    "data = np.array([(1,2,3),(4,5,6),(7,8,9)])\n",
    "df3 = pd.DataFrame(data, columns=['a','b','c'])\n",
    "df3"
   ]
  },
  {
   "cell_type": "code",
   "execution_count": 6,
   "id": "22e3a1e5",
   "metadata": {},
   "outputs": [
    {
     "name": "stdout",
     "output_type": "stream",
     "text": [
      "3\n",
      "False\n",
      "True\n",
      "A\n"
     ]
    }
   ],
   "source": [
    "# 내장함수\n",
    "print(abs(-3))\n",
    "print(all([1,2,3,0])) # x가 모두 참이면 True, 거짓이 하나라도 있으면 False\n",
    "print(any([1,2,3,0])) # x가 하나라도 참이면 True, 모두 거짓이면 False\n",
    "print(chr(65)) # 아스키코드"
   ]
  },
  {
   "cell_type": "code",
   "execution_count": 7,
   "id": "4acc5be1",
   "metadata": {},
   "outputs": [
    {
     "name": "stdout",
     "output_type": "stream",
     "text": [
      "3.0\n",
      "3\n",
      "10\n",
      "1\n",
      "100\n",
      "3\n"
     ]
    }
   ],
   "source": [
    "print(float(3))\n",
    "print(int(3.9))\n",
    "print(max(1,10))\n",
    "print(min(1,10))\n",
    "print(pow(10,2)) # 거듭제곱\n",
    "print(round(2.675)) # 반올림"
   ]
  },
  {
   "cell_type": "code",
   "execution_count": 8,
   "id": "e7c7763e",
   "metadata": {},
   "outputs": [
    {
     "data": {
      "text/plain": [
       "6"
      ]
     },
     "execution_count": 8,
     "metadata": {},
     "output_type": "execute_result"
    }
   ],
   "source": [
    "li = [1,2,3]\n",
    "sum(li)"
   ]
  },
  {
   "cell_type": "code",
   "execution_count": 42,
   "id": "1d053e96",
   "metadata": {},
   "outputs": [
    {
     "name": "stdout",
     "output_type": "stream",
     "text": [
      "5\n"
     ]
    }
   ],
   "source": [
    "my_list = [1,2,3,4,5]\n",
    "print(len(my_list))"
   ]
  },
  {
   "cell_type": "code",
   "execution_count": 12,
   "id": "21d4d074",
   "metadata": {},
   "outputs": [
    {
     "name": "stdout",
     "output_type": "stream",
     "text": [
      "I am 30 years old\n"
     ]
    }
   ],
   "source": [
    "age = 30\n",
    "print(\"I am \" + str(age) + \" years old\")"
   ]
  },
  {
   "cell_type": "code",
   "execution_count": 13,
   "id": "1aa16a80",
   "metadata": {},
   "outputs": [
    {
     "name": "stdout",
     "output_type": "stream",
     "text": [
      "[1, 2, 3]\n"
     ]
    }
   ],
   "source": [
    "my_tuple = (1,2,3)\n",
    "print(list(my_tuple))"
   ]
  },
  {
   "cell_type": "code",
   "execution_count": 15,
   "id": "f3686695",
   "metadata": {},
   "outputs": [
    {
     "name": "stdout",
     "output_type": "stream",
     "text": [
      "[1, 2, 3, 4]\n"
     ]
    },
    {
     "data": {
      "text/plain": [
       "[3, 1, 4, 2]"
      ]
     },
     "execution_count": 15,
     "metadata": {},
     "output_type": "execute_result"
    }
   ],
   "source": [
    "my_list = [3,1,4,2]\n",
    "print(sorted(my_list))\n",
    "my_list"
   ]
  },
  {
   "cell_type": "code",
   "execution_count": 16,
   "id": "d668ec34",
   "metadata": {},
   "outputs": [
    {
     "name": "stdout",
     "output_type": "stream",
     "text": [
      "<class 'str'>\n"
     ]
    }
   ],
   "source": [
    "my_string = \"Python\"\n",
    "print(type(my_string))"
   ]
  },
  {
   "cell_type": "code",
   "execution_count": 17,
   "id": "8d258d67",
   "metadata": {
    "scrolled": true
   },
   "outputs": [
    {
     "name": "stdout",
     "output_type": "stream",
     "text": [
      "1 ele1\n",
      "2 ele2\n",
      "3 ele3\n"
     ]
    }
   ],
   "source": [
    "for idx, element in enumerate(['ele1','ele2','ele3']):\n",
    "    print(idx+1,element)"
   ]
  },
  {
   "cell_type": "code",
   "execution_count": 44,
   "id": "347787b5",
   "metadata": {
    "scrolled": true
   },
   "outputs": [
    {
     "name": "stdout",
     "output_type": "stream",
     "text": [
      "0 t1\n",
      "2 t2\n"
     ]
    }
   ],
   "source": [
    "for b, am in enumerate(['t1','t2']):\n",
    "    print(b*2,am)"
   ]
  },
  {
   "cell_type": "code",
   "execution_count": 68,
   "id": "41115ecd",
   "metadata": {},
   "outputs": [
    {
     "name": "stdout",
     "output_type": "stream",
     "text": [
      "1 양치\n",
      "2 샴푸\n",
      "3 마지막 세수\n"
     ]
    }
   ],
   "source": [
    "for i, routine in enumerate(['양치','샴푸','마지막 세수']):\n",
    "    print(i+1,routine)"
   ]
  },
  {
   "cell_type": "code",
   "execution_count": 27,
   "id": "ed4b443f",
   "metadata": {
    "scrolled": true
   },
   "outputs": [
    {
     "name": "stdout",
     "output_type": "stream",
     "text": [
      "range(0, 10)\n"
     ]
    },
    {
     "data": {
      "text/plain": [
       "[0, 1, 2, 3, 4, 5, 6, 7, 8, 9]"
      ]
     },
     "execution_count": 27,
     "metadata": {},
     "output_type": "execute_result"
    }
   ],
   "source": [
    "print(range(10))\n",
    "list(range(10))"
   ]
  },
  {
   "cell_type": "code",
   "execution_count": 22,
   "id": "9634a09b",
   "metadata": {},
   "outputs": [
    {
     "name": "stdout",
     "output_type": "stream",
     "text": [
      "(3, 1)\n"
     ]
    }
   ],
   "source": [
    "# 목과 나머지\n",
    "print(divmod(10,3))"
   ]
  },
  {
   "cell_type": "code",
   "execution_count": 20,
   "id": "5489dda8",
   "metadata": {},
   "outputs": [
    {
     "data": {
      "text/plain": [
       "12"
      ]
     },
     "execution_count": 20,
     "metadata": {},
     "output_type": "execute_result"
    }
   ],
   "source": [
    "sum = lambda a,b:a*b\n",
    "sum(3,4)"
   ]
  },
  {
   "cell_type": "code",
   "execution_count": 2,
   "id": "039cf206",
   "metadata": {},
   "outputs": [
    {
     "data": {
      "text/plain": [
       "10"
      ]
     },
     "execution_count": 2,
     "metadata": {},
     "output_type": "execute_result"
    }
   ],
   "source": []
  },
  {
   "cell_type": "markdown",
   "id": "2584db95",
   "metadata": {},
   "source": [
    "#### 과제6_1101 : 텍슽스트 파일(mydata.txt)을 읽고 파일의 내용에서 나타나는 문자들에 대해 자주 나타나는 문자들을 아래와 같이 순서대로 출력하세요.\n",
    "[] -> [177]회 나타남\n",
    "[e] -> [97]회 나타남\n",
    "[t] -> [85]회 나타남"
   ]
  },
  {
   "cell_type": "code",
   "execution_count": 28,
   "id": "d775433d",
   "metadata": {},
   "outputs": [],
   "source": [
    "with open('mydata.txt','w') as f:\n",
    "    f.write(\n",
    "'''\n",
    "a lot of things occur each day\n",
    "we've got to live with on our way\n",
    "there's so much misery on the screen\n",
    "with commercials in between\n",
    "\n",
    "and the russians won't be so late\n",
    "uncle sam don't want to wait\n",
    "no matter if you're black or white\n",
    "you never ever had a right\n",
    "\n",
    "and look up to the eternal skies\n",
    "see warfare even there\n",
    "what once has been a paradise\n",
    "now destruction and despair\n",
    "\n",
    "in other worlds the children die\n",
    "lacking food ill from a fly\n",
    "oppressed by troops to tame their land\n",
    "it's all the same again\n",
    "\n",
    "if any man is free on earth\n",
    "then tormentors steal his birth\n",
    "they slam gun butts in his face\n",
    "and leave his woman choked in mace\n",
    "\n",
    "so stand up for our human rights\n",
    "push back this pest of hate\n",
    "raise you voice pass on the light\n",
    "unite! it's not too late\n",
    "\n",
    "how many tears flow away\n",
    "to become a sea of fears\n",
    "how many hearts are torn apart\n",
    "till another torment starts\n",
    "\n",
    "but before the world\n",
    "turns into a sun\n",
    "all cruelty and violence\n",
    "on earth will be dead and gone\n",
    "\n",
    "so stand up for our human rights\n",
    "push back this pest of hate\n",
    "raise you voice pass on the light\n",
    "unite! it's not too late\n",
    "''')"
   ]
  },
  {
   "cell_type": "code",
   "execution_count": 11,
   "id": "7241af30",
   "metadata": {},
   "outputs": [
    {
     "name": "stdout",
     "output_type": "stream",
     "text": [
      "==================================================\n",
      "가장 많이 나온 단어 5개를 뽑아 봤습니다.\n",
      "[ ] -> [177]회 나타남\n",
      "[e] -> [97]회 나타남\n",
      "[t] -> [85]회 나타남\n",
      "[a] -> [78]회 나타남\n",
      "[o] -> [73]회 나타남\n",
      "[s] -> [60]회 나타남\n",
      "[n] -> [60]회 나타남\n",
      "[r] -> [54]회 나타남\n",
      "[i] -> [50]회 나타남\n",
      "[h] -> [48]회 나타남\n",
      "[\n",
      "] -> [45]회 나타남\n",
      "[l] -> [34]회 나타남\n",
      "[u] -> [27]회 나타남\n",
      "[d] -> [24]회 나타남\n",
      "[c] -> [23]회 나타남\n",
      "[w] -> [20]회 나타남\n",
      "[m] -> [20]회 나타남\n",
      "[f] -> [17]회 나타남\n",
      "[y] -> [15]회 나타남\n",
      "[p] -> [15]회 나타남\n"
     ]
    }
   ],
   "source": [
    "!echo. > mydata.txt\n",
    "with open('mydata.txt','w') as f:\n",
    "    f.write(\n",
    "'''\n",
    "a lot of things occur each day\n",
    "we've got to live with on our way\n",
    "there's so much misery on the screen\n",
    "with commercials in between\n",
    "\n",
    "and the russians won't be so late\n",
    "uncle sam don't want to wait\n",
    "no matter if you're black or white\n",
    "you never ever had a right\n",
    "\n",
    "and look up to the eternal skies\n",
    "see warfare even there\n",
    "what once has been a paradise\n",
    "now destruction and despair\n",
    "\n",
    "in other worlds the children die\n",
    "lacking food ill from a fly\n",
    "oppressed by troops to tame their land\n",
    "it's all the same again\n",
    "\n",
    "if any man is free on earth\n",
    "then tormentors steal his birth\n",
    "they slam gun butts in his face\n",
    "and leave his woman choked in mace\n",
    "\n",
    "so stand up for our human rights\n",
    "push back this pest of hate\n",
    "raise you voice pass on the light\n",
    "unite! it's not too late\n",
    "\n",
    "how many tears flow away\n",
    "to become a sea of fears\n",
    "how many hearts are torn apart\n",
    "till another torment starts\n",
    "\n",
    "but before the world\n",
    "turns into a sun\n",
    "all cruelty and violence\n",
    "on earth will be dead and gone\n",
    "\n",
    "so stand up for our human rights\n",
    "push back this pest of hate\n",
    "raise you voice pass on the light\n",
    "unite! it's not too late\n",
    "''')\n",
    "with open('mydata.txt', 'r') as f:\n",
    "    data = f.read()\n",
    "#     print(data)\n",
    "words_list = data # 데이터 받음\n",
    "# words_list = list(words_list.replace(',', '').replace('.', '').replace('\\n', '').replace(\"'\", \"\").replace('!','').replace(' ','')) # 잡다한거 지우고 리스트화\n",
    "words_set = set(words_list) # 리스트를 세트화한것을 변수에 저장\n",
    "words_listed_set = list(words_set) # 세트화한 변수를 리스트화\n",
    "word_frequency = {word : 0 for word in words_listed_set} # 세트화한 변수를 리스트화한 리스트를 딕셔너리화\n",
    "for word in words_list: # 글자가 있는 리스트에서 글자하나씩 떼고\n",
    "    if word in word_frequency: # 딕셔너리안에 있는 글자들도 하나씩 떼서\n",
    "        word_frequency[word] += 1 # 딕셔너리[글자] = 갯수 - 돌린다.\n",
    "word_frequency = sorted(word_frequency.items(), key= lambda x: x[1], reverse=True) # 많은 순서대로 나열했습니다. 순서를 가장 많은것부터 오게 첫번째부터\n",
    "print('=' * 50)\n",
    "print('가장 많이 나온 단어 5개를 뽑아 봤습니다.')\n",
    "for i in range(20):\n",
    "    print(f'[{word_frequency[i][0]}] -> [{word_frequency[i][1]}]회 나타남')"
   ]
  },
  {
   "cell_type": "code",
   "execution_count": 12,
   "id": "44c1d112",
   "metadata": {},
   "outputs": [
    {
     "name": "stdout",
     "output_type": "stream",
     "text": [
      "[t ] -> [ 85]회 나타남\n",
      "[l ] -> [ 34]회 나타남\n",
      "[a ] -> [ 78]회 나타남\n",
      "[w ] -> [ 20]회 나타남\n",
      "[h ] -> [ 48]회 나타남\n",
      "[u ] -> [ 27]회 나타남\n",
      "[o ] -> [ 73]회 나타남\n",
      "[r ] -> [ 54]회 나타남\n",
      "[' ] -> [  8]회 나타남\n",
      "[g ] -> [ 11]회 나타남\n",
      "[i ] -> [ 50]회 나타남\n",
      "[c ] -> [ 23]회 나타남\n",
      "[b ] -> [ 13]회 나타남\n",
      "[y ] -> [ 15]회 나타남\n",
      "[! ] -> [  2]회 나타남\n",
      "[s ] -> [ 60]회 나타남\n",
      "[m ] -> [ 20]회 나타남\n",
      "[  ] -> [177]회 나타남 (해당란은 공백값의 사용횟수를 표시)\n",
      "[n ] -> [ 60]회 나타남\n",
      "[v ] -> [  9]회 나타남\n",
      "[k ] -> [  7]회 나타남\n",
      "[d ] -> [ 24]회 나타남\n",
      "[p ] -> [ 15]회 나타남\n",
      "[e ] -> [ 97]회 나타남\n",
      "[\\n] -> [ 45]회 나타남 (해당란은 줄바꿈의 사용횟수를 표시)\n",
      "[f ] -> [ 17]회 나타남\n"
     ]
    }
   ],
   "source": [
    "read_all = ''\n",
    "with open('mydata.txt','r') as f:\n",
    "    read_all = f.read()\n",
    "    \n",
    "str_set = set(read_all)\n",
    "str_dict = {}\n",
    "\n",
    "for i in str_set:\n",
    "    str_dict[i] = read_all.count(i)\n",
    "\n",
    "for k, v in str_dict.items():\n",
    "    if k == '\\n':\n",
    "        k = '\\\\n'\n",
    "        \n",
    "    if k == ' ':\n",
    "        print(f'[{k:2}] -> [{v:3}]회 나타남 (해당란은 공백값의 사용횟수를 표시)')\n",
    "    elif k == '\\\\n':\n",
    "        print(f'[{k:2}] -> [{v:3}]회 나타남 (해당란은 줄바꿈의 사용횟수를 표시)')\n",
    "    else:\n",
    "        print(f'[{k:2}] -> [{v:3}]회 나타남')"
   ]
  },
  {
   "cell_type": "code",
   "execution_count": 13,
   "id": "44ec92e5",
   "metadata": {
    "scrolled": true
   },
   "outputs": [
    {
     "data": {
      "text/plain": [
       "7"
      ]
     },
     "execution_count": 13,
     "metadata": {},
     "output_type": "execute_result"
    }
   ],
   "source": [
    "sum = lambda a,b : a+b\n",
    "sum(3,4)"
   ]
  },
  {
   "cell_type": "code",
   "execution_count": 17,
   "id": "d05acf67",
   "metadata": {},
   "outputs": [
    {
     "name": "stdout",
     "output_type": "stream",
     "text": [
      "7\n",
      "None\n",
      "None\n"
     ]
    }
   ],
   "source": [
    "def sum(a,b):\n",
    "    return print(a+b)\n",
    "\n",
    "print(print(sum(3,4)))"
   ]
  },
  {
   "cell_type": "code",
   "execution_count": 23,
   "id": "d05999dc",
   "metadata": {},
   "outputs": [
    {
     "name": "stdout",
     "output_type": "stream",
     "text": [
      "7\n",
      "12\n"
     ]
    }
   ],
   "source": [
    "myList = [lambda a,b:a+b, lambda a,b:a*b]\n",
    "print(myList[0](3,4))\n",
    "print(myList[1](3,4))"
   ]
  },
  {
   "cell_type": "code",
   "execution_count": null,
   "id": "5b696e57",
   "metadata": {},
   "outputs": [],
   "source": [
    "# Q1_1102. lambda 를 리스트 형태로 작성하여 4칙 연산을 해보세요."
   ]
  },
  {
   "cell_type": "code",
   "execution_count": 25,
   "id": "811885de",
   "metadata": {
    "scrolled": true
   },
   "outputs": [
    {
     "name": "stdout",
     "output_type": "stream",
     "text": [
      "13\n",
      "9\n",
      "22\n",
      "5.5\n"
     ]
    }
   ],
   "source": [
    "list1 = [lambda a,b:a+b, lambda a,b:a-b, lambda a,b:a*b, lambda a,b:a/b]\n",
    "for i in range(0,4):\n",
    "    print(list1[i](11,2))"
   ]
  },
  {
   "cell_type": "markdown",
   "id": "3cac95d6",
   "metadata": {},
   "source": [
    "#### 과제1_1102 : 실행 가능한 숫자를 문자열('5+5') 입력으로 받아 문자열을 실행한 결과값을 출력하세요."
   ]
  },
  {
   "cell_type": "code",
   "execution_count": 7,
   "id": "bb7ef212",
   "metadata": {
    "scrolled": false
   },
   "outputs": [
    {
     "name": "stdout",
     "output_type": "stream",
     "text": [
      "연산을 입력하세요.: 5+5\n",
      "10\n"
     ]
    }
   ],
   "source": [
    "# 과제1_1102 전유빈님 솔루션 # eval 이란 함수를 찾아서 쓰셨음\n",
    "print(eval(input('연산을 입력하세요.: ')))"
   ]
  },
  {
   "cell_type": "code",
   "execution_count": 71,
   "id": "e8e8821f",
   "metadata": {},
   "outputs": [],
   "source": [
    "#서영우님의 강의..... 너무나 respect!!!!!!!"
   ]
  },
  {
   "cell_type": "code",
   "execution_count": 8,
   "id": "ad207241",
   "metadata": {},
   "outputs": [
    {
     "name": "stdout",
     "output_type": "stream",
     "text": [
      "5+5 : 5+5\n",
      "10\n"
     ]
    }
   ],
   "source": [
    "num = input('5+5 : ')\n",
    "maths = ['+','-','/','*']\n",
    "math = {'+':lambda a,b:a+b,'-':lambda a,b:a-b,'/':lambda a,b:a/b,'*':lambda a,b:a*b}\n",
    "\n",
    "num_list = list(num)\n",
    "for i in num_list:\n",
    "    if i in maths:\n",
    "        num = num.split(i)\n",
    "        print(math[i](int(num[0]),int(num[1])))"
   ]
  },
  {
   "cell_type": "code",
   "execution_count": 26,
   "id": "86c21c52",
   "metadata": {
    "scrolled": false
   },
   "outputs": [
    {
     "name": "stdout",
     "output_type": "stream",
     "text": [
      "6\n",
      "3\n",
      "3\n"
     ]
    }
   ],
   "source": [
    "print(len('python'))\n",
    "print(len([1,2,3]))\n",
    "print(len([1,2,'a']))"
   ]
  },
  {
   "cell_type": "code",
   "execution_count": 30,
   "id": "887fadf4",
   "metadata": {},
   "outputs": [
    {
     "name": "stdout",
     "output_type": "stream",
     "text": [
      "1234\n",
      "5\n"
     ]
    }
   ],
   "source": [
    "li = [1,2,3,4,5]\n",
    "for i in range(1,len(li)): # len(li)이렇게 하면 끝인 5\n",
    "    print(i,end='')\n",
    "print()\n",
    "print(len(li))"
   ]
  },
  {
   "cell_type": "code",
   "execution_count": 32,
   "id": "c395aa0d",
   "metadata": {},
   "outputs": [
    {
     "name": "stdout",
     "output_type": "stream",
     "text": [
      "1234\n",
      "5\n"
     ]
    }
   ],
   "source": [
    "li = [1,2,3,10,5] # 인덱스 i 를뽑는거라서 1234 출력\n",
    "for i in range(1,len(li)): # len(li)이렇게 하면 마지막인덱스값이 변환이 안됨\n",
    "    print(i,end='')\n",
    "print()\n",
    "print(len(li))"
   ]
  },
  {
   "cell_type": "code",
   "execution_count": 70,
   "id": "d94fa7d7",
   "metadata": {},
   "outputs": [
    {
     "name": "stdout",
     "output_type": "stream",
     "text": [
      "[0, 1, 2, 3, 4]\n",
      "[1, 2, 3, 4, 5]\n",
      "[1, 3, 5, 7, 9]\n",
      "[0, -1, -2, -3, -4, -5, -6, -7, -8, -9]\n",
      "[0, -1, -2, -3, -4, -5, -6, -7, -8, -9]\n"
     ]
    }
   ],
   "source": [
    "print(list(range(5)))\n",
    "print(list(range(1,6)))\n",
    "print(list(range(1,10,2))) # step을 줄수 있음 ,,2 는  하나씩 건너뛰어서..\n",
    "print(list(range(0,-10,-1))) # \n",
    "print(list(range(0,-10,-1)))\n",
    "# list(range(0,-10))"
   ]
  },
  {
   "cell_type": "code",
   "execution_count": 46,
   "id": "f1525a9b",
   "metadata": {
    "scrolled": true
   },
   "outputs": [
    {
     "name": "stdout",
     "output_type": "stream",
     "text": [
      "0 james\n",
      "1 tom\n",
      "2 susan\n"
     ]
    }
   ],
   "source": [
    "# 순서가 있는 자료형을 입력으로 받아 인덱스 값을 포함한 enumerate 객체를 리턴\n",
    "for i, name in enumerate(['james','tom','susan']):\n",
    "    print(i,name)\n",
    "    "
   ]
  },
  {
   "cell_type": "markdown",
   "id": "f314bc38",
   "metadata": {},
   "source": [
    "#### 과제2_1102 : enumerate와 f-string을 사용해서 특정 리스트에서 원하는 형태로 출력을 하세요.(인덱스와 내용을 믹스하여)"
   ]
  },
  {
   "cell_type": "code",
   "execution_count": null,
   "id": "35c45d77",
   "metadata": {},
   "outputs": [],
   "source": [
    "# 과제2_1102 솔루션"
   ]
  },
  {
   "cell_type": "code",
   "execution_count": 10,
   "id": "e729961e",
   "metadata": {},
   "outputs": [
    {
     "name": "stdout",
     "output_type": "stream",
     "text": [
      "인사평가 1번째 해당자는 김부장입니다. 회의실A로 오시기 바랍니다.\n",
      "인사평가 2번째 해당자는 이차장입니다. 회의실A로 오시기 바랍니다.\n",
      "인사평가 3번째 해당자는 김과장입니다. 회의실A로 오시기 바랍니다.\n",
      "인사평가 4번째 해당자는 이대리입니다. 회의실A로 오시기 바랍니다.\n",
      "인사평가 5번째 해당자는 오사원입니다. 회의실A로 오시기 바랍니다.\n",
      "인사평가 6번째 해당자는 김인턴입니다. 회의실A로 오시기 바랍니다.\n"
     ]
    }
   ],
   "source": [
    "# 과제2_1102 심주승님 솔루션 # 아주 좋은 예! # 우리가 배운걸 어떻게 써먹느냐..\n",
    "list1 = ['김부장', '이차장', '김과장', '이대리', '오사원', '김인턴']\n",
    "\n",
    "for index, name in enumerate(list1):\n",
    "    print(f'인사평가 {index+1}번째 해당자는 {name}입니다. 회의실A로 오시기 바랍니다.')"
   ]
  },
  {
   "cell_type": "code",
   "execution_count": 51,
   "id": "da2a3320",
   "metadata": {},
   "outputs": [],
   "source": [
    "# 외장함수 : 전 세계 파이썬 사용자들이 만든 유용한 프로그램을 모아 놓은 파이썬 라이브러리. 파이썬을 설치할 때 자동으로 설치\n",
    "# pickle 은 객체의 형태를 유지하면서 파일에 저장하고 불러올 수 있게 하는 모듈\n",
    "# b 붙이면 바이너리로...\n",
    "import pickle\n",
    "f = open('test3.txt','wb')\n",
    "data = {1:'python',2:'you need'}\n",
    "pickle.dump(data,f)\n",
    "f.close()"
   ]
  },
  {
   "cell_type": "code",
   "execution_count": 55,
   "id": "20f872d8",
   "metadata": {},
   "outputs": [],
   "source": [
    "# 외장함수 : 전 세계 파이썬 사용자들이 만든 유용한 프로그램을 모아 놓은 파이썬 라이브러리. 파이썬을 설치할 때 자동으로 설치\n",
    "# pickle 은 객체의 형태를 유지하면서 파일에 저장하고 불러올 수 있게 하는 모듈\n",
    "import pickle\n",
    "f = open('test3.jpg','wb') # b 붙이면 바이너리로 ..\n",
    "data = {1:'python',2:'you need'}\n",
    "pickle.dump(data,f)\n",
    "f.close()"
   ]
  },
  {
   "cell_type": "code",
   "execution_count": 54,
   "id": "81ead9a0",
   "metadata": {},
   "outputs": [
    {
     "name": "stdout",
     "output_type": "stream",
     "text": [
      "{1: 'python', 2: 'you need'}\n"
     ]
    }
   ],
   "source": [
    "import pickle # jpg 해서 그림판으로 열려 했는데 불가능...\n",
    "f = open('test3.jpg','rb')\n",
    "data = pickle.load(f)\n",
    "print(data)\n",
    "f.close()"
   ]
  },
  {
   "cell_type": "code",
   "execution_count": 56,
   "id": "30845909",
   "metadata": {},
   "outputs": [
    {
     "data": {
      "text/plain": [
       "'C:\\\\anaconda3\\\\envs\\\\kita;C:\\\\anaconda3\\\\envs\\\\kita\\\\Library\\\\mingw-w64\\\\bin;C:\\\\anaconda3\\\\envs\\\\kita\\\\Library\\\\usr\\\\bin;C:\\\\anaconda3\\\\envs\\\\kita\\\\Library\\\\bin;C:\\\\anaconda3\\\\envs\\\\kita\\\\Scripts;C:\\\\Program Files\\\\Java\\\\jdk-1.8\\\\bin;C:\\\\Windows\\\\system32;C:\\\\Windows;C:\\\\Windows\\\\System32\\\\Wbem;C:\\\\Windows\\\\System32\\\\WindowsPowerShell\\\\v1.0\\\\;C:\\\\Windows\\\\System32\\\\OpenSSH\\\\;C:\\\\anaconda3;C:\\\\anaconda3\\\\Library\\\\mingw-w64\\\\bin;C:\\\\anaconda3\\\\Library\\\\bin;C:\\\\anaconda3\\\\Scripts;C:\\\\Program Files\\\\Bandizip\\\\;C:\\\\Users\\\\Administrator\\\\AppData\\\\Local\\\\Microsoft\\\\WindowsApps;'"
      ]
     },
     "execution_count": 56,
     "metadata": {},
     "output_type": "execute_result"
    }
   ],
   "source": [
    "import os\n",
    "os.environ['PATH']"
   ]
  },
  {
   "cell_type": "code",
   "execution_count": 57,
   "id": "57aa3861",
   "metadata": {},
   "outputs": [
    {
     "data": {
      "text/plain": [
       "'D:\\\\hjh_directory\\\\workspace\\\\jupyter\\\\python programming'"
      ]
     },
     "execution_count": 57,
     "metadata": {},
     "output_type": "execute_result"
    }
   ],
   "source": [
    "%pwd"
   ]
  },
  {
   "cell_type": "code",
   "execution_count": 58,
   "id": "d028b3c8",
   "metadata": {},
   "outputs": [
    {
     "name": "stdout",
     "output_type": "stream",
     "text": [
      " D 드라이브의 볼륨: 새 볼륨\n",
      " 볼륨 일련 번호: 02B1-19A2\n",
      "\n",
      " D:\\hjh_directory\\workspace\\jupyter\\python programming 디렉터리\n",
      "\n",
      "2023-11-02  오전 10:58    <DIR>          .\n",
      "2023-11-02  오전 10:58    <DIR>          ..\n",
      "2023-11-02  오전 09:34    <DIR>          .ipynb_checkpoints\n",
      "2023-11-01  오후 03:56    <DIR>          __pycache__\n",
      "2023-11-01  오후 02:23    <DIR>          ex\n",
      "2023-11-01  오후 02:45                18 foo.txt\n",
      "2023-11-01  오전 08:31                31 hm.txt\n",
      "2023-11-02  오전 10:16             1,117 mydata.txt\n",
      "2023-11-01  오전 10:29                86 mymodule.py\n",
      "2023-11-01  오전 10:29            15,505 python_2_제어문_과제1030_한정현.ipynb\n",
      "2023-11-01  오전 10:29            88,257 python_2_제어문_메모리부족FIX.ipynb\n",
      "2023-11-02  오전 10:58           102,756 python_3_함수.ipynb\n",
      "2023-11-01  오전 10:29            14,284 python_3_함수_과제1031_한정현.ipynb\n",
      "2023-11-02  오전 10:08             8,273 python_3_함수_과제1101_한정현.ipynb\n",
      "2023-11-01  오전 10:29            21,009 python_자료형_1_과제1027_한정현.ipynb\n",
      "2023-11-01  오전 10:29             1,786 python_자료형_1_과제6_practice_1027_한정현.ipynb\n",
      "2023-11-01  오전 10:29            98,091 python_자료형_1_한정현.ipynb\n",
      "2023-11-01  오후 02:48               441 test1.txt\n",
      "2023-11-01  오후 02:48               342 test2.txt\n",
      "2023-11-02  오전 10:58                40 test3.jpg\n",
      "2023-11-02  오전 10:53                40 test3.txt\n",
      "2023-11-02  오전 10:08                21 wow.txt\n",
      "2023-11-01  오전 10:29           329,254 연습장.ipynb\n",
      "              18개 파일             681,351 바이트\n",
      "               5개 디렉터리  473,596,096,512 바이트 남음\n"
     ]
    }
   ],
   "source": [
    "ls"
   ]
  },
  {
   "cell_type": "code",
   "execution_count": 61,
   "id": "3ad06b78",
   "metadata": {},
   "outputs": [],
   "source": [
    "# 폴더변경\n",
    "os.chdir(\"D:\\hjh_directory\\workspace\\jupyter\\python programming\\ex\")"
   ]
  },
  {
   "cell_type": "code",
   "execution_count": 62,
   "id": "f26ddf65",
   "metadata": {},
   "outputs": [
    {
     "name": "stdout",
     "output_type": "stream",
     "text": [
      " D 드라이브의 볼륨: 새 볼륨\n",
      " 볼륨 일련 번호: 02B1-19A2\n",
      "\n",
      " D:\\hjh_directory\\workspace\\jupyter\\python programming\\ex 디렉터리\n",
      "\n",
      "2023-11-01  오후 02:23    <DIR>          .\n",
      "2023-11-01  오후 02:23    <DIR>          ..\n",
      "               0개 파일                   0 바이트\n",
      "               2개 디렉터리  473,596,092,416 바이트 남음\n"
     ]
    }
   ],
   "source": [
    "ls"
   ]
  },
  {
   "cell_type": "code",
   "execution_count": 63,
   "id": "d62c65aa",
   "metadata": {},
   "outputs": [],
   "source": [
    "os.chdir(\"D:\\hjh_directory\\workspace\\jupyter\\python programming\")"
   ]
  },
  {
   "cell_type": "code",
   "execution_count": 65,
   "id": "0dd4a7e0",
   "metadata": {},
   "outputs": [
    {
     "data": {
      "text/plain": [
       "'D:\\\\hjh_directory\\\\workspace\\\\jupyter\\\\python programming'"
      ]
     },
     "execution_count": 65,
     "metadata": {},
     "output_type": "execute_result"
    }
   ],
   "source": [
    "os.getcwd() # 현재 작업 경로 가져오기"
   ]
  },
  {
   "cell_type": "code",
   "execution_count": 70,
   "id": "37ef424c",
   "metadata": {},
   "outputs": [
    {
     "name": "stdout",
     "output_type": "stream",
     "text": [
      " D 드라이브의 볼륨: 새 볼륨\n",
      " 볼륨 일련 번호: 02B1-19A2\n",
      "\n",
      " D:\\hjh_directory\\workspace\\jupyter\\python programming 디렉터리\n",
      "\n",
      "2023-11-02  오전 11:08    <DIR>          .\n",
      "2023-11-02  오전 11:08    <DIR>          ..\n",
      "2023-11-02  오전 09:34    <DIR>          .ipynb_checkpoints\n",
      "2023-11-01  오후 02:23    <DIR>          ex\n",
      "2023-11-01  오후 02:45                18 foo.txt\n",
      "2023-11-01  오후 02:48               441 goooood_test1.txt\n",
      "2023-11-01  오전 08:31                31 hm.txt\n",
      "2023-11-02  오전 10:16             1,117 mydata.txt\n",
      "2023-11-01  오전 10:29                86 mymodule.py\n",
      "2023-11-01  오전 10:29            15,505 python_2_제어문_과제1030_한정현.ipynb\n",
      "2023-11-01  오전 10:29            88,257 python_2_제어문_메모리부족FIX.ipynb\n",
      "2023-11-02  오전 11:06           110,613 python_3_함수.ipynb\n",
      "2023-11-01  오전 10:29            14,284 python_3_함수_과제1031_한정현.ipynb\n",
      "2023-11-02  오전 10:08             8,273 python_3_함수_과제1101_한정현.ipynb\n",
      "2023-11-01  오전 10:29            21,009 python_자료형_1_과제1027_한정현.ipynb\n",
      "2023-11-01  오전 10:29             1,786 python_자료형_1_과제6_practice_1027_한정현.ipynb\n",
      "2023-11-01  오전 10:29            98,091 python_자료형_1_한정현.ipynb\n",
      "2023-11-01  오후 02:48               342 test2.txt\n",
      "2023-11-02  오전 10:58                40 test3.jpg\n",
      "2023-11-02  오전 10:53                40 test3.txt\n",
      "2023-11-02  오전 10:08                21 wow.txt\n",
      "2023-11-01  오후 03:56    <DIR>          __pycache__\n",
      "2023-11-01  오전 10:29           329,254 연습장.ipynb\n",
      "              18개 파일             689,208 바이트\n",
      "               5개 디렉터리  473,596,088,320 바이트 남음\n"
     ]
    }
   ],
   "source": [
    "!dir"
   ]
  },
  {
   "cell_type": "code",
   "execution_count": 71,
   "id": "ef87c8f7",
   "metadata": {},
   "outputs": [],
   "source": [
    "import os\n",
    "os.rename('goooood_test1.txt','test1.txt')"
   ]
  },
  {
   "cell_type": "code",
   "execution_count": 72,
   "id": "308cd44e",
   "metadata": {},
   "outputs": [
    {
     "data": {
      "text/plain": [
       "['D:\\\\hjh_directory\\\\workspace\\\\jupyter\\\\python programming\\\\foo.txt',\n",
       " 'D:\\\\hjh_directory\\\\workspace\\\\jupyter\\\\python programming\\\\hm.txt',\n",
       " 'D:\\\\hjh_directory\\\\workspace\\\\jupyter\\\\python programming\\\\mydata.txt',\n",
       " 'D:\\\\hjh_directory\\\\workspace\\\\jupyter\\\\python programming\\\\test1.txt',\n",
       " 'D:\\\\hjh_directory\\\\workspace\\\\jupyter\\\\python programming\\\\test2.txt',\n",
       " 'D:\\\\hjh_directory\\\\workspace\\\\jupyter\\\\python programming\\\\test3.txt',\n",
       " 'D:\\\\hjh_directory\\\\workspace\\\\jupyter\\\\python programming\\\\wow.txt']"
      ]
     },
     "execution_count": 72,
     "metadata": {},
     "output_type": "execute_result"
    }
   ],
   "source": [
    "# glob() 함수는 인자로 받은패턴과 이름이 일치하는 모든 파일과 디렉토리의 리스트를 반환\n",
    "import glob # glob는 끌어다가 써야함\n",
    "glob.glob('D:\\\\hjh_directory\\\\workspace\\\\jupyter\\\\python programming/*.txt') # .txt가 들어간것들은 다 나옴"
   ]
  },
  {
   "cell_type": "markdown",
   "id": "42873fc0",
   "metadata": {},
   "source": [
    "#### 과제3_1102 : 내장함수를 이용해서 list = [0,1,2,3,4,5,6]에서 2를 삭제 후 출력하세요.(3가지 방법)"
   ]
  },
  {
   "cell_type": "code",
   "execution_count": 81,
   "id": "55665995",
   "metadata": {},
   "outputs": [
    {
     "name": "stdout",
     "output_type": "stream",
     "text": [
      "[0, 1, 3, 4, 5, 6]\n",
      "[0, 1, 3, 4, 5, 6]\n",
      "[0, 1, 3, 4, 5, 6]\n"
     ]
    }
   ],
   "source": [
    "# 과제3_1102 솔루션\n",
    "# 첫번째 방법 # del 를 사용\n",
    "list = [0,1,2,3,4,5,6]\n",
    "del list[2] # 두번째의 인덱스를 삭제\n",
    "print(list)\n",
    "\n",
    "# 두번째 방법  # clear() 를 사용\n",
    "list = [0,1,2,3,4,5,6]\n",
    "list.clear()\n",
    "list.extend([0,1,3,4,5,6])\n",
    "print(list)\n",
    "\n",
    "# 세번째 방법 # remove() 를 사용\n",
    "list = [0,1,2,3,4,5,6]\n",
    "list.remove(2) # 요소 2를 삭제\n",
    "print(list)"
   ]
  },
  {
   "cell_type": "code",
   "execution_count": 1,
   "id": "d8642506",
   "metadata": {
    "scrolled": true
   },
   "outputs": [
    {
     "name": "stdout",
     "output_type": "stream",
     "text": [
      "[0, 1, 3, 4, 5, 6]\n",
      "[0, 1, 3, 4, 5, 6]\n",
      "[0, 1, 3, 4, 5, 6]\n"
     ]
    }
   ],
   "source": [
    "#1번째 방법\n",
    "list1 = [0,1,2,3,4,5,6]\n",
    "del list1[2]\n",
    "print(list1)\n",
    "\n",
    "#2번째 방법\n",
    "list1 = [0,1,2,3,4,5,6]\n",
    "list1.remove(2)\n",
    "print(list1)\n",
    "\n",
    "#3번째 방법\n",
    "list1 = [0,1,2,3,4,5,6]\n",
    "list1.pop(2)\n",
    "print(list1)"
   ]
  },
  {
   "cell_type": "markdown",
   "id": "ea353568",
   "metadata": {},
   "source": [
    "#### 과제4_1102 :  내장함수를 이용해서 list = [0,1,2,3,4,5,6]에서 모든 원소를 삭제 후 출력하세요."
   ]
  },
  {
   "cell_type": "code",
   "execution_count": 82,
   "id": "e83f956c",
   "metadata": {
    "scrolled": false
   },
   "outputs": [
    {
     "name": "stdout",
     "output_type": "stream",
     "text": [
      "[]\n"
     ]
    }
   ],
   "source": [
    "# 과제4_1102 솔루션\n",
    "list = [0,1,2,3,4,5,6]\n",
    "list.clear()\n",
    "print(list)"
   ]
  },
  {
   "cell_type": "code",
   "execution_count": null,
   "id": "77d3c88d",
   "metadata": {},
   "outputs": [],
   "source": [
    "my_list = [0, 1, 2, 3, 4, 5, 6]\n",
    "del my_list[:] # [:] 처음부터 끝까지\n",
    "print(my_list)"
   ]
  },
  {
   "cell_type": "markdown",
   "id": "9dfaed0f",
   "metadata": {},
   "source": [
    "#### 과제5_1102 :  람다함수와 적합한 내장함수를 사용하여 아래와 같이 출력하세요\n",
    "[1,2,3,4,5] -> [1,4,9,16,25]\n",
    "[1,2,3,4,5] -> [1,2]"
   ]
  },
  {
   "cell_type": "code",
   "execution_count": 17,
   "id": "7ea7e365",
   "metadata": {},
   "outputs": [
    {
     "name": "stdout",
     "output_type": "stream",
     "text": [
      "[1, 4, 9, 16, 25]\n",
      "[3, 4, 5]\n",
      "[1, 2]\n"
     ]
    }
   ],
   "source": [
    "# 과제5_1102 솔루션\n",
    "# Q1. [1,2,3,4,5] -> [1,4,9,16,25]\n",
    "yeah = [1,2,3,4,5]\n",
    "good = map(lambda a : a * a, yeah)\n",
    "print(list(good))\n",
    "\n",
    "# Q2. [1,2,3,4,5] -> [1,2]\n",
    "no = [1,2,3,4,5]\n",
    "print(no[2:])\n",
    "del(no[2:])\n",
    "print(no)"
   ]
  },
  {
   "cell_type": "code",
   "execution_count": 2,
   "id": "c7dd54e3",
   "metadata": {},
   "outputs": [
    {
     "name": "stdout",
     "output_type": "stream",
     "text": [
      "[1, 4, 9, 16, 25]\n"
     ]
    }
   ],
   "source": [
    "f = lambda x : x*x\n",
    "args = [1,2,3,4,5]\n",
    "ret = map(f,args)\n",
    "print(list(ret))"
   ]
  },
  {
   "cell_type": "code",
   "execution_count": 5,
   "id": "78d46352",
   "metadata": {},
   "outputs": [
    {
     "name": "stdout",
     "output_type": "stream",
     "text": [
      "[1, 4, 9, 16, 25]\n"
     ]
    }
   ],
   "source": [
    "f = lambda x : x**2\n",
    "args = [1,2,3,4,5]\n",
    "ret = map(f,args)\n",
    "aa = list(ret)\n",
    "print(aa)"
   ]
  },
  {
   "cell_type": "code",
   "execution_count": 15,
   "id": "3609684a",
   "metadata": {},
   "outputs": [
    {
     "name": "stdout",
     "output_type": "stream",
     "text": [
      "[1, 4, 9, 16, 25]\n"
     ]
    }
   ],
   "source": [
    "ok = [1,2,3,4,5]\n",
    "soso = [a**2 for a in ok] # **2 하면 제곱\n",
    "print(soso)"
   ]
  },
  {
   "cell_type": "markdown",
   "id": "e7ab720f",
   "metadata": {},
   "source": [
    "##### 과제6_1102  [1,-3,2,0,-5,6] 에서 양수만 필터링해서 출력하세요(내장함수, 사용자함수 각각 이용)"
   ]
  },
  {
   "cell_type": "code",
   "execution_count": null,
   "id": "e119dafc",
   "metadata": {},
   "outputs": [],
   "source": [
    "# 과제6_1102 전유빈님 솔루션\n"
   ]
  },
  {
   "cell_type": "code",
   "execution_count": null,
   "id": "dde32f4f",
   "metadata": {},
   "outputs": [],
   "source": [
    "sample6 = [1,-3,2,0,-5,6]\n",
    "# 내장 함수\n",
    "ans6_1 = list(filter(lambda x: x > 0, sample6))\n",
    "print(ans6_1)\n",
    "# 사용자 함수\n",
    "ans6_2 = [i for i in sample6 if i > 0] # for i in sample6 if i > 0 가 만족하면 앞에있는 i 에 뽑아줌 #간편한 for 문..\n",
    "# 조건에 만족하는 것을 리스트 안에 담고 프린트하면 됨\n",
    "print(ans6_2)"
   ]
  },
  {
   "cell_type": "code",
   "execution_count": 21,
   "id": "2e308695",
   "metadata": {},
   "outputs": [
    {
     "name": "stdout",
     "output_type": "stream",
     "text": [
      "[1, 2, 6]\n"
     ]
    }
   ],
   "source": [
    "sample6 = [1,-3,2,0,-5,6]\n",
    "ans6_2 = [i for i in sample6 if i > 0]\n",
    "print(ans6_2)    "
   ]
  },
  {
   "cell_type": "code",
   "execution_count": 7,
   "id": "fd216cd6",
   "metadata": {},
   "outputs": [
    {
     "ename": "IndentationError",
     "evalue": "expected an indented block after 'else' statement on line 5 (2692450390.py, line 7)",
     "output_type": "error",
     "traceback": [
      "\u001b[1;36m  Cell \u001b[1;32mIn[7], line 7\u001b[1;36m\u001b[0m\n\u001b[1;33m    print(list2)\u001b[0m\n\u001b[1;37m                ^\u001b[0m\n\u001b[1;31mIndentationError\u001b[0m\u001b[1;31m:\u001b[0m expected an indented block after 'else' statement on line 5\n"
     ]
    }
   ],
   "source": [
    "# 내장함수\n",
    "for i in list1:\n",
    "    if i > 0:\n",
    "        list2.append(i)\n",
    "    else:\n",
    "        \n",
    "print(list2)\n",
    "\n",
    "# 사용자 함수\n",
    "result = filter(lambda x : x > 0, list2) \n",
    "print(list(result))"
   ]
  },
  {
   "cell_type": "code",
   "execution_count": 20,
   "id": "99220949",
   "metadata": {},
   "outputs": [
    {
     "name": "stdout",
     "output_type": "stream",
     "text": [
      "[1, 2, 6]\n",
      "[1, 2]\n"
     ]
    }
   ],
   "source": [
    "# 사용자함수를 사용\n",
    "def even(arr):\n",
    "    result = []\n",
    "    for i in arr:\n",
    "        if i>0:\n",
    "            result.append(i)\n",
    "    return result\n",
    "print(even([1,-3,2,0,-5,6]))\n",
    "print(even([1,-3,2,0])) # 이런식으로 재활용 가능한것이 사용자함수의 장점이자 특징"
   ]
  },
  {
   "cell_type": "code",
   "execution_count": null,
   "id": "56758712",
   "metadata": {},
   "outputs": [],
   "source": [
    "# 과제7_1102 : 내장함수를 이용하여 동일한 개수로 이루어진 자료형을 화살표 좌측에서 우측으로 변환하세요\n",
    "[1,2,3],[4,5,6] -> [(1,4),(2,5),(3,6)]\n",
    "[1,2,3],[4,5,6] [7,8,9] -> [(1,4,7),(2,5,8),(3,6,9)]\n",
    "('abc','def') -> [('a','d'),('b','e'),('c','f')]"
   ]
  },
  {
   "cell_type": "code",
   "execution_count": 22,
   "id": "3c301cff",
   "metadata": {
    "scrolled": true
   },
   "outputs": [
    {
     "name": "stdout",
     "output_type": "stream",
     "text": [
      "[1, 2, 3],[4, 5, 6] → [(1, 4), (2, 5), (3, 6)]\n",
      "[1, 2, 3],[4, 5, 6],[7, 8, 9] → [(1, 4, 7), (2, 5, 8), (3, 6, 9)]\n",
      "('abc', 'def') → [('a', 'd'), ('b', 'e'), ('c', 'f')]\n"
     ]
    }
   ],
   "source": [
    "list1 = [1,2,3]\n",
    "list2 = [4,5,6]\n",
    "list3 = [7,8,9]\n",
    "list4 = []\n",
    "list5 = []\n",
    "list6 = []\n",
    "t1 = ('abc','def')\n",
    "\n",
    "# 1번\n",
    "for i in range(3):\n",
    "    new = list1[i], list2[i]\n",
    "    list4.insert(i, new)\n",
    "    i += 1\n",
    "\n",
    "print(f'{list1},{list2} → {list4}')\n",
    "\n",
    "# 2번\n",
    "for i in range(3):\n",
    "    new1 = list1[i], list2[i], list3[i]\n",
    "    list5.insert(i, new1)\n",
    "    i += 1\n",
    "\n",
    "print(f'{list1},{list2},{list3} → {list5}')\n",
    "\n",
    "# 3번\n",
    "trn1 = list(t1[0])\n",
    "trn2 = list(t1[1])\n",
    "\n",
    "for i in range(3):\n",
    "    new2 = trn1[i], trn2[i]\n",
    "    list6.insert(i, new2)\n",
    "    i += 1\n",
    "\n",
    "print(f'{t1} → {list6}')"
   ]
  },
  {
   "cell_type": "code",
   "execution_count": 24,
   "id": "478d50bd",
   "metadata": {},
   "outputs": [
    {
     "name": "stdout",
     "output_type": "stream",
     "text": [
      "[(1, 4), (2, 5), (3, 6)]\n",
      "[(1, 4, 7), (2, 5, 8), (3, 6, 9)]\n",
      "[('a', 'd'), ('b', 'e'), ('c', 'f')]\n"
     ]
    }
   ],
   "source": [
    "list5 = [1,2,3]\n",
    "list6 = [4,5,6]\n",
    "list7 = [7,8,9]\n",
    "tuple8 = ('abc','def')\n",
    "print([i for i in zip(list5, list6)])\n",
    "print([i for i in zip(list5, list6, list7)])\n",
    "print([i for i in zip(tuple8[0],tuple8[1])])"
   ]
  },
  {
   "cell_type": "code",
   "execution_count": null,
   "id": "536a939a",
   "metadata": {},
   "outputs": [],
   "source": [
    "# 과제8_1102 : 입력으로 들어오는 모든 수의 평균 값을 계산해 주는 함수를 작성한 후 1,2,3을 입력한 결과를 출력하세요."
   ]
  },
  {
   "cell_type": "code",
   "execution_count": 25,
   "id": "949b3aae",
   "metadata": {},
   "outputs": [
    {
     "name": "stdout",
     "output_type": "stream",
     "text": [
      "2.0\n"
     ]
    }
   ],
   "source": [
    "# 과제8_1102 주용규님 솔루션\n",
    "def cal_average(*args):\n",
    "    return sum(args) / len(args)\n",
    "\n",
    "print(cal_average(1,2,3))"
   ]
  },
  {
   "cell_type": "code",
   "execution_count": 34,
   "id": "0e3ef178",
   "metadata": {},
   "outputs": [
    {
     "name": "stdout",
     "output_type": "stream",
     "text": [
      "평균값을 구할 숫자를 모두 입력해주세요(콤마로 구분) : 1,2,3\n"
     ]
    }
   ],
   "source": [
    "# 과제8_1102 솔루션\n",
    "def cal_avg(*args):\n",
    "    print(f'합 : {eval(args)}')\n",
    "    print(f\"평균 : {eval(args)/len(mun.split('+')):0.2f}\")\n",
    "# cal_avg('1+2+3')\n",
    "mun = input(\"평균값을 구할 숫자를 모두 입력해주세요(콤마로 구분) : \")"
   ]
  },
  {
   "cell_type": "code",
   "execution_count": 36,
   "id": "2d012eaa",
   "metadata": {
    "collapsed": true
   },
   "outputs": [
    {
     "name": "stdout",
     "output_type": "stream",
     "text": [
      "평균값을 구할 숫자를 모두 입력해주세요(콤마로 구분) : 1,2,3\n",
      "합 : (1, 2, 3)\n"
     ]
    },
    {
     "ename": "TypeError",
     "evalue": "unsupported operand type(s) for /: 'tuple' and 'int'",
     "output_type": "error",
     "traceback": [
      "\u001b[1;31m---------------------------------------------------------------------------\u001b[0m",
      "\u001b[1;31mTypeError\u001b[0m                                 Traceback (most recent call last)",
      "Cell \u001b[1;32mIn[36], line 7\u001b[0m\n\u001b[0;32m      5\u001b[0m \u001b[38;5;66;03m# cal_avg('1+2+3')\u001b[39;00m\n\u001b[0;32m      6\u001b[0m oo \u001b[38;5;241m=\u001b[39m \u001b[38;5;28minput\u001b[39m(\u001b[38;5;124m\"\u001b[39m\u001b[38;5;124m평균값을 구할 숫자를 모두 입력해주세요(콤마로 구분) : \u001b[39m\u001b[38;5;124m\"\u001b[39m)\n\u001b[1;32m----> 7\u001b[0m \u001b[43mcal_avg\u001b[49m\u001b[43m(\u001b[49m\u001b[43moo\u001b[49m\u001b[43m)\u001b[49m\n",
      "Cell \u001b[1;32mIn[36], line 4\u001b[0m, in \u001b[0;36mcal_avg\u001b[1;34m(mun)\u001b[0m\n\u001b[0;32m      2\u001b[0m \u001b[38;5;28;01mdef\u001b[39;00m \u001b[38;5;21mcal_avg\u001b[39m(mun):\n\u001b[0;32m      3\u001b[0m     \u001b[38;5;28mprint\u001b[39m(\u001b[38;5;124mf\u001b[39m\u001b[38;5;124m'\u001b[39m\u001b[38;5;124m합 : \u001b[39m\u001b[38;5;132;01m{\u001b[39;00m\u001b[38;5;28meval\u001b[39m(mun)\u001b[38;5;132;01m}\u001b[39;00m\u001b[38;5;124m'\u001b[39m)\n\u001b[1;32m----> 4\u001b[0m     \u001b[38;5;28mprint\u001b[39m(\u001b[38;5;124mf\u001b[39m\u001b[38;5;124m\"\u001b[39m\u001b[38;5;124m평균 : \u001b[39m\u001b[38;5;132;01m{\u001b[39;00m\u001b[38;5;28meval\u001b[39m(mun)\u001b[38;5;241m/\u001b[39m\u001b[38;5;28mlen\u001b[39m(mun\u001b[38;5;241m.\u001b[39msplit(\u001b[38;5;124m'\u001b[39m\u001b[38;5;124m+\u001b[39m\u001b[38;5;124m'\u001b[39m))\u001b[38;5;132;01m:\u001b[39;00m\u001b[38;5;124m0.2f\u001b[39m\u001b[38;5;132;01m}\u001b[39;00m\u001b[38;5;124m\"\u001b[39m)\n",
      "\u001b[1;31mTypeError\u001b[0m: unsupported operand type(s) for /: 'tuple' and 'int'"
     ]
    }
   ],
   "source": [
    "# 과제8_1102 솔루션\n",
    "def cal_avg(mun):\n",
    "    print(f'합 : {eval(mun)}')\n",
    "    print(f\"평균 : {eval(mun)/len(mun.split('+')):0.2f}\")\n",
    "# cal_avg('1+2+3')\n",
    "oo = input(\"평균값을 구할 숫자를 모두 입력해주세요(콤마로 구분) : \")\n",
    "cal_avg(oo)"
   ]
  },
  {
   "cell_type": "code",
   "execution_count": 37,
   "id": "0f6e3d0e",
   "metadata": {},
   "outputs": [
    {
     "name": "stdout",
     "output_type": "stream",
     "text": [
      "평균값을 구할 숫자를 모두 입력해주세요(콤마로 구분): 1,2,3\n",
      "2.0\n"
     ]
    }
   ],
   "source": [
    "def str_average(str):\n",
    "    mun_str = str.replace(',','+')\n",
    "    print(eval(mun_str)/(mun_str.count('+')+1))\n",
    "    \n",
    "mun = input('평균값을 구할 숫자를 모두 입력해주세요(콤마로 구분): ')\n",
    "str_average(mun)"
   ]
  },
  {
   "cell_type": "code",
   "execution_count": 38,
   "id": "abd51a3a",
   "metadata": {},
   "outputs": [
    {
     "name": "stdout",
     "output_type": "stream",
     "text": [
      "평균값을 구할 숫자(콤마로 구분하여 입력): 1,2,3\n",
      "2.0\n"
     ]
    }
   ],
   "source": [
    "def cal_list_avg(avgList):\n",
    "    y = avgList.split(',')\n",
    "    x = [int(i) for i in y]\n",
    "    return sum(x) / len(x)\n",
    "\n",
    "ans = input('평균값을 구할 숫자(콤마로 구분하여 입력): ')\n",
    "print(cal_list_avg(ans))"
   ]
  },
  {
   "cell_type": "code",
   "execution_count": null,
   "id": "c1e5ca18",
   "metadata": {},
   "outputs": [],
   "source": [
    "# 과제9_1102 : 동일한 사용자 함수를 만들어서 1~100의 합과 200~300의 합을 구하세요."
   ]
  },
  {
   "cell_type": "code",
   "execution_count": null,
   "id": "66fa28dd",
   "metadata": {},
   "outputs": [],
   "source": [
    "# 과제9_1102 솔루션"
   ]
  },
  {
   "cell_type": "code",
   "execution_count": null,
   "id": "0583dd85",
   "metadata": {},
   "outputs": [],
   "source": [
    "def sum_func(a,b):\n",
    "    res = 0\n",
    "    if i in range(a,b+1) : \n",
    "        "
   ]
  },
  {
   "cell_type": "code",
   "execution_count": 39,
   "id": "9bedc8fe",
   "metadata": {},
   "outputs": [
    {
     "name": "stdout",
     "output_type": "stream",
     "text": [
      "1부터 100까지의 합은 5050입니다.\n",
      "200부터 300까지의 합은 25250입니다.\n"
     ]
    }
   ],
   "source": [
    "def myCal_sum(sInt, eInt):\n",
    "    sum = 0\n",
    "    \n",
    "    for i in range(sInt, eInt+1):\n",
    "        sum += i\n",
    "    \n",
    "    return print(f\"{sInt}부터 {eInt}까지의 합은 {sum}입니다.\")\n",
    "\n",
    "myCal_sum(1, 100)\n",
    "myCal_sum(200, 300)"
   ]
  },
  {
   "cell_type": "code",
   "execution_count": 40,
   "id": "1aadd8e1",
   "metadata": {},
   "outputs": [
    {
     "name": "stdout",
     "output_type": "stream",
     "text": [
      "5050 25250\n"
     ]
    }
   ],
   "source": [
    "def add(start, end):\n",
    "    total = sum(range(start, end+1))\n",
    "    return total\n",
    "\n",
    "sum100 = add(0, 100)\n",
    "sum200 = add(200, 300)\n",
    "\n",
    "print(sum100, sum200)"
   ]
  },
  {
   "cell_type": "code",
   "execution_count": 41,
   "id": "e7426bf6",
   "metadata": {},
   "outputs": [
    {
     "name": "stdout",
     "output_type": "stream",
     "text": [
      "5050\n",
      "25250\n"
     ]
    }
   ],
   "source": [
    "def sum_all(a, b):\n",
    "    return sum(range(a,b+1))\n",
    "\n",
    "print(sum_all(1, 100))\n",
    "print(sum_all(200, 300))"
   ]
  },
  {
   "cell_type": "code",
   "execution_count": 42,
   "id": "68e50e59",
   "metadata": {},
   "outputs": [
    {
     "data": {
      "text/plain": [
       "array([200, 201, 202, 203, 204, 205, 206, 207, 208, 209, 210, 211, 212,\n",
       "       213, 214, 215, 216, 217, 218, 219, 220, 221, 222, 223, 224, 225,\n",
       "       226, 227, 228, 229, 230, 231, 232, 233, 234, 235, 236, 237, 238,\n",
       "       239, 240, 241, 242, 243, 244, 245, 246, 247, 248, 249, 250, 251,\n",
       "       252, 253, 254, 255, 256, 257, 258, 259, 260, 261, 262, 263, 264,\n",
       "       265, 266, 267, 268, 269, 270, 271, 272, 273, 274, 275, 276, 277,\n",
       "       278, 279, 280, 281, 282, 283, 284, 285, 286, 287, 288, 289, 290,\n",
       "       291, 292, 293, 294, 295, 296, 297, 298, 299, 300])"
      ]
     },
     "execution_count": 42,
     "metadata": {},
     "output_type": "execute_result"
    }
   ],
   "source": [
    "import numpy as np\n",
    "np.arange(200,301)"
   ]
  },
  {
   "cell_type": "code",
   "execution_count": 44,
   "id": "157976ba",
   "metadata": {},
   "outputs": [
    {
     "data": {
      "text/plain": [
       "25250"
      ]
     },
     "execution_count": 44,
     "metadata": {},
     "output_type": "execute_result"
    }
   ],
   "source": [
    "import numpy as np\n",
    "def sum(*args):\n",
    "    sum = 0\n",
    "    for i in args:\n",
    "        sum += i\n",
    "    return sum\n",
    "sum(200, 201, 202, 203, 204, 205, 206, 207, 208, 209, 210, 211, 212,\n",
    "       213, 214, 215, 216, 217, 218, 219, 220, 221, 222, 223, 224, 225,\n",
    "       226, 227, 228, 229, 230, 231, 232, 233, 234, 235, 236, 237, 238,\n",
    "       239, 240, 241, 242, 243, 244, 245, 246, 247, 248, 249, 250, 251,\n",
    "       252, 253, 254, 255, 256, 257, 258, 259, 260, 261, 262, 263, 264,\n",
    "       265, 266, 267, 268, 269, 270, 271, 272, 273, 274, 275, 276, 277,\n",
    "       278, 279, 280, 281, 282, 283, 284, 285, 286, 287, 288, 289, 290,\n",
    "       291, 292, 293, 294, 295, 296, 297, 298, 299, 300)"
   ]
  },
  {
   "cell_type": "markdown",
   "id": "0acb89ab",
   "metadata": {},
   "source": [
    "#### sort, sorted 모두 key, reverse 매개변수를 갖고 있다.\n",
    "- reverse : 기본값은 reverse=False(오름차순), reverse=True를 매개변수로 입력하면 내림차순으로 정렬\n",
    "- key : 정렬을 목적으로 하는 함수를 값으로 넣는다. lambda를 이용할 수 있고 key 값을 기준으로 정렬되고 기본값은 오름차순"
   ]
  },
  {
   "cell_type": "code",
   "execution_count": 51,
   "id": "0dfc0db5",
   "metadata": {},
   "outputs": [
    {
     "data": {
      "text/plain": [
       "['bar', 'ababa', 'ca', 'aaaa', 'a']"
      ]
     },
     "execution_count": 51,
     "metadata": {},
     "output_type": "execute_result"
    }
   ],
   "source": [
    "# strings를 다양한 문자가 포함된 순서로 정렬하세요.\n",
    "strings = ['a','ca','bar','aaaa','ababa']\n",
    "strings.sort(key = lambda x : len(set(x)))\n",
    "strings[::-1]"
   ]
  },
  {
   "cell_type": "code",
   "execution_count": 55,
   "id": "95f79c6a",
   "metadata": {
    "scrolled": true
   },
   "outputs": [
    {
     "ename": "TypeError",
     "evalue": "set expected at most 1 argument, got 2",
     "output_type": "error",
     "traceback": [
      "\u001b[1;31m---------------------------------------------------------------------------\u001b[0m",
      "\u001b[1;31mTypeError\u001b[0m                                 Traceback (most recent call last)",
      "Cell \u001b[1;32mIn[55], line 2\u001b[0m\n\u001b[0;32m      1\u001b[0m \u001b[38;5;28mset\u001b[39m(\u001b[38;5;124m'\u001b[39m\u001b[38;5;124mababa\u001b[39m\u001b[38;5;124m'\u001b[39m) \u001b[38;5;66;03m# 중복된것은 빼고 a 랑 b를 출력. 근데 오름차순, 그리고 중괄호. 문자열은 ''필요\u001b[39;00m\n\u001b[1;32m----> 2\u001b[0m \u001b[38;5;28;43mset\u001b[39;49m\u001b[43m(\u001b[49m\u001b[38;5;241;43m1\u001b[39;49m\u001b[43m,\u001b[49m\u001b[38;5;241;43m2\u001b[39;49m\u001b[43m)\u001b[49m\n",
      "\u001b[1;31mTypeError\u001b[0m: set expected at most 1 argument, got 2"
     ]
    }
   ],
   "source": [
    "set('ababa') # 중복된것은 빼고 a 랑 b를 출력. 근데 오름차순, 그리고 중괄호. ''필요"
   ]
  },
  {
   "cell_type": "code",
   "execution_count": 52,
   "id": "96125956",
   "metadata": {},
   "outputs": [
    {
     "name": "stdout",
     "output_type": "stream",
     "text": [
      "['bar', 'ababa', 'ca', 'aaaa', 'a']\n"
     ]
    }
   ],
   "source": [
    "# Q. 튜플 형태인 strings 를 다양한 문자가 포함된 순서로 정렬하세요.\n",
    "strings = ['a','ca','bar','aaaa','ababa']\n",
    "s_list=list(strings)\n",
    "s_list.sort(key=lambda x :len(set(x))) # 기본 정렬(오름차순)\n",
    "print(s_list[::-1]) # 거꾸로 출력 [내림차순으로 나오게끔 정렬]"
   ]
  },
  {
   "cell_type": "code",
   "execution_count": 57,
   "id": "292a1fed",
   "metadata": {},
   "outputs": [
    {
     "name": "stdout",
     "output_type": "stream",
     "text": [
      "['http:', '', 'news.naver.com', 'main', 'read.nhn?mode=LSD&mid=shm&sid1=105&oid=028&aid=0002334601']\n"
     ]
    },
    {
     "data": {
      "text/plain": [
       "'news.naver.com'"
      ]
     },
     "execution_count": 57,
     "metadata": {},
     "output_type": "execute_result"
    }
   ],
   "source": [
    "# url에서 호스트 도메인을 추출하여 출력하세요.\n",
    "url = 'http://news.naver.com/main/read.nhn?mode=LSD&mid=shm&sid1=105&oid=028&aid=0002334601'\n",
    "\n",
    "x = url.split('/')\n",
    "print(x)\n",
    "x[2]"
   ]
  },
  {
   "cell_type": "code",
   "execution_count": null,
   "id": "29dde277",
   "metadata": {},
   "outputs": [],
   "source": [
    "# 과제10_1102 : url에서 쿼리문을 추출하여 출력하세요.\n",
    "# url에서 '?'뒤에 표시되는 문자열을 쿼리 문자열이라고 하며 변수=값 사이 &로 구분되어 나열된다.\n",
    "url = 'http://news.naver.com/main/read.nhn?mode=LSD&mid=shm&sid1=105&oid=028&aid=0002334601'\n",
    "\n",
    "출력은 2가지 형태\n",
    "['mode=LSD', 'mid=shm', 'sid1=105', 'oid=028', 'aid=0002334601']\n",
    "mode=LSD\n",
    "mid=shm\n",
    "sid1=105\n",
    "oid=028\n",
    "aid=0002334601"
   ]
  },
  {
   "cell_type": "code",
   "execution_count": 1,
   "id": "3a7debac",
   "metadata": {},
   "outputs": [
    {
     "name": "stdout",
     "output_type": "stream",
     "text": [
      "['mode=LSD', 'mid=shm', 'sid1=105', 'oid=028', 'aid=0002334601']\n",
      "\n",
      "mode=LSD\n",
      "mid=shm\n",
      "sid1=105\n",
      "oid=028\n",
      "aid=0002334601\n"
     ]
    }
   ],
   "source": [
    "# 과제10_1102 김신미님 솔루션\n",
    "url = 'http://news.naver.com/main/read.nhn?mode=LSD&mid=shm&sid1=105&oid=028&aid=0002334601'\n",
    "\n",
    "tmp1 = url.split('/')\n",
    "tmp2 = tmp1[-1].split('?')\n",
    "result = tmp2[-1].split('&')\n",
    "\n",
    "print(result)\n",
    "print(\"\")\n",
    "\n",
    "for i in result:\n",
    "    print(i)"
   ]
  },
  {
   "cell_type": "code",
   "execution_count": 2,
   "id": "3e78de86",
   "metadata": {},
   "outputs": [
    {
     "name": "stdout",
     "output_type": "stream",
     "text": [
      "{'mode': 'LSD', 'mid': 'shm', 'sid1': '105', 'oid': '028', 'aid': '0002334601'}\n"
     ]
    }
   ],
   "source": [
    "# 과제10_1102 서영우님 솔루션\n",
    "url = 'http://news.naver.com/main/read.nhn?mode=LSD&mid=shm&sid1=105&oid=028&aid=0002334601'\n",
    "url = url.split('?')\n",
    "url = url[1].split('&')\n",
    "dic = {}\n",
    "for i in url:\n",
    "    dic[i.split('=')[0]] = i.split('=')[1]\n",
    "print(dic)"
   ]
  },
  {
   "cell_type": "code",
   "execution_count": 60,
   "id": "85933d25",
   "metadata": {},
   "outputs": [
    {
     "name": "stdout",
     "output_type": "stream",
     "text": [
      "True\n",
      "True\n",
      "False\n",
      "False\n"
     ]
    }
   ],
   "source": [
    "# 문자열이 문자인지 검사\n",
    "txt1 = 'A'\n",
    "txt2 = '안녕'\n",
    "txt3 = 'Warcraft Three'\n",
    "txt4 = '3P0'\n",
    "ret1 = txt1.isalpha()\n",
    "ret2 = txt2.isalpha()\n",
    "ret3 = txt3.isalpha()\n",
    "ret4 = txt4.isalpha()\n",
    "print(ret1)\n",
    "print(ret2)\n",
    "print(ret3) # 띄어쓰기가 있어서 False\n",
    "print(ret4) # 숫자가 맨앞에 있어서 False"
   ]
  },
  {
   "cell_type": "code",
   "execution_count": 61,
   "id": "fa4ae884",
   "metadata": {},
   "outputs": [
    {
     "name": "stdout",
     "output_type": "stream",
     "text": [
      "False\n",
      "False\n",
      "True\n"
     ]
    }
   ],
   "source": [
    "# 문자열이 숫자인지 검사\n",
    "txt1 = '010-1234-5678'\n",
    "txt2 = 'R2D2'\n",
    "txt3 = '1212'\n",
    "\n",
    "ret1 = txt1.isdigit()\n",
    "ret2 = txt2.isdigit()\n",
    "ret3 = txt3.isdigit()\n",
    "\n",
    "print(ret1) # - 때문에 False\n",
    "print(ret2) # 문자열때문에 False\n",
    "print(ret3) # 숫자만 있어서 True"
   ]
  },
  {
   "cell_type": "code",
   "execution_count": 63,
   "id": "8dca4f70",
   "metadata": {},
   "outputs": [
    {
     "name": "stdout",
     "output_type": "stream",
     "text": [
      "False\n",
      "False\n",
      "True\n"
     ]
    }
   ],
   "source": [
    "# 문자열이 문자 또는 숫자인지 검사 : 문자열이 영어, 한글 혹은 숫자로 되어있으면 참 리턴, 아니면 거짓 리턴\n",
    "txt1 = '안녕하세요?'\n",
    "txt2 = '1. Title= 제목을 넣으세요.'\n",
    "txt3 = '3피오R2D2'\n",
    "\n",
    "ret1 = txt1.isalnum()\n",
    "ret2 = txt2.isalnum()\n",
    "ret3 = txt3.isalnum()\n",
    "print(ret1)\n",
    "print(ret2)\n",
    "print(ret3)"
   ]
  },
  {
   "cell_type": "code",
   "execution_count": 67,
   "id": "b3691442",
   "metadata": {},
   "outputs": [
    {
     "name": "stdout",
     "output_type": "stream",
     "text": [
      "A LOT OF THINGS OCCUR EACH DAY\n",
      "a lot of things occur each day\n",
      "A Lot Of Things Occur Each Day\n",
      "A lot of things occur each day\n"
     ]
    }
   ],
   "source": [
    "txt = 'A lot of Things occur each day'\n",
    "ret1 = txt.upper()\n",
    "ret2 = txt.lower()\n",
    "ret3 = txt.title()\n",
    "ret4 = txt.capitalize() # 문자열의 첫번째 문자를 대문자, 나먼지는 소문자로 변환\n",
    "print(ret1)\n",
    "print(ret2)\n",
    "print(ret3)\n",
    "print(ret4)"
   ]
  },
  {
   "cell_type": "code",
   "execution_count": null,
   "id": "a20b2939",
   "metadata": {},
   "outputs": [],
   "source": []
  }
 ],
 "metadata": {
  "kernelspec": {
   "display_name": "Python 3 (ipykernel)",
   "language": "python",
   "name": "python3"
  },
  "language_info": {
   "codemirror_mode": {
    "name": "ipython",
    "version": 3
   },
   "file_extension": ".py",
   "mimetype": "text/x-python",
   "name": "python",
   "nbconvert_exporter": "python",
   "pygments_lexer": "ipython3",
   "version": "3.10.13"
  }
 },
 "nbformat": 4,
 "nbformat_minor": 5
}
