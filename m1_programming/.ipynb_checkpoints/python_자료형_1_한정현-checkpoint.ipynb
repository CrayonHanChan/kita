{
 "cells": [
  {
   "cell_type": "markdown",
   "id": "23cbd748",
   "metadata": {
    "id": "23cbd748"
   },
   "source": [
    "#### 파이썬 이란\n",
    "- 1990년 암스테르담의 귀도 반 로섬(Guido Van Rossum)이 개발한 인터프리터 언어\n",
    "- 컴퓨터 프로그래밍 교육을 위해 많이 사용하지만, 기업의 실무를 위해서도 많이 사용하는 언어. 구글에서 만든 소프트웨어의 50%이상이 파이썬으로 작성\n",
    "\n",
    "#### 파이썬의 특징\n",
    "- 파이썬은 인간다운 언어이다\n",
    "- 파이썬은 문법이 쉬워 빠르게 배울 수 있다\n",
    "- 파이썬은 무료이지만 강력하다\n",
    "- 파이썬은 간결하다\n",
    "- 파이썬은 프로그래밍을 즐기게 해준다\n",
    "- 파이썬은 개발 속도가 빠르다"
   ]
  },
  {
   "cell_type": "markdown",
   "id": "f80d159b",
   "metadata": {
    "id": "f80d159b"
   },
   "source": [
    "#### 파이썬으로 할 수 있는 일\n",
    "- 웹 개발: Django, Flask 등의 프레임워크를 사용하여 웹 애플리케이션을 개발할 수 있습니다.\n",
    "- 데이터 분석: Pandas, NumPy, SciPy와 같은 라이브러리를 사용하여 데이터를 분석하고 처리할 수 있습니다.\n",
    "- 머신 러닝과 인공지능: TensorFlow, PyTorch, Scikit-learn 등의 라이브러리를 활용하여 머신 러닝 모델을 구축하고 훈련시킬 수 있습니다.\n",
    "- 자동화: 파이썬 스크립트를 작성하여 일상적인 작업을 자동화하고, 시스템 관리 작업을 수행할 수 있습니다.\n",
    "- 게임 개발: Pygame과 같은 라이브러리를 사용하여 간단한 게임을 개발할 수 있습니다.\n",
    "- 모바일 애플리케이션 개발: Kivy 또는 BeeWare와 같은 라이브러리를 사용하여 모바일 애플리케이션을 개발할 수 있습니다.\n",
    "- 데스크탑 애플리케이션 개발: PyQt, Tkinter 등의 라이브러리를 활용하여 데스크탑 애플리케이션을 개발할 수 있습니다.\n",
    "- 시스템 스크립팅과 네트워킹: 시스템 유틸리티를 개발하거나 네트워크 프로토콜을 구현할 수 있습니다.\n",
    "- 임베디드 시스템과 하드웨어 제어: 라즈베리 파이와 같은 임베디드 시스템을 제어하고 하드웨어를 프로그래밍할 수 있습니다.\n",
    "- 사이언티픽 컴퓨팅: 과학적 연산과 시뮬레이션을 위해 파이썬을 활용할 수 있습니다.\n",
    "- 교육: 파이썬은 초보자에게 프로그래밍을 가르치는 데 이상적인 언어로 평가받고 있습니다.\n",
    "- 파이썬의 다양한 라이브러리와 프레임워크 덕분에, 이러한 분야에서의 작업이 더욱 쉽고 효율적으로 수행될 수 있습니다.\n",
    "\n",
    "#### 참조\n",
    "- 표현식 : 어떠한 값을 만들어 내는 간단한 코드. 273, 10 + 20 + 30, \"Python Programming\"\n",
    "- 문장 : 표현식이 하나 이상 모이면 문장. print(\"Hello\")\n",
    "- 프로그램 : 문장이 모여서 프로그램\n",
    "- 식별자 : 프로그램밍 언어에서 이름을 붙일 때 사용하는 단어. 주로 변수 또는 함수 이름 등으로 사용\n",
    "- 주석 : 프로그램을 설명하기 위해 사용. # 기호로 주석 처리\n",
    "- 연산자 : 스스로 값이 되는 것이 아니고 값과 값 사이에 무언가 기능을 적용할 때 사용\n",
    "- 자료 : 리터럴이라고 하는데 숫자이든 문자이든 어떠한 값 자체를 의미. 1, 10, \"Hello\"\n",
    "- 리터럴은 값 그 자체로 고정된 값을 표현하는 것을 의미. 파이썬엔 None 이라는 특별한 리터럴이 있음 이필드를 사용하여 생성되지않은 필드를 지정함\n",
    "- 키워드 : 파이썬이 만들어질 때 이미 사용하겠다고 예약해 놓는 것. False, None, True, ...\n",
    "- 프로그램밍 언어에서 사용자가 이름을 정할 때 키워드는 사용할 수 없음"
   ]
  },
  {
   "cell_type": "markdown",
   "id": "d924f770",
   "metadata": {
    "id": "d924f770"
   },
   "source": [
    "#### 파이썬은 snake_case와 CamelCase를 모두 사용\n",
    "\n",
    "- itemlist : item_list(스네이크 케이스) itemList(카멜 케이스)\n",
    "- loginstatus : login_status(스네이크 케이스) loginStatus(카멜 케이스)\n",
    "- 캐멀 케이스(대문자로 시작) 클래스\n",
    "- 스네이크 케이스(소문자로 시작) 뒤에 ()가 있다 - 함수\n",
    "- 스네이크 케이스(소문자로 시작) 뒤에 ()가 없다 - 변수"
   ]
  },
  {
   "cell_type": "markdown",
   "id": "03303e54",
   "metadata": {
    "id": "03303e54"
   },
   "source": [
    "#### 자료형\n",
    "- 자료형 또는 데이터 타입이란 숫자, 문자 등과 같이 여러 종류의 데이터를 구분하기 위한 분류\n",
    "- 파이썬의 자료형은 크게 숫자(numbers), 시퀀스(sequence), 매핑(mapping) 등으로 나눌 수 있다.\n",
    "- 파이썬의 기본 자료형\n",
    "  - 수치형\n",
    "    - 정수형 : int는 정수(integer)를 나타낸다. 양의 정수와 음의 정수, 숫자 0\n",
    "    - 실수형 : float는 원래 부동소수점수(floating-point number)를 가리키는데, 지금은 단순히 소수점 이하를 표현할 수 있는 수이다.\n",
    "    - 복소수형 : 복소수를 complex로 나타내고 제곱하면 -1이 되는 수 i를 ‘허수(imaginary number)’라고 하는데 허수 i를 j로 표현\n",
    "  - 시퀀스 : 문자열(str), 리스트(list), 튜플(tuple), 사용자 정의 클래스가 시퀀스에 속한다. for 문에서 사용할 수 있는 것들이 바로 시퀀스\n",
    "    - 문자열 : 문자를 한 줄로 표현하며 문자열 인덱스를 이용해 문자열의 일부를 복사\n",
    "    - 리스트 : 대괄호([ ])로 감싸 주고 각 요솟값은 쉼표(,)로 구분\n",
    "    - 튜플 : 튜플은 ( )으로 둘러싸고 각 요솟값은 쉼표(,)로 구분\n",
    "  - 매핑\n",
    "    - 사전 : 딕셔너리(dict)는 키(key)와 값(value)의 짝으로 이뤄지는데 이런 것을 매핑\n",
    "  - 집합 : 집합을 표현하는 세트(set)\n",
    "  - 블린 : 참, 거짓을 표현"
   ]
  },
  {
   "cell_type": "code",
   "execution_count": null,
   "id": "abe9303a",
   "metadata": {
    "id": "abe9303a"
   },
   "outputs": [],
   "source": [
    "# 자료형 출력"
   ]
  },
  {
   "cell_type": "code",
   "execution_count": null,
   "id": "e16dc91b",
   "metadata": {
    "id": "e16dc91b"
   },
   "outputs": [],
   "source": [
    "[1,2,3] #요소를 쉼표로 구분\n",
    "(1,2,3)\n",
    "[a:1,b:2] #집합은 중복을 허용하지않음. 집합은 수학에서 중복 X"
   ]
  },
  {
   "cell_type": "code",
   "execution_count": null,
   "id": "9813aced",
   "metadata": {
    "id": "9813aced"
   },
   "outputs": [],
   "source": [
    "#문자열"
   ]
  },
  {
   "cell_type": "code",
   "execution_count": null,
   "id": "83d0ea37",
   "metadata": {
    "id": "83d0ea37",
    "outputId": "09b39250-aa4c-4503-8f66-cefb5efc5f38"
   },
   "outputs": [
    {
     "name": "stdout",
     "output_type": "stream",
     "text": [
      "3\n",
      "3.5\n"
     ]
    }
   ],
   "source": [
    "i1 = 3    #정수형\n",
    "f1 = 3.5   #실수형\n",
    "print(i1)\n",
    "print(f1)"
   ]
  },
  {
   "cell_type": "code",
   "execution_count": null,
   "id": "287084ec",
   "metadata": {
    "id": "287084ec",
    "outputId": "9dcedd15-1175-4b86-b300-01a8672b0194"
   },
   "outputs": [
    {
     "name": "stdout",
     "output_type": "stream",
     "text": [
      "1\n",
      "0\n",
      "100\n",
      "3\n"
     ]
    }
   ],
   "source": [
    "# 정수(int)\n",
    "print(int(True)) # True 는 1. 1이상도 True인데 보통 1로 씀 왜냐면 while 문 할때 while True 대신 while 1 이라고 씀\n",
    "print(int(False)) # False 는 0\n",
    "print(int('100')) # 따옴표안에는 문자\n",
    "print(int(3.14)) # 3.14는 실수인데 정수로 변환되어서 3으로됨"
   ]
  },
  {
   "cell_type": "code",
   "execution_count": null,
   "id": "3b4c002a",
   "metadata": {
    "id": "3b4c002a",
    "outputId": "506ae6c7-5149-49f1-de0d-5850de93cc34"
   },
   "outputs": [
    {
     "name": "stdout",
     "output_type": "stream",
     "text": [
      "1.0\n",
      "0.0\n",
      "100.0\n",
      "3.14\n",
      "<class 'float'>\n"
     ]
    }
   ],
   "source": [
    "# 실수(float)\n",
    "print(float(True)) # True 는 1.0 실수에서\n",
    "print(float(False)) # False 는 0.0 실수에서\n",
    "print(float(100)) # 100은 정수인데 float으로 변환. 실수인 100.0\n",
    "print(float('3.14')) # 문자 3.14를 출력하는데 저건 실수로 변환됨\n",
    "print(type(float('3.14')))"
   ]
  },
  {
   "cell_type": "code",
   "execution_count": null,
   "id": "44ca635b",
   "metadata": {
    "id": "44ca635b"
   },
   "outputs": [],
   "source": [
    "# 사칙연산 : +, *, /나누기라서 하고나면 무조건실수, //정수로 나옴.몫임, **(2**3 2의3승), %(나머지)"
   ]
  },
  {
   "cell_type": "code",
   "execution_count": null,
   "id": "4e9d9c66",
   "metadata": {
    "id": "4e9d9c66",
    "outputId": "bea8bc9e-f9e6-42b0-ebf9-40ae848f8d9f"
   },
   "outputs": [
    {
     "name": "stdout",
     "output_type": "stream",
     "text": [
      "13\n",
      "22\n",
      "5.5\n",
      "5\n",
      "121\n",
      "1\n"
     ]
    }
   ],
   "source": [
    "#사칙연산 예\n",
    "a = 11\n",
    "b = 2\n",
    "print(a+b)\n",
    "print(a*b)\n",
    "print(a/b)\n",
    "print(a//b)\n",
    "print(a**b)\n",
    "print(a%b)"
   ]
  },
  {
   "cell_type": "code",
   "execution_count": null,
   "id": "3a1517ca",
   "metadata": {
    "id": "3a1517ca",
    "outputId": "a54860cd-894e-4896-d4ad-10513c7c7a3c"
   },
   "outputs": [
    {
     "name": "stdout",
     "output_type": "stream",
     "text": [
      "덧셈 : 13\n",
      "곱셈 : 22\n",
      "나눗셈 : 5.5\n",
      "나눈몫 : 5\n",
      "제곱 : 121\n",
      "나머지 : 1\n"
     ]
    }
   ],
   "source": [
    "#사칙연산 예, 그렇지만 사칙연산 표현해주기\n",
    "a = 11\n",
    "b = 2\n",
    "sum = a + b\n",
    "print(f\"덧셈 : {sum}\") # f=format, {}안에 하고싶은거 넣으면 됨\n",
    "print(f\"곱셈 : {a*b}\")\n",
    "print(f\"나눗셈 : {a/b}\")\n",
    "print(f\"나눈몫 : {a//b}\")\n",
    "print(f\"제곱 : {a**b}\")\n",
    "print(f\"나머지 : {a%b}\")"
   ]
  },
  {
   "cell_type": "code",
   "execution_count": null,
   "id": "e437ebd5",
   "metadata": {
    "id": "e437ebd5"
   },
   "outputs": [],
   "source": [
    "# 문자열\n",
    "string = '문자열'\n",
    "a = '100' #이렇게 되면 서로 연산가능. 마치 숫자처럼 근데 숫자는 아님,.,\n",
    "# 숫자와 문자는 연산 불가능! 숫자를 문자타입으로 바꿔 문자간의 연산 할 수 있음"
   ]
  },
  {
   "cell_type": "code",
   "execution_count": null,
   "id": "75a1b324",
   "metadata": {
    "id": "75a1b324",
    "outputId": "41e952d5-1a50-40fd-977e-548b98b9bb14"
   },
   "outputs": [
    {
     "name": "stdout",
     "output_type": "stream",
     "text": [
      "150\n",
      "10050\n"
     ]
    }
   ],
   "source": [
    "a = 100\n",
    "b = 50\n",
    "print(a+b)\n",
    "a = '100'\n",
    "b = '50'\n",
    "print(a + b)"
   ]
  },
  {
   "cell_type": "code",
   "execution_count": null,
   "id": "75e9b489",
   "metadata": {
    "id": "75e9b489",
    "outputId": "34951e3d-e1f9-41c1-bc8e-ad0cd16f50b8"
   },
   "outputs": [
    {
     "name": "stdout",
     "output_type": "stream",
     "text": [
      "인삿말을 입력하세요. : 안녕하세요~\n"
     ]
    },
    {
     "data": {
      "text/plain": [
       "'안녕하세요~'"
      ]
     },
     "execution_count": 22,
     "metadata": {},
     "output_type": "execute_result"
    }
   ],
   "source": [
    "# 사용자 입력\n",
    "input('인삿말을 입력하세요. : ')"
   ]
  },
  {
   "cell_type": "code",
   "execution_count": null,
   "id": "b1ba5122",
   "metadata": {
    "id": "b1ba5122",
    "outputId": "1018b10c-17ab-4e4c-ca77-12f496154d6f"
   },
   "outputs": [
    {
     "name": "stdout",
     "output_type": "stream",
     "text": [
      "1\n",
      "2\n",
      "12\n"
     ]
    }
   ],
   "source": [
    "# 두개의 정수를 입력해서 더한 결과를 출력하세요.\n",
    "# input() 함수는 string으로 입력받은 데이터를 string으로 처리한다.\n",
    "a = input()\n",
    "b = input()\n",
    "print(a+b)"
   ]
  },
  {
   "cell_type": "code",
   "execution_count": null,
   "id": "15a3b174",
   "metadata": {
    "id": "15a3b174",
    "outputId": "75e346e8-3415-4734-c449-58cd13263b76"
   },
   "outputs": [
    {
     "name": "stdout",
     "output_type": "stream",
     "text": [
      "첫 번째 숫자 : 1\n",
      "두 번째 숫자 : 2\n",
      "3\n"
     ]
    }
   ],
   "source": [
    "# 두개의 정수를 입력해서 더한 결과를 출력하세요.\n",
    "num1 = int(input(\"첫 번째 숫자 : \"))\n",
    "num2 = int(input(\"두 번째 숫자 : \"))\n",
    "\n",
    "print(num1 + num2)"
   ]
  },
  {
   "cell_type": "code",
   "execution_count": null,
   "id": "dc04a690",
   "metadata": {
    "id": "dc04a690",
    "outputId": "0bf618d0-de50-4a57-aa07-77bac2f3a82e"
   },
   "outputs": [
    {
     "name": "stdout",
     "output_type": "stream",
     "text": [
      "3입력3\n",
      "3.3입력3.3\n",
      "6.3\n"
     ]
    }
   ],
   "source": [
    "# 실수 + 실수 = 실수\n",
    "a = float(input('3입력'))\n",
    "b = float(input('3.3입력'))\n",
    "print(a+b)"
   ]
  },
  {
   "cell_type": "code",
   "execution_count": null,
   "id": "61319454",
   "metadata": {
    "id": "61319454",
    "outputId": "64cbab5a-76b8-4763-c75f-34117d98d444",
    "scrolled": true
   },
   "outputs": [
    {
     "name": "stdout",
     "output_type": "stream",
     "text": [
      "정수를 입력하세요 : 3\n",
      "소수점 이하를 포함한 실수를 입력하세요 : 3.3\n",
      "6.3\n"
     ]
    }
   ],
   "source": [
    "# Q. 3과 3.3을 입력하고 숫자 연산을 수행하여 6.3을 출력하세요.\n",
    "num1 = int(input(\"정수를 입력하세요 : \"))\n",
    "num2 = float(input(\"소수점 이하를 포함한 실수를 입력하세요 : \"))\n",
    "print(num1 + num2) # 정수 + 실수 = 실수"
   ]
  },
  {
   "cell_type": "code",
   "execution_count": null,
   "id": "d3abb1a7",
   "metadata": {
    "id": "d3abb1a7",
    "outputId": "02ae49fe-cc01-4676-85a4-2f430bba5721"
   },
   "outputs": [
    {
     "name": "stdout",
     "output_type": "stream",
     "text": [
      "5252.273\n",
      "5252.273\n"
     ]
    }
   ],
   "source": [
    "# Q. a = 52와 b =52.273일때 a+b는 5252.273으로 출력되도록 a와 b를 문자열\n",
    "# 자료형으로 변환하세요.\n",
    "a = 52\n",
    "b = 52.273\n",
    "a = str(a)\n",
    "b = str(b)\n",
    "print(a+b) # 둘다 문자열로 바꿔주고 연산을하면 붙여서 나옴!!\n",
    "\n",
    "a = 52\n",
    "b = 52.273\n",
    "print(str(a)+str(b)) # 프린트할때 str으로 형변환할수 있음"
   ]
  },
  {
   "cell_type": "code",
   "execution_count": null,
   "id": "9e94a73e",
   "metadata": {
    "id": "9e94a73e",
    "outputId": "3e93f52a-7a28-4713-9a7d-6edfcd6566aa"
   },
   "outputs": [
    {
     "name": "stdout",
     "output_type": "stream",
     "text": [
      "python's value is great\n"
     ]
    }
   ],
   "source": [
    "# 문자열 : \"\", '', \"\"\" \"\"\", ''' '''\n",
    "# p1 = 'python's value is great' #오류뜸 낙동강 오리알 됨\n",
    "p1 = \"python's value is great\"\n",
    "print(p1)"
   ]
  },
  {
   "cell_type": "code",
   "execution_count": null,
   "id": "ead0d7e4",
   "metadata": {
    "id": "ead0d7e4",
    "outputId": "8f4869e9-3f55-4782-bb13-8cb3d27632de"
   },
   "outputs": [
    {
     "name": "stdout",
     "output_type": "stream",
     "text": [
      "python's value is great\n"
     ]
    }
   ],
   "source": [
    "p1 = 'python\\'s value is great' # \\ 이거는 따옴표가 아니다라는뜻 \\는 escape 문자\n",
    "print(p1)"
   ]
  },
  {
   "cell_type": "code",
   "execution_count": null,
   "id": "74746443",
   "metadata": {
    "id": "74746443",
    "outputId": "15a613c4-6f57-4235-d3bf-eba3eafac622"
   },
   "outputs": [
    {
     "name": "stdout",
     "output_type": "stream",
     "text": [
      "Once you study data analysis \n",
      "You need Python\n"
     ]
    }
   ],
   "source": [
    "# \\n 행 바꿈\n",
    "y1 = \"Once you study data analysis \\nYou need Python\" # \\n은 행을 바꿔라~ 라는뜻\n",
    "print(y1)"
   ]
  },
  {
   "cell_type": "code",
   "execution_count": null,
   "id": "2adff1ef",
   "metadata": {
    "id": "2adff1ef",
    "outputId": "feef3262-9a4c-438b-ef14-822b17708ce8"
   },
   "outputs": [
    {
     "ename": "SyntaxError",
     "evalue": "invalid syntax (1089373387.py, line 1)",
     "output_type": "error",
     "traceback": [
      "\u001b[1;36m  Cell \u001b[1;32mIn[64], line 1\u001b[1;36m\u001b[0m\n\u001b[1;33m    y1 = Once you study data analysis\u001b[0m\n\u001b[1;37m              ^\u001b[0m\n\u001b[1;31mSyntaxError\u001b[0m\u001b[1;31m:\u001b[0m invalid syntax\n"
     ]
    }
   ],
   "source": [
    "y1 = Once you study data analysis\n",
    "You need Python\n",
    "print(y1) #이렇게하면 에러"
   ]
  },
  {
   "cell_type": "code",
   "execution_count": null,
   "id": "1cd253e0",
   "metadata": {
    "id": "1cd253e0",
    "outputId": "13be8895-4e72-4e6f-bbe1-c2c8eb39622c"
   },
   "outputs": [
    {
     "name": "stdout",
     "output_type": "stream",
     "text": [
      "\n",
      "Once you study data analysis\n",
      "You need Python\n",
      "\n"
     ]
    }
   ],
   "source": [
    "# \\n 행 바꿈 없이 행을 바꿔서 출력하기\n",
    "y2 = '''\n",
    "Once you study data analysis\n",
    "You need Python\n",
    "'''\n",
    "print(y2) # ''' '''는 줄바꿈 할 때 유용함"
   ]
  },
  {
   "cell_type": "code",
   "execution_count": null,
   "id": "e736af9e",
   "metadata": {
    "id": "e736af9e",
    "outputId": "5200c131-1635-40ed-8f7f-df30945eba78"
   },
   "outputs": [
    {
     "name": "stdout",
     "output_type": "stream",
     "text": [
      "pythonis easy to learn\n"
     ]
    }
   ],
   "source": [
    "# 해당 내용을 띄어서 python is 하는법 알아보기\n",
    "a1 = 'Python'\n",
    "a2 = 'is easy to learn'\n",
    "print(a1 + a2)"
   ]
  },
  {
   "cell_type": "code",
   "execution_count": null,
   "id": "4de86023",
   "metadata": {
    "id": "4de86023",
    "outputId": "a5f75248-9f4e-479e-a005-a6af4f7cb400"
   },
   "outputs": [
    {
     "name": "stdout",
     "output_type": "stream",
     "text": [
      "Python is easy to learn\n",
      "=========================\n"
     ]
    }
   ],
   "source": [
    "# 솔루션 1\n",
    "a1 = 'Python'\n",
    "a2 = ' is easy to learn'\n",
    "print(a1 + a2)\n",
    "print(\"=\" * 25) # 보기 좋게 가독성좋게 하는법"
   ]
  },
  {
   "cell_type": "code",
   "execution_count": null,
   "id": "c7f84d53",
   "metadata": {
    "id": "c7f84d53"
   },
   "outputs": [],
   "source": [
    "# 다른 타입간 연산"
   ]
  },
  {
   "cell_type": "code",
   "execution_count": null,
   "id": "7118be49",
   "metadata": {
    "id": "7118be49"
   },
   "outputs": [],
   "source": [
    "과제1. 다른 타입의 숫자 2개를 입력받아 큰 수를 출력하세요."
   ]
  },
  {
   "cell_type": "code",
   "execution_count": null,
   "id": "8a82ce45",
   "metadata": {
    "id": "8a82ce45",
    "outputId": "0af27c69-acc1-4819-b7d7-87cecfade929"
   },
   "outputs": [
    {
     "name": "stdout",
     "output_type": "stream",
     "text": [
      "두 수중에 큰 수를 분별하는 프로그램\n",
      "정수를 입력해주세요 : 1\n",
      "실수를 입력해주세요 : 2.1\n",
      "2.1\n"
     ]
    }
   ],
   "source": [
    "print(\"두 수중에 큰 수를 분별하는 프로그램\")\n",
    "num1 = int(input(\"정수를 입력해주세요 : \"))\n",
    "num2 = float(input(\"실수를 입력해주세요 : \"))\n",
    "\n",
    "if num1 > num2 :\n",
    "    print(num1)\n",
    "elif num1 < num2 :\n",
    "    print(num2)\n",
    "else :\n",
    "    print(\"두 수는 같습니다.\")"
   ]
  },
  {
   "cell_type": "code",
   "execution_count": null,
   "id": "f29cdd45",
   "metadata": {
    "id": "f29cdd45"
   },
   "outputs": [],
   "source": [
    "과제2. 아래와 같이 출력할 수 있는 string을 만드세요.\n",
    "string =\n",
    "print(sting)\n",
    "[출력문]\n",
    "\"What a wonderful world!\"\n",
    "he said loudly"
   ]
  },
  {
   "cell_type": "code",
   "execution_count": null,
   "id": "999093e6",
   "metadata": {
    "id": "999093e6",
    "outputId": "2f634d96-de98-4811-86c6-672ac7c5de4f"
   },
   "outputs": [
    {
     "name": "stdout",
     "output_type": "stream",
     "text": [
      "\n",
      "What a wonderfui world!\n",
      "he said loudly\n",
      "\n"
     ]
    }
   ],
   "source": [
    "string = '''\n",
    "What a wonderfui world!\n",
    "he said loudly\n",
    "'''\n",
    "print(string)"
   ]
  },
  {
   "cell_type": "code",
   "execution_count": null,
   "id": "c2173d38",
   "metadata": {
    "id": "c2173d38",
    "outputId": "5b4364a4-4d74-4c61-b9b2-72895a65a8a8"
   },
   "outputs": [
    {
     "name": "stdout",
     "output_type": "stream",
     "text": [
      "\"what a wonderful world!\"\n",
      "he said loudly.\n"
     ]
    }
   ],
   "source": [
    "# 심주승님 솔루션\n",
    "string = \"\\\"what a wonderful world!\\\"\\nhe said loudly.\"\n",
    "\n",
    "print(string)"
   ]
  },
  {
   "cell_type": "code",
   "execution_count": null,
   "id": "9928ce47",
   "metadata": {
    "id": "9928ce47",
    "outputId": "bd49cea9-709d-4e3f-b353-e6f7af1b80ad"
   },
   "outputs": [
    {
     "name": "stdout",
     "output_type": "stream",
     "text": [
      "[1, 2, 3, 4, 5]\n",
      "['a', 'b', 'c']\n",
      "[1, 'a', 'abc', [1, 2, 3, 4, 5], ['a', 'b', 'c']]\n"
     ]
    }
   ],
   "source": [
    "# 자료형 - List\n",
    "# 리스트는 [] 로 표시하며 [] 안의 요소를 콤마로 구분하여 순서있게 나열\n",
    "list1 = [1,2,3,4,5]\n",
    "list2 = ['a','b','c']\n",
    "list3 = [1,'a','abc',[1,2,3,4,5],['a', 'b', 'c']]\n",
    "print(list1)\n",
    "print(list2)\n",
    "print(list3)"
   ]
  },
  {
   "cell_type": "code",
   "execution_count": null,
   "id": "c520b51a",
   "metadata": {
    "id": "c520b51a",
    "outputId": "6e6abe26-0dbb-47b9-dae3-fad01041dc88",
    "scrolled": true
   },
   "outputs": [
    {
     "data": {
      "text/plain": [
       "3"
      ]
     },
     "execution_count": 81,
     "metadata": {},
     "output_type": "execute_result"
    }
   ],
   "source": [
    "# 인덱싱\n",
    "list1 = [1,2,3,4,5] # 리스트 여기에는순서가 있음 즉 주소가 있음 파이썬에선 0번부터시작\n",
    "# 0번째 요소는 1 이고 5라는 숫자는 4번째 요소이다. 인덱스가 0,4\n",
    "list1[2] # 2번째 요소는 리스트안의 3번째숫자인 3이다. 인덱스가 2"
   ]
  },
  {
   "cell_type": "code",
   "execution_count": null,
   "id": "0daf27f7",
   "metadata": {
    "id": "0daf27f7",
    "outputId": "62c71838-d95a-41ea-8dbe-667edcb8949e"
   },
   "outputs": [
    {
     "data": {
      "text/plain": [
       "8"
      ]
     },
     "execution_count": 106,
     "metadata": {},
     "output_type": "execute_result"
    }
   ],
   "source": [
    "a = [0, 1, 2, 3, 4, 5, 6, 7, 8, 9] # 9의 인덱스는 9임. 0부터 시작\n",
    "b = ['a', 'b', 'c']\n",
    "a[-1] # 맨끝의 인덱스를 출력\n",
    "a[-2] # 맨끝의 앞의 인덱스를 출력"
   ]
  },
  {
   "cell_type": "code",
   "execution_count": null,
   "id": "89271f19",
   "metadata": {
    "id": "89271f19",
    "outputId": "13c5ddd1-5c5d-43bd-e314-62c8edaa9c13"
   },
   "outputs": [
    {
     "data": {
      "text/plain": [
       "[6, 7, 8, 9]"
      ]
     },
     "execution_count": 110,
     "metadata": {},
     "output_type": "execute_result"
    }
   ],
   "source": [
    "# 6 7 8 9 를 출력\n",
    "a = [0, 1, 2, 3, 4, 5, 6, 7, 8, 9]\n",
    "b = ['a', 'b', 'c']\n",
    "a[-4:]"
   ]
  },
  {
   "cell_type": "code",
   "execution_count": null,
   "id": "82d71f52",
   "metadata": {
    "id": "82d71f52",
    "outputId": "59cf17cd-d385-47a6-8701-f544bca87183"
   },
   "outputs": [
    {
     "data": {
      "text/plain": [
       "[6, 7, 8]"
      ]
     },
     "execution_count": 112,
     "metadata": {},
     "output_type": "execute_result"
    }
   ],
   "source": [
    "# 끝에서 부터 인덱싱 : -1\n",
    "a = [0, 1, 2, 3, 4, 5, 6, 7, 8, 9]\n",
    "b = ['a', 'b', 'c']\n",
    "a[-4:-1] # -4 부터 -1까지임. 근데 -4 -3 -2 출력이라서.. = 6,7,8"
   ]
  },
  {
   "cell_type": "code",
   "execution_count": null,
   "id": "8a79ec58",
   "metadata": {
    "id": "8a79ec58",
    "outputId": "22e6783f-181b-4c48-f1ca-9a66aef557dc"
   },
   "outputs": [
    {
     "name": "stdout",
     "output_type": "stream",
     "text": [
      "[5, 1, 2, 3, 4, 5, 6, 7]\n",
      "[5, 1, 2, 3, 4, 5, 6, 7, 7]\n",
      "[5, 1, 2, 3, 4, 5, 6, 7, 7, 7]\n"
     ]
    }
   ],
   "source": [
    "# # 리스트 확장\n",
    "# h = [1,2,3]\n",
    "# h.extend([4,5]) # .extend 하고 () 소괄호를 사용해서 추가!\n",
    "# print(h)\n",
    "# h.append(6) # .append하고 () 소괄호 숫자 하나만 추가\n",
    "# print(h)\n",
    "# h.insert(0,5) # .insert하고 () 0번째인덱스에 5라는 숫자를 추가\n",
    "# print(h)\n",
    "\n",
    "# 리스트 h 에 마지막 인덱스 7을 추가하는데, 가능한 모든 방법을 다 해보기\n",
    "h = [5, 1, 2, 3, 4, 5, 6]\n",
    "# 1. extend 사용\n",
    "h.extend([7])\n",
    "print(h) #7성공\n",
    "# 2. append 사용\n",
    "h.append(7)\n",
    "print(h) #7성공\n",
    "# 3. insert 사용\n",
    "h.insert(7,7)\n",
    "print(h)"
   ]
  },
  {
   "cell_type": "code",
   "execution_count": null,
   "id": "2e6a2ab5",
   "metadata": {
    "id": "2e6a2ab5",
    "outputId": "afbb9ebe-2bac-40f8-be82-176b106513c7"
   },
   "outputs": [
    {
     "data": {
      "text/plain": [
       "array([ 50,  51,  52,  53,  54,  55,  56,  57,  58,  59,  60,  61,  62,\n",
       "        63,  64,  65,  66,  67,  68,  69,  70,  71,  72,  73,  74,  75,\n",
       "        76,  77,  78,  79,  80,  81,  82,  83,  84,  85,  86,  87,  88,\n",
       "        89,  90,  91,  92,  93,  94,  95,  96,  97,  98,  99, 100])"
      ]
     },
     "execution_count": 82,
     "metadata": {},
     "output_type": "execute_result"
    }
   ],
   "source": [
    "import numpy as np\n",
    "li = np.arange(50, 101)\n",
    "li #나중에 배울것임"
   ]
  },
  {
   "cell_type": "code",
   "execution_count": null,
   "id": "73485e72",
   "metadata": {
    "id": "73485e72",
    "outputId": "01130ae1-2d5a-42c9-a67b-3d484cf384d4"
   },
   "outputs": [
    {
     "data": {
      "text/plain": [
       "[1, 2, 3, 4]"
      ]
     },
     "execution_count": 88,
     "metadata": {},
     "output_type": "execute_result"
    }
   ],
   "source": [
    "# 인덱싱\n",
    "# list = [1,2,3,4,5]\n",
    "list1[2]\n",
    "list1[0:2] # [1,2]\n",
    "list1[:4] # 0은 생략가능"
   ]
  },
  {
   "cell_type": "code",
   "execution_count": null,
   "id": "df5c6505",
   "metadata": {
    "id": "df5c6505",
    "outputId": "59854577-9f7d-4a6b-c340-388c85719af4"
   },
   "outputs": [
    {
     "data": {
      "text/plain": [
       "'a'"
      ]
     },
     "execution_count": 89,
     "metadata": {},
     "output_type": "execute_result"
    }
   ],
   "source": [
    "# a를 뽑아라\n",
    "list3 = [1,'a','abc',[1,2,3,4,5],['a', 'b', 'c']]\n",
    "list3[1] # a는 인덱스가 1이라서 1넣으면 a 나옴"
   ]
  },
  {
   "cell_type": "code",
   "execution_count": null,
   "id": "0a56dee4",
   "metadata": {
    "id": "0a56dee4",
    "outputId": "1d3d9a01-da0e-4310-9126-46a4972d5162"
   },
   "outputs": [
    {
     "data": {
      "text/plain": [
       "list"
      ]
     },
     "execution_count": 2,
     "metadata": {},
     "output_type": "execute_result"
    }
   ],
   "source": [
    "list # 키워드라서 문자로 출력"
   ]
  },
  {
   "cell_type": "code",
   "execution_count": null,
   "id": "0ddbcfff",
   "metadata": {
    "id": "0ddbcfff",
    "outputId": "04fcca44-608c-475f-f0cd-9ceaf3a03e75"
   },
   "outputs": [
    {
     "data": {
      "text/plain": [
       "list[2]"
      ]
     },
     "execution_count": 1,
     "metadata": {},
     "output_type": "execute_result"
    }
   ],
   "source": [
    "# [1,2,3,4,5]안의 3을 뽑아라\n",
    "list3 = [1,'a','abc',[1,2,3,4,5],['a', 'b', 'c']]\n",
    "list[2] # list 앞에 아마도 ? print 생략? 위에 list 를 각주처리하고 커널 리스타트하면 list[2] 나옴"
   ]
  },
  {
   "cell_type": "code",
   "execution_count": null,
   "id": "1f3996dc",
   "metadata": {
    "id": "1f3996dc",
    "outputId": "de7dc451-8f59-425e-bb79-b8e4ba325aad"
   },
   "outputs": [
    {
     "data": {
      "text/plain": [
       "'b'"
      ]
     },
     "execution_count": 95,
     "metadata": {},
     "output_type": "execute_result"
    }
   ],
   "source": [
    "# 마지막 인덱스의 리스트에서 b를 출력\n",
    "list3 = [1,'a','abc',[1,2,3,4,5],['a', 'b', 'c']]\n",
    "list3[4][1]"
   ]
  },
  {
   "cell_type": "code",
   "execution_count": null,
   "id": "16a38c78",
   "metadata": {
    "id": "16a38c78",
    "outputId": "2767d827-1f1f-44bf-bbdd-a3def136d658"
   },
   "outputs": [
    {
     "name": "stdout",
     "output_type": "stream",
     "text": [
      "[1, 1, 2, 3, 4, 5, 6, 7, 8, 9]\n"
     ]
    }
   ],
   "source": [
    "a = [0, 1, 2, 3, 4, 5, 6, 7, 8, 9]\n",
    "b = ['a', 'b', 'c']\n",
    "a[0] = 1 # a자리에 1을 대입\n",
    "print(a)"
   ]
  },
  {
   "cell_type": "code",
   "execution_count": null,
   "id": "b223c21b",
   "metadata": {
    "id": "b223c21b",
    "outputId": "e1d5e0be-130d-46a6-df26-22c9978d4f94"
   },
   "outputs": [
    {
     "name": "stdout",
     "output_type": "stream",
     "text": [
      "['a', 'a', 'c']\n"
     ]
    }
   ],
   "source": [
    "# b 리스트안에 b에다가 a바꿔서 출력\n",
    "# 솔루션 한정현\n",
    "a = [0, 1, 2, 3, 4, 5, 6, 7, 8, 9]\n",
    "b = ['a', 'b', 'c']\n",
    "b[1]='a'\n",
    "print(b)"
   ]
  },
  {
   "cell_type": "code",
   "execution_count": null,
   "id": "761ef03d",
   "metadata": {
    "id": "761ef03d",
    "outputId": "082150fd-40fb-4423-c9ee-98fe5f53591c"
   },
   "outputs": [
    {
     "name": "stdout",
     "output_type": "stream",
     "text": [
      "[1, 2, 3, 4, 5, 6, 7, 8, 9]\n"
     ]
    }
   ],
   "source": [
    "# 리스트 수정, 삭제\n",
    "a = [0, 1, 2, 3, 4, 5, 6, 7, 8, 9]\n",
    "b = ['a', 'b', 'c']\n",
    "del a[0]\n",
    "print(a)"
   ]
  },
  {
   "cell_type": "code",
   "execution_count": null,
   "id": "005632aa",
   "metadata": {
    "id": "005632aa",
    "outputId": "7169c71e-963c-4d92-a79d-a368bffea762"
   },
   "outputs": [
    {
     "name": "stdout",
     "output_type": "stream",
     "text": [
      "['a', 'c']\n"
     ]
    }
   ],
   "source": [
    "# 리스트 수정, 삭제\n",
    "# b 리스트에서 a 와 c 만나오게끔 b만 삭제 해서 출력\n",
    "a = [0, 1, 2, 3, 4, 5, 6, 7, 8, 9]\n",
    "b = ['a', 'b', 'c']\n",
    "del b[1]\n",
    "print(b)"
   ]
  },
  {
   "cell_type": "markdown",
   "id": "4cb8fbcd",
   "metadata": {
    "id": "4cb8fbcd"
   },
   "source": [
    "[과제3] list1에서 다음을 수행하세요\n",
    "- 33을 출력\n",
    "- 82를 리스트에 추가\n",
    "- 87의 인덱스 구하기\n",
    "- 인덱스 3에서 10까지의 값을 출력하고 list2에 저장한 후 내림차순 정렬하기 - 도전\n",
    "- 39를 11로 변경\n",
    "- [69,45,58] 출력\n",
    "- 짝수 인덱스의 값으로 구성된 리스트 출력하기\n",
    "- 인덱스가 가장 큰수를 삭제하기\n",
    "- 인덱스 3, 5인 값으로 4칙 연산하기\n",
    "\n",
    "list1 = [58, 45, 69, 19,  4, 87, 29, 13, 39, 15, 54, [8, 33, 11], 27, 49, 63, 98, 22, 82]"
   ]
  },
  {
   "cell_type": "code",
   "execution_count": null,
   "id": "bf54b413",
   "metadata": {
    "id": "bf54b413",
    "outputId": "c90cfbae-79c5-47a8-a98e-cb9e8315298d",
    "scrolled": false
   },
   "outputs": [
    {
     "name": "stdout",
     "output_type": "stream",
     "text": [
      "106\n",
      "-68\n",
      "1653\n",
      "0.21839080459770116\n"
     ]
    }
   ],
   "source": [
    "# 솔루션 한정현\n",
    "\n",
    "list1 = [58, 45, 69, 19, 4, 87, 29, 13, 39, 15, 54, [8, 33, 11], 27, 49, 63, 98, 22, 82]\n",
    "\n",
    "# 33을 출력\n",
    "list1[11][1]\n",
    "\n",
    "# 82를 리스트에 추가\n",
    "list1.append(82)\n",
    "print(list1)\n",
    "\n",
    "# 87의 인덱스 구하기\n",
    "list1.index(87)\n",
    "\n",
    "# 인덱스 3에서 10까지의 값을 출력하고 list2에 저장한 후 내림차순 정렬하기 - 도전\n",
    "\n",
    "# 39를 11로 변경\n",
    "list1.index(39)\n",
    "list1[8] = 11\n",
    "print(list1)\n",
    "\n",
    "# [69,45,58] 출력\n",
    "list1.index(69), list1.index(45), list1.index(58), list1.index(82)\n",
    "list1[-19:-16] # 69,45,58순서대로 하려고했는데 안됨..\n",
    "list1[0:3]\n",
    "\n",
    "# [69,45,58] 출력 답안\n",
    "list1[2:0:-1] # 69, 45 임 끝에 -1 하면 거꾸로 됨\n",
    "list1[2::-1] # 69, 45, 58 가운데 0 안적으면 인덱스 0 도 나옴\n",
    "print(list1[::-1]) # 처음부터 끝까지 출력하는데 거꾸로(-1)\n",
    "print(list1[::]) # print(list1) 과 같은 결과 처음부터 끝까지 출력\n",
    "print(list1[:-3:-1]) # 82, 82 거꾸로 인덱스 2개 출력\n",
    "\n",
    "# 짝수 인덱스의 값으로 구성된 리스트 출력하기\n",
    "print(list1[0:]) # 처음부터 끝까지\n",
    "print(list1[0::2]) # 처음부터 끝까지 출력하는데 하나 건너서~\n",
    "\n",
    "# 인덱스가 가장 큰수를 삭제하기\n",
    "list1.index(98)\n",
    "del list1[15]\n",
    "print(list1)\n",
    "\n",
    "# 인덱스 3, 5인 값으로 4칙 연산하기\n",
    "list1[3], list1[5] # 인덱스 3 = 19, 인덱스 5 = 87\n",
    "list1[3]+list1[5] # 덧셈 19 + 87 = 106\n",
    "list1[3]-list1[5] # 뺄셈 19 - 87 = -68\n",
    "list1[3]*list1[5] # 곱셈 19 * 87 = 1653\n",
    "list1[3]**list1[5] # 제곱 19 ^ 87 = 1784692024660069843400588950089820848205359612815447007430736376271289420707549395931423768497105136108949665339\n",
    "list1[3]/list1[5] # 나눗셈 19 / 87 = 0.21839080459770116\n",
    "list1[3]//list1[5] # 나눈 후의 몫 19 // 87 = 0\n",
    "list1[3]%list1[5] # 나머지 19 % 87 = 19\n",
    "\n",
    "# 인덱스 3, 5인 값으로 4칙 연산하기\n",
    "a=list1[3]; b=list1[5]\n",
    "print(a)\n",
    "print(b)\n",
    "print(a + b)\n",
    "print(a - b)\n",
    "print(a * b)\n",
    "print(a / b)"
   ]
  },
  {
   "cell_type": "markdown",
   "id": "8390c095",
   "metadata": {
    "id": "8390c095"
   },
   "source": [
    "#### sort 와 sorted 차이점\n",
    "\n",
    "1. 메서드 vs 함수:\n",
    "\n",
    "- sort(): 리스트 객체의 내장 메서드입니다. 즉, 리스트에서만 사용할 수 있습니다.\n",
    "- sorted(): 파이썬 내장 함수로, 어떤 반복 가능한(iterable) 객체에도 사용될 수 있습니다.\n",
    "    예를 들면 리스트, 튜플, 딕셔너리, 문자열 등에 사용할 수 있습니다.\n",
    "\n",
    "2. 반환 값:\n",
    "\n",
    "- sort(): 리스트를 원 위치에서(in-place) 정렬하고 None을 반환합니다.\n",
    "    따라서 원래의 리스트 자체가 변경됩니다.\n",
    "- sorted(): 정렬된 새로운 리스트를 반환합니다. 원래의 객체는 변경되지 않습니다.\n",
    "\n",
    "3. 유용성:\n",
    "\n",
    "- sort(): 리스트에서만 작동하기 때문에 리스트만 정렬할 수 있습니다.\n",
    "- sorted(): 다양한 객체를 정렬할 수 있으며 결과는 항상 리스트로 반환됩니다"
   ]
  },
  {
   "cell_type": "code",
   "execution_count": null,
   "id": "b6e8e7dc",
   "metadata": {
    "id": "b6e8e7dc",
    "outputId": "443f3909-37df-4009-849d-caa2fab88a27"
   },
   "outputs": [
    {
     "name": "stdout",
     "output_type": "stream",
     "text": [
      "[1, 2, 3]\n",
      "(3, 1, 2)\n",
      "[1, 2, 3]\n"
     ]
    }
   ],
   "source": [
    "# sort()\n",
    "my_list = [3, 1, 2]\n",
    "my_list.sort()\n",
    "print(my_list) # [3, 1, 2] -> [1, 2, 3]으로 바뀌고 [3, 1, 2]는 None으로 반환됨\n",
    "\n",
    "# sorted()\n",
    "my_tuple = (3, 1, 2)\n",
    "new_list = sorted(my_tuple)\n",
    "print(my_tuple)\n",
    "print(new_list) #바뀌는데 None 으로 반환되지 않고 그냥 그대로 있음"
   ]
  },
  {
   "cell_type": "code",
   "execution_count": null,
   "id": "66a0a71b",
   "metadata": {
    "id": "66a0a71b",
    "outputId": "32d6f8e3-e1df-4c9c-edd3-5f6e166488f5"
   },
   "outputs": [
    {
     "name": "stdout",
     "output_type": "stream",
     "text": [
      "[5, 6, 7, 8, 9]\n",
      "None\n"
     ]
    }
   ],
   "source": [
    "list = [5,6,9,7,8]\n",
    "new_list=list.sort()\n",
    "print(list) # 순서대로 순서가 바뀌고 출력\n",
    "print(new_list) # 원래 리스트는 None 으로 반환"
   ]
  },
  {
   "cell_type": "code",
   "execution_count": null,
   "id": "8a83b8bd",
   "metadata": {
    "id": "8a83b8bd",
    "outputId": "c58eb48b-251c-4442-9b24-4ca6e53dec8e"
   },
   "outputs": [
    {
     "name": "stdout",
     "output_type": "stream",
     "text": [
      "[5, 6, 9, 7, 8]\n",
      "[5, 6, 7, 8, 9]\n"
     ]
    }
   ],
   "source": [
    "list = [5,6,9,7,8]\n",
    "new_list= sorted(list)\n",
    "print(list)\n",
    "print(new_list) # sort와 달리 원래 리스트가 남아있음"
   ]
  },
  {
   "cell_type": "code",
   "execution_count": null,
   "id": "0f4d25e4",
   "metadata": {
    "id": "0f4d25e4",
    "outputId": "f526b78c-5acb-4ee5-f260-e80f9975c0bb"
   },
   "outputs": [
    {
     "data": {
      "text/plain": [
       "[87, 54, 39, 29, 19, 15, 13, 4]"
      ]
     },
     "execution_count": 163,
     "metadata": {},
     "output_type": "execute_result"
    }
   ],
   "source": [
    "# 인덱스 3에서 10까지의 값을 출력하고 list2에 저장한 후 내림차순 정렬하기 - 도전\n",
    "\n",
    "list1 = [58, 45, 69, 19, 4, 87, 29, 13, 39, 15, 54, [8, 33, 11], 27, 49, 63, 98, 22, 82]\n",
    "list2 = list1[3:11] # 인덱스 3에서 10까지 출력이면 [3:11] 로 해야함!\n",
    "# list2.sorted(reverse=True)\n",
    "# print(list2) # 이건 오류뜸 sorted 쓰려면 저장공간 만들어서 하자\n",
    "l_sort = sorted(list2,reverse=True) # ,reverse=True 거꾸로 출력\n",
    "l_sort"
   ]
  },
  {
   "cell_type": "code",
   "execution_count": null,
   "id": "4a1415c5",
   "metadata": {
    "id": "4a1415c5",
    "outputId": "958d2e2e-27f1-4a63-9bf0-80b5ad768f84"
   },
   "outputs": [
    {
     "name": "stdout",
     "output_type": "stream",
     "text": [
      "[87, 54, 39, 29, 19, 15, 13, 4]\n"
     ]
    }
   ],
   "source": [
    "list3 = list1[3:11] # list3은 list1의 3부터 11까지다\n",
    "list3.sort(reverse=True) # list3을 sort로 순서대로 하고, reverse로 거꾸로함\n",
    "print(list3) # 출력"
   ]
  },
  {
   "cell_type": "markdown",
   "id": "cc1e0461",
   "metadata": {
    "id": "cc1e0461"
   },
   "source": [
    "[과제4] 아래 list를 sort, sorted 를 이용해서 올림차순, 내림차순으로 각각 출력하세요."
   ]
  },
  {
   "cell_type": "code",
   "execution_count": null,
   "id": "3e7e4d25",
   "metadata": {
    "id": "3e7e4d25"
   },
   "outputs": [],
   "source": [
    "list = [5, 8, 11, 14, 17, 20, 23, 26, 29, 32, 35, 38, 41, 44, 47, 3, 5, 7, 9, 11, 13, 15, 17]"
   ]
  },
  {
   "cell_type": "code",
   "execution_count": null,
   "id": "7ba4b916",
   "metadata": {
    "id": "7ba4b916"
   },
   "outputs": [],
   "source": [
    "# 자료형 = Tuple\n",
    "# 튜플의 요소 값은 변경할 수 없음\n",
    "# immutable 프로그램에서 그 값이 항상 변하지 않아야되는 경우 사용"
   ]
  },
  {
   "cell_type": "code",
   "execution_count": null,
   "id": "a571f037",
   "metadata": {
    "id": "a571f037",
    "outputId": "692a9a19-9d14-441f-b258-f7f59407dd48"
   },
   "outputs": [
    {
     "data": {
      "text/plain": [
       "3"
      ]
     },
     "execution_count": 175,
     "metadata": {},
     "output_type": "execute_result"
    }
   ],
   "source": [
    "tuple1 = (1,2,3,4,5)\n",
    "tuple2 = ('a','b','c')\n",
    "tuple3 = (1,'a','abc',[1,2,3,4,5],['a', 'b', 'c'])\n",
    "\n",
    "tuple1[:]\n",
    "tuple1[2]\n",
    "tuple3[3][2]"
   ]
  },
  {
   "cell_type": "code",
   "execution_count": null,
   "id": "6ae6567d",
   "metadata": {
    "id": "6ae6567d",
    "outputId": "5c384281-6822-4638-9244-aa8734b9bb3f"
   },
   "outputs": [
    {
     "ename": "IndexError",
     "evalue": "list assignment index out of range",
     "output_type": "error",
     "traceback": [
      "\u001b[1;31m---------------------------------------------------------------------------\u001b[0m",
      "\u001b[1;31mIndexError\u001b[0m                                Traceback (most recent call last)",
      "Cell \u001b[1;32mIn[224], line 2\u001b[0m\n\u001b[0;32m      1\u001b[0m \u001b[38;5;66;03m# list = [1,2,3,4,5]\u001b[39;00m\n\u001b[1;32m----> 2\u001b[0m \u001b[38;5;28mlist\u001b[39m[\u001b[38;5;241m0\u001b[39m] \u001b[38;5;241m=\u001b[39m \u001b[38;5;241m0\u001b[39m\n\u001b[0;32m      3\u001b[0m \u001b[38;5;28mlist\u001b[39m\n",
      "\u001b[1;31mIndexError\u001b[0m: list assignment index out of range"
     ]
    }
   ],
   "source": [
    "# list = [1,2,3,4,5]\n",
    "list[0] = 0\n",
    "list"
   ]
  },
  {
   "cell_type": "code",
   "execution_count": null,
   "id": "ea1c72b8",
   "metadata": {
    "id": "ea1c72b8",
    "outputId": "976e5203-4af8-48ff-e2d8-e5019c222cb9",
    "scrolled": true
   },
   "outputs": [
    {
     "ename": "TypeError",
     "evalue": "'tuple' object does not support item assignment",
     "output_type": "error",
     "traceback": [
      "\u001b[1;31m---------------------------------------------------------------------------\u001b[0m",
      "\u001b[1;31mTypeError\u001b[0m                                 Traceback (most recent call last)",
      "Cell \u001b[1;32mIn[177], line 2\u001b[0m\n\u001b[0;32m      1\u001b[0m \u001b[38;5;28mtuple\u001b[39m \u001b[38;5;241m=\u001b[39m (\u001b[38;5;241m1\u001b[39m,\u001b[38;5;241m2\u001b[39m,\u001b[38;5;241m3\u001b[39m,\u001b[38;5;241m4\u001b[39m,\u001b[38;5;241m5\u001b[39m)\n\u001b[1;32m----> 2\u001b[0m \u001b[38;5;28mtuple\u001b[39m[\u001b[38;5;241m0\u001b[39m] \u001b[38;5;241m=\u001b[39m \u001b[38;5;241m0\u001b[39m\n\u001b[0;32m      3\u001b[0m \u001b[38;5;28mtuple\u001b[39m\n",
      "\u001b[1;31mTypeError\u001b[0m: 'tuple' object does not support item assignment"
     ]
    }
   ],
   "source": [
    "tuple = (1,2,3,4,5)\n",
    "tuple[0] = 0\n",
    "tuple # 에러가 나오는 이유는 튜플의 immutable특징. 요소가 변할 수 없음"
   ]
  },
  {
   "cell_type": "code",
   "execution_count": null,
   "id": "69ad8c9a",
   "metadata": {
    "id": "69ad8c9a",
    "outputId": "986ba42f-5774-4a91-b535-4a62ccbfba5e"
   },
   "outputs": [
    {
     "name": "stdout",
     "output_type": "stream",
     "text": [
      "[1]\n"
     ]
    }
   ],
   "source": [
    "l1 = [1]\n",
    "print(l1) # 리스트에서는 요소가 1개여도 콤마로 구분 안해줘도되는데 튜플은해야함"
   ]
  },
  {
   "cell_type": "code",
   "execution_count": null,
   "id": "cf71acbc",
   "metadata": {
    "id": "cf71acbc",
    "outputId": "2db4e32a-38ca-4a46-e5b6-e45d08d88c54"
   },
   "outputs": [
    {
     "name": "stdout",
     "output_type": "stream",
     "text": [
      "(1,)\n"
     ]
    }
   ],
   "source": [
    "t1 = (1,) # 1개의 요소만 가질 때는 요소뒤에 콤마를 붙여야 함\n",
    "print(t1)"
   ]
  },
  {
   "cell_type": "code",
   "execution_count": null,
   "id": "4684dfc1",
   "metadata": {
    "id": "4684dfc1",
    "outputId": "82c226c2-0693-4bbc-f01a-1b9060b288b4"
   },
   "outputs": [
    {
     "name": "stdout",
     "output_type": "stream",
     "text": [
      "1\n"
     ]
    },
    {
     "data": {
      "text/plain": [
       "int"
      ]
     },
     "execution_count": 192,
     "metadata": {},
     "output_type": "execute_result"
    }
   ],
   "source": [
    "tl = (1) # , 안했을 경우임. 이건 그냥 정수 괄호도 생략가능함\n",
    "print(tl)\n",
    "type(tl) # 튜플은 요소가 하나일때 콤마로 구분을 안하면 타입이 튜플이아님"
   ]
  },
  {
   "cell_type": "code",
   "execution_count": null,
   "id": "56ddf9c7",
   "metadata": {
    "id": "56ddf9c7",
    "outputId": "00809667-4e93-47ed-d71b-5631043e5373"
   },
   "outputs": [
    {
     "name": "stdout",
     "output_type": "stream",
     "text": [
      "(1,)\n"
     ]
    },
    {
     "data": {
      "text/plain": [
       "tuple"
      ]
     },
     "execution_count": 191,
     "metadata": {},
     "output_type": "execute_result"
    }
   ],
   "source": [
    "tl = (1,) # , 넣으면 바로 정수아닌 튜플. 괄호도 생략가능함\n",
    "print(tl)\n",
    "type(tl)  # 튜플은 콤마로 구분하고 타입은 튜플"
   ]
  },
  {
   "cell_type": "code",
   "execution_count": null,
   "id": "f0a863aa",
   "metadata": {
    "id": "f0a863aa",
    "outputId": "0123c58a-0cf6-48fb-b74a-6a72df549119",
    "scrolled": true
   },
   "outputs": [
    {
     "name": "stdout",
     "output_type": "stream",
     "text": [
      "(1, 2, 3)\n"
     ]
    }
   ],
   "source": [
    "t2 = 1,2,3 # 튜플은 괄호를 생략가능!\n",
    "print(t2)"
   ]
  },
  {
   "cell_type": "code",
   "execution_count": null,
   "id": "43e6343d",
   "metadata": {
    "id": "43e6343d",
    "outputId": "859c879b-4f5c-4964-b269-17bab4f45117"
   },
   "outputs": [
    {
     "data": {
      "text/plain": [
       "(1, 1, 2, 3)"
      ]
     },
     "execution_count": 193,
     "metadata": {},
     "output_type": "execute_result"
    }
   ],
   "source": [
    "t2 * 3\n",
    "t1 + t2 # 튜플끼리 더하고 곱하고 가능"
   ]
  },
  {
   "cell_type": "code",
   "execution_count": null,
   "id": "97b998dd",
   "metadata": {
    "id": "97b998dd"
   },
   "outputs": [],
   "source": [
    "# 자료형 - 사전(키와 값을 하나의 요소로 하는 순서가 없는 집합)\n",
    "[a:1, b:2]"
   ]
  },
  {
   "cell_type": "code",
   "execution_count": null,
   "id": "b297b649",
   "metadata": {
    "id": "b297b649",
    "outputId": "466165bd-51a1-41a1-e6bf-57314873f868"
   },
   "outputs": [
    {
     "name": "stdout",
     "output_type": "stream",
     "text": [
      "1\n"
     ]
    }
   ],
   "source": [
    "d1 = {'a':1,'b':2,'c':3}\n",
    "print(d1['a'])"
   ]
  },
  {
   "cell_type": "code",
   "execution_count": null,
   "id": "1dda8545",
   "metadata": {
    "id": "1dda8545",
    "outputId": "85ea2e7c-186f-482b-f95d-c1d706a63ad4"
   },
   "outputs": [
    {
     "data": {
      "text/plain": [
       "dict_keys(['a', 'b', 'c'])"
      ]
     },
     "execution_count": 200,
     "metadata": {},
     "output_type": "execute_result"
    }
   ],
   "source": [
    "d1.keys() # .keys()키"
   ]
  },
  {
   "cell_type": "code",
   "execution_count": null,
   "id": "922fbca4",
   "metadata": {
    "id": "922fbca4",
    "outputId": "1f264bf4-19f9-4cec-8382-8858813218de"
   },
   "outputs": [
    {
     "data": {
      "text/plain": [
       "dict_values([1, 2, 3])"
      ]
     },
     "execution_count": 203,
     "metadata": {},
     "output_type": "execute_result"
    }
   ],
   "source": [
    "d1.values() # .values()값"
   ]
  },
  {
   "cell_type": "code",
   "execution_count": null,
   "id": "e0ca0cb0",
   "metadata": {
    "id": "e0ca0cb0",
    "outputId": "d88067c4-99c7-4408-a0e5-fc1af75f1d8e"
   },
   "outputs": [
    {
     "data": {
      "text/plain": [
       "dict_items([('a', 1), ('b', 2), ('c', 3)])"
      ]
     },
     "execution_count": 204,
     "metadata": {},
     "output_type": "execute_result"
    }
   ],
   "source": [
    "d1.items() # .items()키와 값을 모두 뽑아줌"
   ]
  },
  {
   "cell_type": "code",
   "execution_count": null,
   "id": "535046dd",
   "metadata": {
    "id": "535046dd",
    "outputId": "44306a2c-2569-42f9-f383-2a1c2e58b722",
    "scrolled": true
   },
   "outputs": [
    {
     "data": {
      "text/plain": [
       "{'a': 1, 'b': 2, 'c': 3, 'd': 4}"
      ]
     },
     "execution_count": 205,
     "metadata": {},
     "output_type": "execute_result"
    }
   ],
   "source": [
    "d1['d'] = 4 # 키&값을 추가\n",
    "d1"
   ]
  },
  {
   "cell_type": "code",
   "execution_count": null,
   "id": "626ba22f",
   "metadata": {
    "id": "626ba22f",
    "outputId": "f468b072-3193-4bc9-e9bb-c23696f4497d"
   },
   "outputs": [
    {
     "data": {
      "text/plain": [
       "{'a': 1, 'b': 7, 'c': 3, 'd': 4}"
      ]
     },
     "execution_count": 207,
     "metadata": {},
     "output_type": "execute_result"
    }
   ],
   "source": [
    "# 값2를 값7로 바꾸기\n",
    "d1['b'] = 7\n",
    "d1 # 원래 2었는데 7로 바꿨음"
   ]
  },
  {
   "cell_type": "code",
   "execution_count": null,
   "id": "19f2e8b6",
   "metadata": {
    "id": "19f2e8b6"
   },
   "outputs": [],
   "source": [
    "# 자료형 - 집합, set(중복을 허용하지 않으며 순서가 없다.)"
   ]
  },
  {
   "cell_type": "code",
   "execution_count": null,
   "id": "3236d7ed",
   "metadata": {
    "id": "3236d7ed",
    "outputId": "49055d6c-9549-49fd-d2c3-56a061f926ed"
   },
   "outputs": [
    {
     "name": "stdout",
     "output_type": "stream",
     "text": [
      "{1, 2, 3, 4, 5}\n",
      "{'H', 'l', 'e', 'o'}\n"
     ]
    }
   ],
   "source": [
    "s1 = set([1,2,5,4,3])\n",
    "s2 = set('Hello')\n",
    "print(s1)\n",
    "print(s2) # 순서가 없어서 정말 각각 다른 순서대로 나옴 # 순서가 없으면 인덱싱 불가능"
   ]
  },
  {
   "cell_type": "code",
   "execution_count": null,
   "id": "5238e227",
   "metadata": {
    "id": "5238e227",
    "outputId": "ef016f1e-66d4-4528-a828-48d4bf344e38",
    "scrolled": true
   },
   "outputs": [
    {
     "data": {
      "text/plain": [
       "2"
      ]
     },
     "execution_count": 13,
     "metadata": {},
     "output_type": "execute_result"
    }
   ],
   "source": [
    "# 오류가 생기면 커널 셧다운 하고 다시 런 할때 메모리에 s1 s2 를 넣어야 변환이 가능!\n",
    "# 위에걸 다시 실행하고 실행하면 됨\n",
    "li = list(s1)\n",
    "li[1]"
   ]
  },
  {
   "cell_type": "code",
   "execution_count": null,
   "id": "040c78f6",
   "metadata": {
    "id": "040c78f6",
    "outputId": "c26b1c44-26ee-4b4d-d627-65bb78d2d3a7"
   },
   "outputs": [
    {
     "name": "stdout",
     "output_type": "stream",
     "text": [
      "o\n"
     ]
    }
   ],
   "source": [
    "li = list(s2)\n",
    "print(li[3]) # H l e o 0 1 2 3"
   ]
  },
  {
   "cell_type": "code",
   "execution_count": null,
   "id": "8f817b1a",
   "metadata": {
    "id": "8f817b1a",
    "outputId": "98abda2f-9d8b-4036-c7b7-453d17eb9688"
   },
   "outputs": [
    {
     "name": "stdout",
     "output_type": "stream",
     "text": [
      "o\n"
     ]
    }
   ],
   "source": [
    "l2 = list(s2)\n",
    "print(l2[3])"
   ]
  },
  {
   "cell_type": "code",
   "execution_count": null,
   "id": "6361af66",
   "metadata": {
    "id": "6361af66",
    "outputId": "a206f3c0-fc32-41c1-8405-9b7963345cb8"
   },
   "outputs": [
    {
     "name": "stdout",
     "output_type": "stream",
     "text": [
      "[1, 2, 3, 4, 5, 6, 7, 8, 9]\n",
      "[4, 5, 6]\n"
     ]
    }
   ],
   "source": [
    "# Q. s1, s2의 합집합과 교집합을 각각 리스트로 출력하세요.\n",
    "s1 = set([1,2,3,4,5,6])\n",
    "s2 = set([4,5,6,7,8,9])\n",
    "print(list(s1|s2)) # 합집합 or -> | 로 표현\n",
    "print(list(s1&s2)) # 교집합 and & 로 표현"
   ]
  },
  {
   "cell_type": "markdown",
   "id": "85c8ce98",
   "metadata": {
    "id": "85c8ce98"
   },
   "source": [
    "#### True와 False\n",
    "- 파이썬에서 참과 거짓을 나타내는 상수. True는 1, False는 0의 값을 가짐\n",
    "- 조건을 판단해서 그 조건이 참이면 True, 거짓이면 False를 return"
   ]
  },
  {
   "cell_type": "code",
   "execution_count": null,
   "id": "09f0791d",
   "metadata": {
    "id": "09f0791d",
    "outputId": "b0d244d2-5923-468d-bd70-623b28d7bb17"
   },
   "outputs": [
    {
     "name": "stdout",
     "output_type": "stream",
     "text": [
      "False\n",
      "False\n",
      "False\n",
      "True\n",
      "True\n"
     ]
    }
   ],
   "source": [
    "# 자료형 - 논리(Bool) 블린 인덱싱\n",
    "print(bool(0)) # 0 이거나 없으면 False\n",
    "print(bool(''))\n",
    "print(bool([]))\n",
    "print(bool(1)) # 1 이거나 다른 숫자면 True\n",
    "print(bool(-100.1))"
   ]
  },
  {
   "cell_type": "code",
   "execution_count": null,
   "id": "a684bd19",
   "metadata": {
    "id": "a684bd19",
    "outputId": "db50b34c-8bb4-4333-c9dd-ad2b2a088959"
   },
   "outputs": [
    {
     "name": "stdout",
     "output_type": "stream",
     "text": [
      "False\n",
      "True\n",
      "False\n",
      "True\n",
      "True\n"
     ]
    }
   ],
   "source": [
    "# 관계 연산자\n",
    "x = 1; y=2 # 세미콜론\n",
    "str1 = 'abc'; str2 = 'python' # 세미콜론\n",
    "print(x == y)\n",
    "print(x != y)\n",
    "print(str1 == str2)\n",
    "print(str2 == 'python')\n",
    "print(str1 < str2) # str2가(python) abc인 str1보다 길어서 true"
   ]
  },
  {
   "cell_type": "code",
   "execution_count": null,
   "id": "9311bd94",
   "metadata": {
    "id": "9311bd94",
    "outputId": "90a2bc01-ced8-478d-cb84-587a3fc75208"
   },
   "outputs": [
    {
     "name": "stdout",
     "output_type": "stream",
     "text": [
      "False\n",
      "True\n",
      "False\n",
      "True\n"
     ]
    }
   ],
   "source": [
    "# 논리 연산자\n",
    "bool1 = True; bool2 = False; bool3 = True; bool4 = False\n",
    "print(bool1 and bool2)\n",
    "print(bool1 or bool2)\n",
    "print(not bool3) # bool3 가 True 이니까 그 반대는 False\n",
    "print(not bool4)\n"
   ]
  },
  {
   "cell_type": "markdown",
   "id": "24ba00bf",
   "metadata": {
    "id": "24ba00bf"
   },
   "source": [
    "#### 파이썬에서 들여쓰기\n",
    "- 파이썬에는 실행 코드 부분을 묶어주는 {} 괄호가 없다.\n",
    "- 대신 들여쓰기(indentation)로 {}를 대신한다.\n",
    "- 제어문이나 함수이름, 클래스 이름 뒤에 콜론(':')으로\n",
    "제어문, 함수이름, 클래스 이름의 끝을 표시하며 ':' 다음에 실행 코드를 작성"
   ]
  },
  {
   "cell_type": "code",
   "execution_count": null,
   "id": "df1d8edb",
   "metadata": {
    "id": "df1d8edb",
    "outputId": "1a6b0789-08ae-4b52-f765-4935afb8811d"
   },
   "outputs": [
    {
     "ename": "IndentationError",
     "evalue": "expected an indented block after 'if' statement on line 1 (1296752891.py, line 2)",
     "output_type": "error",
     "traceback": [
      "\u001b[1;36m  Cell \u001b[1;32mIn[34], line 2\u001b[1;36m\u001b[0m\n\u001b[1;33m    print(5)\u001b[0m\n\u001b[1;37m    ^\u001b[0m\n\u001b[1;31mIndentationError\u001b[0m\u001b[1;31m:\u001b[0m expected an indented block after 'if' statement on line 1\n"
     ]
    }
   ],
   "source": [
    "# 들여쓰기 안하면 오류 예시\n",
    "if 5 > 3: # 들여쓰기(indentation)로 {}를 대신한다. java에선 {}씀\n",
    "print(5) # IndentationError: expected an indented block after 'if' statement on line 1"
   ]
  },
  {
   "cell_type": "code",
   "execution_count": null,
   "id": "9fd08522",
   "metadata": {
    "id": "9fd08522",
    "outputId": "56dd4960-784f-49d3-9ce7-2c7fe2f7554c"
   },
   "outputs": [
    {
     "name": "stdout",
     "output_type": "stream",
     "text": [
      "5\n"
     ]
    }
   ],
   "source": [
    "# 올바른 예시\n",
    "if 5 > 3:\n",
    "    print(5) # 들여쓰기를 해서 오류가 안나는 상태"
   ]
  },
  {
   "cell_type": "code",
   "execution_count": null,
   "id": "85afab0f",
   "metadata": {
    "id": "85afab0f",
    "outputId": "ba3f6bac-1414-40b6-8eb4-4d4e59add181",
    "scrolled": true
   },
   "outputs": [
    {
     "name": "stdout",
     "output_type": "stream",
     "text": [
      "a가 li에 있습니다.\n"
     ]
    }
   ],
   "source": [
    "li = ['a', 'b', 'c']\n",
    "if 'a' in li:\n",
    "    print('a가 li에 있습니다.')\n",
    "else:\n",
    "    print('a가 li에 없습니다.')"
   ]
  },
  {
   "cell_type": "code",
   "execution_count": null,
   "id": "3496388e",
   "metadata": {
    "id": "3496388e",
    "outputId": "72108985-5b86-4ce6-f515-64eb229e01fa"
   },
   "outputs": [
    {
     "name": "stdout",
     "output_type": "stream",
     "text": [
      "1\n"
     ]
    }
   ],
   "source": [
    "# 심주승님 솔루션\n",
    "li = ['a', 'b', 'c']\n",
    "\n",
    "if 'a' in li:\n",
    "    print(1)\n",
    "else :\n",
    "    print(2)"
   ]
  },
  {
   "cell_type": "code",
   "execution_count": null,
   "id": "6f256590",
   "metadata": {
    "id": "6f256590",
    "outputId": "897bb870-24a8-4d00-a1ca-b28cccf5ce02",
    "scrolled": false
   },
   "outputs": [
    {
     "name": "stdout",
     "output_type": "stream",
     "text": [
      "list의 요소에 a가 있습니다!\n"
     ]
    }
   ],
   "source": [
    "# 김신미님 솔루션\n",
    "li = ['a','b','c']\n",
    "char = 'a';\n",
    "\n",
    "if char in li:\n",
    "    print(\"list의 요소에 {}가 있습니다!\" .format(char))\n",
    "else:\n",
    "    print(\"list의 요소에 {}는 없습니다!\" .format(char))"
   ]
  },
  {
   "cell_type": "code",
   "execution_count": null,
   "id": "781dd342",
   "metadata": {
    "id": "781dd342",
    "outputId": "4c88dfbb-16f8-418a-a3de-0aad302eb6e0"
   },
   "outputs": [
    {
     "data": {
      "text/plain": [
       "6"
      ]
     },
     "execution_count": 1,
     "metadata": {},
     "output_type": "execute_result"
    }
   ],
   "source": [
    "numbers = [1, 2, 3]\n",
    "sum(numbers) # 내장된 함수"
   ]
  },
  {
   "cell_type": "code",
   "execution_count": null,
   "id": "b0485c92",
   "metadata": {
    "id": "b0485c92",
    "outputId": "c9301ee9-f380-48a8-b83f-6c8efaac3971"
   },
   "outputs": [
    {
     "data": {
      "text/plain": [
       "6"
      ]
     },
     "execution_count": 46,
     "metadata": {},
     "output_type": "execute_result"
    }
   ],
   "source": [
    "# 사용자 함수 # add는 함수이름. def 함수 만들기 라고 생각하면 됨\n",
    "def add(a,b,c):\n",
    "    return a + b + 3\n",
    "\n",
    "add(1,2,3) # a 하고 b가 인자값인데 사용자함수 에 넣음"
   ]
  },
  {
   "cell_type": "code",
   "execution_count": null,
   "id": "43d8860e",
   "metadata": {
    "id": "43d8860e",
    "outputId": "3d03ceb9-44b9-40dd-cb16-723547c8fb11"
   },
   "outputs": [
    {
     "name": "stdout",
     "output_type": "stream",
     "text": [
      "2\n",
      "1\n"
     ]
    }
   ],
   "source": [
    "class SubMul:\n",
    "    def sum(self,n1,n2):\n",
    "        return n1 + n2\n",
    "    def mul(self,n1,n2):\n",
    "        return n1 * n2\n",
    "\n",
    "obj1 = SubMul() # 객체 선언 # SubMul1이라는 붕어빵기계 가져와서 그 안에 있는 기능들을 객채들을 만들어주는거임\n",
    "print(obj1.sum(1,1)) # 덧셈을 가져와서 사용 .sum(1,1) 1+1\n",
    "obj2 = SubMul() # 객체 선언\n",
    "print(obj2.mul(1,1)) # obj2 는 곱셈을 하는 객체로 함"
   ]
  },
  {
   "cell_type": "code",
   "execution_count": null,
   "id": "29f47e5e",
   "metadata": {
    "id": "29f47e5e",
    "outputId": "01cab0d7-3022-41a4-e045-6b4ebf0eff5d"
   },
   "outputs": [
    {
     "data": {
      "text/plain": [
       "['나는', '오늘', '기분이', '좋아요']"
      ]
     },
     "execution_count": 4,
     "metadata": {},
     "output_type": "execute_result"
    }
   ],
   "source": [
    "# split()함수 공백을 기준으로 해서 나눠줌\n",
    "text = '나는 오늘 기분이 좋아요'\n",
    "words = text.split()\n",
    "words"
   ]
  },
  {
   "cell_type": "code",
   "execution_count": null,
   "id": "7eeb19cc",
   "metadata": {
    "id": "7eeb19cc"
   },
   "outputs": [],
   "source": [
    "# 복합대입연산자\n",
    "+= #더한다음에 대입하라"
   ]
  },
  {
   "cell_type": "code",
   "execution_count": null,
   "id": "f69fe10e",
   "metadata": {
    "id": "f69fe10e",
    "outputId": "2d4fffde-8b17-44f5-876d-69de4bb6beb1"
   },
   "outputs": [
    {
     "data": {
      "text/plain": [
       "20"
      ]
     },
     "execution_count": 6,
     "metadata": {},
     "output_type": "execute_result"
    }
   ],
   "source": [
    "num = 10\n",
    "num += 10 # num = num + 10\n",
    "num"
   ]
  },
  {
   "cell_type": "code",
   "execution_count": null,
   "id": "b6ec19e5",
   "metadata": {
    "id": "b6ec19e5",
    "outputId": "bde33007-19f0-484e-e81c-1098c81feb1a"
   },
   "outputs": [
    {
     "data": {
      "text/plain": [
       "1.0"
      ]
     },
     "execution_count": 11,
     "metadata": {},
     "output_type": "execute_result"
    }
   ],
   "source": [
    "# [과제5] 복합 대입연산자를 이용해서 4칙연산을 수행하세요\n",
    "\n",
    "num = 7\n",
    "num += 2\n",
    "num -= 2\n",
    "num *= 2\n",
    "num /= 2\n",
    "num //= 2\n",
    "num %= 2\n",
    "num"
   ]
  },
  {
   "cell_type": "code",
   "execution_count": null,
   "id": "f0c3df2a",
   "metadata": {
    "id": "f0c3df2a",
    "outputId": "964e1ce9-7a26-4afa-9862-7d8992a782e8"
   },
   "outputs": [
    {
     "name": "stdout",
     "output_type": "stream",
     "text": [
      "dog\n",
      "DOG\n"
     ]
    }
   ],
   "source": [
    "# 소문자, 대문자 변환\n",
    "# 개수셀때 dog DOG을 단어별로 카운트하려면 소문자던지 대문자던지 하나로 통일 해서 바꿔야함\n",
    "word = 'Dog'\n",
    "w1 = word.lower()\n",
    "print(w1)\n",
    "w2 = w1.upper()\n",
    "print(w2)"
   ]
  },
  {
   "cell_type": "markdown",
   "id": "ad695421",
   "metadata": {
    "id": "ad695421"
   },
   "source": [
    "#### [과제6] 다음 과제를 수행하세요.\n",
    "- 사용자로 부터 텍스트를 입력 받는다. input\n",
    "- 문장을 단어 단위로 분리 split\n",
    "- 단어의 빈도 수를 저장할 딕셔너리를 생성. 결과 생성할 것을 {}로 선언 word frequency를 딕셔너리로 선언. word_frequency = {}\n",
    "- 각 단어의 빈도 수를 계산(for 문 / if else문)\n",
    "- 결과 출력"
   ]
  },
  {
   "cell_type": "code",
   "execution_count": null,
   "id": "fb111588",
   "metadata": {
    "id": "fb111588",
    "outputId": "c0a01d18-d771-444b-e972-34d37457b9ca"
   },
   "outputs": [
    {
     "ename": "SyntaxError",
     "evalue": "invalid syntax. Perhaps you forgot a comma? (372878263.py, line 2)",
     "output_type": "error",
     "traceback": [
      "\u001b[1;36m  Cell \u001b[1;32mIn[21], line 2\u001b[1;36m\u001b[0m\n\u001b[1;33m    words_list = [나는 밥을 먹었다. 나는 학교에 간다.]\u001b[0m\n\u001b[1;37m                  ^\u001b[0m\n\u001b[1;31mSyntaxError\u001b[0m\u001b[1;31m:\u001b[0m invalid syntax. Perhaps you forgot a comma?\n"
     ]
    }
   ],
   "source": [
    "# 강사님 솔루션\n",
    "word_frequency = {} # 이게 아주 키다! list론 이게 안됨\n",
    "words_list = [나는 밥을 먹었다. 나는 학교에 간다.]\n",
    "for word in words_list:\n",
    "    if word in word_frequency:\n",
    "        words_frequency[word] += 1\n",
    "    else:\n",
    "        words_frequency[word] = 1"
   ]
  },
  {
   "cell_type": "code",
   "execution_count": null,
   "id": "5b9719ee",
   "metadata": {
    "id": "5b9719ee"
   },
   "outputs": [],
   "source": [
    "{'나는':2,'밥을':1}"
   ]
  },
  {
   "cell_type": "code",
   "execution_count": null,
   "id": "8036f915",
   "metadata": {
    "id": "8036f915"
   },
   "outputs": [],
   "source": [
    "# 과제6 한정현 솔루션\n",
    "word_frequency = {}\n",
    "words_list = []"
   ]
  },
  {
   "cell_type": "code",
   "execution_count": 1,
   "id": "cbbea288",
   "metadata": {
    "colab": {
     "base_uri": "https://localhost:8080/"
    },
    "executionInfo": {
     "elapsed": 51278,
     "status": "ok",
     "timestamp": 1698591583208,
     "user": {
      "displayName": "한정현",
      "userId": "04742589720279403748"
     },
     "user_tz": -540
    },
    "id": "cbbea288",
    "outputId": "3db50cae-4a55-47a2-ce93-1953dfea7770"
   },
   "outputs": [
    {
     "name": "stdout",
     "output_type": "stream",
     "text": [
      "Please input the sentences here : TiK ToK Song by Kesha Wake up in the mornin' feelin' like P Diddy (hey, what up girl?) Grab my glasses, I'm out the door, I'm gonna hit this city (let's go) Before I leave, brush my teeth with a bottle of Jack 'Cause when I leave for the night, I ain't comin' back I'm talkin' pedicure on our toes, toes Tryin' on all our clothes, clothes Boys blowin' up our phones, phones Drop-toppin', playin' our favorite CDs Pullin' up to the parties Tryna get a little bit tipsy Don't stop, make it pop DJ, blow my speakers up Tonight, I'ma fight 'Til we see the sunlight Tick-tock on the clock But the party don't stop, no Oh, whoa, whoa-oh Oh, whoa, whoa-oh Don't stop, make it pop DJ, blow my speakers up Tonight, I'ma fight 'Til we see the sunlight Tick-tock on the clock But the party don't stop, no Oh, whoa, whoa-oh Oh, whoa, whoa-oh Ain't got a care in the world, but got plenty of beer Ain't got no money in my pocket, but I'm already here And now the dudes are linin' up 'cause they hear we got swagger But we kick 'em to the curb unless they look like Mick Jagger I'm talkin' 'bout everybody gettin' crunk, crunk Boys try to touch my junk, junk Gonna smack him if he gettin' too drunk, drunk Now, now, we go until they kick us out, out Or the police shut us down, down Police shut us down, down Po-po shut us down Don't stop, make it pop DJ, blow my speakers up Tonight, I'ma fight 'Til we see the sunlight Tick-tock on the clock But the party don't stop, no Oh, whoa, whoa-oh Oh, whoa, whoa-oh Don't stop, make it pop DJ, blow my speakers up Tonight, I'ma fight 'Til we see the sunlight Tick-tock on the clock But the party don't stop, no Oh, whoa, whoa-oh Oh, whoa, whoa-oh DJ, you build me up You break me down My heart, it pounds Yeah, you got me With my hands up You got me now You got that sound Yeah, you got me DJ, you build me up You break me down My heart, it pounds Yeah, you got me With my hands up Put your hands up Put your hands up Now, the party don't start 'til I walk in Don't stop, make it pop DJ, blow my speakers up Tonight, I'ma fight 'Til we see the sunlight Tick-tock on the clock But the party don't stop, no Oh, whoa, whoa-oh Oh, whoa, whoa-oh Don't stop, make it pop DJ, blow my speakers up Tonight, I'ma fight 'Til we see the sunlight Tick-tock on the clock But the party don't stop, no Oh, whoa, whoa-oh Oh, whoa, whoa-oh\n",
      "{'tik': 1, 'tok': 1, 'song': 1, 'by': 1, 'kesha': 1, 'wake': 1, 'up': 17, 'in': 4, 'the': 27, \"mornin'\": 1, \"feelin'\": 1, 'like': 2, 'p': 1, 'diddy': 1, '(hey,': 1, 'what': 1, 'girl?)': 1, 'grab': 1, 'my': 14, 'glasses,': 1, \"i'm\": 5, 'out': 2, 'door,': 1, 'gonna': 2, 'hit': 1, 'this': 1, 'city': 1, \"(let's\": 1, 'go)': 1, 'before': 1, 'i': 4, 'leave,': 1, 'brush': 1, 'teeth': 1, 'with': 3, 'a': 3, 'bottle': 1, 'of': 2, 'jack': 1, \"'cause\": 2, 'when': 1, 'leave': 1, 'for': 1, 'night,': 1, \"ain't\": 3, \"comin'\": 1, 'back': 1, \"talkin'\": 2, 'pedicure': 1, 'on': 8, 'our': 4, 'toes,': 1, 'toes': 1, \"tryin'\": 1, 'all': 1, 'clothes,': 1, 'clothes': 1, 'boys': 2, \"blowin'\": 1, 'phones,': 1, 'phones': 1, \"drop-toppin',\": 1, \"playin'\": 1, 'favorite': 1, 'cds': 1, \"pullin'\": 1, 'to': 3, 'parties': 1, 'tryna': 1, 'get': 1, 'little': 1, 'bit': 1, 'tipsy': 1, \"don't\": 13, 'stop,': 12, 'make': 6, 'it': 8, 'pop': 6, 'dj,': 8, 'blow': 6, 'speakers': 6, 'tonight,': 6, \"i'ma\": 6, 'fight': 6, \"'til\": 7, 'we': 9, 'see': 6, 'sunlight': 6, 'tick-tock': 6, 'clock': 6, 'but': 9, 'party': 7, 'no': 7, 'oh,': 12, 'whoa,': 12, 'whoa-oh': 12, 'got': 9, 'care': 1, 'world,': 1, 'plenty': 1, 'beer': 1, 'money': 1, 'pocket,': 1, 'already': 1, 'here': 1, 'and': 1, 'now': 2, 'dudes': 1, 'are': 1, \"linin'\": 1, 'they': 3, 'hear': 1, 'swagger': 1, 'kick': 2, \"'em\": 1, 'curb': 1, 'unless': 1, 'look': 1, 'mick': 1, 'jagger': 1, \"'bout\": 1, 'everybody': 1, \"gettin'\": 2, 'crunk,': 1, 'crunk': 1, 'try': 1, 'touch': 1, 'junk,': 1, 'junk': 1, 'smack': 1, 'him': 1, 'if': 1, 'he': 1, 'too': 1, 'drunk,': 1, 'drunk': 1, 'now,': 3, 'go': 1, 'until': 1, 'us': 4, 'out,': 1, 'or': 1, 'police': 2, 'shut': 3, 'down,': 2, 'down': 5, 'po-po': 1, 'you': 9, 'build': 2, 'me': 8, 'break': 2, 'heart,': 2, 'pounds': 2, 'yeah,': 3, 'hands': 4, 'that': 1, 'sound': 1, 'put': 2, 'your': 2, 'start': 1, 'walk': 1}\n"
     ]
    }
   ],
   "source": [
    "# input 으로 사용자로 부터 텍스트를 입력 받기\n",
    "\n",
    "words_frequency = {} # {} 로 딕셔너리 이게 아주 포인트다! list론 이게 안됨\n",
    "\n",
    "words_list = input(\"Please input the sentences here : \") # input 으로 사용자로부터 텍스트 입력 받기\n",
    "lower_words = words_list.lower() # lower : 입력받은 문장을 소문자로 변환\n",
    "split_words = lower_words.split() # split : 공백을 기준으로 해서 나눠줌\n",
    "\n",
    "for word in split_words: # 각 단어의 빈도 수를 계산...\n",
    "    if word in words_frequency:\n",
    "        words_frequency[word] += 1\n",
    "    else:\n",
    "        words_frequency[word] = 1\n",
    "\n",
    "print(words_frequency) # 결과 출력"
   ]
  },
  {
   "cell_type": "code",
   "execution_count": null,
   "id": "ed906281",
   "metadata": {},
   "outputs": [],
   "source": [
    "#과제 6 주용규님 솔루션\n",
    "word_frequency = {} # 각각의 word에 대해서 word_frequency 여기에 워드가 있으면 +1 아니면 그냥 1\n",
    "input_str = input(\"체크할 문장을 적어주세요: \")\n",
    "words_list = input_str.split()\n",
    "for word in words_list:\n",
    "    if word in word_frequency:\n",
    "        word_frequency[word] += 1\n",
    "    else:\n",
    "        word_frequency[word] = 1\n",
    "\n",
    "print(word_frequency)"
   ]
  },
  {
   "cell_type": "markdown",
   "id": "99d3cd7d",
   "metadata": {
    "id": "99d3cd7d"
   },
   "source": [
    "#### escape 문자\n",
    "- 키보드로 입력하기 어려운 기호 등을 나타낸다.\n",
    "- \\로 시작, \\n 줄바꾸기, \\t 탭,\n",
    "- \\ 를 사용하려면 \\\\하면됨"
   ]
  },
  {
   "cell_type": "code",
   "execution_count": null,
   "id": "ba816da5",
   "metadata": {
    "id": "ba816da5",
    "outputId": "0bcaaf1d-5c6c-4633-99e1-2c5514a3fc3a"
   },
   "outputs": [
    {
     "name": "stdout",
     "output_type": "stream",
     "text": [
      "\\n 을 사용 : 나는 파이썬을 사랑합니다.\n",
      "파이썬은 자바보다 훨씬 쉽습니다.\n",
      "\n",
      "\\t 를 사용 : 나는 파이썬을 사랑합니다.\t파이썬은 자바보다 훨씬 쉽습니다.\n",
      "\n",
      "나는 파이썬을 사랑합니다.파이썬은 자바보다 훨씬 쉽습니다.\n"
     ]
    }
   ],
   "source": [
    "print('\\\\n 을 사용 : 나는 파이썬을 사랑합니다.\\n파이썬은 자바보다 훨씬 쉽습니다.\\n')\n",
    "print('\\\\t 를 사용 : 나는 파이썬을 사랑합니다.\\t파이썬은 자바보다 훨씬 쉽습니다.\\n')\n",
    "print('나는 파이썬을 사랑합니다.파이썬은 자바보다 훨씬 쉽습니다.')"
   ]
  },
  {
   "cell_type": "code",
   "execution_count": null,
   "id": "bcf5bd79",
   "metadata": {
    "id": "bcf5bd79",
    "outputId": "d9f43acb-6643-4057-f3eb-5bd5fe1dac40"
   },
   "outputs": [
    {
     "name": "stdout",
     "output_type": "stream",
     "text": [
      "Hello\t\\World!\n",
      "Hello\n",
      "\\World!\n",
      "She said, \"Hi!\"\n",
      "It's raining.\n",
      "Backslash : \\\n"
     ]
    }
   ],
   "source": [
    "print(\"Hello\\t\\World!\") # 탭 문자를 사용하여 \"Hello\"와 \"World!\" 사이에 탭 간격을 줍니다.\n",
    "print(\"Hello\\n\\World!\") # 줄 바꿈 문자를 사용하여 \"Hello\"와 \"World\"를 다른 줄에 출력합니다.\n",
    "print(\"She said, \\\"Hi!\\\"\") # 큰따옴표를 문자열 내부에 포함시킵니다.\n",
    "print('It\\'s raining.') # 작은따옴표를 문자열 내부에 포함시킵니다.\n",
    "print(\"Backslash : \\\\\") # 백슬래시를 출력합니다."
   ]
  },
  {
   "cell_type": "markdown",
   "id": "f7c64d18",
   "metadata": {},
   "source": [
    "#### 문자열 포멧\n",
    "- % operator 사용 : % 연산자를 사용하려면 %(VAR_NAME)TYPE 형식으로 적어주며 VAR_NAME 은 바인딩할 변수명을 TYPE 은 변수의 유형을 적어준다. \n",
    "- str.format : str.format() 은 파이썬 표현식 값을 바인딩할 부분을 중괄호 {} 로 표시하고 .format() 뒤에 바인딩할 값을 기술해 준다.\n",
    "- f-string : 문자열에 f 나 F 접두사를 붙이고 표현식을 {expr} 형식으로 작성하면 출력 문자열이 파이썬 표현식의 값으로 바뀐다."
   ]
  },
  {
   "cell_type": "code",
   "execution_count": 11,
   "id": "a19707d3",
   "metadata": {},
   "outputs": [
    {
     "name": "stdout",
     "output_type": "stream",
     "text": [
      "3, 3.000000, hello \n"
     ]
    }
   ],
   "source": [
    "print('%(num)d, %(float)f, %(string)s ' % {\"num\": 3, \"float\": 3, \"string\": 'hello'})"
   ]
  },
  {
   "cell_type": "code",
   "execution_count": 10,
   "id": "2ce663ff",
   "metadata": {},
   "outputs": [
    {
     "name": "stdout",
     "output_type": "stream",
     "text": [
      "나는 자바스크립트보다 파이썬에 더 익숙합니다.\n",
      "파이썬은 자바스크립트보다 5배 더 쉽습니다.\n",
      "5 + 10 = 15\n",
      "작년 세계 경제 성장률은 전년에 비해 5% 포인트 증가했다.\n"
     ]
    }
   ],
   "source": [
    "txt1 = '자바스크립트'; txt2='파이썬'\n",
    "num1= 5; num2= 10\n",
    "print('나는 %s보다 %s에 더 익숙합니다.' %(txt1, txt2))\n",
    "print('%s은 %s보다 %d배 더 쉽습니다.' %(txt2, txt1, num1))\n",
    "print('%d + %d = %d' %(num1, num2, num1+num2))\n",
    "print('작년 세계 경제 성장률은 전년에 비해 %d%% 포인트 증가했다.' %(num1)) # %를 출력하려면 %% 하면됨"
   ]
  },
  {
   "cell_type": "code",
   "execution_count": 12,
   "id": "5711c568",
   "metadata": {},
   "outputs": [
    {
     "name": "stdout",
     "output_type": "stream",
     "text": [
      "We are the knights who say \"Ni!\"\n"
     ]
    }
   ],
   "source": [
    "# str.format\n",
    "print('We are the {} who say \"{}!\"'.format('knights', 'Ni')) # 중괄호에 들어갈것을 이렇게 씀-"
   ]
  },
  {
   "cell_type": "code",
   "execution_count": 14,
   "id": "fcc1a325",
   "metadata": {},
   "outputs": [
    {
     "data": {
      "text/plain": [
       "'나의 이름은 홍길동입니다. 나이는 20입니다.'"
      ]
     },
     "execution_count": 14,
     "metadata": {},
     "output_type": "execute_result"
    }
   ],
   "source": [
    "# f-string # 문자열 포멧 # 가장 많이쓰임. 편함\n",
    "name = '홍길동'\n",
    "age = 20\n",
    "f'나의 이름은 {name}입니다. 나이는 {age}입니다.' # 맨 앞에 f를 쓰고 따옴표로 묶고 변수 들어가는 것만 중괄호 해주면 됨"
   ]
  },
  {
   "cell_type": "code",
   "execution_count": 19,
   "id": "0952e067",
   "metadata": {
    "scrolled": true
   },
   "outputs": [
    {
     "name": "stdout",
     "output_type": "stream",
     "text": [
      "Tom     ==>       1234\n",
      "Jack    ==>       4518\n",
      "Eddie   ==>       9638\n"
     ]
    }
   ],
   "source": [
    "table = {'Tom': 1234, 'Jack': 4518, 'Eddie': 9638} # 테이블을 만들어줌 (딕셔너리)\n",
    "for name, phone in table.items(): # items 는 키, 값 둘다 출력\n",
    "    print(f'{name:6}  ==>{phone:10d}') # :6 은 자릿수 name부터 6자리까지 :10d 는 10칸 , ==> 앞뒤에도 띄어쓰기로 표현 가능 # d는 숫자"
   ]
  },
  {
   "cell_type": "code",
   "execution_count": 49,
   "id": "31534bdf",
   "metadata": {},
   "outputs": [
    {
     "data": {
      "text/plain": [
       "'     3.422'"
      ]
     },
     "execution_count": 49,
     "metadata": {},
     "output_type": "execute_result"
    }
   ],
   "source": [
    "# 소수점 4자리까지만 표현\n",
    "y = 3.421634123\n",
    "f'{y:0.04f}' # 실수가되는경우 f 정수가되는경우 d 쓰면됨 \n",
    "f'{y:10.04}' # f 빼고하면 4자리에서 0.04 하면 3.422 즉 넷째자리에서 반올림 됨 # 그리고 앞에 10은 띄어쓰기 포함 10자리란뜻"
   ]
  },
  {
   "cell_type": "code",
   "execution_count": 51,
   "id": "d01e79ab",
   "metadata": {},
   "outputs": [
    {
     "data": {
      "text/plain": [
       "'    3.4216'"
      ]
     },
     "execution_count": 51,
     "metadata": {},
     "output_type": "execute_result"
    }
   ],
   "source": [
    "# 소수점 4자리까지 표현하고 총 자리수를 10으로 맞춤\n",
    "y = 3.421634123\n",
    "f'{y:10.04f}'"
   ]
  },
  {
   "cell_type": "code",
   "execution_count": null,
   "id": "64826e01",
   "metadata": {},
   "outputs": [],
   "source": [
    "# [과제1_1030] num1 = 12345, num2 = 12.345679 을 아래와 같이 출력하세요.\n",
    "12345\n",
    "     12345\n",
    "12.345679\n",
    "          12.346"
   ]
  },
  {
   "cell_type": "code",
   "execution_count": 55,
   "id": "1351e1e4",
   "metadata": {},
   "outputs": [
    {
     "name": "stdout",
     "output_type": "stream",
     "text": [
      "12345\n",
      "     12345\n",
      "12.345679\n",
      "          12.3457\n"
     ]
    }
   ],
   "source": [
    "num1 = 12345\n",
    "num2 = 12.345679\n",
    "print('%d' %(num1))\n",
    "print(f'{num1:10d}')\n",
    "print(f'{num2}')\n",
    "print(f'{num2:17.04f}')"
   ]
  },
  {
   "cell_type": "markdown",
   "id": "1d4f3db5",
   "metadata": {},
   "source": [
    "#### 2진수, 8진수, 16진수의 데이터 표현 방법\n",
    "\n",
    "- 우리가 프로그래밍을 하면서 변수에 어떤 값을 저장할 때 10진수는 일상적 표현을 그대로 대입한다.\n",
    "- 예를들어 15를 저장하고 싶다면 int a= 15; 와 같이 15라는 숫자를 그대로 대입하면 된다. #10진수에서.\n",
    "- 하지만 2진수, 8진수, 16진수는 표현법이 따로 정해져있다.<br><br>  \n",
    "\n",
    "- 2진수는 대입하고자 하는 값 앞에 0b를 붙인다. (숫자0과 영문자b) # 0,1\n",
    "- 8진수는 대입하고자 하는 값 앞에 0o 을 붙인다. (숫자0 영문자o) # 0,1,2,3,4,5,6,7\n",
    "- 16진수는 대입하고자 하는 값 앞에 0x 를 붙인다. (숫자0과 영문자x) # \n",
    "\n",
    "아래의 예시를 보자.\n",
    "변수 a,b,c,d 는 모두 10진수 122 이라는 값을 저장하는 코드이다.\n",
    "\n",
    "122는\n",
    "- 2진수로 1111010\n",
    "- 8진수로 172\n",
    "- 16진수로 7A 이다.\n"
   ]
  },
  {
   "cell_type": "code",
   "execution_count": 61,
   "id": "a3e730db",
   "metadata": {},
   "outputs": [
    {
     "name": "stdout",
     "output_type": "stream",
     "text": [
      "122\n",
      "172\n",
      "122\n",
      "122\n"
     ]
    }
   ],
   "source": [
    "a = 0o172 # 8진수 0o로 시작\n",
    "d = 172\n",
    "b = 0x7A # 16진수 0x로 시작\n",
    "c = 0b1111010 # 2진수 0b로 시작\n",
    "print(a)\n",
    "print(d)\n",
    "print(b)\n",
    "print(c)"
   ]
  },
  {
   "cell_type": "code",
   "execution_count": 64,
   "id": "e8688872",
   "metadata": {},
   "outputs": [
    {
     "name": "stdout",
     "output_type": "stream",
     "text": [
      "10\n",
      "2\n",
      "8\n",
      "16\n"
     ]
    }
   ],
   "source": [
    "int_data = 10 # 10진수\n",
    "bin_data = 0b10 # binary 2진수\n",
    "oct_data = 0o10 # 8진수\n",
    "hex_data = 0x10 # 16진수 # 16진수 10 a, 11 b, 12 c, 13 d, 14 e, 15 f\n",
    "print(int_data)\n",
    "print(bin_data)\n",
    "print(oct_data)\n",
    "print(hex_data)"
   ]
  },
  {
   "cell_type": "code",
   "execution_count": null,
   "id": "380cde8a",
   "metadata": {},
   "outputs": [],
   "source": [
    "# 파이썬 자료형 - 숫자형(정수, 실수, 8진수, 16진수)\n",
    "# 16진수 10 a, 11 b, 12 c, 13 d, 14 e, 15 f\n",
    "a = 123\n",
    "b = -123\n",
    "c = 0\n",
    "d = 1.23\n",
    "e = 0o177 # 8진수 0o로 시작\n",
    "f = 0xABC # 16진수 0x로 시작\n",
    "g = 0b101010 # 2진수 0b로 시작\n",
    "print(a)\n",
    "print(b)\n",
    "print(c)\n",
    "print(d)\n",
    "print(e)\n",
    "print(f)\n",
    "print(g)"
   ]
  },
  {
   "cell_type": "code",
   "execution_count": 65,
   "id": "2df3c6b7",
   "metadata": {},
   "outputs": [
    {
     "name": "stdout",
     "output_type": "stream",
     "text": [
      "32\n",
      "16\n",
      "2\n"
     ]
    }
   ],
   "source": [
    "# 2진수를 10진수로 표현\n",
    "g1 = 0b100000 # 2^5\n",
    "g2 = 0b10000 # 2^4\n",
    "g3 = 0b10 # 2^1\n",
    "print(g1)\n",
    "print(g2)\n",
    "print(g3)"
   ]
  },
  {
   "cell_type": "code",
   "execution_count": 70,
   "id": "bd044456",
   "metadata": {},
   "outputs": [
    {
     "name": "stdout",
     "output_type": "stream",
     "text": [
      "10\n",
      "11\n",
      "171\n",
      "171\n"
     ]
    }
   ],
   "source": [
    "# 16진수를 10진수로 표현\n",
    "# 16진수 10 a, 11 b, 12 c, 13 d, 14 e, 15 f\n",
    "f1 = 0xA # 소대문자 상관 x\n",
    "f2 = 0xB\n",
    "f3 = 0xAB\n",
    "print(f1)\n",
    "print(f2)\n",
    "print(f3)\n",
    "print(16*10+1*11) # 0x(16 진수)A+B"
   ]
  },
  {
   "cell_type": "markdown",
   "id": "07266945",
   "metadata": {
    "id": "07266945"
   },
   "source": [
    "#### 실습! 연습해보기! 식별자가 될 수 있나 없나 ?  \n",
    "#### 식별자 : 프로그램밍 언어에서 이름을 붙일 때 사용하는 단어. 주로 변수 또는 함수 이름 등으로 사용\n",
    "- alpha -> 가능! 키워드였으면 불가능인데 아니어서 됨\n",
    "- Alpha -> 가능! 대문자도 상관없음\n",
    "- ALPHA -> 가능! 소대문자 상관없음~\n",
    "- 123alpha -> 불가능!! 숫자가 앞에오면 불가능!\n",
    "- alpha123 -> 가능! 숫자가 앞에만 안오면 됨!\n",
    "- break -> 불가능!! 키워드라서 안됨 그럼 이걸 쓰고싶으면 break1 이나 break_a 이런식으로 쓰면 됨"
   ]
  },
  {
   "cell_type": "markdown",
   "id": "d01eb1e7",
   "metadata": {
    "id": "d01eb1e7"
   },
   "source": [
    "#### 파이썬에서 문장은 뭘까? 실습! 연습해보기!\n",
    "a = 10  -> 이건 a 라는 변수(저장공간)에 10을 저장함 a는 표현식. 10도 표현식. a=10은 문장\n",
    "print(\"hi\") -> 이건 문장인데 표현식이 모여있는것이 1개이상 모인것이 문장임"
   ]
  },
  {
   "cell_type": "code",
   "execution_count": null,
   "id": "ed7722b4",
   "metadata": {
    "id": "ed7722b4",
    "outputId": "6bd9644c-4439-4cb6-d2b7-f918f89cb755"
   },
   "outputs": [
    {
     "name": "stdout",
     "output_type": "stream",
     "text": [
      "7\n"
     ]
    }
   ],
   "source": [
    "a = 3\n",
    "b = 4\n",
    "\n",
    "def add(x, y):\n",
    "    return x+y\n",
    "\n",
    "print(add(a,b))"
   ]
  },
  {
   "cell_type": "markdown",
   "id": "a2b3ffc6",
   "metadata": {
    "id": "a2b3ffc6"
   },
   "source": [
    "#### 연산자 https://dingrr.com/blog/post/python-103-%EC%97%B0%EC%82%B0%EC%9E%90%EC%9D%98-8%EA%B0%80%EC%A7%80-%EC%A2%85%EB%A5%98\n",
    "1. 산술 연산자(Arithmetic Operators)\n",
    "산술연산자는 단순히 계산을 위한 연산자 들입니다.\n",
    "\n",
    "- / 나누기\n",
    "- % 나머지\n",
    "- ** 제곱\n",
    "- // 나눈 후 몫이 소수점이면 내림"
   ]
  },
  {
   "cell_type": "code",
   "execution_count": null,
   "id": "eefc99e1",
   "metadata": {
    "id": "eefc99e1",
    "outputId": "1f72c3cd-9587-4bce-9309-f6a702752a3f"
   },
   "outputs": [
    {
     "name": "stdout",
     "output_type": "stream",
     "text": [
      "13\n",
      "9\n",
      "22\n",
      "5.5\n",
      "1\n",
      "121\n"
     ]
    }
   ],
   "source": [
    "# 산술 연산자 연습문제 예시\n",
    "\n",
    "print(11 + 2)\n",
    "print(11 - 2)\n",
    "print(11 * 2)\n",
    "print(11 / 2)\n",
    "print(11 % 2)\n",
    "print(11 ** 2)"
   ]
  },
  {
   "cell_type": "markdown",
   "id": "80622ad2",
   "metadata": {
    "id": "80622ad2"
   },
   "source": [
    "2. 할당 연산자(Assignment Operators)\n",
    "할당 연산자는 값을 변수에 할당할때 쓰는 연산자 입니다.\n",
    "\n",
    "- = 오른쪽 값을 왼쪽 변수에 할당함\n",
    "- +=, -=, *=, /=, %=, //=, **="
   ]
  },
  {
   "cell_type": "code",
   "execution_count": null,
   "id": "50158d69",
   "metadata": {
    "id": "50158d69",
    "outputId": "c55dd350-8538-4e6b-d1a9-d1cad377a2d3"
   },
   "outputs": [
    {
     "name": "stdout",
     "output_type": "stream",
     "text": [
      "90\n",
      "100\n",
      "10.0\n"
     ]
    }
   ],
   "source": [
    "# 할당 연산자 예시\n",
    "a = 90\n",
    "print(a)\n",
    "a += 10\n",
    "print(a)\n",
    "a /= 10\n",
    "print(a)"
   ]
  },
  {
   "cell_type": "code",
   "execution_count": null,
   "id": "60d936e7",
   "metadata": {
    "id": "60d936e7",
    "outputId": "66bba501-5e4a-4214-f703-e3a3363ec2f6"
   },
   "outputs": [
    {
     "name": "stdout",
     "output_type": "stream",
     "text": [
      "홀수입니다\n"
     ]
    }
   ],
   "source": [
    "# 3. 삼항 연산자(Ternary Operator)\n",
    "# 앞 서 말씀드린 삼항 연산자로 왔습니다.\n",
    "# 사실 솔직하게 말씀드리면, 파이썬에게 삼항연산자는 없습니다.\n",
    "# 대신 삼항 연산자보다 더욱 가독성 좋은 문법이 있습니다.\n",
    "\n",
    "num = 9\n",
    "val = \"짝수입니다.\" if num % 2 == 0 else \"홀수입니다\"\n",
    "print(val)\n",
    "\n",
    "# 파이썬은 문법! 자바스크립트는 연산자.."
   ]
  },
  {
   "cell_type": "markdown",
   "id": "224b5e18",
   "metadata": {
    "id": "224b5e18"
   },
   "source": [
    "4. 비교 연산자(Comparison Operators)\n",
    "연산자를 사이에 두고 좌우 변수를 비교하는 연산자 입니다. 이 연산자들의 반환값은 참, 거짓 입니다.\n",
    "- == 같다면\n",
    "- != 같지 않다면\n",
    "- <, > 더 크다면\n",
    "- <=, >= 이상 이하라면"
   ]
  },
  {
   "cell_type": "code",
   "execution_count": null,
   "id": "a04788ff",
   "metadata": {
    "id": "a04788ff",
    "outputId": "f3310202-b2f0-4ecd-b9f2-c9ae06356925"
   },
   "outputs": [
    {
     "name": "stdout",
     "output_type": "stream",
     "text": [
      "a가 큽니다.\n"
     ]
    }
   ],
   "source": [
    "# 비교 연산자 예시\n",
    "a = 10\n",
    "b = 9\n",
    "if a > b:\n",
    "    print('a가 큽니다.')\n",
    "else :\n",
    "    print('b가 큽니다')"
   ]
  },
  {
   "cell_type": "markdown",
   "id": "bef848c9",
   "metadata": {
    "id": "bef848c9"
   },
   "source": [
    "5. 논리 연산자(Logical Operators)\n",
    "논리 연산자는 if... else 구문처럼 조건문을 결합할때 사용합니다.\n",
    "\n",
    "and 연산자 : 둘다 참이면(and를 두고 좌우 조건문이 모두 참이면) True\n",
    "or 연산자 : 하나라도 참이면(or을 두고 좌우 조건문중 하나라도 참이면) True\n",
    "not 연산자 : 조건부 자체가 거짓이라면 True"
   ]
  },
  {
   "cell_type": "code",
   "execution_count": null,
   "id": "501254b2",
   "metadata": {
    "id": "501254b2",
    "outputId": "73f09a05-ce62-4f69-a4b5-ace24b173d59",
    "scrolled": true
   },
   "outputs": [
    {
     "name": "stdout",
     "output_type": "stream",
     "text": [
      "True\n",
      "True\n",
      "True\n"
     ]
    }
   ],
   "source": [
    "# 논리 연산자 예시\n",
    "\n",
    "a = 3\n",
    "b = 5\n",
    "c = 10\n",
    "d = 9\n",
    "\n",
    "print(a < b and c > d)\n",
    "print(a < b or c < d)\n",
    "print(not c < d)"
   ]
  },
  {
   "cell_type": "markdown",
   "id": "d37d9328",
   "metadata": {
    "id": "d37d9328"
   },
   "source": [
    "6. 항등 연산자(Identity Operators)\n",
    "항등 연산자는, 같은 메모리에 있는지를 확인 하는 겁니다.2가지 밖에 존재 하지 않습니다.\n",
    "잘 한번 코드를 봐주세요. 값이 같은 것을 넘어 객체 존재 자체가 같아야 합니다."
   ]
  },
  {
   "cell_type": "code",
   "execution_count": null,
   "id": "1477bdef",
   "metadata": {
    "id": "1477bdef",
    "outputId": "fb995bd9-bf8e-4f65-af75-d6bbcebb39cf"
   },
   "outputs": [
    {
     "name": "stdout",
     "output_type": "stream",
     "text": [
      "True\n",
      "False\n",
      "True\n"
     ]
    }
   ],
   "source": [
    "# 항등연산자 예시\n",
    "\n",
    "a = [1, 3, 4, 5]\n",
    "b = [1, 3, 4, 5]\n",
    "\n",
    "print(a == b)\n",
    "print(a is b)\n",
    "print(a is not b)\n",
    "\n",
    "# a와 b는 같은 값의 리스트를 할당 받았습니다.\n",
    "# == 연산자는 값이 같기에 True를  반환 하였습니다,\n",
    "# 반면 is 는 false를 리턴 하였습니다.\n",
    "# 같은 메모리 주소가 아니기 때문입니다.\n",
    "# is not 은 반대이기때문에 true를 리턴하였습니다."
   ]
  },
  {
   "cell_type": "code",
   "execution_count": null,
   "id": "1c28858a",
   "metadata": {
    "id": "1c28858a",
    "outputId": "4b2d787a-d3a0-4c39-c6ab-9b1be015db13"
   },
   "outputs": [
    {
     "name": "stdout",
     "output_type": "stream",
     "text": [
      "a가 b리스트 안에 있습니다.\n",
      "c가 b리스트 안에 없습니다.\n"
     ]
    }
   ],
   "source": [
    "# 7. 멤버 연산자(Membership Operators)\n",
    "# 멤버 연산자는 왼쪽 값이 오른쪽 컨테이너 객체의 멤버인지를 확인하는 연산자 입니다.\n",
    "# 이 또한 2개 밖에 없습니다. 함께 확인해 보실까요?\n",
    "\n",
    "a = 10\n",
    "b = [1, 10, 3, 4, 65, 8]\n",
    "c = 9\n",
    "if a in b:\n",
    "    print('a가 b리스트 안에 있습니다.')\n",
    "if not c in b:\n",
    "    print('c가 b리스트 안에 없습니다.')"
   ]
  },
  {
   "cell_type": "markdown",
   "id": "bcb41507",
   "metadata": {
    "id": "bcb41507"
   },
   "source": [
    "8. 비트 연산자(Bitwise Operators)\n",
    "비트단위로 연산을 하는 비트연산자 입니다. 아직은 어려울 수 있으니 '이런게 있구나..' 하시면 됩니다.\n",
    "\n",
    "요즘은 잘 사용하진 않지만, 예전에는 메모리가 비싸서 최대한 메모리를 아끼고 아끼는 비트연산을 했습니다. 지금도 임베디드 프로그래머들은 할 수 도 있겠군요. 예를들어 True, False 를 나타내는 bool 타입 자료형은 8비트를 차지 합니다. 하지만 이중 8개의 비트중 사용하지 않는 것이 대부분이지요. 이런 것을 비트연산자를 사용하면 메모리를 절약 할 수 있습니다."
   ]
  },
  {
   "cell_type": "code",
   "execution_count": null,
   "id": "5c49ad79",
   "metadata": {
    "id": "5c49ad79",
    "outputId": "e6f63ddd-93f3-4a13-e2e6-d42b48b561ab"
   },
   "outputs": [
    {
     "name": "stdout",
     "output_type": "stream",
     "text": [
      "a =  170 : 0b10101010\n",
      "b =  115 : 0b1110011\n",
      "a & b = 34 : 0b100010\n",
      "a | b =  251 : 0b11111011\n"
     ]
    }
   ],
   "source": [
    "# 파이썬은 C++과 마찬가지로 6개의 비트연산자가 있음\n",
    "# & and의 연산을 비트단위로 함\n",
    "# | or의 연산을 비트단위로 함\n",
    "# ^ xor의 연산을 비트단위로 함\n",
    "# ~ not의 연산을 비트단위로 함\n",
    "# << 비트단위로\"왼쪽으로 비트단위 밀기\"연산을 합니다\n",
    "# >> 비트단위로\"오른으로 비트단위 밀기\"연산을 합니다\n",
    "\n",
    "a = 0b10101010\n",
    "b = 0b01110011\n",
    "print('a = ', a, \":\", bin(a))\n",
    "print('b = ', b, \":\", bin(b))\n",
    "print('a & b =', a & b, \":\", bin(a & b))\n",
    "print('a | b = ', a | b, \":\", bin(a | b))"
   ]
  },
  {
   "cell_type": "markdown",
   "id": "6fc1cd32",
   "metadata": {
    "id": "6fc1cd32"
   },
   "source": [
    "## 시퀀스 자료형\n",
    "파이썬에는 세 가지 시퀀스(sequence) 자료형이 있다.\n",
    "\n",
    "- 문자열: 'Hello'. 문자열(string)은 문자(character)들의 시퀀스다.\n",
    "- 리스트: [1, 4, 5].\n",
    "- 튜플: ('GOOG', 100, 490.1)"
   ]
  },
  {
   "cell_type": "code",
   "execution_count": null,
   "id": "7511324b",
   "metadata": {
    "id": "7511324b",
    "outputId": "7df4b678-24d1-4760-bc60-d8e9629d5a58"
   },
   "outputs": [
    {
     "data": {
      "text/plain": [
       "[-1, 0, 1]"
      ]
     },
     "execution_count": 45,
     "metadata": {},
     "output_type": "execute_result"
    }
   ],
   "source": [
    "a = [-1,0,1,2,3,4,5,6,7,8]\n",
    "\n",
    "a[1:2]\n",
    "a[-5:]\n",
    "a[:3]"
   ]
  },
  {
   "cell_type": "markdown",
   "id": "e07c31a3",
   "metadata": {
    "id": "e07c31a3"
   },
   "source": [
    "### 매핑이란 해당 값이 다른 값을 가리키도록 하는 것이다.\n",
    "예를들면  http://localhost:8080/action.do 라는 페이지를 만들었다고 했을시 이 url이 그대로 노출된다면 보안상 매우 취약 할 수 있을 것이다. 그래서 action.do가 아닌 ac.do가 action.do랑 똑같다는 식으로 설정하여 ac.do로 갔을 때 action.do로  가게 함으로서 보안성을 높일 수 있다.\n",
    "\n",
    "\n",
    "또한 Mapping을 하는 이유는 보이는 바와 같이 일단 주소가 간결해 지는 것에 있다. 클라이언트 입장에서 full path를 이용해 웹 페이지에 접속하는 것은 정말 짜증나고 귀찮은 타이핑이 될 것인데 이를 확 줄여 이용자가 훨씬 편리하게 웹 사이트를 이용 할 수 있게 된다."
   ]
  },
  {
   "cell_type": "code",
   "execution_count": null,
   "id": "2348735b",
   "metadata": {
    "id": "2348735b",
    "outputId": "5eba15c0-0314-4b9c-b41d-de65510567d6"
   },
   "outputs": [
    {
     "name": "stdout",
     "output_type": "stream",
     "text": [
      "<class 'int'>\n",
      "<class 'str'>\n",
      "<class 'float'>\n",
      "<class 'str'>\n"
     ]
    }
   ],
   "source": [
    "# 문자열 예시\n",
    "a = 1\n",
    "b = '1'\n",
    "c = 1.0\n",
    "d = \"1.0\"\n",
    "\n",
    "print(type(a))\n",
    "print(type(b))\n",
    "print(type(c))\n",
    "print(type(d))"
   ]
  },
  {
   "cell_type": "code",
   "execution_count": null,
   "id": "de5e7ad1",
   "metadata": {
    "id": "de5e7ad1",
    "outputId": "efb7e6ad-79ea-4473-ac95-c1317a66688e"
   },
   "outputs": [
    {
     "name": "stdout",
     "output_type": "stream",
     "text": [
      "{1, 2, 3, 4, 5}\n"
     ]
    }
   ],
   "source": [
    "#파이썬의 집합은 고유한 요소의 모음. 단일 변수에 여러 항목을저장하기 위해 있음\n",
    "# 순서가 없고(그래서 인덱스로 접근 못함. for문 으로 접근 할수 있음)\n",
    "# 중복 허용 안되고\n",
    "# 요소는 변경 불가능한 자료형만 사용할 수 있음\n",
    "\n",
    "\n",
    "# 집합의 간단한 예시.. set을 사용 출력하였더니 {} 로 됨\n",
    "# 리스트를 집합으로 변환하는 예시임\n",
    ">>> set_example = set([1, 2, 3, 4, 5])\n",
    ">>> print(set_example)"
   ]
  },
  {
   "cell_type": "code",
   "execution_count": null,
   "id": "5fb6037c",
   "metadata": {
    "id": "5fb6037c"
   },
   "outputs": [],
   "source": [
    "#블린 -> 값들을 비교할 때 사용\n",
    "# 블린(참/거짓) => 판단\n",
    "\n",
    "# True, False (파이썬은 첫글자가 대문자임)\n",
    "\n",
    "# False인 경우: None, 0, [], (), {}, \"\""
   ]
  }
 ],
 "metadata": {
  "colab": {
   "provenance": []
  },
  "kernelspec": {
   "display_name": "Python 3 (ipykernel)",
   "language": "python",
   "name": "python3"
  },
  "language_info": {
   "codemirror_mode": {
    "name": "ipython",
    "version": 3
   },
   "file_extension": ".py",
   "mimetype": "text/x-python",
   "name": "python",
   "nbconvert_exporter": "python",
   "pygments_lexer": "ipython3",
   "version": "3.10.13"
  }
 },
 "nbformat": 4,
 "nbformat_minor": 5
}
