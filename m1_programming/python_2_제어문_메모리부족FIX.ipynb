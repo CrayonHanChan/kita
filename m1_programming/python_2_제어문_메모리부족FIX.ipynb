{
 "cells": [
  {
   "cell_type": "markdown",
   "id": "aee97ca6",
   "metadata": {},
   "source": [
    "제어문(control statement)은 프로그램의 흐름을 제어하는데 사용 # 조건문, 반복문이 있음\n",
    "\n",
    "#### 조건문 (Conditional Statements):\n",
    "- if: 특정 조건이 참(True)일 때 코드 블록을 실행 # if if if 이렇게 쭉쭉 쓸수도 있음\n",
    "    - 조건은 비교 연산자(==, !=, <, >, <=, >=)와 논리 연산자(and, or, not)를 사용하여 표현할 수 있다\n",
    "- elif: 이전의 if 또는 elif 조건이 거짓(False)일 때 다른 조건을 검사\n",
    "    - elif는 'else if'의 축약형으로, 이전 if 또는 elif 문의 조건이 거짓(False)일 때 다른 조건을 검사\n",
    "    - 여러 elif 문을 사용하여 다양한 조건을 검사할 수 있다\n",
    "- else: \n",
    "    - 이전의 if 또는 elif 문의 조건이 모두 거짓일 때 실행할 코드 블록을 지정 # 마지막에는 elif 쓸필요 없으니 else쓰면됨"
   ]
  },
  {
   "cell_type": "code",
   "execution_count": 1,
   "id": "96d63b1a",
   "metadata": {},
   "outputs": [
    {
     "name": "stdout",
     "output_type": "stream",
     "text": [
      "4113\n"
     ]
    }
   ],
   "source": [
    "f1 = 0x1011\n",
    "print(f1)"
   ]
  },
  {
   "cell_type": "code",
   "execution_count": 2,
   "id": "43dc08d6",
   "metadata": {},
   "outputs": [
    {
     "name": "stdout",
     "output_type": "stream",
     "text": [
      "x는 5보다 큽니다.\n"
     ]
    }
   ],
   "source": [
    "x = 10\n",
    "if x > 5: # 여기서 5보다 큰건 다 걸러짐\n",
    "    print(\"x는 5보다 큽니다.\")\n",
    "elif x == 5: # 여기서 5가 걸러짐\n",
    "    print(\"x는 5입니다.\")\n",
    "else: # 나머지가 걸러짐. 5보다 작은것\n",
    "    print(\"x는 5보다 작습니다.\")"
   ]
  },
  {
   "cell_type": "code",
   "execution_count": 3,
   "id": "c7cc6b86",
   "metadata": {},
   "outputs": [
    {
     "name": "stdout",
     "output_type": "stream",
     "text": [
      "x는 5보다 크거나 같습니다.\n"
     ]
    }
   ],
   "source": [
    "x = 10\n",
    "if x >= 5:\n",
    "    print(\"x는 5보다 크거나 같습니다.\")\n",
    "else:\n",
    "    print(\"x는 5보다 작습니다.\")"
   ]
  },
  {
   "cell_type": "code",
   "execution_count": 4,
   "id": "4165d63b",
   "metadata": {},
   "outputs": [
    {
     "name": "stdout",
     "output_type": "stream",
     "text": [
      "x는 5보다 큽니다.\n",
      "y는 10보다 작습니다.\n",
      "x는 y보다 큽니다.\n"
     ]
    }
   ],
   "source": [
    "# 각 조건이 서로 독립적일때 if 문을 연속해서 사용\n",
    "x = 10\n",
    "y = 5\n",
    "\n",
    "if x > 5:\n",
    "    print(\"x는 5보다 큽니다.\")\n",
    "\n",
    "if y < 10:\n",
    "    print(\"y는 10보다 작습니다.\")\n",
    "\n",
    "if x > y:\n",
    "    print(\"x는 y보다 큽니다.\")"
   ]
  },
  {
   "cell_type": "code",
   "execution_count": 5,
   "id": "f211b8c1",
   "metadata": {},
   "outputs": [
    {
     "name": "stdout",
     "output_type": "stream",
     "text": [
      "x는 5보다 크고 y는 3보다 큽니다.\n"
     ]
    }
   ],
   "source": [
    "# 조건문 내에 다른 조건문을 중첩하여 사용\n",
    "x = 10\n",
    "y = 5\n",
    "if x > 5:\n",
    "    if y >= 3:\n",
    "        print('x는 5보다 크고 y는 3보다 크거나 같습니다.')\n",
    "    else:\n",
    "        print('x는 5보다 크고 y는 3보다 작습니다.')\n",
    "        \n",
    "else: # else를 위 함수 바깥으로 해서 if x > 5의 else를 만들기 # if 가 2개이라서 이렇게 들여쓰기를 잘해야함!\n",
    "    print('x는 5보다 작거나 같다,')"
   ]
  },
  {
   "cell_type": "code",
   "execution_count": null,
   "id": "5fe14f1b",
   "metadata": {},
   "outputs": [],
   "source": [
    "# 과제2_1030 : listdata = ['a', 'b', 'c']에서 조건문을 이용해서 아래와 같이 출력하세요\n",
    "\n",
    "\n",
    "a가 listdata에 있습니다.\n",
    "b가 listdata에 있습니다.\n",
    "c가 listdata에 있습니다."
   ]
  },
  {
   "cell_type": "code",
   "execution_count": 37,
   "id": "5a237991",
   "metadata": {},
   "outputs": [
    {
     "name": "stdout",
     "output_type": "stream",
     "text": [
      "a가 listdata에 있습니다.\n",
      "b가 listdata에 있습니다.\n",
      "c가 listdata에 있습니다.\n"
     ]
    }
   ],
   "source": [
    "# 과제2_1030 전유빈님 솔루션\n",
    "listdata = ['a','b','c']\n",
    "if 'a' in listdata:\n",
    "    print(\"a가 listdata에 있습니다.\")\n",
    "if 'b' in listdata:\n",
    "    print(\"b가 listdata에 있습니다.\")\n",
    "if 'c' in listdata:\n",
    "    print(\"c가 listdata에 있습니다.\")"
   ]
  },
  {
   "cell_type": "code",
   "execution_count": 40,
   "id": "2ebaa85a",
   "metadata": {},
   "outputs": [
    {
     "name": "stdout",
     "output_type": "stream",
     "text": [
      "a가 listdata에 있습니다\n",
      "b가 listdata에 있습니다\n",
      "c가 listdata에 있습니다\n"
     ]
    }
   ],
   "source": [
    "# 과제2_1030 최재빈님 솔루션 # 더 간단하게..\n",
    "listdata = ['a', 'b', 'c']\n",
    "\n",
    "for i in listdata:\n",
    "   if i in listdata:\n",
    "       print(f'{i}가 listdata에 있습니다')"
   ]
  },
  {
   "cell_type": "code",
   "execution_count": 6,
   "id": "c4395c31",
   "metadata": {},
   "outputs": [
    {
     "ename": "SyntaxError",
     "evalue": "invalid syntax. Perhaps you forgot a comma? (748732086.py, line 3)",
     "output_type": "error",
     "traceback": [
      "\u001b[1;36m  Cell \u001b[1;32mIn[6], line 3\u001b[1;36m\u001b[0m\n\u001b[1;33m    print(listdata[])\u001b[0m\n\u001b[1;37m          ^\u001b[0m\n\u001b[1;31mSyntaxError\u001b[0m\u001b[1;31m:\u001b[0m invalid syntax. Perhaps you forgot a comma?\n"
     ]
    }
   ],
   "source": [
    "# 과제2_1030 솔루션\n",
    "listdata = ['a', 'b', 'c']\n",
    "if listdata[] :\n",
    "    print('있습니다.')\n",
    "else:\n",
    "    print('없습니다.')"
   ]
  },
  {
   "cell_type": "code",
   "execution_count": null,
   "id": "bc5df597",
   "metadata": {},
   "outputs": [],
   "source": [
    "# 과제3_1030 : 돈이 있으면 택시를 타고, 돈이 없으면 걸어 간다를 만족하는 조건문을 작성하세요"
   ]
  },
  {
   "cell_type": "code",
   "execution_count": 2,
   "id": "b8233859",
   "metadata": {},
   "outputs": [
    {
     "name": "stdout",
     "output_type": "stream",
     "text": [
      "주머니에 있는 돈 : 123\n",
      "걸어 간다.\n"
     ]
    }
   ],
   "source": [
    "# 과제3_1030 솔루션\n",
    "money = int(input(\"주머니에 있는 돈 : \"))\n",
    "if money >= 10000 : # 만원 이상이 있으면 택시\n",
    "    print('택시를 탄다.')\n",
    "else : # 만원 미만이면 걸어가기\n",
    "    print('걸어 간다.')"
   ]
  },
  {
   "cell_type": "code",
   "execution_count": null,
   "id": "16ab6f4e",
   "metadata": {},
   "outputs": [],
   "source": [
    "# 과제4_1030 : 조건부 표현식을 한줄의 조건문으로 작성하세요."
   ]
  },
  {
   "cell_type": "code",
   "execution_count": 13,
   "id": "85cecd75",
   "metadata": {},
   "outputs": [
    {
     "name": "stdout",
     "output_type": "stream",
     "text": [
      "success\n"
     ]
    }
   ],
   "source": [
    "# 과제4_1030 솔루션1\n",
    "score = 70\n",
    "if score >= 60:\n",
    "    message = \"success\"\n",
    "else: \n",
    "    message = \"failure\"\n",
    "    \n",
    "print(message)"
   ]
  },
  {
   "cell_type": "code",
   "execution_count": 42,
   "id": "6af3ffe2",
   "metadata": {},
   "outputs": [
    {
     "name": "stdout",
     "output_type": "stream",
     "text": [
      "success\n"
     ]
    }
   ],
   "source": [
    "# 과제4_1030 솔루션2\n",
    "score = 70\n",
    "print(\"success\" if score >= 60 else \"failure\")"
   ]
  },
  {
   "cell_type": "code",
   "execution_count": 43,
   "id": "6f5ea561",
   "metadata": {},
   "outputs": [
    {
     "data": {
      "text/plain": [
       "'success'"
      ]
     },
     "execution_count": 43,
     "metadata": {},
     "output_type": "execute_result"
    }
   ],
   "source": [
    "# 과제4_1030 솔루션2 #print 없이 도 가능\n",
    "score = 70\n",
    "\"success\" if score >= 60 else \"failure\" "
   ]
  },
  {
   "cell_type": "code",
   "execution_count": 45,
   "id": "5509e400",
   "metadata": {},
   "outputs": [
    {
     "data": {
      "text/plain": [
       "['success']"
      ]
     },
     "execution_count": 45,
     "metadata": {},
     "output_type": "execute_result"
    }
   ],
   "source": [
    "# 과제4_1030 솔루션2 #list 로도 가능 # print없이\n",
    "score = 70\n",
    "[\"success\" if score >= 60 else \"failure\" ]"
   ]
  },
  {
   "cell_type": "code",
   "execution_count": null,
   "id": "e3af6ad8",
   "metadata": {},
   "outputs": [],
   "source": [
    "# 과제5_1030 : \"수입과 지출금액을 비교해서 수입이 많은면 저축 증가, 반대이면 빚이 증가\" 프로그램 작성"
   ]
  },
  {
   "cell_type": "code",
   "execution_count": 9,
   "id": "8f0afb61",
   "metadata": {},
   "outputs": [
    {
     "name": "stdout",
     "output_type": "stream",
     "text": [
      "수입 입력 : 2\n",
      "지출금 입력 : 123\n",
      "수입이 지출금보다 적어서 차액 만큼의 빚이 생겼습니다.\n"
     ]
    }
   ],
   "source": [
    "# 과제5_1030 솔루션\n",
    "if int(input(\"수입 입력 : \")) >= int(input(\"지출금 입력 : \")) :\n",
    "    print(\"수입이 지출금 보다 더 많습니다. 잉여 자금을 저축합니다.\")\n",
    "else :\n",
    "    print(\"수입이 지출금보다 적어서 차액 만큼의 빚이 생겼습니다.\")"
   ]
  },
  {
   "cell_type": "code",
   "execution_count": 49,
   "id": "a489dd79",
   "metadata": {},
   "outputs": [
    {
     "name": "stdout",
     "output_type": "stream",
     "text": [
      "수입 금액: 5000\n",
      "지출 금액: 5000\n",
      "현상 유지\n"
     ]
    }
   ],
   "source": [
    "# 과제5_1030 서영우님 솔루션 \n",
    "income = int(input('수입 금액: '))\n",
    "spend = int(input('지출 금액: '))\n",
    "\n",
    "if income > spend:\n",
    "    print('저축 증가')\n",
    "elif income < spend:\n",
    "    print('채무 증가')\n",
    "else : \n",
    "    print('현상 유지')"
   ]
  },
  {
   "cell_type": "code",
   "execution_count": null,
   "id": "7eeccc5c",
   "metadata": {},
   "outputs": [],
   "source": [
    "# 추가 문제\n",
    "# 음식점의 음식 주문가격 산출 프로그램을 자유롭게 작성하세요\n",
    "'''\n",
    "KITA 식당에 오신 것을 환영합니다\n",
    "\n",
    "========================================\n",
    "\n",
    "          - 메  뉴 -\n",
    "    1. 불고기 비빔밥 : 12,000원\n",
    "    2. 야채 비빔밥 : 8,000원\n",
    "    3. 전주 비빔밥 : 10,000원\n",
    "\n",
    "    세트 주문시 : 3000원 추가\n",
    "    (세트는 밥과 반찬이 추가됩니다.)\n",
    "\n",
    "========================================\n",
    "\n",
    "비빔밥 메뉴를 선택해 주세요. 1, 2, 3 >>> 2\n",
    "세트 주문을 하시겠습니까? 3,000원 추가. y, n >>> y\n",
    "총 금액은 11000원 입니다.\n",
    "'''"
   ]
  },
  {
   "cell_type": "code",
   "execution_count": 36,
   "id": "ecaef380",
   "metadata": {},
   "outputs": [
    {
     "name": "stdout",
     "output_type": "stream",
     "text": [
      "KITA 식당에 오신 것을 환영합니다\n",
      "\n",
      "========================================\n",
      "\n",
      "          - 메  뉴 -\n",
      "    1. 불고기 비빔밥 : 12,000원\n",
      "    2. 야채 비빔밥 : 8,000원\n",
      "    3. 전주 비빔밥 : 10,000원\n",
      "\n",
      "    세트 주문시 : 3,000원 추가\n",
      "    (세트는 밥과 반찬이 추가됩니다.)\n",
      "\n",
      "========================================\n",
      "\n",
      "비빔밥 메뉴를 선택해 주세요. 1, 2, 3 >>> 2\n",
      "세트 주문을 하시겠습니까? 3,000원 추가. y, n >>> n\n",
      "총 금액은 8000원 입니다.\n"
     ]
    }
   ],
   "source": [
    "# 추가문제 ChatGPT 4 솔루션\n",
    "print(\"KITA 식당에 오신 것을 환영합니다\")\n",
    "print(\"\\n========================================\\n\")\n",
    "print(\"          - 메  뉴 -\")\n",
    "print(\"    1. 불고기 비빔밥 : 12,000원\")\n",
    "print(\"    2. 야채 비빔밥 : 8,000원\")\n",
    "print(\"    3. 전주 비빔밥 : 10,000원\")\n",
    "print(\"\\n    세트 주문시 : 3,000원 추가\")\n",
    "print(\"    (세트는 밥과 반찬이 추가됩니다.)\")\n",
    "print(\"\\n========================================\\n\")\n",
    "\n",
    "# 메뉴 가격\n",
    "menu_prices = {\n",
    "    1: 12000,\n",
    "    2: 8000,\n",
    "    3: 10000\n",
    "}\n",
    "\n",
    "# 사용자에게 메뉴 선택 요청\n",
    "while True:\n",
    "    try:\n",
    "        menu_choice = int(input(\"비빔밥 메뉴를 선택해 주세요. 1, 2, 3 >>> \"))\n",
    "        if menu_choice in menu_prices:\n",
    "            break\n",
    "        else:\n",
    "            print(\"잘못된 입력입니다. 다시 입력해주세요.\")\n",
    "    except ValueError:\n",
    "        print(\"잘못된 입력입니다. 숫자로 입력해주세요.\")\n",
    "\n",
    "# 세트 추가 여부 확인\n",
    "set_order = input(\"세트 주문을 하시겠습니까? 3,000원 추가. y, n >>> \").lower()\n",
    "\n",
    "# 총 가격 계산\n",
    "total_price = menu_prices[menu_choice]\n",
    "if set_order == 'y':\n",
    "    total_price += 3000\n",
    "\n",
    "# 결과 출력\n",
    "print(f\"총 금액은 {total_price}원 입니다.\")"
   ]
  },
  {
   "cell_type": "code",
   "execution_count": 33,
   "id": "bcf08b6f",
   "metadata": {},
   "outputs": [
    {
     "name": "stdout",
     "output_type": "stream",
     "text": [
      "'''\n",
      "KITA 식당에 오신 것을 환영합니다\n",
      "========================================\n",
      "\n",
      "          - 메 뉴 -\n",
      "1. 불고기 비빔밥         : 12,000원\n",
      "2. 야채 비빔밥          : 8,000원\n",
      "3. 전주 비빔밥          : 10,000원\n"
     ]
    }
   ],
   "source": [
    "# 추가 문제 솔루션\n",
    "print(\"\\'\\'\\'\")\n",
    "print(\"KITA 식당에 오신 것을 환영합니다\")\n",
    "print(\"=\" * 40 +\"\\n\")\n",
    "print(' '*10 +\"- 메 뉴 -\")\n",
    "table = {'1. 불고기 비빔밥':\"12,000원\", \"2. 야채 비빔밥\":\"8,000원\",\"3. 전주 비빔밥\":\"10,000원\"}\n",
    "for menu, price in table.items():\n",
    "    print(f'{menu:18} : {price}')"
   ]
  },
  {
   "cell_type": "code",
   "execution_count": null,
   "id": "e75a1969",
   "metadata": {},
   "outputs": [],
   "source": [
    "# 추가 문제 솔루션\n",
    "print(\"\\'\\'\\'\")\n",
    "print(\"KITA 식당에 오신 것을 환영합니다\")\n",
    "print(\"=\" * 40 +\"\\n\")\n",
    "print(' '*10 +\"- 메 뉴 -\")\n",
    "print"
   ]
  },
  {
   "cell_type": "markdown",
   "id": "d22f60df",
   "metadata": {},
   "source": [
    " #### 반복문 (Loop Statements)\n",
    "    \"- for: 시퀀스(리스트, 튜플, 문자열 등)의 아이템을 순회하면서 코드 블록을 실행합니다. # 시퀀스 : 순서가 있는 것\\n\",\n",
    "    \"- while: 특정 조건이 참인 동안 코드 블록을 (무한히)반복하여 실행합니다.\""
   ]
  },
  {
   "cell_type": "code",
   "execution_count": 51,
   "id": "00d27e9f",
   "metadata": {},
   "outputs": [
    {
     "ename": "SyntaxError",
     "evalue": "expression cannot contain assignment, perhaps you meant \"==\"? (2246236265.py, line 10)",
     "output_type": "error",
     "traceback": [
      "\u001b[1;36m  Cell \u001b[1;32mIn[51], line 10\u001b[1;36m\u001b[0m\n\u001b[1;33m    print(count+end=\"\")\u001b[0m\n\u001b[1;37m          ^\u001b[0m\n\u001b[1;31mSyntaxError\u001b[0m\u001b[1;31m:\u001b[0m expression cannot contain assignment, perhaps you meant \"==\"?\n"
     ]
    }
   ],
   "source": [
    "# for 루프는 시퀀스(리스트, 튜플, 문자열 등)나 반복 가능한 객체(iterable)의 요소를 순회\n",
    "\n",
    "for i in range(5):\n",
    "#     print(i)\n",
    "    print(i, end=' ')\n",
    "print() # 이렇게 띄울 수 있음\n",
    "print('\\n') # 이렇게 도 띄울 수 있음\n",
    "count = 0 # 카운트 변수에다가 0을 대입\n",
    "while count <5: # 조건을 만족하면 계속 반복.. count < 5 카운트가 5보다 작으면. 이라는 조건내에서 순회\n",
    "    print(count)\n",
    "    count += 1 # 만약 이게 없으면 count가 0 이라서 부한 0을 생성.."
   ]
  },
  {
   "cell_type": "code",
   "execution_count": 50,
   "id": "0a8e604c",
   "metadata": {},
   "outputs": [
    {
     "name": "stdout",
     "output_type": "stream",
     "text": [
      "0 1 2 3 4 "
     ]
    }
   ],
   "source": [
    "for n in range(5): # i 대신에 n 을 쓸수도 있음 .. i j 대신 n m\n",
    "    \n",
    "#     print(i)\n",
    "    print(n, end=' ')\n",
    "# print() # 이렇게 띄울 수 있음\n",
    "# print()\n",
    "# print('\\n') # 이렇게 도 띄울 수 있음\n",
    "# count = 0\n",
    "# while count <5:\n",
    "#     print(count)\n",
    "#     count += 1"
   ]
  },
  {
   "cell_type": "code",
   "execution_count": 61,
   "id": "87d6da0b",
   "metadata": {},
   "outputs": [
    {
     "name": "stdout",
     "output_type": "stream",
     "text": [
      "12345\n",
      "\n",
      "h e l l o "
     ]
    }
   ],
   "source": [
    "# 리스트를 순회하는 예\n",
    "for i in [1,2,3,4,5]:\n",
    "    print(i,end='')\n",
    "print('\\n')\n",
    "# 문자열을 순회하는 예\n",
    "for char in \"hello\":\n",
    "    print(char,end=' ')"
   ]
  },
  {
   "cell_type": "code",
   "execution_count": 74,
   "id": "a9f6d85c",
   "metadata": {},
   "outputs": [
    {
     "name": "stdout",
     "output_type": "stream",
     "text": [
      "0 1 2 3 4 "
     ]
    }
   ],
   "source": [
    "# while 루프는 주어진 조건이 참(True)인 동안 코드 블록을 반복\n",
    "# 조건이 거짓(Flase)이 되면 루프가 종료\n",
    "count = 0\n",
    "while count < 5:\n",
    "    print(count,end=' ')\n",
    "    count += 1 # count 를 1 증가시킵니다."
   ]
  },
  {
   "cell_type": "code",
   "execution_count": 83,
   "id": "99b48f1e",
   "metadata": {},
   "outputs": [
    {
     "name": "stdout",
     "output_type": "stream",
     "text": [
      "('a', 97)\n",
      "('b', 98)\n",
      "('c', 99)\n"
     ]
    }
   ],
   "source": [
    "# Q. 97 98 99 을 출력하세요\n",
    "d = {'a':97, 'b':98, 'c':99}\n",
    "\n",
    "for number in d.items():\n",
    "    print(f'{number}')"
   ]
  },
  {
   "cell_type": "code",
   "execution_count": 2,
   "id": "d8b194aa",
   "metadata": {},
   "outputs": [
    {
     "name": "stdout",
     "output_type": "stream",
     "text": [
      "('a', 97)\n",
      "('b', 98)\n",
      "('c', 99)\n"
     ]
    }
   ],
   "source": [
    "# Q. 97 98 99 을 출력하세요\n",
    "d = {'a':97, 'b':98, 'c':99}\n",
    "\n",
    "for i in d.items():\n",
    "    print(i)"
   ]
  },
  {
   "cell_type": "code",
   "execution_count": 87,
   "id": "9f719c73",
   "metadata": {},
   "outputs": [
    {
     "name": "stdout",
     "output_type": "stream",
     "text": [
      "97 98 99 "
     ]
    }
   ],
   "source": [
    "# Q. 97 98 99 을 출력하세요 # 서영우님 솔루션\n",
    "d = {'a': 97, 'b':98, 'c':99}\n",
    "for i in d.keys():\n",
    "    print(d[i],end=' ')"
   ]
  },
  {
   "cell_type": "markdown",
   "id": "16e9c436",
   "metadata": {},
   "source": [
    "#### 제어문 관련 키워드 : \n",
    "- break : 현재의 반복문을 중단하고, 반복문 바깥의 코드를 실행\n",
    "- continue : 반복문의 나머지 부분을 건너뛰고, 다음 반복을 시작"
   ]
  },
  {
   "cell_type": "code",
   "execution_count": 90,
   "id": "d98c782c",
   "metadata": {},
   "outputs": [
    {
     "name": "stdout",
     "output_type": "stream",
     "text": [
      "0 1 2 \n",
      "\n",
      "0 1 2 4 "
     ]
    }
   ],
   "source": [
    "for i in range(5):\n",
    "    if i == 3:\n",
    "        break # i 가 3일때 break! 블락을 벗어남 그래서 출력은 0 1 2\n",
    "    print(i,end=' ')\n",
    "print('\\n')\n",
    "    \n",
    "for i in range(5):\n",
    "    if i == 3:\n",
    "        continue # i 가 3일때 그 스텝을 통과 그래서 3은 출력 X, 0 1 2 4\n",
    "    print(i,end=' ')1"
   ]
  },
  {
   "cell_type": "code",
   "execution_count": 98,
   "id": "5b6a6801",
   "metadata": {},
   "outputs": [
    {
     "name": "stdout",
     "output_type": "stream",
     "text": [
      "0 1 2 3 4 \n",
      "1 3 5 7 9 "
     ]
    }
   ],
   "source": [
    "for i in range(10):\n",
    "    if i == 5:\n",
    "        break #  i 가 5일 때 루프를 종료합니다.\n",
    "    print(i,end=' ')\n",
    "print()\n",
    "for i in range(10):\n",
    "    if i % 2 == 0:\n",
    "        continue # i 가 짝수일 때 나머지 부분을 건너뛰고 다음 반복을 시작합니다.\n",
    "    print(i, end=' ')"
   ]
  },
  {
   "cell_type": "code",
   "execution_count": 104,
   "id": "d049d143",
   "metadata": {},
   "outputs": [
    {
     "name": "stdout",
     "output_type": "stream",
     "text": [
      "0\n",
      "1\n",
      "2\n",
      "3\n",
      "4\n",
      "루프가 완료되었습니다. \n",
      "\n",
      "0\n",
      "1\n",
      "2\n",
      "3\n",
      "4\n",
      "루프가 완료되었습니다.\n"
     ]
    }
   ],
   "source": [
    "# for 또는 while 루프에 else 절을 사용하면, 루프가 정상적으로 완료된 후에 실행할 코드를 지정\n",
    "for i in range(5):\n",
    "    print(i)\n",
    "else:\n",
    "    print(\"루프가 완료되었습니다.\",'\\n') # 들여쓰기 함\n",
    "# print(\"루프가 완료되었습니다.\",'\\n') # 들여쓰기 안하고 하면 else 안함 근데 이렇게 하면 이 문장이 계속 나올 수 있음\n",
    "#     print(\"루프가 완료되었습니다.\",'\\n') # 이거 하면 계속 문장나옴\n",
    "\n",
    "count = 0\n",
    "while count < 5:\n",
    "    print(count)\n",
    "    count += 1\n",
    "else : \n",
    "    print(\"루프가 완료되었습니다.\")\n",
    "#print(\"루프가 완료되었습니다.\") # 굳이 else 안쓰고 이렇게 써도 됨 들여쓰기 X"
   ]
  },
  {
   "cell_type": "code",
   "execution_count": 107,
   "id": "71602a1a",
   "metadata": {},
   "outputs": [
    {
     "name": "stdout",
     "output_type": "stream",
     "text": [
      "3에서 루프를 중단합니다.\n"
     ]
    }
   ],
   "source": [
    "# break 문을 사용하여 루프를 중단하면 else 절은 실행되지 않음\n",
    "for i in range(5):\n",
    "    if i == 3:\n",
    "        print(f'{i}에서 루프를 중단합니다.')\n",
    "        break\n",
    "else : # 이때 break가 되면 else는 안함. bcs블락을 빠져나옴\n",
    "    print('루프가 정상적으로 완료되었습니다.')\n",
    "\n",
    "# 출력 : \n",
    "# 3에서 루프를 중단합니다."
   ]
  },
  {
   "cell_type": "markdown",
   "id": "82b64ede",
   "metadata": {},
   "source": [
    "#### 조건과 반복을 결합"
   ]
  },
  {
   "cell_type": "code",
   "execution_count": 110,
   "id": "f8aadc1b",
   "metadata": {},
   "outputs": [
    {
     "name": "stdout",
     "output_type": "stream",
     "text": [
      "1 3 5 7 9 "
     ]
    }
   ],
   "source": [
    "# 홀수만 출력\n",
    "for i in range(10):\n",
    "    if i % 2 !=0:\n",
    "        print(i,end=' ')"
   ]
  },
  {
   "cell_type": "code",
   "execution_count": 122,
   "id": "7504bfa1",
   "metadata": {},
   "outputs": [
    {
     "name": "stdout",
     "output_type": "stream",
     "text": [
      "1 2 3 4 5 "
     ]
    }
   ],
   "source": [
    "#과제6_1030: 1~10 범위의 정수에서 1부터 5까지만 출력하세요.\n",
    "for i in range(10):\n",
    "    if i >= 5 :\n",
    "        break\n",
    "    print(i+1,end=' ')"
   ]
  },
  {
   "cell_type": "code",
   "execution_count": null,
   "id": "c2281255",
   "metadata": {},
   "outputs": [],
   "source": [
    "#과제6_1030 주용규님 솔루션\n",
    "for i in range (1, 11):\n",
    "    if i > 5:\n",
    "        break\n",
    "    print(i,end=' '')"
   ]
  },
  {
   "cell_type": "code",
   "execution_count": 129,
   "id": "43eb214d",
   "metadata": {},
   "outputs": [
    {
     "ename": "SyntaxError",
     "evalue": "incomplete input (3623712194.py, line 7)",
     "output_type": "error",
     "traceback": [
      "\u001b[1;36m  Cell \u001b[1;32mIn[129], line 7\u001b[1;36m\u001b[0m\n\u001b[1;33m    #         print(numbers,end=' ')\u001b[0m\n\u001b[1;37m                                    ^\u001b[0m\n\u001b[1;31mSyntaxError\u001b[0m\u001b[1;31m:\u001b[0m incomplete input\n"
     ]
    }
   ],
   "source": [
    "#과제7_1030: numbers 리스트에서 15,20,25 를 출력하세요. (for문과 if 조건 사용 필수)\n",
    "numbers= [5,15,6,20,7,25]\n",
    "for numbers in range(6):\n",
    "    print\n",
    "\n",
    "# for numbers in range(6):\n",
    "#     if numbers % 5 ==0:\n",
    "#         print(numbers,end=' ')"
   ]
  },
  {
   "cell_type": "code",
   "execution_count": 147,
   "id": "d931818d",
   "metadata": {},
   "outputs": [
    {
     "name": "stdout",
     "output_type": "stream",
     "text": [
      "15\n",
      "20\n",
      "25\n"
     ]
    }
   ],
   "source": [
    "#과제7_1030 Chat GPT4 솔루션\n",
    "numbers = [5, 15, 6, 20, 7, 25]\n",
    "\n",
    "for number in numbers:\n",
    "    if number in [15, 20, 25]:\n",
    "        print(number)"
   ]
  },
  {
   "cell_type": "code",
   "execution_count": 1,
   "id": "489aff0a",
   "metadata": {
    "scrolled": true
   },
   "outputs": [
    {
     "name": "stdout",
     "output_type": "stream",
     "text": [
      "15 20 25 "
     ]
    }
   ],
   "source": [
    "#과제7_1030 솔루션 \n",
    "numbers = [5, 15, 6, 20, 7, 25]\n",
    "for i in numbers :\n",
    "    if i > 10: # 리스트에 10 이상인 수가 15,20,25,여서 i > 10 이렇게 해도 됨.\n",
    "        print(i, end = ' ')"
   ]
  },
  {
   "cell_type": "code",
   "execution_count": null,
   "id": "0a292b30",
   "metadata": {},
   "outputs": [],
   "source": [
    "#과제7_1030 솔루션\n",
    "numbers = [5, 15, 6, 20, 7, 25]\n",
    "for i in numbers :\n",
    "    if i > 5 and i%5 == 0:\n",
    "        print(i, end = ' ')"
   ]
  },
  {
   "cell_type": "code",
   "execution_count": 143,
   "id": "79319db0",
   "metadata": {},
   "outputs": [
    {
     "name": "stdout",
     "output_type": "stream",
     "text": [
      "1 \n",
      "2 \n",
      "3 \n",
      "4 \n",
      "5 \n",
      "루프가 종료됨\n"
     ]
    }
   ],
   "source": [
    "# 특정 조건을 만족할 때까지 반복\n",
    "count = 0\n",
    "while True: # 무한 루프\n",
    "    count += 1\n",
    "    if count > 5: # 5보다 큰거니까 5는 출력\n",
    "        break # count가 5보다 클 때 루프를 종료합니다.\n",
    "    print(count,end=' '+\"\\n\")\n",
    "print('루프가 종료됨')"
   ]
  },
  {
   "cell_type": "code",
   "execution_count": 146,
   "id": "0c79dde8",
   "metadata": {},
   "outputs": [
    {
     "name": "stdout",
     "output_type": "stream",
     "text": [
      "3을(를) 찾았습니다!\n"
     ]
    }
   ],
   "source": [
    "# 리스트에서 특정값 찾기\n",
    "numbers = [1,2,3,4,5]\n",
    "target = 3\n",
    "for num in numbers:\n",
    "    if num == target :\n",
    "        print(f\"{target}을(를) 찾았습니다!\")\n",
    "        break\n",
    "else :\n",
    "    print(f\"{target}을(를) 못 찾았습니다!\")\n",
    "# print(f\"{target}을(를) 못 찾았습니다!\") # else를 벗어나면 그냥 출력됨"
   ]
  },
  {
   "cell_type": "code",
   "execution_count": null,
   "id": "af6a6e0d",
   "metadata": {},
   "outputs": [],
   "source": [
    "# Q1. 1 ~ 20 사이의 정수에서 10보다 작은 홀수만 출력"
   ]
  },
  {
   "cell_type": "code",
   "execution_count": 148,
   "id": "51ad6768",
   "metadata": {},
   "outputs": [
    {
     "ename": "SyntaxError",
     "evalue": "invalid syntax (832447907.py, line 2)",
     "output_type": "error",
     "traceback": [
      "\u001b[1;36m  Cell \u001b[1;32mIn[148], line 2\u001b[1;36m\u001b[0m\n\u001b[1;33m    numbers = [1:20]\u001b[0m\n\u001b[1;37m                ^\u001b[0m\n\u001b[1;31mSyntaxError\u001b[0m\u001b[1;31m:\u001b[0m invalid syntax\n"
     ]
    }
   ],
   "source": [
    "# Q1. 솔루션 한정현\n",
    "numbers = [1,2,3,4,5,6,7,8,9,10,11,12,13,14,15,16,17,18,19,20]\n",
    "for num in numbers :\n",
    "    if num  :"
   ]
  },
  {
   "cell_type": "code",
   "execution_count": 153,
   "id": "d0d4e190",
   "metadata": {},
   "outputs": [
    {
     "name": "stdout",
     "output_type": "stream",
     "text": [
      "1 3 5 7 9 "
     ]
    }
   ],
   "source": [
    "# Q1. 전유빈님 솔루션\n",
    "for i in range(1,21): # 정수 20까지니까 21로 함\n",
    "    if i < 10: #10보다 작으면\n",
    "        if i % 2 !=0: #또 거기에 2를 나눈거가 0이아니면(홀수이면)\n",
    "            print(i,end=' ') #출력\n",
    "    else: #그게 아니면\n",
    "        break # 브레이크"
   ]
  },
  {
   "cell_type": "code",
   "execution_count": null,
   "id": "6ac4f856",
   "metadata": {},
   "outputs": [],
   "source": [
    "# Q1. 주용규님 솔루션\n",
    "for i in range(1, 21, 1):\n",
    "    if i < 10 and i % 2 == 1:\n",
    "        print(i)"
   ]
  },
  {
   "cell_type": "code",
   "execution_count": 176,
   "id": "03c8c016",
   "metadata": {},
   "outputs": [
    {
     "name": "stdout",
     "output_type": "stream",
     "text": [
      "1 3 5 7 9 "
     ]
    }
   ],
   "source": [
    "# Q1. while ~ continue ~ break 사용하여 솔루션\n",
    "# while True :\n",
    "#     count += 1\n",
    "#     if count <10 and count % 2 != 0:\n",
    "#         print(count)\n",
    "#     else :\n",
    "#         break\n",
    "\n",
    "# while continue break 모두 사용\n",
    "a = 0\n",
    "while a < 20: # 0부터 시작이니까 < 20\n",
    "    a += 1\n",
    "    if a % 2 ==0:\n",
    "        continue\n",
    "    if a >= 10:\n",
    "        break\n",
    "    print(a, end=' ')"
   ]
  },
  {
   "cell_type": "code",
   "execution_count": null,
   "id": "bbd570f9",
   "metadata": {},
   "outputs": [],
   "source": [
    "# Q1. 연습 최대한 보지 않고 프로그래밍.. 어떻게 while continue break 가 작용하는건지 유의하면서 해보자\n",
    "# 1 ~ 20 사이의 정수에서 10보다 작은 홀수만 출력\n",
    "while n < 20:\n",
    "    n += 1"
   ]
  },
  {
   "cell_type": "code",
   "execution_count": null,
   "id": "0e6667fd",
   "metadata": {},
   "outputs": [],
   "source": [
    "# Q2. 정수 1부터 n까지 더할 때 그 합이 1000보다 커지게 되는 n과 합을 구하세요. (while ~ break 사용)"
   ]
  },
  {
   "cell_type": "code",
   "execution_count": 177,
   "id": "a0c13ba7",
   "metadata": {},
   "outputs": [
    {
     "name": "stdout",
     "output_type": "stream",
     "text": [
      "45\n",
      "1035\n"
     ]
    }
   ],
   "source": [
    "# Q2. 솔루션\n",
    "x= 1\n",
    "sum = 0\n",
    "while 1:\n",
    "    sum = sum + x\n",
    "    if sum > 1000: # 합이 1000 보다 클때\n",
    "        print(x) # 그때의 x 값\n",
    "        print(sum) # 그때의 sum 값\n",
    "        break\n",
    "    x = x + 1 # sum = sum + x 다음에 sum이 1000보다 크지않으면 바로 여기로 옴"
   ]
  },
  {
   "cell_type": "code",
   "execution_count": 188,
   "id": "0c99403c",
   "metadata": {
    "scrolled": true
   },
   "outputs": [
    {
     "name": "stdout",
     "output_type": "stream",
     "text": [
      "45\n",
      "1035\n"
     ]
    }
   ],
   "source": [
    "# Q2. 로직을 생각해보면서 다시 해보기\n",
    "n = 1\n",
    "sum = 0\n",
    "while True : \n",
    "    sum += n\n",
    "    if sum > 1000:\n",
    "        print(n)\n",
    "        print(sum)\n",
    "        break\n",
    "    else:\n",
    "        n = n + 1 # 왜 else를 안했을까.. Chat GPT한테 물어보니...\n",
    "        # 두 코드는 기능적으로 동일합니다. if 조건문 후에 else를 사용하지 않은 첫 번째 코드는 좀 더 간결하게 표현된 코드입니다.\n",
    "        #else를 사용한 두 번째 코드는 if 문과 연관된 코드를 명시적으로 그룹화하고 싶을 때 사용할 수 있지만,\n",
    "        #이 경우에는 else 없이도 동일한 결과를 얻을 수 있기 때문에 첫 번째 방식이 더 깔끔하다고 볼 수 있습니다."
   ]
  },
  {
   "cell_type": "code",
   "execution_count": null,
   "id": "bf499369",
   "metadata": {},
   "outputs": [],
   "source": [
    "# Q3. while문을 사용하여 1 부터 1000 까지의 정수 중 3의 배수의 합을 구해 보세요."
   ]
  },
  {
   "cell_type": "code",
   "execution_count": 184,
   "id": "ea4e4370",
   "metadata": {},
   "outputs": [
    {
     "name": "stdout",
     "output_type": "stream",
     "text": [
      "78\n",
      "1053\n"
     ]
    }
   ],
   "source": [
    "# Q3. 솔루션 # 1000까지로 잘못 프로그래밍 했음..\n",
    "a = 3\n",
    "sum = 0\n",
    "while 1 :\n",
    "    sum += a\n",
    "    if sum>1000:\n",
    "        print(a)\n",
    "        print(sum)\n",
    "        break\n",
    "    a = a + 3"
   ]
  },
  {
   "cell_type": "code",
   "execution_count": 185,
   "id": "712874f8",
   "metadata": {},
   "outputs": [
    {
     "name": "stdout",
     "output_type": "stream",
     "text": [
      "166833\n"
     ]
    }
   ],
   "source": [
    "# Q3. 전유빈님 솔루션\n",
    "count = 1\n",
    "multiple_sum = 0\n",
    "while count <=1000: # 1~1000까지\n",
    "    if count % 3 == 0:\n",
    "        multiple_sum += count\n",
    "    count += 1\n",
    "print(multiple_sum)"
   ]
  },
  {
   "cell_type": "code",
   "execution_count": 187,
   "id": "6f9d26de",
   "metadata": {},
   "outputs": [
    {
     "name": "stdout",
     "output_type": "stream",
     "text": [
      "166833\n"
     ]
    }
   ],
   "source": [
    "# Q3. 김신미님 솔루션\n",
    "n = 0\n",
    "sum = 0\n",
    "while n <1000: # 0~999까지\n",
    "    n += 1\n",
    "    if n % 3 == 0:\n",
    "        sum += n\n",
    "print(sum)"
   ]
  },
  {
   "cell_type": "code",
   "execution_count": null,
   "id": "e36cfaf2",
   "metadata": {},
   "outputs": [],
   "source": [
    "# Q4. 정수를 입력하면 홀수 짝수를 판별하는 프로그램 작성"
   ]
  },
  {
   "cell_type": "code",
   "execution_count": 199,
   "id": "435de05f",
   "metadata": {},
   "outputs": [
    {
     "name": "stdout",
     "output_type": "stream",
     "text": [
      "정수를 입력해주세요. : -22\n",
      "짝수입니다.\n"
     ]
    }
   ],
   "source": [
    "# Q4. 솔루션 # 들여쓰기 조심! num을 if 와 else 에 포함\n",
    "num = int(input(\"정수를 입력해주세요. : \"))\n",
    "if num % 2 == 0:\n",
    "    print(\"짝수입니다.\")\n",
    "else:\n",
    "    print(\"홀수입니다.\")"
   ]
  },
  {
   "cell_type": "code",
   "execution_count": null,
   "id": "5ed08c38",
   "metadata": {},
   "outputs": [],
   "source": [
    "# Q4. 서영우님 솔루션 # f'{}' 사용\n",
    "num = int(input())\n",
    "\n",
    "if num % 2 != 0:\n",
    "    print(f'{num}은 홀수입니다.')\n",
    "else:\n",
    "    print(f'{num}은 짝수입니다.')"
   ]
  },
  {
   "cell_type": "code",
   "execution_count": null,
   "id": "fddc0040",
   "metadata": {},
   "outputs": [],
   "source": [
    "# Q4. 주용규님 솔루션 # def사용\n",
    "data = int(input('정수 입력 :'))\n",
    "\n",
    "def show_what(x):\n",
    "    if x % 2 == 0:\n",
    "        print(\"짝수입니다.\")\n",
    "    else:\n",
    "        print(\"홀수입니다\")\n",
    "\n",
    "show_what(data)"
   ]
  },
  {
   "cell_type": "code",
   "execution_count": 204,
   "id": "657111f9",
   "metadata": {},
   "outputs": [
    {
     "name": "stdout",
     "output_type": "stream",
     "text": [
      "정수를 입력해주세요. : 4\n",
      "입력한  숫자 4는 짝수 입니다.\n"
     ]
    }
   ],
   "source": [
    "# Q4. 솔루션 # 들여쓰기 조심! num을 if 와 else 에 포함\n",
    "number = int(input(\"정수를 입력해주세요. : \"))\n",
    "if num % 2 == 1:\n",
    "    print(f'입력한  숫자 {number}는 홀수 입니다.')\n",
    "else:\n",
    "    print(f'입력한  숫자 {number}는 짝수 입니다.')"
   ]
  },
  {
   "cell_type": "code",
   "execution_count": null,
   "id": "8582a061",
   "metadata": {},
   "outputs": [],
   "source": [
    "# Q5. 입력받은 문자열의 각 문자를 그 다음 문자로 변경하여 출력하세요.(ABC -> BCA)\n",
    "# hint) 추론 : 여기에는 상황이 몇개일까..\n",
    "# hint) if else를 사용\n",
    "# hint) 각 문자를 뽑는것은 인덱스를 사용"
   ]
  },
  {
   "cell_type": "code",
   "execution_count": null,
   "id": "4729ee15",
   "metadata": {},
   "outputs": [],
   "source": [
    "# Q5. 솔루션 # ...\n",
    "str_word = input(\"문자열을 입력해주세요. : \")\n",
    "if str_word"
   ]
  },
  {
   "cell_type": "code",
   "execution_count": 220,
   "id": "56a31e7d",
   "metadata": {},
   "outputs": [
    {
     "name": "stdout",
     "output_type": "stream",
     "text": [
      "문자열을 입력 : abcde\n",
      "bcdea\n"
     ]
    }
   ],
   "source": [
    "# Q5. 주용규님 솔루션\n",
    "data = input('문자열을 입력 : ') # input 통해 len 입력\n",
    "for i in range(len(data)):\n",
    "    if i == 0:\n",
    "        continue\n",
    "    print(data[i],end='') # abcde 입력한것이 인덱스 1부터 -1 까지 출력하면(즉 bcde출력하면) for문 끝\n",
    "else:\n",
    "    print(data[0]) # 그리고 0번째 인덱스인 마지막에 a 출력"
   ]
  },
  {
   "cell_type": "code",
   "execution_count": 221,
   "id": "337e7ce0",
   "metadata": {},
   "outputs": [
    {
     "name": "stdout",
     "output_type": "stream",
     "text": [
      "b c d e "
     ]
    }
   ],
   "source": [
    "# Q5. 솔루션 # 부가설명  컨티뉴로 0번째인덱스, 즉 a 를 넘기고 출력해서 bcde 그리고 else로 프린트하면 마지막에 a가 출력\n",
    "# 어려우면 중간부분만 따서 출력해보는 것도 좋은 방법\n",
    "for i in range(len(data)):\n",
    "    if i == 0:\n",
    "        continue\n",
    "    print(data[i],end=' ')"
   ]
  },
  {
   "cell_type": "code",
   "execution_count": 205,
   "id": "0e529b88",
   "metadata": {},
   "outputs": [
    {
     "name": "stdout",
     "output_type": "stream",
     "text": [
      "[(1, 'a'), (2, 'b'), (3, 'c'), (4, 'd')]\n"
     ]
    }
   ],
   "source": [
    "# zip 함수는 여러 개의 반복 가능한 객체(iterables)를 인수로 받아, 각 객채의 같은 인덱스에 위치한\n",
    "# 요소들을 묶어 튜플로 반환하는 이터레이터를 생성\n",
    "list1 = [1,2,3,4]\n",
    "list2 = ['a','b','c','d']\n",
    "zipped = zip(list1, list2)\n",
    "print(list(zipped))"
   ]
  },
  {
   "cell_type": "code",
   "execution_count": null,
   "id": "f57c4dca",
   "metadata": {},
   "outputs": [],
   "source": [
    "# Q6. 남녀 파트너 정해주기 프로그램(zip)\n",
    "# 같은 수의 남녀 모임에서 파트너를 랜덤하게 정해주는 프로그램을 만들어 보세요\n",
    "# 예상 결과물 : \n",
    "# 커플1: 로미오, 갑춘\n",
    "# 커플2: 이몽룡, 미미\n",
    "# 커플3: 철수 성춘향\n",
    "# 커플4: 온돌, 평강\n",
    "# 커플5: 갑돌, 줄리엣\n",
    "male =['철수','갑돌','로미오','이몽룡','온돌']\n",
    "female =['미미','갑순','줄리엣','성춘향','평강']"
   ]
  },
  {
   "cell_type": "code",
   "execution_count": 208,
   "id": "1cec2260",
   "metadata": {},
   "outputs": [
    {
     "name": "stdout",
     "output_type": "stream",
     "text": [
      "[('철수', '미미'), ('갑돌', '갑순'), ('로미오', '줄리엣'), ('이몽룡', '성춘향'), ('온돌', '평강')]\n"
     ]
    }
   ],
   "source": [
    "# Q6. 솔루션 # 같은 인덱스끼리 짝을 지어줌\n",
    "male =['철수','갑돌','로미오','이몽룡','온돌']\n",
    "female =['미미','갑순','줄리엣','성춘향','평강']\n",
    "zipped = zip(male, female)\n",
    "print(list(zipped))"
   ]
  },
  {
   "cell_type": "code",
   "execution_count": null,
   "id": "018c3e02",
   "metadata": {},
   "outputs": [],
   "source": [
    "# Q6. 인덱스도 뽑아주고 커플도 뽑아주는.. # enumerate\n",
    "for i, couple in enumerate(couples):\n",
    "    \n",
    "t = ('로미오', '갑순') # 이런 식으로\n",
    "print(t[0],t[1])"
   ]
  },
  {
   "cell_type": "code",
   "execution_count": 278,
   "id": "9b784ae3",
   "metadata": {},
   "outputs": [
    {
     "name": "stdout",
     "output_type": "stream",
     "text": [
      "[('철수', '줄리엣'), ('이몽룡', '성춘향'), ('온돌', '미미'), ('갑돌', '갑순'), ('로미오', '평강')]\n"
     ]
    }
   ],
   "source": [
    "# Q6. 솔루션 # shuffle # 같은 인덱스끼리 짝을 지어줌\n",
    "male =['철수','갑돌','로미오','이몽룡','온돌']\n",
    "female =['미미','갑순','줄리엣','성춘향','평강']\n",
    "# shuffle(male)\n",
    "# shuffle(female)\n",
    "# zipped = zip(male, female)\n",
    "# print(list(zipped))\n",
    "\n",
    "for i, couple in enumerate(couples):\n",
    "    print(f'{커플}{})"
   ]
  },
  {
   "cell_type": "code",
   "execution_count": 290,
   "id": "68060cfc",
   "metadata": {},
   "outputs": [
    {
     "name": "stdout",
     "output_type": "stream",
     "text": [
      "커플1: 철수, 평강\n",
      "커플2: 갑돌, 줄리엣\n",
      "커플3: 로미오, 성춘향\n",
      "커플4: 이몽룡, 갑순\n",
      "커플5: 온돌, 미미\n"
     ]
    }
   ],
   "source": [
    "# Q6. 서영우님 솔루션\n",
    "from random import shuffle\n",
    "male = ['철수','갑돌','로미오','이몽룡','온돌']\n",
    "female = ['미미','갑순','줄리엣','성춘향','평강']\n",
    "shuffle(male)\n",
    "shuffle(female)\n",
    "couples = zip(male, female)\n",
    "couples = list(couples)\n",
    "for i, couple in enumerate(couples):\n",
    "    print(f'커플{i+1}: {couple[0]}, {couple[1]}')"
   ]
  },
  {
   "cell_type": "code",
   "execution_count": 10,
   "id": "4f8b90c2",
   "metadata": {
    "scrolled": true
   },
   "outputs": [
    {
     "name": "stdout",
     "output_type": "stream",
     "text": [
      "커플1: 갑돌, 미미\n",
      "커플2: 온돌, 갑순\n",
      "커플3: 철수, 줄리엣\n",
      "커플4: 로미오, 성춘향\n",
      "커플5: 이몽룡, 평강\n"
     ]
    }
   ],
   "source": [
    "# Q6. 전유빈님 솔루션\n",
    "from random import shuffle\n",
    "male = ['철수','갑돌','로미오','이몽룡','온돌']\n",
    "female = ['미미','갑순','줄리엣','성춘향','평강']\n",
    "shuffle(male)\n",
    "couples = zip(male, female) # male 의 인덱스과 female의 인덱스를 같은것끼리 모이게 하는것 zip # 튜플로 반환\n",
    "\n",
    "for i, couple in enumerate(couples): # i 는 인덱스 # enumerate 를 안하면 '커플'만 나오지 1 2 3 4 5이거 못붙임 # in couple 하면 안나옴\n",
    "    print(f'커플{i+1}: {couple[0]}, {couple[1]}') # 튜플로 변환되었기때문에 couple[0]은 male, couple[1]은 female  # f string\n",
    "    # 근데 왜 커플의 튜플 이름이 같나..??? male 튜플 female 튜플 의 이름이 couple로 같다?"
   ]
  },
  {
   "cell_type": "code",
   "execution_count": 18,
   "id": "3b509ffd",
   "metadata": {},
   "outputs": [
    {
     "name": "stdout",
     "output_type": "stream",
     "text": [
      "철수\n",
      "미미\n",
      "('철수', '미미')\n",
      "온돌\n",
      "갑순\n",
      "('온돌', '갑순')\n",
      "이몽룡\n",
      "줄리엣\n",
      "('이몽룡', '줄리엣')\n",
      "갑돌\n",
      "성춘향\n",
      "('갑돌', '성춘향')\n",
      "로미오\n",
      "평강\n",
      "('로미오', '평강')\n"
     ]
    }
   ],
   "source": [
    "# Q6. 전유빈님 솔루션\n",
    "from random import shuffle\n",
    "male = ['철수','갑돌','로미오','이몽룡','온돌']\n",
    "female = ['미미','갑순','줄리엣','성춘향','평강']\n",
    "shuffle(male)\n",
    "couples = zip(male, female) # male 의 인덱스과 female의 인덱스를 같은것끼리 모이게 하는것 zip # 튜플로 반환\n",
    "\n",
    "for i, couple in enumerate(couples): # i 는 인덱스 # enumerate 를 안하면 '커플'만 나오지 1 2 3 4 5이거 못붙임 # in couple 하면 안나옴\n",
    "#     print(f'커플{i+1}: {couple[0]}, {couple[1]}') # 튜플로 변환되었기때문에 couple[0]은 male, couple[1]은 female  # f string\n",
    "    # 근데 왜 커플의 튜플 이름이 같나..??? male 튜플 female 튜플 의 이름이 couple로 같다?\n",
    "    print(couple[0])\n",
    "    print(couple[1])\n",
    "    print(couple)"
   ]
  },
  {
   "cell_type": "code",
   "execution_count": 23,
   "id": "99272710",
   "metadata": {},
   "outputs": [
    {
     "name": "stdout",
     "output_type": "stream",
     "text": [
      "[1, 2, 3, 4, 5, 6, 7, 8, 9, 10, 11, 12, 13, 14, 15, 16, 17, 18, 19, 20, 21, 22, 23, 24, 25, 26, 27, 28, 29, 30, 31, 32, 33, 34, 35, 36, 37, 38, 39, 40, 41, 42, 43, 44, 45] \n",
      "\n",
      "[45, 11, 7, 25, 4, 24]\n",
      "[27, 33, 13, 19, 45, 17]\n",
      "[17, 28, 7, 41, 3, 44]\n",
      "[40, 4, 12, 21, 14, 38]\n",
      "[44, 13, 38, 26, 24, 29]\n",
      "[43, 34, 25, 29, 41, 13]\n"
     ]
    }
   ],
   "source": [
    "import random\n",
    "r = list(range(1,46))\n",
    "print(r,'\\n')\n",
    "for i in range(6):\n",
    "    lotto = random.sample(r,6) # unique한 원소 6개 = 중복되지않는\n",
    "    print(lotto)"
   ]
  },
  {
   "cell_type": "code",
   "execution_count": 60,
   "id": "2e70f62b",
   "metadata": {},
   "outputs": [
    {
     "name": "stdout",
     "output_type": "stream",
     "text": [
      "['윤성민', '이민지', '한정현']\n"
     ]
    }
   ],
   "source": [
    "# Q7. 발표자수를 랜덤하게 출력하는 프로그램을 작성하세요.(발표자 수 입력) #입력하면 3명이 랜덤하게 출력되는 프로그램\n",
    "import random\n",
    "kita = ['김신미','김학준','서영우','심주승','윤성민','이민지','전유빈','주용규','최재빈','한정현','황인서']\n",
    "num = 3 # int(input(\"발표자 수 입력 : \"))\n",
    "stu = random.sample(kita, 3) # sample을 사용. radom.sample, (리스트, 뽑을 수) 그리고 출력\n",
    "print(stu)"
   ]
  },
  {
   "cell_type": "markdown",
   "id": "9782bb0c",
   "metadata": {},
   "source": [
    "#### 과제8_1030 : 1부터 100까지의 정수 중 5 에서 95 까지의 합을 구하세요."
   ]
  },
  {
   "cell_type": "code",
   "execution_count": 2,
   "id": "81de896f",
   "metadata": {},
   "outputs": [
    {
     "name": "stdout",
     "output_type": "stream",
     "text": [
      "4550\n"
     ]
    }
   ],
   "source": [
    "# 과제8_1030 솔루션 # while, if\n",
    "# 주용규님 솔루션\n",
    "num = 1\n",
    "sum = 0\n",
    "while num <= 100: # num 이 100이하이라면 계속 반복\n",
    "    if num >=5 and num <= 95: # 5이상 95이하 일때\n",
    "        sum += num # 더한다\n",
    "    num += 1 # num이 5가 될때까지 반복\n",
    "print(sum)"
   ]
  },
  {
   "cell_type": "code",
   "execution_count": 3,
   "id": "5fd7a780",
   "metadata": {},
   "outputs": [
    {
     "name": "stdout",
     "output_type": "stream",
     "text": [
      "1050\n"
     ]
    }
   ],
   "source": [
    "# 과제8_1030 솔루션 # 픽스 필요!\n",
    "num1 = 1\n",
    "sum1 = 0\n",
    "while 1:\n",
    "    if num1 % 5 == 0 :\n",
    "        sum1 += num1\n",
    "    if num1 > 100 :\n",
    "        break\n",
    "    else :\n",
    "        num1 += 1\n",
    "print(sum1)"
   ]
  },
  {
   "cell_type": "code",
   "execution_count": 10,
   "id": "6f654f98",
   "metadata": {},
   "outputs": [
    {
     "name": "stdout",
     "output_type": "stream",
     "text": [
      "4550\n"
     ]
    }
   ],
   "source": [
    "# 과제8_1030 솔루션\n",
    "num = 1\n",
    "sum = 0\n",
    "while num <= 100 :\n",
    "    if num >= 5 and num <= 95 :\n",
    "        sum += num\n",
    "    num += 1\n",
    "print(sum)"
   ]
  },
  {
   "cell_type": "code",
   "execution_count": null,
   "id": "e3054e90",
   "metadata": {},
   "outputs": [],
   "source": [
    "# 과제8_1030 솔루션\n",
    "num = 1\n",
    "sum = 0\n",
    "while 1 :\n",
    "    if num >= 5 and num <= 95 :\n",
    "        sum += num \n",
    "    num += 1\n",
    "    if num >= 100 :\n",
    "        break\n",
    "print(sum)"
   ]
  },
  {
   "cell_type": "code",
   "execution_count": 15,
   "id": "e994a3b4",
   "metadata": {},
   "outputs": [
    {
     "name": "stdout",
     "output_type": "stream",
     "text": [
      "4550\n"
     ]
    }
   ],
   "source": [
    "# 과제8_1030 솔루션\n",
    "num = 1\n",
    "sum = 0\n",
    "while num <= 100 :\n",
    "    if num >= 5 and num <= 95 :\n",
    "        sum += num\n",
    "    num += 1\n",
    "print(sum)"
   ]
  },
  {
   "cell_type": "markdown",
   "id": "559ab219",
   "metadata": {},
   "source": [
    "##### 과제8-1_1031 : 1부터 100까지의 정수중 5부터 95까지의 합을 구하세요.\n",
    "(x < 5 or x > 95) 을 사용"
   ]
  },
  {
   "cell_type": "code",
   "execution_count": 11,
   "id": "25a54bc5",
   "metadata": {},
   "outputs": [
    {
     "name": "stdout",
     "output_type": "stream",
     "text": [
      "500\n"
     ]
    }
   ],
   "source": [
    "# 과제8-1_1031 # 문제 잘못이해.. 1~4 95~100 의 합을 구함\n",
    "x = 1\n",
    "sum = 0\n",
    "while x <= 100 : \n",
    "    if x < 5 or x > 95 :\n",
    "        sum += x\n",
    "    x += 1\n",
    "print(sum)"
   ]
  },
  {
   "cell_type": "code",
   "execution_count": 9,
   "id": "2a5be7ec",
   "metadata": {},
   "outputs": [
    {
     "name": "stdout",
     "output_type": "stream",
     "text": [
      "4550\n"
     ]
    }
   ],
   "source": [
    "# 과제8-1_1031 솔루션\n",
    "num = 1\n",
    "sum = 0\n",
    "while num <= 100:\n",
    "    if num < 5 or num > 95: \n",
    "        num += 1\n",
    "        continue        \n",
    "    sum += num\n",
    "    num += 1\n",
    "print(sum)"
   ]
  },
  {
   "cell_type": "code",
   "execution_count": 10,
   "id": "6882d834",
   "metadata": {},
   "outputs": [
    {
     "name": "stdout",
     "output_type": "stream",
     "text": [
      "4550\n"
     ]
    }
   ],
   "source": [
    "# 과제8-1_1031 솔루션 # while 문 사용\n",
    "num = 1\n",
    "sum = 0\n",
    "while num <= 100:\n",
    "    if num < 5 or num > 95: \n",
    "        num += 1\n",
    "        continue\n",
    "    else :\n",
    "        sum += num\n",
    "        num += 1\n",
    "print(sum)"
   ]
  },
  {
   "cell_type": "code",
   "execution_count": 50,
   "id": "1bea2217",
   "metadata": {},
   "outputs": [
    {
     "name": "stdout",
     "output_type": "stream",
     "text": [
      "4550\n"
     ]
    }
   ],
   "source": [
    "# 과제8-1_1031 솔루션 # for 문 사용 \n",
    "sum = 0\n",
    "for x in range(1,101) :\n",
    "    if x < 5 or x > 95 :\n",
    "        continue\n",
    "    sum += x\n",
    "print(sum)"
   ]
  },
  {
   "cell_type": "code",
   "execution_count": null,
   "id": "0a18d7c3",
   "metadata": {},
   "outputs": [],
   "source": [
    "# 과제9_1030 : while문을 사용해 1부터 1000까지의 정수 중 3과 5의 공배수의 합을 구해 보세요. data time import해서 쓰면됨"
   ]
  },
  {
   "cell_type": "code",
   "execution_count": 44,
   "id": "5ad397c6",
   "metadata": {},
   "outputs": [
    {
     "name": "stdout",
     "output_type": "stream",
     "text": [
      "0\n"
     ]
    }
   ],
   "source": [
    "# 과제9_1030 솔루션 # 3의 배수 이면서(and조건) 5의 배수인 수 들의 합\n",
    "tri = 1\n",
    "pen = 1\n",
    "sum15 = 0\n",
    "while 1:\n",
    "    if tri % 3 == 0 and pen % 5 == 0:\n",
    "        sum15 += 15\n",
    "    if tri or pen >= 1000:\n",
    "        break\n",
    "    else :\n",
    "        tri += 1\n",
    "        pen += 1\n",
    "print(sum15)"
   ]
  },
  {
   "cell_type": "code",
   "execution_count": 49,
   "id": "49707fa2",
   "metadata": {},
   "outputs": [
    {
     "name": "stdout",
     "output_type": "stream",
     "text": [
      "33165\n"
     ]
    }
   ],
   "source": [
    "# 과제09_1030 솔루션\n",
    "result = 0\n",
    "for n in range(1, 1001):\n",
    "    if (n % 3 == 0 and n % 5 == 0): \n",
    "        result += n\n",
    "print(result)"
   ]
  },
  {
   "cell_type": "code",
   "execution_count": 46,
   "id": "26978f2c",
   "metadata": {},
   "outputs": [
    {
     "name": "stdout",
     "output_type": "stream",
     "text": [
      "33165\n"
     ]
    }
   ],
   "source": [
    "# 과제09_1030 심주승님 솔루션\n",
    "i = 1\n",
    "sum = 0\n",
    "\n",
    "while i <= 1000:\n",
    "    if (i % 3 == 0 and i % 5 == 0):\n",
    "        sum += i\n",
    "    i += 1\n",
    "print(sum)"
   ]
  },
  {
   "cell_type": "code",
   "execution_count": null,
   "id": "a79d1613",
   "metadata": {},
   "outputs": [],
   "source": [
    "# 과제10_1030 : 현재 시각을 오전과 오후로 구분하는 프로그램을 작성하세요. # 현재 시각을 시스템에서 가져오기\n",
    "# 현재 시간 구하는 방법\n",
    "import datetime\n",
    "now=datetime.datetime.now()\n",
    "print(now.hour)"
   ]
  },
  {
   "cell_type": "code",
   "execution_count": 5,
   "id": "8ab0f6f8",
   "metadata": {},
   "outputs": [
    {
     "name": "stdout",
     "output_type": "stream",
     "text": [
      "10\n",
      "현재 오전 10시 입니다.\n"
     ]
    }
   ],
   "source": [
    "# 과제10_1030 솔루션 # 오전 : 0시부터 12시까지. 오후 : 12시부터 24까지\n",
    "import datetime\n",
    "now=datetime.datetime.now()\n",
    "print(now.hour)\n",
    "\n",
    "# 오전 : 0시~12시\n",
    "if now.hour < 12 :\n",
    "    print(f'현재 오전 {now.hour}시 입니다.')\n",
    "    \n",
    "# 오후 : 12시~24시\n",
    "if now.hour >= 12 :\n",
    "    print(f'현재 오후 {now.hour}시 입니다.')"
   ]
  },
  {
   "cell_type": "code",
   "execution_count": 10,
   "id": "57e8eb83",
   "metadata": {},
   "outputs": [
    {
     "name": "stdout",
     "output_type": "stream",
     "text": [
      "현재 시각의 시간을 숫자로만 입력해주세요 예) 12시 30분 이면 12 입력 : 11\n",
      "오전입니다.\n"
     ]
    }
   ],
   "source": [
    "# 과제10-1_1031 : 현재 시각을 오전과 오후로 구분하는 프로그램을 작성하세요.\n",
    "time = int(input(\"현재 시각의 시간을 숫자로만 입력해주세요 예) 12시 30분 이면 12 입력 : \"))\n",
    "\n",
    "if time >= 12 :\n",
    "    print(\"오후입니다\")\n",
    "else:\n",
    "    print(\"오전입니다.\")"
   ]
  },
  {
   "cell_type": "code",
   "execution_count": 11,
   "id": "8882fb4d",
   "metadata": {},
   "outputs": [
    {
     "name": "stdout",
     "output_type": "stream",
     "text": [
      "현재 시각의 시간을 숫자로만 입력해주세요 예) 12시 30분 이면 12 입력 : 11\n",
      "현재 시간은 11시, 오전입니다\n"
     ]
    }
   ],
   "source": [
    "# 과제10-1_1031 : 현재 시각을 오전과 오후로 구분하는 프로그램을 작성하세요.\n",
    "t = int(input(\"현재 시각의 시간을 숫자로만 입력해주세요 예) 12시 30분 이면 12 입력 : \"))\n",
    "\n",
    "if t >= 12 :\n",
    "    print(f\"현재 시간은 {t}시, 오후입니다\")\n",
    "else:\n",
    "    print(f\"현재 시간은 {t}시, 오전입니다\")"
   ]
  },
  {
   "cell_type": "code",
   "execution_count": null,
   "id": "ff62fc92",
   "metadata": {},
   "outputs": [],
   "source": [
    "# 과제10-1_1031\n",
    "time = input(\"현재 시간을 입력하세요(ex. 15시 30분): \")\n",
    "\n",
    "if time[2] != '시':\n",
    "    print(\"형식에 맞춰 작성해 주세요.\")\n",
    "elif int(time.split('시')[0]) >= 0  and int(time.split('시')[0]) < 12:\n",
    "    print(\"오전 입니다.\")\n",
    "elif int(time.split('시')[0]) >= 12 and int(time.split('시')[0]) < 24:\n",
    "    print(\"오후 입니다.\")\n",
    "else:\n",
    "    print(\"시간을 다시 입력해 주세요.\")"
   ]
  },
  {
   "cell_type": "code",
   "execution_count": null,
   "id": "1e2373ac",
   "metadata": {},
   "outputs": [],
   "source": [
    "# 과제11_1030 : 태어난 연도를 입력받아 띠를 출력하는 프로그램을 작성하세요.\n",
    "# 원숭이, 닭, 개, 돼지, 쥐, 소, 범, 토끼, 용, 뱀, 말, 양띠"
   ]
  },
  {
   "cell_type": "code",
   "execution_count": null,
   "id": "040107c9",
   "metadata": {},
   "outputs": [],
   "source": [
    "# 과제11_1030 윤성민님\n",
    "birth_year = int(input(\"태어난 연도를 입력하세요: \"))\n",
    "\n",
    "zodiacs = [\"쥐\", \"소\", \"호랑이\", \"토끼\", \"용\", \"뱀\", \"말\", \"양\", \"원숭이\", \"닭\", \"개\", \"돼지\"]\n",
    "\n",
    "zodiac_index = (birth_year - 1924) % 12\n",
    "zodiac = zodiacs[zodiac_index]\n",
    "\n",
    "print(f\"{birth_year}년은 {zodiac}띠입니다.\")"
   ]
  },
  {
   "cell_type": "code",
   "execution_count": 13,
   "id": "067ebc0a",
   "metadata": {},
   "outputs": [
    {
     "name": "stdout",
     "output_type": "stream",
     "text": [
      "<태어난 연도를 입력받아 띠를 출력하는 프로그램>\n",
      "==================================================\n",
      "태어난 연도를 입력해주세요. : 2001\n",
      "뱀 띠입니다.\n"
     ]
    }
   ],
   "source": [
    "# 과제11_1030 솔루션\n",
    "print(\"<태어난 연도를 입력받아 띠를 출력하는 프로그램>\"+'\\n'+\"=\"*50)\n",
    "year = int(input(\"태어난 연도를 입력해주세요. : \"))\n",
    "birth_year = year % 12\n",
    "if birth_year==0:\n",
    "    print(\"원숭이 띠입니다.\")\n",
    "elif birth_year==1:\n",
    "    print(\"닭 띠입니다.\")\n",
    "elif birth_year==2:\n",
    "    print(\"개 띠입니다.\")\n",
    "elif birth_year==3:\n",
    "    print(\"돼지 띠입니다.\")\n",
    "elif birth_year==4:\n",
    "    print(\"쥐 띠입니다.\")\n",
    "elif birth_year==5:\n",
    "    print(\"소 띠입니다.\")\n",
    "elif birth_year==6:\n",
    "    print(\"범 띠입니다.\")\n",
    "elif birth_year==7:\n",
    "    print(\"토끼 띠입니다.\")\n",
    "elif birth_year==8:\n",
    "    print(\"용 띠입니다.\")\n",
    "elif birth_year==9:\n",
    "    print(\"뱀 띠입니다.\")\n",
    "elif birth_year==10:\n",
    "    print(\"말 띠입니다.\")\n",
    "else:\n",
    "    print(\"양 띠입니다.\")"
   ]
  },
  {
   "cell_type": "code",
   "execution_count": 2,
   "id": "7cdf65ac",
   "metadata": {},
   "outputs": [
    {
     "name": "stdout",
     "output_type": "stream",
     "text": [
      "태어난 해를 입력하세요 : 2001\n",
      "뱀 띠입니다.\n"
     ]
    }
   ],
   "source": [
    "# 과제11_1030 솔루션 # if, elif, else .. # 코드 간소화도 생각해보자! 인덱스 같은거 응용하면 됨\n",
    "a = ['원숭이', '닭', '개', '돼지', '쥐', '소', '범', '토끼', '용', '뱀', '말', '양띠']\n",
    "s = int(input(\"태어난 해를 입력하세요 : \"))\n",
    "print(f'{a[s%12]} 띠입니다.') "
   ]
  },
  {
   "cell_type": "code",
   "execution_count": null,
   "id": "e5b54346",
   "metadata": {},
   "outputs": [],
   "source": [
    "# 과제12_1030 : 커피 자판기 프로그램\n",
    "- 시나리오 : 자판기 커피 재고 5잔, 커피 1잔 가격 300원, 재고 범위내에서 300원 이상 돈을 넣으면\n",
    "    거스름돈과 커피를 주고 그렇지 않으면 반환하며 재고가 소진되면 안내멘트 출력\n",
    "- 각 Case별 멘트 출력은 상황에 맞게 창작\n",
    "- while, if ~ elif ~ else 제어문을 사용하여 작성"
   ]
  },
  {
   "cell_type": "code",
   "execution_count": 3,
   "id": "62d1f72b",
   "metadata": {},
   "outputs": [
    {
     "name": "stdout",
     "output_type": "stream",
     "text": [
      "돈을 주시면 커피를 드립니다.1000\n",
      "거스름돈 700원을 반환하고 커피를 추출합니다.\n",
      "돈을 주시면 커피를 드립니다.1000\n",
      "거스름돈 700원을 반환하고 커피를 추출합니다.\n",
      "돈을 주시면 커피를 드립니다.1000\n",
      "거스름돈 700원을 반환하고 커피를 추출합니다.\n",
      "돈을 주시면 커피를 드립니다.1000\n",
      "거스름돈 700원을 반환하고 커피를 추출합니다.\n",
      "돈을 주시면 커피를 드립니다.1000\n",
      "거스름돈 700원을 반환하고 커피를 추출합니다.\n",
      "커피가 다 소진되었습니다. 다음에 또 찾아주시길 바랍니다.\n"
     ]
    }
   ],
   "source": [
    "# 과제12_1030 김학준님 솔루션\n",
    "coffee = 5\n",
    "while True:\n",
    "    money =int(input(\"돈을 주시면 커피를 드립니다.\"))\n",
    "    if money ==300:\n",
    "        print(\"커피를 추출합니다\")\n",
    "        coffee -=1\n",
    "    elif money > 300:\n",
    "        print(\"거스름돈 %d원을 반환하고 커피를 추출합니다.\"%(money-300))\n",
    "        coffee -=1\n",
    "    else:\n",
    "        print(\"금액이 부족하여 %d원을 반환합니다.\"%(money))\n",
    "    if coffee == 0:\n",
    "        print(\"커피가 다 소진되었습니다. 다음에 또 찾아주시길 바랍니다.\")\n",
    "        break"
   ]
  },
  {
   "cell_type": "code",
   "execution_count": null,
   "id": "cdb03139",
   "metadata": {},
   "outputs": [],
   "source": [
    "# 과제12_1030 솔루션\n",
    "print(\"커피 자판기 1잔에 300원\")\n",
    "coffee = 5\n",
    "\n",
    "while 1 :\n",
    "    money = int(input(\"동전이나 지폐를 넣어 주세요. : \"))\n",
    "    \n",
    "    if money == 300 :\n",
    "        print(\"커피가 나오는 중입니다. 잠시만 기다려 주세요.\")\n",
    "        coffee = coffee - 1\n",
    "    \n",
    "    elif money > 300 :\n",
    "        print(\"커피가 나오는 중입니다. 잠시만 기다려 주세요.\")\n",
    "        coffee = coffee - 1\n",
    "        거스름돈 = money - 300\n",
    "        print(f\"거스름돈 {거스름돈}원이 나옵니다.\")\n",
    " \n",
    "    else :\n",
    "        print(\"돈이 부족합니다. 돈을 반환합니다.\")\n",
    "        print(f'{coffee}잔이 남았습니다.')\n",
    "    \n",
    "    if coffee == 0 :\n",
    "        print(\"커피가 소진되었습니다.\")\n",
    "        break"
   ]
  },
  {
   "cell_type": "code",
   "execution_count": 3,
   "id": "c7b0c9f6",
   "metadata": {},
   "outputs": [
    {
     "name": "stdout",
     "output_type": "stream",
     "text": [
      "2\n",
      "3\n",
      "다시 입력해주세요\n"
     ]
    }
   ],
   "source": [
    "# Q.1_1031 짝수와 짝수를 입력하면 곱한 값을 출력하고 홀수와 홀수를 입력하면 덧셈 값을 출력하고 그외는\n",
    "# 다시 입력하라는 메시지를 출력하세요.\n",
    "\n",
    "x = int(input())\n",
    "y = int(input())\n",
    "\n",
    "if x % 2 == 0 and y % 2 == 0 :\n",
    "    print(x * y)\n",
    "    \n",
    "if x % 2 == 1 and y % 2 == 1 :\n",
    "    print(x + y)\n",
    "\n",
    "else : \n",
    "    print(\"다시 입력해주세요\")"
   ]
  },
  {
   "cell_type": "code",
   "execution_count": 1,
   "id": "2365ab2e",
   "metadata": {
    "scrolled": true
   },
   "outputs": [
    {
     "name": "stdout",
     "output_type": "stream",
     "text": [
      "정수를 입력0\n",
      "정수를 입력0\n",
      "0\n"
     ]
    }
   ],
   "source": [
    "# Q.1_1031 윤성민님 솔루션\n",
    "while True:\n",
    "    num1 = int(input(\"정수를 입력\"))\n",
    "    num2 = int(input(\"정수를 입력\"))\n",
    "    if num1 % 2 == 0 and num2 % 2 == 0:\n",
    "        print(num1*num2)\n",
    "    elif num1 % 2 == 1 and num2 % 2 == 1:\n",
    "        print(num1+num2)\n",
    "    else:\n",
    "        print(\"다시 입력하세요\")\n",
    "    if num1 == 0 and num2 == 0:\n",
    "        break"
   ]
  },
  {
   "cell_type": "code",
   "execution_count": 2,
   "id": "bfed3fbe",
   "metadata": {},
   "outputs": [
    {
     "name": "stdout",
     "output_type": "stream",
     "text": [
      "정수를 입력1\n",
      "정수를 입력2\n",
      "다시 입력하세요\n",
      "정수를 입력3\n",
      "정수를 입력3\n",
      "6\n"
     ]
    }
   ],
   "source": [
    "# Q.1_1031 윤성민님 솔루션\n",
    "while True:\n",
    "    num1 = int(input(\"정수를 입력\"))\n",
    "    num2 = int(input(\"정수를 입력\"))\n",
    "    if num1 % 2 == 0 and num2 % 2 == 0:\n",
    "        print(num1*num2)\n",
    "        break\n",
    "    elif num1 % 2 == 1 and num2 % 2 == 1:\n",
    "        print(num1+num2)\n",
    "        break\n",
    "    else:\n",
    "        print(\"다시 입력하세요\")\n",
    "        continue"
   ]
  },
  {
   "cell_type": "markdown",
   "id": "d1abc794",
   "metadata": {},
   "source": [
    "#### 과제1_1031 : 사용자가 입력한 게임 회수만큼 로또 번호를 출력하는 프로그램을 작성하세요.(중복 처리)"
   ]
  },
  {
   "cell_type": "code",
   "execution_count": 21,
   "id": "2e0889b8",
   "metadata": {},
   "outputs": [
    {
     "name": "stdout",
     "output_type": "stream",
     "text": [
      "원하는 게임 횟수1\n",
      "[35, 12, 38, 31, 41, 11]\n"
     ]
    }
   ],
   "source": [
    "# 과제1_1031 김학준님 솔루션 \n",
    "import random\n",
    "num=int(input('원하는 게임 횟수'))\n",
    "r=list(range(1,46))\n",
    "for i in range(num):\n",
    "    lotto = random.sample(r,6)\n",
    "    print(lotto)"
   ]
  },
  {
   "cell_type": "code",
   "execution_count": 36,
   "id": "b6d06450",
   "metadata": {},
   "outputs": [
    {
     "name": "stdout",
     "output_type": "stream",
     "text": [
      "횟수 입력 : 2\n",
      "[4, 20, 1, 14, 5, 10]\n",
      "[35, 6, 8, 45, 40, 1]\n"
     ]
    }
   ],
   "source": [
    "import random\n",
    "num = int(input(\"횟수 입력 : \"))\n",
    "r = range(1,46)\n",
    "for i in range(num):\n",
    "    lotto = random.sample(r,6)\n",
    "    print(lotto)"
   ]
  },
  {
   "cell_type": "code",
   "execution_count": null,
   "id": "a863793d",
   "metadata": {},
   "outputs": [],
   "source": [
    "#과제1_1031 최재빈님 솔루션\n",
    "\n",
    "import random\n",
    "\n",
    "turns = int(input('게임 회수를 입력하세요: '))\n",
    "\n",
    "for i in range(turns):\n",
    "   lotto_numbers = random.sample(range(1, 46), 6)           # random.sample(range(1, 46), 6) 1에서 45 숫자 중 6개 뽑는 이렇게 해도 됨\n",
    "   lotto_numbers.sort()\n",
    "   print(f\"로또 번호{i+1}:\", lotto_numbers)"
   ]
  },
  {
   "cell_type": "code",
   "execution_count": 26,
   "id": "263e6eb2",
   "metadata": {
    "scrolled": true
   },
   "outputs": [
    {
     "name": "stdout",
     "output_type": "stream",
     "text": [
      "횟수 입력 : 5\n",
      "로또 번호1 :  [15, 17, 20, 21, 42, 44]\n",
      "로또 번호2 :  [6, 8, 9, 28, 31, 36]\n",
      "로또 번호3 :  [7, 26, 27, 37, 41, 43]\n",
      "로또 번호4 :  [2, 11, 17, 24, 29, 31]\n",
      "로또 번호5 :  [5, 9, 15, 31, 33, 40]\n"
     ]
    }
   ],
   "source": [
    "#과제1_1031 솔루션\n",
    "import random\n",
    "turns = int(input(\"횟수 입력 : \"))\n",
    "for i in range(turns) :\n",
    "    lotto_numbers = random.sample(range(1,46),6)\n",
    "    lotto_numbers.sort()\n",
    "    print(f\"로또 번호{i+1} : \", lotto_numbers)"
   ]
  },
  {
   "cell_type": "markdown",
   "id": "2502937b",
   "metadata": {},
   "source": [
    "##### pop 함수\n",
    "- 리스트와 같은 자료 구조에서 주로 사용되는 함수\n",
    "- 이 함수는 특정 인덱스에 위치한 요소를 리스트에서 제거하고 해당 요소를 반환"
   ]
  },
  {
   "cell_type": "code",
   "execution_count": 29,
   "id": "38d8fb81",
   "metadata": {},
   "outputs": [
    {
     "name": "stdout",
     "output_type": "stream",
     "text": [
      "cherry\n",
      "['apple', 'banna', 'data']\n",
      "data\n",
      "['apple', 'banna']\n"
     ]
    }
   ],
   "source": [
    "# pop 함수\n",
    "fruits = [\"apple\", \"banna\", \"cherry\", \"data\"]\n",
    "\n",
    "# 인덱스 2의 요소 (cherry)를 제거하고 반환\n",
    "removed_fruit = fruits.pop(2)\n",
    "print(removed_fruit)\n",
    "print(fruits)\n",
    "\n",
    "# 리스트의 마지막 요소 (data)를 제거하고 반환\n",
    "last_fruit = fruits.pop()\n",
    "print(last_fruit)\n",
    "print(fruits)"
   ]
  },
  {
   "cell_type": "markdown",
   "id": "efeedd4c",
   "metadata": {},
   "source": [
    "#### 과제1-1_1031 : sample 을 사용하지않고 중복 처리를 하세요."
   ]
  },
  {
   "cell_type": "code",
   "execution_count": null,
   "id": "427383a7",
   "metadata": {},
   "outputs": [],
   "source": [
    "#과제1-1_1031 솔루션\n",
    "import random\n",
    "turns = int(input(\"횟수 입력: \"))\n",
    "lotto_numbers = for i in range(1, 46)\n",
    "for i in range(turns) :\n",
    "    lotto_numbers = "
   ]
  },
  {
   "cell_type": "code",
   "execution_count": 22,
   "id": "c27575c4",
   "metadata": {},
   "outputs": [
    {
     "name": "stdout",
     "output_type": "stream",
     "text": [
      "로또 횟수를 입력하세요 : 3\n",
      "로또번호 1 :  [8, 12, 24, 26, 43, 45]\n",
      "로또번호 2 :  [1, 3, 9, 21, 27, 34]\n",
      "로또번호 3 :  [24, 30, 31, 39, 43, 44]\n"
     ]
    }
   ],
   "source": [
    "#과제1-1_1031 솔루션\n",
    "from random import shuffle\n",
    "from time import sleep\n",
    "\n",
    "gnum = int(input(\"로또 횟수를 입력하세요 : \"))\n",
    "for i in range(gnum):\n",
    "    lt = [x+1 for x in range(45)]\n",
    "    ret = []\n",
    "    for j in range(6):\n",
    "        shuffle(lt)\n",
    "        num = lt.pop()\n",
    "        ret.append(num)\n",
    "        ret.sort()\n",
    "    print('로또번호 %d : ' %(i+1),end=' ')\n",
    "    print(ret)\n",
    "    sleep(1)"
   ]
  },
  {
   "cell_type": "markdown",
   "id": "f89035b9",
   "metadata": {},
   "source": [
    "#### 과제2_1031 현재 계절 구분 프로그램\n",
    "- 시나리오 : 3 ~ 5월은 봄, 6 ~ 8월은 여름, 9 ~ 11월은 가을, 12 ~ 2월은 겨울로 구분. 지금 계절을 알려주는 프로그램 \n",
    "- 각 계절별 출력 멘트는 계절에 맞게 창작\n",
    "- if 조건문으로 datetime 모듈을 import해서 datetime.now 함수를 사용해서 작성"
   ]
  },
  {
   "cell_type": "code",
   "execution_count": 24,
   "id": "c39a13fc",
   "metadata": {},
   "outputs": [
    {
     "name": "stdout",
     "output_type": "stream",
     "text": [
      "독서의 계절 가을이 왔습니다.\n"
     ]
    }
   ],
   "source": [
    "# 과제2_1031 현재 계절 구분 프로그램 전유빈님 솔루션\n",
    "from datetime import datetime\n",
    "spring = [3,4,5]\n",
    "summer = [6,8,7]\n",
    "autumn = [9,10,11]\n",
    "winter = [12,1,2]\n",
    "\n",
    "today = datetime.now()\n",
    "month = today.month\n",
    "if month in spring:\n",
    "    print(\"새싹이 돋아나는 봄이 왔습니다.\")\n",
    "elif month in summer:\n",
    "    print(\"바캉스의 계절 여름이 왔습니다.\")\n",
    "elif month in autumn:\n",
    "    print(\"독서의 계절 가을이 왔습니다.\")\n",
    "else:\n",
    "    print(\"연말 연초의 겨울이 왔습니다.\")"
   ]
  },
  {
   "cell_type": "code",
   "execution_count": 23,
   "id": "1fbed0ab",
   "metadata": {},
   "outputs": [
    {
     "name": "stdout",
     "output_type": "stream",
     "text": [
      "현재날짜 : 11:01\n",
      "가을임다.\n"
     ]
    }
   ],
   "source": [
    "# 과제2_1031 김학준님 솔루션\n",
    "from datetime import datetime\n",
    "dt_now = datetime.now()\n",
    "print(\"현재날짜 :\", dt_now.strftime('%m:%d'))\n",
    "month = int(dt_now.strftime('%m'))%12\n",
    "monthly=['겨울','겨울','겨울','봄','봄','봄','여름','여름','여름','가을','가을','가을']\n",
    "print(f'{monthly[month%12]}임다.')"
   ]
  },
  {
   "cell_type": "code",
   "execution_count": 1,
   "id": "2ac9945f",
   "metadata": {},
   "outputs": [
    {
     "name": "stdout",
     "output_type": "stream",
     "text": [
      "가을.\n"
     ]
    }
   ],
   "source": [
    "# 과제2_1031 솔루션 \n",
    "from datetime import datetime\n",
    "spring = [3,4,5]\n",
    "summer = [6,7,8]\n",
    "autumn = [9,10,11]\n",
    "winter = [12,1,2]\n",
    "\n",
    "month = datetime.now().month\n",
    "if month in spring : \n",
    "    print(\"봄입니다.\")\n",
    "if month in summer :\n",
    "    print(\"여름\")\n",
    "if month in autumn : \n",
    "    print(\"가을.\")\n",
    "if month in winter :\n",
    "    print(\"겨울\")"
   ]
  },
  {
   "cell_type": "markdown",
   "id": "ce962e57",
   "metadata": {},
   "source": [
    "#### 과제3_1031 : 1부터 99까지 아래와 같이 2개의 수를 곱해서 가장 큰 수를 구하세요.\n",
    "1*99, 2*98 ...99*1"
   ]
  },
  {
   "cell_type": "code",
   "execution_count": 25,
   "id": "ec0a5aad",
   "metadata": {},
   "outputs": [
    {
     "name": "stdout",
     "output_type": "stream",
     "text": [
      "2500\n"
     ]
    }
   ],
   "source": [
    "# 과제3_1031 전유빈님 솔루션\n",
    "m = 0\n",
    "for i in range (1,100):\n",
    "    if m >= (i*(100-i)): # 여기서 max_value 가 처음엔 0이었다가 i*(100-i) 되고 서로 비교가 됨\n",
    "        continue\n",
    "    else:\n",
    "        m = i*(100-i)\n",
    "print(m)"
   ]
  },
  {
   "cell_type": "code",
   "execution_count": 1,
   "id": "e6ef476f",
   "metadata": {},
   "outputs": [
    {
     "name": "stdout",
     "output_type": "stream",
     "text": [
      "2500\n"
     ]
    }
   ],
   "source": [
    "# 과제3_1031 솔루션 # while 문 사용\n",
    "n = 1\n",
    "m = 0\n",
    "while 1 :\n",
    "    n += 1\n",
    "    if n >= 100 :\n",
    "        break\n",
    "    if m >= n*(100-n) :\n",
    "        continue\n",
    "    else : \n",
    "        m = n*(100-n)   \n",
    "print(m)"
   ]
  },
  {
   "cell_type": "code",
   "execution_count": 35,
   "id": "55b2ca1d",
   "metadata": {},
   "outputs": [
    {
     "name": "stdout",
     "output_type": "stream",
     "text": [
      "2500\n"
     ]
    }
   ],
   "source": [
    "# 과제3_1031 솔루션 # for문 사용\n",
    "max = 0\n",
    "for i in range (1,100)  :\n",
    "    if max >= i*(100-i) :\n",
    "        continue\n",
    "    else :\n",
    "        max = i*(100-i)\n",
    "print(max)"
   ]
  },
  {
   "cell_type": "markdown",
   "id": "a110dbb5",
   "metadata": {},
   "source": [
    "#### 과제4_1031 [    ]을 채워서 아래의 출력과 같이 출력하세요.\n",
    "-출력 :\n",
    "-numbers = [1,2,3,4,5,6,7,8,9]\n",
    "-output = [[], [], []]\n",
    "\n",
    "- [[1,4,7],[2,5,8],[3,6,9]]"
   ]
  },
  {
   "cell_type": "code",
   "execution_count": 2,
   "id": "173e7c4c",
   "metadata": {},
   "outputs": [
    {
     "name": "stdout",
     "output_type": "stream",
     "text": [
      "[1, 2, 3]\n",
      "[1, 2, 3]\n",
      "[1, 2, 3]\n"
     ]
    }
   ],
   "source": [
    "# 과제4_1031 솔루션\n",
    "numbers = [1,2,3,4,5,6,7,8,9]\n",
    "output = [[], [], []]\n",
    "for i in range(3) :\n",
    "    output = list(map(int,numbers[:3]))\n",
    "    print(output)"
   ]
  },
  {
   "cell_type": "code",
   "execution_count": 1,
   "id": "f6cc0ef7",
   "metadata": {},
   "outputs": [
    {
     "name": "stdout",
     "output_type": "stream",
     "text": [
      "[[1, 4, 7], [2, 5, 8], [3, 6, 9]]\n"
     ]
    }
   ],
   "source": [
    "# 과제4_1031 주용규님 솔루션\n",
    "numbers = [1,2,3,4,5,6,7,8,9]\n",
    "output = [[], [], []]\n",
    "\n",
    "for i in numbers:\n",
    "    if i % 3 == 1:\n",
    "        output[0].append(i)\n",
    "    elif i % 3 == 2:\n",
    "        output[1].append(i)\n",
    "    else:\n",
    "        output[2].append(i)\n",
    "        \n",
    "print(output)"
   ]
  },
  {
   "cell_type": "code",
   "execution_count": 3,
   "id": "090da0c9",
   "metadata": {},
   "outputs": [
    {
     "name": "stdout",
     "output_type": "stream",
     "text": [
      "[[1, 4, 7], [2, 5, 8], [3, 6, 9]]\n"
     ]
    }
   ],
   "source": [
    "# 과제4_1031 서영우님 솔루션\n",
    "numbers = [1,2,3,4,5,6,7,8,9]\n",
    "output = [[], [], []]\n",
    "\n",
    "\n",
    "for i, number in enumerate(numbers):\n",
    "    output[i%3].append(number)\n",
    "print(output)"
   ]
  },
  {
   "cell_type": "code",
   "execution_count": 5,
   "id": "9e9357f9",
   "metadata": {},
   "outputs": [
    {
     "data": {
      "text/plain": [
       "8"
      ]
     },
     "execution_count": 5,
     "metadata": {},
     "output_type": "execute_result"
    }
   ],
   "source": [
    "# randint(a,b): 인자로 들어온 a,b 사이의 랜덤한 정수(int)를 반환\n",
    "import random\n",
    "random.randint(1,10) # 엔드포인트 포함 1,10이면 1부터10까지. # integer from 1 to 10 endpoints included"
   ]
  },
  {
   "cell_type": "markdown",
   "id": "086438b6",
   "metadata": {},
   "source": [
    "#### 과제5_1031 컴퓨터가 랜덤하게 생성하는 숫자 맞추기 게임 프로그램을 작성하세요"
   ]
  },
  {
   "cell_type": "code",
   "execution_count": null,
   "id": "989de579",
   "metadata": {},
   "outputs": [],
   "source": [
    "# 과제5_1031 솔루션\n",
    "\n",
    "import random\n",
    "number = random.randint(1,20)\n",
    "\n",
    "while True :\n",
    "    ans = int(input(\"1부터 20까지의 숫자중 하나를 입력해주세요. : \"))\n",
    "    if ans == number :\n",
    "        print(\"정답입니다\")\n",
    "        break\n",
    "    elif ans > number :\n",
    "        print(\"정답은 해당 수 보다 더 작은 수 입니다..\")\n",
    "    else :\n",
    "        print(\"정답은 해당 수 보다 더 큰 수 입니다.\")"
   ]
  },
  {
   "cell_type": "code",
   "execution_count": null,
   "id": "309c0848",
   "metadata": {},
   "outputs": [],
   "source": [
    "# 과제5_1031 솔루션\n",
    "import numpy as np\n",
    "\n",
    "while True:\n",
    "    s_e = input(\"게임을 하시겠습니까?[y/n]: \")\n",
    "\n",
    "    if s_e == \"y\":\n",
    "        answer = np.random.randint(0, 21)  # 0~10 사이의 숫자를 생성\n",
    "        while True:\n",
    "            a = int(input(\"숫자를 입력하세요(0~20): \"))\n",
    "            \n",
    "            if 0 <= a <= 20:  # 입력된 숫자가 0~10 범위 내인지 확인\n",
    "                if a > answer:\n",
    "                    print(\"정답보다 큽니다! 작은 숫자를 입력하세요.\")\n",
    "                elif a < answer:\n",
    "                    print(\"정답보다 작습니다! 큰 숫자를 입력하세요.\")\n",
    "                else:\n",
    "                    print(\"정답입니다.\")\n",
    "                    break\n",
    "            else:\n",
    "                print(\"범위 안의 숫자를 입력해주세요.\")\n",
    "    else:\n",
    "        print(\"게임을 종료합니다.\")\n",
    "        break"
   ]
  },
  {
   "cell_type": "code",
   "execution_count": null,
   "id": "839fe030",
   "metadata": {},
   "outputs": [],
   "source": [
    "# 과제5_1031 심주승님 솔루션\n",
    "import random\n",
    "list1 = list(range(100))\n",
    "num = random.sample(list1,1)\n",
    "num2 = num[0]\n",
    "i = 0\n",
    "\n",
    "while True:\n",
    "    ans = int(input(\"숫자를 입력하세요: \"))\n",
    "    i += 1\n",
    "    if num2 > ans:\n",
    "        print(f'오답, {ans}보다 큰 값입니다.')\n",
    "    elif num2 < ans:\n",
    "        print(f'오답, {ans}보다 작은 값입니다.')\n",
    "    else:\n",
    "        print(f'정답입니다. 정답은 {num2}입니다.')\n",
    "        print(f'{i}번 시도하였습니다.')\n",
    "        break"
   ]
  },
  {
   "cell_type": "markdown",
   "id": "54d49596",
   "metadata": {},
   "source": [
    "#### 과제6_1031 Player가 3승할 때까지 계속 진행되는 가위바위보 게임 프로그램을 작성하세요.\n",
    "- 게임을 Player와 컴퓨터가 진행"
   ]
  },
  {
   "cell_type": "code",
   "execution_count": null,
   "id": "67ef97f8",
   "metadata": {},
   "outputs": [],
   "source": [
    "# 과제6_1031 솔루션\n",
    "import random\n",
    "point = 0\n",
    "while True :\n",
    "    if point == 3 :\n",
    "        print(\"3승을 하여 게임이 종료되었습니다...\")\n",
    "        break\n",
    "    computer = random.choice(['가위','바위','보'])\n",
    "    me = str(input(\"가위, 바위, 보 중에서 하나를 입력하세요. : \"))\n",
    "    if me == computer :\n",
    "        print(\"무승부\")\n",
    "        print(point)\n",
    "    elif (me == '가위' and computer == '보') or (me == '보' and computer == '바위') or (me == '바위' and computer == '가위') :\n",
    "        print(\"승리\")\n",
    "        point += 1\n",
    "        print(point)\n",
    "    else : \n",
    "        print(\"패배\")\n",
    "        print(point)"
   ]
  },
  {
   "cell_type": "code",
   "execution_count": null,
   "id": "1a843db2",
   "metadata": {},
   "outputs": [],
   "source": [
    "# 과제6_1031 주용규님 솔루션\n",
    "import random\n",
    "\n",
    "com_hand = ['가위','바위','보']\n",
    "win_case={'가위':'바위','바위':'보','보':'가위'} # 사전!\n",
    "win_number = 0\n",
    "\n",
    "print('가위 바위 보 게임을 시작합니다. (3회 우승시 종료)')\n",
    "print('※주의 : 오타는 패배로 간주됩니다.')\n",
    "while True:\n",
    "    com_select = com_hand[random.randint(0,2)]\n",
    "    you_select = input('가위/바위/보 입력: ')\n",
    "    print(f'컴퓨터는 {com_select}입니다.')\n",
    "    if win_case[com_select] == you_select:\n",
    "        win_number += 1\n",
    "        print(f'이겼습니다. 현재 {win_number}승 입니다.')\n",
    "    else:\n",
    "        if com_select == you_select:\n",
    "            print('비겼습니다.')\n",
    "        else:\n",
    "            print('졌습니다.') # 딴소리하는거 차단 else: else: \n",
    "    if win_number == 3:\n",
    "        print('3승을 달성하여 게임이 종료됩니다.')\n",
    "        break"
   ]
  },
  {
   "cell_type": "markdown",
   "id": "fa7fe3dd",
   "metadata": {},
   "source": [
    "#### 과제7_1031\n",
    "- 음식점의 음식 주문가격 산출 프로그램을 자유롭게 작성하세요\n",
    "\n",
    "'''\n",
    "KITA 식당에 오신 것을 환영합니다\n",
    "\n",
    "========================================\n",
    "\n",
    "          - 메  뉴 -\n",
    "    1. 불고기 비빔밥 : 12,000원\n",
    "    2. 야채 비빔밥 : 8,000원\n",
    "    3. 전주 비빔밥 : 10,000원\n",
    "\n",
    "    세트 주문시 : 3000원 추가\n",
    "    (세트는 밥과 반찬이 추가됩니다.)\n",
    "\n",
    "========================================\n",
    "\n",
    "비빔밥 메뉴를 선택해 주세요. 1, 2, 3 >>> 2\n",
    "세트 주문을 하시겠습니까? 3,000원 추가. y, n >>> y\n",
    "총 금액은 11000원 입니다.\n",
    "'''"
   ]
  },
  {
   "cell_type": "code",
   "execution_count": null,
   "id": "a08ac274",
   "metadata": {},
   "outputs": [],
   "source": [
    "# 과제7_1031 최재빈님 솔루션\n",
    "total_price = 0  # 총 금액 초기값\n",
    "order = {}  # 주문한 메뉴와 수량을 저장할 딕셔너리\n",
    "\n",
    "while True:\n",
    "    print(\"\\nKITA 식당에 오신 것을 환영합니다\")\n",
    "    print(\"===============================\")\n",
    "    print(\"- 메  뉴 -\")\n",
    "    print(\"1. 불고기 비빔밥 : 12,000원\")\n",
    "    print(\"2. 야채 비빔밥 : 8,000원\")\n",
    "    print(\"3. 전주 비빔밥 : 10,000원\")\n",
    "    print(\"세트 주문시 : 3,000원 추가 (세트는 밥과 반찬이 추가됩니다.)\")\n",
    "    print(\"===============================\")\n",
    "\n",
    "    menu = int(input('비빔밥 메뉴를 선택해 주세요. 1, 2, 3 (0: 주문 종료): '))\n",
    "    if menu == 0:\n",
    "        break  # 0을 입력하면 주문 종료\n",
    "    \n",
    "    if menu in [1, 2, 3]:\n",
    "        set_menu = input('세트 주문을 하시겠습니까? 3,000원 추가. y/n: ')\n",
    "        \n",
    "        if menu == 1:\n",
    "            a = 12000\n",
    "            menu_name = '불고기 비빔밥'\n",
    "        elif menu == 2:\n",
    "            a = 8000\n",
    "            menu_name = '야채 비빔밥'\n",
    "        elif menu == 3:\n",
    "            a = 10000\n",
    "            menu_name = '전주 비빔밥'\n",
    "        \n",
    "        if set_menu == 'y':\n",
    "            b = 3000\n",
    "            menu_name += ' 세트'\n",
    "        else:\n",
    "            b = 0\n",
    "\n",
    "        price = a + b\n",
    "        total_price += price  # 총 금액 누적\n",
    "\n",
    "        if menu_name in order:\n",
    "            order[menu_name] += 1\n",
    "        else:\n",
    "            order[menu_name] = 1\n",
    "\n",
    "        print(f'주문한 메뉴: {menu_name}, 총 금액은 {total_price}원 입니다.')\n",
    "    else:\n",
    "        print('잘못된 메뉴 선택입니다.')\n",
    "\n",
    "print('주문이 종료되었습니다. 총 주문 금액은', total_price, '원 입니다.')\n",
    "print('주문 내역:')\n",
    "for menu, quantity in order.items():\n",
    "    print(f'{menu}: {quantity}개')"
   ]
  }
 ],
 "metadata": {
  "kernelspec": {
   "display_name": "Python 3 (ipykernel)",
   "language": "python",
   "name": "python3"
  },
  "language_info": {
   "codemirror_mode": {
    "name": "ipython",
    "version": 3
   },
   "file_extension": ".py",
   "mimetype": "text/x-python",
   "name": "python",
   "nbconvert_exporter": "python",
   "pygments_lexer": "ipython3",
   "version": "3.10.13"
  }
 },
 "nbformat": 4,
 "nbformat_minor": 5
}
