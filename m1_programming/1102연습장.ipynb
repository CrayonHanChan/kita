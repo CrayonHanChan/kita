{
 "cells": [
  {
   "cell_type": "code",
   "execution_count": null,
   "id": "75402507",
   "metadata": {},
   "outputs": [],
   "source": [
    "# Q1_1102. lambda 를 리스트 형태로 작성하여 4칙 연산을 해보세요."
   ]
  },
  {
   "cell_type": "code",
   "execution_count": 12,
   "id": "f69ffb7a",
   "metadata": {
    "scrolled": true
   },
   "outputs": [
    {
     "name": "stdout",
     "output_type": "stream",
     "text": [
      "20\n",
      "0\n",
      "100\n",
      "1.0\n"
     ]
    }
   ],
   "source": [
    "list1 = [lambda a,b : a+b , lambda a,b : a-b, lambda a,b : a*b, lambda a,b : a/b]\n",
    "for i in list1: # range 대신에 인덱스 있는 list1 을 함 그럼 차피 4번돌려짐 인덱스가 0,1,2,3 총4개라서\n",
    "    print(i(10,10)) # i 자리에 0 1 2 3  들어가는데 저건 숫자라기보다 인덱스 번호라서 0일때 lambda a,b : a+b 인 list1[0]이 나오는것\n",
    "    # 즉 list1[0](10,10) 을 하게되면 10,10 이 a,b자리에 들어가게되고 그것이 람다 함수에 의해서 계산됨 그것이 i=0일때, 인덱스가 0일때,임\n",
    "    # 그런다음 for i 니까 0다음 1 이 이제 시작하게되는데,,, 1은 list1[1]일테고 그러면 인덱스 1을 불러오게 되서 쭉쭉쭉하면 프린트가 전부 되면 저렇게 됨"
   ]
  },
  {
   "cell_type": "code",
   "execution_count": 13,
   "id": "91921b0c",
   "metadata": {
    "scrolled": true
   },
   "outputs": [
    {
     "name": "stdout",
     "output_type": "stream",
     "text": [
      "20\n",
      "0\n",
      "100\n",
      "1.0\n"
     ]
    }
   ],
   "source": [
    "list1 = [lambda a,b : a+b , lambda a,b : a-b, lambda a,b : a*b, lambda a,b : a/b]\n",
    "for i in range(0,4):\n",
    "    print(list1[i](10,10)) # list1[i] 라는 것이 굉장히 키포인트인데, list1[i] 하게되면 리스트1의 인덱스를 불르는데 그 번호는어디? 바로 for문에서!!"
   ]
  },
  {
   "cell_type": "code",
   "execution_count": 2,
   "id": "1ff501e2",
   "metadata": {
    "scrolled": true
   },
   "outputs": [
    {
     "name": "stdout",
     "output_type": "stream",
     "text": [
      "10\n"
     ]
    }
   ],
   "source": [
    "list1 = lambda x,a : x+a\n",
    "print(list1(5,5))"
   ]
  },
  {
   "cell_type": "markdown",
   "id": "1458287c",
   "metadata": {},
   "source": [
    "#### 과제1_1102 : 실행 가능한 숫자를 문자열('5+5') 입력으로 받아 문자열을 실행한 결과값을 출력하세요."
   ]
  },
  {
   "cell_type": "code",
   "execution_count": 25,
   "id": "c2d2bb2b",
   "metadata": {},
   "outputs": [
    {
     "name": "stdout",
     "output_type": "stream",
     "text": [
      "숫자를 문자열로 입력해주세요 : 2+2\n",
      "4\n"
     ]
    }
   ],
   "source": [
    "# 과제1_1102 솔루션\n",
    "print(eval(input(\"숫자를 문자열로 입력해주세요 : \")))"
   ]
  },
  {
   "cell_type": "code",
   "execution_count": 24,
   "id": "5e3dbe4d",
   "metadata": {},
   "outputs": [
    {
     "name": "stdout",
     "output_type": "stream",
     "text": [
      "숫자를 문자열로 입력: 123!\n"
     ]
    },
    {
     "ename": "SyntaxError",
     "evalue": "invalid syntax (<string>, line 1)",
     "output_type": "error",
     "traceback": [
      "Traceback \u001b[1;36m(most recent call last)\u001b[0m:\n",
      "\u001b[0m  File \u001b[0;32mC:\\anaconda3\\envs\\kita\\lib\\site-packages\\IPython\\core\\interactiveshell.py:3526\u001b[0m in \u001b[0;35mrun_code\u001b[0m\n    exec(code_obj, self.user_global_ns, self.user_ns)\u001b[0m\n",
      "\u001b[1;36m  Cell \u001b[1;32mIn[24], line 5\u001b[1;36m\n\u001b[1;33m    print(eval(a))\u001b[1;36m\n",
      "\u001b[1;36m  File \u001b[1;32m<string>:1\u001b[1;36m\u001b[0m\n\u001b[1;33m    123!\u001b[0m\n\u001b[1;37m       ^\u001b[0m\n\u001b[1;31mSyntaxError\u001b[0m\u001b[1;31m:\u001b[0m invalid syntax\n"
     ]
    }
   ],
   "source": [
    "while 1 :\n",
    "    a = input(\"숫자를 문자열로 입력: \")\n",
    "    if a == 0 :\n",
    "        break\n",
    "    print(eval(a))\n"
   ]
  },
  {
   "cell_type": "code",
   "execution_count": 30,
   "id": "80a7743b",
   "metadata": {},
   "outputs": [
    {
     "name": "stdout",
     "output_type": "stream",
     "text": [
      "5+5 : 5+5\n",
      "10\n"
     ]
    }
   ],
   "source": [
    "num = input('5+5 : ')\n",
    "maths = ['+','-','/','*']\n",
    "math = {'+':lambda a,b:a+b,'-':lambda a,b:a-b,'/':lambda a,b:a/b,'*':lambda a,b:a*b}\n",
    "\n",
    "num_list = list(num)\n",
    "for i in num_list:\n",
    "    if i in maths:\n",
    "        num = num.split(i)\n",
    "        print(math[i](int(num[0]),int(num[1])))"
   ]
  },
  {
   "cell_type": "code",
   "execution_count": 33,
   "id": "c52ec1bf",
   "metadata": {},
   "outputs": [
    {
     "name": "stdout",
     "output_type": "stream",
     "text": [
      "5+5 를 입력 : 5 + 5\n",
      "10\n"
     ]
    }
   ],
   "source": [
    "num = input('5+5 를 입력 : ')\n",
    "maths = ['+','-','/','*']\n",
    "math = {'+':lambda a,b:a+b, '-':lambda a,b:a-b,'/':lambda a,b:a/b,'*':lambda a,b:a*b}\n",
    "\n",
    "num_list = list(num)\n",
    "# print(num_list)\n",
    "for i in num_list:\n",
    "    if i in maths:\n",
    "        num = num.split(i)\n",
    "        print(math[i](int(num[0]),int(num[1])))"
   ]
  },
  {
   "cell_type": "code",
   "execution_count": 37,
   "id": "200eb5f8",
   "metadata": {},
   "outputs": [
    {
     "name": "stdout",
     "output_type": "stream",
     "text": [
      "python\n",
      "1\n"
     ]
    }
   ],
   "source": [
    "print('python')\n",
    "print(len([1]))"
   ]
  },
  {
   "cell_type": "code",
   "execution_count": 56,
   "id": "362bba59",
   "metadata": {},
   "outputs": [
    {
     "name": "stdout",
     "output_type": "stream",
     "text": [
      "2 4 6 8 10  \n",
      "5\n"
     ]
    }
   ],
   "source": [
    "li = [2,4,6,8,10]\n",
    "for i in range(0,len(li)): # len(li)이렇게 하면 끝인 5\n",
    "#     print(i) # i 가 0 1 2 3 4 이렇게 되는데.. li에 해당되는 걸 뽑고 싶다면?\n",
    "    print(li[i],end=' ')\n",
    "print(' ')\n",
    "print(len(li))"
   ]
  },
  {
   "cell_type": "code",
   "execution_count": 78,
   "id": "7ced987d",
   "metadata": {},
   "outputs": [
    {
     "ename": "SyntaxError",
     "evalue": "incomplete input (1378913295.py, line 4)",
     "output_type": "error",
     "traceback": [
      "\u001b[1;36m  Cell \u001b[1;32mIn[78], line 4\u001b[1;36m\u001b[0m\n\u001b[1;33m    print(list(range(20,0,-2))\u001b[0m\n\u001b[1;37m                              ^\u001b[0m\n\u001b[1;31mSyntaxError\u001b[0m\u001b[1;31m:\u001b[0m incomplete input\n"
     ]
    }
   ],
   "source": [
    "print(list(range(2)))\n",
    "print(list(range(3,5)))\n",
    "print(list(range(1,10,1)))\n",
    "print(list(range(20,0,-2))"
   ]
  },
  {
   "cell_type": "code",
   "execution_count": 87,
   "id": "6b1d66f0",
   "metadata": {},
   "outputs": [
    {
     "name": "stdout",
     "output_type": "stream",
     "text": [
      "20\n",
      "21\n",
      "22\n",
      "23\n",
      "24\n",
      "25\n",
      "26\n",
      "27\n",
      "28\n",
      "29\n",
      "30\n",
      "31\n",
      "32\n",
      "33\n",
      "34\n",
      "35\n",
      "36\n",
      "37\n",
      "38\n",
      "39\n"
     ]
    }
   ],
   "source": [
    "for i in range(20,40):\n",
    "    print(i)"
   ]
  },
  {
   "cell_type": "code",
   "execution_count": null,
   "id": "18c9c66e",
   "metadata": {},
   "outputs": [],
   "source": [
    "num = input('5+5 : ')\n",
    "maths = ['+','-','/','*']\n",
    "math = {'+':lambda a,b:a+b,'-':lambda a,b:a-b,'/':lambda a,b:a/b,'*':lambda a,b:a*b}\n",
    "\n",
    "num_list = list(num)\n",
    "for i in num_list:\n",
    "    if i in maths:\n",
    "        num = num.split(i)\n",
    "        print(math[i](int(num[0]),int(num[1])))"
   ]
  },
  {
   "cell_type": "code",
   "execution_count": 112,
   "id": "e3bec372",
   "metadata": {},
   "outputs": [
    {
     "name": "stdout",
     "output_type": "stream",
     "text": [
      "5+5 를 입력 : 5+5\n",
      "['5', '+', '5']\n",
      "10\n"
     ]
    }
   ],
   "source": [
    "num = input('5+5 를 입력 : ')\n",
    "maths = ['+','-','/','*']\n",
    "math = {'+' : lambda a,b : a+b}\n",
    "num_list = list(num)\n",
    "print(num_list)\n",
    "# for i in len(num(list)) # for i in 여기 -< 여기 자리에는 int는 안되고 str된다\n",
    "for i in num_list :\n",
    "    if i in maths :\n",
    "        num = num.split(i)\n",
    "        print(math[i](int(num[0]),int(num[1])))"
   ]
  },
  {
   "cell_type": "code",
   "execution_count": null,
   "id": "737e778b",
   "metadata": {},
   "outputs": [],
   "source": [
    "#### 과제2_1102 : enumerate와 f-string을 사용해서 특정 리스트에서 원하는 형태로 출력을 하세요.(인덱스와 내용을 믹스하여)"
   ]
  },
  {
   "cell_type": "code",
   "execution_count": 117,
   "id": "c2db5969",
   "metadata": {},
   "outputs": [
    {
     "name": "stdout",
     "output_type": "stream",
     "text": [
      "1번 학생은, 50점입니다.\n",
      "2번 학생은, 60점입니다.\n",
      "3번 학생은, 70점입니다.\n",
      "4번 학생은, 80점입니다.\n",
      "5번 학생은, 90점입니다.\n"
     ]
    }
   ],
   "source": [
    "score_list = [50,60,70,80,90]\n",
    "\n",
    "for i,score in enumerate(score_list) :\n",
    "    print(f\"{i+1}번 학생은, {score}점입니다.\")"
   ]
  },
  {
   "cell_type": "code",
   "execution_count": null,
   "id": "2580dbf4",
   "metadata": {},
   "outputs": [],
   "source": [
    "import pickle\n",
    "f = open('test3.txt','wb')\n",
    "data = {1:'python',2:'you need'}\n",
    "pickle.dump(data,f)\n",
    "f.close()"
   ]
  },
  {
   "cell_type": "code",
   "execution_count": 120,
   "id": "64063c08",
   "metadata": {},
   "outputs": [
    {
     "name": "stdout",
     "output_type": "stream",
     "text": [
      "{1: 'python', 2: 'you need'}\n"
     ]
    }
   ],
   "source": [
    "import pickle\n",
    "f = open('test3.txt','rb')\n",
    "data = pickle.load(f)\n",
    "print(data)\n",
    "f.close()"
   ]
  },
  {
   "cell_type": "code",
   "execution_count": 121,
   "id": "5fd830f4",
   "metadata": {
    "scrolled": true
   },
   "outputs": [
    {
     "data": {
      "text/plain": [
       "'C:\\\\anaconda3\\\\envs\\\\kita;C:\\\\anaconda3\\\\envs\\\\kita\\\\Library\\\\mingw-w64\\\\bin;C:\\\\anaconda3\\\\envs\\\\kita\\\\Library\\\\usr\\\\bin;C:\\\\anaconda3\\\\envs\\\\kita\\\\Library\\\\bin;C:\\\\anaconda3\\\\envs\\\\kita\\\\Scripts;C:\\\\Program Files\\\\Java\\\\jdk-1.8\\\\bin;C:\\\\Windows\\\\system32;C:\\\\Windows;C:\\\\Windows\\\\System32\\\\Wbem;C:\\\\Windows\\\\System32\\\\WindowsPowerShell\\\\v1.0\\\\;C:\\\\Windows\\\\System32\\\\OpenSSH\\\\;C:\\\\anaconda3;C:\\\\anaconda3\\\\Library\\\\mingw-w64\\\\bin;C:\\\\anaconda3\\\\Library\\\\bin;C:\\\\anaconda3\\\\Scripts;C:\\\\Program Files\\\\Bandizip\\\\;C:\\\\Users\\\\Administrator\\\\AppData\\\\Local\\\\Microsoft\\\\WindowsApps;'"
      ]
     },
     "execution_count": 121,
     "metadata": {},
     "output_type": "execute_result"
    }
   ],
   "source": [
    "import os\n",
    "os.environ['PATH']"
   ]
  },
  {
   "cell_type": "code",
   "execution_count": 122,
   "id": "9aaa7533",
   "metadata": {},
   "outputs": [
    {
     "data": {
      "text/plain": [
       "'D:\\\\hjh_directory\\\\workspace\\\\jupyter\\\\python programming'"
      ]
     },
     "execution_count": 122,
     "metadata": {},
     "output_type": "execute_result"
    }
   ],
   "source": [
    "%pwd"
   ]
  },
  {
   "cell_type": "code",
   "execution_count": 123,
   "id": "9257ab5d",
   "metadata": {},
   "outputs": [
    {
     "name": "stdout",
     "output_type": "stream",
     "text": [
      " D 드라이브의 볼륨: 새 볼륨\n",
      " 볼륨 일련 번호: 02B1-19A2\n",
      "\n",
      " D:\\hjh_directory\\workspace\\jupyter\\python programming 디렉터리\n",
      "\n",
      "2023-11-02  오후 09:37    <DIR>          .\n",
      "2023-11-02  오후 09:37    <DIR>          ..\n",
      "2023-11-02  오후 04:35    <DIR>          .ipynb_checkpoints\n",
      "2023-11-01  오후 03:56    <DIR>          __pycache__\n",
      "2023-11-02  오후 09:37            11,787 1102연습장.ipynb\n",
      "2023-11-01  오후 02:23    <DIR>          ex\n",
      "2023-11-01  오후 02:45                18 foo.txt\n",
      "2023-11-01  오전 08:31                31 hm.txt\n",
      "2023-11-02  오전 10:16             1,117 mydata.txt\n",
      "2023-11-01  오전 10:29                86 mymodule.py\n",
      "2023-11-01  오전 10:29            15,505 python_2_제어문_과제1030_한정현.ipynb\n",
      "2023-11-02  오후 04:28            88,360 python_2_제어문_메모리부족FIX.ipynb\n",
      "2023-11-02  오후 04:34               590 python_3&4_과제1102.ipynb\n",
      "2023-11-02  오후 07:52           143,172 python_3_함수.ipynb\n",
      "2023-11-01  오전 10:29            14,284 python_3_함수_과제1031_한정현.ipynb\n",
      "2023-11-02  오전 10:08             8,273 python_3_함수_과제1101_한정현.ipynb\n",
      "2023-11-02  오후 04:19            18,074 python_4_함수응용.ipynb\n",
      "2023-11-01  오전 10:29            21,009 python_자료형_1_과제1027_한정현.ipynb\n",
      "2023-11-01  오전 10:29             1,786 python_자료형_1_과제6_practice_1027_한정현.ipynb\n",
      "2023-11-01  오전 10:29            98,091 python_자료형_1_한정현.ipynb\n",
      "2023-11-01  오후 02:48               441 test1.txt\n",
      "2023-11-01  오후 02:48               342 test2.txt\n",
      "2023-11-02  오전 10:58                40 test3.jpg\n",
      "2023-11-02  오전 10:53                40 test3.txt\n",
      "2023-11-02  오전 10:08                21 wow.txt\n",
      "2023-11-02  오후 01:01           330,814 연습장.ipynb\n",
      "              21개 파일             753,881 바이트\n",
      "               5개 디렉터리  473,596,026,880 바이트 남음\n"
     ]
    }
   ],
   "source": [
    "ls"
   ]
  },
  {
   "cell_type": "code",
   "execution_count": 124,
   "id": "a88077e5",
   "metadata": {},
   "outputs": [],
   "source": [
    "os.chdir(\"D:\\\\hjh_directory\\\\workspace\\\\jupyter\\\\python programming\\\\ex\")"
   ]
  },
  {
   "cell_type": "code",
   "execution_count": 125,
   "id": "3ded725f",
   "metadata": {},
   "outputs": [
    {
     "data": {
      "text/plain": [
       "'D:\\\\hjh_directory\\\\workspace\\\\jupyter\\\\python programming\\\\ex'"
      ]
     },
     "execution_count": 125,
     "metadata": {},
     "output_type": "execute_result"
    }
   ],
   "source": [
    "pwd"
   ]
  },
  {
   "cell_type": "code",
   "execution_count": 126,
   "id": "55db953f",
   "metadata": {},
   "outputs": [
    {
     "name": "stdout",
     "output_type": "stream",
     "text": [
      " D 드라이브의 볼륨: 새 볼륨\n",
      " 볼륨 일련 번호: 02B1-19A2\n",
      "\n",
      " D:\\hjh_directory\\workspace\\jupyter\\python programming\\ex 디렉터리\n",
      "\n",
      "2023-11-01  오후 02:23    <DIR>          .\n",
      "2023-11-01  오후 02:23    <DIR>          ..\n",
      "               0개 파일                   0 바이트\n",
      "               2개 디렉터리  473,596,022,784 바이트 남음\n"
     ]
    }
   ],
   "source": [
    "ls"
   ]
  },
  {
   "cell_type": "code",
   "execution_count": 127,
   "id": "1e43fc53",
   "metadata": {},
   "outputs": [],
   "source": [
    "os.chdir(\"D:\\\\hjh_directory\\\\workspace\\\\jupyter\\\\python programming\")"
   ]
  },
  {
   "cell_type": "code",
   "execution_count": 128,
   "id": "e4c00813",
   "metadata": {},
   "outputs": [
    {
     "data": {
      "text/plain": [
       "'D:\\\\hjh_directory\\\\workspace\\\\jupyter\\\\python programming'"
      ]
     },
     "execution_count": 128,
     "metadata": {},
     "output_type": "execute_result"
    }
   ],
   "source": [
    "%pwd"
   ]
  },
  {
   "cell_type": "code",
   "execution_count": 130,
   "id": "beb2e176",
   "metadata": {},
   "outputs": [
    {
     "data": {
      "text/plain": [
       "'D:\\\\hjh_directory\\\\workspace\\\\jupyter\\\\python programming'"
      ]
     },
     "execution_count": 130,
     "metadata": {},
     "output_type": "execute_result"
    }
   ],
   "source": [
    "os.getcwd() # 현재 작업 경로 가져오기"
   ]
  },
  {
   "cell_type": "code",
   "execution_count": 131,
   "id": "2674774d",
   "metadata": {},
   "outputs": [
    {
     "name": "stdout",
     "output_type": "stream",
     "text": [
      " D 드라이브의 볼륨: 새 볼륨\n",
      " 볼륨 일련 번호: 02B1-19A2\n",
      "\n",
      " D:\\hjh_directory\\workspace\\jupyter\\python programming 디렉터리\n",
      "\n",
      "2023-11-02  오후 09:43    <DIR>          .\n",
      "2023-11-02  오후 09:43    <DIR>          ..\n",
      "2023-11-02  오후 04:35    <DIR>          .ipynb_checkpoints\n",
      "2023-11-02  오후 09:43            17,057 1102연습장.ipynb\n",
      "2023-11-01  오후 02:23    <DIR>          ex\n",
      "2023-11-01  오후 02:45                18 foo.txt\n",
      "2023-11-01  오전 08:31                31 hm.txt\n",
      "2023-11-02  오전 10:16             1,117 mydata.txt\n",
      "2023-11-01  오전 10:29                86 mymodule.py\n",
      "2023-11-01  오전 10:29            15,505 python_2_제어문_과제1030_한정현.ipynb\n",
      "2023-11-02  오후 04:28            88,360 python_2_제어문_메모리부족FIX.ipynb\n",
      "2023-11-02  오후 04:34               590 python_3&4_과제1102.ipynb\n",
      "2023-11-02  오후 07:52           143,172 python_3_함수.ipynb\n",
      "2023-11-01  오전 10:29            14,284 python_3_함수_과제1031_한정현.ipynb\n",
      "2023-11-02  오전 10:08             8,273 python_3_함수_과제1101_한정현.ipynb\n",
      "2023-11-02  오후 04:19            18,074 python_4_함수응용.ipynb\n",
      "2023-11-01  오전 10:29            21,009 python_자료형_1_과제1027_한정현.ipynb\n",
      "2023-11-01  오전 10:29             1,786 python_자료형_1_과제6_practice_1027_한정현.ipynb\n",
      "2023-11-01  오전 10:29            98,091 python_자료형_1_한정현.ipynb\n",
      "2023-11-01  오후 02:48               441 test1.txt\n",
      "2023-11-01  오후 02:48               342 test2.txt\n",
      "2023-11-02  오전 10:58                40 test3.jpg\n",
      "2023-11-02  오전 10:53                40 test3.txt\n",
      "2023-11-02  오전 10:08                21 wow.txt\n",
      "2023-11-01  오후 03:56    <DIR>          __pycache__\n",
      "2023-11-02  오후 01:01           330,814 연습장.ipynb\n",
      "              21개 파일             759,151 바이트\n",
      "               5개 디렉터리  473,596,018,688 바이트 남음\n"
     ]
    }
   ],
   "source": [
    "!dir"
   ]
  },
  {
   "cell_type": "code",
   "execution_count": 134,
   "id": "bb6a3809",
   "metadata": {},
   "outputs": [],
   "source": [
    "import os\n",
    "os.rename('chgange!.txt','test1.txt')"
   ]
  },
  {
   "cell_type": "code",
   "execution_count": 135,
   "id": "d5473b4b",
   "metadata": {},
   "outputs": [
    {
     "name": "stdout",
     "output_type": "stream",
     "text": [
      " D 드라이브의 볼륨: 새 볼륨\n",
      " 볼륨 일련 번호: 02B1-19A2\n",
      "\n",
      " D:\\hjh_directory\\workspace\\jupyter\\python programming 디렉터리\n",
      "\n",
      "2023-11-02  오후 09:45    <DIR>          .\n",
      "2023-11-02  오후 09:45    <DIR>          ..\n",
      "2023-11-02  오후 04:35    <DIR>          .ipynb_checkpoints\n",
      "2023-11-02  오후 09:45            22,345 1102연습장.ipynb\n",
      "2023-11-01  오후 02:23    <DIR>          ex\n",
      "2023-11-01  오후 02:45                18 foo.txt\n",
      "2023-11-01  오전 08:31                31 hm.txt\n",
      "2023-11-02  오전 10:16             1,117 mydata.txt\n",
      "2023-11-01  오전 10:29                86 mymodule.py\n",
      "2023-11-01  오전 10:29            15,505 python_2_제어문_과제1030_한정현.ipynb\n",
      "2023-11-02  오후 04:28            88,360 python_2_제어문_메모리부족FIX.ipynb\n",
      "2023-11-02  오후 04:34               590 python_3&4_과제1102.ipynb\n",
      "2023-11-02  오후 07:52           143,172 python_3_함수.ipynb\n",
      "2023-11-01  오전 10:29            14,284 python_3_함수_과제1031_한정현.ipynb\n",
      "2023-11-02  오전 10:08             8,273 python_3_함수_과제1101_한정현.ipynb\n",
      "2023-11-02  오후 04:19            18,074 python_4_함수응용.ipynb\n",
      "2023-11-01  오전 10:29            21,009 python_자료형_1_과제1027_한정현.ipynb\n",
      "2023-11-01  오전 10:29             1,786 python_자료형_1_과제6_practice_1027_한정현.ipynb\n",
      "2023-11-01  오전 10:29            98,091 python_자료형_1_한정현.ipynb\n",
      "2023-11-01  오후 02:48               441 test1.txt\n",
      "2023-11-01  오후 02:48               342 test2.txt\n",
      "2023-11-02  오전 10:58                40 test3.jpg\n",
      "2023-11-02  오전 10:53                40 test3.txt\n",
      "2023-11-02  오전 10:08                21 wow.txt\n",
      "2023-11-01  오후 03:56    <DIR>          __pycache__\n",
      "2023-11-02  오후 01:01           330,814 연습장.ipynb\n",
      "              21개 파일             764,439 바이트\n",
      "               5개 디렉터리  473,596,014,592 바이트 남음\n"
     ]
    }
   ],
   "source": [
    "!dir"
   ]
  },
  {
   "cell_type": "code",
   "execution_count": 146,
   "id": "f8632bc0",
   "metadata": {},
   "outputs": [
    {
     "data": {
      "text/plain": [
       "['D:\\\\hjh_directory\\\\workspace\\\\jupyter\\\\python programming\\\\1102연습장.ipynb',\n",
       " 'D:\\\\hjh_directory\\\\workspace\\\\jupyter\\\\python programming\\\\ex',\n",
       " 'D:\\\\hjh_directory\\\\workspace\\\\jupyter\\\\python programming\\\\foo.txt',\n",
       " 'D:\\\\hjh_directory\\\\workspace\\\\jupyter\\\\python programming\\\\hm.txt',\n",
       " 'D:\\\\hjh_directory\\\\workspace\\\\jupyter\\\\python programming\\\\mydata.txt',\n",
       " 'D:\\\\hjh_directory\\\\workspace\\\\jupyter\\\\python programming\\\\mymodule.py',\n",
       " 'D:\\\\hjh_directory\\\\workspace\\\\jupyter\\\\python programming\\\\python_2_제어문_과제1030_한정현.ipynb',\n",
       " 'D:\\\\hjh_directory\\\\workspace\\\\jupyter\\\\python programming\\\\python_2_제어문_메모리부족FIX.ipynb',\n",
       " 'D:\\\\hjh_directory\\\\workspace\\\\jupyter\\\\python programming\\\\python_3&4_과제1102.ipynb',\n",
       " 'D:\\\\hjh_directory\\\\workspace\\\\jupyter\\\\python programming\\\\python_3_함수.ipynb',\n",
       " 'D:\\\\hjh_directory\\\\workspace\\\\jupyter\\\\python programming\\\\python_3_함수_과제1031_한정현.ipynb',\n",
       " 'D:\\\\hjh_directory\\\\workspace\\\\jupyter\\\\python programming\\\\python_3_함수_과제1101_한정현.ipynb',\n",
       " 'D:\\\\hjh_directory\\\\workspace\\\\jupyter\\\\python programming\\\\python_4_함수응용.ipynb',\n",
       " 'D:\\\\hjh_directory\\\\workspace\\\\jupyter\\\\python programming\\\\python_자료형_1_과제1027_한정현.ipynb',\n",
       " 'D:\\\\hjh_directory\\\\workspace\\\\jupyter\\\\python programming\\\\python_자료형_1_과제6_practice_1027_한정현.ipynb',\n",
       " 'D:\\\\hjh_directory\\\\workspace\\\\jupyter\\\\python programming\\\\python_자료형_1_한정현.ipynb',\n",
       " 'D:\\\\hjh_directory\\\\workspace\\\\jupyter\\\\python programming\\\\test1.txt',\n",
       " 'D:\\\\hjh_directory\\\\workspace\\\\jupyter\\\\python programming\\\\test2.txt',\n",
       " 'D:\\\\hjh_directory\\\\workspace\\\\jupyter\\\\python programming\\\\test3.jpg',\n",
       " 'D:\\\\hjh_directory\\\\workspace\\\\jupyter\\\\python programming\\\\test3.txt',\n",
       " 'D:\\\\hjh_directory\\\\workspace\\\\jupyter\\\\python programming\\\\wow.txt',\n",
       " 'D:\\\\hjh_directory\\\\workspace\\\\jupyter\\\\python programming\\\\__pycache__',\n",
       " 'D:\\\\hjh_directory\\\\workspace\\\\jupyter\\\\python programming\\\\연습장.ipynb']"
      ]
     },
     "execution_count": 146,
     "metadata": {},
     "output_type": "execute_result"
    }
   ],
   "source": [
    "import glob\n",
    "glob.glob(\"D:\\hjh_directory\\workspace\\jupyter\\python programming/*\")"
   ]
  },
  {
   "cell_type": "code",
   "execution_count": 154,
   "id": "97212a3f",
   "metadata": {},
   "outputs": [
    {
     "data": {
      "text/plain": [
       "['foo.txt',\n",
       " 'hm.txt',\n",
       " 'mydata.txt',\n",
       " 'python_2_제어문_과제1030_한정현.ipynb',\n",
       " 'python_2_제어문_메모리부족FIX.ipynb',\n",
       " 'python_3&4_과제1102.ipynb',\n",
       " 'python_3_함수.ipynb',\n",
       " 'python_3_함수_과제1031_한정현.ipynb',\n",
       " 'python_3_함수_과제1101_한정현.ipynb',\n",
       " 'python_4_함수응용.ipynb',\n",
       " 'python_자료형_1_과제1027_한정현.ipynb',\n",
       " 'python_자료형_1_과제6_practice_1027_한정현.ipynb',\n",
       " 'python_자료형_1_한정현.ipynb',\n",
       " 'test1.txt',\n",
       " 'test2.txt',\n",
       " 'test3.jpg',\n",
       " 'test3.txt',\n",
       " 'wow.txt']"
      ]
     },
     "execution_count": 154,
     "metadata": {},
     "output_type": "execute_result"
    }
   ],
   "source": [
    "import glob\n",
    "glob.glob('*t*')"
   ]
  },
  {
   "cell_type": "code",
   "execution_count": 2,
   "id": "5492f78f",
   "metadata": {},
   "outputs": [
    {
     "data": {
      "text/plain": [
       "['mydata.txt', 'python_자료형_1_과제6_practice_1027_한정현.ipynb']"
      ]
     },
     "execution_count": 2,
     "metadata": {},
     "output_type": "execute_result"
    }
   ],
   "source": [
    "import glob\n",
    "# 특정 확장자 예시\n",
    "glob.glob('*.png') # ['111.png', '222.png']\n",
    "glob.glob('*.txt') # ['aaa.txt', 'bbb.txt']\n",
    "\n",
    "# 특정 이름 예시\n",
    "glob.glob('2*') # ['222.png']\n",
    "glob.glob('*a*') # ['aaa.txt', 'example']"
   ]
  },
  {
   "cell_type": "code",
   "execution_count": 4,
   "id": "48b19002",
   "metadata": {},
   "outputs": [
    {
     "data": {
      "text/plain": [
       "['python_2_제어문_과제1030_한정현.ipynb',\n",
       " 'python_2_제어문_메모리부족FIX.ipynb',\n",
       " 'python_3_4_과제1102.ipynb',\n",
       " 'python_3_함수.ipynb',\n",
       " 'python_3_함수_과제1031_한정현.ipynb',\n",
       " 'python_3_함수_과제1101_한정현.ipynb',\n",
       " 'python_4_함수응용.ipynb',\n",
       " 'python_자료형_1_과제1027_한정현.ipynb',\n",
       " 'python_자료형_1_과제6_practice_1027_한정현.ipynb',\n",
       " 'python_자료형_1_한정현.ipynb']"
      ]
     },
     "execution_count": 4,
     "metadata": {},
     "output_type": "execute_result"
    }
   ],
   "source": [
    "import glob\n",
    "glob.glob('*pyth*')"
   ]
  },
  {
   "cell_type": "code",
   "execution_count": 33,
   "id": "26f4f0cb",
   "metadata": {},
   "outputs": [],
   "source": [
    "# 과제3_1102 : 내장함수를 이용해서 list = [0,1,2,3,4,5,6]에서 2를 삭제 후 출력하세요.(3가지 방법)"
   ]
  },
  {
   "cell_type": "code",
   "execution_count": 11,
   "id": "ecd6820e",
   "metadata": {},
   "outputs": [
    {
     "name": "stdout",
     "output_type": "stream",
     "text": [
      "[0, 1, 3, 4, 5, 6]\n",
      "[0, 1, 3, 4, 5, 6]\n",
      "[0, 1, 3, 4, 5, 6]\n"
     ]
    }
   ],
   "source": [
    "# 1\n",
    "list = [0,1,2,3,4,5,6]\n",
    "del list[2]\n",
    "print(list)\n",
    "\n",
    "# 2\n",
    "list = [0,1,2,3,4,5,6]\n",
    "list.remove(list[2])\n",
    "print(list)\n",
    "\n",
    "# 3\n",
    "list =[0,1,2,3,4,5,6]\n",
    "list.pop(list[2])\n",
    "print(list)"
   ]
  },
  {
   "cell_type": "code",
   "execution_count": 9,
   "id": "d69c147d",
   "metadata": {},
   "outputs": [
    {
     "name": "stdout",
     "output_type": "stream",
     "text": [
      "[0, 1, 3, 4, 5, 6]\n",
      "[0, 1, 3, 4, 5, 6]\n",
      "[0, 1, 3, 4, 5, 6]\n"
     ]
    }
   ],
   "source": [
    "#1번째 방법\n",
    "list1 = [0,1,2,3,4,5,6]\n",
    "del list1[2]\n",
    "print(list1)\n",
    "\n",
    "#2번째 방법\n",
    "list1 = [0,1,2,3,4,5,6]\n",
    "list1.remove(2)\n",
    "print(list1)\n",
    "\n",
    "#3번째 방법\n",
    "list1 = [0,1,2,3,4,5,6]\n",
    "list1.pop(2)\n",
    "print(list1)"
   ]
  },
  {
   "cell_type": "code",
   "execution_count": null,
   "id": "0fa9d486",
   "metadata": {},
   "outputs": [],
   "source": [
    "- pop은 index를 입력받아 리스트에서 해당 index에 존재하는 값을 삭제한다\n",
    "- index를 입력하지 않는 경우 리스트의 마지막 요소가 삭제된다 ->stack에서 유용하게 사용가능\n",
    "    \n",
    "- remove는 값을 입력받아 리스트에 값이 존재할 경우 값을 삭제한다\n",
    "\n",
    "- del 키워드는 리스트의 인덱스를 입력받아 리스트의 값을 삭제한다"
   ]
  },
  {
   "cell_type": "code",
   "execution_count": null,
   "id": "250f2f0b",
   "metadata": {},
   "outputs": [],
   "source": [
    "# 과제4_1102 : 내장함수를 이용해서 list = [0,1,2,3,4,5,6]에서 모든 원소를 삭제 후 출력하세요."
   ]
  },
  {
   "cell_type": "code",
   "execution_count": 13,
   "id": "30e9a103",
   "metadata": {},
   "outputs": [
    {
     "name": "stdout",
     "output_type": "stream",
     "text": [
      "[]\n"
     ]
    }
   ],
   "source": [
    "list = [0,1,2,3,4,5,6]\n",
    "list.clear()\n",
    "print(list)"
   ]
  },
  {
   "cell_type": "code",
   "execution_count": 14,
   "id": "005d1d44",
   "metadata": {},
   "outputs": [
    {
     "name": "stdout",
     "output_type": "stream",
     "text": [
      "[]\n"
     ]
    }
   ],
   "source": [
    "list = [0,1,2,3,4,5,6]\n",
    "del list[:]\n",
    "print(list)"
   ]
  },
  {
   "cell_type": "code",
   "execution_count": null,
   "id": "3a228d8a",
   "metadata": {},
   "outputs": [],
   "source": [
    "#### 과제5_1102 :  람다함수와 적합한 내장함수를 사용하여 아래와 같이 출력하세요\n",
    "[1,2,3,4,5] -> [1,4,9,16,25]\n",
    "[1,2,3,4,5] -> [1,2]"
   ]
  },
  {
   "cell_type": "code",
   "execution_count": 126,
   "id": "be2429a1",
   "metadata": {},
   "outputs": [
    {
     "name": "stdout",
     "output_type": "stream",
     "text": [
      "[1, 2]\n"
     ]
    }
   ],
   "source": [
    "list1=[1,2,3,4,5]\n",
    "newlist= list1[:2]\n",
    "print(newlist)"
   ]
  },
  {
   "cell_type": "code",
   "execution_count": 124,
   "id": "8ec30497",
   "metadata": {
    "scrolled": true
   },
   "outputs": [
    {
     "name": "stdout",
     "output_type": "stream",
     "text": [
      "[1, 4, 9, 16, 25]\n"
     ]
    }
   ],
   "source": [
    "list1 = [1,2,3,4,5]\n",
    "func1 = map(lambda x : x**2,list1)\n",
    "print(list(func1))"
   ]
  },
  {
   "cell_type": "code",
   "execution_count": 2,
   "id": "7210ba8f",
   "metadata": {
    "scrolled": true
   },
   "outputs": [
    {
     "name": "stdout",
     "output_type": "stream",
     "text": [
      "[1, 4, 9, 16, 25]\n"
     ]
    }
   ],
   "source": [
    "f = lambda x : x**2\n",
    "args = [1,2,3,4,5]\n",
    "ret = map(f,args)\n",
    "print(list(ret))"
   ]
  },
  {
   "cell_type": "code",
   "execution_count": 1,
   "id": "2e60221c",
   "metadata": {},
   "outputs": [
    {
     "name": "stdout",
     "output_type": "stream",
     "text": [
      "[1, 4, 9, 16, 25]\n"
     ]
    }
   ],
   "source": [
    "f = lambda x : x**2\n",
    "args = [1,2,3,4,5]\n",
    "ret = map(f,args)\n",
    "aa = list(ret)\n",
    "print(aa)"
   ]
  },
  {
   "cell_type": "code",
   "execution_count": null,
   "id": "2bd616bf",
   "metadata": {},
   "outputs": [],
   "source": [
    "# 과제6_1102 [1,-3,2,0,-5,6] 에서 양수만 필터링해서 출력하세요(내장함수, 사용자함수 각각 이용)"
   ]
  },
  {
   "cell_type": "code",
   "execution_count": 12,
   "id": "8d75bc6f",
   "metadata": {},
   "outputs": [
    {
     "name": "stdout",
     "output_type": "stream",
     "text": [
      "[1, 2, 6]\n"
     ]
    }
   ],
   "source": [
    "list6 = [1,-3,2,0,-5,6]\n",
    "ans6_1 = list(filter(lambda x: x > 0, list6))\n",
    "\n",
    "print(ans6_1)"
   ]
  },
  {
   "cell_type": "code",
   "execution_count": 24,
   "id": "b529a228",
   "metadata": {},
   "outputs": [
    {
     "name": "stdout",
     "output_type": "stream",
     "text": [
      "[1, 2, 6]\n"
     ]
    }
   ],
   "source": [
    "list6 = [1,-3,2,0,-5,6]\n",
    "ans6_1 = [a for a in list6 if a > 0]\n",
    "print(ans6_1)"
   ]
  },
  {
   "cell_type": "code",
   "execution_count": 25,
   "id": "f5c54691",
   "metadata": {},
   "outputs": [
    {
     "name": "stdout",
     "output_type": "stream",
     "text": [
      "[1, 2, 6]\n",
      "[1, 2]\n"
     ]
    }
   ],
   "source": [
    "# 사용자함수를 사용\n",
    "def even(arr):\n",
    "    result = []\n",
    "    for i in arr:\n",
    "        if i>0:\n",
    "            result.append(i)\n",
    "    return result\n",
    "print(even([1,-3,2,0,-5,6]))\n",
    "print(even([1,-3,2,0])) # 이런식으로 재활용 가능한것이 사용자함수의 장점이자 특징"
   ]
  },
  {
   "cell_type": "code",
   "execution_count": 27,
   "id": "851940ea",
   "metadata": {
    "scrolled": true
   },
   "outputs": [
    {
     "name": "stdout",
     "output_type": "stream",
     "text": [
      "[1, 2, 6]\n",
      "[1]\n"
     ]
    }
   ],
   "source": [
    "def func1(p):\n",
    "    r = []\n",
    "    for i in p :\n",
    "        if i > 0 :\n",
    "            r.append(i)\n",
    "    return r\n",
    "print(func1([1,-3,2,0,-5,6]))\n",
    "print(func1([1,-3]))"
   ]
  },
  {
   "cell_type": "code",
   "execution_count": 123,
   "id": "e0c4f8e9",
   "metadata": {},
   "outputs": [
    {
     "name": "stdout",
     "output_type": "stream",
     "text": [
      "0.8911814452405546\n",
      "2.033957979957956\n",
      "100\n",
      "9\n",
      "4\n",
      "ba\n",
      "['ki', 'me']\n",
      "[1, 3, 2, 11, 10, 12]\n"
     ]
    }
   ],
   "source": [
    "import random\n",
    "print(random.random())\n",
    "\n",
    "print(random.uniform(2,2.1))\n",
    "\n",
    "print(random.randint(1,100))\n",
    "\n",
    "print(random.randrange(1,10,2))\n",
    "\n",
    "print(random.choice('a1b2c3f4'))\n",
    "\n",
    "fruits = ['ap','ba','ki','me']\n",
    "print(random.choice(fruits))\n",
    "\n",
    "print(random.sample((fruits),2))\n",
    "\n",
    "numbers = [1,2,3,10,11,12]\n",
    "random.shuffle(numbers)\n",
    "print(numbers)"
   ]
  },
  {
   "cell_type": "code",
   "execution_count": 129,
   "id": "dc189d5f",
   "metadata": {
    "scrolled": true
   },
   "outputs": [
    {
     "name": "stdout",
     "output_type": "stream",
     "text": [
      "True\n",
      "False\n",
      "False\n"
     ]
    }
   ],
   "source": [
    "t1 = 'A'\n",
    "t2 = '3 pp'\n",
    "t3 = 'p p'\n",
    "r1 = t1.isalpha()\n",
    "print(r1)\n",
    "r2 = t2.isalpha()\n",
    "print(r2)\n",
    "r3 = t3.isalpha()\n",
    "print(r3)"
   ]
  },
  {
   "cell_type": "code",
   "execution_count": 133,
   "id": "e503caca",
   "metadata": {},
   "outputs": [
    {
     "name": "stdout",
     "output_type": "stream",
     "text": [
      "False\n"
     ]
    }
   ],
   "source": [
    "t1 = '123'\n",
    "t2 = 'A123'\n",
    "r1 = t2.isdigit()\n",
    "print(r1)"
   ]
  },
  {
   "cell_type": "code",
   "execution_count": 137,
   "id": "fd662836",
   "metadata": {},
   "outputs": [
    {
     "name": "stdout",
     "output_type": "stream",
     "text": [
      "False\n"
     ]
    }
   ],
   "source": [
    "t1 = '뭐?'\n",
    "t2 = '3333뭨ㅋㅋ'\n",
    "t3 = '3Abbㄴㅇㄹ1=2'\n",
    "r1 = t3.isalnum()\n",
    "print(r1)"
   ]
  },
  {
   "cell_type": "code",
   "execution_count": 143,
   "id": "23de5d63",
   "metadata": {},
   "outputs": [
    {
     "name": "stdout",
     "output_type": "stream",
     "text": [
      "Apple And Banana\n",
      "Apple and banana\n"
     ]
    }
   ],
   "source": [
    "t1 = \"Apple and Banana\"\n",
    "r1 = t1.upper()\n",
    "r2 = t1.lower()\n",
    "r3 = t1.title()\n",
    "r4 = t1.capitalize()\n",
    "print(r3)\n",
    "print(r4)"
   ]
  },
  {
   "cell_type": "code",
   "execution_count": 1,
   "id": "3234dd47",
   "metadata": {
    "scrolled": true
   },
   "outputs": [
    {
     "name": "stdout",
     "output_type": "stream",
     "text": [
      "문자를 코드값 입력 : 123\n"
     ]
    },
    {
     "ename": "TypeError",
     "evalue": "%d format: a real number is required, not str",
     "output_type": "error",
     "traceback": [
      "\u001b[1;31m---------------------------------------------------------------------------\u001b[0m",
      "\u001b[1;31mTypeError\u001b[0m                                 Traceback (most recent call last)",
      "Cell \u001b[1;32mIn[1], line 3\u001b[0m\n\u001b[0;32m      1\u001b[0m a \u001b[38;5;241m=\u001b[39m \u001b[38;5;28mint\u001b[39m(\u001b[38;5;28minput\u001b[39m(\u001b[38;5;124m\"\u001b[39m\u001b[38;5;124m문자를 코드값 입력 : \u001b[39m\u001b[38;5;124m\"\u001b[39m))\n\u001b[0;32m      2\u001b[0m b \u001b[38;5;241m=\u001b[39m \u001b[38;5;28mchr\u001b[39m(a)\n\u001b[1;32m----> 3\u001b[0m \u001b[38;5;28mprint\u001b[39m(\u001b[38;5;124;43m\"\u001b[39;49m\u001b[38;5;124;43m문자 : \u001b[39;49m\u001b[38;5;132;43;01m%s\u001b[39;49;00m\u001b[38;5;124;43m, 코드값 : \u001b[39;49m\u001b[38;5;132;43;01m%d\u001b[39;49;00m\u001b[38;5;124;43m\"\u001b[39;49m\u001b[43m \u001b[49m\u001b[38;5;241;43m%\u001b[39;49m\u001b[43m(\u001b[49m\u001b[43ma\u001b[49m\u001b[43m,\u001b[49m\u001b[43mb\u001b[49m\u001b[43m)\u001b[49m)\n",
      "\u001b[1;31mTypeError\u001b[0m: %d format: a real number is required, not str"
     ]
    }
   ],
   "source": [
    "a = int(input(\"문자를 코드값 입력 : \"))\n",
    "b = chr(a)\n",
    "print(\"문자 : %s, 코드값 : %d\" %(a,b))"
   ]
  },
  {
   "cell_type": "code",
   "execution_count": 2,
   "id": "9e4dd92a",
   "metadata": {},
   "outputs": [
    {
     "name": "stdout",
     "output_type": "stream",
     "text": [
      "문자를 코드값 입력 : 123\n",
      "문자 : {, 코드값 : 123\n"
     ]
    }
   ],
   "source": [
    "a = int(input(\"문자를 코드값 입력 : \"))\n",
    "b = chr(a)\n",
    "print(\"문자 : %s, 코드값 : %d\" %(b,a))"
   ]
  }
 ],
 "metadata": {
  "kernelspec": {
   "display_name": "Python 3 (ipykernel)",
   "language": "python",
   "name": "python3"
  },
  "language_info": {
   "codemirror_mode": {
    "name": "ipython",
    "version": 3
   },
   "file_extension": ".py",
   "mimetype": "text/x-python",
   "name": "python",
   "nbconvert_exporter": "python",
   "pygments_lexer": "ipython3",
   "version": "3.10.13"
  }
 },
 "nbformat": 4,
 "nbformat_minor": 5
}
