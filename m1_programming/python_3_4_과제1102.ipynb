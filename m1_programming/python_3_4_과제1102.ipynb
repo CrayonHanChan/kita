{
 "cells": [
  {
   "cell_type": "markdown",
   "id": "4dab7b3d",
   "metadata": {},
   "source": [
    "#### 과제1_1102 : 실행 가능한 숫자를 문자열('5+5') 입력으로 받아 문자열을 실행한 결과값을 출력하세요."
   ]
  },
  {
   "cell_type": "code",
   "execution_count": null,
   "id": "ada8d883",
   "metadata": {},
   "outputs": [],
   "source": [
    "# 과제1_1102 솔루션\n",
    "print(eval(input('5+5 연산을 입력하세요.: ')))"
   ]
  },
  {
   "cell_type": "markdown",
   "id": "21a3d308",
   "metadata": {},
   "source": [
    "#### 과제2_1102 : enumerate와 f-string을 사용해서 특정 리스트에서 원하는 형태로 출력을 하세요.(인덱스와 내용을 믹스하여)"
   ]
  },
  {
   "cell_type": "code",
   "execution_count": 1,
   "id": "d3ac8a0c",
   "metadata": {},
   "outputs": [
    {
     "name": "stdout",
     "output_type": "stream",
     "text": [
      "1번 학생은, 50점입니다.\n",
      "2번 학생은, 60점입니다.\n",
      "3번 학생은, 70점입니다.\n",
      "4번 학생은, 80점입니다.\n",
      "5번 학생은, 90점입니다.\n"
     ]
    }
   ],
   "source": [
    "# 과제2_1102 솔루션\n",
    "score_list = [50,60,70,80,90]\n",
    "\n",
    "for i,score in enumerate(score_list) :\n",
    "    print(f\"{i+1}번 학생은, {score}점입니다.\")"
   ]
  },
  {
   "cell_type": "markdown",
   "id": "f537f0e4",
   "metadata": {},
   "source": [
    "#### 과제3_1102 : 내장함수를 이용해서 list = [0,1,2,3,4,5,6]에서 2를 삭제 후 출력하세요.(3가지 방법)"
   ]
  },
  {
   "cell_type": "code",
   "execution_count": null,
   "id": "394dbd2e",
   "metadata": {},
   "outputs": [],
   "source": [
    "# 과제3_1102 솔루션\n",
    "# 1\n",
    "list = [0,1,2,3,4,5,6]\n",
    "del list[2]\n",
    "print(list)\n",
    "\n",
    "# 2\n",
    "list = [0,1,2,3,4,5,6]\n",
    "list.remove(list[2])\n",
    "print(list)\n",
    "\n",
    "# 3\n",
    "list =[0,1,2,3,4,5,6]\n",
    "list.pop(list[2])\n",
    "print(list)"
   ]
  },
  {
   "cell_type": "markdown",
   "id": "b701bb13",
   "metadata": {},
   "source": [
    "#### 과제4_1102 :  내장함수를 이용해서 list1 = [0,1,2,3,4,5,6]에서 모든 원소를 삭제 후 출력하세요."
   ]
  },
  {
   "cell_type": "code",
   "execution_count": 6,
   "id": "84bfab6e",
   "metadata": {
    "scrolled": true
   },
   "outputs": [
    {
     "name": "stdout",
     "output_type": "stream",
     "text": [
      "[]\n",
      "[]\n"
     ]
    }
   ],
   "source": [
    "# 과제4_1102 솔루션\n",
    "# del 사용\n",
    "list1 = [0,1,2,3,4,5,6]\n",
    "del list1[:]\n",
    "print(list1)\n",
    "\n",
    "# clear() 사용\n",
    "list1 = [0,1,2,3,4,5,6]\n",
    "list1.clear()\n",
    "print(list1)"
   ]
  },
  {
   "cell_type": "markdown",
   "id": "9f458680",
   "metadata": {},
   "source": [
    "#### 과제5_1102 :  람다함수와 적합한 내장함수를 사용하여 아래와 같이 출력하세요\n",
    "<!-- [1,2,3,4,5] -> [1,4,9,16,25]\n",
    "[1,2,3,4,5] -> [1,2] -->"
   ]
  },
  {
   "cell_type": "code",
   "execution_count": 8,
   "id": "3d6a8948",
   "metadata": {},
   "outputs": [
    {
     "name": "stdout",
     "output_type": "stream",
     "text": [
      "[1, 4, 9, 16, 25]\n",
      "[1, 2]\n",
      "[1, 2]\n"
     ]
    }
   ],
   "source": [
    "# 과제5_1102 솔루션\n",
    "# [1,2,3,4,5] -> [1,4,9,16,25]\n",
    "list1 = [1,2,3,4,5]\n",
    "func1 = map(lambda x : x**2,list1)\n",
    "print(list(func1))\n",
    "\n",
    "# [1,2,3,4,5] -> [1,2]\n",
    "list1=[1,2,3,4,5]\n",
    "newlist= list1[:2]\n",
    "print(newlist)\n",
    "# del 사용\n",
    "list1 = [1,2,3,4,5]\n",
    "del(list1[2:])\n",
    "print(list1)"
   ]
  },
  {
   "cell_type": "markdown",
   "id": "fd68dd09",
   "metadata": {},
   "source": [
    "##### 과제6_1102  [1,-3,2,0,-5,6] 에서 양수만 필터링해서 출력하세요(내장함수, 사용자함수 각각 이용)"
   ]
  },
  {
   "cell_type": "code",
   "execution_count": 9,
   "id": "3467e5d2",
   "metadata": {},
   "outputs": [
    {
     "name": "stdout",
     "output_type": "stream",
     "text": [
      "[1, 2, 6]\n",
      "[1, 2, 6]\n"
     ]
    }
   ],
   "source": [
    "# 과제6_1102 솔루션\n",
    "# 내장함수 사용\n",
    "list6 = [1,-3,2,0,-5,6]\n",
    "ans6_1 = [a for a in list6 if a > 0]\n",
    "print(ans6_1)\n",
    "\n",
    "# 사용자함수 사용\n",
    "def func1(p):\n",
    "    r = []\n",
    "    for i in p :\n",
    "        if i > 0 :\n",
    "            r.append(i)\n",
    "    return r\n",
    "print(func1([1,-3,2,0,-5,6]))"
   ]
  },
  {
   "cell_type": "markdown",
   "id": "de5abca6",
   "metadata": {},
   "source": [
    "#### 과제7_1102 : 내장함수를 이용하여 동일한 개수로 이루어진 자료형을 화살표 좌측에서 우측으로 변환하세요\n",
    "<!-- [1,2,3],[4,5,6] -> [(1,4),(2,5),(3,6)]\n",
    "[1,2,3],[4,5,6] [7,8,9] -> [(1,4,7),(2,5,8),(3,6,9)]\n",
    "('abc','def') -> [('a','d'),('b','e'),('c','f')] -->"
   ]
  },
  {
   "cell_type": "code",
   "execution_count": null,
   "id": "d680b00c",
   "metadata": {},
   "outputs": [],
   "source": [
    "# 과제7_1102 솔루션\n"
   ]
  },
  {
   "cell_type": "markdown",
   "id": "a5f22370",
   "metadata": {},
   "source": [
    "#### 과제8_1102 : 입력으로 들어오는 모든 수의 평균 값을 계산해 주는 함수를 작성한 후 1,2,3을 입력한 결과를 출력하세요."
   ]
  },
  {
   "cell_type": "code",
   "execution_count": null,
   "id": "3bad74da",
   "metadata": {},
   "outputs": [],
   "source": [
    "# 과제8_1102 솔루션\n"
   ]
  },
  {
   "cell_type": "markdown",
   "id": "e2e6f136",
   "metadata": {},
   "source": [
    "#### 과제9_1102 : 동일한 사용자 함수를 만들어서 1~100의 합과 200~300의 합을 구하세요."
   ]
  },
  {
   "cell_type": "code",
   "execution_count": null,
   "id": "ad98a272",
   "metadata": {},
   "outputs": [],
   "source": [
    "# 과제9_1102 솔루션\n"
   ]
  },
  {
   "cell_type": "markdown",
   "id": "954c3c10",
   "metadata": {},
   "source": []
  },
  {
   "cell_type": "markdown",
   "id": "a20d8417",
   "metadata": {},
   "source": [
    "#### 과제10_1102 : url에서 쿼리문을 추출하여 출력하세요.\n",
    "<!-- url에서 '?'뒤에 표시되는 문자열을 쿼리 문자열이라고 하며 변수=값 사이 &로 구분되어 나열된다.\n",
    "url = 'http://news.naver.com/main/read.nhn?mode=LSD&mid=shm&sid1=105&oid=028&aid=0002334601'\n",
    "\n",
    "출력은 2가지 형태\n",
    "['mode=LSD', 'mid=shm', 'sid1=105', 'oid=028', 'aid=0002334601']\n",
    "mode=LSD\n",
    "mid=shm\n",
    "sid1=105\n",
    "oid=028\n",
    "aid=0002334601 -->"
   ]
  },
  {
   "cell_type": "code",
   "execution_count": null,
   "id": "2d0bf6b1",
   "metadata": {},
   "outputs": [],
   "source": [
    "# 과제10_1102 솔루션\n"
   ]
  },
  {
   "cell_type": "markdown",
   "id": "ddabd5d9",
   "metadata": {},
   "source": [
    "#### 과제11_1102 : 영어 이름을 적으면 앞에 글자를 대문자로 바꾸어 주는 프로그램\n",
    "<!-- (단 중간에 한칸씩 띄어주어야 함 ex)kim dong wan -->\n",
    "<!-- 이름을 영어로 입력하세요.kim dong wan -->\n",
    "<!-- 당신의 이름을 바꾸면 Kim Dong Wan 입니다. -->"
   ]
  },
  {
   "cell_type": "code",
   "execution_count": null,
   "id": "aa4e734f",
   "metadata": {},
   "outputs": [],
   "source": [
    "# 과제11_1102 솔루션\n"
   ]
  },
  {
   "cell_type": "markdown",
   "id": "cfd6edce",
   "metadata": {},
   "source": [
    "#### 과제12_1102 : 문자 코드값 구하기(ord)\n",
    "<!-- 문자를 1개 입력하세요: a\n",
    "문자: a, 코드값: 97 -->"
   ]
  },
  {
   "cell_type": "code",
   "execution_count": 19,
   "id": "547eac7a",
   "metadata": {},
   "outputs": [
    {
     "name": "stdout",
     "output_type": "stream",
     "text": [
      "문자를 코드값 입력 : 48885\n",
      "문자 : 뻵, 코드값 : 48885\n"
     ]
    }
   ],
   "source": [
    "# 과제12_1102 솔루션\n",
    "a = int(input(\"문자를 코드값 입력 : \"))\n",
    "b = chr(a)\n",
    "print(\"문자 : %s, 코드값 : %d\" %(b,a))"
   ]
  },
  {
   "cell_type": "markdown",
   "id": "0e71ad8b",
   "metadata": {},
   "source": [
    "#### 과제13_1102 : numbers 내부에 들어 있는 숫자가 몇 번 등장하는지를 출력하는 코드를 작성하세요.\n",
    "<!-- numbers = [3,6,3,5,8,2,9,7,4,3,6,3,5,8,2,9,7,4] -->"
   ]
  },
  {
   "cell_type": "code",
   "execution_count": null,
   "id": "edd66967",
   "metadata": {},
   "outputs": [],
   "source": [
    "# 과제13_1102 솔루션"
   ]
  },
  {
   "cell_type": "markdown",
   "id": "3cf131e7",
   "metadata": {},
   "source": [
    "#### 과제14_1102 :코딩을 한줄로 작성해서 동일한 결과를 출력하세요\n",
    "<!-- list = []\n",
    "for i in range(0,20,2):\n",
    "    list.append(i*i)\n",
    "print(list) -->"
   ]
  },
  {
   "cell_type": "code",
   "execution_count": 21,
   "id": "fa4d7297",
   "metadata": {
    "scrolled": true
   },
   "outputs": [
    {
     "ename": "SyntaxError",
     "evalue": "invalid syntax (3790103174.py, line 3)",
     "output_type": "error",
     "traceback": [
      "\u001b[1;36m  Cell \u001b[1;32mIn[21], line 3\u001b[1;36m\u001b[0m\n\u001b[1;33m    new_list = i for i in range(0,20,2)\u001b[0m\n\u001b[1;37m                 ^\u001b[0m\n\u001b[1;31mSyntaxError\u001b[0m\u001b[1;31m:\u001b[0m invalid syntax\n"
     ]
    }
   ],
   "source": [
    "# 과제14_1102 솔루션\n",
    "list = []\n",
    "list = i for i in range(0,20,2)\n",
    "print(new_list)"
   ]
  },
  {
   "cell_type": "markdown",
   "id": "8a6253b9",
   "metadata": {},
   "source": [
    "#### 과제15_1102 : 반복문으로 팩토리얼을 구하는 사용자 함수를 작성하고 5!, 10!를 구하세요."
   ]
  },
  {
   "cell_type": "code",
   "execution_count": null,
   "id": "560ce163",
   "metadata": {},
   "outputs": [],
   "source": [
    "# 과제15_1102 솔루션\n"
   ]
  },
  {
   "cell_type": "markdown",
   "id": "fb01a906",
   "metadata": {},
   "source": [
    "#### 과제16_1102 : list a의 모든 원소를 실수형으로 바꾸어 출력하세요\n",
    "<!-- a = [1,2,3,4,5] -->"
   ]
  },
  {
   "cell_type": "code",
   "execution_count": 23,
   "id": "80b3c198",
   "metadata": {},
   "outputs": [
    {
     "ename": "TypeError",
     "evalue": "float() argument must be a string or a real number, not 'list'",
     "output_type": "error",
     "traceback": [
      "\u001b[1;31m---------------------------------------------------------------------------\u001b[0m",
      "\u001b[1;31mTypeError\u001b[0m                                 Traceback (most recent call last)",
      "Cell \u001b[1;32mIn[23], line 3\u001b[0m\n\u001b[0;32m      1\u001b[0m \u001b[38;5;66;03m# 과제16_1102 솔루션\u001b[39;00m\n\u001b[0;32m      2\u001b[0m a \u001b[38;5;241m=\u001b[39m [\u001b[38;5;241m1\u001b[39m,\u001b[38;5;241m2\u001b[39m,\u001b[38;5;241m3\u001b[39m,\u001b[38;5;241m4\u001b[39m,\u001b[38;5;241m5\u001b[39m]\n\u001b[1;32m----> 3\u001b[0m \u001b[38;5;28mprint\u001b[39m(\u001b[38;5;28;43mfloat\u001b[39;49m\u001b[43m(\u001b[49m\u001b[43ma\u001b[49m\u001b[43m)\u001b[49m)\n",
      "\u001b[1;31mTypeError\u001b[0m: float() argument must be a string or a real number, not 'list'"
     ]
    }
   ],
   "source": [
    "# 과제16_1102 솔루션\n",
    "a = [1,2,3,4,5]\n"
   ]
  },
  {
   "cell_type": "code",
   "execution_count": null,
   "id": "cae46f2c",
   "metadata": {},
   "outputs": [],
   "source": []
  }
 ],
 "metadata": {
  "kernelspec": {
   "display_name": "Python 3 (ipykernel)",
   "language": "python",
   "name": "python3"
  },
  "language_info": {
   "codemirror_mode": {
    "name": "ipython",
    "version": 3
   },
   "file_extension": ".py",
   "mimetype": "text/x-python",
   "name": "python",
   "nbconvert_exporter": "python",
   "pygments_lexer": "ipython3",
   "version": "3.10.13"
  }
 },
 "nbformat": 4,
 "nbformat_minor": 5
}
