{
 "cells": [
  {
   "cell_type": "markdown",
   "id": "b665d80e",
   "metadata": {
    "id": "b665d80e"
   },
   "source": [
    "#### python 자료형1 과제\n",
    "- 2023.10.27\n",
    "- 한정현 솔루션"
   ]
  },
  {
   "cell_type": "markdown",
   "id": "bbb54550",
   "metadata": {
    "id": "bbb54550"
   },
   "source": [
    "#### 과제1. 다른 타입의 숫자 2개를 입력받아 큰 수를 출력하세요."
   ]
  },
  {
   "cell_type": "code",
   "execution_count": null,
   "id": "c0e42677",
   "metadata": {
    "id": "c0e42677",
    "outputId": "727227c8-fa81-49eb-a374-6a87d9f669b1"
   },
   "outputs": [
    {
     "name": "stdout",
     "output_type": "stream",
     "text": [
      "두 수중에 큰 수를 분별하는 프로그램\n",
      "정수를 입력해주세요 : 10\n",
      "실수를 입력해주세요 : 10.1\n",
      "10.1\n"
     ]
    }
   ],
   "source": [
    "# 과제1\n",
    "print(\"두 수중에 큰 수를 분별하는 프로그램\")\n",
    "num1 = int(input(\"정수를 입력해주세요 : \"))\n",
    "num2 = float(input(\"실수를 입력해주세요 : \"))\n",
    "\n",
    "if num1 > num2 : # num1 이 num2 보다 크면\n",
    "    print(num1) # num1을 출력\n",
    "elif num1 < num2 : # num1 이 num2 보다 작으면\n",
    "    print(num2) # num2를 출력\n",
    "else : # 두 수가 큰지 작은지 비교가 안되면 두 수는 같은 값이다\n",
    "    print(\"두 수는 같습니다.\")"
   ]
  },
  {
   "cell_type": "markdown",
   "id": "680a0e95",
   "metadata": {
    "id": "680a0e95"
   },
   "source": [
    "#### 과제2. 아래와 같이 출력할 수 있는 string을 만드세요.\n",
    "string =\n",
    "print(sting)\n",
    "[출력문]\n",
    "\"What a wonderful world!\"\n",
    "he said loudly"
   ]
  },
  {
   "cell_type": "code",
   "execution_count": null,
   "id": "547fcb18",
   "metadata": {
    "id": "547fcb18",
    "outputId": "d52dfebd-40c5-4ad3-d921-ec564738dc1c"
   },
   "outputs": [
    {
     "name": "stdout",
     "output_type": "stream",
     "text": [
      "\n",
      "What a wonderful world!\n",
      "he said loudly\n",
      "\n"
     ]
    }
   ],
   "source": [
    "# 과제2 솔루션1\n",
    "string = ''' # ''' ''', \"\"\" \"\"\" 를 사용하여 \\n 처럼 사용 가독성 up\n",
    "What a wonderful world!\n",
    "he said loudly\n",
    "'''\n",
    "print(string) # 출력하여 확인"
   ]
  },
  {
   "cell_type": "code",
   "execution_count": null,
   "id": "9a865aa2",
   "metadata": {
    "id": "9a865aa2",
    "outputId": "311b1849-4c75-4591-e4a6-3a63b5061b5e",
    "scrolled": true
   },
   "outputs": [
    {
     "name": "stdout",
     "output_type": "stream",
     "text": [
      "What a wonderful world!\n",
      "he said loudly\n"
     ]
    }
   ],
   "source": [
    "# 과제2 솔루션2\n",
    "string = \"What a wonderful world!\\nhe said loudly\" # \\n을 사용하여 간결하게 만들기\n",
    "print(string) # 출력하여 확인"
   ]
  },
  {
   "cell_type": "markdown",
   "id": "bbd9152b",
   "metadata": {
    "id": "bbd9152b"
   },
   "source": [
    "#### [과제3] list1에서 다음을 수행하세요\n",
    "- 1. 33을 출력\n",
    "- 2. 82를 리스트에 추가\n",
    "- 3. 87의 인덱스 구하기\n",
    "- 4. 인덱스 3에서 10까지의 값을 출력하고 list2에 저장한 후 내림차순 정렬하기 - 도전\n",
    "- 5. 39를 11로 변경\n",
    "- 6. [69,45,58] 출력\n",
    "- 7. 짝수 인덱스의 값으로 구성된 리스트 출력하기\n",
    "- 8. 인덱스가 가장 큰수를 삭제하기\n",
    "- 9. 인덱스 3, 5인 값으로 4칙 연산하기\n",
    "list1 = [58, 45, 69, 19, 4, 87, 29, 13, 39, 15, 54, [8, 33, 11], 27, 49, 63, 98, 22, 82]"
   ]
  },
  {
   "cell_type": "code",
   "execution_count": null,
   "id": "aabd497a",
   "metadata": {
    "id": "aabd497a",
    "outputId": "09fc9871-4934-4f6a-9ee0-3a666c777d96"
   },
   "outputs": [
    {
     "data": {
      "text/plain": [
       "11"
      ]
     },
     "execution_count": 11,
     "metadata": {},
     "output_type": "execute_result"
    }
   ],
   "source": [
    "# 과제3 문제1\n",
    "# 33을 출력\n",
    "list1 = [58, 45, 69, 19, 4, 87, 29, 13, 39, 15, 54, [8, 33, 11], 27, 49, 63, 98, 22, 82]\n",
    "list1[11][2] # 11번째 인덱스에(인덱스는 0부터시작)\n",
    "#[8,33,11] 리스트에서 2번째 인덱스를 구하면됨"
   ]
  },
  {
   "cell_type": "code",
   "execution_count": null,
   "id": "5d1df3dd",
   "metadata": {
    "id": "5d1df3dd",
    "outputId": "687b6acb-48da-4bcf-9a63-deaaaa0068d5"
   },
   "outputs": [
    {
     "name": "stdout",
     "output_type": "stream",
     "text": [
      "[58, 45, 69, 19, 4, 87, 29, 13, 39, 15, 54, [8, 33, 11], 27, 49, 63, 98, 22, 82, 82]\n"
     ]
    }
   ],
   "source": [
    "# 과제3 문제2\n",
    "# 82를 리스트에 추가\n",
    "list1 = [58, 45, 69, 19, 4, 87, 29, 13, 39, 15, 54, [8, 33, 11], 27, 49, 63, 98, 22, 82]\n",
    "list1.append(82) # .append는 리스트에 추가\n",
    "print(list1) # 출력하여 확인"
   ]
  },
  {
   "cell_type": "code",
   "execution_count": null,
   "id": "7a0df4eb",
   "metadata": {
    "id": "7a0df4eb",
    "outputId": "a4ab320e-b533-4a27-edbd-01a1b8ff6f54"
   },
   "outputs": [
    {
     "data": {
      "text/plain": [
       "5"
      ]
     },
     "execution_count": 14,
     "metadata": {},
     "output_type": "execute_result"
    }
   ],
   "source": [
    "# 과제3 문제3\n",
    "# 87의 인덱스 구하기\n",
    "list1 = [58, 45, 69, 19, 4, 87, 29, 13, 39, 15, 54, [8, 33, 11], 27, 49, 63, 98, 22, 82]\n",
    "list1.index(87) # .index(요소)를 사용해서 인덱스 번호를 구할 수 있다!"
   ]
  },
  {
   "cell_type": "code",
   "execution_count": null,
   "id": "38a134f8",
   "metadata": {
    "id": "38a134f8",
    "outputId": "0746ec22-9038-4981-c029-365b274857a7"
   },
   "outputs": [
    {
     "data": {
      "text/plain": [
       "[87, 54, 39, 29, 19, 15, 13, 4]"
      ]
     },
     "execution_count": 18,
     "metadata": {},
     "output_type": "execute_result"
    }
   ],
   "source": [
    "# 과제3 문제4 (도전문제)\n",
    "# 인덱스 3에서 10까지의 값을 출력하고 list2에 저장한 후 내림차순 정렬하기 - 도전\n",
    "list1 = [58, 45, 69, 19, 4, 87, 29, 13, 39, 15, 54, [8, 33, 11], 27, 49, 63, 98, 22, 82]\n",
    "list2 = list1[3:11] # list2에 저장. 인덱스 번호 구별 필수! 3 부터 10 까지 출력이면 3:11임\n",
    "l_sort = sorted(list2,reverse=True) # ,reverse=True 이건 거꾸로 하기\n",
    "l_sort # 내림차순으로 정렬된 list2 출력"
   ]
  },
  {
   "cell_type": "code",
   "execution_count": null,
   "id": "a75e5f4b",
   "metadata": {
    "id": "a75e5f4b",
    "outputId": "b04d8247-b8a0-4734-bee5-6ded85136219"
   },
   "outputs": [
    {
     "name": "stdout",
     "output_type": "stream",
     "text": [
      "[58, 45, 69, 19, 4, 87, 29, 13, 11, 15, 54, [8, 33, 11], 27, 49, 63, 98, 22, 82]\n"
     ]
    }
   ],
   "source": [
    "# 과제3 문제5\n",
    "# 39를 11로 변경\n",
    "list1 = [58, 45, 69, 19, 4, 87, 29, 13, 39, 15, 54, [8, 33, 11], 27, 49, 63, 98, 22, 82]\n",
    "list1.index(39) # 39를 11로 변경하기 위해선 먼저, 39의 인덱스 값을 구한다 8.\n",
    "list1[8] = 11 # 인덱스 8번째값을 11로 변경\n",
    "print(list1) # 출력하여 확인"
   ]
  },
  {
   "cell_type": "code",
   "execution_count": null,
   "id": "e0e077b2",
   "metadata": {
    "id": "e0e077b2",
    "outputId": "dd955eb1-c8ef-413d-fb50-01a853955698"
   },
   "outputs": [
    {
     "data": {
      "text/plain": [
       "[69, 45, 58]"
      ]
     },
     "execution_count": 36,
     "metadata": {},
     "output_type": "execute_result"
    }
   ],
   "source": [
    "# 과제3 문제6\n",
    "# [69,45,58] 출력\n",
    "list1 = [58, 45, 69, 19, 4, 87, 29, 13, 39, 15, 54, [8, 33, 11], 27, 49, 63, 98, 22, 82]\n",
    "list1.index(69), list1.index(45), list1.index(58) # [69,45,58]을 출력하기 위해 인덱스 번호를 알아냄 (2, 1, 0)\n",
    "list1[:0:-1] # 리스트를 -1 을 사용해서 거꾸로 함. 시작:끝:-1 하면 거꾸로 됨\n",
    "list1[-16:-20:-1] # 거꾸로 된 상태를 만든 후 리스트에서 순서를 맞추면 끝"
   ]
  },
  {
   "cell_type": "code",
   "execution_count": null,
   "id": "304e5c53",
   "metadata": {
    "id": "304e5c53",
    "outputId": "a2ccd1b7-5890-4463-b953-88da756fb75c"
   },
   "outputs": [
    {
     "data": {
      "text/plain": [
       "[58, 69, 4, 29, 39, 54, 27, 63, 22]"
      ]
     },
     "execution_count": 40,
     "metadata": {},
     "output_type": "execute_result"
    }
   ],
   "source": [
    "# 과제3 문제7\n",
    "# 짝수 인덱스의 값으로 구성된 리스트 출력하기\n",
    "list1 = [58, 45, 69, 19, 4, 87, 29, 13, 39, 15, 54, [8, 33, 11], 27, 49, 63, 98, 22, 82]\n",
    "list1[::2] # 짝수 인덱스의 값 = 하나건너서 출력하도록 하면 됨. ::2 이렇게 하면 인덱스 1번건너뛰고 출력"
   ]
  },
  {
   "cell_type": "code",
   "execution_count": null,
   "id": "d06e2d05",
   "metadata": {
    "id": "d06e2d05",
    "outputId": "1ea3e3ac-edb5-4e58-b140-99c9cb11308d"
   },
   "outputs": [
    {
     "name": "stdout",
     "output_type": "stream",
     "text": [
      "[58, 45, 69, 19, 4, 87, 29, 13, 39, 15, 54, [8, 33, 11], 27, 49, 63, 22, 82]\n"
     ]
    }
   ],
   "source": [
    "# 과제3 문제8\n",
    "# 인덱스가 가장 큰수를 삭제하기\n",
    "list1 = [58, 45, 69, 19, 4, 87, 29, 13, 39, 15, 54, [8, 33, 11], 27, 49, 63, 98, 22, 82]\n",
    "list1.index(98) # 리스트안 요소 중에 98이 가장 커서 98의 인덱스 번호를 출력 -> 15번\n",
    "del list1[15] # del 를 사용하여 가장 큰수의 인덱스 번호인 15를 입력하여 삭제\n",
    "print(list1) # 출력하여 확인"
   ]
  },
  {
   "cell_type": "code",
   "execution_count": null,
   "id": "a7881c93",
   "metadata": {
    "id": "a7881c93",
    "outputId": "64bafdc2-053a-4509-e0ac-01909b865eec"
   },
   "outputs": [
    {
     "name": "stdout",
     "output_type": "stream",
     "text": [
      "인덱스 3, 5인 값으로 4칙 연산하기\n",
      "==**25\n",
      "인덱스 3의 값 : 19\n",
      "인덱스 5의 값 : 87\n",
      "이제, 19와 87로 사칙연산을 해보면...\n",
      "106\n",
      "-68\n",
      "1653\n",
      "0.21839080459770116\n",
      "0\n"
     ]
    }
   ],
   "source": [
    "# 과제3 문제9\n",
    "# 인덱스 3, 5인 값으로 4칙 연산하기\n",
    "list1 = [58, 45, 69, 19, 4, 87, 29, 13, 39, 15, 54, [8, 33, 11], 27, 49, 63, 98, 22, 82]\n",
    "num1 = list1[3]\n",
    "num2 = list1[5]\n",
    "print(\"인덱스 3, 5인 값으로 4칙 연산하기\\n==**25\")\n",
    "print(f\"인덱스 3의 값 : {num1}\")\n",
    "print(f\"인덱스 5의 값 : {num2}\")\n",
    "print(\"이제, 19와 87로 사칙연산을 해보면...\")\n",
    "print(num1 + num2) # print 안하면 마지막꺼만 출력됨\n",
    "print(num1 - num2) # print 안쓰고 출력 다 하는거 어케 하는지 궁금........\n",
    "print(num1 * num2) # 곱셈~\n",
    "print(num1 / num2) # 나눗셈~\n",
    "print(num1 // num2) # 몫~ 여기선 나눌수 없어서 0\n",
    "# print(num1 ** num2) # 제곱~ num1 ^ num2 숫자가 너무 커서 각주처리"
   ]
  },
  {
   "cell_type": "markdown",
   "id": "09cf77bf",
   "metadata": {
    "id": "09cf77bf"
   },
   "source": [
    "#### [과제4] 아래 list를 sort, sorted 를 이용해서 올림차순, 내림차순으로 각각 출력하세요.\n",
    "list = [5, 8, 11, 14, 17, 20, 23, 26, 29, 32, 35, 38, 41, 44, 47, 3, 5, 7, 9, 11, 13, 15, 17]"
   ]
  },
  {
   "cell_type": "code",
   "execution_count": null,
   "id": "6094fbfb",
   "metadata": {
    "id": "6094fbfb",
    "outputId": "7842ed04-6a37-4401-b1ef-3b765d3bfad2"
   },
   "outputs": [
    {
     "name": "stdout",
     "output_type": "stream",
     "text": [
      "[3, 5, 5, 7, 8, 9, 11, 11, 13, 14, 15, 17, 17, 20, 23, 26, 29, 32, 35, 38, 41, 44, 47]\n",
      "[47, 44, 41, 38, 35, 32, 29, 26, 23, 20, 17, 17, 15, 14, 13, 11, 11, 9, 8, 7, 5, 5, 3]\n"
     ]
    }
   ],
   "source": [
    "# 과제4\n",
    "# [과제4] 아래 list를 sort, sorted 를 이용해서 올림차순, 내림차순으로 각각 출력하세요.\n",
    "list = [5, 8, 11, 14, 17, 20, 23, 26, 29, 32, 35, 38, 41, 44, 47, 3, 5, 7, 9, 11, 13, 15, 17]\n",
    "\n",
    "# sort 사용하여 올림차순으로 출력하기 솔루션\n",
    "list.sort() # sort함수를 사용해서 숫자를 순서대로 정렬\n",
    "print(list) # sort함수를 사용한 list를 출력하여 오름차순으로 출력\n",
    "\n",
    "# sorted 사용하여 내림차순으로 출력하기 솔루션\n",
    "# list.sorted() # sorted는 sort처럼 하면 안되고 변수 만들어서 해야되는듯함!\n",
    "# print(list) # 그래서 출력하면 오류나옴\n",
    "new_list = sorted(list,reverse=True)\n",
    "# sorted함수를 사용해서 숫자를 순서대로 정렬. new_list에 저장. reverse=True사용하여 거꾸로.\n",
    "print(new_list)\n",
    "# sorted함수를 사용한 list를 출력하여 확인하는데 저장한 곳인 new_list 출력"
   ]
  },
  {
   "cell_type": "markdown",
   "id": "3bb40bf9",
   "metadata": {
    "id": "3bb40bf9"
   },
   "source": [
    "#### [과제5] 복합 대입연산자를 이용해서 4칙연산을 수행하세요\n",
    "- 복합 연산자\n",
    "- +=, -=, *=, /=, //=, %=\n",
    "- += : 더한다음에 대입하라"
   ]
  },
  {
   "cell_type": "code",
   "execution_count": null,
   "id": "3bebffb0",
   "metadata": {
    "id": "3bebffb0",
    "outputId": "d1e5fe7c-e732-4ddb-ad48-3154d718c5fd"
   },
   "outputs": [
    {
     "name": "stdout",
     "output_type": "stream",
     "text": [
      "9\n",
      "7\n",
      "14\n",
      "7.0\n",
      "3.0\n",
      "1.0\n"
     ]
    }
   ],
   "source": [
    " # [과제5] 복합 대입연산자를 이용해서 4칙연산을 수행하세요\n",
    "num = 7 # 변수 선언\n",
    "num += 2 # num = num + 2 와 같은 뜻\n",
    "print(num)\n",
    "num -= 2 # num = num - 2\n",
    "print(num)\n",
    "num *= 2 # num = num * 2\n",
    "print(num)\n",
    "num /= 2 # num = num / 2\n",
    "print(num)\n",
    "num //= 2 # num = num // 2\n",
    "print(num)\n",
    "num %= 2 # num = num % 2\n",
    "print(num)"
   ]
  },
  {
   "cell_type": "markdown",
   "id": "915da4e8",
   "metadata": {
    "id": "915da4e8"
   },
   "source": [
    "#### [과제6] 다음 과제를 수행하세요.\n",
    "- 사용자로 부터 텍스트를 입력 받는다. input\n",
    "- 문장을 단어 단위로 분리 split\n",
    "- 단어의 빈도 수를 저장할 딕셔너리를 생성. 결과 생성할 것을 {}로 선언 word frequency를 딕셔너리로 선언. word_frequency = {}\n",
    "- 각 단어의 빈도 수를 계산(for 문 / if else문)\n",
    "- 결과 출력"
   ]
  },
  {
   "cell_type": "code",
   "execution_count": null,
   "id": "46f570ac",
   "metadata": {
    "id": "46f570ac",
    "outputId": "abb50686-dc4f-46d6-f402-59b288b45f2d"
   },
   "outputs": [
    {
     "name": "stdout",
     "output_type": "stream",
     "text": [
      "Please input the sentences here :  TiK ToK Song by Kesha Wake up in the mornin' feelin' like P Diddy (hey, what up girl?) Grab my glasses, I'm out the door, I'm gonna hit this city (let's go) Before I leave, brush my teeth with a bottle of Jack 'Cause when I leave for the night, I ain't comin' back I'm talkin' pedicure on our toes, toes Tryin' on all our clothes, clothes Boys blowin' up our phones, phones Drop-toppin', playin' our favorite CDs Pullin' up to the parties Tryna get a little bit tipsy Don't stop, make it pop DJ, blow my speakers up Tonight, I'ma fight 'Til we see the sunlight Tick-tock on the clock But the party don't stop, no Oh, whoa, whoa-oh Oh, whoa, whoa-oh Don't stop, make it pop DJ, blow my speakers up Tonight, I'ma fight 'Til we see the sunlight Tick-tock on the clock But the party don't stop, no Oh, whoa, whoa-oh Oh, whoa, whoa-oh Ain't got a care in the world, but got plenty of beer Ain't got no money in my pocket, but I'm already here And now the dudes are linin' up 'cause they hear we got swagger But we kick 'em to the curb unless they look like Mick Jagger I'm talkin' 'bout everybody gettin' crunk, crunk Boys try to touch my junk, junk Gonna smack him if he gettin' too drunk, drunk Now, now, we go until they kick us out, out Or the police shut us down, down Police shut us down, down Po-po shut us down Don't stop, make it pop DJ, blow my speakers up Tonight, I'ma fight 'Til we see the sunlight Tick-tock on the clock But the party don't stop, no Oh, whoa, whoa-oh Oh, whoa, whoa-oh Don't stop, make it pop DJ, blow my speakers up Tonight, I'ma fight 'Til we see the sunlight Tick-tock on the clock But the party don't stop, no Oh, whoa, whoa-oh Oh, whoa, whoa-oh DJ, you build me up You break me down My heart, it pounds Yeah, you got me With my hands up You got me now You got that sound Yeah, you got me DJ, you build me up You break me down My heart, it pounds Yeah, you got me With my hands up Put your hands up Put your hands up Now, the party don't start 'til I walk in Don't stop, make it pop DJ, blow my speakers up Tonight, I'ma fight 'Til we see the sunlight Tick-tock on the clock But the party don't stop, no Oh, whoa, whoa-oh Oh, whoa, whoa-oh Don't stop, make it pop DJ, blow my speakers up Tonight, I'ma fight 'Til we see the sunlight Tick-tock on the clock But the party don't stop, no Oh, whoa, whoa-oh Oh, whoa, whoa-oh\n",
      "{'tik': 1, 'tok': 1, 'song': 1, 'by': 1, 'kesha': 1, 'wake': 1, 'up': 17, 'in': 4, 'the': 27, \"mornin'\": 1, \"feelin'\": 1, 'like': 2, 'p': 1, 'diddy': 1, '(hey,': 1, 'what': 1, 'girl?)': 1, 'grab': 1, 'my': 14, 'glasses,': 1, \"i'm\": 5, 'out': 2, 'door,': 1, 'gonna': 2, 'hit': 1, 'this': 1, 'city': 1, \"(let's\": 1, 'go)': 1, 'before': 1, 'i': 4, 'leave,': 1, 'brush': 1, 'teeth': 1, 'with': 3, 'a': 3, 'bottle': 1, 'of': 2, 'jack': 1, \"'cause\": 2, 'when': 1, 'leave': 1, 'for': 1, 'night,': 1, \"ain't\": 3, \"comin'\": 1, 'back': 1, \"talkin'\": 2, 'pedicure': 1, 'on': 8, 'our': 4, 'toes,': 1, 'toes': 1, \"tryin'\": 1, 'all': 1, 'clothes,': 1, 'clothes': 1, 'boys': 2, \"blowin'\": 1, 'phones,': 1, 'phones': 1, \"drop-toppin',\": 1, \"playin'\": 1, 'favorite': 1, 'cds': 1, \"pullin'\": 1, 'to': 3, 'parties': 1, 'tryna': 1, 'get': 1, 'little': 1, 'bit': 1, 'tipsy': 1, \"don't\": 13, 'stop,': 12, 'make': 6, 'it': 8, 'pop': 6, 'dj,': 8, 'blow': 6, 'speakers': 6, 'tonight,': 6, \"i'ma\": 6, 'fight': 6, \"'til\": 7, 'we': 9, 'see': 6, 'sunlight': 6, 'tick-tock': 6, 'clock': 6, 'but': 9, 'party': 7, 'no': 7, 'oh,': 12, 'whoa,': 12, 'whoa-oh': 12, 'got': 9, 'care': 1, 'world,': 1, 'plenty': 1, 'beer': 1, 'money': 1, 'pocket,': 1, 'already': 1, 'here': 1, 'and': 1, 'now': 2, 'dudes': 1, 'are': 1, \"linin'\": 1, 'they': 3, 'hear': 1, 'swagger': 1, 'kick': 2, \"'em\": 1, 'curb': 1, 'unless': 1, 'look': 1, 'mick': 1, 'jagger': 1, \"'bout\": 1, 'everybody': 1, \"gettin'\": 2, 'crunk,': 1, 'crunk': 1, 'try': 1, 'touch': 1, 'junk,': 1, 'junk': 1, 'smack': 1, 'him': 1, 'if': 1, 'he': 1, 'too': 1, 'drunk,': 1, 'drunk': 1, 'now,': 3, 'go': 1, 'until': 1, 'us': 4, 'out,': 1, 'or': 1, 'police': 2, 'shut': 3, 'down,': 2, 'down': 5, 'po-po': 1, 'you': 9, 'build': 2, 'me': 8, 'break': 2, 'heart,': 2, 'pounds': 2, 'yeah,': 3, 'hands': 4, 'that': 1, 'sound': 1, 'put': 2, 'your': 2, 'start': 1, 'walk': 1}\n"
     ]
    }
   ],
   "source": [
    "# input 으로 사용자로 부터 텍스트를 입력 받기\n",
    "\n",
    "words_frequency = {} # {} 로 딕셔너리 이게 아주 포인트다! list론 이게 안됨\n",
    "\n",
    "words_list = input(\"Please input the sentences here : \") # input 으로 사용자로부터 텍스트 입력 받기\n",
    "lower_words = words_list.lower() # lower : 입력받은 문장을 소문자로 변환\n",
    "split_words = lower_words.split() # split : 공백을 기준으로 해서 나눠줌\n",
    "\n",
    "for word in split_words: # 각 단어의 빈도 수를 계산...\n",
    "    if word in words_frequency:\n",
    "        words_frequency[word] += 1\n",
    "    else:\n",
    "        words_frequency[word] = 1\n",
    "\n",
    "print(words_frequency) # 결과 출력"
   ]
  }
 ],
 "metadata": {
  "colab": {
   "provenance": []
  },
  "kernelspec": {
   "display_name": "Python 3 (ipykernel)",
   "language": "python",
   "name": "python3"
  },
  "language_info": {
   "codemirror_mode": {
    "name": "ipython",
    "version": 3
   },
   "file_extension": ".py",
   "mimetype": "text/x-python",
   "name": "python",
   "nbconvert_exporter": "python",
   "pygments_lexer": "ipython3",
   "version": "3.10.13"
  }
 },
 "nbformat": 4,
 "nbformat_minor": 5
}
