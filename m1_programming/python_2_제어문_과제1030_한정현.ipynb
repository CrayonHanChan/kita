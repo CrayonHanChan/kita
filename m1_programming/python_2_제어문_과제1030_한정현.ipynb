{
 "cells": [
  {
   "cell_type": "markdown",
   "id": "b3e32a14",
   "metadata": {},
   "source": [
    "#### [과제1_1030] num1 = 12345, num2 = 12.345679 을 아래와 같이 출력하세요.\n",
    "12345\n",
    "     12345\n",
    "12.345679\n",
    "          12.346"
   ]
  },
  {
   "cell_type": "code",
   "execution_count": 7,
   "id": "1834394f",
   "metadata": {},
   "outputs": [
    {
     "name": "stdout",
     "output_type": "stream",
     "text": [
      "12345\n",
      "     12345\n",
      "12.345679\n",
      "          12.3457\n"
     ]
    }
   ],
   "source": [
    "# 과제1_1030 솔루션\n",
    "num1 = 12345\n",
    "num2 = 12.345679\n",
    "print('%d' %(num1))\n",
    "print(f'{num1:10d}')\n",
    "print(f'{num2}')\n",
    "print(f'{num2:17.04f}')"
   ]
  },
  {
   "cell_type": "markdown",
   "id": "ff998177",
   "metadata": {},
   "source": [
    "#### 과제2_1030 : listdata = ['a', 'b', 'c']에서 조건문을 이용해서 아래와 같이 출력하세요\n",
    "\n",
    "\n",
    "a가 listdata에 있습니다.\n",
    "b가 listdata에 있습니다.\n",
    "c가 listdata에 있습니다."
   ]
  },
  {
   "cell_type": "code",
   "execution_count": 13,
   "id": "68dcfda3",
   "metadata": {},
   "outputs": [
    {
     "name": "stdout",
     "output_type": "stream",
     "text": [
      "a가 listdata에 있습니다.\n",
      "b가 listdata에 있습니다.\n",
      "c가 listdata에 있습니다.\n",
      "=========================\n",
      "a가 listdata에 있습니다.\n",
      "b가 listdata에 있습니다.\n",
      "c가 listdata에 있습니다.\n"
     ]
    }
   ],
   "source": [
    "# 과제2_1030 솔루션1\n",
    "listdata = ['a', 'b', 'c']\n",
    "if 'a' in listdata:\n",
    "    print(\"a가 listdata에 있습니다.\")\n",
    "if 'b' in listdata:\n",
    "    print(\"b가 listdata에 있습니다.\")\n",
    "if 'c' in listdata:\n",
    "    print(\"c가 listdata에 있습니다.\")\n",
    "        \n",
    "# 과제3_1030 솔루션2 # 더욱 간단한 솔루션\n",
    "print(\"=\" * 25)\n",
    "listdata = ['a', 'b', 'c']\n",
    "for i in listdata:\n",
    "    if i in listdata:\n",
    "      print(f'{i}가 listdata에 있습니다.')  "
   ]
  },
  {
   "cell_type": "markdown",
   "id": "bd7f1285",
   "metadata": {},
   "source": [
    "#### 과제3_1030 : 돈이 있으면 택시를 타고, 돈이 없으면 걸어 간다를 만족하는 조건문을 작성하세요"
   ]
  },
  {
   "cell_type": "code",
   "execution_count": 14,
   "id": "9dd7123f",
   "metadata": {},
   "outputs": [
    {
     "name": "stdout",
     "output_type": "stream",
     "text": [
      "주머니에 있는 돈 : 10000\n",
      "택시를 탄다.\n"
     ]
    }
   ],
   "source": [
    "# 과제3_1030 솔루션\n",
    "money = int(input(\"주머니에 있는 돈 : \"))\n",
    "if money >= 10000 : # 만원 이상이 있으면 택시\n",
    "    print('택시를 탄다.')\n",
    "else : # 만원 미만이면 걸어가기\n",
    "    print('걸어 간다.')"
   ]
  },
  {
   "cell_type": "markdown",
   "id": "22d1dfe5",
   "metadata": {},
   "source": [
    "#### 과제4_1030 : 조건부 표현식을 한줄의 조건문으로 작성하세요.\n",
    "score = 70\n",
    "if score >= 60:\n",
    "    message = \"success\"\n",
    "else: \n",
    "    message = \"failure\"\n",
    "    \n",
    "print(message)"
   ]
  },
  {
   "cell_type": "code",
   "execution_count": 5,
   "id": "48b93980",
   "metadata": {
    "scrolled": false
   },
   "outputs": [
    {
     "name": "stdout",
     "output_type": "stream",
     "text": [
      "success\n"
     ]
    }
   ],
   "source": [
    "# 과제4_1030 솔루션\n",
    "score = 70\n",
    "print(\"success\") if score >= 60 else failure"
   ]
  },
  {
   "cell_type": "markdown",
   "id": "c9ca5a7c",
   "metadata": {},
   "source": [
    "#### 과제5_1030 : \"수입과 지출금액을 비교해서 수입이 많은면 저축 증가, 반대이면 빚이 증가\" 프로그램 작성"
   ]
  },
  {
   "cell_type": "code",
   "execution_count": 19,
   "id": "8921e110",
   "metadata": {},
   "outputs": [
    {
     "name": "stdout",
     "output_type": "stream",
     "text": [
      "소득액 : 3000\n",
      "지출액 : 10000\n",
      "채무 증가\n"
     ]
    }
   ],
   "source": [
    "# 과제5_1030 솔루션 \n",
    "income = int(input('소득액 : '))\n",
    "spend = int(input('지출액 : '))\n",
    "\n",
    "if income > spend:\n",
    "    print('저축 증가')\n",
    "elif income < spend:\n",
    "    print('채무 증가')\n",
    "else : \n",
    "    print('현상 유지')"
   ]
  },
  {
   "cell_type": "markdown",
   "id": "69081412",
   "metadata": {},
   "source": [
    "#### 과제6_1030: 1~10 범위의 정수에서 1부터 5까지만 출력하세요."
   ]
  },
  {
   "cell_type": "code",
   "execution_count": 29,
   "id": "f1218db8",
   "metadata": {},
   "outputs": [
    {
     "name": "stdout",
     "output_type": "stream",
     "text": [
      "1 2 3 4 5 "
     ]
    }
   ],
   "source": [
    "# 과제6_1030 솔루션\n",
    "for i in range(1,11): # 범위가 1부터 10까지이기에 range(1,11)로 작성\n",
    "    if i > 5 : # 5보다 클때엔(6일때엔) break!\n",
    "        break\n",
    "    print(i,end=' ')"
   ]
  },
  {
   "cell_type": "code",
   "execution_count": 20,
   "id": "1edbea42",
   "metadata": {},
   "outputs": [
    {
     "name": "stdout",
     "output_type": "stream",
     "text": [
      "1\n",
      "2\n",
      "3\n",
      "4\n",
      "5\n"
     ]
    }
   ],
   "source": [
    "# 과제6_1030 솔루션 # while 문\n",
    "number=1\n",
    "while True :\n",
    "    if number <= 10 :\n",
    "        print(number)\n",
    "        number += 1\n",
    "    if number > 5 :\n",
    "        break"
   ]
  },
  {
   "cell_type": "code",
   "execution_count": 47,
   "id": "afeb71b1",
   "metadata": {
    "scrolled": true
   },
   "outputs": [
    {
     "name": "stdout",
     "output_type": "stream",
     "text": [
      "15\n",
      "20\n",
      "25\n"
     ]
    }
   ],
   "source": [
    "# 과제7_1030 솔루션\n",
    "numbers = [5,15,6,20,7,25]\n",
    "for number in numbers :\n",
    "    if number % 5 == 0 :\n",
    "        if number > 5 :\n",
    "            print(number)"
   ]
  },
  {
   "cell_type": "markdown",
   "id": "0838ccfa",
   "metadata": {},
   "source": [
    "#### 과제8_1030 : 1부터 100까지의 정수 중 5 에서 95 까지의 합을 구하세요."
   ]
  },
  {
   "cell_type": "code",
   "execution_count": 23,
   "id": "41494762",
   "metadata": {},
   "outputs": [
    {
     "name": "stdout",
     "output_type": "stream",
     "text": [
      "4550\n"
     ]
    }
   ],
   "source": [
    "# 과제8_1030 솔루션 # while 문 사용\n",
    "num = 1\n",
    "sum = 0\n",
    "while num <= 100 :\n",
    "    if num >= 5 and num <= 95 :\n",
    "        sum += num\n",
    "    num += 1    \n",
    "print(sum)"
   ]
  },
  {
   "cell_type": "code",
   "execution_count": 24,
   "id": "9e72b220",
   "metadata": {},
   "outputs": [
    {
     "name": "stdout",
     "output_type": "stream",
     "text": [
      "4550\n"
     ]
    }
   ],
   "source": [
    "# 과제8_1030 솔루션 # for 문 사용\n",
    "num = 1\n",
    "sum = 0\n",
    "for i in range(1, 101) :\n",
    "    if num >= 5 and num <= 95 :\n",
    "        sum += num\n",
    "    num += 1\n",
    "print(sum)"
   ]
  },
  {
   "cell_type": "markdown",
   "id": "7918d8f3",
   "metadata": {},
   "source": [
    "##### 과제8-1_1031 : 1부터 100까지의 정수중 5부터 95까지의 합을 구하세요.\n",
    "(x < 5 or x > 95) 을 사용"
   ]
  },
  {
   "cell_type": "code",
   "execution_count": 7,
   "id": "a48bfe48",
   "metadata": {},
   "outputs": [
    {
     "name": "stdout",
     "output_type": "stream",
     "text": [
      "4550\n"
     ]
    }
   ],
   "source": [
    "# 과제8-1_1031 솔루션 # while 문 사용\n",
    "num = 1\n",
    "sum = 0\n",
    "while num <= 100:\n",
    "    if num < 5 or num > 95: \n",
    "        num += 1\n",
    "        continue\n",
    "    sum += num\n",
    "    num += 1\n",
    "print(sum)"
   ]
  },
  {
   "cell_type": "code",
   "execution_count": 4,
   "id": "598721ff",
   "metadata": {},
   "outputs": [
    {
     "name": "stdout",
     "output_type": "stream",
     "text": [
      "4550\n"
     ]
    }
   ],
   "source": [
    "# 과제8-1_1031 솔루션 # for 문 사용 \n",
    "sum = 0\n",
    "for x in range(1,101) :\n",
    "    if x < 5 or x > 95 :\n",
    "        continue\n",
    "    sum += x\n",
    "print(sum)"
   ]
  },
  {
   "cell_type": "markdown",
   "id": "5554421e",
   "metadata": {},
   "source": [
    "#### 과제9_1030 : while문을 사용해 1부터 1000까지의 정수 중 3과 5의 공배수의 합을 구해 보세요"
   ]
  },
  {
   "cell_type": "code",
   "execution_count": 3,
   "id": "de84b3a4",
   "metadata": {},
   "outputs": [
    {
     "name": "stdout",
     "output_type": "stream",
     "text": [
      "33165\n"
     ]
    }
   ],
   "source": [
    "# 과제09_1030 솔루션\n",
    "result = 0\n",
    "for n in range(1, 1001):\n",
    "    if n % 3 == 0 and n % 5 == 0: \n",
    "        result += n\n",
    "print(result)"
   ]
  },
  {
   "cell_type": "markdown",
   "id": "1c58e3f5",
   "metadata": {},
   "source": [
    "#### 과제10_1030 : 현재 시각을 오전과 오후로 구분하는 프로그램을 작성하세요. \n",
    "현재 시간 구하는 방법\n",
    "import datetime\n",
    "now=datetime.datetime.now()\n",
    "print(now.hour)"
   ]
  },
  {
   "cell_type": "code",
   "execution_count": 2,
   "id": "3a1ddd5b",
   "metadata": {},
   "outputs": [
    {
     "name": "stdout",
     "output_type": "stream",
     "text": [
      "10\n",
      "현재 오전 10시 입니다.\n"
     ]
    }
   ],
   "source": [
    "# 과제10_1030 솔루션\n",
    "import datetime\n",
    "now=datetime.datetime.now()\n",
    "print(now.hour)\n",
    "\n",
    "# 오전 : 0시~12시\n",
    "if now.hour < 12 :\n",
    "    print(f'현재 오전 {now.hour}시 입니다.')\n",
    "    \n",
    "# 오후 : 12시~24시\n",
    "if now.hour >= 12 :\n",
    "    print(f'현재 오후 {now.hour}시 입니다.')"
   ]
  },
  {
   "cell_type": "markdown",
   "id": "d87282be",
   "metadata": {},
   "source": [
    "#### 과제11_1030 : 태어난 연도를 입력받아 띠를 출력하는 프로그램을 작성하세요.\n",
    "원숭이, 닭, 개, 돼지, 쥐, 소, 범, 토끼, 용, 뱀, 말, 양띠"
   ]
  },
  {
   "cell_type": "code",
   "execution_count": 45,
   "id": "5b693496",
   "metadata": {},
   "outputs": [
    {
     "name": "stdout",
     "output_type": "stream",
     "text": [
      "<태어난 연도를 입력받아 띠를 출력하는 프로그램>\n",
      "==================================================\n",
      "태어난 연도를 입력해주세요. : 1991\n",
      "양 띠입니다.\n"
     ]
    }
   ],
   "source": [
    "# 과제11_1030 솔루션\n",
    "print(\"<태어난 연도를 입력받아 띠를 출력하는 프로그램>\"+'\\n'+\"=\"*50)\n",
    "year = int(input(\"태어난 연도를 입력해주세요. : \"))\n",
    "birth_year = year % 12\n",
    "if birth_year==0:\n",
    "    print(\"원숭이 띠입니다.\")\n",
    "elif birth_year==1:\n",
    "    print(\"닭 띠입니다.\")\n",
    "elif birth_year==2:\n",
    "    print(\"개 띠입니다.\")\n",
    "elif birth_year==3:\n",
    "    print(\"돼지 띠입니다.\")\n",
    "elif birth_year==4:\n",
    "    print(\"쥐 띠입니다.\")\n",
    "elif birth_year==5:\n",
    "    print(\"소 띠입니다.\")\n",
    "elif birth_year==6:\n",
    "    print(\"범 띠입니다.\")\n",
    "elif birth_year==7:\n",
    "    print(\"토끼 띠입니다.\")\n",
    "elif birth_year==8:\n",
    "    print(\"용 띠입니다.\")\n",
    "elif birth_year==9:\n",
    "    print(\"뱀 띠입니다.\")\n",
    "elif birth_year==10:\n",
    "    print(\"말 띠입니다.\")\n",
    "else:\n",
    "    print(\"양 띠입니다.\")"
   ]
  },
  {
   "cell_type": "markdown",
   "id": "a49b377b",
   "metadata": {},
   "source": [
    "#### 과제12_1030 : 커피 자판기 프로그램\n",
    "- 시나리오 : 자판기 커피 재고 5잔, 커피 1잔 가격 300원, 재고 범위내에서 300원 이상 돈을 넣으면\n",
    "    거스름돈과 커피를 주고 그렇지 않으면 반환하며 재고가 소진되면 안내멘트 출력\n",
    "- 각 Case별 멘트 출력은 상황에 맞게 창작\n",
    "- while, if ~ elif ~ else 제어문을 사용하여 작성"
   ]
  },
  {
   "cell_type": "code",
   "execution_count": 13,
   "id": "4407ac70",
   "metadata": {
    "scrolled": true
   },
   "outputs": [
    {
     "name": "stdout",
     "output_type": "stream",
     "text": [
      "커피 자판기 1잔에 300원\n",
      "동전이나 지폐를 넣어 주세요. : 100\n",
      "돈이 부족합니다. 돈을 반환합니다.\n",
      "5잔이 남았습니다.\n",
      "동전이나 지폐를 넣어 주세요. : 300\n",
      "커피가 나오는 중입니다. 잠시만 기다려 주세요.\n",
      "동전이나 지폐를 넣어 주세요. : 400\n",
      "커피가 나오는 중입니다. 잠시만 기다려 주세요.\n",
      "거스름돈 100원이 나옵니다.\n",
      "동전이나 지폐를 넣어 주세요. : 400\n",
      "커피가 나오는 중입니다. 잠시만 기다려 주세요.\n",
      "거스름돈 100원이 나옵니다.\n",
      "동전이나 지폐를 넣어 주세요. : 400\n",
      "커피가 나오는 중입니다. 잠시만 기다려 주세요.\n",
      "거스름돈 100원이 나옵니다.\n",
      "동전이나 지폐를 넣어 주세요. : 400\n",
      "커피가 나오는 중입니다. 잠시만 기다려 주세요.\n",
      "거스름돈 100원이 나옵니다.\n",
      "커피가 소진되었습니다.\n"
     ]
    }
   ],
   "source": [
    "# 과제12_1030 솔루션\n",
    "print(\"커피 자판기 1잔에 300원\")\n",
    "coffee = 5\n",
    "\n",
    "while 1 :\n",
    "    money = int(input(\"동전이나 지폐를 넣어 주세요. : \"))\n",
    "    \n",
    "    if money == 300 :\n",
    "        print(\"커피가 나오는 중입니다. 잠시만 기다려 주세요.\")\n",
    "        coffee = coffee - 1\n",
    "    \n",
    "    elif money > 300 :\n",
    "        print(\"커피가 나오는 중입니다. 잠시만 기다려 주세요.\")\n",
    "        coffee = coffee - 1\n",
    "        거스름돈 = money - 300\n",
    "        print(f\"거스름돈 {거스름돈}원이 나옵니다.\")\n",
    " \n",
    "    else :\n",
    "        print(\"돈이 부족합니다. 돈을 반환합니다.\")\n",
    "        print(f'{coffee}잔이 남았습니다.')\n",
    "    \n",
    "    if coffee == 0 :\n",
    "        print(\"커피가 소진되었습니다.\")\n",
    "        break"
   ]
  }
 ],
 "metadata": {
  "kernelspec": {
   "display_name": "Python 3 (ipykernel)",
   "language": "python",
   "name": "python3"
  },
  "language_info": {
   "codemirror_mode": {
    "name": "ipython",
    "version": 3
   },
   "file_extension": ".py",
   "mimetype": "text/x-python",
   "name": "python",
   "nbconvert_exporter": "python",
   "pygments_lexer": "ipython3",
   "version": "3.10.13"
  }
 },
 "nbformat": 4,
 "nbformat_minor": 5
}
