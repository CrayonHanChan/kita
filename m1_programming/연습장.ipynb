{
 "cells": [
  {
   "cell_type": "code",
   "execution_count": 1,
   "id": "d504345e",
   "metadata": {},
   "outputs": [
    {
     "name": "stdout",
     "output_type": "stream",
     "text": [
      "4465\n"
     ]
    }
   ],
   "source": [
    "# 과제8-1_1030\n",
    "x = 1\n",
    "sum = 0\n",
    "while x <= 100 : \n",
    "    if x < 5 or x < 95 :\n",
    "        sum += x\n",
    "    x += 1\n",
    "print(sum)\n"
   ]
  },
  {
   "cell_type": "code",
   "execution_count": 2,
   "id": "e884fb1d",
   "metadata": {},
   "outputs": [
    {
     "name": "stdout",
     "output_type": "stream",
     "text": [
      "4550\n"
     ]
    }
   ],
   "source": [
    "num = 1\n",
    "sum = 0\n",
    "while num <= 100:\n",
    "    if num < 5 or num > 95: \n",
    "        num += 1\n",
    "        continue\n",
    "    sum += num\n",
    "    num += 1\n",
    "print(sum)"
   ]
  },
  {
   "cell_type": "code",
   "execution_count": 3,
   "id": "5e97df37",
   "metadata": {},
   "outputs": [
    {
     "name": "stdout",
     "output_type": "stream",
     "text": [
      "4550\n"
     ]
    }
   ],
   "source": [
    "num = 0\n",
    "sum = 0\n",
    "\n",
    "while num < 100:\n",
    "    num += 1\n",
    "    \n",
    "    if num < 5 or num > 95:\n",
    "        continue\n",
    "    else:\n",
    "        sum += num\n",
    "print(sum)\n"
   ]
  },
  {
   "cell_type": "code",
   "execution_count": null,
   "id": "e7819639",
   "metadata": {},
   "outputs": [],
   "source": [
    "# 과제8_1030 솔루션 #원본\n",
    "num = 1\n",
    "sum = 0\n",
    "while num <= 100 :\n",
    "    if num >= 5 and num <= 95 :\n",
    "        sum += num\n",
    "    num += 1\n",
    "print(sum)"
   ]
  },
  {
   "cell_type": "code",
   "execution_count": 15,
   "id": "2357bc67",
   "metadata": {},
   "outputs": [
    {
     "name": "stdout",
     "output_type": "stream",
     "text": [
      "4550\n"
     ]
    }
   ],
   "source": [
    "# 과제8_1030 솔루션\n",
    "num = 1\n",
    "sum = 0\n",
    "while num <= 100 :\n",
    "    if num >= 5 and num <= 95 :\n",
    "        sum += num\n",
    "    num += 1\n",
    "else :\n",
    "    print(sum)"
   ]
  },
  {
   "cell_type": "code",
   "execution_count": null,
   "id": "e7e55eeb",
   "metadata": {},
   "outputs": [],
   "source": [
    "num = 1\n",
    "sum = 0\n",
    "while num <= 100 :\n",
    "    if num >= 5 and num <= 95 :\n",
    "        sum += num\n",
    "    num += 1\n",
    "print(sum)"
   ]
  },
  {
   "cell_type": "code",
   "execution_count": 25,
   "id": "2dd03148",
   "metadata": {},
   "outputs": [
    {
     "name": "stdout",
     "output_type": "stream",
     "text": [
      "4550\n"
     ]
    }
   ],
   "source": [
    "# 과제8_1030 솔루션\n",
    "num <= 100\n",
    "num = 1\n",
    "sum = 0\n",
    "while 1 :\n",
    "    if num >= 5 and num <= 95 :\n",
    "        sum += num \n",
    "    num += 1\n",
    "    if num >= 100 :\n",
    "        break\n",
    "print(sum)"
   ]
  },
  {
   "cell_type": "code",
   "execution_count": 31,
   "id": "7a677edc",
   "metadata": {},
   "outputs": [
    {
     "ename": "KeyboardInterrupt",
     "evalue": "",
     "output_type": "error",
     "traceback": [
      "\u001b[1;31m---------------------------------------------------------------------------\u001b[0m",
      "\u001b[1;31mKeyboardInterrupt\u001b[0m                         Traceback (most recent call last)",
      "Cell \u001b[1;32mIn[31], line 4\u001b[0m\n\u001b[0;32m      2\u001b[0m num \u001b[38;5;241m=\u001b[39m \u001b[38;5;241m1\u001b[39m\n\u001b[0;32m      3\u001b[0m \u001b[38;5;28msum\u001b[39m \u001b[38;5;241m=\u001b[39m \u001b[38;5;241m0\u001b[39m\n\u001b[1;32m----> 4\u001b[0m \u001b[38;5;28;01mwhile\u001b[39;00m \u001b[43mnum\u001b[49m\u001b[43m \u001b[49m\u001b[38;5;241;43m<\u001b[39;49m\u001b[38;5;241;43m=\u001b[39;49m\u001b[43m \u001b[49m\u001b[38;5;241;43m100\u001b[39;49m :\n\u001b[0;32m      5\u001b[0m     \u001b[38;5;28;01mif\u001b[39;00m num \u001b[38;5;241m>\u001b[39m\u001b[38;5;241m=\u001b[39m \u001b[38;5;241m5\u001b[39m \u001b[38;5;129;01mand\u001b[39;00m num \u001b[38;5;241m<\u001b[39m\u001b[38;5;241m=\u001b[39m \u001b[38;5;241m95\u001b[39m :\n\u001b[0;32m      6\u001b[0m         \u001b[38;5;28msum\u001b[39m \u001b[38;5;241m+\u001b[39m\u001b[38;5;241m=\u001b[39m num\n",
      "\u001b[1;31mKeyboardInterrupt\u001b[0m: "
     ]
    }
   ],
   "source": [
    "# 과제8_1030 솔루션\n",
    "num = 1\n",
    "sum = 0\n",
    "while num <= 100 :\n",
    "    if num >= 5 and num <= 95 :\n",
    "        sum += num\n",
    "    else :\n",
    "        num += 1\n",
    "print(sum)"
   ]
  },
  {
   "cell_type": "code",
   "execution_count": 28,
   "id": "c04cb836",
   "metadata": {
    "scrolled": true
   },
   "outputs": [
    {
     "name": "stdout",
     "output_type": "stream",
     "text": [
      "4550\n"
     ]
    }
   ],
   "source": [
    "# 과제8_1030 솔루션\n",
    "num = 1\n",
    "sum = 0\n",
    "while num <= 100 :\n",
    "    if num >= 5 and num <= 95 :\n",
    "        sum += num\n",
    "    num += 1\n",
    "print(sum)"
   ]
  },
  {
   "cell_type": "code",
   "execution_count": 34,
   "id": "707099bc",
   "metadata": {},
   "outputs": [
    {
     "name": "stdout",
     "output_type": "stream",
     "text": [
      "4550\n"
     ]
    }
   ],
   "source": [
    "num = 1\n",
    "sum = 0\n",
    "while 1 :\n",
    "    if num >= 5 and num <= 95 :\n",
    "        sum += num \n",
    "    if num >= 100 :\n",
    "        break\n",
    "    else :\n",
    "        num += 1\n",
    "\n",
    "print(sum)"
   ]
  },
  {
   "cell_type": "code",
   "execution_count": 37,
   "id": "2156bcff",
   "metadata": {},
   "outputs": [
    {
     "name": "stdout",
     "output_type": "stream",
     "text": [
      "4550\n"
     ]
    }
   ],
   "source": [
    "num = 1\n",
    "sum = 0\n",
    "while 1 :\n",
    "    if num >= 5 and num <= 95 :\n",
    "        sum += num\n",
    "    if num >= 100 :\n",
    "        break\n",
    "    else :\n",
    "        num += 1\n",
    "\n",
    "print(sum)"
   ]
  },
  {
   "cell_type": "code",
   "execution_count": null,
   "id": "682c9efb",
   "metadata": {},
   "outputs": [],
   "source": [
    "num = 1\n",
    "sum = 0\n",
    "while num <= 100 :\n",
    "    if num >= 5 and num <= 95 :\n",
    "        sum += num\n",
    "    if num \n",
    "    num += 1\n",
    "print(sum)"
   ]
  },
  {
   "cell_type": "code",
   "execution_count": 41,
   "id": "0bf0434a",
   "metadata": {},
   "outputs": [
    {
     "name": "stdout",
     "output_type": "stream",
     "text": [
      "3에서 루프를 중단합니다.\n"
     ]
    }
   ],
   "source": [
    "# 어제 학습한 내용이예요.\n",
    "# break 문을 사용하여 루프를 중단하면 else 절은 실행되지 않음\n",
    "for i in range(5):\n",
    "    if i == 3:\n",
    "        print(f'{i}에서 루프를 중단합니다.')\n",
    "        break\n",
    "else:\n",
    "    print('루프가 정상적으로 완료되었습니다.')"
   ]
  },
  {
   "cell_type": "code",
   "execution_count": 40,
   "id": "1be482da",
   "metadata": {},
   "outputs": [
    {
     "name": "stdout",
     "output_type": "stream",
     "text": [
      "3에서 루프를 중단합니다.\n",
      "루프가 정상적으로 완료되었습니다.\n"
     ]
    }
   ],
   "source": [
    "# 어제 학습한 내용이예요.\n",
    "# break 문을 사용하여 루프를 중단하면 else 절은 실행되지 않음\n",
    "for i in range(5):\n",
    "    if i == 3:\n",
    "        print(f'{i}에서 루프를 중단합니다.')\n",
    "else:\n",
    "    print('루프가 정상적으로 완료되었습니다.')"
   ]
  },
  {
   "cell_type": "code",
   "execution_count": 42,
   "id": "05d8f5c0",
   "metadata": {},
   "outputs": [
    {
     "name": "stdout",
     "output_type": "stream",
     "text": [
      "4550\n"
     ]
    }
   ],
   "source": [
    "#### 과제8_1030 : 1부터 100까지의 정수 중 5 에서 95 까지의 합을 구하세요.\n",
    "\n",
    "sum = 0\n",
    "for i in range(1,101) : \n",
    "    if i >= 5 and i <= 95 :\n",
    "        sum += i\n",
    "print(sum)"
   ]
  },
  {
   "cell_type": "code",
   "execution_count": 44,
   "id": "702f8e74",
   "metadata": {},
   "outputs": [
    {
     "name": "stdout",
     "output_type": "stream",
     "text": [
      "4550\n"
     ]
    }
   ],
   "source": [
    "# 과제 8 while 로 해보기\n",
    "\n",
    "i = 1\n",
    "sum = 0\n",
    "while i <= 100 :\n",
    "    if i >= 5 and i <= 95 :\n",
    "        sum += i\n",
    "    i += 1\n",
    "print(sum)"
   ]
  },
  {
   "cell_type": "code",
   "execution_count": null,
   "id": "a6fa36d0",
   "metadata": {},
   "outputs": [],
   "source": [
    "##### 과제8-1_1031 : 1부터 100까지의 정수중 5부터 95까지의 합을 구하세요.\n",
    "(x < 5 or x > 95) 을 사용"
   ]
  },
  {
   "cell_type": "code",
   "execution_count": 45,
   "id": "0643f814",
   "metadata": {},
   "outputs": [
    {
     "name": "stdout",
     "output_type": "stream",
     "text": [
      "500\n"
     ]
    }
   ],
   "source": [
    "# for 문 사용\n",
    "sum = 0\n",
    "x = 1\n",
    "for x in range(1,101):\n",
    "    if x < 5 or x > 95 :\n",
    "        sum += x\n",
    "print(sum)"
   ]
  },
  {
   "cell_type": "code",
   "execution_count": 49,
   "id": "ba16f9ec",
   "metadata": {},
   "outputs": [
    {
     "name": "stdout",
     "output_type": "stream",
     "text": [
      "4550\n"
     ]
    }
   ],
   "source": [
    "# while 문 사용\n",
    "\n",
    "sum = 0\n",
    "x = 1\n",
    "while x <= 100 :\n",
    "    if x < 5 or x > 95 :\n",
    "        x += 1\n",
    "        continue\n",
    "    sum += x\n",
    "    x += 1\n",
    "print(sum)"
   ]
  },
  {
   "cell_type": "code",
   "execution_count": 50,
   "id": "e7944752",
   "metadata": {},
   "outputs": [
    {
     "name": "stdout",
     "output_type": "stream",
     "text": [
      "4550\n"
     ]
    }
   ],
   "source": [
    "# for 문 사용\n",
    "\n",
    "sum = 0\n",
    "for x in range(1,101) :\n",
    "    if x < 5 or x > 95 :\n",
    "        continue\n",
    "    sum += x\n",
    "print(sum)"
   ]
  },
  {
   "cell_type": "code",
   "execution_count": null,
   "id": "f3216bf2",
   "metadata": {},
   "outputs": [],
   "source": [
    "#### 과제9_1030 : while문을 사용해 1부터 1000까지의 정수 중 3과 5의 공배수의 합을 구해 보세요\n"
   ]
  },
  {
   "cell_type": "code",
   "execution_count": 52,
   "id": "1408779b",
   "metadata": {},
   "outputs": [
    {
     "name": "stdout",
     "output_type": "stream",
     "text": [
      "안녕하세요~\n",
      "Hi~\n"
     ]
    }
   ],
   "source": [
    "def greeting() :\n",
    "    print(\"안녕하세요~\")\n",
    "    print(\"Hi~\")\n",
    "greeting()"
   ]
  },
  {
   "cell_type": "code",
   "execution_count": 66,
   "id": "46cc034e",
   "metadata": {},
   "outputs": [
    {
     "name": "stdout",
     "output_type": "stream",
     "text": [
      "Hi\n"
     ]
    }
   ],
   "source": [
    "def 인사(h) :\n",
    "    return f'{h}'\n",
    "print(인사(\"Hi\"))"
   ]
  },
  {
   "cell_type": "code",
   "execution_count": 55,
   "id": "329f9408",
   "metadata": {},
   "outputs": [
    {
     "name": "stdout",
     "output_type": "stream",
     "text": [
      "8\n"
     ]
    }
   ],
   "source": [
    "def multi(num) :\n",
    "    print(num * 2)\n",
    "    \n",
    "multi(4)"
   ]
  },
  {
   "cell_type": "code",
   "execution_count": 56,
   "id": "1e3c6b5e",
   "metadata": {},
   "outputs": [
    {
     "data": {
      "text/plain": [
       "10"
      ]
     },
     "execution_count": 56,
     "metadata": {},
     "output_type": "execute_result"
    }
   ],
   "source": [
    "def 함수2() :\n",
    "    return 10\n",
    "\n",
    "함수2()"
   ]
  },
  {
   "cell_type": "code",
   "execution_count": 57,
   "id": "bd1cce10",
   "metadata": {},
   "outputs": [
    {
     "name": "stdout",
     "output_type": "stream",
     "text": [
      "10\n"
     ]
    }
   ],
   "source": [
    "def 함수2() :\n",
    "    return 10\n",
    "\n",
    "print( 함수2() )"
   ]
  },
  {
   "cell_type": "code",
   "execution_count": 58,
   "id": "e4b840c6",
   "metadata": {},
   "outputs": [
    {
     "name": "stdout",
     "output_type": "stream",
     "text": [
      "6\n"
     ]
    }
   ],
   "source": [
    "def 수학연산(x) :\n",
    "    return x + 2\n",
    "\n",
    "결과 = 수학연산(4)\n",
    "\n",
    "print(결과)"
   ]
  },
  {
   "cell_type": "code",
   "execution_count": null,
   "id": "8b144413",
   "metadata": {},
   "outputs": [],
   "source": [
    "def 수학연산(x) :\n",
    "    print(x + 2)\n",
    "\n",
    "\n",
    "결과 = 수학연산(4)\n",
    "print(수학연산(4))\n",
    "print(결과)"
   ]
  },
  {
   "cell_type": "code",
   "execution_count": 75,
   "id": "c99a9d7e",
   "metadata": {},
   "outputs": [
    {
     "name": "stdout",
     "output_type": "stream",
     "text": [
      "None\n",
      "None\n"
     ]
    }
   ],
   "source": [
    "def 수학연산(x) :\n",
    "    결과 = x + 2\n",
    "    \n",
    "x = 6\n",
    "print(결과)\n",
    "print(수학연산(x))"
   ]
  },
  {
   "cell_type": "code",
   "execution_count": 81,
   "id": "8819cb18",
   "metadata": {},
   "outputs": [
    {
     "name": "stdout",
     "output_type": "stream",
     "text": [
      "6\n"
     ]
    }
   ],
   "source": [
    "def 수학연산(x) :\n",
    "    return x + 2\n",
    "    \n",
    "x = 4\n",
    "print(수학연산(x))"
   ]
  },
  {
   "cell_type": "code",
   "execution_count": 85,
   "id": "572229c3",
   "metadata": {},
   "outputs": [
    {
     "name": "stdout",
     "output_type": "stream",
     "text": [
      "3, 4의 합은 7입니다.\n"
     ]
    }
   ],
   "source": [
    "def add(a, b): \n",
    "    print(\"%d, %d의 합은 %d입니다.\" % (a, b, a+b))\n",
    "\n",
    "add(3,4)"
   ]
  },
  {
   "cell_type": "code",
   "execution_count": null,
   "id": "506c646e",
   "metadata": {},
   "outputs": [],
   "source": [
    "#### [과제1_1030] num1 = 12345, num2 = 12.345679 을 아래와 같이 출력하세요.\n",
    "12345\n",
    "     12345\n",
    "12.345679\n",
    "          12.346"
   ]
  },
  {
   "cell_type": "code",
   "execution_count": 113,
   "id": "19b684e8",
   "metadata": {},
   "outputs": [
    {
     "name": "stdout",
     "output_type": "stream",
     "text": [
      "12345\n",
      "     12345\n",
      "12.345679\n",
      "          12.3457\n"
     ]
    }
   ],
   "source": [
    "a =12345\n",
    "b= 12.345679\n",
    "print('%d' %(a)) # '%d 문자열도가능 ' %(변수)\n",
    "print(f'{a:10d}')\n",
    "print(f'{b}')\n",
    "print(f'{b:17.04f}')"
   ]
  },
  {
   "cell_type": "code",
   "execution_count": null,
   "id": "e65af933",
   "metadata": {},
   "outputs": [],
   "source": [
    "#### 과제2_1030 : listdata = ['a', 'b', 'c']에서 조건문을 이용해서 아래와 같이 출력하세요\n",
    "\n",
    "\n",
    "a가 listdata에 있습니다.\n",
    "b가 listdata에 있습니다.\n",
    "c가 listdata에 있습니다."
   ]
  },
  {
   "cell_type": "code",
   "execution_count": 117,
   "id": "3d53e5ac",
   "metadata": {},
   "outputs": [
    {
     "name": "stdout",
     "output_type": "stream",
     "text": [
      "a가 listdata에 있습니다.\n",
      "b가 listdata에 있습니다.\n",
      "c가 listdata에 있습니다.\n"
     ]
    }
   ],
   "source": [
    "listdata = ['a', b, 'c']\n",
    "if 'a' in listdata : print(\"a가 listdata에 있습니다.\")\n",
    "if b in listdata : print(\"b가 listdata에 있습니다.\")\n",
    "if 'c' in listdata : print(\"c가 listdata에 있습니다.\")"
   ]
  },
  {
   "cell_type": "code",
   "execution_count": 124,
   "id": "edd87b8e",
   "metadata": {},
   "outputs": [
    {
     "name": "stdout",
     "output_type": "stream",
     "text": [
      "a가 listdata2에 있습니다.\n",
      "b가 listdata2에 있습니다.\n",
      "c가 listdata2에 있습니다.\n"
     ]
    }
   ],
   "source": [
    "listdata2 = ['a', 'b', 'c'] # for문\n",
    "for i in listdata2 :\n",
    "    if i in listdata2:\n",
    "        print(f'{i}가 listdata2에 있습니다.')"
   ]
  },
  {
   "cell_type": "code",
   "execution_count": 126,
   "id": "71fadfbf",
   "metadata": {},
   "outputs": [
    {
     "name": "stdout",
     "output_type": "stream",
     "text": [
      "a가 listdata2에 있습니다.\n",
      "b가 listdata2에 있습니다.\n",
      "c가 listdata2에 있습니다.\n"
     ]
    }
   ],
   "source": [
    "listdata2 = ['a', 'b', 'c'] # for문\n",
    "for m in listdata2 :\n",
    "    if m in listdata2:\n",
    "        print(f'{m}가 listdata2에 있습니다.')"
   ]
  },
  {
   "cell_type": "code",
   "execution_count": 130,
   "id": "2bae2700",
   "metadata": {
    "scrolled": true
   },
   "outputs": [
    {
     "name": "stdout",
     "output_type": "stream",
     "text": [
      "a가 listdata2에 있습니다.\n",
      "b가 listdata2에 있습니다.\n",
      "c가 listdata2에 있습니다.\n"
     ]
    }
   ],
   "source": [
    "listdata2 = ['a','b','c']\n",
    "for index in listdata2 :\n",
    "    if index in listdata2 :\n",
    "        print(f'{index}가 listdata2에 있습니다.')"
   ]
  },
  {
   "cell_type": "code",
   "execution_count": 128,
   "id": "a46471d1",
   "metadata": {},
   "outputs": [
    {
     "name": "stdout",
     "output_type": "stream",
     "text": [
      "네\n"
     ]
    }
   ],
   "source": [
    "#### 과제3_1030 : 돈이 있으면 택시를 타고, 돈이 없으면 걸어 간다를 만족하는 조건문을 작성하세요"
   ]
  },
  {
   "cell_type": "code",
   "execution_count": 132,
   "id": "f0a3d0ab",
   "metadata": {},
   "outputs": [
    {
     "name": "stdout",
     "output_type": "stream",
     "text": [
      "주머니에 있는 돈을 입력해 주세요 : 1233123\n",
      "택시를 탄다\n"
     ]
    }
   ],
   "source": [
    "money = int(input(\"주머니에 있는 돈을 입력해 주세요 : \"))\n",
    "if money >= 5000 :\n",
    "    print(\"택시를 탄다\")\n",
    "else : \n",
    "    print(\"걸어간다\")"
   ]
  },
  {
   "cell_type": "code",
   "execution_count": null,
   "id": "c82a35ab",
   "metadata": {},
   "outputs": [],
   "source": [
    "#### 과제4_1030 : 조건부 표현식을 한줄의 조건문으로 작성하세요.\n",
    "score = 70\n",
    "if score >= 60:\n",
    "    message = \"success\"\n",
    "else: \n",
    "    message = \"failure\"\n",
    "    \n",
    "print(message)"
   ]
  },
  {
   "cell_type": "code",
   "execution_count": 139,
   "id": "61f97483",
   "metadata": {},
   "outputs": [
    {
     "name": "stdout",
     "output_type": "stream",
     "text": [
      "success\n"
     ]
    }
   ],
   "source": [
    "score = 70\n",
    "print(\"success\") if score >= 60 else print(\"failure\")"
   ]
  },
  {
   "cell_type": "code",
   "execution_count": 142,
   "id": "8167d58d",
   "metadata": {},
   "outputs": [
    {
     "name": "stdout",
     "output_type": "stream",
     "text": [
      "success\n"
     ]
    }
   ],
   "source": [
    "score = 70\n",
    "print(\"success\") if score >= 60 else print(\"failure\")"
   ]
  },
  {
   "cell_type": "code",
   "execution_count": null,
   "id": "ada08a02",
   "metadata": {},
   "outputs": [],
   "source": [
    "#### 과제5_1030 : \"수입과 지출금액을 비교해서 수입이 많은면 저축 증가, 반대이면 빚이 증가\" 프로그램 작성"
   ]
  },
  {
   "cell_type": "code",
   "execution_count": 147,
   "id": "bf8f72d9",
   "metadata": {},
   "outputs": [
    {
     "name": "stdout",
     "output_type": "stream",
     "text": [
      "수입을 입력해주세요 : 123\n",
      "지출을 입력해주세요 : 123\n",
      "현상 유지\n"
     ]
    }
   ],
   "source": [
    "money_input = int(input(\"수입을 입력해주세요 : \"))\n",
    "money_output = int(input(\"지출을 입력해주세요 : \"))\n",
    "if money_input == money_output :\n",
    "    print(\"현상 유지\")\n",
    "elif money_input > money_output :\n",
    "    print(\"수입 증가\")\n",
    "else : \n",
    "    print(\"부채 증가\")"
   ]
  },
  {
   "cell_type": "code",
   "execution_count": null,
   "id": "b44d76d0",
   "metadata": {},
   "outputs": [],
   "source": [
    "#### 과제6_1030: 1~10 범위의 정수에서 1부터 5까지만 출력하세요."
   ]
  },
  {
   "cell_type": "code",
   "execution_count": 149,
   "id": "23e2f308",
   "metadata": {},
   "outputs": [
    {
     "name": "stdout",
     "output_type": "stream",
     "text": [
      "1\n",
      "2\n",
      "3\n",
      "4\n",
      "5\n"
     ]
    }
   ],
   "source": [
    "# while 문\n",
    "number=1\n",
    "while True :\n",
    "    if number <= 10 :\n",
    "        print(number)\n",
    "        number += 1\n",
    "    if number > 5 :\n",
    "        break"
   ]
  },
  {
   "cell_type": "code",
   "execution_count": 155,
   "id": "2b08a255",
   "metadata": {},
   "outputs": [
    {
     "name": "stdout",
     "output_type": "stream",
     "text": [
      "1\n",
      "2\n",
      "3\n",
      "4\n",
      "5\n"
     ]
    }
   ],
   "source": [
    "# for 문\n",
    "for index in range(1,11) :\n",
    "    if index <= 5 :\n",
    "        print(index)"
   ]
  },
  {
   "cell_type": "code",
   "execution_count": 159,
   "id": "93130069",
   "metadata": {
    "scrolled": true
   },
   "outputs": [
    {
     "name": "stdout",
     "output_type": "stream",
     "text": [
      "1 2 3 4 5 "
     ]
    }
   ],
   "source": [
    "for i in range(1,11) :\n",
    "    if i > 5 :\n",
    "        break\n",
    "    print(i, end=' ')"
   ]
  },
  {
   "cell_type": "code",
   "execution_count": 158,
   "id": "5a554cab",
   "metadata": {},
   "outputs": [
    {
     "name": "stdout",
     "output_type": "stream",
     "text": [
      "6\n"
     ]
    }
   ],
   "source": [
    "for i in range(1,11) :\n",
    "    if i > 5 :\n",
    "        break\n",
    "print(i) # 들여쓰기 빼면 6출력"
   ]
  },
  {
   "cell_type": "code",
   "execution_count": null,
   "id": "72b93991",
   "metadata": {},
   "outputs": [],
   "source": [
    "#### 과제7_1030: numbers 리스트에서 15,20,25 를 출력하세요. (for문과 if 조건 사용 필수)\n",
    "numbers= [5,15,6,20,7,25]"
   ]
  },
  {
   "cell_type": "code",
   "execution_count": 168,
   "id": "2f4f7fd7",
   "metadata": {},
   "outputs": [
    {
     "name": "stdout",
     "output_type": "stream",
     "text": [
      "[5, 15, 6, 20, 7, 25]\n",
      "[5, 15, 6, 20, 7, 25]\n",
      "[5, 15, 6, 20, 7, 25]\n",
      "[5, 15, 6, 20, 7, 25]\n",
      "[5, 15, 6, 20, 7, 25]\n",
      "[5, 15, 6, 20, 7, 25]\n"
     ]
    }
   ],
   "source": [
    "numbers= [5,15,6,20,7,25]\n",
    "for i in numbers :\n",
    "    print(list(numbers))"
   ]
  },
  {
   "cell_type": "code",
   "execution_count": 175,
   "id": "d104e7d6",
   "metadata": {},
   "outputs": [
    {
     "name": "stdout",
     "output_type": "stream",
     "text": [
      "15\n",
      "20\n",
      "25\n"
     ]
    }
   ],
   "source": [
    "numbers= [5,15,6,20,7,25]\n",
    "for i in numbers :\n",
    "     if i > 10 :\n",
    "        print(i)"
   ]
  },
  {
   "cell_type": "code",
   "execution_count": 176,
   "id": "8c5cb09b",
   "metadata": {
    "scrolled": true
   },
   "outputs": [
    {
     "name": "stdout",
     "output_type": "stream",
     "text": [
      "15\n",
      "20\n",
      "25\n"
     ]
    }
   ],
   "source": [
    "numbers= [5,15,6,20,7,25]\n",
    "for i in numbers :\n",
    "    if i % 5 == 0 and i > 5 :\n",
    "        print(i)"
   ]
  },
  {
   "cell_type": "code",
   "execution_count": null,
   "id": "39d0d70a",
   "metadata": {},
   "outputs": [],
   "source": [
    "#### 과제8_1030 : 1부터 100까지의 정수 중 5 에서 95 까지의 합을 구하세요."
   ]
  },
  {
   "cell_type": "code",
   "execution_count": 178,
   "id": "7b64ad74",
   "metadata": {},
   "outputs": [
    {
     "name": "stdout",
     "output_type": "stream",
     "text": [
      "4550\n"
     ]
    }
   ],
   "source": [
    "num = 1\n",
    "sum = 0\n",
    "for i in range(1, 101) :\n",
    "    if num >= 5 and num <= 95 :\n",
    "        sum += num\n",
    "    num += 1\n",
    "print(sum)"
   ]
  },
  {
   "cell_type": "code",
   "execution_count": 224,
   "id": "9d967809",
   "metadata": {},
   "outputs": [
    {
     "name": "stdout",
     "output_type": "stream",
     "text": [
      "4550\n"
     ]
    }
   ],
   "source": [
    "n = 1\n",
    "sum = 0\n",
    "while 1 :\n",
    "    if n >= 5 and n <= 95 :\n",
    "        sum += n\n",
    "    n += 1\n",
    "    if n > 100 :\n",
    "        break\n",
    "print(sum)"
   ]
  },
  {
   "cell_type": "code",
   "execution_count": 216,
   "id": "4b6d4b56",
   "metadata": {},
   "outputs": [
    {
     "name": "stdout",
     "output_type": "stream",
     "text": [
      "1\n",
      "2\n",
      "3\n",
      "4\n",
      "5\n",
      "6\n",
      "7\n",
      "8\n",
      "9\n"
     ]
    }
   ],
   "source": [
    "for i in range(1,10) :\n",
    "    print(i)\n",
    "    "
   ]
  },
  {
   "cell_type": "code",
   "execution_count": null,
   "id": "abf84a5a",
   "metadata": {},
   "outputs": [],
   "source": [
    "##### 과제8-1_1031 : 1부터 100까지의 정수중 5부터 95까지의 합을 구하세요.\n",
    "(x < 5 or x > 95) 을 사용"
   ]
  },
  {
   "cell_type": "code",
   "execution_count": 225,
   "id": "b62c9dd1",
   "metadata": {},
   "outputs": [
    {
     "name": "stdout",
     "output_type": "stream",
     "text": [
      "4550\n"
     ]
    }
   ],
   "source": [
    "x= 1\n",
    "sum = 0\n",
    "for i in range(1, 101):\n",
    "    if x < 5 or x > 95 :\n",
    "        x += 1\n",
    "        continue\n",
    "    sum += x\n",
    "    x += 1\n",
    "print(sum)"
   ]
  },
  {
   "cell_type": "code",
   "execution_count": 239,
   "id": "94233129",
   "metadata": {},
   "outputs": [
    {
     "name": "stdout",
     "output_type": "stream",
     "text": [
      "4550\n"
     ]
    }
   ],
   "source": [
    "x = 1\n",
    "sum = 0\n",
    "while 1 :\n",
    "    if x > 100 :\n",
    "        break\n",
    "    if x < 5 or x >95 :\n",
    "        x += 1\n",
    "        continue\n",
    "    sum += x\n",
    "    x += 1\n",
    "print(sum)"
   ]
  },
  {
   "cell_type": "code",
   "execution_count": 240,
   "id": "0f9005e6",
   "metadata": {},
   "outputs": [
    {
     "name": "stdout",
     "output_type": "stream",
     "text": [
      "4545\n"
     ]
    }
   ],
   "source": [
    "x = 1\n",
    "sum = 0\n",
    "while 1 :\n",
    "    x += 1\n",
    "    if x > 100 :\n",
    "        break\n",
    "    if x < 5 or x >95 :\n",
    "        x += 1\n",
    "        continue\n",
    "    sum += x\n",
    "    \n",
    "print(sum)"
   ]
  },
  {
   "cell_type": "code",
   "execution_count": 246,
   "id": "4dc3b118",
   "metadata": {
    "scrolled": true
   },
   "outputs": [
    {
     "name": "stdout",
     "output_type": "stream",
     "text": [
      "5 6 7 8 9 10 11 12 13 14 15 16 17 18 19 20 21 22 23 24 25 26 27 28 29 30 31 32 33 34 35 36 37 38 39 40 41 42 43 44 45 46 47 48 49 50 51 52 53 54 55 56 57 58 59 60 61 62 63 64 65 66 67 68 69 70 71 72 73 74 75 76 77 78 79 80 81 82 83 84 85 86 87 88 89 90 91 92 93 94 95 4550\n"
     ]
    }
   ],
   "source": [
    "sum1 = 0\n",
    "for i in range(5, 96) :\n",
    "    sum1 += i\n",
    "    print(i,end=' ')\n",
    "print(sum1)\n"
   ]
  },
  {
   "cell_type": "code",
   "execution_count": null,
   "id": "ebd438b8",
   "metadata": {},
   "outputs": [],
   "source": []
  },
  {
   "cell_type": "code",
   "execution_count": null,
   "id": "d682aa00",
   "metadata": {},
   "outputs": [],
   "source": [
    "#### 과제9_1030 : while문을 사용해 1부터 1000까지의 정수 중 3과 5의 공배수의 합을 구해 보세요"
   ]
  },
  {
   "cell_type": "code",
   "execution_count": 247,
   "id": "2be77357",
   "metadata": {},
   "outputs": [
    {
     "name": "stdout",
     "output_type": "stream",
     "text": [
      "33165\n"
     ]
    }
   ],
   "source": [
    "n = 1 \n",
    "sum = 0\n",
    "while 1 :\n",
    "    n+=1\n",
    "    if n > 1000 :\n",
    "        break\n",
    "    if n % 3 == 0 and n % 5 == 0 :\n",
    "        sum += n\n",
    "#     n+=1\n",
    "print(sum)"
   ]
  },
  {
   "cell_type": "markdown",
   "id": "896cb2d5",
   "metadata": {},
   "source": [
    "n = 1 \n",
    "sum = 0\n",
    "while 1 :\n",
    "    if n > 1000 :\n",
    "        break\n",
    "    if n % 3 == 0 and n % 5 == 0 :\n",
    "        sum += n #이곳1\n",
    "    n += 1  #이곳2\n",
    "print(sum)\n",
    "\n",
    "위 프로그램은 내가 만든 파이썬으로한 간단한 hile문을 사용해 1부터 1000까지의 정수 중 3과 5의 공배수의 합을 구해 보세요 프로그램이야\n",
    "근데 하다가 의문점이 생겨서.\n",
    "이곳1 줄의 소스코드와 이곳2줄의 소스코드가 서로 들여쓰기가 다른데\n",
    "왜 다른지 알려줄수있을까?\n",
    "\n",
    "ChatGPT\n",
    "네, 질문에 대한 답변 드리겠습니다.\n",
    "\n",
    "위 프로그램에서 이곳1과 이곳2의 들여쓰기가 다른 이유는 그 두 줄이 각기 다른 조건 및 구문에 속하기 때문입니다.\n",
    "\n",
    "이곳1: sum += n\n",
    "\n",
    "이 줄은 if n % 3 == 0 and n % 5 == 0: 조건문에 속하므로, 이 조건이 참일 때만 실행됩니다. 즉, n이 3과 5의 공배수일 때만 이 줄이 실행되어 sum에 n이 더해집니다.\n",
    "이곳2: n += 1\n",
    "\n",
    "이 줄은 while 루프의 메인 본문에 속합니다. 따라서 while 루프의 반복마다 매번 실행되며, n의 값을 1씩 증가시킵니다.\n",
    "들여쓰기는 파이썬에서 매우 중요한 요소로, 코드의 블록 구조와 실행 흐름을 결정합니다. 이곳1의 코드는 if 조건문에 속하므로 그만큼 들여써져 있고, 이곳2의 코드는 while 루프에 바로 속하므로 if 조건문보다는 한 단계 덜 들여써져 있습니다."
   ]
  },
  {
   "cell_type": "code",
   "execution_count": 255,
   "id": "43ed325d",
   "metadata": {},
   "outputs": [
    {
     "name": "stdout",
     "output_type": "stream",
     "text": [
      "21\n"
     ]
    }
   ],
   "source": [
    "#### 과제10_1030 : 현재 시각을 오전과 오후로 구분하는 프로그램을 작성하세요. \n",
    "# 현재 시간 구하는 방법\n",
    "import datetime\n",
    "now=datetime.datetime.now()\n",
    "print(now.hour)"
   ]
  },
  {
   "cell_type": "code",
   "execution_count": 257,
   "id": "d23d3339",
   "metadata": {},
   "outputs": [
    {
     "name": "stdout",
     "output_type": "stream",
     "text": [
      "21\n",
      "오후\n"
     ]
    }
   ],
   "source": [
    "import datetime\n",
    "now=datetime.datetime.now()\n",
    "print(now.hour)\n",
    "\n",
    "\n",
    "if now.hour < 12 :\n",
    "    print(\"오전\")\n",
    "if now.hour >= 12 :\n",
    "    print(\"오후\")"
   ]
  },
  {
   "cell_type": "code",
   "execution_count": 263,
   "id": "802d316b",
   "metadata": {},
   "outputs": [
    {
     "ename": "AttributeError",
     "evalue": "'builtin_function_or_method' object has no attribute 'hour'",
     "output_type": "error",
     "traceback": [
      "\u001b[1;31m---------------------------------------------------------------------------\u001b[0m",
      "\u001b[1;31mAttributeError\u001b[0m                            Traceback (most recent call last)",
      "Cell \u001b[1;32mIn[263], line 3\u001b[0m\n\u001b[0;32m      1\u001b[0m \u001b[38;5;28;01mfrom\u001b[39;00m \u001b[38;5;21;01mdatetime\u001b[39;00m \u001b[38;5;28;01mimport\u001b[39;00m datetime\n\u001b[0;32m      2\u001b[0m now\u001b[38;5;241m=\u001b[39mdatetime\u001b[38;5;241m.\u001b[39mnow\n\u001b[1;32m----> 3\u001b[0m \u001b[38;5;28mprint\u001b[39m(\u001b[43mnow\u001b[49m\u001b[38;5;241;43m.\u001b[39;49m\u001b[43mhour\u001b[49m)\n",
      "\u001b[1;31mAttributeError\u001b[0m: 'builtin_function_or_method' object has no attribute 'hour'"
     ]
    }
   ],
   "source": [
    "from datetime import datetime\n",
    "now=datetime.now\n",
    "print(now.hour)"
   ]
  },
  {
   "cell_type": "code",
   "execution_count": null,
   "id": "ff577a53",
   "metadata": {},
   "outputs": [],
   "source": [
    "#### 과제11_1030 : 태어난 연도를 입력받아 띠를 출력하는 프로그램을 작성하세요.\n",
    "원숭이, 닭, 개, 돼지, 쥐, 소, 범, 토끼, 용, 뱀, 말, 양띠"
   ]
  },
  {
   "cell_type": "code",
   "execution_count": 266,
   "id": "57b2cd1c",
   "metadata": {},
   "outputs": [
    {
     "name": "stdout",
     "output_type": "stream",
     "text": [
      "연도 입력 : 1\n",
      "닭\n"
     ]
    }
   ],
   "source": [
    "year = int(input(\"연도 입력 : \"))\n",
    "byear= year % 12\n",
    "if byear == 0 :\n",
    "    print(\"원숭이\")\n",
    "elif byear == 1:\n",
    "    print(\"닭\")"
   ]
  },
  {
   "cell_type": "code",
   "execution_count": 7,
   "id": "544d79dc",
   "metadata": {},
   "outputs": [
    {
     "name": "stdout",
     "output_type": "stream",
     "text": [
      "태어난 해를 입력하세요 : 2001\n",
      "뱀 띠입니다.\n"
     ]
    }
   ],
   "source": [
    "a = ['원숭이', '닭', '개', '돼지', '쥐', '소', '범', '토끼', '용', '뱀', '말', '양띠']\n",
    "s = int(input(\"태어난 해를 입력하세요 : \"))\n",
    "year= s % 12\n",
    "print(f'{a[year]} 띠입니다.')"
   ]
  },
  {
   "cell_type": "code",
   "execution_count": 8,
   "id": "41bdc8c2",
   "metadata": {},
   "outputs": [
    {
     "name": "stdout",
     "output_type": "stream",
     "text": [
      "태어난 해 : 2001\n",
      "뱀띠입니다.\n"
     ]
    }
   ],
   "source": [
    "애니멀 = ['원숭이', '닭', '개', '돼지', '쥐', '소', '범', '토끼', '용', '뱀', '말', '양']\n",
    "해 = int(input(\"태어난 해 : \"))\n",
    "년 = 해 % 12\n",
    "print(f'{애니멀[년]}띠입니다.')"
   ]
  },
  {
   "cell_type": "code",
   "execution_count": null,
   "id": "d75944c3",
   "metadata": {},
   "outputs": [],
   "source": [
    "# 과제12_1030 : 커피 자판기 프로그램\n",
    "- 시나리오 : 자판기 커피 재고 5잔, 커피 1잔 가격 300원, 재고 범위내에서 300원 이상 돈을 넣으면\n",
    "    거스름돈과 커피를 주고 그렇지 않으면 반환하며 재고가 소진되면 안내멘트 출력\n",
    "- 각 Case별 멘트 출력은 상황에 맞게 창작\n",
    "- while, if ~ elif ~ else 제어문을 사용하여 작성"
   ]
  },
  {
   "cell_type": "code",
   "execution_count": 16,
   "id": "97a6d7ac",
   "metadata": {
    "scrolled": true
   },
   "outputs": [
    {
     "name": "stdout",
     "output_type": "stream",
     "text": [
      "동전이나 지폐를 넣어주세요. : 1000\n",
      "300원으로 커피 1잔 나왔습니다. 맛있게 드세요.\n",
      "거스름돈이 나옵니다. 거스름돈 700원을 받아가세요.\n",
      "동전이나 지폐를 넣어주세요. : 300\n",
      "300원으로 커피 1잔 나왔습니다. 맛있게 드세요.\n",
      "동전이나 지폐를 넣어주세요. : 2000\n",
      "300원으로 커피 1잔 나왔습니다. 맛있게 드세요.\n",
      "거스름돈이 나옵니다. 거스름돈 1700원을 받아가세요.\n",
      "동전이나 지폐를 넣어주세요. : 10\n",
      "돈이 부족하여 커피가 나오지 않았습니다.\n",
      "돈 10원을 받아가세요.\n",
      "동전이나 지폐를 넣어주세요. : 3000\n",
      "300원으로 커피 1잔 나왔습니다. 맛있게 드세요.\n",
      "거스름돈이 나옵니다. 거스름돈 2700원을 받아가세요.\n",
      "동전이나 지폐를 넣어주세요. : 10000\n",
      "300원으로 커피 1잔 나왔습니다. 맛있게 드세요.\n",
      "거스름돈이 나옵니다. 거스름돈 9700원을 받아가세요.\n",
      "모든 커피가 소진하여 마감합니다. 감사합니다.\n"
     ]
    }
   ],
   "source": [
    "coffee = 5 #재고\n",
    "while 1 :\n",
    "    coin = int(input(\"동전이나 지폐를 넣어주세요. : \"))\n",
    "    if coin == 300 :\n",
    "        print(\"300원으로 커피 1잔 나왔습니다. 맛있게 드세요.\")\n",
    "        coffee = coffee - 1\n",
    "    elif coin > 300 :\n",
    "        print(\"300원으로 커피 1잔 나왔습니다. 맛있게 드세요.\")\n",
    "        print(f\"거스름돈이 나옵니다. 거스름돈 {coin-300}원을 받아가세요.\")\n",
    "        coffee = coffee - 1\n",
    "    else : \n",
    "        print(\"돈이 부족하여 커피가 나오지 않았습니다.\")\n",
    "        print(f\"돈 {coin}원을 받아가세요.\")\n",
    "    if coffee == 0 :\n",
    "        print(\"모든 커피가 소진하여 마감합니다. 감사합니다.\")\n",
    "        break"
   ]
  },
  {
   "cell_type": "code",
   "execution_count": null,
   "id": "45dc3532",
   "metadata": {},
   "outputs": [],
   "source": [
    "# Q.1_1031 짝수와 짝수를 입력하면 곱한 값을 출력하고 홀수와 홀수를 입력하면 덧셈 값을 출력하고 그외는\n",
    "# 다시 입력하라는 메시지를 출력하세요."
   ]
  },
  {
   "cell_type": "code",
   "execution_count": null,
   "id": "ff95bb4c",
   "metadata": {},
   "outputs": [],
   "source": []
  },
  {
   "cell_type": "code",
   "execution_count": 34,
   "id": "3f223bf6",
   "metadata": {},
   "outputs": [
    {
     "name": "stdout",
     "output_type": "stream",
     "text": [
      "자연수_1 입력 : 0\n",
      "자연수_2 입력 : 0\n",
      "0\n"
     ]
    }
   ],
   "source": [
    "while 1 :\n",
    "    x = int(input(\"자연수_1 입력 : \"))\n",
    "    y= int(input(\"자연수_2 입력 : \"))\n",
    "    if x % 2 == 0 and y % 2 == 0 :\n",
    "        print(x * y)\n",
    "    elif x % 2 == 1 and y % 2 == 1 :\n",
    "        print(x + y)\n",
    "    else :\n",
    "        print(\"다시 입력해주세요\")\n",
    "    if x == 0 and y == 0 :\n",
    "        break"
   ]
  },
  {
   "cell_type": "code",
   "execution_count": 36,
   "id": "39b51529",
   "metadata": {},
   "outputs": [
    {
     "name": "stdout",
     "output_type": "stream",
     "text": [
      "정수를 입력0\n",
      "정수를 입력0\n",
      "0\n"
     ]
    }
   ],
   "source": [
    "# Q.1_1031 윤성민님 솔루션\n",
    "while True:\n",
    "    num1 = int(input(\"정수를 입력\"))\n",
    "    num2 = int(input(\"정수를 입력\"))\n",
    "    if num1 % 2 == 0 and num2 % 2 == 0:\n",
    "        print(num1*num2)\n",
    "    elif num1 % 2 == 1 and num2 % 2 == 1:\n",
    "        print(num1+num2)\n",
    "    else:\n",
    "        print(\"다시 입력하세요\")\n",
    "    if num1 == 0 and num2 == 0:\n",
    "        break"
   ]
  },
  {
   "cell_type": "code",
   "execution_count": 16,
   "id": "3a0125ae",
   "metadata": {
    "scrolled": true
   },
   "outputs": [
    {
     "name": "stdout",
     "output_type": "stream",
     "text": [
      "동전이나 지폐를 넣어주세요. : 1000\n",
      "300원으로 커피 1잔 나왔습니다. 맛있게 드세요.\n",
      "거스름돈이 나옵니다. 거스름돈 700원을 받아가세요.\n",
      "동전이나 지폐를 넣어주세요. : 300\n",
      "300원으로 커피 1잔 나왔습니다. 맛있게 드세요.\n",
      "동전이나 지폐를 넣어주세요. : 2000\n",
      "300원으로 커피 1잔 나왔습니다. 맛있게 드세요.\n",
      "거스름돈이 나옵니다. 거스름돈 1700원을 받아가세요.\n",
      "동전이나 지폐를 넣어주세요. : 10\n",
      "돈이 부족하여 커피가 나오지 않았습니다.\n",
      "돈 10원을 받아가세요.\n",
      "동전이나 지폐를 넣어주세요. : 3000\n",
      "300원으로 커피 1잔 나왔습니다. 맛있게 드세요.\n",
      "거스름돈이 나옵니다. 거스름돈 2700원을 받아가세요.\n",
      "동전이나 지폐를 넣어주세요. : 10000\n",
      "300원으로 커피 1잔 나왔습니다. 맛있게 드세요.\n",
      "거스름돈이 나옵니다. 거스름돈 9700원을 받아가세요.\n",
      "모든 커피가 소진하여 마감합니다. 감사합니다.\n"
     ]
    }
   ],
   "source": [
    "coffee = 5 #재고\n",
    "while 1 :\n",
    "    coin = int(input(\"동전이나 지폐를 넣어주세요. : \"))\n",
    "    if coin == 300 :\n",
    "        print(\"300원으로 커피 1잔 나왔습니다. 맛있게 드세요.\")\n",
    "        coffee = coffee - 1\n",
    "    elif coin > 300 :\n",
    "        print(\"300원으로 커피 1잔 나왔습니다. 맛있게 드세요.\")\n",
    "        print(f\"거스름돈이 나옵니다. 거스름돈 {coin-300}원을 받아가세요.\")\n",
    "        coffee = coffee - 1\n",
    "    else : \n",
    "        print(\"돈이 부족하여 커피가 나오지 않았습니다.\")\n",
    "        print(f\"돈 {coin}원을 받아가세요.\")\n",
    "    if coffee == 0 :\n",
    "        print(\"모든 커피가 소진하여 마감합니다. 감사합니다.\")\n",
    "        break"
   ]
  },
  {
   "cell_type": "code",
   "execution_count": null,
   "id": "3eed4d4d",
   "metadata": {},
   "outputs": [],
   "source": [
    "#  과제1_1031 : 사용자가 입력한 게임 회수만큼 로또 번호를 출력하는 프로그램을 작성하세요.(중복 처리)"
   ]
  },
  {
   "cell_type": "code",
   "execution_count": 45,
   "id": "a62a4bf3",
   "metadata": {
    "scrolled": false
   },
   "outputs": [
    {
     "name": "stdout",
     "output_type": "stream",
     "text": [
      "횟수 입력 : 3\n",
      "[45, 34, 5, 22, 11, 17]\n",
      "[3, 12, 29, 6, 19, 4]\n",
      "[13, 21, 39, 15, 8, 38]\n"
     ]
    }
   ],
   "source": [
    "import random\n",
    "a = int(input(\"횟수 입력 : \"))\n",
    "numbers_list = list(range(1,46))\n",
    "for i in range(a) :\n",
    "    yours = random.sample(numbers_list,6)\n",
    "    print(yours)"
   ]
  },
  {
   "cell_type": "code",
   "execution_count": 61,
   "id": "e7b7d8ac",
   "metadata": {},
   "outputs": [
    {
     "name": "stdout",
     "output_type": "stream",
     "text": [
      "횟수 입력 : 4\n",
      "[3, 20, 5, 33, 32, 2]\n",
      "[12, 37, 9, 15, 41, 20]\n",
      "[40, 4, 37, 1, 15, 28]\n",
      "[40, 4, 19, 37, 43, 6]\n"
     ]
    }
   ],
   "source": [
    "import random\n",
    "a = int(input(\"횟수 입력 : \"))\n",
    "n = list(range(1,46))\n",
    "for i in range(a) :\n",
    "    c = random.sample(n,6)\n",
    "    print(c)"
   ]
  },
  {
   "cell_type": "code",
   "execution_count": 60,
   "id": "503851df",
   "metadata": {
    "scrolled": true
   },
   "outputs": [
    {
     "data": {
      "text/plain": [
       "[2, 3]"
      ]
     },
     "execution_count": 60,
     "metadata": {},
     "output_type": "execute_result"
    }
   ],
   "source": [
    "import random\n",
    "a = 1,2,3,4\n",
    "random.sample(a,i)"
   ]
  },
  {
   "cell_type": "code",
   "execution_count": 74,
   "id": "27ac87e9",
   "metadata": {
    "scrolled": true
   },
   "outputs": [
    {
     "name": "stdout",
     "output_type": "stream",
     "text": [
      "횟수 입력 : 100\n",
      "1번째 로또 [2, 20, 24, 27, 28, 43]\n",
      "2번째 로또 [7, 14, 26, 37, 39, 43]\n",
      "3번째 로또 [9, 12, 19, 29, 35, 45]\n",
      "4번째 로또 [3, 4, 12, 22, 27, 45]\n",
      "5번째 로또 [5, 11, 14, 17, 20, 28]\n",
      "6번째 로또 [3, 10, 11, 16, 17, 32]\n",
      "7번째 로또 [1, 7, 21, 27, 29, 33]\n",
      "8번째 로또 [2, 11, 15, 20, 32, 34]\n",
      "9번째 로또 [1, 19, 23, 35, 36, 39]\n",
      "10번째 로또 [21, 29, 30, 34, 38, 41]\n",
      "11번째 로또 [6, 8, 24, 38, 43, 44]\n",
      "12번째 로또 [1, 3, 7, 8, 19, 36]\n",
      "13번째 로또 [2, 8, 26, 30, 34, 35]\n",
      "14번째 로또 [1, 7, 26, 28, 34, 39]\n",
      "15번째 로또 [4, 5, 10, 23, 29, 36]\n",
      "16번째 로또 [1, 8, 16, 21, 27, 43]\n",
      "17번째 로또 [2, 4, 6, 18, 30, 35]\n",
      "18번째 로또 [2, 5, 21, 29, 44, 45]\n",
      "19번째 로또 [16, 21, 27, 31, 36, 37]\n",
      "20번째 로또 [8, 21, 31, 34, 39, 41]\n",
      "21번째 로또 [4, 8, 17, 21, 26, 40]\n",
      "22번째 로또 [8, 14, 20, 21, 28, 40]\n",
      "23번째 로또 [7, 11, 21, 38, 39, 42]\n",
      "24번째 로또 [5, 8, 16, 21, 34, 42]\n",
      "25번째 로또 [1, 11, 18, 26, 36, 44]\n",
      "26번째 로또 [3, 7, 10, 15, 16, 37]\n",
      "27번째 로또 [4, 9, 20, 21, 26, 34]\n",
      "28번째 로또 [6, 8, 9, 16, 24, 37]\n",
      "29번째 로또 [13, 18, 27, 35, 37, 45]\n",
      "30번째 로또 [8, 9, 29, 34, 39, 43]\n",
      "31번째 로또 [5, 9, 34, 36, 38, 45]\n",
      "32번째 로또 [7, 12, 17, 18, 29, 38]\n",
      "33번째 로또 [10, 13, 23, 24, 30, 31]\n",
      "34번째 로또 [1, 2, 6, 16, 24, 41]\n",
      "35번째 로또 [10, 15, 16, 18, 19, 26]\n",
      "36번째 로또 [14, 19, 21, 36, 43, 45]\n",
      "37번째 로또 [8, 14, 15, 17, 31, 32]\n",
      "38번째 로또 [10, 27, 32, 34, 39, 40]\n",
      "39번째 로또 [2, 9, 28, 35, 36, 39]\n",
      "40번째 로또 [11, 19, 34, 35, 41, 43]\n",
      "41번째 로또 [4, 5, 7, 20, 25, 39]\n",
      "42번째 로또 [1, 20, 25, 31, 41, 44]\n",
      "43번째 로또 [14, 18, 25, 33, 41, 45]\n",
      "44번째 로또 [4, 8, 14, 18, 33, 39]\n",
      "45번째 로또 [3, 5, 15, 19, 30, 38]\n",
      "46번째 로또 [4, 16, 17, 37, 42, 44]\n",
      "47번째 로또 [7, 21, 22, 36, 38, 43]\n",
      "48번째 로또 [4, 17, 18, 19, 40, 45]\n",
      "49번째 로또 [4, 5, 13, 19, 26, 31]\n",
      "50번째 로또 [5, 12, 15, 27, 35, 42]\n",
      "51번째 로또 [9, 19, 21, 28, 34, 45]\n",
      "52번째 로또 [8, 13, 26, 30, 40, 45]\n",
      "53번째 로또 [3, 11, 25, 29, 35, 44]\n",
      "54번째 로또 [1, 9, 13, 16, 23, 33]\n",
      "55번째 로또 [4, 12, 21, 25, 33, 44]\n",
      "56번째 로또 [7, 22, 24, 25, 28, 31]\n",
      "57번째 로또 [4, 16, 19, 29, 30, 32]\n",
      "58번째 로또 [6, 13, 19, 20, 36, 39]\n",
      "59번째 로또 [4, 5, 9, 30, 33, 45]\n",
      "60번째 로또 [7, 10, 12, 26, 27, 44]\n",
      "61번째 로또 [1, 2, 11, 13, 23, 42]\n",
      "62번째 로또 [19, 28, 29, 39, 41, 43]\n",
      "63번째 로또 [5, 9, 18, 33, 38, 42]\n",
      "64번째 로또 [1, 22, 24, 29, 40, 42]\n",
      "65번째 로또 [17, 32, 36, 42, 44, 45]\n",
      "66번째 로또 [21, 24, 28, 31, 33, 38]\n",
      "67번째 로또 [1, 6, 25, 31, 32, 41]\n",
      "68번째 로또 [1, 3, 9, 10, 40, 41]\n",
      "69번째 로또 [4, 14, 21, 27, 43, 44]\n",
      "70번째 로또 [4, 5, 20, 31, 42, 43]\n",
      "71번째 로또 [5, 14, 25, 32, 35, 39]\n",
      "72번째 로또 [10, 22, 24, 29, 33, 40]\n",
      "73번째 로또 [8, 10, 15, 24, 30, 35]\n",
      "74번째 로또 [1, 2, 9, 11, 25, 37]\n",
      "75번째 로또 [2, 8, 18, 26, 37, 41]\n",
      "76번째 로또 [10, 16, 26, 31, 32, 35]\n",
      "77번째 로또 [3, 10, 18, 31, 32, 33]\n",
      "78번째 로또 [4, 24, 31, 33, 43, 44]\n",
      "79번째 로또 [13, 14, 17, 38, 41, 44]\n",
      "80번째 로또 [9, 12, 16, 26, 36, 38]\n",
      "81번째 로또 [4, 13, 28, 29, 33, 43]\n",
      "82번째 로또 [1, 3, 5, 13, 32, 36]\n",
      "83번째 로또 [7, 9, 21, 27, 29, 36]\n",
      "84번째 로또 [9, 14, 31, 36, 38, 43]\n",
      "85번째 로또 [9, 12, 15, 26, 33, 38]\n",
      "86번째 로또 [13, 26, 27, 40, 41, 45]\n",
      "87번째 로또 [16, 19, 21, 25, 30, 31]\n",
      "88번째 로또 [3, 23, 28, 33, 34, 44]\n",
      "89번째 로또 [4, 8, 21, 23, 34, 40]\n",
      "90번째 로또 [3, 22, 23, 25, 26, 44]\n",
      "91번째 로또 [24, 29, 31, 36, 37, 40]\n",
      "92번째 로또 [8, 12, 23, 24, 26, 32]\n",
      "93번째 로또 [8, 18, 21, 28, 29, 41]\n",
      "94번째 로또 [4, 13, 15, 22, 29, 40]\n",
      "95번째 로또 [1, 5, 10, 24, 32, 34]\n",
      "96번째 로또 [2, 4, 18, 23, 26, 39]\n",
      "97번째 로또 [6, 8, 22, 23, 27, 41]\n",
      "98번째 로또 [4, 12, 27, 29, 36, 43]\n",
      "99번째 로또 [2, 4, 10, 14, 21, 28]\n",
      "100번째 로또 [1, 18, 26, 29, 31, 44]\n"
     ]
    }
   ],
   "source": [
    "import random\n",
    "a = int(input(\"횟수 입력 : \"))\n",
    "for i in range(a) :\n",
    "    b = random.sample(range(1,46),6)\n",
    "    b.sort()\n",
    "    print(f'{i+1}번째 로또' ,b)"
   ]
  },
  {
   "cell_type": "code",
   "execution_count": 65,
   "id": "85eb62b2",
   "metadata": {},
   "outputs": [
    {
     "name": "stdout",
     "output_type": "stream",
     "text": [
      "cherry\n",
      "['apple', 'banna', 'data']\n",
      "data\n",
      "['apple', 'banna']\n"
     ]
    }
   ],
   "source": [
    "# pop 함수\n",
    "fruits = [\"apple\", \"banna\", \"cherry\", \"data\"]\n",
    "\n",
    "# 인덱스 2의 요소 (cherry)를 제거하고 반환\n",
    "removed_fruit = fruits.pop(2)\n",
    "print(removed_fruit)\n",
    "print(fruits)\n",
    "\n",
    "# 리스트의 마지막 요소 (data)를 제거하고 반환\n",
    "last_fruit = fruits.pop()\n",
    "print(last_fruit)\n",
    "print(fruits)"
   ]
  },
  {
   "cell_type": "code",
   "execution_count": 66,
   "id": "62601093",
   "metadata": {},
   "outputs": [
    {
     "name": "stdout",
     "output_type": "stream",
     "text": [
      "abc\n",
      "['bca', 'cab']\n"
     ]
    }
   ],
   "source": [
    "p = ['abc', 'bca', 'cab']\n",
    "rp = p.pop(0)\n",
    "print(rp)\n",
    "print(p)"
   ]
  },
  {
   "cell_type": "code",
   "execution_count": 68,
   "id": "d0d50052",
   "metadata": {},
   "outputs": [
    {
     "name": "stdout",
     "output_type": "stream",
     "text": [
      "cab\n",
      "['abc', 'bca']\n"
     ]
    }
   ],
   "source": [
    "p = ['abc', 'bca', 'cab']\n",
    "ap = p.pop()\n",
    "\n",
    "print(ap)\n",
    "print(p)"
   ]
  },
  {
   "cell_type": "code",
   "execution_count": null,
   "id": "c18d8066",
   "metadata": {},
   "outputs": [],
   "source": [
    "# 과제1-1_1031 : sample 을 사용하지않고 중복 처리를 하세요."
   ]
  },
  {
   "cell_type": "code",
   "execution_count": 71,
   "id": "ee70c06c",
   "metadata": {},
   "outputs": [
    {
     "name": "stdout",
     "output_type": "stream",
     "text": [
      "횟수 입력 : 13\n"
     ]
    }
   ],
   "source": [
    "from random import shuffle\n",
    "\n",
    "c = int(input(\"횟수 입력 : \"))\n",
    "for i in range(c) :\n",
    "    lt = for i in range(1,46)\n",
    "    random.shuffle(lt,6)\n",
    "    lt.pop()"
   ]
  },
  {
   "cell_type": "code",
   "execution_count": null,
   "id": "c5df1d22",
   "metadata": {},
   "outputs": [],
   "source": [
    "#### 과제2_1031 현재 계절 구분 프로그램\n",
    "- 시나리오 : 3 ~ 5월은 봄, 6 ~ 8월은 여름, 9 ~ 11월은 가을, 12 ~ 2월은 겨울로 구분. 지금 계절을 알려주는 프로그램 \n",
    "- 각 계절별 출력 멘트는 계절에 맞게 창작\n",
    "- if 조건문으로 datetime 모듈을 import해서 datetime.now 함수를 사용해서 작성"
   ]
  },
  {
   "cell_type": "code",
   "execution_count": 94,
   "id": "5eac2a17",
   "metadata": {},
   "outputs": [
    {
     "name": "stdout",
     "output_type": "stream",
     "text": [
      "2023-11-01 01:05:52.660154\n",
      "11\n"
     ]
    }
   ],
   "source": [
    "from datetime import datetime\n",
    "today = datetime.now()\n",
    "print(today)\n",
    "month = today.month\n",
    "print(month)"
   ]
  },
  {
   "cell_type": "code",
   "execution_count": 98,
   "id": "b567e8a8",
   "metadata": {},
   "outputs": [
    {
     "name": "stdout",
     "output_type": "stream",
     "text": [
      "11\n"
     ]
    }
   ],
   "source": [
    "from datetime import datetime\n",
    "a = datetime.now().month\n",
    "print(a)"
   ]
  },
  {
   "cell_type": "code",
   "execution_count": 102,
   "id": "90eb1f46",
   "metadata": {},
   "outputs": [
    {
     "name": "stdout",
     "output_type": "stream",
     "text": [
      "가을\n"
     ]
    }
   ],
   "source": [
    "from datetime import datetime\n",
    "spring = [3,4,5]\n",
    "summer = [6,7,8]\n",
    "autumn = [9,10,11]\n",
    "winter = [12,1,2]\n",
    "\n",
    "month = datetime.now().month\n",
    "if month in spring : \n",
    "    print(\"봄입니다.\")\n",
    "if month in autumn :\n",
    "    print(\"가을\")"
   ]
  },
  {
   "cell_type": "code",
   "execution_count": null,
   "id": "a30f89eb",
   "metadata": {},
   "outputs": [],
   "source": [
    "#### 과제3_1031 : 1부터 99까지 아래와 같이 2개의 수를 곱해서 가장 큰 수를 구하세요.\n",
    "1*99, 2*98 ...99*1"
   ]
  },
  {
   "cell_type": "code",
   "execution_count": 117,
   "id": "682ca2c9",
   "metadata": {},
   "outputs": [
    {
     "name": "stdout",
     "output_type": "stream",
     "text": [
      "2500\n"
     ]
    }
   ],
   "source": [
    "n = 1\n",
    "m = 0\n",
    "while 1 :\n",
    "    n += 1\n",
    "    if n >= 100 :\n",
    "        break\n",
    "    if m >= n*(100-n) :\n",
    "        continue\n",
    "    else : \n",
    "        m = n*(100-n)   \n",
    "print(m)"
   ]
  },
  {
   "cell_type": "code",
   "execution_count": 118,
   "id": "a0aef439",
   "metadata": {},
   "outputs": [
    {
     "name": "stdout",
     "output_type": "stream",
     "text": [
      "2500\n"
     ]
    }
   ],
   "source": [
    "m = 0\n",
    "for i in range(1, 100):\n",
    "    if m >= i*(100-i) :\n",
    "        continue\n",
    "    m = i*(100-i)\n",
    "print(m)"
   ]
  },
  {
   "cell_type": "code",
   "execution_count": null,
   "id": "862d6dab",
   "metadata": {},
   "outputs": [],
   "source": [
    "#### 과제4_1031 [    ]을 채워서 아래의 출력과 같이 출력하세요.\n",
    "-출력 :\n",
    "-numbers = [1,2,3,4,5,6,7,8,9]\n",
    "-output = [[], [], []]\n",
    "\n",
    "- [[1,4,7],[2,5,8],[3,6,9]]"
   ]
  },
  {
   "cell_type": "code",
   "execution_count": 165,
   "id": "1cd81293",
   "metadata": {},
   "outputs": [
    {
     "name": "stdout",
     "output_type": "stream",
     "text": [
      "[1, 2, 3]\n",
      "[1, 2, 3]\n",
      "[1, 2, 3]\n"
     ]
    }
   ],
   "source": [
    "numbers = [1,2,3,4,5,6,7,8,9]\n",
    "for i in range(3) :\n",
    "    output = list(map(int,numbers[:3]))\n",
    "    print(output)"
   ]
  },
  {
   "cell_type": "code",
   "execution_count": 150,
   "id": "eea6a9a0",
   "metadata": {
    "scrolled": true
   },
   "outputs": [
    {
     "data": {
      "text/plain": [
       "['1.2', '2.5', '3.7', '4.6']"
      ]
     },
     "execution_count": 150,
     "metadata": {},
     "output_type": "execute_result"
    }
   ],
   "source": [
    "a = [1.2, 2.5, 3.7, 4.6]\n",
    "a = list(map(str, a))\n",
    "a"
   ]
  },
  {
   "cell_type": "code",
   "execution_count": null,
   "id": "972686fa",
   "metadata": {},
   "outputs": [],
   "source": [
    "#### 과제5_1031 컴퓨터가 랜덤하게 생성하는 숫자 맞추기 게임 프로그램을 작성하세요"
   ]
  },
  {
   "cell_type": "code",
   "execution_count": 177,
   "id": "f3f5fd60",
   "metadata": {
    "scrolled": true
   },
   "outputs": [
    {
     "name": "stdout",
     "output_type": "stream",
     "text": [
      "1부터 20까지의 숫자중 하나를 입력해주세요. : 10\n",
      "정답은 해당 수 보다 더 작은 수 입니다..\n",
      "1부터 20까지의 숫자중 하나를 입력해주세요. : 5\n",
      "정답입니다\n"
     ]
    }
   ],
   "source": [
    "# 과제5_1031 솔루션\n",
    "\n",
    "import random\n",
    "number = random.randint(1,20)\n",
    "\n",
    "while True :\n",
    "    ans = int(input(\"1부터 20까지의 숫자중 하나를 입력해주세요. : \"))\n",
    "    if ans == number :\n",
    "        print(\"정답입니다\")\n",
    "        break\n",
    "    elif ans > number :\n",
    "        print(\"정답은 해당 수 보다 더 작은 수 입니다..\")\n",
    "    else :\n",
    "        print(\"정답은 해당 수 보다 더 큰 수 입니다.\")"
   ]
  },
  {
   "cell_type": "code",
   "execution_count": null,
   "id": "6d9b8417",
   "metadata": {},
   "outputs": [],
   "source": [
    "#### 과제6_1031 Player가 3승할 때까지 계속 진행되는 가위바위보 게임 프로그램을 작성하세요.\n",
    "- 게임을 Player와 컴퓨터가 진행"
   ]
  },
  {
   "cell_type": "code",
   "execution_count": 187,
   "id": "87a1a369",
   "metadata": {
    "scrolled": true
   },
   "outputs": [
    {
     "name": "stdout",
     "output_type": "stream",
     "text": [
      "가위, 바위, 보 중에서 하나를 입력하세요. : 보\n",
      "승리\n",
      "1\n",
      "가위, 바위, 보 중에서 하나를 입력하세요. : 보\n",
      "무승부\n",
      "1\n",
      "가위, 바위, 보 중에서 하나를 입력하세요. : 보\n",
      "무승부\n",
      "1\n",
      "가위, 바위, 보 중에서 하나를 입력하세요. : 보\n",
      "승리\n",
      "2\n",
      "가위, 바위, 보 중에서 하나를 입력하세요. : 보\n",
      "무승부\n",
      "2\n",
      "가위, 바위, 보 중에서 하나를 입력하세요. : 보\n",
      "승리\n",
      "3\n",
      "3승을 하여 게임이 종료되었습니다...\n"
     ]
    }
   ],
   "source": [
    "# 과제6_1031 솔루션\n",
    "import random\n",
    "point = 0\n",
    "while True :\n",
    "    if point == 3 :\n",
    "        print(\"3승을 하여 게임이 종료되었습니다...\")\n",
    "        break\n",
    "    computer = random.choice(['가위','바위','보'])\n",
    "    me = str(input(\"가위, 바위, 보 중에서 하나를 입력하세요. : \"))\n",
    "    if me == computer :\n",
    "        print(\"무승부\")\n",
    "        print(point)\n",
    "    elif (me == '가위' and computer == '보') or (me == '보' and computer == '바위') or (me == '바위' and computer == '가위') :\n",
    "        print(\"승리\")\n",
    "        point += 1\n",
    "        print(point)\n",
    "    else : \n",
    "        print(\"패배\")\n",
    "        print(point)"
   ]
  },
  {
   "cell_type": "code",
   "execution_count": 17,
   "id": "cc5868d0",
   "metadata": {},
   "outputs": [
    {
     "data": {
      "text/html": [
       "<div>\n",
       "<style scoped>\n",
       "    .dataframe tbody tr th:only-of-type {\n",
       "        vertical-align: middle;\n",
       "    }\n",
       "\n",
       "    .dataframe tbody tr th {\n",
       "        vertical-align: top;\n",
       "    }\n",
       "\n",
       "    .dataframe thead th {\n",
       "        text-align: right;\n",
       "    }\n",
       "</style>\n",
       "<table border=\"1\" class=\"dataframe\">\n",
       "  <thead>\n",
       "    <tr style=\"text-align: right;\">\n",
       "      <th></th>\n",
       "      <th>survived</th>\n",
       "      <th>pclass</th>\n",
       "      <th>sex</th>\n",
       "      <th>age</th>\n",
       "      <th>sibsp</th>\n",
       "      <th>parch</th>\n",
       "      <th>fare</th>\n",
       "      <th>embarked</th>\n",
       "      <th>class</th>\n",
       "      <th>who</th>\n",
       "      <th>adult_male</th>\n",
       "      <th>deck</th>\n",
       "      <th>embark_town</th>\n",
       "      <th>alive</th>\n",
       "      <th>alone</th>\n",
       "    </tr>\n",
       "  </thead>\n",
       "  <tbody>\n",
       "    <tr>\n",
       "      <th>0</th>\n",
       "      <td>0</td>\n",
       "      <td>3</td>\n",
       "      <td>male</td>\n",
       "      <td>22.0</td>\n",
       "      <td>1</td>\n",
       "      <td>0</td>\n",
       "      <td>7.2500</td>\n",
       "      <td>S</td>\n",
       "      <td>Third</td>\n",
       "      <td>man</td>\n",
       "      <td>True</td>\n",
       "      <td>NaN</td>\n",
       "      <td>Southampton</td>\n",
       "      <td>no</td>\n",
       "      <td>False</td>\n",
       "    </tr>\n",
       "    <tr>\n",
       "      <th>1</th>\n",
       "      <td>1</td>\n",
       "      <td>1</td>\n",
       "      <td>female</td>\n",
       "      <td>38.0</td>\n",
       "      <td>1</td>\n",
       "      <td>0</td>\n",
       "      <td>71.2833</td>\n",
       "      <td>C</td>\n",
       "      <td>First</td>\n",
       "      <td>woman</td>\n",
       "      <td>False</td>\n",
       "      <td>C</td>\n",
       "      <td>Cherbourg</td>\n",
       "      <td>yes</td>\n",
       "      <td>False</td>\n",
       "    </tr>\n",
       "    <tr>\n",
       "      <th>2</th>\n",
       "      <td>1</td>\n",
       "      <td>3</td>\n",
       "      <td>female</td>\n",
       "      <td>26.0</td>\n",
       "      <td>0</td>\n",
       "      <td>0</td>\n",
       "      <td>7.9250</td>\n",
       "      <td>S</td>\n",
       "      <td>Third</td>\n",
       "      <td>woman</td>\n",
       "      <td>False</td>\n",
       "      <td>NaN</td>\n",
       "      <td>Southampton</td>\n",
       "      <td>yes</td>\n",
       "      <td>True</td>\n",
       "    </tr>\n",
       "    <tr>\n",
       "      <th>3</th>\n",
       "      <td>1</td>\n",
       "      <td>1</td>\n",
       "      <td>female</td>\n",
       "      <td>35.0</td>\n",
       "      <td>1</td>\n",
       "      <td>0</td>\n",
       "      <td>53.1000</td>\n",
       "      <td>S</td>\n",
       "      <td>First</td>\n",
       "      <td>woman</td>\n",
       "      <td>False</td>\n",
       "      <td>C</td>\n",
       "      <td>Southampton</td>\n",
       "      <td>yes</td>\n",
       "      <td>False</td>\n",
       "    </tr>\n",
       "    <tr>\n",
       "      <th>4</th>\n",
       "      <td>0</td>\n",
       "      <td>3</td>\n",
       "      <td>male</td>\n",
       "      <td>35.0</td>\n",
       "      <td>0</td>\n",
       "      <td>0</td>\n",
       "      <td>8.0500</td>\n",
       "      <td>S</td>\n",
       "      <td>Third</td>\n",
       "      <td>man</td>\n",
       "      <td>True</td>\n",
       "      <td>NaN</td>\n",
       "      <td>Southampton</td>\n",
       "      <td>no</td>\n",
       "      <td>True</td>\n",
       "    </tr>\n",
       "  </tbody>\n",
       "</table>\n",
       "</div>"
      ],
      "text/plain": [
       "   survived  pclass     sex   age  sibsp  parch     fare embarked  class  \\\n",
       "0         0       3    male  22.0      1      0   7.2500        S  Third   \n",
       "1         1       1  female  38.0      1      0  71.2833        C  First   \n",
       "2         1       3  female  26.0      0      0   7.9250        S  Third   \n",
       "3         1       1  female  35.0      1      0  53.1000        S  First   \n",
       "4         0       3    male  35.0      0      0   8.0500        S  Third   \n",
       "\n",
       "     who  adult_male deck  embark_town alive  alone  \n",
       "0    man        True  NaN  Southampton    no  False  \n",
       "1  woman       False    C    Cherbourg   yes  False  \n",
       "2  woman       False  NaN  Southampton   yes   True  \n",
       "3  woman       False    C  Southampton   yes  False  \n",
       "4    man        True  NaN  Southampton    no   True  "
      ]
     },
     "execution_count": 17,
     "metadata": {},
     "output_type": "execute_result"
    }
   ],
   "source": [
    "import pandas as pd\n",
    "import seaborn as sns\n",
    "\n",
    "titanic = sns.load_dataset('titanic')\n",
    "\n",
    "titanic.head()"
   ]
  },
  {
   "cell_type": "code",
   "execution_count": 12,
   "id": "80263365",
   "metadata": {
    "scrolled": true
   },
   "outputs": [
    {
     "name": "stdout",
     "output_type": "stream",
     "text": [
      "3.141592653589793\n",
      "0.6931471805599453\n",
      "0.9950041652780258\n"
     ]
    }
   ],
   "source": [
    "import math\n",
    "print(math.pi)\n",
    "print(math.log(2))\n",
    "print(math.cos(0.1))"
   ]
  },
  {
   "cell_type": "markdown",
   "id": "9b87bcea",
   "metadata": {},
   "source": [
    "#### Q1_1101. 1~10까지 가변적으로 연산을 할 수 있는 사용자 함수를 작성(매개변수가 가변적)"
   ]
  },
  {
   "cell_type": "code",
   "execution_count": null,
   "id": "2ba21100",
   "metadata": {},
   "outputs": [],
   "source": [
    "# Q1_1101 주용규님 솔루션\n",
    "def all_add(*args):\n",
    "    result = 0\n",
    "    for i in args:\n",
    "        result += i\n",
    "    print(result)\n",
    "\n",
    "all_add(4,22,59)\n",
    "all_add(4,22,50,65,75)\n",
    "all_add(1,2,3)"
   ]
  },
  {
   "cell_type": "code",
   "execution_count": 28,
   "id": "ebec176b",
   "metadata": {},
   "outputs": [
    {
     "name": "stdout",
     "output_type": "stream",
     "text": [
      "1000\n"
     ]
    }
   ],
   "source": [
    "def func1(*args) :\n",
    "    re = 1\n",
    "    for i in args :\n",
    "        re *= i\n",
    "    print(re)\n",
    "    \n",
    "func1(1,10,100)"
   ]
  },
  {
   "cell_type": "code",
   "execution_count": null,
   "id": "d14de80f",
   "metadata": {},
   "outputs": [],
   "source": [
    "#### Q1_1101. 1~10까지 가변적으로 연산을 할 수 있는 사용자 함수를 작성(매개변수가 가변적)"
   ]
  },
  {
   "cell_type": "code",
   "execution_count": 30,
   "id": "30fd54fb",
   "metadata": {},
   "outputs": [
    {
     "name": "stdout",
     "output_type": "stream",
     "text": [
      "24\n"
     ]
    }
   ],
   "source": [
    "def f1(*args):\n",
    "    fu = 1\n",
    "    for n in args:\n",
    "        fu *= n\n",
    "    print(fu)\n",
    "f1(2,3,4)"
   ]
  },
  {
   "cell_type": "code",
   "execution_count": null,
   "id": "a58fc7ac",
   "metadata": {},
   "outputs": [],
   "source": [
    "#### Q2_1101. **args를 이용하여 아래와 같이 출력할 수 있는 사용자 함수 func2를 작성하세요\n",
    "- 출력 :\n",
    "- Width : 100\n",
    "- Height: 200\n",
    "- Other arguments: {'color' : 'red', 'thickness':5}"
   ]
  },
  {
   "cell_type": "code",
   "execution_count": 42,
   "id": "789c45e9",
   "metadata": {},
   "outputs": [
    {
     "name": "stdout",
     "output_type": "stream",
     "text": [
      "Width : 100\n",
      "Height : 200\n",
      "Other arguments: {'color': 'red', 'thickness': 5}\n"
     ]
    }
   ],
   "source": [
    "def func2(wid,hei,**kwargs) :\n",
    "    print(f\"Width : {wid}\")\n",
    "    print(f\"Height : {hei}\")\n",
    "    print(f\"Other arguments: {kwargs}\")\n",
    "    \n",
    "func2(100,200,color='red', thickness=5)"
   ]
  },
  {
   "cell_type": "code",
   "execution_count": null,
   "id": "58a52a13",
   "metadata": {},
   "outputs": [],
   "source": [
    "#### 과제1_1101 : 사용자 함수를 아래와 같이 사용할 수 있는 func3를 작성하세요.\n",
    "func3(100, 200)  \n",
    "출력: Width: 100, Height: 200, Color: blue, Thickness: 1\n",
    "\n",
    "func3(100, 200, color='green', thickness=10)  \n",
    "출력: Width: 100, Height: 200, Color: green, Thickness: 10"
   ]
  },
  {
   "cell_type": "code",
   "execution_count": null,
   "id": "b6d05827",
   "metadata": {},
   "outputs": [],
   "source": [
    "Color=\"blue\", Thickness=1"
   ]
  },
  {
   "cell_type": "code",
   "execution_count": 4,
   "id": "d7f2c359",
   "metadata": {},
   "outputs": [
    {
     "ename": "SyntaxError",
     "evalue": "invalid syntax (3854713088.py, line 1)",
     "output_type": "error",
     "traceback": [
      "\u001b[1;36m  Cell \u001b[1;32mIn[4], line 1\u001b[1;36m\u001b[0m\n\u001b[1;33m    def func3(wid,hei,**kwargs= Color=\"blue\", Thickness=1):\u001b[0m\n\u001b[1;37m                              ^\u001b[0m\n\u001b[1;31mSyntaxError\u001b[0m\u001b[1;31m:\u001b[0m invalid syntax\n"
     ]
    }
   ],
   "source": [
    "def func3(wid,hei,**kwargs= Color=\"blue\", Thickness=1):\n",
    "    print(f\"Width : {wid}\")\n",
    "    print(f\"Height : {hei}\")\n",
    "    print(f\"Other arguments: {kwargs}\")\n",
    "func3(100,200)"
   ]
  },
  {
   "cell_type": "code",
   "execution_count": 68,
   "id": "390fe7fb",
   "metadata": {
    "scrolled": true
   },
   "outputs": [
    {
     "name": "stdout",
     "output_type": "stream",
     "text": [
      "Width : 100\n",
      "Height : 200\n",
      "Other arguments: {}\n",
      "Width : 100\n",
      "Height : 200\n",
      "Other arguments: {'color': 'green', 'thickness': 10}\n"
     ]
    },
    {
     "ename": "NameError",
     "evalue": "name 'kwargs' is not defined",
     "output_type": "error",
     "traceback": [
      "\u001b[1;31m---------------------------------------------------------------------------\u001b[0m",
      "\u001b[1;31mNameError\u001b[0m                                 Traceback (most recent call last)",
      "Cell \u001b[1;32mIn[68], line 8\u001b[0m\n\u001b[0;32m      6\u001b[0m func3(\u001b[38;5;241m100\u001b[39m,\u001b[38;5;241m200\u001b[39m)\n\u001b[0;32m      7\u001b[0m func3(\u001b[38;5;241m100\u001b[39m,\u001b[38;5;241m200\u001b[39m, color\u001b[38;5;241m=\u001b[39m\u001b[38;5;124m'\u001b[39m\u001b[38;5;124mgreen\u001b[39m\u001b[38;5;124m'\u001b[39m, thickness\u001b[38;5;241m=\u001b[39m\u001b[38;5;241m10\u001b[39m )\n\u001b[1;32m----> 8\u001b[0m \u001b[38;5;28mlen\u001b[39m( \u001b[38;5;28mstr\u001b[39m(\u001b[43mkwargs\u001b[49m) )\n",
      "\u001b[1;31mNameError\u001b[0m: name 'kwargs' is not defined"
     ]
    }
   ],
   "source": [
    "def func3(wid,hei,**kwargs):\n",
    "    print(f\"Width : {wid}\")\n",
    "    print(f\"Height : {hei}\")\n",
    "    print(f\"Other arguments: {kwargs}\")\n",
    "\n",
    "func3(100,200)\n",
    "func3(100,200, color='green', thickness=10 )\n"
   ]
  },
  {
   "cell_type": "code",
   "execution_count": 110,
   "id": "000f8cda",
   "metadata": {},
   "outputs": [
    {
     "name": "stdout",
     "output_type": "stream",
     "text": [
      "Width : 100\n",
      "Height : 200\n",
      "Other arguments: color: blue\n",
      "Width : 100\n",
      "Height : 200\n",
      "Other arguments: thickness: 1\n"
     ]
    }
   ],
   "source": [
    "def func3(wid,hei,**kwargs):\n",
    "    dict = {'color':'blue', 'thickness': 1}\n",
    "    if len(kwargs) == 0 :\n",
    "        kwargs = dict\n",
    "    for key, value in kwargs.items():\n",
    "#         print(f\"{key}: {value}\")\n",
    "        print(f\"Width : {wid}\")\n",
    "        print(f\"Height : {hei}\")\n",
    "        print(f\"Other arguments: {key}: {value}\")\n",
    "\n",
    "func3(100,200)\n",
    "# func3(100,200, color='green', thickness=10 )"
   ]
  },
  {
   "cell_type": "markdown",
   "id": "4d808896",
   "metadata": {},
   "source": [
    "이 코드에서 func3 함수는 두 개의 위치 인자 (wid와 hei)를 받고, 임의의 키워드 인자를 처리하기 위해 **kwargs 매개변수를 사용합니다. 함수 내부에서 kwargs 변수의 초기값은 빈 딕셔너리({})입니다. 그런 다음, kwargs 변수가 비어있을 때 (즉, 함수 호출 시 전달된 키워드 인자가 없을 때), kwargs 변수를 dict라는 미리 정의된 딕셔너리로 초기화하는 조건문이 사용되고 있습니다.\n",
    "\n",
    "따라서 다음과 같이 함수를 호출할 때의 동작을 살펴보겠습니다.\n",
    "\n",
    "func3(100, 200) 호출:\n",
    "\n",
    "이 호출은 두 개의 위치 인자만 전달하고, 키워드 인자가 없습니다.\n",
    "따라서 kwargs 변수는 초기값인 dict 딕셔너리로 설정됩니다.\n",
    "출력은 Width : 100, Height : 200, Other arguments: {'color': 'blue', 'thickness': 1}가 됩니다.\n",
    "func3(100, 200, color='green', thickness=10) 호출:\n",
    "\n",
    "이 호출은 두 개의 위치 인자와 두 개의 키워드 인자를 함께 전달합니다.\n",
    "따라서 kwargs 변수에는 전달된 키워드 인자가 저장됩니다.\n",
    "출력은 Width : 100, Height : 200, Other arguments: {'color': 'green', 'thickness': 10}가 됩니다.\n",
    "len(kwargs)가 0이 되는 이유는 첫 번째 함수 호출에서 키워드 인자가 없어서 kwargs 변수가 초기값인 빈 딕셔너리로 설정되기 때문입니다. 그러나 두 번째 함수 호출에서는 키워드 인자가 전달되어 kwargs 변수에 값이 들어가게 되므로 len(kwargs)는 2가 됩니다.\n",
    "\n",
    "따라서 이 코드의 목적은 키워드 인자가 없는 경우 기본값을 사용하도록 설정하는 것입니다."
   ]
  },
  {
   "cell_type": "code",
   "execution_count": 56,
   "id": "a507e035",
   "metadata": {
    "scrolled": true
   },
   "outputs": [
    {
     "name": "stdout",
     "output_type": "stream",
     "text": [
      "('color', 'blue') ('thickness', 1) "
     ]
    }
   ],
   "source": [
    "dict = {'color':'blue', 'thickness': 1}\n",
    "for i in dict.items() :\n",
    "    print(i,end= ' ')"
   ]
  },
  {
   "cell_type": "code",
   "execution_count": 94,
   "id": "30255ec0",
   "metadata": {},
   "outputs": [
    {
     "name": "stdout",
     "output_type": "stream",
     "text": [
      "Width : 100\n",
      "Height : 200\n",
      "Other arguments: {'color': 'blue', 'thickness': 1}\n",
      "Width : 100\n",
      "Height : 200\n",
      "Other arguments: {'color': 'blue', 'thickness': 1}\n"
     ]
    }
   ],
   "source": [
    "def func3(wid,hei,**kwargs):\n",
    "    dict = {'color':'blue', 'thickness': 1}\n",
    "    a = 1\n",
    "    if  a == 1 :\n",
    "        kwargs = dict\n",
    "        a = a * 0\n",
    "    print(f\"Width : {wid}\")\n",
    "    print(f\"Height : {hei}\")\n",
    "    print(f\"Other arguments: {kwargs}\")\n",
    "\n",
    "func3(100,200)\n",
    "func3(100,200, color='green', thickness=10 )"
   ]
  },
  {
   "cell_type": "code",
   "execution_count": 98,
   "id": "8b9e83a5",
   "metadata": {
    "scrolled": true
   },
   "outputs": [
    {
     "name": "stdout",
     "output_type": "stream",
     "text": [
      "Width : 100\n",
      "Height : 200\n",
      "Other arguments: {'color': 'blue', 'thickness': 1}\n",
      "Width : 100\n",
      "Height : 200\n",
      "Other arguments: {'color': 'blue', 'thickness': 1}\n"
     ]
    }
   ],
   "source": [
    "def func3(wid,hei,**kwargs):\n",
    "    dict = {'color':'blue', 'thickness': 1}\n",
    "    for a in range(1,2):\n",
    "        a = 1\n",
    "        if  a == 1 :\n",
    "            kwargs = dict\n",
    "            a = a * 0\n",
    "        print(f\"Width : {wid}\")\n",
    "        print(f\"Height : {hei}\")\n",
    "        print(f\"Other arguments: {kwargs}\")\n",
    "\n",
    "func3(100,200)\n",
    "func3(100,200, color='green', thickness=10 )"
   ]
  },
  {
   "cell_type": "code",
   "execution_count": 61,
   "id": "b5f961b7",
   "metadata": {},
   "outputs": [
    {
     "name": "stdout",
     "output_type": "stream",
     "text": [
      "Width : 100\n",
      "Height : 200\n",
      "Other arguments: <function func3.<locals>.<lambda> at 0x00000262B46865F0>\n",
      "Width : 100\n",
      "Height : 200\n",
      "Other arguments: {'color': 'green', 'thickness': 10}\n"
     ]
    }
   ],
   "source": [
    "def func3(wid,hei,**kwargs):\n",
    "    dict = lambda x : {'color':'blue', 'thickness': 1}\n",
    "    if len(kwargs) == 0 :\n",
    "        kwargs = dict\n",
    "    print(f\"Width : {wid}\")\n",
    "    print(f\"Height : {hei}\")\n",
    "    print(f\"Other arguments: {kwargs}\")\n",
    "\n",
    "func3(100,200)\n",
    "func3(100,200, color='green', thickness=10 )"
   ]
  },
  {
   "cell_type": "code",
   "execution_count": 54,
   "id": "4ffec1c0",
   "metadata": {},
   "outputs": [
    {
     "ename": "IndentationError",
     "evalue": "unexpected indent (4123420341.py, line 3)",
     "output_type": "error",
     "traceback": [
      "\u001b[1;36m  Cell \u001b[1;32mIn[54], line 3\u001b[1;36m\u001b[0m\n\u001b[1;33m    if\u001b[0m\n\u001b[1;37m    ^\u001b[0m\n\u001b[1;31mIndentationError\u001b[0m\u001b[1;31m:\u001b[0m unexpected indent\n"
     ]
    }
   ],
   "source": [
    "def func3(wid,hei,**kwargs):\n",
    "    dict = lambda x : {'color':'blue', 'thickness': 1}\n",
    "        if a\n",
    "            kwargs = dict\n",
    "\n",
    "        print(f\"Width : {wid}\")\n",
    "        print(f\"Height : {hei}\")\n",
    "        print(f\"Other arguments: {kwargs}\")\n",
    "\n",
    "func3(100,200)\n",
    "func3(100,200, color='green', thickness=10 )"
   ]
  },
  {
   "cell_type": "code",
   "execution_count": null,
   "id": "0cff0d70",
   "metadata": {},
   "outputs": [],
   "source": [
    "#### 과제2_1101 : 아래와 같이 출력되도록 func4를 작성하세요\n",
    "def print_info(**kwargs):\n",
    "    for key, value in kwargs.items():\n",
    "        print(f\"{key}: {value}\")\n",
    "\n",
    "        \n",
    "func4(100, 200, color='yellow', style='dotted')\n",
    "출력:\n",
    "color: yellow\n",
    "style: dotted"
   ]
  },
  {
   "cell_type": "code",
   "execution_count": 102,
   "id": "55476420",
   "metadata": {},
   "outputs": [
    {
     "name": "stdout",
     "output_type": "stream",
     "text": [
      "color: yellow\n",
      "style: dotted\n"
     ]
    }
   ],
   "source": [
    "def func4(a,b,**kwargs):\n",
    "    for key, value in kwargs.items():\n",
    "        print(f\"{key}: {value}\")\n",
    "        \n",
    "func4(100, 200, color='yellow', style='dotted')       \n"
   ]
  },
  {
   "cell_type": "code",
   "execution_count": null,
   "id": "276ef961",
   "metadata": {},
   "outputs": [],
   "source": [
    "#### 과제3_1101 : 뻴셈, 나눗셈 멀티 계산 함수 sub_div를 작성\n",
    "('-', 2,4,6,8,10)\n",
    "('/', 2,4,6,8,10)"
   ]
  },
  {
   "cell_type": "code",
   "execution_count": 115,
   "id": "5f10a648",
   "metadata": {},
   "outputs": [
    {
     "name": "stdout",
     "output_type": "stream",
     "text": [
      "a 값 입력 ; 3\n",
      "b 값 입력 ; 2\n",
      "1\n"
     ]
    }
   ],
   "source": [
    "def sub_div(a,b) :\n",
    "    a = int(input(\"a 값 입력 ; \"))\n",
    "    b = int(input(\"b 값 입력 ; \"))\n",
    "    print(a-b)\n",
    "    \n",
    "sub_div('a','b')  "
   ]
  },
  {
   "cell_type": "code",
   "execution_count": 42,
   "id": "ff76629c",
   "metadata": {},
   "outputs": [
    {
     "name": "stdout",
     "output_type": "stream",
     "text": [
      "-28\n"
     ]
    },
    {
     "data": {
      "text/plain": [
       "0.0005208333333333333"
      ]
     },
     "execution_count": 42,
     "metadata": {},
     "output_type": "execute_result"
    }
   ],
   "source": [
    "def sub_div(oh,*args) :\n",
    "        if oh == '-' :\n",
    "            sub = args[0]\n",
    "            for q in args:\n",
    "                sub -= q\n",
    "            return print(sub)\n",
    "        elif oh == '/' :\n",
    "            div = args[0]\n",
    "            for s in args :\n",
    "                div /= s\n",
    "            return div\n",
    "        else :\n",
    "            return print(\"종료\")\n",
    "        \n",
    "        \n",
    "sub_div('-', 2,4,6,8,10)\n",
    "sub_div('/', 2,4,6,8,10)"
   ]
  },
  {
   "cell_type": "code",
   "execution_count": null,
   "id": "4da68fb9",
   "metadata": {},
   "outputs": [],
   "source": [
    "def sub_div(a,)"
   ]
  },
  {
   "cell_type": "code",
   "execution_count": null,
   "id": "a2524dad",
   "metadata": {},
   "outputs": [],
   "source": []
  },
  {
   "cell_type": "code",
   "execution_count": null,
   "id": "480b6323",
   "metadata": {},
   "outputs": [],
   "source": []
  },
  {
   "cell_type": "code",
   "execution_count": null,
   "id": "8fda40ef",
   "metadata": {},
   "outputs": [],
   "source": []
  },
  {
   "cell_type": "code",
   "execution_count": null,
   "id": "41da7560",
   "metadata": {},
   "outputs": [],
   "source": []
  },
  {
   "cell_type": "code",
   "execution_count": null,
   "id": "d389c9f8",
   "metadata": {},
   "outputs": [],
   "source": []
  },
  {
   "cell_type": "code",
   "execution_count": null,
   "id": "4634db77",
   "metadata": {},
   "outputs": [],
   "source": []
  },
  {
   "cell_type": "code",
   "execution_count": null,
   "id": "116de5d1",
   "metadata": {},
   "outputs": [],
   "source": []
  },
  {
   "cell_type": "code",
   "execution_count": 25,
   "id": "71fe78b1",
   "metadata": {},
   "outputs": [
    {
     "name": "stdout",
     "output_type": "stream",
     "text": [
      "2\n",
      "4\n",
      "10\n",
      "-14\n",
      "0.025\n"
     ]
    }
   ],
   "source": [
    "def sub_div(a, *args):\n",
    "    if a == '-' :\n",
    "        result = args[0]\n",
    "        for i in args :\n",
    "            result -= i\n",
    "            print(i)\n",
    "        return result\n",
    "    elif a == '/':\n",
    "        result = args[0]\n",
    "        for c in args:\n",
    "            result /= c\n",
    "        return result\n",
    "    else :\n",
    "        return \"기호가 맞지않음\"\n",
    "\n",
    "           \n",
    "print(sub_div('-', 2,4,10))\n",
    "print(sub_div('/', 2,4,10))"
   ]
  },
  {
   "cell_type": "code",
   "execution_count": 116,
   "id": "2bbbb791",
   "metadata": {},
   "outputs": [
    {
     "name": "stdout",
     "output_type": "stream",
     "text": [
      "-28\n",
      "0.08333333333333333\n"
     ]
    }
   ],
   "source": [
    "def sub_div(choice, *args):\n",
    "    if choice == '-':\n",
    "        result = args[0]\n",
    "        for n in args:\n",
    "            result -= n\n",
    "        return result\n",
    "    elif choice == '/':\n",
    "        result = args[0]\n",
    "        for i in range (1,len(args)):\n",
    "            result /=i\n",
    "        return result\n",
    "    else:\n",
    "        return \"계산할 수 있는 기호가 아닙니다.\"\n",
    "            \n",
    "print(sub_div('-', 2,4,6,8,10))\n",
    "print(sub_div('/', 2,4,6,8,10))"
   ]
  },
  {
   "cell_type": "code",
   "execution_count": 44,
   "id": "9ae299bf",
   "metadata": {},
   "outputs": [],
   "source": [
    "with open('hm.txt','w') as f:\n",
    "    f.write(\"파이썬으로 폴더만들기! 신기하다\")"
   ]
  },
  {
   "cell_type": "code",
   "execution_count": 45,
   "id": "cacdc0f7",
   "metadata": {},
   "outputs": [
    {
     "data": {
      "text/plain": [
       "'D:\\\\hjh_directory\\\\workspace\\\\jupyter_notebook'"
      ]
     },
     "execution_count": 45,
     "metadata": {},
     "output_type": "execute_result"
    }
   ],
   "source": [
    "%pwd"
   ]
  },
  {
   "cell_type": "code",
   "execution_count": 46,
   "id": "8da630c0",
   "metadata": {},
   "outputs": [
    {
     "name": "stdout",
     "output_type": "stream",
     "text": [
      " D 드라이브의 볼륨에는 이름이 없습니다.\n",
      " 볼륨 일련 번호: 3E6A-1FC2\n",
      "\n",
      " D:\\hjh_directory\\workspace\\jupyter_notebook 디렉터리\n",
      "\n",
      "2023-11-02  오전 12:31    <DIR>          .\n",
      "2023-11-02  오전 12:31    <DIR>          ..\n",
      "2023-11-01  오후 06:21    <DIR>          .ipynb_checkpoints\n",
      "2023-11-02  오전 12:31                31 hm.txt\n",
      "2023-10-31  오후 11:56                86 mymodule.py\n",
      "2023-11-01  오전 01:53            15,505 python_2_제어문_과제1030_한정현.ipynb\n",
      "2023-11-01  오후 09:58            88,257 python_2_제어문_메모리부족FIX.ipynb\n",
      "2023-11-01  오후 09:58            86,033 python_3_함수.ipynb\n",
      "2023-11-01  오전 01:53            14,979 python_3_함수_과제1031_한정현.ipynb\n",
      "2023-11-02  오전 12:24             7,567 python_3_함수_과제1101_한정현.ipynb\n",
      "2023-11-01  오전 01:53            18,007 python_자료형_1_과제1027_한정현.ipynb\n",
      "2023-11-01  오전 01:53             1,786 python_자료형_1_과제6_practice_1027_한정현.ipynb\n",
      "2023-11-01  오전 01:53            98,091 python_자료형_1_한정현.ipynb\n",
      "2023-11-02  오전 12:26            81,550 연습장.ipynb\n",
      "2023-10-28  오후 03:30           810,915 환경설정_anaconda.pdf\n",
      "              12개 파일           1,222,807 바이트\n",
      "               3개 디렉터리  275,937,431,552 바이트 남음\n"
     ]
    }
   ],
   "source": [
    "ls"
   ]
  },
  {
   "cell_type": "code",
   "execution_count": 50,
   "id": "ba5018c6",
   "metadata": {},
   "outputs": [
    {
     "name": "stdout",
     "output_type": "stream",
     "text": [
      "파이썬으로 폴더만들기! 신기하다\n"
     ]
    }
   ],
   "source": [
    "with open(\"hm.txt\",'r') as f :\n",
    "    data=f.read()\n",
    "    print(data)"
   ]
  },
  {
   "cell_type": "code",
   "execution_count": null,
   "id": "7d2baf9a",
   "metadata": {},
   "outputs": [],
   "source": [
    "words_frequency = {} # {} 로 딕셔너리 이게 아주 포인트다! list론 이게 안됨\n",
    "\n",
    "words_list = input(\"Please input the sentences here : \") # input 으로 사용자로부터 텍스트 입력 받기\n",
    "lower_words = words_list.lower() # lower : 입력받은 문장을 소문자로 변환\n",
    "split_words = lower_words.split() # split : 공백을 기준으로 해서 나눠줌\n",
    "\n",
    "for word in split_words: # 각 단어의 빈도 수를 계산...\n",
    "    if word in words_frequency:\n",
    "        words_frequency[word] += 1\n",
    "    else:\n",
    "        words_frequency[word] = 1\n",
    "\n",
    "print(words_frequency) # 결과 출력"
   ]
  },
  {
   "cell_type": "code",
   "execution_count": 53,
   "id": "a5e6b885",
   "metadata": {},
   "outputs": [
    {
     "name": "stdout",
     "output_type": "stream",
     "text": [
      "{'\\n': 1, 'a': 1, ' ': 2, 'l': 1, 'o': 1, 't': 1}\n",
      "{'\\n': 1, 'a': 1, ' ': 2, 'l': 1, 'o': 2, 't': 1}\n",
      "{'\\n': 1, 'a': 1, ' ': 3, 'l': 1, 'o': 2, 't': 1, 'f': 1}\n",
      "{'\\n': 1, 'a': 1, ' ': 3, 'l': 1, 'o': 2, 't': 2, 'f': 1}\n",
      "{'\\n': 1, 'a': 1, ' ': 4, 'l': 1, 'o': 2, 't': 2, 'f': 1, 'h': 1, 'i': 1, 'n': 1, 'g': 1, 's': 1}\n",
      "{'\\n': 1, 'a': 1, ' ': 4, 'l': 1, 'o': 3, 't': 2, 'f': 1, 'h': 1, 'i': 1, 'n': 1, 'g': 1, 's': 1}\n",
      "{'\\n': 1, 'a': 1, ' ': 4, 'l': 1, 'o': 3, 't': 2, 'f': 1, 'h': 1, 'i': 1, 'n': 1, 'g': 1, 's': 1, 'c': 2}\n",
      "{'\\n': 1, 'a': 1, ' ': 5, 'l': 1, 'o': 3, 't': 2, 'f': 1, 'h': 1, 'i': 1, 'n': 1, 'g': 1, 's': 1, 'c': 2, 'u': 1, 'r': 1}\n",
      "{'\\n': 1, 'a': 2, ' ': 5, 'l': 1, 'o': 3, 't': 2, 'f': 1, 'h': 1, 'i': 1, 'n': 1, 'g': 1, 's': 1, 'c': 2, 'u': 1, 'r': 1, 'e': 1}\n",
      "{'\\n': 1, 'a': 2, ' ': 5, 'l': 1, 'o': 3, 't': 2, 'f': 1, 'h': 1, 'i': 1, 'n': 1, 'g': 1, 's': 1, 'c': 3, 'u': 1, 'r': 1, 'e': 1}\n",
      "{'\\n': 1, 'a': 2, ' ': 5, 'l': 1, 'o': 3, 't': 2, 'f': 1, 'h': 2, 'i': 1, 'n': 1, 'g': 1, 's': 1, 'c': 3, 'u': 1, 'r': 1, 'e': 1}\n",
      "{'\\n': 1, 'a': 2, ' ': 6, 'l': 1, 'o': 3, 't': 2, 'f': 1, 'h': 2, 'i': 1, 'n': 1, 'g': 1, 's': 1, 'c': 3, 'u': 1, 'r': 1, 'e': 1}\n",
      "{'\\n': 1, 'a': 3, ' ': 6, 'l': 1, 'o': 3, 't': 2, 'f': 1, 'h': 2, 'i': 1, 'n': 1, 'g': 1, 's': 1, 'c': 3, 'u': 1, 'r': 1, 'e': 1, 'd': 1}\n",
      "{'\\n': 2, 'a': 3, ' ': 6, 'l': 1, 'o': 3, 't': 2, 'f': 1, 'h': 2, 'i': 1, 'n': 1, 'g': 1, 's': 1, 'c': 3, 'u': 1, 'r': 1, 'e': 1, 'd': 1, 'y': 1}\n",
      "{'\\n': 2, 'a': 3, ' ': 6, 'l': 1, 'o': 3, 't': 2, 'f': 1, 'h': 2, 'i': 1, 'n': 1, 'g': 1, 's': 1, 'c': 3, 'u': 1, 'r': 1, 'e': 2, 'd': 1, 'y': 1, 'w': 1}\n",
      "{'\\n': 2, 'a': 3, ' ': 6, 'l': 1, 'o': 3, 't': 2, 'f': 1, 'h': 2, 'i': 1, 'n': 1, 'g': 1, 's': 1, 'c': 3, 'u': 1, 'r': 1, 'e': 3, 'd': 1, 'y': 1, 'w': 1, \"'\": 1, 'v': 1}\n",
      "{'\\n': 2, 'a': 3, ' ': 7, 'l': 1, 'o': 3, 't': 2, 'f': 1, 'h': 2, 'i': 1, 'n': 1, 'g': 1, 's': 1, 'c': 3, 'u': 1, 'r': 1, 'e': 3, 'd': 1, 'y': 1, 'w': 1, \"'\": 1, 'v': 1}\n",
      "{'\\n': 2, 'a': 3, ' ': 7, 'l': 1, 'o': 3, 't': 2, 'f': 1, 'h': 2, 'i': 1, 'n': 1, 'g': 2, 's': 1, 'c': 3, 'u': 1, 'r': 1, 'e': 3, 'd': 1, 'y': 1, 'w': 1, \"'\": 1, 'v': 1}\n",
      "{'\\n': 2, 'a': 3, ' ': 7, 'l': 1, 'o': 4, 't': 2, 'f': 1, 'h': 2, 'i': 1, 'n': 1, 'g': 2, 's': 1, 'c': 3, 'u': 1, 'r': 1, 'e': 3, 'd': 1, 'y': 1, 'w': 1, \"'\": 1, 'v': 1}\n",
      "{'\\n': 2, 'a': 3, ' ': 7, 'l': 1, 'o': 4, 't': 3, 'f': 1, 'h': 2, 'i': 1, 'n': 1, 'g': 2, 's': 1, 'c': 3, 'u': 1, 'r': 1, 'e': 3, 'd': 1, 'y': 1, 'w': 1, \"'\": 1, 'v': 1}\n",
      "{'\\n': 2, 'a': 3, ' ': 8, 'l': 1, 'o': 4, 't': 3, 'f': 1, 'h': 2, 'i': 1, 'n': 1, 'g': 2, 's': 1, 'c': 3, 'u': 1, 'r': 1, 'e': 3, 'd': 1, 'y': 1, 'w': 1, \"'\": 1, 'v': 1}\n",
      "{'\\n': 2, 'a': 3, ' ': 8, 'l': 1, 'o': 4, 't': 4, 'f': 1, 'h': 2, 'i': 1, 'n': 1, 'g': 2, 's': 1, 'c': 3, 'u': 1, 'r': 1, 'e': 3, 'd': 1, 'y': 1, 'w': 1, \"'\": 1, 'v': 1}\n",
      "{'\\n': 2, 'a': 3, ' ': 8, 'l': 1, 'o': 5, 't': 4, 'f': 1, 'h': 2, 'i': 1, 'n': 1, 'g': 2, 's': 1, 'c': 3, 'u': 1, 'r': 1, 'e': 3, 'd': 1, 'y': 1, 'w': 1, \"'\": 1, 'v': 1}\n",
      "{'\\n': 2, 'a': 3, ' ': 9, 'l': 1, 'o': 5, 't': 4, 'f': 1, 'h': 2, 'i': 1, 'n': 1, 'g': 2, 's': 1, 'c': 3, 'u': 1, 'r': 1, 'e': 3, 'd': 1, 'y': 1, 'w': 1, \"'\": 1, 'v': 1}\n",
      "{'\\n': 2, 'a': 3, ' ': 9, 'l': 2, 'o': 5, 't': 4, 'f': 1, 'h': 2, 'i': 1, 'n': 1, 'g': 2, 's': 1, 'c': 3, 'u': 1, 'r': 1, 'e': 3, 'd': 1, 'y': 1, 'w': 1, \"'\": 1, 'v': 1}\n",
      "{'\\n': 2, 'a': 3, ' ': 9, 'l': 2, 'o': 5, 't': 4, 'f': 1, 'h': 2, 'i': 2, 'n': 1, 'g': 2, 's': 1, 'c': 3, 'u': 1, 'r': 1, 'e': 3, 'd': 1, 'y': 1, 'w': 1, \"'\": 1, 'v': 1}\n",
      "{'\\n': 2, 'a': 3, ' ': 9, 'l': 2, 'o': 5, 't': 4, 'f': 1, 'h': 2, 'i': 2, 'n': 1, 'g': 2, 's': 1, 'c': 3, 'u': 1, 'r': 1, 'e': 3, 'd': 1, 'y': 1, 'w': 1, \"'\": 1, 'v': 2}\n",
      "{'\\n': 2, 'a': 3, ' ': 9, 'l': 2, 'o': 5, 't': 4, 'f': 1, 'h': 2, 'i': 2, 'n': 1, 'g': 2, 's': 1, 'c': 3, 'u': 1, 'r': 1, 'e': 4, 'd': 1, 'y': 1, 'w': 1, \"'\": 1, 'v': 2}\n",
      "{'\\n': 2, 'a': 3, ' ': 10, 'l': 2, 'o': 5, 't': 4, 'f': 1, 'h': 2, 'i': 2, 'n': 1, 'g': 2, 's': 1, 'c': 3, 'u': 1, 'r': 1, 'e': 4, 'd': 1, 'y': 1, 'w': 1, \"'\": 1, 'v': 2}\n",
      "{'\\n': 2, 'a': 3, ' ': 10, 'l': 2, 'o': 5, 't': 4, 'f': 1, 'h': 2, 'i': 2, 'n': 1, 'g': 2, 's': 1, 'c': 3, 'u': 1, 'r': 1, 'e': 4, 'd': 1, 'y': 1, 'w': 2, \"'\": 1, 'v': 2}\n",
      "{'\\n': 2, 'a': 3, ' ': 10, 'l': 2, 'o': 5, 't': 4, 'f': 1, 'h': 2, 'i': 3, 'n': 1, 'g': 2, 's': 1, 'c': 3, 'u': 1, 'r': 1, 'e': 4, 'd': 1, 'y': 1, 'w': 2, \"'\": 1, 'v': 2}\n",
      "{'\\n': 2, 'a': 3, ' ': 10, 'l': 2, 'o': 5, 't': 5, 'f': 1, 'h': 2, 'i': 3, 'n': 1, 'g': 2, 's': 1, 'c': 3, 'u': 1, 'r': 1, 'e': 4, 'd': 1, 'y': 1, 'w': 2, \"'\": 1, 'v': 2}\n",
      "{'\\n': 2, 'a': 3, ' ': 10, 'l': 2, 'o': 5, 't': 5, 'f': 1, 'h': 3, 'i': 3, 'n': 1, 'g': 2, 's': 1, 'c': 3, 'u': 1, 'r': 1, 'e': 4, 'd': 1, 'y': 1, 'w': 2, \"'\": 1, 'v': 2}\n",
      "{'\\n': 2, 'a': 3, ' ': 11, 'l': 2, 'o': 5, 't': 5, 'f': 1, 'h': 3, 'i': 3, 'n': 1, 'g': 2, 's': 1, 'c': 3, 'u': 1, 'r': 1, 'e': 4, 'd': 1, 'y': 1, 'w': 2, \"'\": 1, 'v': 2}\n",
      "{'\\n': 2, 'a': 3, ' ': 11, 'l': 2, 'o': 6, 't': 5, 'f': 1, 'h': 3, 'i': 3, 'n': 1, 'g': 2, 's': 1, 'c': 3, 'u': 1, 'r': 1, 'e': 4, 'd': 1, 'y': 1, 'w': 2, \"'\": 1, 'v': 2}\n",
      "{'\\n': 2, 'a': 3, ' ': 11, 'l': 2, 'o': 6, 't': 5, 'f': 1, 'h': 3, 'i': 3, 'n': 2, 'g': 2, 's': 1, 'c': 3, 'u': 1, 'r': 1, 'e': 4, 'd': 1, 'y': 1, 'w': 2, \"'\": 1, 'v': 2}\n",
      "{'\\n': 2, 'a': 3, ' ': 12, 'l': 2, 'o': 6, 't': 5, 'f': 1, 'h': 3, 'i': 3, 'n': 2, 'g': 2, 's': 1, 'c': 3, 'u': 1, 'r': 1, 'e': 4, 'd': 1, 'y': 1, 'w': 2, \"'\": 1, 'v': 2}\n",
      "{'\\n': 2, 'a': 3, ' ': 12, 'l': 2, 'o': 7, 't': 5, 'f': 1, 'h': 3, 'i': 3, 'n': 2, 'g': 2, 's': 1, 'c': 3, 'u': 1, 'r': 1, 'e': 4, 'd': 1, 'y': 1, 'w': 2, \"'\": 1, 'v': 2}\n",
      "{'\\n': 2, 'a': 3, ' ': 12, 'l': 2, 'o': 7, 't': 5, 'f': 1, 'h': 3, 'i': 3, 'n': 2, 'g': 2, 's': 1, 'c': 3, 'u': 2, 'r': 1, 'e': 4, 'd': 1, 'y': 1, 'w': 2, \"'\": 1, 'v': 2}\n",
      "{'\\n': 2, 'a': 3, ' ': 12, 'l': 2, 'o': 7, 't': 5, 'f': 1, 'h': 3, 'i': 3, 'n': 2, 'g': 2, 's': 1, 'c': 3, 'u': 2, 'r': 2, 'e': 4, 'd': 1, 'y': 1, 'w': 2, \"'\": 1, 'v': 2}\n",
      "{'\\n': 2, 'a': 3, ' ': 13, 'l': 2, 'o': 7, 't': 5, 'f': 1, 'h': 3, 'i': 3, 'n': 2, 'g': 2, 's': 1, 'c': 3, 'u': 2, 'r': 2, 'e': 4, 'd': 1, 'y': 1, 'w': 2, \"'\": 1, 'v': 2}\n",
      "{'\\n': 2, 'a': 3, ' ': 13, 'l': 2, 'o': 7, 't': 5, 'f': 1, 'h': 3, 'i': 3, 'n': 2, 'g': 2, 's': 1, 'c': 3, 'u': 2, 'r': 2, 'e': 4, 'd': 1, 'y': 1, 'w': 3, \"'\": 1, 'v': 2}\n",
      "{'\\n': 2, 'a': 4, ' ': 13, 'l': 2, 'o': 7, 't': 5, 'f': 1, 'h': 3, 'i': 3, 'n': 2, 'g': 2, 's': 1, 'c': 3, 'u': 2, 'r': 2, 'e': 4, 'd': 1, 'y': 1, 'w': 3, \"'\": 1, 'v': 2}\n",
      "{'\\n': 2, 'a': 4, ' ': 13, 'l': 2, 'o': 7, 't': 5, 'f': 1, 'h': 3, 'i': 3, 'n': 2, 'g': 2, 's': 1, 'c': 3, 'u': 2, 'r': 2, 'e': 4, 'd': 1, 'y': 2, 'w': 3, \"'\": 1, 'v': 2}\n",
      "{'\\n': 3, 'a': 4, ' ': 13, 'l': 2, 'o': 7, 't': 5, 'f': 1, 'h': 3, 'i': 3, 'n': 2, 'g': 2, 's': 1, 'c': 3, 'u': 2, 'r': 2, 'e': 4, 'd': 1, 'y': 2, 'w': 3, \"'\": 1, 'v': 2}\n",
      "{'\\n': 3, 'a': 4, ' ': 13, 'l': 2, 'o': 7, 't': 6, 'f': 1, 'h': 3, 'i': 3, 'n': 2, 'g': 2, 's': 1, 'c': 3, 'u': 2, 'r': 2, 'e': 4, 'd': 1, 'y': 2, 'w': 3, \"'\": 1, 'v': 2}\n",
      "{'\\n': 3, 'a': 4, ' ': 13, 'l': 2, 'o': 7, 't': 6, 'f': 1, 'h': 4, 'i': 3, 'n': 2, 'g': 2, 's': 1, 'c': 3, 'u': 2, 'r': 2, 'e': 4, 'd': 1, 'y': 2, 'w': 3, \"'\": 1, 'v': 2}\n",
      "{'\\n': 3, 'a': 4, ' ': 13, 'l': 2, 'o': 7, 't': 6, 'f': 1, 'h': 4, 'i': 3, 'n': 2, 'g': 2, 's': 1, 'c': 3, 'u': 2, 'r': 2, 'e': 5, 'd': 1, 'y': 2, 'w': 3, \"'\": 1, 'v': 2}\n",
      "{'\\n': 3, 'a': 4, ' ': 13, 'l': 2, 'o': 7, 't': 6, 'f': 1, 'h': 4, 'i': 3, 'n': 2, 'g': 2, 's': 1, 'c': 3, 'u': 2, 'r': 3, 'e': 5, 'd': 1, 'y': 2, 'w': 3, \"'\": 1, 'v': 2}\n",
      "{'\\n': 3, 'a': 4, ' ': 13, 'l': 2, 'o': 7, 't': 6, 'f': 1, 'h': 4, 'i': 3, 'n': 2, 'g': 2, 's': 1, 'c': 3, 'u': 2, 'r': 3, 'e': 6, 'd': 1, 'y': 2, 'w': 3, \"'\": 1, 'v': 2}\n",
      "{'\\n': 3, 'a': 4, ' ': 13, 'l': 2, 'o': 7, 't': 6, 'f': 1, 'h': 4, 'i': 3, 'n': 2, 'g': 2, 's': 1, 'c': 3, 'u': 2, 'r': 3, 'e': 6, 'd': 1, 'y': 2, 'w': 3, \"'\": 2, 'v': 2}\n",
      "{'\\n': 3, 'a': 4, ' ': 13, 'l': 2, 'o': 7, 't': 6, 'f': 1, 'h': 4, 'i': 3, 'n': 2, 'g': 2, 's': 2, 'c': 3, 'u': 2, 'r': 3, 'e': 6, 'd': 1, 'y': 2, 'w': 3, \"'\": 2, 'v': 2}\n",
      "{'\\n': 3, 'a': 4, ' ': 14, 'l': 2, 'o': 7, 't': 6, 'f': 1, 'h': 4, 'i': 3, 'n': 2, 'g': 2, 's': 2, 'c': 3, 'u': 2, 'r': 3, 'e': 6, 'd': 1, 'y': 2, 'w': 3, \"'\": 2, 'v': 2}\n",
      "{'\\n': 3, 'a': 4, ' ': 14, 'l': 2, 'o': 7, 't': 6, 'f': 1, 'h': 4, 'i': 3, 'n': 2, 'g': 2, 's': 3, 'c': 3, 'u': 2, 'r': 3, 'e': 6, 'd': 1, 'y': 2, 'w': 3, \"'\": 2, 'v': 2}\n",
      "{'\\n': 3, 'a': 4, ' ': 14, 'l': 2, 'o': 8, 't': 6, 'f': 1, 'h': 4, 'i': 3, 'n': 2, 'g': 2, 's': 3, 'c': 3, 'u': 2, 'r': 3, 'e': 6, 'd': 1, 'y': 2, 'w': 3, \"'\": 2, 'v': 2}\n",
      "{'\\n': 3, 'a': 4, ' ': 15, 'l': 2, 'o': 8, 't': 6, 'f': 1, 'h': 4, 'i': 3, 'n': 2, 'g': 2, 's': 3, 'c': 3, 'u': 2, 'r': 3, 'e': 6, 'd': 1, 'y': 2, 'w': 3, \"'\": 2, 'v': 2}\n",
      "{'\\n': 3, 'a': 4, ' ': 15, 'l': 2, 'o': 8, 't': 6, 'f': 1, 'h': 4, 'i': 3, 'n': 2, 'g': 2, 's': 3, 'c': 3, 'u': 3, 'r': 3, 'e': 6, 'd': 1, 'y': 2, 'w': 3, \"'\": 2, 'v': 2, 'm': 1}\n",
      "{'\\n': 3, 'a': 4, ' ': 15, 'l': 2, 'o': 8, 't': 6, 'f': 1, 'h': 4, 'i': 3, 'n': 2, 'g': 2, 's': 3, 'c': 4, 'u': 3, 'r': 3, 'e': 6, 'd': 1, 'y': 2, 'w': 3, \"'\": 2, 'v': 2, 'm': 1}\n",
      "{'\\n': 3, 'a': 4, ' ': 15, 'l': 2, 'o': 8, 't': 6, 'f': 1, 'h': 5, 'i': 3, 'n': 2, 'g': 2, 's': 3, 'c': 4, 'u': 3, 'r': 3, 'e': 6, 'd': 1, 'y': 2, 'w': 3, \"'\": 2, 'v': 2, 'm': 1}\n",
      "{'\\n': 3, 'a': 4, ' ': 16, 'l': 2, 'o': 8, 't': 6, 'f': 1, 'h': 5, 'i': 3, 'n': 2, 'g': 2, 's': 3, 'c': 4, 'u': 3, 'r': 3, 'e': 6, 'd': 1, 'y': 2, 'w': 3, \"'\": 2, 'v': 2, 'm': 1}\n",
      "{'\\n': 3, 'a': 4, ' ': 16, 'l': 2, 'o': 8, 't': 6, 'f': 1, 'h': 5, 'i': 3, 'n': 2, 'g': 2, 's': 3, 'c': 4, 'u': 3, 'r': 3, 'e': 6, 'd': 1, 'y': 2, 'w': 3, \"'\": 2, 'v': 2, 'm': 2}\n",
      "{'\\n': 3, 'a': 4, ' ': 16, 'l': 2, 'o': 8, 't': 6, 'f': 1, 'h': 5, 'i': 4, 'n': 2, 'g': 2, 's': 3, 'c': 4, 'u': 3, 'r': 3, 'e': 6, 'd': 1, 'y': 2, 'w': 3, \"'\": 2, 'v': 2, 'm': 2}\n",
      "{'\\n': 3, 'a': 4, ' ': 16, 'l': 2, 'o': 8, 't': 6, 'f': 1, 'h': 5, 'i': 4, 'n': 2, 'g': 2, 's': 4, 'c': 4, 'u': 3, 'r': 3, 'e': 6, 'd': 1, 'y': 2, 'w': 3, \"'\": 2, 'v': 2, 'm': 2}\n",
      "{'\\n': 3, 'a': 4, ' ': 16, 'l': 2, 'o': 8, 't': 6, 'f': 1, 'h': 5, 'i': 4, 'n': 2, 'g': 2, 's': 4, 'c': 4, 'u': 3, 'r': 3, 'e': 7, 'd': 1, 'y': 2, 'w': 3, \"'\": 2, 'v': 2, 'm': 2}\n",
      "{'\\n': 3, 'a': 4, ' ': 16, 'l': 2, 'o': 8, 't': 6, 'f': 1, 'h': 5, 'i': 4, 'n': 2, 'g': 2, 's': 4, 'c': 4, 'u': 3, 'r': 4, 'e': 7, 'd': 1, 'y': 2, 'w': 3, \"'\": 2, 'v': 2, 'm': 2}\n",
      "{'\\n': 3, 'a': 4, ' ': 16, 'l': 2, 'o': 8, 't': 6, 'f': 1, 'h': 5, 'i': 4, 'n': 2, 'g': 2, 's': 4, 'c': 4, 'u': 3, 'r': 4, 'e': 7, 'd': 1, 'y': 3, 'w': 3, \"'\": 2, 'v': 2, 'm': 2}\n",
      "{'\\n': 3, 'a': 4, ' ': 17, 'l': 2, 'o': 8, 't': 6, 'f': 1, 'h': 5, 'i': 4, 'n': 2, 'g': 2, 's': 4, 'c': 4, 'u': 3, 'r': 4, 'e': 7, 'd': 1, 'y': 3, 'w': 3, \"'\": 2, 'v': 2, 'm': 2}\n",
      "{'\\n': 3, 'a': 4, ' ': 17, 'l': 2, 'o': 9, 't': 6, 'f': 1, 'h': 5, 'i': 4, 'n': 2, 'g': 2, 's': 4, 'c': 4, 'u': 3, 'r': 4, 'e': 7, 'd': 1, 'y': 3, 'w': 3, \"'\": 2, 'v': 2, 'm': 2}\n",
      "{'\\n': 3, 'a': 4, ' ': 17, 'l': 2, 'o': 9, 't': 6, 'f': 1, 'h': 5, 'i': 4, 'n': 3, 'g': 2, 's': 4, 'c': 4, 'u': 3, 'r': 4, 'e': 7, 'd': 1, 'y': 3, 'w': 3, \"'\": 2, 'v': 2, 'm': 2}\n",
      "{'\\n': 3, 'a': 4, ' ': 18, 'l': 2, 'o': 9, 't': 6, 'f': 1, 'h': 5, 'i': 4, 'n': 3, 'g': 2, 's': 4, 'c': 4, 'u': 3, 'r': 4, 'e': 7, 'd': 1, 'y': 3, 'w': 3, \"'\": 2, 'v': 2, 'm': 2}\n",
      "{'\\n': 3, 'a': 4, ' ': 18, 'l': 2, 'o': 9, 't': 7, 'f': 1, 'h': 5, 'i': 4, 'n': 3, 'g': 2, 's': 4, 'c': 4, 'u': 3, 'r': 4, 'e': 7, 'd': 1, 'y': 3, 'w': 3, \"'\": 2, 'v': 2, 'm': 2}\n",
      "{'\\n': 3, 'a': 4, ' ': 18, 'l': 2, 'o': 9, 't': 7, 'f': 1, 'h': 6, 'i': 4, 'n': 3, 'g': 2, 's': 4, 'c': 4, 'u': 3, 'r': 4, 'e': 7, 'd': 1, 'y': 3, 'w': 3, \"'\": 2, 'v': 2, 'm': 2}\n",
      "{'\\n': 3, 'a': 4, ' ': 18, 'l': 2, 'o': 9, 't': 7, 'f': 1, 'h': 6, 'i': 4, 'n': 3, 'g': 2, 's': 4, 'c': 4, 'u': 3, 'r': 4, 'e': 8, 'd': 1, 'y': 3, 'w': 3, \"'\": 2, 'v': 2, 'm': 2}\n",
      "{'\\n': 3, 'a': 4, ' ': 19, 'l': 2, 'o': 9, 't': 7, 'f': 1, 'h': 6, 'i': 4, 'n': 3, 'g': 2, 's': 4, 'c': 4, 'u': 3, 'r': 4, 'e': 8, 'd': 1, 'y': 3, 'w': 3, \"'\": 2, 'v': 2, 'm': 2}\n",
      "{'\\n': 3, 'a': 4, ' ': 19, 'l': 2, 'o': 9, 't': 7, 'f': 1, 'h': 6, 'i': 4, 'n': 3, 'g': 2, 's': 5, 'c': 4, 'u': 3, 'r': 4, 'e': 8, 'd': 1, 'y': 3, 'w': 3, \"'\": 2, 'v': 2, 'm': 2}\n",
      "{'\\n': 3, 'a': 4, ' ': 19, 'l': 2, 'o': 9, 't': 7, 'f': 1, 'h': 6, 'i': 4, 'n': 3, 'g': 2, 's': 5, 'c': 5, 'u': 3, 'r': 4, 'e': 8, 'd': 1, 'y': 3, 'w': 3, \"'\": 2, 'v': 2, 'm': 2}\n",
      "{'\\n': 3, 'a': 4, ' ': 19, 'l': 2, 'o': 9, 't': 7, 'f': 1, 'h': 6, 'i': 4, 'n': 3, 'g': 2, 's': 5, 'c': 5, 'u': 3, 'r': 5, 'e': 8, 'd': 1, 'y': 3, 'w': 3, \"'\": 2, 'v': 2, 'm': 2}\n",
      "{'\\n': 3, 'a': 4, ' ': 19, 'l': 2, 'o': 9, 't': 7, 'f': 1, 'h': 6, 'i': 4, 'n': 3, 'g': 2, 's': 5, 'c': 5, 'u': 3, 'r': 5, 'e': 9, 'd': 1, 'y': 3, 'w': 3, \"'\": 2, 'v': 2, 'm': 2}\n",
      "{'\\n': 3, 'a': 4, ' ': 19, 'l': 2, 'o': 9, 't': 7, 'f': 1, 'h': 6, 'i': 4, 'n': 3, 'g': 2, 's': 5, 'c': 5, 'u': 3, 'r': 5, 'e': 10, 'd': 1, 'y': 3, 'w': 3, \"'\": 2, 'v': 2, 'm': 2}\n",
      "{'\\n': 3, 'a': 4, ' ': 19, 'l': 2, 'o': 9, 't': 7, 'f': 1, 'h': 6, 'i': 4, 'n': 4, 'g': 2, 's': 5, 'c': 5, 'u': 3, 'r': 5, 'e': 10, 'd': 1, 'y': 3, 'w': 3, \"'\": 2, 'v': 2, 'm': 2}\n",
      "{'\\n': 4, 'a': 4, ' ': 19, 'l': 2, 'o': 9, 't': 7, 'f': 1, 'h': 6, 'i': 4, 'n': 4, 'g': 2, 's': 5, 'c': 5, 'u': 3, 'r': 5, 'e': 10, 'd': 1, 'y': 3, 'w': 3, \"'\": 2, 'v': 2, 'm': 2}\n",
      "{'\\n': 4, 'a': 4, ' ': 19, 'l': 2, 'o': 9, 't': 7, 'f': 1, 'h': 6, 'i': 4, 'n': 4, 'g': 2, 's': 5, 'c': 5, 'u': 3, 'r': 5, 'e': 10, 'd': 1, 'y': 3, 'w': 4, \"'\": 2, 'v': 2, 'm': 2}\n",
      "{'\\n': 4, 'a': 4, ' ': 19, 'l': 2, 'o': 9, 't': 7, 'f': 1, 'h': 6, 'i': 5, 'n': 4, 'g': 2, 's': 5, 'c': 5, 'u': 3, 'r': 5, 'e': 10, 'd': 1, 'y': 3, 'w': 4, \"'\": 2, 'v': 2, 'm': 2}\n",
      "{'\\n': 4, 'a': 4, ' ': 19, 'l': 2, 'o': 9, 't': 8, 'f': 1, 'h': 6, 'i': 5, 'n': 4, 'g': 2, 's': 5, 'c': 5, 'u': 3, 'r': 5, 'e': 10, 'd': 1, 'y': 3, 'w': 4, \"'\": 2, 'v': 2, 'm': 2}\n",
      "{'\\n': 4, 'a': 4, ' ': 19, 'l': 2, 'o': 9, 't': 8, 'f': 1, 'h': 7, 'i': 5, 'n': 4, 'g': 2, 's': 5, 'c': 5, 'u': 3, 'r': 5, 'e': 10, 'd': 1, 'y': 3, 'w': 4, \"'\": 2, 'v': 2, 'm': 2}\n",
      "{'\\n': 4, 'a': 4, ' ': 20, 'l': 2, 'o': 9, 't': 8, 'f': 1, 'h': 7, 'i': 5, 'n': 4, 'g': 2, 's': 5, 'c': 5, 'u': 3, 'r': 5, 'e': 10, 'd': 1, 'y': 3, 'w': 4, \"'\": 2, 'v': 2, 'm': 2}\n",
      "{'\\n': 4, 'a': 4, ' ': 20, 'l': 2, 'o': 9, 't': 8, 'f': 1, 'h': 7, 'i': 5, 'n': 4, 'g': 2, 's': 5, 'c': 6, 'u': 3, 'r': 5, 'e': 10, 'd': 1, 'y': 3, 'w': 4, \"'\": 2, 'v': 2, 'm': 2}\n",
      "{'\\n': 4, 'a': 4, ' ': 20, 'l': 2, 'o': 10, 't': 8, 'f': 1, 'h': 7, 'i': 5, 'n': 4, 'g': 2, 's': 5, 'c': 6, 'u': 3, 'r': 5, 'e': 10, 'd': 1, 'y': 3, 'w': 4, \"'\": 2, 'v': 2, 'm': 2}\n",
      "{'\\n': 4, 'a': 4, ' ': 20, 'l': 2, 'o': 10, 't': 8, 'f': 1, 'h': 7, 'i': 5, 'n': 4, 'g': 2, 's': 5, 'c': 6, 'u': 3, 'r': 5, 'e': 10, 'd': 1, 'y': 3, 'w': 4, \"'\": 2, 'v': 2, 'm': 3}\n",
      "{'\\n': 4, 'a': 4, ' ': 20, 'l': 2, 'o': 10, 't': 8, 'f': 1, 'h': 7, 'i': 5, 'n': 4, 'g': 2, 's': 5, 'c': 6, 'u': 3, 'r': 5, 'e': 10, 'd': 1, 'y': 3, 'w': 4, \"'\": 2, 'v': 2, 'm': 4}\n",
      "{'\\n': 4, 'a': 4, ' ': 20, 'l': 2, 'o': 10, 't': 8, 'f': 1, 'h': 7, 'i': 5, 'n': 4, 'g': 2, 's': 5, 'c': 6, 'u': 3, 'r': 5, 'e': 11, 'd': 1, 'y': 3, 'w': 4, \"'\": 2, 'v': 2, 'm': 4}\n",
      "{'\\n': 4, 'a': 4, ' ': 20, 'l': 2, 'o': 10, 't': 8, 'f': 1, 'h': 7, 'i': 5, 'n': 4, 'g': 2, 's': 5, 'c': 6, 'u': 3, 'r': 6, 'e': 11, 'd': 1, 'y': 3, 'w': 4, \"'\": 2, 'v': 2, 'm': 4}\n",
      "{'\\n': 4, 'a': 4, ' ': 20, 'l': 2, 'o': 10, 't': 8, 'f': 1, 'h': 7, 'i': 5, 'n': 4, 'g': 2, 's': 5, 'c': 7, 'u': 3, 'r': 6, 'e': 11, 'd': 1, 'y': 3, 'w': 4, \"'\": 2, 'v': 2, 'm': 4}\n",
      "{'\\n': 4, 'a': 4, ' ': 20, 'l': 2, 'o': 10, 't': 8, 'f': 1, 'h': 7, 'i': 6, 'n': 4, 'g': 2, 's': 5, 'c': 7, 'u': 3, 'r': 6, 'e': 11, 'd': 1, 'y': 3, 'w': 4, \"'\": 2, 'v': 2, 'm': 4}\n",
      "{'\\n': 4, 'a': 5, ' ': 20, 'l': 2, 'o': 10, 't': 8, 'f': 1, 'h': 7, 'i': 6, 'n': 4, 'g': 2, 's': 5, 'c': 7, 'u': 3, 'r': 6, 'e': 11, 'd': 1, 'y': 3, 'w': 4, \"'\": 2, 'v': 2, 'm': 4}\n",
      "{'\\n': 4, 'a': 5, ' ': 20, 'l': 3, 'o': 10, 't': 8, 'f': 1, 'h': 7, 'i': 6, 'n': 4, 'g': 2, 's': 5, 'c': 7, 'u': 3, 'r': 6, 'e': 11, 'd': 1, 'y': 3, 'w': 4, \"'\": 2, 'v': 2, 'm': 4}\n",
      "{'\\n': 4, 'a': 5, ' ': 20, 'l': 3, 'o': 10, 't': 8, 'f': 1, 'h': 7, 'i': 6, 'n': 4, 'g': 2, 's': 6, 'c': 7, 'u': 3, 'r': 6, 'e': 11, 'd': 1, 'y': 3, 'w': 4, \"'\": 2, 'v': 2, 'm': 4}\n",
      "{'\\n': 4, 'a': 5, ' ': 21, 'l': 3, 'o': 10, 't': 8, 'f': 1, 'h': 7, 'i': 6, 'n': 4, 'g': 2, 's': 6, 'c': 7, 'u': 3, 'r': 6, 'e': 11, 'd': 1, 'y': 3, 'w': 4, \"'\": 2, 'v': 2, 'm': 4}\n",
      "{'\\n': 4, 'a': 5, ' ': 21, 'l': 3, 'o': 10, 't': 8, 'f': 1, 'h': 7, 'i': 7, 'n': 4, 'g': 2, 's': 6, 'c': 7, 'u': 3, 'r': 6, 'e': 11, 'd': 1, 'y': 3, 'w': 4, \"'\": 2, 'v': 2, 'm': 4}\n",
      "{'\\n': 4, 'a': 5, ' ': 21, 'l': 3, 'o': 10, 't': 8, 'f': 1, 'h': 7, 'i': 7, 'n': 5, 'g': 2, 's': 6, 'c': 7, 'u': 3, 'r': 6, 'e': 11, 'd': 1, 'y': 3, 'w': 4, \"'\": 2, 'v': 2, 'm': 4}\n",
      "{'\\n': 4, 'a': 5, ' ': 22, 'l': 3, 'o': 10, 't': 8, 'f': 1, 'h': 7, 'i': 7, 'n': 5, 'g': 2, 's': 6, 'c': 7, 'u': 3, 'r': 6, 'e': 11, 'd': 1, 'y': 3, 'w': 4, \"'\": 2, 'v': 2, 'm': 4}\n",
      "{'\\n': 4, 'a': 5, ' ': 22, 'l': 3, 'o': 10, 't': 8, 'f': 1, 'h': 7, 'i': 7, 'n': 5, 'g': 2, 's': 6, 'c': 7, 'u': 3, 'r': 6, 'e': 12, 'd': 1, 'y': 3, 'w': 4, \"'\": 2, 'v': 2, 'm': 4, 'b': 1}\n",
      "{'\\n': 4, 'a': 5, ' ': 22, 'l': 3, 'o': 10, 't': 9, 'f': 1, 'h': 7, 'i': 7, 'n': 5, 'g': 2, 's': 6, 'c': 7, 'u': 3, 'r': 6, 'e': 12, 'd': 1, 'y': 3, 'w': 4, \"'\": 2, 'v': 2, 'm': 4, 'b': 1}\n",
      "{'\\n': 4, 'a': 5, ' ': 22, 'l': 3, 'o': 10, 't': 9, 'f': 1, 'h': 7, 'i': 7, 'n': 5, 'g': 2, 's': 6, 'c': 7, 'u': 3, 'r': 6, 'e': 12, 'd': 1, 'y': 3, 'w': 5, \"'\": 2, 'v': 2, 'm': 4, 'b': 1}\n",
      "{'\\n': 4, 'a': 5, ' ': 22, 'l': 3, 'o': 10, 't': 9, 'f': 1, 'h': 7, 'i': 7, 'n': 5, 'g': 2, 's': 6, 'c': 7, 'u': 3, 'r': 6, 'e': 13, 'd': 1, 'y': 3, 'w': 5, \"'\": 2, 'v': 2, 'm': 4, 'b': 1}\n",
      "{'\\n': 4, 'a': 5, ' ': 22, 'l': 3, 'o': 10, 't': 9, 'f': 1, 'h': 7, 'i': 7, 'n': 5, 'g': 2, 's': 6, 'c': 7, 'u': 3, 'r': 6, 'e': 14, 'd': 1, 'y': 3, 'w': 5, \"'\": 2, 'v': 2, 'm': 4, 'b': 1}\n",
      "{'\\n': 4, 'a': 5, ' ': 22, 'l': 3, 'o': 10, 't': 9, 'f': 1, 'h': 7, 'i': 7, 'n': 6, 'g': 2, 's': 6, 'c': 7, 'u': 3, 'r': 6, 'e': 14, 'd': 1, 'y': 3, 'w': 5, \"'\": 2, 'v': 2, 'm': 4, 'b': 1}\n",
      "{'\\n': 5, 'a': 5, ' ': 22, 'l': 3, 'o': 10, 't': 9, 'f': 1, 'h': 7, 'i': 7, 'n': 6, 'g': 2, 's': 6, 'c': 7, 'u': 3, 'r': 6, 'e': 14, 'd': 1, 'y': 3, 'w': 5, \"'\": 2, 'v': 2, 'm': 4, 'b': 1}\n",
      "{'\\n': 6, 'a': 5, ' ': 22, 'l': 3, 'o': 10, 't': 9, 'f': 1, 'h': 7, 'i': 7, 'n': 6, 'g': 2, 's': 6, 'c': 7, 'u': 3, 'r': 6, 'e': 14, 'd': 1, 'y': 3, 'w': 5, \"'\": 2, 'v': 2, 'm': 4, 'b': 1}\n",
      "{'\\n': 6, 'a': 6, ' ': 22, 'l': 3, 'o': 10, 't': 9, 'f': 1, 'h': 7, 'i': 7, 'n': 6, 'g': 2, 's': 6, 'c': 7, 'u': 3, 'r': 6, 'e': 14, 'd': 1, 'y': 3, 'w': 5, \"'\": 2, 'v': 2, 'm': 4, 'b': 1}\n",
      "{'\\n': 6, 'a': 6, ' ': 22, 'l': 3, 'o': 10, 't': 9, 'f': 1, 'h': 7, 'i': 7, 'n': 7, 'g': 2, 's': 6, 'c': 7, 'u': 3, 'r': 6, 'e': 14, 'd': 1, 'y': 3, 'w': 5, \"'\": 2, 'v': 2, 'm': 4, 'b': 1}\n",
      "{'\\n': 6, 'a': 6, ' ': 22, 'l': 3, 'o': 10, 't': 9, 'f': 1, 'h': 7, 'i': 7, 'n': 7, 'g': 2, 's': 6, 'c': 7, 'u': 3, 'r': 6, 'e': 14, 'd': 2, 'y': 3, 'w': 5, \"'\": 2, 'v': 2, 'm': 4, 'b': 1}\n",
      "{'\\n': 6, 'a': 6, ' ': 23, 'l': 3, 'o': 10, 't': 9, 'f': 1, 'h': 7, 'i': 7, 'n': 7, 'g': 2, 's': 6, 'c': 7, 'u': 3, 'r': 6, 'e': 14, 'd': 2, 'y': 3, 'w': 5, \"'\": 2, 'v': 2, 'm': 4, 'b': 1}\n",
      "{'\\n': 6, 'a': 6, ' ': 23, 'l': 3, 'o': 10, 't': 10, 'f': 1, 'h': 7, 'i': 7, 'n': 7, 'g': 2, 's': 6, 'c': 7, 'u': 3, 'r': 6, 'e': 14, 'd': 2, 'y': 3, 'w': 5, \"'\": 2, 'v': 2, 'm': 4, 'b': 1}\n",
      "{'\\n': 6, 'a': 6, ' ': 23, 'l': 3, 'o': 10, 't': 10, 'f': 1, 'h': 8, 'i': 7, 'n': 7, 'g': 2, 's': 6, 'c': 7, 'u': 3, 'r': 6, 'e': 14, 'd': 2, 'y': 3, 'w': 5, \"'\": 2, 'v': 2, 'm': 4, 'b': 1}\n",
      "{'\\n': 6, 'a': 6, ' ': 23, 'l': 3, 'o': 10, 't': 10, 'f': 1, 'h': 8, 'i': 7, 'n': 7, 'g': 2, 's': 6, 'c': 7, 'u': 3, 'r': 6, 'e': 15, 'd': 2, 'y': 3, 'w': 5, \"'\": 2, 'v': 2, 'm': 4, 'b': 1}\n",
      "{'\\n': 6, 'a': 6, ' ': 24, 'l': 3, 'o': 10, 't': 10, 'f': 1, 'h': 8, 'i': 7, 'n': 7, 'g': 2, 's': 6, 'c': 7, 'u': 3, 'r': 6, 'e': 15, 'd': 2, 'y': 3, 'w': 5, \"'\": 2, 'v': 2, 'm': 4, 'b': 1}\n",
      "{'\\n': 6, 'a': 6, ' ': 24, 'l': 3, 'o': 10, 't': 10, 'f': 1, 'h': 8, 'i': 7, 'n': 7, 'g': 2, 's': 6, 'c': 7, 'u': 3, 'r': 7, 'e': 15, 'd': 2, 'y': 3, 'w': 5, \"'\": 2, 'v': 2, 'm': 4, 'b': 1}\n",
      "{'\\n': 6, 'a': 6, ' ': 24, 'l': 3, 'o': 10, 't': 10, 'f': 1, 'h': 8, 'i': 7, 'n': 7, 'g': 2, 's': 6, 'c': 7, 'u': 4, 'r': 7, 'e': 15, 'd': 2, 'y': 3, 'w': 5, \"'\": 2, 'v': 2, 'm': 4, 'b': 1}\n",
      "{'\\n': 6, 'a': 6, ' ': 24, 'l': 3, 'o': 10, 't': 10, 'f': 1, 'h': 8, 'i': 7, 'n': 7, 'g': 2, 's': 7, 'c': 7, 'u': 4, 'r': 7, 'e': 15, 'd': 2, 'y': 3, 'w': 5, \"'\": 2, 'v': 2, 'm': 4, 'b': 1}\n",
      "{'\\n': 6, 'a': 6, ' ': 24, 'l': 3, 'o': 10, 't': 10, 'f': 1, 'h': 8, 'i': 7, 'n': 7, 'g': 2, 's': 8, 'c': 7, 'u': 4, 'r': 7, 'e': 15, 'd': 2, 'y': 3, 'w': 5, \"'\": 2, 'v': 2, 'm': 4, 'b': 1}\n",
      "{'\\n': 6, 'a': 6, ' ': 24, 'l': 3, 'o': 10, 't': 10, 'f': 1, 'h': 8, 'i': 8, 'n': 7, 'g': 2, 's': 8, 'c': 7, 'u': 4, 'r': 7, 'e': 15, 'd': 2, 'y': 3, 'w': 5, \"'\": 2, 'v': 2, 'm': 4, 'b': 1}\n",
      "{'\\n': 6, 'a': 7, ' ': 24, 'l': 3, 'o': 10, 't': 10, 'f': 1, 'h': 8, 'i': 8, 'n': 7, 'g': 2, 's': 8, 'c': 7, 'u': 4, 'r': 7, 'e': 15, 'd': 2, 'y': 3, 'w': 5, \"'\": 2, 'v': 2, 'm': 4, 'b': 1}\n",
      "{'\\n': 6, 'a': 7, ' ': 24, 'l': 3, 'o': 10, 't': 10, 'f': 1, 'h': 8, 'i': 8, 'n': 8, 'g': 2, 's': 8, 'c': 7, 'u': 4, 'r': 7, 'e': 15, 'd': 2, 'y': 3, 'w': 5, \"'\": 2, 'v': 2, 'm': 4, 'b': 1}\n",
      "{'\\n': 6, 'a': 7, ' ': 24, 'l': 3, 'o': 10, 't': 10, 'f': 1, 'h': 8, 'i': 8, 'n': 8, 'g': 2, 's': 9, 'c': 7, 'u': 4, 'r': 7, 'e': 15, 'd': 2, 'y': 3, 'w': 5, \"'\": 2, 'v': 2, 'm': 4, 'b': 1}\n",
      "{'\\n': 6, 'a': 7, ' ': 25, 'l': 3, 'o': 10, 't': 10, 'f': 1, 'h': 8, 'i': 8, 'n': 8, 'g': 2, 's': 9, 'c': 7, 'u': 4, 'r': 7, 'e': 15, 'd': 2, 'y': 3, 'w': 5, \"'\": 2, 'v': 2, 'm': 4, 'b': 1}\n",
      "{'\\n': 6, 'a': 7, ' ': 25, 'l': 3, 'o': 10, 't': 10, 'f': 1, 'h': 8, 'i': 8, 'n': 8, 'g': 2, 's': 9, 'c': 7, 'u': 4, 'r': 7, 'e': 15, 'd': 2, 'y': 3, 'w': 6, \"'\": 2, 'v': 2, 'm': 4, 'b': 1}\n",
      "{'\\n': 6, 'a': 7, ' ': 25, 'l': 3, 'o': 11, 't': 10, 'f': 1, 'h': 8, 'i': 8, 'n': 8, 'g': 2, 's': 9, 'c': 7, 'u': 4, 'r': 7, 'e': 15, 'd': 2, 'y': 3, 'w': 6, \"'\": 2, 'v': 2, 'm': 4, 'b': 1}\n",
      "{'\\n': 6, 'a': 7, ' ': 25, 'l': 3, 'o': 11, 't': 10, 'f': 1, 'h': 8, 'i': 8, 'n': 9, 'g': 2, 's': 9, 'c': 7, 'u': 4, 'r': 7, 'e': 15, 'd': 2, 'y': 3, 'w': 6, \"'\": 2, 'v': 2, 'm': 4, 'b': 1}\n",
      "{'\\n': 6, 'a': 7, ' ': 25, 'l': 3, 'o': 11, 't': 10, 'f': 1, 'h': 8, 'i': 8, 'n': 9, 'g': 2, 's': 9, 'c': 7, 'u': 4, 'r': 7, 'e': 15, 'd': 2, 'y': 3, 'w': 6, \"'\": 3, 'v': 2, 'm': 4, 'b': 1}\n",
      "{'\\n': 6, 'a': 7, ' ': 25, 'l': 3, 'o': 11, 't': 11, 'f': 1, 'h': 8, 'i': 8, 'n': 9, 'g': 2, 's': 9, 'c': 7, 'u': 4, 'r': 7, 'e': 15, 'd': 2, 'y': 3, 'w': 6, \"'\": 3, 'v': 2, 'm': 4, 'b': 1}\n",
      "{'\\n': 6, 'a': 7, ' ': 26, 'l': 3, 'o': 11, 't': 11, 'f': 1, 'h': 8, 'i': 8, 'n': 9, 'g': 2, 's': 9, 'c': 7, 'u': 4, 'r': 7, 'e': 15, 'd': 2, 'y': 3, 'w': 6, \"'\": 3, 'v': 2, 'm': 4, 'b': 1}\n",
      "{'\\n': 6, 'a': 7, ' ': 26, 'l': 3, 'o': 11, 't': 11, 'f': 1, 'h': 8, 'i': 8, 'n': 9, 'g': 2, 's': 9, 'c': 7, 'u': 4, 'r': 7, 'e': 15, 'd': 2, 'y': 3, 'w': 6, \"'\": 3, 'v': 2, 'm': 4, 'b': 2}\n",
      "{'\\n': 6, 'a': 7, ' ': 26, 'l': 3, 'o': 11, 't': 11, 'f': 1, 'h': 8, 'i': 8, 'n': 9, 'g': 2, 's': 9, 'c': 7, 'u': 4, 'r': 7, 'e': 16, 'd': 2, 'y': 3, 'w': 6, \"'\": 3, 'v': 2, 'm': 4, 'b': 2}\n",
      "{'\\n': 6, 'a': 7, ' ': 27, 'l': 3, 'o': 11, 't': 11, 'f': 1, 'h': 8, 'i': 8, 'n': 9, 'g': 2, 's': 9, 'c': 7, 'u': 4, 'r': 7, 'e': 16, 'd': 2, 'y': 3, 'w': 6, \"'\": 3, 'v': 2, 'm': 4, 'b': 2}\n",
      "{'\\n': 6, 'a': 7, ' ': 27, 'l': 3, 'o': 11, 't': 11, 'f': 1, 'h': 8, 'i': 8, 'n': 9, 'g': 2, 's': 10, 'c': 7, 'u': 4, 'r': 7, 'e': 16, 'd': 2, 'y': 3, 'w': 6, \"'\": 3, 'v': 2, 'm': 4, 'b': 2}\n",
      "{'\\n': 6, 'a': 7, ' ': 27, 'l': 3, 'o': 12, 't': 11, 'f': 1, 'h': 8, 'i': 8, 'n': 9, 'g': 2, 's': 10, 'c': 7, 'u': 4, 'r': 7, 'e': 16, 'd': 2, 'y': 3, 'w': 6, \"'\": 3, 'v': 2, 'm': 4, 'b': 2}\n",
      "{'\\n': 6, 'a': 7, ' ': 28, 'l': 3, 'o': 12, 't': 11, 'f': 1, 'h': 8, 'i': 8, 'n': 9, 'g': 2, 's': 10, 'c': 7, 'u': 4, 'r': 7, 'e': 16, 'd': 2, 'y': 3, 'w': 6, \"'\": 3, 'v': 2, 'm': 4, 'b': 2}\n",
      "{'\\n': 6, 'a': 7, ' ': 28, 'l': 4, 'o': 12, 't': 11, 'f': 1, 'h': 8, 'i': 8, 'n': 9, 'g': 2, 's': 10, 'c': 7, 'u': 4, 'r': 7, 'e': 16, 'd': 2, 'y': 3, 'w': 6, \"'\": 3, 'v': 2, 'm': 4, 'b': 2}\n",
      "{'\\n': 6, 'a': 8, ' ': 28, 'l': 4, 'o': 12, 't': 11, 'f': 1, 'h': 8, 'i': 8, 'n': 9, 'g': 2, 's': 10, 'c': 7, 'u': 4, 'r': 7, 'e': 16, 'd': 2, 'y': 3, 'w': 6, \"'\": 3, 'v': 2, 'm': 4, 'b': 2}\n",
      "{'\\n': 6, 'a': 8, ' ': 28, 'l': 4, 'o': 12, 't': 12, 'f': 1, 'h': 8, 'i': 8, 'n': 9, 'g': 2, 's': 10, 'c': 7, 'u': 4, 'r': 7, 'e': 16, 'd': 2, 'y': 3, 'w': 6, \"'\": 3, 'v': 2, 'm': 4, 'b': 2}\n",
      "{'\\n': 6, 'a': 8, ' ': 28, 'l': 4, 'o': 12, 't': 12, 'f': 1, 'h': 8, 'i': 8, 'n': 9, 'g': 2, 's': 10, 'c': 7, 'u': 4, 'r': 7, 'e': 17, 'd': 2, 'y': 3, 'w': 6, \"'\": 3, 'v': 2, 'm': 4, 'b': 2}\n",
      "{'\\n': 7, 'a': 8, ' ': 28, 'l': 4, 'o': 12, 't': 12, 'f': 1, 'h': 8, 'i': 8, 'n': 9, 'g': 2, 's': 10, 'c': 7, 'u': 4, 'r': 7, 'e': 17, 'd': 2, 'y': 3, 'w': 6, \"'\": 3, 'v': 2, 'm': 4, 'b': 2}\n",
      "{'\\n': 7, 'a': 8, ' ': 28, 'l': 4, 'o': 12, 't': 12, 'f': 1, 'h': 8, 'i': 8, 'n': 9, 'g': 2, 's': 10, 'c': 7, 'u': 5, 'r': 7, 'e': 17, 'd': 2, 'y': 3, 'w': 6, \"'\": 3, 'v': 2, 'm': 4, 'b': 2}\n",
      "{'\\n': 7, 'a': 8, ' ': 28, 'l': 4, 'o': 12, 't': 12, 'f': 1, 'h': 8, 'i': 8, 'n': 10, 'g': 2, 's': 10, 'c': 7, 'u': 5, 'r': 7, 'e': 17, 'd': 2, 'y': 3, 'w': 6, \"'\": 3, 'v': 2, 'm': 4, 'b': 2}\n",
      "{'\\n': 7, 'a': 8, ' ': 28, 'l': 4, 'o': 12, 't': 12, 'f': 1, 'h': 8, 'i': 8, 'n': 10, 'g': 2, 's': 10, 'c': 8, 'u': 5, 'r': 7, 'e': 17, 'd': 2, 'y': 3, 'w': 6, \"'\": 3, 'v': 2, 'm': 4, 'b': 2}\n",
      "{'\\n': 7, 'a': 8, ' ': 28, 'l': 5, 'o': 12, 't': 12, 'f': 1, 'h': 8, 'i': 8, 'n': 10, 'g': 2, 's': 10, 'c': 8, 'u': 5, 'r': 7, 'e': 17, 'd': 2, 'y': 3, 'w': 6, \"'\": 3, 'v': 2, 'm': 4, 'b': 2}\n",
      "{'\\n': 7, 'a': 8, ' ': 28, 'l': 5, 'o': 12, 't': 12, 'f': 1, 'h': 8, 'i': 8, 'n': 10, 'g': 2, 's': 10, 'c': 8, 'u': 5, 'r': 7, 'e': 18, 'd': 2, 'y': 3, 'w': 6, \"'\": 3, 'v': 2, 'm': 4, 'b': 2}\n",
      "{'\\n': 7, 'a': 8, ' ': 29, 'l': 5, 'o': 12, 't': 12, 'f': 1, 'h': 8, 'i': 8, 'n': 10, 'g': 2, 's': 10, 'c': 8, 'u': 5, 'r': 7, 'e': 18, 'd': 2, 'y': 3, 'w': 6, \"'\": 3, 'v': 2, 'm': 4, 'b': 2}\n",
      "{'\\n': 7, 'a': 8, ' ': 29, 'l': 5, 'o': 12, 't': 12, 'f': 1, 'h': 8, 'i': 8, 'n': 10, 'g': 2, 's': 11, 'c': 8, 'u': 5, 'r': 7, 'e': 18, 'd': 2, 'y': 3, 'w': 6, \"'\": 3, 'v': 2, 'm': 4, 'b': 2}\n",
      "{'\\n': 7, 'a': 9, ' ': 29, 'l': 5, 'o': 12, 't': 12, 'f': 1, 'h': 8, 'i': 8, 'n': 10, 'g': 2, 's': 11, 'c': 8, 'u': 5, 'r': 7, 'e': 18, 'd': 2, 'y': 3, 'w': 6, \"'\": 3, 'v': 2, 'm': 4, 'b': 2}\n",
      "{'\\n': 7, 'a': 9, ' ': 29, 'l': 5, 'o': 12, 't': 12, 'f': 1, 'h': 8, 'i': 8, 'n': 10, 'g': 2, 's': 11, 'c': 8, 'u': 5, 'r': 7, 'e': 18, 'd': 2, 'y': 3, 'w': 6, \"'\": 3, 'v': 2, 'm': 5, 'b': 2}\n",
      "{'\\n': 7, 'a': 9, ' ': 30, 'l': 5, 'o': 12, 't': 12, 'f': 1, 'h': 8, 'i': 8, 'n': 10, 'g': 2, 's': 11, 'c': 8, 'u': 5, 'r': 7, 'e': 18, 'd': 2, 'y': 3, 'w': 6, \"'\": 3, 'v': 2, 'm': 5, 'b': 2}\n",
      "{'\\n': 7, 'a': 9, ' ': 30, 'l': 5, 'o': 12, 't': 12, 'f': 1, 'h': 8, 'i': 8, 'n': 10, 'g': 2, 's': 11, 'c': 8, 'u': 5, 'r': 7, 'e': 18, 'd': 3, 'y': 3, 'w': 6, \"'\": 3, 'v': 2, 'm': 5, 'b': 2}\n",
      "{'\\n': 7, 'a': 9, ' ': 30, 'l': 5, 'o': 13, 't': 12, 'f': 1, 'h': 8, 'i': 8, 'n': 10, 'g': 2, 's': 11, 'c': 8, 'u': 5, 'r': 7, 'e': 18, 'd': 3, 'y': 3, 'w': 6, \"'\": 3, 'v': 2, 'm': 5, 'b': 2}\n",
      "{'\\n': 7, 'a': 9, ' ': 30, 'l': 5, 'o': 13, 't': 12, 'f': 1, 'h': 8, 'i': 8, 'n': 11, 'g': 2, 's': 11, 'c': 8, 'u': 5, 'r': 7, 'e': 18, 'd': 3, 'y': 3, 'w': 6, \"'\": 3, 'v': 2, 'm': 5, 'b': 2}\n",
      "{'\\n': 7, 'a': 9, ' ': 30, 'l': 5, 'o': 13, 't': 12, 'f': 1, 'h': 8, 'i': 8, 'n': 11, 'g': 2, 's': 11, 'c': 8, 'u': 5, 'r': 7, 'e': 18, 'd': 3, 'y': 3, 'w': 6, \"'\": 4, 'v': 2, 'm': 5, 'b': 2}\n",
      "{'\\n': 7, 'a': 9, ' ': 30, 'l': 5, 'o': 13, 't': 13, 'f': 1, 'h': 8, 'i': 8, 'n': 11, 'g': 2, 's': 11, 'c': 8, 'u': 5, 'r': 7, 'e': 18, 'd': 3, 'y': 3, 'w': 6, \"'\": 4, 'v': 2, 'm': 5, 'b': 2}\n",
      "{'\\n': 7, 'a': 9, ' ': 31, 'l': 5, 'o': 13, 't': 13, 'f': 1, 'h': 8, 'i': 8, 'n': 11, 'g': 2, 's': 11, 'c': 8, 'u': 5, 'r': 7, 'e': 18, 'd': 3, 'y': 3, 'w': 6, \"'\": 4, 'v': 2, 'm': 5, 'b': 2}\n",
      "{'\\n': 7, 'a': 9, ' ': 31, 'l': 5, 'o': 13, 't': 13, 'f': 1, 'h': 8, 'i': 8, 'n': 11, 'g': 2, 's': 11, 'c': 8, 'u': 5, 'r': 7, 'e': 18, 'd': 3, 'y': 3, 'w': 7, \"'\": 4, 'v': 2, 'm': 5, 'b': 2}\n",
      "{'\\n': 7, 'a': 10, ' ': 31, 'l': 5, 'o': 13, 't': 13, 'f': 1, 'h': 8, 'i': 8, 'n': 11, 'g': 2, 's': 11, 'c': 8, 'u': 5, 'r': 7, 'e': 18, 'd': 3, 'y': 3, 'w': 7, \"'\": 4, 'v': 2, 'm': 5, 'b': 2}\n",
      "{'\\n': 7, 'a': 10, ' ': 31, 'l': 5, 'o': 13, 't': 13, 'f': 1, 'h': 8, 'i': 8, 'n': 12, 'g': 2, 's': 11, 'c': 8, 'u': 5, 'r': 7, 'e': 18, 'd': 3, 'y': 3, 'w': 7, \"'\": 4, 'v': 2, 'm': 5, 'b': 2}\n",
      "{'\\n': 7, 'a': 10, ' ': 31, 'l': 5, 'o': 13, 't': 14, 'f': 1, 'h': 8, 'i': 8, 'n': 12, 'g': 2, 's': 11, 'c': 8, 'u': 5, 'r': 7, 'e': 18, 'd': 3, 'y': 3, 'w': 7, \"'\": 4, 'v': 2, 'm': 5, 'b': 2}\n",
      "{'\\n': 7, 'a': 10, ' ': 32, 'l': 5, 'o': 13, 't': 14, 'f': 1, 'h': 8, 'i': 8, 'n': 12, 'g': 2, 's': 11, 'c': 8, 'u': 5, 'r': 7, 'e': 18, 'd': 3, 'y': 3, 'w': 7, \"'\": 4, 'v': 2, 'm': 5, 'b': 2}\n",
      "{'\\n': 7, 'a': 10, ' ': 32, 'l': 5, 'o': 13, 't': 15, 'f': 1, 'h': 8, 'i': 8, 'n': 12, 'g': 2, 's': 11, 'c': 8, 'u': 5, 'r': 7, 'e': 18, 'd': 3, 'y': 3, 'w': 7, \"'\": 4, 'v': 2, 'm': 5, 'b': 2}\n",
      "{'\\n': 7, 'a': 10, ' ': 32, 'l': 5, 'o': 14, 't': 15, 'f': 1, 'h': 8, 'i': 8, 'n': 12, 'g': 2, 's': 11, 'c': 8, 'u': 5, 'r': 7, 'e': 18, 'd': 3, 'y': 3, 'w': 7, \"'\": 4, 'v': 2, 'm': 5, 'b': 2}\n",
      "{'\\n': 7, 'a': 10, ' ': 33, 'l': 5, 'o': 14, 't': 15, 'f': 1, 'h': 8, 'i': 8, 'n': 12, 'g': 2, 's': 11, 'c': 8, 'u': 5, 'r': 7, 'e': 18, 'd': 3, 'y': 3, 'w': 7, \"'\": 4, 'v': 2, 'm': 5, 'b': 2}\n",
      "{'\\n': 7, 'a': 10, ' ': 33, 'l': 5, 'o': 14, 't': 15, 'f': 1, 'h': 8, 'i': 8, 'n': 12, 'g': 2, 's': 11, 'c': 8, 'u': 5, 'r': 7, 'e': 18, 'd': 3, 'y': 3, 'w': 8, \"'\": 4, 'v': 2, 'm': 5, 'b': 2}\n",
      "{'\\n': 7, 'a': 11, ' ': 33, 'l': 5, 'o': 14, 't': 15, 'f': 1, 'h': 8, 'i': 8, 'n': 12, 'g': 2, 's': 11, 'c': 8, 'u': 5, 'r': 7, 'e': 18, 'd': 3, 'y': 3, 'w': 8, \"'\": 4, 'v': 2, 'm': 5, 'b': 2}\n",
      "{'\\n': 7, 'a': 11, ' ': 33, 'l': 5, 'o': 14, 't': 15, 'f': 1, 'h': 8, 'i': 9, 'n': 12, 'g': 2, 's': 11, 'c': 8, 'u': 5, 'r': 7, 'e': 18, 'd': 3, 'y': 3, 'w': 8, \"'\": 4, 'v': 2, 'm': 5, 'b': 2}\n",
      "{'\\n': 7, 'a': 11, ' ': 33, 'l': 5, 'o': 14, 't': 16, 'f': 1, 'h': 8, 'i': 9, 'n': 12, 'g': 2, 's': 11, 'c': 8, 'u': 5, 'r': 7, 'e': 18, 'd': 3, 'y': 3, 'w': 8, \"'\": 4, 'v': 2, 'm': 5, 'b': 2}\n",
      "{'\\n': 8, 'a': 11, ' ': 33, 'l': 5, 'o': 14, 't': 16, 'f': 1, 'h': 8, 'i': 9, 'n': 12, 'g': 2, 's': 11, 'c': 8, 'u': 5, 'r': 7, 'e': 18, 'd': 3, 'y': 3, 'w': 8, \"'\": 4, 'v': 2, 'm': 5, 'b': 2}\n",
      "{'\\n': 8, 'a': 11, ' ': 33, 'l': 5, 'o': 14, 't': 16, 'f': 1, 'h': 8, 'i': 9, 'n': 13, 'g': 2, 's': 11, 'c': 8, 'u': 5, 'r': 7, 'e': 18, 'd': 3, 'y': 3, 'w': 8, \"'\": 4, 'v': 2, 'm': 5, 'b': 2}\n",
      "{'\\n': 8, 'a': 11, ' ': 33, 'l': 5, 'o': 15, 't': 16, 'f': 1, 'h': 8, 'i': 9, 'n': 13, 'g': 2, 's': 11, 'c': 8, 'u': 5, 'r': 7, 'e': 18, 'd': 3, 'y': 3, 'w': 8, \"'\": 4, 'v': 2, 'm': 5, 'b': 2}\n",
      "{'\\n': 8, 'a': 11, ' ': 34, 'l': 5, 'o': 15, 't': 16, 'f': 1, 'h': 8, 'i': 9, 'n': 13, 'g': 2, 's': 11, 'c': 8, 'u': 5, 'r': 7, 'e': 18, 'd': 3, 'y': 3, 'w': 8, \"'\": 4, 'v': 2, 'm': 5, 'b': 2}\n",
      "{'\\n': 8, 'a': 11, ' ': 34, 'l': 5, 'o': 15, 't': 16, 'f': 1, 'h': 8, 'i': 9, 'n': 13, 'g': 2, 's': 11, 'c': 8, 'u': 5, 'r': 7, 'e': 18, 'd': 3, 'y': 3, 'w': 8, \"'\": 4, 'v': 2, 'm': 6, 'b': 2}\n",
      "{'\\n': 8, 'a': 12, ' ': 34, 'l': 5, 'o': 15, 't': 16, 'f': 1, 'h': 8, 'i': 9, 'n': 13, 'g': 2, 's': 11, 'c': 8, 'u': 5, 'r': 7, 'e': 18, 'd': 3, 'y': 3, 'w': 8, \"'\": 4, 'v': 2, 'm': 6, 'b': 2}\n",
      "{'\\n': 8, 'a': 12, ' ': 34, 'l': 5, 'o': 15, 't': 17, 'f': 1, 'h': 8, 'i': 9, 'n': 13, 'g': 2, 's': 11, 'c': 8, 'u': 5, 'r': 7, 'e': 18, 'd': 3, 'y': 3, 'w': 8, \"'\": 4, 'v': 2, 'm': 6, 'b': 2}\n",
      "{'\\n': 8, 'a': 12, ' ': 34, 'l': 5, 'o': 15, 't': 18, 'f': 1, 'h': 8, 'i': 9, 'n': 13, 'g': 2, 's': 11, 'c': 8, 'u': 5, 'r': 7, 'e': 18, 'd': 3, 'y': 3, 'w': 8, \"'\": 4, 'v': 2, 'm': 6, 'b': 2}\n",
      "{'\\n': 8, 'a': 12, ' ': 34, 'l': 5, 'o': 15, 't': 18, 'f': 1, 'h': 8, 'i': 9, 'n': 13, 'g': 2, 's': 11, 'c': 8, 'u': 5, 'r': 7, 'e': 19, 'd': 3, 'y': 3, 'w': 8, \"'\": 4, 'v': 2, 'm': 6, 'b': 2}\n",
      "{'\\n': 8, 'a': 12, ' ': 34, 'l': 5, 'o': 15, 't': 18, 'f': 1, 'h': 8, 'i': 9, 'n': 13, 'g': 2, 's': 11, 'c': 8, 'u': 5, 'r': 8, 'e': 19, 'd': 3, 'y': 3, 'w': 8, \"'\": 4, 'v': 2, 'm': 6, 'b': 2}\n",
      "{'\\n': 8, 'a': 12, ' ': 35, 'l': 5, 'o': 15, 't': 18, 'f': 1, 'h': 8, 'i': 9, 'n': 13, 'g': 2, 's': 11, 'c': 8, 'u': 5, 'r': 8, 'e': 19, 'd': 3, 'y': 3, 'w': 8, \"'\": 4, 'v': 2, 'm': 6, 'b': 2}\n",
      "{'\\n': 8, 'a': 12, ' ': 35, 'l': 5, 'o': 15, 't': 18, 'f': 1, 'h': 8, 'i': 10, 'n': 13, 'g': 2, 's': 11, 'c': 8, 'u': 5, 'r': 8, 'e': 19, 'd': 3, 'y': 3, 'w': 8, \"'\": 4, 'v': 2, 'm': 6, 'b': 2}\n",
      "{'\\n': 8, 'a': 12, ' ': 35, 'l': 5, 'o': 15, 't': 18, 'f': 2, 'h': 8, 'i': 10, 'n': 13, 'g': 2, 's': 11, 'c': 8, 'u': 5, 'r': 8, 'e': 19, 'd': 3, 'y': 3, 'w': 8, \"'\": 4, 'v': 2, 'm': 6, 'b': 2}\n",
      "{'\\n': 8, 'a': 12, ' ': 36, 'l': 5, 'o': 15, 't': 18, 'f': 2, 'h': 8, 'i': 10, 'n': 13, 'g': 2, 's': 11, 'c': 8, 'u': 5, 'r': 8, 'e': 19, 'd': 3, 'y': 3, 'w': 8, \"'\": 4, 'v': 2, 'm': 6, 'b': 2}\n",
      "{'\\n': 8, 'a': 12, ' ': 36, 'l': 5, 'o': 15, 't': 18, 'f': 2, 'h': 8, 'i': 10, 'n': 13, 'g': 2, 's': 11, 'c': 8, 'u': 5, 'r': 8, 'e': 19, 'd': 3, 'y': 4, 'w': 8, \"'\": 4, 'v': 2, 'm': 6, 'b': 2}\n",
      "{'\\n': 8, 'a': 12, ' ': 36, 'l': 5, 'o': 16, 't': 18, 'f': 2, 'h': 8, 'i': 10, 'n': 13, 'g': 2, 's': 11, 'c': 8, 'u': 5, 'r': 8, 'e': 19, 'd': 3, 'y': 4, 'w': 8, \"'\": 4, 'v': 2, 'm': 6, 'b': 2}\n",
      "{'\\n': 8, 'a': 12, ' ': 36, 'l': 5, 'o': 16, 't': 18, 'f': 2, 'h': 8, 'i': 10, 'n': 13, 'g': 2, 's': 11, 'c': 8, 'u': 6, 'r': 8, 'e': 19, 'd': 3, 'y': 4, 'w': 8, \"'\": 4, 'v': 2, 'm': 6, 'b': 2}\n",
      "{'\\n': 8, 'a': 12, ' ': 36, 'l': 5, 'o': 16, 't': 18, 'f': 2, 'h': 8, 'i': 10, 'n': 13, 'g': 2, 's': 11, 'c': 8, 'u': 6, 'r': 8, 'e': 19, 'd': 3, 'y': 4, 'w': 8, \"'\": 5, 'v': 2, 'm': 6, 'b': 2}\n",
      "{'\\n': 8, 'a': 12, ' ': 36, 'l': 5, 'o': 16, 't': 18, 'f': 2, 'h': 8, 'i': 10, 'n': 13, 'g': 2, 's': 11, 'c': 8, 'u': 6, 'r': 9, 'e': 19, 'd': 3, 'y': 4, 'w': 8, \"'\": 5, 'v': 2, 'm': 6, 'b': 2}\n",
      "{'\\n': 8, 'a': 12, ' ': 36, 'l': 5, 'o': 16, 't': 18, 'f': 2, 'h': 8, 'i': 10, 'n': 13, 'g': 2, 's': 11, 'c': 8, 'u': 6, 'r': 9, 'e': 20, 'd': 3, 'y': 4, 'w': 8, \"'\": 5, 'v': 2, 'm': 6, 'b': 2}\n",
      "{'\\n': 8, 'a': 12, ' ': 37, 'l': 5, 'o': 16, 't': 18, 'f': 2, 'h': 8, 'i': 10, 'n': 13, 'g': 2, 's': 11, 'c': 8, 'u': 6, 'r': 9, 'e': 20, 'd': 3, 'y': 4, 'w': 8, \"'\": 5, 'v': 2, 'm': 6, 'b': 2}\n",
      "{'\\n': 8, 'a': 12, ' ': 37, 'l': 5, 'o': 16, 't': 18, 'f': 2, 'h': 8, 'i': 10, 'n': 13, 'g': 2, 's': 11, 'c': 8, 'u': 6, 'r': 9, 'e': 20, 'd': 3, 'y': 4, 'w': 8, \"'\": 5, 'v': 2, 'm': 6, 'b': 3}\n",
      "{'\\n': 8, 'a': 12, ' ': 37, 'l': 6, 'o': 16, 't': 18, 'f': 2, 'h': 8, 'i': 10, 'n': 13, 'g': 2, 's': 11, 'c': 8, 'u': 6, 'r': 9, 'e': 20, 'd': 3, 'y': 4, 'w': 8, \"'\": 5, 'v': 2, 'm': 6, 'b': 3}\n",
      "{'\\n': 8, 'a': 13, ' ': 37, 'l': 6, 'o': 16, 't': 18, 'f': 2, 'h': 8, 'i': 10, 'n': 13, 'g': 2, 's': 11, 'c': 8, 'u': 6, 'r': 9, 'e': 20, 'd': 3, 'y': 4, 'w': 8, \"'\": 5, 'v': 2, 'm': 6, 'b': 3}\n",
      "{'\\n': 8, 'a': 13, ' ': 37, 'l': 6, 'o': 16, 't': 18, 'f': 2, 'h': 8, 'i': 10, 'n': 13, 'g': 2, 's': 11, 'c': 9, 'u': 6, 'r': 9, 'e': 20, 'd': 3, 'y': 4, 'w': 8, \"'\": 5, 'v': 2, 'm': 6, 'b': 3}\n",
      "{'\\n': 8, 'a': 13, ' ': 38, 'l': 6, 'o': 16, 't': 18, 'f': 2, 'h': 8, 'i': 10, 'n': 13, 'g': 2, 's': 11, 'c': 9, 'u': 6, 'r': 9, 'e': 20, 'd': 3, 'y': 4, 'w': 8, \"'\": 5, 'v': 2, 'm': 6, 'b': 3, 'k': 1}\n",
      "{'\\n': 8, 'a': 13, ' ': 38, 'l': 6, 'o': 17, 't': 18, 'f': 2, 'h': 8, 'i': 10, 'n': 13, 'g': 2, 's': 11, 'c': 9, 'u': 6, 'r': 9, 'e': 20, 'd': 3, 'y': 4, 'w': 8, \"'\": 5, 'v': 2, 'm': 6, 'b': 3, 'k': 1}\n",
      "{'\\n': 8, 'a': 13, ' ': 38, 'l': 6, 'o': 17, 't': 18, 'f': 2, 'h': 8, 'i': 10, 'n': 13, 'g': 2, 's': 11, 'c': 9, 'u': 6, 'r': 10, 'e': 20, 'd': 3, 'y': 4, 'w': 8, \"'\": 5, 'v': 2, 'm': 6, 'b': 3, 'k': 1}\n",
      "{'\\n': 8, 'a': 13, ' ': 39, 'l': 6, 'o': 17, 't': 18, 'f': 2, 'h': 8, 'i': 10, 'n': 13, 'g': 2, 's': 11, 'c': 9, 'u': 6, 'r': 10, 'e': 20, 'd': 3, 'y': 4, 'w': 8, \"'\": 5, 'v': 2, 'm': 6, 'b': 3, 'k': 1}\n",
      "{'\\n': 8, 'a': 13, ' ': 39, 'l': 6, 'o': 17, 't': 18, 'f': 2, 'h': 8, 'i': 10, 'n': 13, 'g': 2, 's': 11, 'c': 9, 'u': 6, 'r': 10, 'e': 20, 'd': 3, 'y': 4, 'w': 9, \"'\": 5, 'v': 2, 'm': 6, 'b': 3, 'k': 1}\n",
      "{'\\n': 8, 'a': 13, ' ': 39, 'l': 6, 'o': 17, 't': 18, 'f': 2, 'h': 9, 'i': 10, 'n': 13, 'g': 2, 's': 11, 'c': 9, 'u': 6, 'r': 10, 'e': 20, 'd': 3, 'y': 4, 'w': 9, \"'\": 5, 'v': 2, 'm': 6, 'b': 3, 'k': 1}\n",
      "{'\\n': 8, 'a': 13, ' ': 39, 'l': 6, 'o': 17, 't': 18, 'f': 2, 'h': 9, 'i': 11, 'n': 13, 'g': 2, 's': 11, 'c': 9, 'u': 6, 'r': 10, 'e': 20, 'd': 3, 'y': 4, 'w': 9, \"'\": 5, 'v': 2, 'm': 6, 'b': 3, 'k': 1}\n",
      "{'\\n': 8, 'a': 13, ' ': 39, 'l': 6, 'o': 17, 't': 19, 'f': 2, 'h': 9, 'i': 11, 'n': 13, 'g': 2, 's': 11, 'c': 9, 'u': 6, 'r': 10, 'e': 20, 'd': 3, 'y': 4, 'w': 9, \"'\": 5, 'v': 2, 'm': 6, 'b': 3, 'k': 1}\n",
      "{'\\n': 8, 'a': 13, ' ': 39, 'l': 6, 'o': 17, 't': 19, 'f': 2, 'h': 9, 'i': 11, 'n': 13, 'g': 2, 's': 11, 'c': 9, 'u': 6, 'r': 10, 'e': 21, 'd': 3, 'y': 4, 'w': 9, \"'\": 5, 'v': 2, 'm': 6, 'b': 3, 'k': 1}\n",
      "{'\\n': 9, 'a': 13, ' ': 39, 'l': 6, 'o': 17, 't': 19, 'f': 2, 'h': 9, 'i': 11, 'n': 13, 'g': 2, 's': 11, 'c': 9, 'u': 6, 'r': 10, 'e': 21, 'd': 3, 'y': 4, 'w': 9, \"'\": 5, 'v': 2, 'm': 6, 'b': 3, 'k': 1}\n",
      "{'\\n': 9, 'a': 13, ' ': 39, 'l': 6, 'o': 17, 't': 19, 'f': 2, 'h': 9, 'i': 11, 'n': 13, 'g': 2, 's': 11, 'c': 9, 'u': 6, 'r': 10, 'e': 21, 'd': 3, 'y': 5, 'w': 9, \"'\": 5, 'v': 2, 'm': 6, 'b': 3, 'k': 1}\n",
      "{'\\n': 9, 'a': 13, ' ': 39, 'l': 6, 'o': 18, 't': 19, 'f': 2, 'h': 9, 'i': 11, 'n': 13, 'g': 2, 's': 11, 'c': 9, 'u': 6, 'r': 10, 'e': 21, 'd': 3, 'y': 5, 'w': 9, \"'\": 5, 'v': 2, 'm': 6, 'b': 3, 'k': 1}\n",
      "{'\\n': 9, 'a': 13, ' ': 39, 'l': 6, 'o': 18, 't': 19, 'f': 2, 'h': 9, 'i': 11, 'n': 13, 'g': 2, 's': 11, 'c': 9, 'u': 7, 'r': 10, 'e': 21, 'd': 3, 'y': 5, 'w': 9, \"'\": 5, 'v': 2, 'm': 6, 'b': 3, 'k': 1}\n",
      "{'\\n': 9, 'a': 13, ' ': 40, 'l': 6, 'o': 18, 't': 19, 'f': 2, 'h': 9, 'i': 11, 'n': 13, 'g': 2, 's': 11, 'c': 9, 'u': 7, 'r': 10, 'e': 21, 'd': 3, 'y': 5, 'w': 9, \"'\": 5, 'v': 2, 'm': 6, 'b': 3, 'k': 1}\n",
      "{'\\n': 9, 'a': 13, ' ': 40, 'l': 6, 'o': 18, 't': 19, 'f': 2, 'h': 9, 'i': 11, 'n': 14, 'g': 2, 's': 11, 'c': 9, 'u': 7, 'r': 10, 'e': 21, 'd': 3, 'y': 5, 'w': 9, \"'\": 5, 'v': 2, 'm': 6, 'b': 3, 'k': 1}\n",
      "{'\\n': 9, 'a': 13, ' ': 40, 'l': 6, 'o': 18, 't': 19, 'f': 2, 'h': 9, 'i': 11, 'n': 14, 'g': 2, 's': 11, 'c': 9, 'u': 7, 'r': 10, 'e': 22, 'd': 3, 'y': 5, 'w': 9, \"'\": 5, 'v': 2, 'm': 6, 'b': 3, 'k': 1}\n",
      "{'\\n': 9, 'a': 13, ' ': 40, 'l': 6, 'o': 18, 't': 19, 'f': 2, 'h': 9, 'i': 11, 'n': 14, 'g': 2, 's': 11, 'c': 9, 'u': 7, 'r': 10, 'e': 22, 'd': 3, 'y': 5, 'w': 9, \"'\": 5, 'v': 3, 'm': 6, 'b': 3, 'k': 1}\n",
      "{'\\n': 9, 'a': 13, ' ': 40, 'l': 6, 'o': 18, 't': 19, 'f': 2, 'h': 9, 'i': 11, 'n': 14, 'g': 2, 's': 11, 'c': 9, 'u': 7, 'r': 10, 'e': 23, 'd': 3, 'y': 5, 'w': 9, \"'\": 5, 'v': 3, 'm': 6, 'b': 3, 'k': 1}\n",
      "{'\\n': 9, 'a': 13, ' ': 40, 'l': 6, 'o': 18, 't': 19, 'f': 2, 'h': 9, 'i': 11, 'n': 14, 'g': 2, 's': 11, 'c': 9, 'u': 7, 'r': 11, 'e': 23, 'd': 3, 'y': 5, 'w': 9, \"'\": 5, 'v': 3, 'm': 6, 'b': 3, 'k': 1}\n",
      "{'\\n': 9, 'a': 13, ' ': 41, 'l': 6, 'o': 18, 't': 19, 'f': 2, 'h': 9, 'i': 11, 'n': 14, 'g': 2, 's': 11, 'c': 9, 'u': 7, 'r': 11, 'e': 23, 'd': 3, 'y': 5, 'w': 9, \"'\": 5, 'v': 3, 'm': 6, 'b': 3, 'k': 1}\n",
      "{'\\n': 9, 'a': 13, ' ': 41, 'l': 6, 'o': 18, 't': 19, 'f': 2, 'h': 9, 'i': 11, 'n': 14, 'g': 2, 's': 11, 'c': 9, 'u': 7, 'r': 11, 'e': 24, 'd': 3, 'y': 5, 'w': 9, \"'\": 5, 'v': 3, 'm': 6, 'b': 3, 'k': 1}\n",
      "{'\\n': 9, 'a': 13, ' ': 41, 'l': 6, 'o': 18, 't': 19, 'f': 2, 'h': 9, 'i': 11, 'n': 14, 'g': 2, 's': 11, 'c': 9, 'u': 7, 'r': 11, 'e': 24, 'd': 3, 'y': 5, 'w': 9, \"'\": 5, 'v': 4, 'm': 6, 'b': 3, 'k': 1}\n",
      "{'\\n': 9, 'a': 13, ' ': 41, 'l': 6, 'o': 18, 't': 19, 'f': 2, 'h': 9, 'i': 11, 'n': 14, 'g': 2, 's': 11, 'c': 9, 'u': 7, 'r': 11, 'e': 25, 'd': 3, 'y': 5, 'w': 9, \"'\": 5, 'v': 4, 'm': 6, 'b': 3, 'k': 1}\n",
      "{'\\n': 9, 'a': 13, ' ': 41, 'l': 6, 'o': 18, 't': 19, 'f': 2, 'h': 9, 'i': 11, 'n': 14, 'g': 2, 's': 11, 'c': 9, 'u': 7, 'r': 12, 'e': 25, 'd': 3, 'y': 5, 'w': 9, \"'\": 5, 'v': 4, 'm': 6, 'b': 3, 'k': 1}\n",
      "{'\\n': 9, 'a': 13, ' ': 42, 'l': 6, 'o': 18, 't': 19, 'f': 2, 'h': 9, 'i': 11, 'n': 14, 'g': 2, 's': 11, 'c': 9, 'u': 7, 'r': 12, 'e': 25, 'd': 3, 'y': 5, 'w': 9, \"'\": 5, 'v': 4, 'm': 6, 'b': 3, 'k': 1}\n",
      "{'\\n': 9, 'a': 13, ' ': 42, 'l': 6, 'o': 18, 't': 19, 'f': 2, 'h': 10, 'i': 11, 'n': 14, 'g': 2, 's': 11, 'c': 9, 'u': 7, 'r': 12, 'e': 25, 'd': 3, 'y': 5, 'w': 9, \"'\": 5, 'v': 4, 'm': 6, 'b': 3, 'k': 1}\n",
      "{'\\n': 9, 'a': 14, ' ': 42, 'l': 6, 'o': 18, 't': 19, 'f': 2, 'h': 10, 'i': 11, 'n': 14, 'g': 2, 's': 11, 'c': 9, 'u': 7, 'r': 12, 'e': 25, 'd': 3, 'y': 5, 'w': 9, \"'\": 5, 'v': 4, 'm': 6, 'b': 3, 'k': 1}\n",
      "{'\\n': 9, 'a': 14, ' ': 42, 'l': 6, 'o': 18, 't': 19, 'f': 2, 'h': 10, 'i': 11, 'n': 14, 'g': 2, 's': 11, 'c': 9, 'u': 7, 'r': 12, 'e': 25, 'd': 4, 'y': 5, 'w': 9, \"'\": 5, 'v': 4, 'm': 6, 'b': 3, 'k': 1}\n",
      "{'\\n': 9, 'a': 14, ' ': 43, 'l': 6, 'o': 18, 't': 19, 'f': 2, 'h': 10, 'i': 11, 'n': 14, 'g': 2, 's': 11, 'c': 9, 'u': 7, 'r': 12, 'e': 25, 'd': 4, 'y': 5, 'w': 9, \"'\": 5, 'v': 4, 'm': 6, 'b': 3, 'k': 1}\n",
      "{'\\n': 9, 'a': 15, ' ': 43, 'l': 6, 'o': 18, 't': 19, 'f': 2, 'h': 10, 'i': 11, 'n': 14, 'g': 2, 's': 11, 'c': 9, 'u': 7, 'r': 12, 'e': 25, 'd': 4, 'y': 5, 'w': 9, \"'\": 5, 'v': 4, 'm': 6, 'b': 3, 'k': 1}\n",
      "{'\\n': 9, 'a': 15, ' ': 44, 'l': 6, 'o': 18, 't': 19, 'f': 2, 'h': 10, 'i': 11, 'n': 14, 'g': 2, 's': 11, 'c': 9, 'u': 7, 'r': 12, 'e': 25, 'd': 4, 'y': 5, 'w': 9, \"'\": 5, 'v': 4, 'm': 6, 'b': 3, 'k': 1}\n",
      "{'\\n': 9, 'a': 15, ' ': 44, 'l': 6, 'o': 18, 't': 19, 'f': 2, 'h': 10, 'i': 11, 'n': 14, 'g': 2, 's': 11, 'c': 9, 'u': 7, 'r': 13, 'e': 25, 'd': 4, 'y': 5, 'w': 9, \"'\": 5, 'v': 4, 'm': 6, 'b': 3, 'k': 1}\n",
      "{'\\n': 9, 'a': 15, ' ': 44, 'l': 6, 'o': 18, 't': 19, 'f': 2, 'h': 10, 'i': 12, 'n': 14, 'g': 2, 's': 11, 'c': 9, 'u': 7, 'r': 13, 'e': 25, 'd': 4, 'y': 5, 'w': 9, \"'\": 5, 'v': 4, 'm': 6, 'b': 3, 'k': 1}\n",
      "{'\\n': 9, 'a': 15, ' ': 44, 'l': 6, 'o': 18, 't': 19, 'f': 2, 'h': 10, 'i': 12, 'n': 14, 'g': 3, 's': 11, 'c': 9, 'u': 7, 'r': 13, 'e': 25, 'd': 4, 'y': 5, 'w': 9, \"'\": 5, 'v': 4, 'm': 6, 'b': 3, 'k': 1}\n",
      "{'\\n': 9, 'a': 15, ' ': 44, 'l': 6, 'o': 18, 't': 19, 'f': 2, 'h': 11, 'i': 12, 'n': 14, 'g': 3, 's': 11, 'c': 9, 'u': 7, 'r': 13, 'e': 25, 'd': 4, 'y': 5, 'w': 9, \"'\": 5, 'v': 4, 'm': 6, 'b': 3, 'k': 1}\n",
      "{'\\n': 9, 'a': 15, ' ': 44, 'l': 6, 'o': 18, 't': 20, 'f': 2, 'h': 11, 'i': 12, 'n': 14, 'g': 3, 's': 11, 'c': 9, 'u': 7, 'r': 13, 'e': 25, 'd': 4, 'y': 5, 'w': 9, \"'\": 5, 'v': 4, 'm': 6, 'b': 3, 'k': 1}\n",
      "{'\\n': 10, 'a': 15, ' ': 44, 'l': 6, 'o': 18, 't': 20, 'f': 2, 'h': 11, 'i': 12, 'n': 14, 'g': 3, 's': 11, 'c': 9, 'u': 7, 'r': 13, 'e': 25, 'd': 4, 'y': 5, 'w': 9, \"'\": 5, 'v': 4, 'm': 6, 'b': 3, 'k': 1}\n",
      "{'\\n': 11, 'a': 15, ' ': 44, 'l': 6, 'o': 18, 't': 20, 'f': 2, 'h': 11, 'i': 12, 'n': 14, 'g': 3, 's': 11, 'c': 9, 'u': 7, 'r': 13, 'e': 25, 'd': 4, 'y': 5, 'w': 9, \"'\": 5, 'v': 4, 'm': 6, 'b': 3, 'k': 1}\n",
      "{'\\n': 11, 'a': 16, ' ': 44, 'l': 6, 'o': 18, 't': 20, 'f': 2, 'h': 11, 'i': 12, 'n': 14, 'g': 3, 's': 11, 'c': 9, 'u': 7, 'r': 13, 'e': 25, 'd': 4, 'y': 5, 'w': 9, \"'\": 5, 'v': 4, 'm': 6, 'b': 3, 'k': 1}\n",
      "{'\\n': 11, 'a': 16, ' ': 44, 'l': 6, 'o': 18, 't': 20, 'f': 2, 'h': 11, 'i': 12, 'n': 15, 'g': 3, 's': 11, 'c': 9, 'u': 7, 'r': 13, 'e': 25, 'd': 4, 'y': 5, 'w': 9, \"'\": 5, 'v': 4, 'm': 6, 'b': 3, 'k': 1}\n",
      "{'\\n': 11, 'a': 16, ' ': 44, 'l': 6, 'o': 18, 't': 20, 'f': 2, 'h': 11, 'i': 12, 'n': 15, 'g': 3, 's': 11, 'c': 9, 'u': 7, 'r': 13, 'e': 25, 'd': 5, 'y': 5, 'w': 9, \"'\": 5, 'v': 4, 'm': 6, 'b': 3, 'k': 1}\n",
      "{'\\n': 11, 'a': 16, ' ': 45, 'l': 6, 'o': 18, 't': 20, 'f': 2, 'h': 11, 'i': 12, 'n': 15, 'g': 3, 's': 11, 'c': 9, 'u': 7, 'r': 13, 'e': 25, 'd': 5, 'y': 5, 'w': 9, \"'\": 5, 'v': 4, 'm': 6, 'b': 3, 'k': 1}\n",
      "{'\\n': 11, 'a': 16, ' ': 45, 'l': 7, 'o': 18, 't': 20, 'f': 2, 'h': 11, 'i': 12, 'n': 15, 'g': 3, 's': 11, 'c': 9, 'u': 7, 'r': 13, 'e': 25, 'd': 5, 'y': 5, 'w': 9, \"'\": 5, 'v': 4, 'm': 6, 'b': 3, 'k': 1}\n",
      "{'\\n': 11, 'a': 16, ' ': 45, 'l': 7, 'o': 19, 't': 20, 'f': 2, 'h': 11, 'i': 12, 'n': 15, 'g': 3, 's': 11, 'c': 9, 'u': 7, 'r': 13, 'e': 25, 'd': 5, 'y': 5, 'w': 9, \"'\": 5, 'v': 4, 'm': 6, 'b': 3, 'k': 1}\n",
      "{'\\n': 11, 'a': 16, ' ': 45, 'l': 7, 'o': 20, 't': 20, 'f': 2, 'h': 11, 'i': 12, 'n': 15, 'g': 3, 's': 11, 'c': 9, 'u': 7, 'r': 13, 'e': 25, 'd': 5, 'y': 5, 'w': 9, \"'\": 5, 'v': 4, 'm': 6, 'b': 3, 'k': 1}\n",
      "{'\\n': 11, 'a': 16, ' ': 45, 'l': 7, 'o': 20, 't': 20, 'f': 2, 'h': 11, 'i': 12, 'n': 15, 'g': 3, 's': 11, 'c': 9, 'u': 7, 'r': 13, 'e': 25, 'd': 5, 'y': 5, 'w': 9, \"'\": 5, 'v': 4, 'm': 6, 'b': 3, 'k': 2}\n",
      "{'\\n': 11, 'a': 16, ' ': 46, 'l': 7, 'o': 20, 't': 20, 'f': 2, 'h': 11, 'i': 12, 'n': 15, 'g': 3, 's': 11, 'c': 9, 'u': 7, 'r': 13, 'e': 25, 'd': 5, 'y': 5, 'w': 9, \"'\": 5, 'v': 4, 'm': 6, 'b': 3, 'k': 2}\n",
      "{'\\n': 11, 'a': 16, ' ': 46, 'l': 7, 'o': 20, 't': 20, 'f': 2, 'h': 11, 'i': 12, 'n': 15, 'g': 3, 's': 11, 'c': 9, 'u': 8, 'r': 13, 'e': 25, 'd': 5, 'y': 5, 'w': 9, \"'\": 5, 'v': 4, 'm': 6, 'b': 3, 'k': 2}\n",
      "{'\\n': 11, 'a': 16, ' ': 47, 'l': 7, 'o': 20, 't': 20, 'f': 2, 'h': 11, 'i': 12, 'n': 15, 'g': 3, 's': 11, 'c': 9, 'u': 8, 'r': 13, 'e': 25, 'd': 5, 'y': 5, 'w': 9, \"'\": 5, 'v': 4, 'm': 6, 'b': 3, 'k': 2, 'p': 1}\n",
      "{'\\n': 11, 'a': 16, ' ': 47, 'l': 7, 'o': 20, 't': 21, 'f': 2, 'h': 11, 'i': 12, 'n': 15, 'g': 3, 's': 11, 'c': 9, 'u': 8, 'r': 13, 'e': 25, 'd': 5, 'y': 5, 'w': 9, \"'\": 5, 'v': 4, 'm': 6, 'b': 3, 'k': 2, 'p': 1}\n",
      "{'\\n': 11, 'a': 16, ' ': 47, 'l': 7, 'o': 21, 't': 21, 'f': 2, 'h': 11, 'i': 12, 'n': 15, 'g': 3, 's': 11, 'c': 9, 'u': 8, 'r': 13, 'e': 25, 'd': 5, 'y': 5, 'w': 9, \"'\": 5, 'v': 4, 'm': 6, 'b': 3, 'k': 2, 'p': 1}\n",
      "{'\\n': 11, 'a': 16, ' ': 48, 'l': 7, 'o': 21, 't': 21, 'f': 2, 'h': 11, 'i': 12, 'n': 15, 'g': 3, 's': 11, 'c': 9, 'u': 8, 'r': 13, 'e': 25, 'd': 5, 'y': 5, 'w': 9, \"'\": 5, 'v': 4, 'm': 6, 'b': 3, 'k': 2, 'p': 1}\n",
      "{'\\n': 11, 'a': 16, ' ': 48, 'l': 7, 'o': 21, 't': 22, 'f': 2, 'h': 11, 'i': 12, 'n': 15, 'g': 3, 's': 11, 'c': 9, 'u': 8, 'r': 13, 'e': 25, 'd': 5, 'y': 5, 'w': 9, \"'\": 5, 'v': 4, 'm': 6, 'b': 3, 'k': 2, 'p': 1}\n",
      "{'\\n': 11, 'a': 16, ' ': 48, 'l': 7, 'o': 21, 't': 22, 'f': 2, 'h': 12, 'i': 12, 'n': 15, 'g': 3, 's': 11, 'c': 9, 'u': 8, 'r': 13, 'e': 25, 'd': 5, 'y': 5, 'w': 9, \"'\": 5, 'v': 4, 'm': 6, 'b': 3, 'k': 2, 'p': 1}\n",
      "{'\\n': 11, 'a': 16, ' ': 48, 'l': 7, 'o': 21, 't': 22, 'f': 2, 'h': 12, 'i': 12, 'n': 15, 'g': 3, 's': 11, 'c': 9, 'u': 8, 'r': 13, 'e': 26, 'd': 5, 'y': 5, 'w': 9, \"'\": 5, 'v': 4, 'm': 6, 'b': 3, 'k': 2, 'p': 1}\n",
      "{'\\n': 11, 'a': 16, ' ': 49, 'l': 7, 'o': 21, 't': 22, 'f': 2, 'h': 12, 'i': 12, 'n': 15, 'g': 3, 's': 11, 'c': 9, 'u': 8, 'r': 13, 'e': 26, 'd': 5, 'y': 5, 'w': 9, \"'\": 5, 'v': 4, 'm': 6, 'b': 3, 'k': 2, 'p': 1}\n",
      "{'\\n': 11, 'a': 16, ' ': 49, 'l': 7, 'o': 21, 't': 22, 'f': 2, 'h': 12, 'i': 12, 'n': 15, 'g': 3, 's': 11, 'c': 9, 'u': 8, 'r': 13, 'e': 27, 'd': 5, 'y': 5, 'w': 9, \"'\": 5, 'v': 4, 'm': 6, 'b': 3, 'k': 2, 'p': 1}\n",
      "{'\\n': 11, 'a': 16, ' ': 49, 'l': 7, 'o': 21, 't': 23, 'f': 2, 'h': 12, 'i': 12, 'n': 15, 'g': 3, 's': 11, 'c': 9, 'u': 8, 'r': 13, 'e': 27, 'd': 5, 'y': 5, 'w': 9, \"'\": 5, 'v': 4, 'm': 6, 'b': 3, 'k': 2, 'p': 1}\n",
      "{'\\n': 11, 'a': 16, ' ': 49, 'l': 7, 'o': 21, 't': 23, 'f': 2, 'h': 12, 'i': 12, 'n': 15, 'g': 3, 's': 11, 'c': 9, 'u': 8, 'r': 13, 'e': 28, 'd': 5, 'y': 5, 'w': 9, \"'\": 5, 'v': 4, 'm': 6, 'b': 3, 'k': 2, 'p': 1}\n",
      "{'\\n': 11, 'a': 16, ' ': 49, 'l': 7, 'o': 21, 't': 23, 'f': 2, 'h': 12, 'i': 12, 'n': 15, 'g': 3, 's': 11, 'c': 9, 'u': 8, 'r': 14, 'e': 28, 'd': 5, 'y': 5, 'w': 9, \"'\": 5, 'v': 4, 'm': 6, 'b': 3, 'k': 2, 'p': 1}\n",
      "{'\\n': 11, 'a': 16, ' ': 49, 'l': 7, 'o': 21, 't': 23, 'f': 2, 'h': 12, 'i': 12, 'n': 16, 'g': 3, 's': 11, 'c': 9, 'u': 8, 'r': 14, 'e': 28, 'd': 5, 'y': 5, 'w': 9, \"'\": 5, 'v': 4, 'm': 6, 'b': 3, 'k': 2, 'p': 1}\n",
      "{'\\n': 11, 'a': 17, ' ': 49, 'l': 7, 'o': 21, 't': 23, 'f': 2, 'h': 12, 'i': 12, 'n': 16, 'g': 3, 's': 11, 'c': 9, 'u': 8, 'r': 14, 'e': 28, 'd': 5, 'y': 5, 'w': 9, \"'\": 5, 'v': 4, 'm': 6, 'b': 3, 'k': 2, 'p': 1}\n",
      "{'\\n': 11, 'a': 17, ' ': 49, 'l': 8, 'o': 21, 't': 23, 'f': 2, 'h': 12, 'i': 12, 'n': 16, 'g': 3, 's': 11, 'c': 9, 'u': 8, 'r': 14, 'e': 28, 'd': 5, 'y': 5, 'w': 9, \"'\": 5, 'v': 4, 'm': 6, 'b': 3, 'k': 2, 'p': 1}\n",
      "{'\\n': 11, 'a': 17, ' ': 50, 'l': 8, 'o': 21, 't': 23, 'f': 2, 'h': 12, 'i': 12, 'n': 16, 'g': 3, 's': 11, 'c': 9, 'u': 8, 'r': 14, 'e': 28, 'd': 5, 'y': 5, 'w': 9, \"'\": 5, 'v': 4, 'm': 6, 'b': 3, 'k': 2, 'p': 1}\n",
      "{'\\n': 11, 'a': 17, ' ': 50, 'l': 8, 'o': 21, 't': 23, 'f': 2, 'h': 12, 'i': 12, 'n': 16, 'g': 3, 's': 12, 'c': 9, 'u': 8, 'r': 14, 'e': 28, 'd': 5, 'y': 5, 'w': 9, \"'\": 5, 'v': 4, 'm': 6, 'b': 3, 'k': 2, 'p': 1}\n",
      "{'\\n': 11, 'a': 17, ' ': 50, 'l': 8, 'o': 21, 't': 23, 'f': 2, 'h': 12, 'i': 12, 'n': 16, 'g': 3, 's': 12, 'c': 9, 'u': 8, 'r': 14, 'e': 28, 'd': 5, 'y': 5, 'w': 9, \"'\": 5, 'v': 4, 'm': 6, 'b': 3, 'k': 3, 'p': 1}\n",
      "{'\\n': 11, 'a': 17, ' ': 50, 'l': 8, 'o': 21, 't': 23, 'f': 2, 'h': 12, 'i': 13, 'n': 16, 'g': 3, 's': 12, 'c': 9, 'u': 8, 'r': 14, 'e': 28, 'd': 5, 'y': 5, 'w': 9, \"'\": 5, 'v': 4, 'm': 6, 'b': 3, 'k': 3, 'p': 1}\n",
      "{'\\n': 11, 'a': 17, ' ': 50, 'l': 8, 'o': 21, 't': 23, 'f': 2, 'h': 12, 'i': 13, 'n': 16, 'g': 3, 's': 12, 'c': 9, 'u': 8, 'r': 14, 'e': 29, 'd': 5, 'y': 5, 'w': 9, \"'\": 5, 'v': 4, 'm': 6, 'b': 3, 'k': 3, 'p': 1}\n",
      "{'\\n': 11, 'a': 17, ' ': 50, 'l': 8, 'o': 21, 't': 23, 'f': 2, 'h': 12, 'i': 13, 'n': 16, 'g': 3, 's': 13, 'c': 9, 'u': 8, 'r': 14, 'e': 29, 'd': 5, 'y': 5, 'w': 9, \"'\": 5, 'v': 4, 'm': 6, 'b': 3, 'k': 3, 'p': 1}\n",
      "{'\\n': 12, 'a': 17, ' ': 50, 'l': 8, 'o': 21, 't': 23, 'f': 2, 'h': 12, 'i': 13, 'n': 16, 'g': 3, 's': 13, 'c': 9, 'u': 8, 'r': 14, 'e': 29, 'd': 5, 'y': 5, 'w': 9, \"'\": 5, 'v': 4, 'm': 6, 'b': 3, 'k': 3, 'p': 1}\n",
      "{'\\n': 12, 'a': 17, ' ': 50, 'l': 8, 'o': 21, 't': 23, 'f': 2, 'h': 12, 'i': 13, 'n': 16, 'g': 3, 's': 14, 'c': 9, 'u': 8, 'r': 14, 'e': 29, 'd': 5, 'y': 5, 'w': 9, \"'\": 5, 'v': 4, 'm': 6, 'b': 3, 'k': 3, 'p': 1}\n",
      "{'\\n': 12, 'a': 17, ' ': 50, 'l': 8, 'o': 21, 't': 23, 'f': 2, 'h': 12, 'i': 13, 'n': 16, 'g': 3, 's': 14, 'c': 9, 'u': 8, 'r': 14, 'e': 30, 'd': 5, 'y': 5, 'w': 9, \"'\": 5, 'v': 4, 'm': 6, 'b': 3, 'k': 3, 'p': 1}\n",
      "{'\\n': 12, 'a': 17, ' ': 50, 'l': 8, 'o': 21, 't': 23, 'f': 2, 'h': 12, 'i': 13, 'n': 16, 'g': 3, 's': 14, 'c': 9, 'u': 8, 'r': 14, 'e': 31, 'd': 5, 'y': 5, 'w': 9, \"'\": 5, 'v': 4, 'm': 6, 'b': 3, 'k': 3, 'p': 1}\n",
      "{'\\n': 12, 'a': 17, ' ': 51, 'l': 8, 'o': 21, 't': 23, 'f': 2, 'h': 12, 'i': 13, 'n': 16, 'g': 3, 's': 14, 'c': 9, 'u': 8, 'r': 14, 'e': 31, 'd': 5, 'y': 5, 'w': 9, \"'\": 5, 'v': 4, 'm': 6, 'b': 3, 'k': 3, 'p': 1}\n",
      "{'\\n': 12, 'a': 17, ' ': 51, 'l': 8, 'o': 21, 't': 23, 'f': 2, 'h': 12, 'i': 13, 'n': 16, 'g': 3, 's': 14, 'c': 9, 'u': 8, 'r': 14, 'e': 31, 'd': 5, 'y': 5, 'w': 10, \"'\": 5, 'v': 4, 'm': 6, 'b': 3, 'k': 3, 'p': 1}\n",
      "{'\\n': 12, 'a': 18, ' ': 51, 'l': 8, 'o': 21, 't': 23, 'f': 2, 'h': 12, 'i': 13, 'n': 16, 'g': 3, 's': 14, 'c': 9, 'u': 8, 'r': 14, 'e': 31, 'd': 5, 'y': 5, 'w': 10, \"'\": 5, 'v': 4, 'm': 6, 'b': 3, 'k': 3, 'p': 1}\n",
      "{'\\n': 12, 'a': 18, ' ': 51, 'l': 8, 'o': 21, 't': 23, 'f': 2, 'h': 12, 'i': 13, 'n': 16, 'g': 3, 's': 14, 'c': 9, 'u': 8, 'r': 15, 'e': 31, 'd': 5, 'y': 5, 'w': 10, \"'\": 5, 'v': 4, 'm': 6, 'b': 3, 'k': 3, 'p': 1}\n",
      "{'\\n': 12, 'a': 18, ' ': 51, 'l': 8, 'o': 21, 't': 23, 'f': 3, 'h': 12, 'i': 13, 'n': 16, 'g': 3, 's': 14, 'c': 9, 'u': 8, 'r': 15, 'e': 31, 'd': 5, 'y': 5, 'w': 10, \"'\": 5, 'v': 4, 'm': 6, 'b': 3, 'k': 3, 'p': 1}\n",
      "{'\\n': 12, 'a': 19, ' ': 51, 'l': 8, 'o': 21, 't': 23, 'f': 3, 'h': 12, 'i': 13, 'n': 16, 'g': 3, 's': 14, 'c': 9, 'u': 8, 'r': 15, 'e': 31, 'd': 5, 'y': 5, 'w': 10, \"'\": 5, 'v': 4, 'm': 6, 'b': 3, 'k': 3, 'p': 1}\n",
      "{'\\n': 12, 'a': 19, ' ': 51, 'l': 8, 'o': 21, 't': 23, 'f': 3, 'h': 12, 'i': 13, 'n': 16, 'g': 3, 's': 14, 'c': 9, 'u': 8, 'r': 16, 'e': 31, 'd': 5, 'y': 5, 'w': 10, \"'\": 5, 'v': 4, 'm': 6, 'b': 3, 'k': 3, 'p': 1}\n",
      "{'\\n': 12, 'a': 19, ' ': 51, 'l': 8, 'o': 21, 't': 23, 'f': 3, 'h': 12, 'i': 13, 'n': 16, 'g': 3, 's': 14, 'c': 9, 'u': 8, 'r': 16, 'e': 32, 'd': 5, 'y': 5, 'w': 10, \"'\": 5, 'v': 4, 'm': 6, 'b': 3, 'k': 3, 'p': 1}\n",
      "{'\\n': 12, 'a': 19, ' ': 52, 'l': 8, 'o': 21, 't': 23, 'f': 3, 'h': 12, 'i': 13, 'n': 16, 'g': 3, 's': 14, 'c': 9, 'u': 8, 'r': 16, 'e': 32, 'd': 5, 'y': 5, 'w': 10, \"'\": 5, 'v': 4, 'm': 6, 'b': 3, 'k': 3, 'p': 1}\n",
      "{'\\n': 12, 'a': 19, ' ': 52, 'l': 8, 'o': 21, 't': 23, 'f': 3, 'h': 12, 'i': 13, 'n': 16, 'g': 3, 's': 14, 'c': 9, 'u': 8, 'r': 16, 'e': 33, 'd': 5, 'y': 5, 'w': 10, \"'\": 5, 'v': 4, 'm': 6, 'b': 3, 'k': 3, 'p': 1}\n",
      "{'\\n': 12, 'a': 19, ' ': 52, 'l': 8, 'o': 21, 't': 23, 'f': 3, 'h': 12, 'i': 13, 'n': 16, 'g': 3, 's': 14, 'c': 9, 'u': 8, 'r': 16, 'e': 33, 'd': 5, 'y': 5, 'w': 10, \"'\": 5, 'v': 5, 'm': 6, 'b': 3, 'k': 3, 'p': 1}\n",
      "{'\\n': 12, 'a': 19, ' ': 52, 'l': 8, 'o': 21, 't': 23, 'f': 3, 'h': 12, 'i': 13, 'n': 16, 'g': 3, 's': 14, 'c': 9, 'u': 8, 'r': 16, 'e': 34, 'd': 5, 'y': 5, 'w': 10, \"'\": 5, 'v': 5, 'm': 6, 'b': 3, 'k': 3, 'p': 1}\n",
      "{'\\n': 12, 'a': 19, ' ': 52, 'l': 8, 'o': 21, 't': 23, 'f': 3, 'h': 12, 'i': 13, 'n': 17, 'g': 3, 's': 14, 'c': 9, 'u': 8, 'r': 16, 'e': 34, 'd': 5, 'y': 5, 'w': 10, \"'\": 5, 'v': 5, 'm': 6, 'b': 3, 'k': 3, 'p': 1}\n",
      "{'\\n': 12, 'a': 19, ' ': 53, 'l': 8, 'o': 21, 't': 23, 'f': 3, 'h': 12, 'i': 13, 'n': 17, 'g': 3, 's': 14, 'c': 9, 'u': 8, 'r': 16, 'e': 34, 'd': 5, 'y': 5, 'w': 10, \"'\": 5, 'v': 5, 'm': 6, 'b': 3, 'k': 3, 'p': 1}\n",
      "{'\\n': 12, 'a': 19, ' ': 53, 'l': 8, 'o': 21, 't': 24, 'f': 3, 'h': 12, 'i': 13, 'n': 17, 'g': 3, 's': 14, 'c': 9, 'u': 8, 'r': 16, 'e': 34, 'd': 5, 'y': 5, 'w': 10, \"'\": 5, 'v': 5, 'm': 6, 'b': 3, 'k': 3, 'p': 1}\n",
      "{'\\n': 12, 'a': 19, ' ': 53, 'l': 8, 'o': 21, 't': 24, 'f': 3, 'h': 13, 'i': 13, 'n': 17, 'g': 3, 's': 14, 'c': 9, 'u': 8, 'r': 16, 'e': 34, 'd': 5, 'y': 5, 'w': 10, \"'\": 5, 'v': 5, 'm': 6, 'b': 3, 'k': 3, 'p': 1}\n",
      "{'\\n': 12, 'a': 19, ' ': 53, 'l': 8, 'o': 21, 't': 24, 'f': 3, 'h': 13, 'i': 13, 'n': 17, 'g': 3, 's': 14, 'c': 9, 'u': 8, 'r': 16, 'e': 35, 'd': 5, 'y': 5, 'w': 10, \"'\": 5, 'v': 5, 'm': 6, 'b': 3, 'k': 3, 'p': 1}\n",
      "{'\\n': 12, 'a': 19, ' ': 53, 'l': 8, 'o': 21, 't': 24, 'f': 3, 'h': 13, 'i': 13, 'n': 17, 'g': 3, 's': 14, 'c': 9, 'u': 8, 'r': 17, 'e': 35, 'd': 5, 'y': 5, 'w': 10, \"'\": 5, 'v': 5, 'm': 6, 'b': 3, 'k': 3, 'p': 1}\n",
      "{'\\n': 12, 'a': 19, ' ': 53, 'l': 8, 'o': 21, 't': 24, 'f': 3, 'h': 13, 'i': 13, 'n': 17, 'g': 3, 's': 14, 'c': 9, 'u': 8, 'r': 17, 'e': 36, 'd': 5, 'y': 5, 'w': 10, \"'\": 5, 'v': 5, 'm': 6, 'b': 3, 'k': 3, 'p': 1}\n",
      "{'\\n': 13, 'a': 19, ' ': 53, 'l': 8, 'o': 21, 't': 24, 'f': 3, 'h': 13, 'i': 13, 'n': 17, 'g': 3, 's': 14, 'c': 9, 'u': 8, 'r': 17, 'e': 36, 'd': 5, 'y': 5, 'w': 10, \"'\": 5, 'v': 5, 'm': 6, 'b': 3, 'k': 3, 'p': 1}\n",
      "{'\\n': 13, 'a': 19, ' ': 53, 'l': 8, 'o': 21, 't': 24, 'f': 3, 'h': 13, 'i': 13, 'n': 17, 'g': 3, 's': 14, 'c': 9, 'u': 8, 'r': 17, 'e': 36, 'd': 5, 'y': 5, 'w': 11, \"'\": 5, 'v': 5, 'm': 6, 'b': 3, 'k': 3, 'p': 1}\n",
      "{'\\n': 13, 'a': 19, ' ': 53, 'l': 8, 'o': 21, 't': 24, 'f': 3, 'h': 14, 'i': 13, 'n': 17, 'g': 3, 's': 14, 'c': 9, 'u': 8, 'r': 17, 'e': 36, 'd': 5, 'y': 5, 'w': 11, \"'\": 5, 'v': 5, 'm': 6, 'b': 3, 'k': 3, 'p': 1}\n",
      "{'\\n': 13, 'a': 20, ' ': 53, 'l': 8, 'o': 21, 't': 24, 'f': 3, 'h': 14, 'i': 13, 'n': 17, 'g': 3, 's': 14, 'c': 9, 'u': 8, 'r': 17, 'e': 36, 'd': 5, 'y': 5, 'w': 11, \"'\": 5, 'v': 5, 'm': 6, 'b': 3, 'k': 3, 'p': 1}\n",
      "{'\\n': 13, 'a': 20, ' ': 53, 'l': 8, 'o': 21, 't': 25, 'f': 3, 'h': 14, 'i': 13, 'n': 17, 'g': 3, 's': 14, 'c': 9, 'u': 8, 'r': 17, 'e': 36, 'd': 5, 'y': 5, 'w': 11, \"'\": 5, 'v': 5, 'm': 6, 'b': 3, 'k': 3, 'p': 1}\n",
      "{'\\n': 13, 'a': 20, ' ': 54, 'l': 8, 'o': 21, 't': 25, 'f': 3, 'h': 14, 'i': 13, 'n': 17, 'g': 3, 's': 14, 'c': 9, 'u': 8, 'r': 17, 'e': 36, 'd': 5, 'y': 5, 'w': 11, \"'\": 5, 'v': 5, 'm': 6, 'b': 3, 'k': 3, 'p': 1}\n",
      "{'\\n': 13, 'a': 20, ' ': 54, 'l': 8, 'o': 22, 't': 25, 'f': 3, 'h': 14, 'i': 13, 'n': 17, 'g': 3, 's': 14, 'c': 9, 'u': 8, 'r': 17, 'e': 36, 'd': 5, 'y': 5, 'w': 11, \"'\": 5, 'v': 5, 'm': 6, 'b': 3, 'k': 3, 'p': 1}\n",
      "{'\\n': 13, 'a': 20, ' ': 54, 'l': 8, 'o': 22, 't': 25, 'f': 3, 'h': 14, 'i': 13, 'n': 18, 'g': 3, 's': 14, 'c': 9, 'u': 8, 'r': 17, 'e': 36, 'd': 5, 'y': 5, 'w': 11, \"'\": 5, 'v': 5, 'm': 6, 'b': 3, 'k': 3, 'p': 1}\n",
      "{'\\n': 13, 'a': 20, ' ': 54, 'l': 8, 'o': 22, 't': 25, 'f': 3, 'h': 14, 'i': 13, 'n': 18, 'g': 3, 's': 14, 'c': 10, 'u': 8, 'r': 17, 'e': 36, 'd': 5, 'y': 5, 'w': 11, \"'\": 5, 'v': 5, 'm': 6, 'b': 3, 'k': 3, 'p': 1}\n",
      "{'\\n': 13, 'a': 20, ' ': 54, 'l': 8, 'o': 22, 't': 25, 'f': 3, 'h': 14, 'i': 13, 'n': 18, 'g': 3, 's': 14, 'c': 10, 'u': 8, 'r': 17, 'e': 37, 'd': 5, 'y': 5, 'w': 11, \"'\": 5, 'v': 5, 'm': 6, 'b': 3, 'k': 3, 'p': 1}\n",
      "{'\\n': 13, 'a': 20, ' ': 55, 'l': 8, 'o': 22, 't': 25, 'f': 3, 'h': 14, 'i': 13, 'n': 18, 'g': 3, 's': 14, 'c': 10, 'u': 8, 'r': 17, 'e': 37, 'd': 5, 'y': 5, 'w': 11, \"'\": 5, 'v': 5, 'm': 6, 'b': 3, 'k': 3, 'p': 1}\n",
      "{'\\n': 13, 'a': 20, ' ': 55, 'l': 8, 'o': 22, 't': 25, 'f': 3, 'h': 15, 'i': 13, 'n': 18, 'g': 3, 's': 14, 'c': 10, 'u': 8, 'r': 17, 'e': 37, 'd': 5, 'y': 5, 'w': 11, \"'\": 5, 'v': 5, 'm': 6, 'b': 3, 'k': 3, 'p': 1}\n",
      "{'\\n': 13, 'a': 21, ' ': 55, 'l': 8, 'o': 22, 't': 25, 'f': 3, 'h': 15, 'i': 13, 'n': 18, 'g': 3, 's': 14, 'c': 10, 'u': 8, 'r': 17, 'e': 37, 'd': 5, 'y': 5, 'w': 11, \"'\": 5, 'v': 5, 'm': 6, 'b': 3, 'k': 3, 'p': 1}\n",
      "{'\\n': 13, 'a': 21, ' ': 55, 'l': 8, 'o': 22, 't': 25, 'f': 3, 'h': 15, 'i': 13, 'n': 18, 'g': 3, 's': 15, 'c': 10, 'u': 8, 'r': 17, 'e': 37, 'd': 5, 'y': 5, 'w': 11, \"'\": 5, 'v': 5, 'm': 6, 'b': 3, 'k': 3, 'p': 1}\n",
      "{'\\n': 13, 'a': 21, ' ': 56, 'l': 8, 'o': 22, 't': 25, 'f': 3, 'h': 15, 'i': 13, 'n': 18, 'g': 3, 's': 15, 'c': 10, 'u': 8, 'r': 17, 'e': 37, 'd': 5, 'y': 5, 'w': 11, \"'\": 5, 'v': 5, 'm': 6, 'b': 3, 'k': 3, 'p': 1}\n",
      "{'\\n': 13, 'a': 21, ' ': 56, 'l': 8, 'o': 22, 't': 25, 'f': 3, 'h': 15, 'i': 13, 'n': 18, 'g': 3, 's': 15, 'c': 10, 'u': 8, 'r': 17, 'e': 37, 'd': 5, 'y': 5, 'w': 11, \"'\": 5, 'v': 5, 'm': 6, 'b': 4, 'k': 3, 'p': 1}\n",
      "{'\\n': 13, 'a': 21, ' ': 56, 'l': 8, 'o': 22, 't': 25, 'f': 3, 'h': 15, 'i': 13, 'n': 18, 'g': 3, 's': 15, 'c': 10, 'u': 8, 'r': 17, 'e': 38, 'd': 5, 'y': 5, 'w': 11, \"'\": 5, 'v': 5, 'm': 6, 'b': 4, 'k': 3, 'p': 1}\n",
      "{'\\n': 13, 'a': 21, ' ': 56, 'l': 8, 'o': 22, 't': 25, 'f': 3, 'h': 15, 'i': 13, 'n': 18, 'g': 3, 's': 15, 'c': 10, 'u': 8, 'r': 17, 'e': 39, 'd': 5, 'y': 5, 'w': 11, \"'\": 5, 'v': 5, 'm': 6, 'b': 4, 'k': 3, 'p': 1}\n",
      "{'\\n': 13, 'a': 21, ' ': 56, 'l': 8, 'o': 22, 't': 25, 'f': 3, 'h': 15, 'i': 13, 'n': 19, 'g': 3, 's': 15, 'c': 10, 'u': 8, 'r': 17, 'e': 39, 'd': 5, 'y': 5, 'w': 11, \"'\": 5, 'v': 5, 'm': 6, 'b': 4, 'k': 3, 'p': 1}\n",
      "{'\\n': 13, 'a': 21, ' ': 57, 'l': 8, 'o': 22, 't': 25, 'f': 3, 'h': 15, 'i': 13, 'n': 19, 'g': 3, 's': 15, 'c': 10, 'u': 8, 'r': 17, 'e': 39, 'd': 5, 'y': 5, 'w': 11, \"'\": 5, 'v': 5, 'm': 6, 'b': 4, 'k': 3, 'p': 1}\n",
      "{'\\n': 13, 'a': 22, ' ': 57, 'l': 8, 'o': 22, 't': 25, 'f': 3, 'h': 15, 'i': 13, 'n': 19, 'g': 3, 's': 15, 'c': 10, 'u': 8, 'r': 17, 'e': 39, 'd': 5, 'y': 5, 'w': 11, \"'\": 5, 'v': 5, 'm': 6, 'b': 4, 'k': 3, 'p': 1}\n",
      "{'\\n': 13, 'a': 22, ' ': 58, 'l': 8, 'o': 22, 't': 25, 'f': 3, 'h': 15, 'i': 13, 'n': 19, 'g': 3, 's': 15, 'c': 10, 'u': 8, 'r': 17, 'e': 39, 'd': 5, 'y': 5, 'w': 11, \"'\": 5, 'v': 5, 'm': 6, 'b': 4, 'k': 3, 'p': 1}\n",
      "{'\\n': 13, 'a': 22, ' ': 58, 'l': 8, 'o': 22, 't': 25, 'f': 3, 'h': 15, 'i': 13, 'n': 19, 'g': 3, 's': 15, 'c': 10, 'u': 8, 'r': 17, 'e': 39, 'd': 5, 'y': 5, 'w': 11, \"'\": 5, 'v': 5, 'm': 6, 'b': 4, 'k': 3, 'p': 2}\n",
      "{'\\n': 13, 'a': 23, ' ': 58, 'l': 8, 'o': 22, 't': 25, 'f': 3, 'h': 15, 'i': 13, 'n': 19, 'g': 3, 's': 15, 'c': 10, 'u': 8, 'r': 17, 'e': 39, 'd': 5, 'y': 5, 'w': 11, \"'\": 5, 'v': 5, 'm': 6, 'b': 4, 'k': 3, 'p': 2}\n",
      "{'\\n': 13, 'a': 23, ' ': 58, 'l': 8, 'o': 22, 't': 25, 'f': 3, 'h': 15, 'i': 13, 'n': 19, 'g': 3, 's': 15, 'c': 10, 'u': 8, 'r': 18, 'e': 39, 'd': 5, 'y': 5, 'w': 11, \"'\": 5, 'v': 5, 'm': 6, 'b': 4, 'k': 3, 'p': 2}\n",
      "{'\\n': 13, 'a': 24, ' ': 58, 'l': 8, 'o': 22, 't': 25, 'f': 3, 'h': 15, 'i': 13, 'n': 19, 'g': 3, 's': 15, 'c': 10, 'u': 8, 'r': 18, 'e': 39, 'd': 5, 'y': 5, 'w': 11, \"'\": 5, 'v': 5, 'm': 6, 'b': 4, 'k': 3, 'p': 2}\n",
      "{'\\n': 13, 'a': 24, ' ': 58, 'l': 8, 'o': 22, 't': 25, 'f': 3, 'h': 15, 'i': 13, 'n': 19, 'g': 3, 's': 15, 'c': 10, 'u': 8, 'r': 18, 'e': 39, 'd': 6, 'y': 5, 'w': 11, \"'\": 5, 'v': 5, 'm': 6, 'b': 4, 'k': 3, 'p': 2}\n",
      "{'\\n': 13, 'a': 24, ' ': 58, 'l': 8, 'o': 22, 't': 25, 'f': 3, 'h': 15, 'i': 14, 'n': 19, 'g': 3, 's': 15, 'c': 10, 'u': 8, 'r': 18, 'e': 39, 'd': 6, 'y': 5, 'w': 11, \"'\": 5, 'v': 5, 'm': 6, 'b': 4, 'k': 3, 'p': 2}\n",
      "{'\\n': 13, 'a': 24, ' ': 58, 'l': 8, 'o': 22, 't': 25, 'f': 3, 'h': 15, 'i': 14, 'n': 19, 'g': 3, 's': 16, 'c': 10, 'u': 8, 'r': 18, 'e': 39, 'd': 6, 'y': 5, 'w': 11, \"'\": 5, 'v': 5, 'm': 6, 'b': 4, 'k': 3, 'p': 2}\n",
      "{'\\n': 13, 'a': 24, ' ': 58, 'l': 8, 'o': 22, 't': 25, 'f': 3, 'h': 15, 'i': 14, 'n': 19, 'g': 3, 's': 16, 'c': 10, 'u': 8, 'r': 18, 'e': 40, 'd': 6, 'y': 5, 'w': 11, \"'\": 5, 'v': 5, 'm': 6, 'b': 4, 'k': 3, 'p': 2}\n",
      "{'\\n': 14, 'a': 24, ' ': 58, 'l': 8, 'o': 22, 't': 25, 'f': 3, 'h': 15, 'i': 14, 'n': 19, 'g': 3, 's': 16, 'c': 10, 'u': 8, 'r': 18, 'e': 40, 'd': 6, 'y': 5, 'w': 11, \"'\": 5, 'v': 5, 'm': 6, 'b': 4, 'k': 3, 'p': 2}\n",
      "{'\\n': 14, 'a': 24, ' ': 58, 'l': 8, 'o': 22, 't': 25, 'f': 3, 'h': 15, 'i': 14, 'n': 20, 'g': 3, 's': 16, 'c': 10, 'u': 8, 'r': 18, 'e': 40, 'd': 6, 'y': 5, 'w': 11, \"'\": 5, 'v': 5, 'm': 6, 'b': 4, 'k': 3, 'p': 2}\n",
      "{'\\n': 14, 'a': 24, ' ': 58, 'l': 8, 'o': 23, 't': 25, 'f': 3, 'h': 15, 'i': 14, 'n': 20, 'g': 3, 's': 16, 'c': 10, 'u': 8, 'r': 18, 'e': 40, 'd': 6, 'y': 5, 'w': 11, \"'\": 5, 'v': 5, 'm': 6, 'b': 4, 'k': 3, 'p': 2}\n",
      "{'\\n': 14, 'a': 24, ' ': 58, 'l': 8, 'o': 23, 't': 25, 'f': 3, 'h': 15, 'i': 14, 'n': 20, 'g': 3, 's': 16, 'c': 10, 'u': 8, 'r': 18, 'e': 40, 'd': 6, 'y': 5, 'w': 12, \"'\": 5, 'v': 5, 'm': 6, 'b': 4, 'k': 3, 'p': 2}\n",
      "{'\\n': 14, 'a': 24, ' ': 59, 'l': 8, 'o': 23, 't': 25, 'f': 3, 'h': 15, 'i': 14, 'n': 20, 'g': 3, 's': 16, 'c': 10, 'u': 8, 'r': 18, 'e': 40, 'd': 6, 'y': 5, 'w': 12, \"'\": 5, 'v': 5, 'm': 6, 'b': 4, 'k': 3, 'p': 2}\n",
      "{'\\n': 14, 'a': 24, ' ': 59, 'l': 8, 'o': 23, 't': 25, 'f': 3, 'h': 15, 'i': 14, 'n': 20, 'g': 3, 's': 16, 'c': 10, 'u': 8, 'r': 18, 'e': 40, 'd': 7, 'y': 5, 'w': 12, \"'\": 5, 'v': 5, 'm': 6, 'b': 4, 'k': 3, 'p': 2}\n",
      "{'\\n': 14, 'a': 24, ' ': 59, 'l': 8, 'o': 23, 't': 25, 'f': 3, 'h': 15, 'i': 14, 'n': 20, 'g': 3, 's': 16, 'c': 10, 'u': 8, 'r': 18, 'e': 41, 'd': 7, 'y': 5, 'w': 12, \"'\": 5, 'v': 5, 'm': 6, 'b': 4, 'k': 3, 'p': 2}\n",
      "{'\\n': 14, 'a': 24, ' ': 59, 'l': 8, 'o': 23, 't': 25, 'f': 3, 'h': 15, 'i': 14, 'n': 20, 'g': 3, 's': 17, 'c': 10, 'u': 8, 'r': 18, 'e': 41, 'd': 7, 'y': 5, 'w': 12, \"'\": 5, 'v': 5, 'm': 6, 'b': 4, 'k': 3, 'p': 2}\n",
      "{'\\n': 14, 'a': 24, ' ': 59, 'l': 8, 'o': 23, 't': 26, 'f': 3, 'h': 15, 'i': 14, 'n': 20, 'g': 3, 's': 17, 'c': 10, 'u': 8, 'r': 18, 'e': 41, 'd': 7, 'y': 5, 'w': 12, \"'\": 5, 'v': 5, 'm': 6, 'b': 4, 'k': 3, 'p': 2}\n",
      "{'\\n': 14, 'a': 24, ' ': 59, 'l': 8, 'o': 23, 't': 26, 'f': 3, 'h': 15, 'i': 14, 'n': 20, 'g': 3, 's': 17, 'c': 10, 'u': 8, 'r': 19, 'e': 41, 'd': 7, 'y': 5, 'w': 12, \"'\": 5, 'v': 5, 'm': 6, 'b': 4, 'k': 3, 'p': 2}\n",
      "{'\\n': 14, 'a': 24, ' ': 59, 'l': 8, 'o': 23, 't': 26, 'f': 3, 'h': 15, 'i': 14, 'n': 20, 'g': 3, 's': 17, 'c': 10, 'u': 9, 'r': 19, 'e': 41, 'd': 7, 'y': 5, 'w': 12, \"'\": 5, 'v': 5, 'm': 6, 'b': 4, 'k': 3, 'p': 2}\n",
      "{'\\n': 14, 'a': 24, ' ': 59, 'l': 8, 'o': 23, 't': 26, 'f': 3, 'h': 15, 'i': 14, 'n': 20, 'g': 3, 's': 17, 'c': 11, 'u': 9, 'r': 19, 'e': 41, 'd': 7, 'y': 5, 'w': 12, \"'\": 5, 'v': 5, 'm': 6, 'b': 4, 'k': 3, 'p': 2}\n",
      "{'\\n': 14, 'a': 24, ' ': 59, 'l': 8, 'o': 23, 't': 27, 'f': 3, 'h': 15, 'i': 14, 'n': 20, 'g': 3, 's': 17, 'c': 11, 'u': 9, 'r': 19, 'e': 41, 'd': 7, 'y': 5, 'w': 12, \"'\": 5, 'v': 5, 'm': 6, 'b': 4, 'k': 3, 'p': 2}\n",
      "{'\\n': 14, 'a': 24, ' ': 59, 'l': 8, 'o': 23, 't': 27, 'f': 3, 'h': 15, 'i': 15, 'n': 20, 'g': 3, 's': 17, 'c': 11, 'u': 9, 'r': 19, 'e': 41, 'd': 7, 'y': 5, 'w': 12, \"'\": 5, 'v': 5, 'm': 6, 'b': 4, 'k': 3, 'p': 2}\n",
      "{'\\n': 14, 'a': 24, ' ': 59, 'l': 8, 'o': 24, 't': 27, 'f': 3, 'h': 15, 'i': 15, 'n': 20, 'g': 3, 's': 17, 'c': 11, 'u': 9, 'r': 19, 'e': 41, 'd': 7, 'y': 5, 'w': 12, \"'\": 5, 'v': 5, 'm': 6, 'b': 4, 'k': 3, 'p': 2}\n",
      "{'\\n': 14, 'a': 24, ' ': 59, 'l': 8, 'o': 24, 't': 27, 'f': 3, 'h': 15, 'i': 15, 'n': 21, 'g': 3, 's': 17, 'c': 11, 'u': 9, 'r': 19, 'e': 41, 'd': 7, 'y': 5, 'w': 12, \"'\": 5, 'v': 5, 'm': 6, 'b': 4, 'k': 3, 'p': 2}\n",
      "{'\\n': 14, 'a': 24, ' ': 60, 'l': 8, 'o': 24, 't': 27, 'f': 3, 'h': 15, 'i': 15, 'n': 21, 'g': 3, 's': 17, 'c': 11, 'u': 9, 'r': 19, 'e': 41, 'd': 7, 'y': 5, 'w': 12, \"'\": 5, 'v': 5, 'm': 6, 'b': 4, 'k': 3, 'p': 2}\n",
      "{'\\n': 14, 'a': 25, ' ': 60, 'l': 8, 'o': 24, 't': 27, 'f': 3, 'h': 15, 'i': 15, 'n': 21, 'g': 3, 's': 17, 'c': 11, 'u': 9, 'r': 19, 'e': 41, 'd': 7, 'y': 5, 'w': 12, \"'\": 5, 'v': 5, 'm': 6, 'b': 4, 'k': 3, 'p': 2}\n",
      "{'\\n': 14, 'a': 25, ' ': 60, 'l': 8, 'o': 24, 't': 27, 'f': 3, 'h': 15, 'i': 15, 'n': 22, 'g': 3, 's': 17, 'c': 11, 'u': 9, 'r': 19, 'e': 41, 'd': 7, 'y': 5, 'w': 12, \"'\": 5, 'v': 5, 'm': 6, 'b': 4, 'k': 3, 'p': 2}\n",
      "{'\\n': 14, 'a': 25, ' ': 60, 'l': 8, 'o': 24, 't': 27, 'f': 3, 'h': 15, 'i': 15, 'n': 22, 'g': 3, 's': 17, 'c': 11, 'u': 9, 'r': 19, 'e': 41, 'd': 8, 'y': 5, 'w': 12, \"'\": 5, 'v': 5, 'm': 6, 'b': 4, 'k': 3, 'p': 2}\n",
      "{'\\n': 14, 'a': 25, ' ': 61, 'l': 8, 'o': 24, 't': 27, 'f': 3, 'h': 15, 'i': 15, 'n': 22, 'g': 3, 's': 17, 'c': 11, 'u': 9, 'r': 19, 'e': 41, 'd': 8, 'y': 5, 'w': 12, \"'\": 5, 'v': 5, 'm': 6, 'b': 4, 'k': 3, 'p': 2}\n",
      "{'\\n': 14, 'a': 25, ' ': 61, 'l': 8, 'o': 24, 't': 27, 'f': 3, 'h': 15, 'i': 15, 'n': 22, 'g': 3, 's': 17, 'c': 11, 'u': 9, 'r': 19, 'e': 41, 'd': 9, 'y': 5, 'w': 12, \"'\": 5, 'v': 5, 'm': 6, 'b': 4, 'k': 3, 'p': 2}\n",
      "{'\\n': 14, 'a': 25, ' ': 61, 'l': 8, 'o': 24, 't': 27, 'f': 3, 'h': 15, 'i': 15, 'n': 22, 'g': 3, 's': 17, 'c': 11, 'u': 9, 'r': 19, 'e': 42, 'd': 9, 'y': 5, 'w': 12, \"'\": 5, 'v': 5, 'm': 6, 'b': 4, 'k': 3, 'p': 2}\n",
      "{'\\n': 14, 'a': 25, ' ': 61, 'l': 8, 'o': 24, 't': 27, 'f': 3, 'h': 15, 'i': 15, 'n': 22, 'g': 3, 's': 18, 'c': 11, 'u': 9, 'r': 19, 'e': 42, 'd': 9, 'y': 5, 'w': 12, \"'\": 5, 'v': 5, 'm': 6, 'b': 4, 'k': 3, 'p': 2}\n",
      "{'\\n': 14, 'a': 25, ' ': 61, 'l': 8, 'o': 24, 't': 27, 'f': 3, 'h': 15, 'i': 15, 'n': 22, 'g': 3, 's': 18, 'c': 11, 'u': 9, 'r': 19, 'e': 42, 'd': 9, 'y': 5, 'w': 12, \"'\": 5, 'v': 5, 'm': 6, 'b': 4, 'k': 3, 'p': 3}\n",
      "{'\\n': 14, 'a': 26, ' ': 61, 'l': 8, 'o': 24, 't': 27, 'f': 3, 'h': 15, 'i': 15, 'n': 22, 'g': 3, 's': 18, 'c': 11, 'u': 9, 'r': 19, 'e': 42, 'd': 9, 'y': 5, 'w': 12, \"'\": 5, 'v': 5, 'm': 6, 'b': 4, 'k': 3, 'p': 3}\n",
      "{'\\n': 14, 'a': 26, ' ': 61, 'l': 8, 'o': 24, 't': 27, 'f': 3, 'h': 15, 'i': 16, 'n': 22, 'g': 3, 's': 18, 'c': 11, 'u': 9, 'r': 19, 'e': 42, 'd': 9, 'y': 5, 'w': 12, \"'\": 5, 'v': 5, 'm': 6, 'b': 4, 'k': 3, 'p': 3}\n",
      "{'\\n': 14, 'a': 26, ' ': 61, 'l': 8, 'o': 24, 't': 27, 'f': 3, 'h': 15, 'i': 16, 'n': 22, 'g': 3, 's': 18, 'c': 11, 'u': 9, 'r': 20, 'e': 42, 'd': 9, 'y': 5, 'w': 12, \"'\": 5, 'v': 5, 'm': 6, 'b': 4, 'k': 3, 'p': 3}\n",
      "{'\\n': 15, 'a': 26, ' ': 61, 'l': 8, 'o': 24, 't': 27, 'f': 3, 'h': 15, 'i': 16, 'n': 22, 'g': 3, 's': 18, 'c': 11, 'u': 9, 'r': 20, 'e': 42, 'd': 9, 'y': 5, 'w': 12, \"'\": 5, 'v': 5, 'm': 6, 'b': 4, 'k': 3, 'p': 3}\n",
      "{'\\n': 16, 'a': 26, ' ': 61, 'l': 8, 'o': 24, 't': 27, 'f': 3, 'h': 15, 'i': 16, 'n': 22, 'g': 3, 's': 18, 'c': 11, 'u': 9, 'r': 20, 'e': 42, 'd': 9, 'y': 5, 'w': 12, \"'\": 5, 'v': 5, 'm': 6, 'b': 4, 'k': 3, 'p': 3}\n",
      "{'\\n': 16, 'a': 26, ' ': 61, 'l': 8, 'o': 24, 't': 27, 'f': 3, 'h': 15, 'i': 17, 'n': 22, 'g': 3, 's': 18, 'c': 11, 'u': 9, 'r': 20, 'e': 42, 'd': 9, 'y': 5, 'w': 12, \"'\": 5, 'v': 5, 'm': 6, 'b': 4, 'k': 3, 'p': 3}\n",
      "{'\\n': 16, 'a': 26, ' ': 61, 'l': 8, 'o': 24, 't': 27, 'f': 3, 'h': 15, 'i': 17, 'n': 23, 'g': 3, 's': 18, 'c': 11, 'u': 9, 'r': 20, 'e': 42, 'd': 9, 'y': 5, 'w': 12, \"'\": 5, 'v': 5, 'm': 6, 'b': 4, 'k': 3, 'p': 3}\n",
      "{'\\n': 16, 'a': 26, ' ': 62, 'l': 8, 'o': 24, 't': 27, 'f': 3, 'h': 15, 'i': 17, 'n': 23, 'g': 3, 's': 18, 'c': 11, 'u': 9, 'r': 20, 'e': 42, 'd': 9, 'y': 5, 'w': 12, \"'\": 5, 'v': 5, 'm': 6, 'b': 4, 'k': 3, 'p': 3}\n",
      "{'\\n': 16, 'a': 26, ' ': 62, 'l': 8, 'o': 25, 't': 27, 'f': 3, 'h': 15, 'i': 17, 'n': 23, 'g': 3, 's': 18, 'c': 11, 'u': 9, 'r': 20, 'e': 42, 'd': 9, 'y': 5, 'w': 12, \"'\": 5, 'v': 5, 'm': 6, 'b': 4, 'k': 3, 'p': 3}\n",
      "{'\\n': 16, 'a': 26, ' ': 62, 'l': 8, 'o': 25, 't': 28, 'f': 3, 'h': 15, 'i': 17, 'n': 23, 'g': 3, 's': 18, 'c': 11, 'u': 9, 'r': 20, 'e': 42, 'd': 9, 'y': 5, 'w': 12, \"'\": 5, 'v': 5, 'm': 6, 'b': 4, 'k': 3, 'p': 3}\n",
      "{'\\n': 16, 'a': 26, ' ': 62, 'l': 8, 'o': 25, 't': 28, 'f': 3, 'h': 16, 'i': 17, 'n': 23, 'g': 3, 's': 18, 'c': 11, 'u': 9, 'r': 20, 'e': 42, 'd': 9, 'y': 5, 'w': 12, \"'\": 5, 'v': 5, 'm': 6, 'b': 4, 'k': 3, 'p': 3}\n",
      "{'\\n': 16, 'a': 26, ' ': 62, 'l': 8, 'o': 25, 't': 28, 'f': 3, 'h': 16, 'i': 17, 'n': 23, 'g': 3, 's': 18, 'c': 11, 'u': 9, 'r': 20, 'e': 43, 'd': 9, 'y': 5, 'w': 12, \"'\": 5, 'v': 5, 'm': 6, 'b': 4, 'k': 3, 'p': 3}\n",
      "{'\\n': 16, 'a': 26, ' ': 62, 'l': 8, 'o': 25, 't': 28, 'f': 3, 'h': 16, 'i': 17, 'n': 23, 'g': 3, 's': 18, 'c': 11, 'u': 9, 'r': 21, 'e': 43, 'd': 9, 'y': 5, 'w': 12, \"'\": 5, 'v': 5, 'm': 6, 'b': 4, 'k': 3, 'p': 3}\n",
      "{'\\n': 16, 'a': 26, ' ': 63, 'l': 8, 'o': 25, 't': 28, 'f': 3, 'h': 16, 'i': 17, 'n': 23, 'g': 3, 's': 18, 'c': 11, 'u': 9, 'r': 21, 'e': 43, 'd': 9, 'y': 5, 'w': 12, \"'\": 5, 'v': 5, 'm': 6, 'b': 4, 'k': 3, 'p': 3}\n",
      "{'\\n': 16, 'a': 26, ' ': 63, 'l': 8, 'o': 25, 't': 28, 'f': 3, 'h': 16, 'i': 17, 'n': 23, 'g': 3, 's': 18, 'c': 11, 'u': 9, 'r': 21, 'e': 43, 'd': 9, 'y': 5, 'w': 13, \"'\": 5, 'v': 5, 'm': 6, 'b': 4, 'k': 3, 'p': 3}\n",
      "{'\\n': 16, 'a': 26, ' ': 63, 'l': 8, 'o': 26, 't': 28, 'f': 3, 'h': 16, 'i': 17, 'n': 23, 'g': 3, 's': 18, 'c': 11, 'u': 9, 'r': 21, 'e': 43, 'd': 9, 'y': 5, 'w': 13, \"'\": 5, 'v': 5, 'm': 6, 'b': 4, 'k': 3, 'p': 3}\n",
      "{'\\n': 16, 'a': 26, ' ': 63, 'l': 8, 'o': 26, 't': 28, 'f': 3, 'h': 16, 'i': 17, 'n': 23, 'g': 3, 's': 18, 'c': 11, 'u': 9, 'r': 22, 'e': 43, 'd': 9, 'y': 5, 'w': 13, \"'\": 5, 'v': 5, 'm': 6, 'b': 4, 'k': 3, 'p': 3}\n",
      "{'\\n': 16, 'a': 26, ' ': 63, 'l': 9, 'o': 26, 't': 28, 'f': 3, 'h': 16, 'i': 17, 'n': 23, 'g': 3, 's': 18, 'c': 11, 'u': 9, 'r': 22, 'e': 43, 'd': 9, 'y': 5, 'w': 13, \"'\": 5, 'v': 5, 'm': 6, 'b': 4, 'k': 3, 'p': 3}\n",
      "{'\\n': 16, 'a': 26, ' ': 63, 'l': 9, 'o': 26, 't': 28, 'f': 3, 'h': 16, 'i': 17, 'n': 23, 'g': 3, 's': 18, 'c': 11, 'u': 9, 'r': 22, 'e': 43, 'd': 10, 'y': 5, 'w': 13, \"'\": 5, 'v': 5, 'm': 6, 'b': 4, 'k': 3, 'p': 3}\n",
      "{'\\n': 16, 'a': 26, ' ': 63, 'l': 9, 'o': 26, 't': 28, 'f': 3, 'h': 16, 'i': 17, 'n': 23, 'g': 3, 's': 19, 'c': 11, 'u': 9, 'r': 22, 'e': 43, 'd': 10, 'y': 5, 'w': 13, \"'\": 5, 'v': 5, 'm': 6, 'b': 4, 'k': 3, 'p': 3}\n",
      "{'\\n': 16, 'a': 26, ' ': 64, 'l': 9, 'o': 26, 't': 28, 'f': 3, 'h': 16, 'i': 17, 'n': 23, 'g': 3, 's': 19, 'c': 11, 'u': 9, 'r': 22, 'e': 43, 'd': 10, 'y': 5, 'w': 13, \"'\": 5, 'v': 5, 'm': 6, 'b': 4, 'k': 3, 'p': 3}\n",
      "{'\\n': 16, 'a': 26, ' ': 64, 'l': 9, 'o': 26, 't': 29, 'f': 3, 'h': 16, 'i': 17, 'n': 23, 'g': 3, 's': 19, 'c': 11, 'u': 9, 'r': 22, 'e': 43, 'd': 10, 'y': 5, 'w': 13, \"'\": 5, 'v': 5, 'm': 6, 'b': 4, 'k': 3, 'p': 3}\n",
      "{'\\n': 16, 'a': 26, ' ': 64, 'l': 9, 'o': 26, 't': 29, 'f': 3, 'h': 17, 'i': 17, 'n': 23, 'g': 3, 's': 19, 'c': 11, 'u': 9, 'r': 22, 'e': 43, 'd': 10, 'y': 5, 'w': 13, \"'\": 5, 'v': 5, 'm': 6, 'b': 4, 'k': 3, 'p': 3}\n",
      "{'\\n': 16, 'a': 26, ' ': 64, 'l': 9, 'o': 26, 't': 29, 'f': 3, 'h': 17, 'i': 17, 'n': 23, 'g': 3, 's': 19, 'c': 11, 'u': 9, 'r': 22, 'e': 44, 'd': 10, 'y': 5, 'w': 13, \"'\": 5, 'v': 5, 'm': 6, 'b': 4, 'k': 3, 'p': 3}\n",
      "{'\\n': 16, 'a': 26, ' ': 65, 'l': 9, 'o': 26, 't': 29, 'f': 3, 'h': 17, 'i': 17, 'n': 23, 'g': 3, 's': 19, 'c': 11, 'u': 9, 'r': 22, 'e': 44, 'd': 10, 'y': 5, 'w': 13, \"'\": 5, 'v': 5, 'm': 6, 'b': 4, 'k': 3, 'p': 3}\n",
      "{'\\n': 16, 'a': 26, ' ': 65, 'l': 9, 'o': 26, 't': 29, 'f': 3, 'h': 17, 'i': 17, 'n': 23, 'g': 3, 's': 19, 'c': 12, 'u': 9, 'r': 22, 'e': 44, 'd': 10, 'y': 5, 'w': 13, \"'\": 5, 'v': 5, 'm': 6, 'b': 4, 'k': 3, 'p': 3}\n",
      "{'\\n': 16, 'a': 26, ' ': 65, 'l': 9, 'o': 26, 't': 29, 'f': 3, 'h': 18, 'i': 17, 'n': 23, 'g': 3, 's': 19, 'c': 12, 'u': 9, 'r': 22, 'e': 44, 'd': 10, 'y': 5, 'w': 13, \"'\": 5, 'v': 5, 'm': 6, 'b': 4, 'k': 3, 'p': 3}\n",
      "{'\\n': 16, 'a': 26, ' ': 65, 'l': 9, 'o': 26, 't': 29, 'f': 3, 'h': 18, 'i': 18, 'n': 23, 'g': 3, 's': 19, 'c': 12, 'u': 9, 'r': 22, 'e': 44, 'd': 10, 'y': 5, 'w': 13, \"'\": 5, 'v': 5, 'm': 6, 'b': 4, 'k': 3, 'p': 3}\n",
      "{'\\n': 16, 'a': 26, ' ': 65, 'l': 10, 'o': 26, 't': 29, 'f': 3, 'h': 18, 'i': 18, 'n': 23, 'g': 3, 's': 19, 'c': 12, 'u': 9, 'r': 22, 'e': 44, 'd': 10, 'y': 5, 'w': 13, \"'\": 5, 'v': 5, 'm': 6, 'b': 4, 'k': 3, 'p': 3}\n",
      "{'\\n': 16, 'a': 26, ' ': 65, 'l': 10, 'o': 26, 't': 29, 'f': 3, 'h': 18, 'i': 18, 'n': 23, 'g': 3, 's': 19, 'c': 12, 'u': 9, 'r': 22, 'e': 44, 'd': 11, 'y': 5, 'w': 13, \"'\": 5, 'v': 5, 'm': 6, 'b': 4, 'k': 3, 'p': 3}\n",
      "{'\\n': 16, 'a': 26, ' ': 65, 'l': 10, 'o': 26, 't': 29, 'f': 3, 'h': 18, 'i': 18, 'n': 23, 'g': 3, 's': 19, 'c': 12, 'u': 9, 'r': 23, 'e': 44, 'd': 11, 'y': 5, 'w': 13, \"'\": 5, 'v': 5, 'm': 6, 'b': 4, 'k': 3, 'p': 3}\n",
      "{'\\n': 16, 'a': 26, ' ': 65, 'l': 10, 'o': 26, 't': 29, 'f': 3, 'h': 18, 'i': 18, 'n': 23, 'g': 3, 's': 19, 'c': 12, 'u': 9, 'r': 23, 'e': 45, 'd': 11, 'y': 5, 'w': 13, \"'\": 5, 'v': 5, 'm': 6, 'b': 4, 'k': 3, 'p': 3}\n",
      "{'\\n': 16, 'a': 26, ' ': 65, 'l': 10, 'o': 26, 't': 29, 'f': 3, 'h': 18, 'i': 18, 'n': 24, 'g': 3, 's': 19, 'c': 12, 'u': 9, 'r': 23, 'e': 45, 'd': 11, 'y': 5, 'w': 13, \"'\": 5, 'v': 5, 'm': 6, 'b': 4, 'k': 3, 'p': 3}\n",
      "{'\\n': 16, 'a': 26, ' ': 66, 'l': 10, 'o': 26, 't': 29, 'f': 3, 'h': 18, 'i': 18, 'n': 24, 'g': 3, 's': 19, 'c': 12, 'u': 9, 'r': 23, 'e': 45, 'd': 11, 'y': 5, 'w': 13, \"'\": 5, 'v': 5, 'm': 6, 'b': 4, 'k': 3, 'p': 3}\n",
      "{'\\n': 16, 'a': 26, ' ': 66, 'l': 10, 'o': 26, 't': 29, 'f': 3, 'h': 18, 'i': 18, 'n': 24, 'g': 3, 's': 19, 'c': 12, 'u': 9, 'r': 23, 'e': 45, 'd': 12, 'y': 5, 'w': 13, \"'\": 5, 'v': 5, 'm': 6, 'b': 4, 'k': 3, 'p': 3}\n",
      "{'\\n': 16, 'a': 26, ' ': 66, 'l': 10, 'o': 26, 't': 29, 'f': 3, 'h': 18, 'i': 19, 'n': 24, 'g': 3, 's': 19, 'c': 12, 'u': 9, 'r': 23, 'e': 45, 'd': 12, 'y': 5, 'w': 13, \"'\": 5, 'v': 5, 'm': 6, 'b': 4, 'k': 3, 'p': 3}\n",
      "{'\\n': 16, 'a': 26, ' ': 66, 'l': 10, 'o': 26, 't': 29, 'f': 3, 'h': 18, 'i': 19, 'n': 24, 'g': 3, 's': 19, 'c': 12, 'u': 9, 'r': 23, 'e': 46, 'd': 12, 'y': 5, 'w': 13, \"'\": 5, 'v': 5, 'm': 6, 'b': 4, 'k': 3, 'p': 3}\n",
      "{'\\n': 17, 'a': 26, ' ': 66, 'l': 10, 'o': 26, 't': 29, 'f': 3, 'h': 18, 'i': 19, 'n': 24, 'g': 3, 's': 19, 'c': 12, 'u': 9, 'r': 23, 'e': 46, 'd': 12, 'y': 5, 'w': 13, \"'\": 5, 'v': 5, 'm': 6, 'b': 4, 'k': 3, 'p': 3}\n",
      "{'\\n': 17, 'a': 26, ' ': 66, 'l': 11, 'o': 26, 't': 29, 'f': 3, 'h': 18, 'i': 19, 'n': 24, 'g': 3, 's': 19, 'c': 12, 'u': 9, 'r': 23, 'e': 46, 'd': 12, 'y': 5, 'w': 13, \"'\": 5, 'v': 5, 'm': 6, 'b': 4, 'k': 3, 'p': 3}\n",
      "{'\\n': 17, 'a': 27, ' ': 66, 'l': 11, 'o': 26, 't': 29, 'f': 3, 'h': 18, 'i': 19, 'n': 24, 'g': 3, 's': 19, 'c': 12, 'u': 9, 'r': 23, 'e': 46, 'd': 12, 'y': 5, 'w': 13, \"'\": 5, 'v': 5, 'm': 6, 'b': 4, 'k': 3, 'p': 3}\n",
      "{'\\n': 17, 'a': 27, ' ': 66, 'l': 11, 'o': 26, 't': 29, 'f': 3, 'h': 18, 'i': 19, 'n': 24, 'g': 3, 's': 19, 'c': 13, 'u': 9, 'r': 23, 'e': 46, 'd': 12, 'y': 5, 'w': 13, \"'\": 5, 'v': 5, 'm': 6, 'b': 4, 'k': 3, 'p': 3}\n",
      "{'\\n': 17, 'a': 27, ' ': 66, 'l': 11, 'o': 26, 't': 29, 'f': 3, 'h': 18, 'i': 19, 'n': 24, 'g': 3, 's': 19, 'c': 13, 'u': 9, 'r': 23, 'e': 46, 'd': 12, 'y': 5, 'w': 13, \"'\": 5, 'v': 5, 'm': 6, 'b': 4, 'k': 4, 'p': 3}\n",
      "{'\\n': 17, 'a': 27, ' ': 66, 'l': 11, 'o': 26, 't': 29, 'f': 3, 'h': 18, 'i': 20, 'n': 24, 'g': 3, 's': 19, 'c': 13, 'u': 9, 'r': 23, 'e': 46, 'd': 12, 'y': 5, 'w': 13, \"'\": 5, 'v': 5, 'm': 6, 'b': 4, 'k': 4, 'p': 3}\n",
      "{'\\n': 17, 'a': 27, ' ': 66, 'l': 11, 'o': 26, 't': 29, 'f': 3, 'h': 18, 'i': 20, 'n': 25, 'g': 3, 's': 19, 'c': 13, 'u': 9, 'r': 23, 'e': 46, 'd': 12, 'y': 5, 'w': 13, \"'\": 5, 'v': 5, 'm': 6, 'b': 4, 'k': 4, 'p': 3}\n",
      "{'\\n': 17, 'a': 27, ' ': 66, 'l': 11, 'o': 26, 't': 29, 'f': 3, 'h': 18, 'i': 20, 'n': 25, 'g': 4, 's': 19, 'c': 13, 'u': 9, 'r': 23, 'e': 46, 'd': 12, 'y': 5, 'w': 13, \"'\": 5, 'v': 5, 'm': 6, 'b': 4, 'k': 4, 'p': 3}\n",
      "{'\\n': 17, 'a': 27, ' ': 67, 'l': 11, 'o': 26, 't': 29, 'f': 3, 'h': 18, 'i': 20, 'n': 25, 'g': 4, 's': 19, 'c': 13, 'u': 9, 'r': 23, 'e': 46, 'd': 12, 'y': 5, 'w': 13, \"'\": 5, 'v': 5, 'm': 6, 'b': 4, 'k': 4, 'p': 3}\n",
      "{'\\n': 17, 'a': 27, ' ': 67, 'l': 11, 'o': 26, 't': 29, 'f': 4, 'h': 18, 'i': 20, 'n': 25, 'g': 4, 's': 19, 'c': 13, 'u': 9, 'r': 23, 'e': 46, 'd': 12, 'y': 5, 'w': 13, \"'\": 5, 'v': 5, 'm': 6, 'b': 4, 'k': 4, 'p': 3}\n",
      "{'\\n': 17, 'a': 27, ' ': 67, 'l': 11, 'o': 27, 't': 29, 'f': 4, 'h': 18, 'i': 20, 'n': 25, 'g': 4, 's': 19, 'c': 13, 'u': 9, 'r': 23, 'e': 46, 'd': 12, 'y': 5, 'w': 13, \"'\": 5, 'v': 5, 'm': 6, 'b': 4, 'k': 4, 'p': 3}\n",
      "{'\\n': 17, 'a': 27, ' ': 67, 'l': 11, 'o': 28, 't': 29, 'f': 4, 'h': 18, 'i': 20, 'n': 25, 'g': 4, 's': 19, 'c': 13, 'u': 9, 'r': 23, 'e': 46, 'd': 12, 'y': 5, 'w': 13, \"'\": 5, 'v': 5, 'm': 6, 'b': 4, 'k': 4, 'p': 3}\n",
      "{'\\n': 17, 'a': 27, ' ': 67, 'l': 11, 'o': 28, 't': 29, 'f': 4, 'h': 18, 'i': 20, 'n': 25, 'g': 4, 's': 19, 'c': 13, 'u': 9, 'r': 23, 'e': 46, 'd': 13, 'y': 5, 'w': 13, \"'\": 5, 'v': 5, 'm': 6, 'b': 4, 'k': 4, 'p': 3}\n",
      "{'\\n': 17, 'a': 27, ' ': 68, 'l': 11, 'o': 28, 't': 29, 'f': 4, 'h': 18, 'i': 20, 'n': 25, 'g': 4, 's': 19, 'c': 13, 'u': 9, 'r': 23, 'e': 46, 'd': 13, 'y': 5, 'w': 13, \"'\": 5, 'v': 5, 'm': 6, 'b': 4, 'k': 4, 'p': 3}\n",
      "{'\\n': 17, 'a': 27, ' ': 68, 'l': 11, 'o': 28, 't': 29, 'f': 4, 'h': 18, 'i': 21, 'n': 25, 'g': 4, 's': 19, 'c': 13, 'u': 9, 'r': 23, 'e': 46, 'd': 13, 'y': 5, 'w': 13, \"'\": 5, 'v': 5, 'm': 6, 'b': 4, 'k': 4, 'p': 3}\n",
      "{'\\n': 17, 'a': 27, ' ': 68, 'l': 12, 'o': 28, 't': 29, 'f': 4, 'h': 18, 'i': 21, 'n': 25, 'g': 4, 's': 19, 'c': 13, 'u': 9, 'r': 23, 'e': 46, 'd': 13, 'y': 5, 'w': 13, \"'\": 5, 'v': 5, 'm': 6, 'b': 4, 'k': 4, 'p': 3}\n",
      "{'\\n': 17, 'a': 27, ' ': 68, 'l': 13, 'o': 28, 't': 29, 'f': 4, 'h': 18, 'i': 21, 'n': 25, 'g': 4, 's': 19, 'c': 13, 'u': 9, 'r': 23, 'e': 46, 'd': 13, 'y': 5, 'w': 13, \"'\": 5, 'v': 5, 'm': 6, 'b': 4, 'k': 4, 'p': 3}\n",
      "{'\\n': 17, 'a': 27, ' ': 69, 'l': 13, 'o': 28, 't': 29, 'f': 4, 'h': 18, 'i': 21, 'n': 25, 'g': 4, 's': 19, 'c': 13, 'u': 9, 'r': 23, 'e': 46, 'd': 13, 'y': 5, 'w': 13, \"'\": 5, 'v': 5, 'm': 6, 'b': 4, 'k': 4, 'p': 3}\n",
      "{'\\n': 17, 'a': 27, ' ': 69, 'l': 13, 'o': 28, 't': 29, 'f': 5, 'h': 18, 'i': 21, 'n': 25, 'g': 4, 's': 19, 'c': 13, 'u': 9, 'r': 23, 'e': 46, 'd': 13, 'y': 5, 'w': 13, \"'\": 5, 'v': 5, 'm': 6, 'b': 4, 'k': 4, 'p': 3}\n",
      "{'\\n': 17, 'a': 27, ' ': 69, 'l': 13, 'o': 28, 't': 29, 'f': 5, 'h': 18, 'i': 21, 'n': 25, 'g': 4, 's': 19, 'c': 13, 'u': 9, 'r': 24, 'e': 46, 'd': 13, 'y': 5, 'w': 13, \"'\": 5, 'v': 5, 'm': 6, 'b': 4, 'k': 4, 'p': 3}\n",
      "{'\\n': 17, 'a': 27, ' ': 69, 'l': 13, 'o': 29, 't': 29, 'f': 5, 'h': 18, 'i': 21, 'n': 25, 'g': 4, 's': 19, 'c': 13, 'u': 9, 'r': 24, 'e': 46, 'd': 13, 'y': 5, 'w': 13, \"'\": 5, 'v': 5, 'm': 6, 'b': 4, 'k': 4, 'p': 3}\n",
      "{'\\n': 17, 'a': 27, ' ': 69, 'l': 13, 'o': 29, 't': 29, 'f': 5, 'h': 18, 'i': 21, 'n': 25, 'g': 4, 's': 19, 'c': 13, 'u': 9, 'r': 24, 'e': 46, 'd': 13, 'y': 5, 'w': 13, \"'\": 5, 'v': 5, 'm': 7, 'b': 4, 'k': 4, 'p': 3}\n",
      "{'\\n': 17, 'a': 27, ' ': 70, 'l': 13, 'o': 29, 't': 29, 'f': 5, 'h': 18, 'i': 21, 'n': 25, 'g': 4, 's': 19, 'c': 13, 'u': 9, 'r': 24, 'e': 46, 'd': 13, 'y': 5, 'w': 13, \"'\": 5, 'v': 5, 'm': 7, 'b': 4, 'k': 4, 'p': 3}\n",
      "{'\\n': 17, 'a': 28, ' ': 70, 'l': 13, 'o': 29, 't': 29, 'f': 5, 'h': 18, 'i': 21, 'n': 25, 'g': 4, 's': 19, 'c': 13, 'u': 9, 'r': 24, 'e': 46, 'd': 13, 'y': 5, 'w': 13, \"'\": 5, 'v': 5, 'm': 7, 'b': 4, 'k': 4, 'p': 3}\n",
      "{'\\n': 17, 'a': 28, ' ': 71, 'l': 13, 'o': 29, 't': 29, 'f': 5, 'h': 18, 'i': 21, 'n': 25, 'g': 4, 's': 19, 'c': 13, 'u': 9, 'r': 24, 'e': 46, 'd': 13, 'y': 5, 'w': 13, \"'\": 5, 'v': 5, 'm': 7, 'b': 4, 'k': 4, 'p': 3}\n",
      "{'\\n': 17, 'a': 28, ' ': 71, 'l': 13, 'o': 29, 't': 29, 'f': 6, 'h': 18, 'i': 21, 'n': 25, 'g': 4, 's': 19, 'c': 13, 'u': 9, 'r': 24, 'e': 46, 'd': 13, 'y': 5, 'w': 13, \"'\": 5, 'v': 5, 'm': 7, 'b': 4, 'k': 4, 'p': 3}\n",
      "{'\\n': 17, 'a': 28, ' ': 71, 'l': 14, 'o': 29, 't': 29, 'f': 6, 'h': 18, 'i': 21, 'n': 25, 'g': 4, 's': 19, 'c': 13, 'u': 9, 'r': 24, 'e': 46, 'd': 13, 'y': 5, 'w': 13, \"'\": 5, 'v': 5, 'm': 7, 'b': 4, 'k': 4, 'p': 3}\n",
      "{'\\n': 17, 'a': 28, ' ': 71, 'l': 14, 'o': 29, 't': 29, 'f': 6, 'h': 18, 'i': 21, 'n': 25, 'g': 4, 's': 19, 'c': 13, 'u': 9, 'r': 24, 'e': 46, 'd': 13, 'y': 6, 'w': 13, \"'\": 5, 'v': 5, 'm': 7, 'b': 4, 'k': 4, 'p': 3}\n",
      "{'\\n': 18, 'a': 28, ' ': 71, 'l': 14, 'o': 29, 't': 29, 'f': 6, 'h': 18, 'i': 21, 'n': 25, 'g': 4, 's': 19, 'c': 13, 'u': 9, 'r': 24, 'e': 46, 'd': 13, 'y': 6, 'w': 13, \"'\": 5, 'v': 5, 'm': 7, 'b': 4, 'k': 4, 'p': 3}\n",
      "{'\\n': 18, 'a': 28, ' ': 71, 'l': 14, 'o': 30, 't': 29, 'f': 6, 'h': 18, 'i': 21, 'n': 25, 'g': 4, 's': 19, 'c': 13, 'u': 9, 'r': 24, 'e': 46, 'd': 13, 'y': 6, 'w': 13, \"'\": 5, 'v': 5, 'm': 7, 'b': 4, 'k': 4, 'p': 3}\n",
      "{'\\n': 18, 'a': 28, ' ': 71, 'l': 14, 'o': 30, 't': 29, 'f': 6, 'h': 18, 'i': 21, 'n': 25, 'g': 4, 's': 19, 'c': 13, 'u': 9, 'r': 24, 'e': 46, 'd': 13, 'y': 6, 'w': 13, \"'\": 5, 'v': 5, 'm': 7, 'b': 4, 'k': 4, 'p': 4}\n",
      "{'\\n': 18, 'a': 28, ' ': 71, 'l': 14, 'o': 30, 't': 29, 'f': 6, 'h': 18, 'i': 21, 'n': 25, 'g': 4, 's': 19, 'c': 13, 'u': 9, 'r': 24, 'e': 46, 'd': 13, 'y': 6, 'w': 13, \"'\": 5, 'v': 5, 'm': 7, 'b': 4, 'k': 4, 'p': 5}\n",
      "{'\\n': 18, 'a': 28, ' ': 71, 'l': 14, 'o': 30, 't': 29, 'f': 6, 'h': 18, 'i': 21, 'n': 25, 'g': 4, 's': 19, 'c': 13, 'u': 9, 'r': 25, 'e': 46, 'd': 13, 'y': 6, 'w': 13, \"'\": 5, 'v': 5, 'm': 7, 'b': 4, 'k': 4, 'p': 5}\n",
      "{'\\n': 18, 'a': 28, ' ': 71, 'l': 14, 'o': 30, 't': 29, 'f': 6, 'h': 18, 'i': 21, 'n': 25, 'g': 4, 's': 19, 'c': 13, 'u': 9, 'r': 25, 'e': 47, 'd': 13, 'y': 6, 'w': 13, \"'\": 5, 'v': 5, 'm': 7, 'b': 4, 'k': 4, 'p': 5}\n",
      "{'\\n': 18, 'a': 28, ' ': 71, 'l': 14, 'o': 30, 't': 29, 'f': 6, 'h': 18, 'i': 21, 'n': 25, 'g': 4, 's': 20, 'c': 13, 'u': 9, 'r': 25, 'e': 47, 'd': 13, 'y': 6, 'w': 13, \"'\": 5, 'v': 5, 'm': 7, 'b': 4, 'k': 4, 'p': 5}\n",
      "{'\\n': 18, 'a': 28, ' ': 71, 'l': 14, 'o': 30, 't': 29, 'f': 6, 'h': 18, 'i': 21, 'n': 25, 'g': 4, 's': 21, 'c': 13, 'u': 9, 'r': 25, 'e': 47, 'd': 13, 'y': 6, 'w': 13, \"'\": 5, 'v': 5, 'm': 7, 'b': 4, 'k': 4, 'p': 5}\n",
      "{'\\n': 18, 'a': 28, ' ': 71, 'l': 14, 'o': 30, 't': 29, 'f': 6, 'h': 18, 'i': 21, 'n': 25, 'g': 4, 's': 21, 'c': 13, 'u': 9, 'r': 25, 'e': 48, 'd': 13, 'y': 6, 'w': 13, \"'\": 5, 'v': 5, 'm': 7, 'b': 4, 'k': 4, 'p': 5}\n",
      "{'\\n': 18, 'a': 28, ' ': 71, 'l': 14, 'o': 30, 't': 29, 'f': 6, 'h': 18, 'i': 21, 'n': 25, 'g': 4, 's': 21, 'c': 13, 'u': 9, 'r': 25, 'e': 48, 'd': 14, 'y': 6, 'w': 13, \"'\": 5, 'v': 5, 'm': 7, 'b': 4, 'k': 4, 'p': 5}\n",
      "{'\\n': 18, 'a': 28, ' ': 72, 'l': 14, 'o': 30, 't': 29, 'f': 6, 'h': 18, 'i': 21, 'n': 25, 'g': 4, 's': 21, 'c': 13, 'u': 9, 'r': 25, 'e': 48, 'd': 14, 'y': 6, 'w': 13, \"'\": 5, 'v': 5, 'm': 7, 'b': 4, 'k': 4, 'p': 5}\n",
      "{'\\n': 18, 'a': 28, ' ': 72, 'l': 14, 'o': 30, 't': 29, 'f': 6, 'h': 18, 'i': 21, 'n': 25, 'g': 4, 's': 21, 'c': 13, 'u': 9, 'r': 25, 'e': 48, 'd': 14, 'y': 6, 'w': 13, \"'\": 5, 'v': 5, 'm': 7, 'b': 5, 'k': 4, 'p': 5}\n",
      "{'\\n': 18, 'a': 28, ' ': 72, 'l': 14, 'o': 30, 't': 29, 'f': 6, 'h': 18, 'i': 21, 'n': 25, 'g': 4, 's': 21, 'c': 13, 'u': 9, 'r': 25, 'e': 48, 'd': 14, 'y': 7, 'w': 13, \"'\": 5, 'v': 5, 'm': 7, 'b': 5, 'k': 4, 'p': 5}\n",
      "{'\\n': 18, 'a': 28, ' ': 73, 'l': 14, 'o': 30, 't': 29, 'f': 6, 'h': 18, 'i': 21, 'n': 25, 'g': 4, 's': 21, 'c': 13, 'u': 9, 'r': 25, 'e': 48, 'd': 14, 'y': 7, 'w': 13, \"'\": 5, 'v': 5, 'm': 7, 'b': 5, 'k': 4, 'p': 5}\n",
      "{'\\n': 18, 'a': 28, ' ': 73, 'l': 14, 'o': 30, 't': 30, 'f': 6, 'h': 18, 'i': 21, 'n': 25, 'g': 4, 's': 21, 'c': 13, 'u': 9, 'r': 25, 'e': 48, 'd': 14, 'y': 7, 'w': 13, \"'\": 5, 'v': 5, 'm': 7, 'b': 5, 'k': 4, 'p': 5}\n",
      "{'\\n': 18, 'a': 28, ' ': 73, 'l': 14, 'o': 30, 't': 30, 'f': 6, 'h': 18, 'i': 21, 'n': 25, 'g': 4, 's': 21, 'c': 13, 'u': 9, 'r': 26, 'e': 48, 'd': 14, 'y': 7, 'w': 13, \"'\": 5, 'v': 5, 'm': 7, 'b': 5, 'k': 4, 'p': 5}\n",
      "{'\\n': 18, 'a': 28, ' ': 73, 'l': 14, 'o': 31, 't': 30, 'f': 6, 'h': 18, 'i': 21, 'n': 25, 'g': 4, 's': 21, 'c': 13, 'u': 9, 'r': 26, 'e': 48, 'd': 14, 'y': 7, 'w': 13, \"'\": 5, 'v': 5, 'm': 7, 'b': 5, 'k': 4, 'p': 5}\n",
      "{'\\n': 18, 'a': 28, ' ': 73, 'l': 14, 'o': 32, 't': 30, 'f': 6, 'h': 18, 'i': 21, 'n': 25, 'g': 4, 's': 21, 'c': 13, 'u': 9, 'r': 26, 'e': 48, 'd': 14, 'y': 7, 'w': 13, \"'\": 5, 'v': 5, 'm': 7, 'b': 5, 'k': 4, 'p': 5}\n",
      "{'\\n': 18, 'a': 28, ' ': 73, 'l': 14, 'o': 32, 't': 30, 'f': 6, 'h': 18, 'i': 21, 'n': 25, 'g': 4, 's': 21, 'c': 13, 'u': 9, 'r': 26, 'e': 48, 'd': 14, 'y': 7, 'w': 13, \"'\": 5, 'v': 5, 'm': 7, 'b': 5, 'k': 4, 'p': 6}\n",
      "{'\\n': 18, 'a': 28, ' ': 73, 'l': 14, 'o': 32, 't': 30, 'f': 6, 'h': 18, 'i': 21, 'n': 25, 'g': 4, 's': 22, 'c': 13, 'u': 9, 'r': 26, 'e': 48, 'd': 14, 'y': 7, 'w': 13, \"'\": 5, 'v': 5, 'm': 7, 'b': 5, 'k': 4, 'p': 6}\n",
      "{'\\n': 18, 'a': 28, ' ': 74, 'l': 14, 'o': 32, 't': 30, 'f': 6, 'h': 18, 'i': 21, 'n': 25, 'g': 4, 's': 22, 'c': 13, 'u': 9, 'r': 26, 'e': 48, 'd': 14, 'y': 7, 'w': 13, \"'\": 5, 'v': 5, 'm': 7, 'b': 5, 'k': 4, 'p': 6}\n",
      "{'\\n': 18, 'a': 28, ' ': 74, 'l': 14, 'o': 32, 't': 31, 'f': 6, 'h': 18, 'i': 21, 'n': 25, 'g': 4, 's': 22, 'c': 13, 'u': 9, 'r': 26, 'e': 48, 'd': 14, 'y': 7, 'w': 13, \"'\": 5, 'v': 5, 'm': 7, 'b': 5, 'k': 4, 'p': 6}\n",
      "{'\\n': 18, 'a': 28, ' ': 74, 'l': 14, 'o': 33, 't': 31, 'f': 6, 'h': 18, 'i': 21, 'n': 25, 'g': 4, 's': 22, 'c': 13, 'u': 9, 'r': 26, 'e': 48, 'd': 14, 'y': 7, 'w': 13, \"'\": 5, 'v': 5, 'm': 7, 'b': 5, 'k': 4, 'p': 6}\n",
      "{'\\n': 18, 'a': 28, ' ': 75, 'l': 14, 'o': 33, 't': 31, 'f': 6, 'h': 18, 'i': 21, 'n': 25, 'g': 4, 's': 22, 'c': 13, 'u': 9, 'r': 26, 'e': 48, 'd': 14, 'y': 7, 'w': 13, \"'\": 5, 'v': 5, 'm': 7, 'b': 5, 'k': 4, 'p': 6}\n",
      "{'\\n': 18, 'a': 28, ' ': 75, 'l': 14, 'o': 33, 't': 32, 'f': 6, 'h': 18, 'i': 21, 'n': 25, 'g': 4, 's': 22, 'c': 13, 'u': 9, 'r': 26, 'e': 48, 'd': 14, 'y': 7, 'w': 13, \"'\": 5, 'v': 5, 'm': 7, 'b': 5, 'k': 4, 'p': 6}\n",
      "{'\\n': 18, 'a': 29, ' ': 75, 'l': 14, 'o': 33, 't': 32, 'f': 6, 'h': 18, 'i': 21, 'n': 25, 'g': 4, 's': 22, 'c': 13, 'u': 9, 'r': 26, 'e': 48, 'd': 14, 'y': 7, 'w': 13, \"'\": 5, 'v': 5, 'm': 7, 'b': 5, 'k': 4, 'p': 6}\n",
      "{'\\n': 18, 'a': 29, ' ': 75, 'l': 14, 'o': 33, 't': 32, 'f': 6, 'h': 18, 'i': 21, 'n': 25, 'g': 4, 's': 22, 'c': 13, 'u': 9, 'r': 26, 'e': 48, 'd': 14, 'y': 7, 'w': 13, \"'\": 5, 'v': 5, 'm': 8, 'b': 5, 'k': 4, 'p': 6}\n",
      "{'\\n': 18, 'a': 29, ' ': 75, 'l': 14, 'o': 33, 't': 32, 'f': 6, 'h': 18, 'i': 21, 'n': 25, 'g': 4, 's': 22, 'c': 13, 'u': 9, 'r': 26, 'e': 49, 'd': 14, 'y': 7, 'w': 13, \"'\": 5, 'v': 5, 'm': 8, 'b': 5, 'k': 4, 'p': 6}\n",
      "{'\\n': 18, 'a': 29, ' ': 76, 'l': 14, 'o': 33, 't': 32, 'f': 6, 'h': 18, 'i': 21, 'n': 25, 'g': 4, 's': 22, 'c': 13, 'u': 9, 'r': 26, 'e': 49, 'd': 14, 'y': 7, 'w': 13, \"'\": 5, 'v': 5, 'm': 8, 'b': 5, 'k': 4, 'p': 6}\n",
      "{'\\n': 18, 'a': 29, ' ': 76, 'l': 14, 'o': 33, 't': 33, 'f': 6, 'h': 18, 'i': 21, 'n': 25, 'g': 4, 's': 22, 'c': 13, 'u': 9, 'r': 26, 'e': 49, 'd': 14, 'y': 7, 'w': 13, \"'\": 5, 'v': 5, 'm': 8, 'b': 5, 'k': 4, 'p': 6}\n",
      "{'\\n': 18, 'a': 29, ' ': 76, 'l': 14, 'o': 33, 't': 33, 'f': 6, 'h': 19, 'i': 21, 'n': 25, 'g': 4, 's': 22, 'c': 13, 'u': 9, 'r': 26, 'e': 49, 'd': 14, 'y': 7, 'w': 13, \"'\": 5, 'v': 5, 'm': 8, 'b': 5, 'k': 4, 'p': 6}\n",
      "{'\\n': 18, 'a': 29, ' ': 76, 'l': 14, 'o': 33, 't': 33, 'f': 6, 'h': 19, 'i': 21, 'n': 25, 'g': 4, 's': 22, 'c': 13, 'u': 9, 'r': 26, 'e': 50, 'd': 14, 'y': 7, 'w': 13, \"'\": 5, 'v': 5, 'm': 8, 'b': 5, 'k': 4, 'p': 6}\n",
      "{'\\n': 18, 'a': 29, ' ': 76, 'l': 14, 'o': 33, 't': 33, 'f': 6, 'h': 19, 'i': 22, 'n': 25, 'g': 4, 's': 22, 'c': 13, 'u': 9, 'r': 26, 'e': 50, 'd': 14, 'y': 7, 'w': 13, \"'\": 5, 'v': 5, 'm': 8, 'b': 5, 'k': 4, 'p': 6}\n",
      "{'\\n': 18, 'a': 29, ' ': 76, 'l': 14, 'o': 33, 't': 33, 'f': 6, 'h': 19, 'i': 22, 'n': 25, 'g': 4, 's': 22, 'c': 13, 'u': 9, 'r': 27, 'e': 50, 'd': 14, 'y': 7, 'w': 13, \"'\": 5, 'v': 5, 'm': 8, 'b': 5, 'k': 4, 'p': 6}\n",
      "{'\\n': 18, 'a': 29, ' ': 77, 'l': 14, 'o': 33, 't': 33, 'f': 6, 'h': 19, 'i': 22, 'n': 25, 'g': 4, 's': 22, 'c': 13, 'u': 9, 'r': 27, 'e': 50, 'd': 14, 'y': 7, 'w': 13, \"'\": 5, 'v': 5, 'm': 8, 'b': 5, 'k': 4, 'p': 6}\n",
      "{'\\n': 18, 'a': 29, ' ': 77, 'l': 15, 'o': 33, 't': 33, 'f': 6, 'h': 19, 'i': 22, 'n': 25, 'g': 4, 's': 22, 'c': 13, 'u': 9, 'r': 27, 'e': 50, 'd': 14, 'y': 7, 'w': 13, \"'\": 5, 'v': 5, 'm': 8, 'b': 5, 'k': 4, 'p': 6}\n",
      "{'\\n': 18, 'a': 30, ' ': 77, 'l': 15, 'o': 33, 't': 33, 'f': 6, 'h': 19, 'i': 22, 'n': 25, 'g': 4, 's': 22, 'c': 13, 'u': 9, 'r': 27, 'e': 50, 'd': 14, 'y': 7, 'w': 13, \"'\": 5, 'v': 5, 'm': 8, 'b': 5, 'k': 4, 'p': 6}\n",
      "{'\\n': 18, 'a': 30, ' ': 77, 'l': 15, 'o': 33, 't': 33, 'f': 6, 'h': 19, 'i': 22, 'n': 26, 'g': 4, 's': 22, 'c': 13, 'u': 9, 'r': 27, 'e': 50, 'd': 14, 'y': 7, 'w': 13, \"'\": 5, 'v': 5, 'm': 8, 'b': 5, 'k': 4, 'p': 6}\n",
      "{'\\n': 18, 'a': 30, ' ': 77, 'l': 15, 'o': 33, 't': 33, 'f': 6, 'h': 19, 'i': 22, 'n': 26, 'g': 4, 's': 22, 'c': 13, 'u': 9, 'r': 27, 'e': 50, 'd': 15, 'y': 7, 'w': 13, \"'\": 5, 'v': 5, 'm': 8, 'b': 5, 'k': 4, 'p': 6}\n",
      "{'\\n': 19, 'a': 30, ' ': 77, 'l': 15, 'o': 33, 't': 33, 'f': 6, 'h': 19, 'i': 22, 'n': 26, 'g': 4, 's': 22, 'c': 13, 'u': 9, 'r': 27, 'e': 50, 'd': 15, 'y': 7, 'w': 13, \"'\": 5, 'v': 5, 'm': 8, 'b': 5, 'k': 4, 'p': 6}\n",
      "{'\\n': 19, 'a': 30, ' ': 77, 'l': 15, 'o': 33, 't': 33, 'f': 6, 'h': 19, 'i': 23, 'n': 26, 'g': 4, 's': 22, 'c': 13, 'u': 9, 'r': 27, 'e': 50, 'd': 15, 'y': 7, 'w': 13, \"'\": 5, 'v': 5, 'm': 8, 'b': 5, 'k': 4, 'p': 6}\n",
      "{'\\n': 19, 'a': 30, ' ': 77, 'l': 15, 'o': 33, 't': 34, 'f': 6, 'h': 19, 'i': 23, 'n': 26, 'g': 4, 's': 22, 'c': 13, 'u': 9, 'r': 27, 'e': 50, 'd': 15, 'y': 7, 'w': 13, \"'\": 5, 'v': 5, 'm': 8, 'b': 5, 'k': 4, 'p': 6}\n",
      "{'\\n': 19, 'a': 30, ' ': 77, 'l': 15, 'o': 33, 't': 34, 'f': 6, 'h': 19, 'i': 23, 'n': 26, 'g': 4, 's': 22, 'c': 13, 'u': 9, 'r': 27, 'e': 50, 'd': 15, 'y': 7, 'w': 13, \"'\": 6, 'v': 5, 'm': 8, 'b': 5, 'k': 4, 'p': 6}\n",
      "{'\\n': 19, 'a': 30, ' ': 77, 'l': 15, 'o': 33, 't': 34, 'f': 6, 'h': 19, 'i': 23, 'n': 26, 'g': 4, 's': 23, 'c': 13, 'u': 9, 'r': 27, 'e': 50, 'd': 15, 'y': 7, 'w': 13, \"'\": 6, 'v': 5, 'm': 8, 'b': 5, 'k': 4, 'p': 6}\n",
      "{'\\n': 19, 'a': 30, ' ': 78, 'l': 15, 'o': 33, 't': 34, 'f': 6, 'h': 19, 'i': 23, 'n': 26, 'g': 4, 's': 23, 'c': 13, 'u': 9, 'r': 27, 'e': 50, 'd': 15, 'y': 7, 'w': 13, \"'\": 6, 'v': 5, 'm': 8, 'b': 5, 'k': 4, 'p': 6}\n",
      "{'\\n': 19, 'a': 31, ' ': 78, 'l': 15, 'o': 33, 't': 34, 'f': 6, 'h': 19, 'i': 23, 'n': 26, 'g': 4, 's': 23, 'c': 13, 'u': 9, 'r': 27, 'e': 50, 'd': 15, 'y': 7, 'w': 13, \"'\": 6, 'v': 5, 'm': 8, 'b': 5, 'k': 4, 'p': 6}\n",
      "{'\\n': 19, 'a': 31, ' ': 78, 'l': 16, 'o': 33, 't': 34, 'f': 6, 'h': 19, 'i': 23, 'n': 26, 'g': 4, 's': 23, 'c': 13, 'u': 9, 'r': 27, 'e': 50, 'd': 15, 'y': 7, 'w': 13, \"'\": 6, 'v': 5, 'm': 8, 'b': 5, 'k': 4, 'p': 6}\n",
      "{'\\n': 19, 'a': 31, ' ': 78, 'l': 17, 'o': 33, 't': 34, 'f': 6, 'h': 19, 'i': 23, 'n': 26, 'g': 4, 's': 23, 'c': 13, 'u': 9, 'r': 27, 'e': 50, 'd': 15, 'y': 7, 'w': 13, \"'\": 6, 'v': 5, 'm': 8, 'b': 5, 'k': 4, 'p': 6}\n",
      "{'\\n': 19, 'a': 31, ' ': 79, 'l': 17, 'o': 33, 't': 34, 'f': 6, 'h': 19, 'i': 23, 'n': 26, 'g': 4, 's': 23, 'c': 13, 'u': 9, 'r': 27, 'e': 50, 'd': 15, 'y': 7, 'w': 13, \"'\": 6, 'v': 5, 'm': 8, 'b': 5, 'k': 4, 'p': 6}\n",
      "{'\\n': 19, 'a': 31, ' ': 79, 'l': 17, 'o': 33, 't': 35, 'f': 6, 'h': 19, 'i': 23, 'n': 26, 'g': 4, 's': 23, 'c': 13, 'u': 9, 'r': 27, 'e': 50, 'd': 15, 'y': 7, 'w': 13, \"'\": 6, 'v': 5, 'm': 8, 'b': 5, 'k': 4, 'p': 6}\n",
      "{'\\n': 19, 'a': 31, ' ': 79, 'l': 17, 'o': 33, 't': 35, 'f': 6, 'h': 20, 'i': 23, 'n': 26, 'g': 4, 's': 23, 'c': 13, 'u': 9, 'r': 27, 'e': 50, 'd': 15, 'y': 7, 'w': 13, \"'\": 6, 'v': 5, 'm': 8, 'b': 5, 'k': 4, 'p': 6}\n",
      "{'\\n': 19, 'a': 31, ' ': 79, 'l': 17, 'o': 33, 't': 35, 'f': 6, 'h': 20, 'i': 23, 'n': 26, 'g': 4, 's': 23, 'c': 13, 'u': 9, 'r': 27, 'e': 51, 'd': 15, 'y': 7, 'w': 13, \"'\": 6, 'v': 5, 'm': 8, 'b': 5, 'k': 4, 'p': 6}\n",
      "{'\\n': 19, 'a': 31, ' ': 80, 'l': 17, 'o': 33, 't': 35, 'f': 6, 'h': 20, 'i': 23, 'n': 26, 'g': 4, 's': 23, 'c': 13, 'u': 9, 'r': 27, 'e': 51, 'd': 15, 'y': 7, 'w': 13, \"'\": 6, 'v': 5, 'm': 8, 'b': 5, 'k': 4, 'p': 6}\n",
      "{'\\n': 19, 'a': 31, ' ': 80, 'l': 17, 'o': 33, 't': 35, 'f': 6, 'h': 20, 'i': 23, 'n': 26, 'g': 4, 's': 24, 'c': 13, 'u': 9, 'r': 27, 'e': 51, 'd': 15, 'y': 7, 'w': 13, \"'\": 6, 'v': 5, 'm': 8, 'b': 5, 'k': 4, 'p': 6}\n",
      "{'\\n': 19, 'a': 32, ' ': 80, 'l': 17, 'o': 33, 't': 35, 'f': 6, 'h': 20, 'i': 23, 'n': 26, 'g': 4, 's': 24, 'c': 13, 'u': 9, 'r': 27, 'e': 51, 'd': 15, 'y': 7, 'w': 13, \"'\": 6, 'v': 5, 'm': 8, 'b': 5, 'k': 4, 'p': 6}\n",
      "{'\\n': 19, 'a': 32, ' ': 80, 'l': 17, 'o': 33, 't': 35, 'f': 6, 'h': 20, 'i': 23, 'n': 26, 'g': 4, 's': 24, 'c': 13, 'u': 9, 'r': 27, 'e': 51, 'd': 15, 'y': 7, 'w': 13, \"'\": 6, 'v': 5, 'm': 9, 'b': 5, 'k': 4, 'p': 6}\n",
      "{'\\n': 19, 'a': 32, ' ': 80, 'l': 17, 'o': 33, 't': 35, 'f': 6, 'h': 20, 'i': 23, 'n': 26, 'g': 4, 's': 24, 'c': 13, 'u': 9, 'r': 27, 'e': 52, 'd': 15, 'y': 7, 'w': 13, \"'\": 6, 'v': 5, 'm': 9, 'b': 5, 'k': 4, 'p': 6}\n",
      "{'\\n': 19, 'a': 32, ' ': 81, 'l': 17, 'o': 33, 't': 35, 'f': 6, 'h': 20, 'i': 23, 'n': 26, 'g': 4, 's': 24, 'c': 13, 'u': 9, 'r': 27, 'e': 52, 'd': 15, 'y': 7, 'w': 13, \"'\": 6, 'v': 5, 'm': 9, 'b': 5, 'k': 4, 'p': 6}\n",
      "{'\\n': 19, 'a': 33, ' ': 81, 'l': 17, 'o': 33, 't': 35, 'f': 6, 'h': 20, 'i': 23, 'n': 26, 'g': 4, 's': 24, 'c': 13, 'u': 9, 'r': 27, 'e': 52, 'd': 15, 'y': 7, 'w': 13, \"'\": 6, 'v': 5, 'm': 9, 'b': 5, 'k': 4, 'p': 6}\n",
      "{'\\n': 19, 'a': 33, ' ': 81, 'l': 17, 'o': 33, 't': 35, 'f': 6, 'h': 20, 'i': 23, 'n': 26, 'g': 5, 's': 24, 'c': 13, 'u': 9, 'r': 27, 'e': 52, 'd': 15, 'y': 7, 'w': 13, \"'\": 6, 'v': 5, 'm': 9, 'b': 5, 'k': 4, 'p': 6}\n",
      "{'\\n': 19, 'a': 34, ' ': 81, 'l': 17, 'o': 33, 't': 35, 'f': 6, 'h': 20, 'i': 23, 'n': 26, 'g': 5, 's': 24, 'c': 13, 'u': 9, 'r': 27, 'e': 52, 'd': 15, 'y': 7, 'w': 13, \"'\": 6, 'v': 5, 'm': 9, 'b': 5, 'k': 4, 'p': 6}\n",
      "{'\\n': 19, 'a': 34, ' ': 81, 'l': 17, 'o': 33, 't': 35, 'f': 6, 'h': 20, 'i': 24, 'n': 26, 'g': 5, 's': 24, 'c': 13, 'u': 9, 'r': 27, 'e': 52, 'd': 15, 'y': 7, 'w': 13, \"'\": 6, 'v': 5, 'm': 9, 'b': 5, 'k': 4, 'p': 6}\n",
      "{'\\n': 19, 'a': 34, ' ': 81, 'l': 17, 'o': 33, 't': 35, 'f': 6, 'h': 20, 'i': 24, 'n': 27, 'g': 5, 's': 24, 'c': 13, 'u': 9, 'r': 27, 'e': 52, 'd': 15, 'y': 7, 'w': 13, \"'\": 6, 'v': 5, 'm': 9, 'b': 5, 'k': 4, 'p': 6}\n",
      "{'\\n': 20, 'a': 34, ' ': 81, 'l': 17, 'o': 33, 't': 35, 'f': 6, 'h': 20, 'i': 24, 'n': 27, 'g': 5, 's': 24, 'c': 13, 'u': 9, 'r': 27, 'e': 52, 'd': 15, 'y': 7, 'w': 13, \"'\": 6, 'v': 5, 'm': 9, 'b': 5, 'k': 4, 'p': 6}\n",
      "{'\\n': 21, 'a': 34, ' ': 81, 'l': 17, 'o': 33, 't': 35, 'f': 6, 'h': 20, 'i': 24, 'n': 27, 'g': 5, 's': 24, 'c': 13, 'u': 9, 'r': 27, 'e': 52, 'd': 15, 'y': 7, 'w': 13, \"'\": 6, 'v': 5, 'm': 9, 'b': 5, 'k': 4, 'p': 6}\n",
      "{'\\n': 21, 'a': 34, ' ': 81, 'l': 17, 'o': 33, 't': 35, 'f': 6, 'h': 20, 'i': 25, 'n': 27, 'g': 5, 's': 24, 'c': 13, 'u': 9, 'r': 27, 'e': 52, 'd': 15, 'y': 7, 'w': 13, \"'\": 6, 'v': 5, 'm': 9, 'b': 5, 'k': 4, 'p': 6}\n",
      "{'\\n': 21, 'a': 34, ' ': 81, 'l': 17, 'o': 33, 't': 35, 'f': 7, 'h': 20, 'i': 25, 'n': 27, 'g': 5, 's': 24, 'c': 13, 'u': 9, 'r': 27, 'e': 52, 'd': 15, 'y': 7, 'w': 13, \"'\": 6, 'v': 5, 'm': 9, 'b': 5, 'k': 4, 'p': 6}\n",
      "{'\\n': 21, 'a': 34, ' ': 82, 'l': 17, 'o': 33, 't': 35, 'f': 7, 'h': 20, 'i': 25, 'n': 27, 'g': 5, 's': 24, 'c': 13, 'u': 9, 'r': 27, 'e': 52, 'd': 15, 'y': 7, 'w': 13, \"'\": 6, 'v': 5, 'm': 9, 'b': 5, 'k': 4, 'p': 6}\n",
      "{'\\n': 21, 'a': 35, ' ': 82, 'l': 17, 'o': 33, 't': 35, 'f': 7, 'h': 20, 'i': 25, 'n': 27, 'g': 5, 's': 24, 'c': 13, 'u': 9, 'r': 27, 'e': 52, 'd': 15, 'y': 7, 'w': 13, \"'\": 6, 'v': 5, 'm': 9, 'b': 5, 'k': 4, 'p': 6}\n",
      "{'\\n': 21, 'a': 35, ' ': 82, 'l': 17, 'o': 33, 't': 35, 'f': 7, 'h': 20, 'i': 25, 'n': 28, 'g': 5, 's': 24, 'c': 13, 'u': 9, 'r': 27, 'e': 52, 'd': 15, 'y': 7, 'w': 13, \"'\": 6, 'v': 5, 'm': 9, 'b': 5, 'k': 4, 'p': 6}\n",
      "{'\\n': 21, 'a': 35, ' ': 82, 'l': 17, 'o': 33, 't': 35, 'f': 7, 'h': 20, 'i': 25, 'n': 28, 'g': 5, 's': 24, 'c': 13, 'u': 9, 'r': 27, 'e': 52, 'd': 15, 'y': 8, 'w': 13, \"'\": 6, 'v': 5, 'm': 9, 'b': 5, 'k': 4, 'p': 6}\n",
      "{'\\n': 21, 'a': 35, ' ': 83, 'l': 17, 'o': 33, 't': 35, 'f': 7, 'h': 20, 'i': 25, 'n': 28, 'g': 5, 's': 24, 'c': 13, 'u': 9, 'r': 27, 'e': 52, 'd': 15, 'y': 8, 'w': 13, \"'\": 6, 'v': 5, 'm': 9, 'b': 5, 'k': 4, 'p': 6}\n",
      "{'\\n': 21, 'a': 35, ' ': 83, 'l': 17, 'o': 33, 't': 35, 'f': 7, 'h': 20, 'i': 25, 'n': 28, 'g': 5, 's': 24, 'c': 13, 'u': 9, 'r': 27, 'e': 52, 'd': 15, 'y': 8, 'w': 13, \"'\": 6, 'v': 5, 'm': 10, 'b': 5, 'k': 4, 'p': 6}\n",
      "{'\\n': 21, 'a': 36, ' ': 83, 'l': 17, 'o': 33, 't': 35, 'f': 7, 'h': 20, 'i': 25, 'n': 28, 'g': 5, 's': 24, 'c': 13, 'u': 9, 'r': 27, 'e': 52, 'd': 15, 'y': 8, 'w': 13, \"'\": 6, 'v': 5, 'm': 10, 'b': 5, 'k': 4, 'p': 6}\n",
      "{'\\n': 21, 'a': 36, ' ': 83, 'l': 17, 'o': 33, 't': 35, 'f': 7, 'h': 20, 'i': 25, 'n': 29, 'g': 5, 's': 24, 'c': 13, 'u': 9, 'r': 27, 'e': 52, 'd': 15, 'y': 8, 'w': 13, \"'\": 6, 'v': 5, 'm': 10, 'b': 5, 'k': 4, 'p': 6}\n",
      "{'\\n': 21, 'a': 36, ' ': 84, 'l': 17, 'o': 33, 't': 35, 'f': 7, 'h': 20, 'i': 25, 'n': 29, 'g': 5, 's': 24, 'c': 13, 'u': 9, 'r': 27, 'e': 52, 'd': 15, 'y': 8, 'w': 13, \"'\": 6, 'v': 5, 'm': 10, 'b': 5, 'k': 4, 'p': 6}\n",
      "{'\\n': 21, 'a': 36, ' ': 84, 'l': 17, 'o': 33, 't': 35, 'f': 7, 'h': 20, 'i': 26, 'n': 29, 'g': 5, 's': 24, 'c': 13, 'u': 9, 'r': 27, 'e': 52, 'd': 15, 'y': 8, 'w': 13, \"'\": 6, 'v': 5, 'm': 10, 'b': 5, 'k': 4, 'p': 6}\n",
      "{'\\n': 21, 'a': 36, ' ': 84, 'l': 17, 'o': 33, 't': 35, 'f': 7, 'h': 20, 'i': 26, 'n': 29, 'g': 5, 's': 25, 'c': 13, 'u': 9, 'r': 27, 'e': 52, 'd': 15, 'y': 8, 'w': 13, \"'\": 6, 'v': 5, 'm': 10, 'b': 5, 'k': 4, 'p': 6}\n",
      "{'\\n': 21, 'a': 36, ' ': 85, 'l': 17, 'o': 33, 't': 35, 'f': 7, 'h': 20, 'i': 26, 'n': 29, 'g': 5, 's': 25, 'c': 13, 'u': 9, 'r': 27, 'e': 52, 'd': 15, 'y': 8, 'w': 13, \"'\": 6, 'v': 5, 'm': 10, 'b': 5, 'k': 4, 'p': 6}\n",
      "{'\\n': 21, 'a': 36, ' ': 85, 'l': 17, 'o': 33, 't': 35, 'f': 8, 'h': 20, 'i': 26, 'n': 29, 'g': 5, 's': 25, 'c': 13, 'u': 9, 'r': 27, 'e': 52, 'd': 15, 'y': 8, 'w': 13, \"'\": 6, 'v': 5, 'm': 10, 'b': 5, 'k': 4, 'p': 6}\n",
      "{'\\n': 21, 'a': 36, ' ': 85, 'l': 17, 'o': 33, 't': 35, 'f': 8, 'h': 20, 'i': 26, 'n': 29, 'g': 5, 's': 25, 'c': 13, 'u': 9, 'r': 28, 'e': 52, 'd': 15, 'y': 8, 'w': 13, \"'\": 6, 'v': 5, 'm': 10, 'b': 5, 'k': 4, 'p': 6}\n",
      "{'\\n': 21, 'a': 36, ' ': 85, 'l': 17, 'o': 33, 't': 35, 'f': 8, 'h': 20, 'i': 26, 'n': 29, 'g': 5, 's': 25, 'c': 13, 'u': 9, 'r': 28, 'e': 53, 'd': 15, 'y': 8, 'w': 13, \"'\": 6, 'v': 5, 'm': 10, 'b': 5, 'k': 4, 'p': 6}\n",
      "{'\\n': 21, 'a': 36, ' ': 85, 'l': 17, 'o': 33, 't': 35, 'f': 8, 'h': 20, 'i': 26, 'n': 29, 'g': 5, 's': 25, 'c': 13, 'u': 9, 'r': 28, 'e': 54, 'd': 15, 'y': 8, 'w': 13, \"'\": 6, 'v': 5, 'm': 10, 'b': 5, 'k': 4, 'p': 6}\n",
      "{'\\n': 21, 'a': 36, ' ': 86, 'l': 17, 'o': 33, 't': 35, 'f': 8, 'h': 20, 'i': 26, 'n': 29, 'g': 5, 's': 25, 'c': 13, 'u': 9, 'r': 28, 'e': 54, 'd': 15, 'y': 8, 'w': 13, \"'\": 6, 'v': 5, 'm': 10, 'b': 5, 'k': 4, 'p': 6}\n",
      "{'\\n': 21, 'a': 36, ' ': 86, 'l': 17, 'o': 34, 't': 35, 'f': 8, 'h': 20, 'i': 26, 'n': 29, 'g': 5, 's': 25, 'c': 13, 'u': 9, 'r': 28, 'e': 54, 'd': 15, 'y': 8, 'w': 13, \"'\": 6, 'v': 5, 'm': 10, 'b': 5, 'k': 4, 'p': 6}\n",
      "{'\\n': 21, 'a': 36, ' ': 86, 'l': 17, 'o': 34, 't': 35, 'f': 8, 'h': 20, 'i': 26, 'n': 30, 'g': 5, 's': 25, 'c': 13, 'u': 9, 'r': 28, 'e': 54, 'd': 15, 'y': 8, 'w': 13, \"'\": 6, 'v': 5, 'm': 10, 'b': 5, 'k': 4, 'p': 6}\n",
      "{'\\n': 21, 'a': 36, ' ': 87, 'l': 17, 'o': 34, 't': 35, 'f': 8, 'h': 20, 'i': 26, 'n': 30, 'g': 5, 's': 25, 'c': 13, 'u': 9, 'r': 28, 'e': 54, 'd': 15, 'y': 8, 'w': 13, \"'\": 6, 'v': 5, 'm': 10, 'b': 5, 'k': 4, 'p': 6}\n",
      "{'\\n': 21, 'a': 36, ' ': 87, 'l': 17, 'o': 34, 't': 35, 'f': 8, 'h': 20, 'i': 26, 'n': 30, 'g': 5, 's': 25, 'c': 13, 'u': 9, 'r': 28, 'e': 55, 'd': 15, 'y': 8, 'w': 13, \"'\": 6, 'v': 5, 'm': 10, 'b': 5, 'k': 4, 'p': 6}\n",
      "{'\\n': 21, 'a': 37, ' ': 87, 'l': 17, 'o': 34, 't': 35, 'f': 8, 'h': 20, 'i': 26, 'n': 30, 'g': 5, 's': 25, 'c': 13, 'u': 9, 'r': 28, 'e': 55, 'd': 15, 'y': 8, 'w': 13, \"'\": 6, 'v': 5, 'm': 10, 'b': 5, 'k': 4, 'p': 6}\n",
      "{'\\n': 21, 'a': 37, ' ': 87, 'l': 17, 'o': 34, 't': 35, 'f': 8, 'h': 20, 'i': 26, 'n': 30, 'g': 5, 's': 25, 'c': 13, 'u': 9, 'r': 29, 'e': 55, 'd': 15, 'y': 8, 'w': 13, \"'\": 6, 'v': 5, 'm': 10, 'b': 5, 'k': 4, 'p': 6}\n",
      "{'\\n': 21, 'a': 37, ' ': 87, 'l': 17, 'o': 34, 't': 36, 'f': 8, 'h': 20, 'i': 26, 'n': 30, 'g': 5, 's': 25, 'c': 13, 'u': 9, 'r': 29, 'e': 55, 'd': 15, 'y': 8, 'w': 13, \"'\": 6, 'v': 5, 'm': 10, 'b': 5, 'k': 4, 'p': 6}\n",
      "{'\\n': 21, 'a': 37, ' ': 87, 'l': 17, 'o': 34, 't': 36, 'f': 8, 'h': 21, 'i': 26, 'n': 30, 'g': 5, 's': 25, 'c': 13, 'u': 9, 'r': 29, 'e': 55, 'd': 15, 'y': 8, 'w': 13, \"'\": 6, 'v': 5, 'm': 10, 'b': 5, 'k': 4, 'p': 6}\n",
      "{'\\n': 22, 'a': 37, ' ': 87, 'l': 17, 'o': 34, 't': 36, 'f': 8, 'h': 21, 'i': 26, 'n': 30, 'g': 5, 's': 25, 'c': 13, 'u': 9, 'r': 29, 'e': 55, 'd': 15, 'y': 8, 'w': 13, \"'\": 6, 'v': 5, 'm': 10, 'b': 5, 'k': 4, 'p': 6}\n",
      "{'\\n': 22, 'a': 37, ' ': 87, 'l': 17, 'o': 34, 't': 37, 'f': 8, 'h': 21, 'i': 26, 'n': 30, 'g': 5, 's': 25, 'c': 13, 'u': 9, 'r': 29, 'e': 55, 'd': 15, 'y': 8, 'w': 13, \"'\": 6, 'v': 5, 'm': 10, 'b': 5, 'k': 4, 'p': 6}\n",
      "{'\\n': 22, 'a': 37, ' ': 87, 'l': 17, 'o': 34, 't': 37, 'f': 8, 'h': 22, 'i': 26, 'n': 30, 'g': 5, 's': 25, 'c': 13, 'u': 9, 'r': 29, 'e': 55, 'd': 15, 'y': 8, 'w': 13, \"'\": 6, 'v': 5, 'm': 10, 'b': 5, 'k': 4, 'p': 6}\n",
      "{'\\n': 22, 'a': 37, ' ': 87, 'l': 17, 'o': 34, 't': 37, 'f': 8, 'h': 22, 'i': 26, 'n': 30, 'g': 5, 's': 25, 'c': 13, 'u': 9, 'r': 29, 'e': 56, 'd': 15, 'y': 8, 'w': 13, \"'\": 6, 'v': 5, 'm': 10, 'b': 5, 'k': 4, 'p': 6}\n",
      "{'\\n': 22, 'a': 37, ' ': 87, 'l': 17, 'o': 34, 't': 37, 'f': 8, 'h': 22, 'i': 26, 'n': 31, 'g': 5, 's': 25, 'c': 13, 'u': 9, 'r': 29, 'e': 56, 'd': 15, 'y': 8, 'w': 13, \"'\": 6, 'v': 5, 'm': 10, 'b': 5, 'k': 4, 'p': 6}\n",
      "{'\\n': 22, 'a': 37, ' ': 88, 'l': 17, 'o': 34, 't': 37, 'f': 8, 'h': 22, 'i': 26, 'n': 31, 'g': 5, 's': 25, 'c': 13, 'u': 9, 'r': 29, 'e': 56, 'd': 15, 'y': 8, 'w': 13, \"'\": 6, 'v': 5, 'm': 10, 'b': 5, 'k': 4, 'p': 6}\n",
      "{'\\n': 22, 'a': 37, ' ': 88, 'l': 17, 'o': 34, 't': 38, 'f': 8, 'h': 22, 'i': 26, 'n': 31, 'g': 5, 's': 25, 'c': 13, 'u': 9, 'r': 29, 'e': 56, 'd': 15, 'y': 8, 'w': 13, \"'\": 6, 'v': 5, 'm': 10, 'b': 5, 'k': 4, 'p': 6}\n",
      "{'\\n': 22, 'a': 37, ' ': 88, 'l': 17, 'o': 35, 't': 38, 'f': 8, 'h': 22, 'i': 26, 'n': 31, 'g': 5, 's': 25, 'c': 13, 'u': 9, 'r': 29, 'e': 56, 'd': 15, 'y': 8, 'w': 13, \"'\": 6, 'v': 5, 'm': 10, 'b': 5, 'k': 4, 'p': 6}\n",
      "{'\\n': 22, 'a': 37, ' ': 88, 'l': 17, 'o': 35, 't': 38, 'f': 8, 'h': 22, 'i': 26, 'n': 31, 'g': 5, 's': 25, 'c': 13, 'u': 9, 'r': 30, 'e': 56, 'd': 15, 'y': 8, 'w': 13, \"'\": 6, 'v': 5, 'm': 10, 'b': 5, 'k': 4, 'p': 6}\n",
      "{'\\n': 22, 'a': 37, ' ': 88, 'l': 17, 'o': 35, 't': 38, 'f': 8, 'h': 22, 'i': 26, 'n': 31, 'g': 5, 's': 25, 'c': 13, 'u': 9, 'r': 30, 'e': 56, 'd': 15, 'y': 8, 'w': 13, \"'\": 6, 'v': 5, 'm': 11, 'b': 5, 'k': 4, 'p': 6}\n",
      "{'\\n': 22, 'a': 37, ' ': 88, 'l': 17, 'o': 35, 't': 38, 'f': 8, 'h': 22, 'i': 26, 'n': 31, 'g': 5, 's': 25, 'c': 13, 'u': 9, 'r': 30, 'e': 57, 'd': 15, 'y': 8, 'w': 13, \"'\": 6, 'v': 5, 'm': 11, 'b': 5, 'k': 4, 'p': 6}\n",
      "{'\\n': 22, 'a': 37, ' ': 88, 'l': 17, 'o': 35, 't': 38, 'f': 8, 'h': 22, 'i': 26, 'n': 32, 'g': 5, 's': 25, 'c': 13, 'u': 9, 'r': 30, 'e': 57, 'd': 15, 'y': 8, 'w': 13, \"'\": 6, 'v': 5, 'm': 11, 'b': 5, 'k': 4, 'p': 6}\n",
      "{'\\n': 22, 'a': 37, ' ': 88, 'l': 17, 'o': 35, 't': 39, 'f': 8, 'h': 22, 'i': 26, 'n': 32, 'g': 5, 's': 25, 'c': 13, 'u': 9, 'r': 30, 'e': 57, 'd': 15, 'y': 8, 'w': 13, \"'\": 6, 'v': 5, 'm': 11, 'b': 5, 'k': 4, 'p': 6}\n",
      "{'\\n': 22, 'a': 37, ' ': 88, 'l': 17, 'o': 36, 't': 39, 'f': 8, 'h': 22, 'i': 26, 'n': 32, 'g': 5, 's': 25, 'c': 13, 'u': 9, 'r': 30, 'e': 57, 'd': 15, 'y': 8, 'w': 13, \"'\": 6, 'v': 5, 'm': 11, 'b': 5, 'k': 4, 'p': 6}\n",
      "{'\\n': 22, 'a': 37, ' ': 88, 'l': 17, 'o': 36, 't': 39, 'f': 8, 'h': 22, 'i': 26, 'n': 32, 'g': 5, 's': 25, 'c': 13, 'u': 9, 'r': 31, 'e': 57, 'd': 15, 'y': 8, 'w': 13, \"'\": 6, 'v': 5, 'm': 11, 'b': 5, 'k': 4, 'p': 6}\n",
      "{'\\n': 22, 'a': 37, ' ': 88, 'l': 17, 'o': 36, 't': 39, 'f': 8, 'h': 22, 'i': 26, 'n': 32, 'g': 5, 's': 26, 'c': 13, 'u': 9, 'r': 31, 'e': 57, 'd': 15, 'y': 8, 'w': 13, \"'\": 6, 'v': 5, 'm': 11, 'b': 5, 'k': 4, 'p': 6}\n",
      "{'\\n': 22, 'a': 37, ' ': 89, 'l': 17, 'o': 36, 't': 39, 'f': 8, 'h': 22, 'i': 26, 'n': 32, 'g': 5, 's': 26, 'c': 13, 'u': 9, 'r': 31, 'e': 57, 'd': 15, 'y': 8, 'w': 13, \"'\": 6, 'v': 5, 'm': 11, 'b': 5, 'k': 4, 'p': 6}\n",
      "{'\\n': 22, 'a': 37, ' ': 89, 'l': 17, 'o': 36, 't': 39, 'f': 8, 'h': 22, 'i': 26, 'n': 32, 'g': 5, 's': 27, 'c': 13, 'u': 9, 'r': 31, 'e': 57, 'd': 15, 'y': 8, 'w': 13, \"'\": 6, 'v': 5, 'm': 11, 'b': 5, 'k': 4, 'p': 6}\n",
      "{'\\n': 22, 'a': 37, ' ': 89, 'l': 17, 'o': 36, 't': 40, 'f': 8, 'h': 22, 'i': 26, 'n': 32, 'g': 5, 's': 27, 'c': 13, 'u': 9, 'r': 31, 'e': 57, 'd': 15, 'y': 8, 'w': 13, \"'\": 6, 'v': 5, 'm': 11, 'b': 5, 'k': 4, 'p': 6}\n",
      "{'\\n': 22, 'a': 37, ' ': 89, 'l': 17, 'o': 36, 't': 40, 'f': 8, 'h': 22, 'i': 26, 'n': 32, 'g': 5, 's': 27, 'c': 13, 'u': 9, 'r': 31, 'e': 58, 'd': 15, 'y': 8, 'w': 13, \"'\": 6, 'v': 5, 'm': 11, 'b': 5, 'k': 4, 'p': 6}\n",
      "{'\\n': 22, 'a': 38, ' ': 89, 'l': 17, 'o': 36, 't': 40, 'f': 8, 'h': 22, 'i': 26, 'n': 32, 'g': 5, 's': 27, 'c': 13, 'u': 9, 'r': 31, 'e': 58, 'd': 15, 'y': 8, 'w': 13, \"'\": 6, 'v': 5, 'm': 11, 'b': 5, 'k': 4, 'p': 6}\n",
      "{'\\n': 22, 'a': 38, ' ': 89, 'l': 18, 'o': 36, 't': 40, 'f': 8, 'h': 22, 'i': 26, 'n': 32, 'g': 5, 's': 27, 'c': 13, 'u': 9, 'r': 31, 'e': 58, 'd': 15, 'y': 8, 'w': 13, \"'\": 6, 'v': 5, 'm': 11, 'b': 5, 'k': 4, 'p': 6}\n",
      "{'\\n': 22, 'a': 38, ' ': 90, 'l': 18, 'o': 36, 't': 40, 'f': 8, 'h': 22, 'i': 26, 'n': 32, 'g': 5, 's': 27, 'c': 13, 'u': 9, 'r': 31, 'e': 58, 'd': 15, 'y': 8, 'w': 13, \"'\": 6, 'v': 5, 'm': 11, 'b': 5, 'k': 4, 'p': 6}\n",
      "{'\\n': 22, 'a': 38, ' ': 90, 'l': 18, 'o': 36, 't': 40, 'f': 8, 'h': 23, 'i': 26, 'n': 32, 'g': 5, 's': 27, 'c': 13, 'u': 9, 'r': 31, 'e': 58, 'd': 15, 'y': 8, 'w': 13, \"'\": 6, 'v': 5, 'm': 11, 'b': 5, 'k': 4, 'p': 6}\n",
      "{'\\n': 22, 'a': 38, ' ': 90, 'l': 18, 'o': 36, 't': 40, 'f': 8, 'h': 23, 'i': 27, 'n': 32, 'g': 5, 's': 27, 'c': 13, 'u': 9, 'r': 31, 'e': 58, 'd': 15, 'y': 8, 'w': 13, \"'\": 6, 'v': 5, 'm': 11, 'b': 5, 'k': 4, 'p': 6}\n",
      "{'\\n': 22, 'a': 38, ' ': 90, 'l': 18, 'o': 36, 't': 40, 'f': 8, 'h': 23, 'i': 27, 'n': 32, 'g': 5, 's': 28, 'c': 13, 'u': 9, 'r': 31, 'e': 58, 'd': 15, 'y': 8, 'w': 13, \"'\": 6, 'v': 5, 'm': 11, 'b': 5, 'k': 4, 'p': 6}\n",
      "{'\\n': 22, 'a': 38, ' ': 91, 'l': 18, 'o': 36, 't': 40, 'f': 8, 'h': 23, 'i': 27, 'n': 32, 'g': 5, 's': 28, 'c': 13, 'u': 9, 'r': 31, 'e': 58, 'd': 15, 'y': 8, 'w': 13, \"'\": 6, 'v': 5, 'm': 11, 'b': 5, 'k': 4, 'p': 6}\n",
      "{'\\n': 22, 'a': 38, ' ': 91, 'l': 18, 'o': 36, 't': 40, 'f': 8, 'h': 23, 'i': 27, 'n': 32, 'g': 5, 's': 28, 'c': 13, 'u': 9, 'r': 31, 'e': 58, 'd': 15, 'y': 8, 'w': 13, \"'\": 6, 'v': 5, 'm': 11, 'b': 6, 'k': 4, 'p': 6}\n",
      "{'\\n': 22, 'a': 38, ' ': 91, 'l': 18, 'o': 36, 't': 40, 'f': 8, 'h': 23, 'i': 28, 'n': 32, 'g': 5, 's': 28, 'c': 13, 'u': 9, 'r': 31, 'e': 58, 'd': 15, 'y': 8, 'w': 13, \"'\": 6, 'v': 5, 'm': 11, 'b': 6, 'k': 4, 'p': 6}\n",
      "{'\\n': 22, 'a': 38, ' ': 91, 'l': 18, 'o': 36, 't': 40, 'f': 8, 'h': 23, 'i': 28, 'n': 32, 'g': 5, 's': 28, 'c': 13, 'u': 9, 'r': 32, 'e': 58, 'd': 15, 'y': 8, 'w': 13, \"'\": 6, 'v': 5, 'm': 11, 'b': 6, 'k': 4, 'p': 6}\n",
      "{'\\n': 22, 'a': 38, ' ': 91, 'l': 18, 'o': 36, 't': 41, 'f': 8, 'h': 23, 'i': 28, 'n': 32, 'g': 5, 's': 28, 'c': 13, 'u': 9, 'r': 32, 'e': 58, 'd': 15, 'y': 8, 'w': 13, \"'\": 6, 'v': 5, 'm': 11, 'b': 6, 'k': 4, 'p': 6}\n",
      "{'\\n': 22, 'a': 38, ' ': 91, 'l': 18, 'o': 36, 't': 41, 'f': 8, 'h': 24, 'i': 28, 'n': 32, 'g': 5, 's': 28, 'c': 13, 'u': 9, 'r': 32, 'e': 58, 'd': 15, 'y': 8, 'w': 13, \"'\": 6, 'v': 5, 'm': 11, 'b': 6, 'k': 4, 'p': 6}\n",
      "{'\\n': 23, 'a': 38, ' ': 91, 'l': 18, 'o': 36, 't': 41, 'f': 8, 'h': 24, 'i': 28, 'n': 32, 'g': 5, 's': 28, 'c': 13, 'u': 9, 'r': 32, 'e': 58, 'd': 15, 'y': 8, 'w': 13, \"'\": 6, 'v': 5, 'm': 11, 'b': 6, 'k': 4, 'p': 6}\n",
      "{'\\n': 23, 'a': 38, ' ': 91, 'l': 18, 'o': 36, 't': 42, 'f': 8, 'h': 24, 'i': 28, 'n': 32, 'g': 5, 's': 28, 'c': 13, 'u': 9, 'r': 32, 'e': 58, 'd': 15, 'y': 8, 'w': 13, \"'\": 6, 'v': 5, 'm': 11, 'b': 6, 'k': 4, 'p': 6}\n",
      "{'\\n': 23, 'a': 38, ' ': 91, 'l': 18, 'o': 36, 't': 42, 'f': 8, 'h': 25, 'i': 28, 'n': 32, 'g': 5, 's': 28, 'c': 13, 'u': 9, 'r': 32, 'e': 58, 'd': 15, 'y': 8, 'w': 13, \"'\": 6, 'v': 5, 'm': 11, 'b': 6, 'k': 4, 'p': 6}\n",
      "{'\\n': 23, 'a': 38, ' ': 91, 'l': 18, 'o': 36, 't': 42, 'f': 8, 'h': 25, 'i': 28, 'n': 32, 'g': 5, 's': 28, 'c': 13, 'u': 9, 'r': 32, 'e': 59, 'd': 15, 'y': 8, 'w': 13, \"'\": 6, 'v': 5, 'm': 11, 'b': 6, 'k': 4, 'p': 6}\n",
      "{'\\n': 23, 'a': 38, ' ': 91, 'l': 18, 'o': 36, 't': 42, 'f': 8, 'h': 25, 'i': 28, 'n': 32, 'g': 5, 's': 28, 'c': 13, 'u': 9, 'r': 32, 'e': 59, 'd': 15, 'y': 9, 'w': 13, \"'\": 6, 'v': 5, 'm': 11, 'b': 6, 'k': 4, 'p': 6}\n",
      "{'\\n': 23, 'a': 38, ' ': 92, 'l': 18, 'o': 36, 't': 42, 'f': 8, 'h': 25, 'i': 28, 'n': 32, 'g': 5, 's': 28, 'c': 13, 'u': 9, 'r': 32, 'e': 59, 'd': 15, 'y': 9, 'w': 13, \"'\": 6, 'v': 5, 'm': 11, 'b': 6, 'k': 4, 'p': 6}\n",
      "{'\\n': 23, 'a': 38, ' ': 92, 'l': 18, 'o': 36, 't': 42, 'f': 8, 'h': 25, 'i': 28, 'n': 32, 'g': 5, 's': 29, 'c': 13, 'u': 9, 'r': 32, 'e': 59, 'd': 15, 'y': 9, 'w': 13, \"'\": 6, 'v': 5, 'm': 11, 'b': 6, 'k': 4, 'p': 6}\n",
      "{'\\n': 23, 'a': 38, ' ': 92, 'l': 19, 'o': 36, 't': 42, 'f': 8, 'h': 25, 'i': 28, 'n': 32, 'g': 5, 's': 29, 'c': 13, 'u': 9, 'r': 32, 'e': 59, 'd': 15, 'y': 9, 'w': 13, \"'\": 6, 'v': 5, 'm': 11, 'b': 6, 'k': 4, 'p': 6}\n",
      "{'\\n': 23, 'a': 39, ' ': 92, 'l': 19, 'o': 36, 't': 42, 'f': 8, 'h': 25, 'i': 28, 'n': 32, 'g': 5, 's': 29, 'c': 13, 'u': 9, 'r': 32, 'e': 59, 'd': 15, 'y': 9, 'w': 13, \"'\": 6, 'v': 5, 'm': 11, 'b': 6, 'k': 4, 'p': 6}\n",
      "{'\\n': 23, 'a': 39, ' ': 92, 'l': 19, 'o': 36, 't': 42, 'f': 8, 'h': 25, 'i': 28, 'n': 32, 'g': 5, 's': 29, 'c': 13, 'u': 9, 'r': 32, 'e': 59, 'd': 15, 'y': 9, 'w': 13, \"'\": 6, 'v': 5, 'm': 12, 'b': 6, 'k': 4, 'p': 6}\n",
      "{'\\n': 23, 'a': 39, ' ': 93, 'l': 19, 'o': 36, 't': 42, 'f': 8, 'h': 25, 'i': 28, 'n': 32, 'g': 5, 's': 29, 'c': 13, 'u': 9, 'r': 32, 'e': 59, 'd': 15, 'y': 9, 'w': 13, \"'\": 6, 'v': 5, 'm': 12, 'b': 6, 'k': 4, 'p': 6}\n",
      "{'\\n': 23, 'a': 39, ' ': 93, 'l': 19, 'o': 36, 't': 42, 'f': 8, 'h': 25, 'i': 28, 'n': 32, 'g': 6, 's': 29, 'c': 13, 'u': 9, 'r': 32, 'e': 59, 'd': 15, 'y': 9, 'w': 13, \"'\": 6, 'v': 5, 'm': 12, 'b': 6, 'k': 4, 'p': 6}\n",
      "{'\\n': 23, 'a': 39, ' ': 93, 'l': 19, 'o': 36, 't': 42, 'f': 8, 'h': 25, 'i': 28, 'n': 32, 'g': 6, 's': 29, 'c': 13, 'u': 10, 'r': 32, 'e': 59, 'd': 15, 'y': 9, 'w': 13, \"'\": 6, 'v': 5, 'm': 12, 'b': 6, 'k': 4, 'p': 6}\n",
      "{'\\n': 23, 'a': 39, ' ': 93, 'l': 19, 'o': 36, 't': 42, 'f': 8, 'h': 25, 'i': 28, 'n': 33, 'g': 6, 's': 29, 'c': 13, 'u': 10, 'r': 32, 'e': 59, 'd': 15, 'y': 9, 'w': 13, \"'\": 6, 'v': 5, 'm': 12, 'b': 6, 'k': 4, 'p': 6}\n",
      "{'\\n': 23, 'a': 39, ' ': 94, 'l': 19, 'o': 36, 't': 42, 'f': 8, 'h': 25, 'i': 28, 'n': 33, 'g': 6, 's': 29, 'c': 13, 'u': 10, 'r': 32, 'e': 59, 'd': 15, 'y': 9, 'w': 13, \"'\": 6, 'v': 5, 'm': 12, 'b': 6, 'k': 4, 'p': 6}\n",
      "{'\\n': 23, 'a': 39, ' ': 94, 'l': 19, 'o': 36, 't': 42, 'f': 8, 'h': 25, 'i': 28, 'n': 33, 'g': 6, 's': 29, 'c': 13, 'u': 10, 'r': 32, 'e': 59, 'd': 15, 'y': 9, 'w': 13, \"'\": 6, 'v': 5, 'm': 12, 'b': 7, 'k': 4, 'p': 6}\n",
      "{'\\n': 23, 'a': 39, ' ': 94, 'l': 19, 'o': 36, 't': 42, 'f': 8, 'h': 25, 'i': 28, 'n': 33, 'g': 6, 's': 29, 'c': 13, 'u': 11, 'r': 32, 'e': 59, 'd': 15, 'y': 9, 'w': 13, \"'\": 6, 'v': 5, 'm': 12, 'b': 7, 'k': 4, 'p': 6}\n",
      "{'\\n': 23, 'a': 39, ' ': 94, 'l': 19, 'o': 36, 't': 43, 'f': 8, 'h': 25, 'i': 28, 'n': 33, 'g': 6, 's': 29, 'c': 13, 'u': 11, 'r': 32, 'e': 59, 'd': 15, 'y': 9, 'w': 13, \"'\": 6, 'v': 5, 'm': 12, 'b': 7, 'k': 4, 'p': 6}\n",
      "{'\\n': 23, 'a': 39, ' ': 94, 'l': 19, 'o': 36, 't': 44, 'f': 8, 'h': 25, 'i': 28, 'n': 33, 'g': 6, 's': 29, 'c': 13, 'u': 11, 'r': 32, 'e': 59, 'd': 15, 'y': 9, 'w': 13, \"'\": 6, 'v': 5, 'm': 12, 'b': 7, 'k': 4, 'p': 6}\n",
      "{'\\n': 23, 'a': 39, ' ': 94, 'l': 19, 'o': 36, 't': 44, 'f': 8, 'h': 25, 'i': 28, 'n': 33, 'g': 6, 's': 30, 'c': 13, 'u': 11, 'r': 32, 'e': 59, 'd': 15, 'y': 9, 'w': 13, \"'\": 6, 'v': 5, 'm': 12, 'b': 7, 'k': 4, 'p': 6}\n",
      "{'\\n': 23, 'a': 39, ' ': 95, 'l': 19, 'o': 36, 't': 44, 'f': 8, 'h': 25, 'i': 28, 'n': 33, 'g': 6, 's': 30, 'c': 13, 'u': 11, 'r': 32, 'e': 59, 'd': 15, 'y': 9, 'w': 13, \"'\": 6, 'v': 5, 'm': 12, 'b': 7, 'k': 4, 'p': 6}\n",
      "{'\\n': 23, 'a': 39, ' ': 95, 'l': 19, 'o': 36, 't': 44, 'f': 8, 'h': 25, 'i': 29, 'n': 33, 'g': 6, 's': 30, 'c': 13, 'u': 11, 'r': 32, 'e': 59, 'd': 15, 'y': 9, 'w': 13, \"'\": 6, 'v': 5, 'm': 12, 'b': 7, 'k': 4, 'p': 6}\n",
      "{'\\n': 23, 'a': 39, ' ': 95, 'l': 19, 'o': 36, 't': 44, 'f': 8, 'h': 25, 'i': 29, 'n': 34, 'g': 6, 's': 30, 'c': 13, 'u': 11, 'r': 32, 'e': 59, 'd': 15, 'y': 9, 'w': 13, \"'\": 6, 'v': 5, 'm': 12, 'b': 7, 'k': 4, 'p': 6}\n",
      "{'\\n': 23, 'a': 39, ' ': 96, 'l': 19, 'o': 36, 't': 44, 'f': 8, 'h': 25, 'i': 29, 'n': 34, 'g': 6, 's': 30, 'c': 13, 'u': 11, 'r': 32, 'e': 59, 'd': 15, 'y': 9, 'w': 13, \"'\": 6, 'v': 5, 'm': 12, 'b': 7, 'k': 4, 'p': 6}\n",
      "{'\\n': 23, 'a': 39, ' ': 96, 'l': 19, 'o': 36, 't': 44, 'f': 8, 'h': 26, 'i': 29, 'n': 34, 'g': 6, 's': 30, 'c': 13, 'u': 11, 'r': 32, 'e': 59, 'd': 15, 'y': 9, 'w': 13, \"'\": 6, 'v': 5, 'm': 12, 'b': 7, 'k': 4, 'p': 6}\n",
      "{'\\n': 23, 'a': 39, ' ': 96, 'l': 19, 'o': 36, 't': 44, 'f': 8, 'h': 26, 'i': 30, 'n': 34, 'g': 6, 's': 30, 'c': 13, 'u': 11, 'r': 32, 'e': 59, 'd': 15, 'y': 9, 'w': 13, \"'\": 6, 'v': 5, 'm': 12, 'b': 7, 'k': 4, 'p': 6}\n",
      "{'\\n': 23, 'a': 39, ' ': 96, 'l': 19, 'o': 36, 't': 44, 'f': 8, 'h': 26, 'i': 30, 'n': 34, 'g': 6, 's': 31, 'c': 13, 'u': 11, 'r': 32, 'e': 59, 'd': 15, 'y': 9, 'w': 13, \"'\": 6, 'v': 5, 'm': 12, 'b': 7, 'k': 4, 'p': 6}\n",
      "{'\\n': 23, 'a': 39, ' ': 97, 'l': 19, 'o': 36, 't': 44, 'f': 8, 'h': 26, 'i': 30, 'n': 34, 'g': 6, 's': 31, 'c': 13, 'u': 11, 'r': 32, 'e': 59, 'd': 15, 'y': 9, 'w': 13, \"'\": 6, 'v': 5, 'm': 12, 'b': 7, 'k': 4, 'p': 6}\n",
      "{'\\n': 23, 'a': 39, ' ': 97, 'l': 19, 'o': 36, 't': 44, 'f': 9, 'h': 26, 'i': 30, 'n': 34, 'g': 6, 's': 31, 'c': 13, 'u': 11, 'r': 32, 'e': 59, 'd': 15, 'y': 9, 'w': 13, \"'\": 6, 'v': 5, 'm': 12, 'b': 7, 'k': 4, 'p': 6}\n",
      "{'\\n': 23, 'a': 40, ' ': 97, 'l': 19, 'o': 36, 't': 44, 'f': 9, 'h': 26, 'i': 30, 'n': 34, 'g': 6, 's': 31, 'c': 13, 'u': 11, 'r': 32, 'e': 59, 'd': 15, 'y': 9, 'w': 13, \"'\": 6, 'v': 5, 'm': 12, 'b': 7, 'k': 4, 'p': 6}\n",
      "{'\\n': 23, 'a': 40, ' ': 97, 'l': 19, 'o': 36, 't': 44, 'f': 9, 'h': 26, 'i': 30, 'n': 34, 'g': 6, 's': 31, 'c': 14, 'u': 11, 'r': 32, 'e': 59, 'd': 15, 'y': 9, 'w': 13, \"'\": 6, 'v': 5, 'm': 12, 'b': 7, 'k': 4, 'p': 6}\n",
      "{'\\n': 23, 'a': 40, ' ': 97, 'l': 19, 'o': 36, 't': 44, 'f': 9, 'h': 26, 'i': 30, 'n': 34, 'g': 6, 's': 31, 'c': 14, 'u': 11, 'r': 32, 'e': 60, 'd': 15, 'y': 9, 'w': 13, \"'\": 6, 'v': 5, 'm': 12, 'b': 7, 'k': 4, 'p': 6}\n",
      "{'\\n': 24, 'a': 40, ' ': 97, 'l': 19, 'o': 36, 't': 44, 'f': 9, 'h': 26, 'i': 30, 'n': 34, 'g': 6, 's': 31, 'c': 14, 'u': 11, 'r': 32, 'e': 60, 'd': 15, 'y': 9, 'w': 13, \"'\": 6, 'v': 5, 'm': 12, 'b': 7, 'k': 4, 'p': 6}\n",
      "{'\\n': 24, 'a': 41, ' ': 97, 'l': 19, 'o': 36, 't': 44, 'f': 9, 'h': 26, 'i': 30, 'n': 34, 'g': 6, 's': 31, 'c': 14, 'u': 11, 'r': 32, 'e': 60, 'd': 15, 'y': 9, 'w': 13, \"'\": 6, 'v': 5, 'm': 12, 'b': 7, 'k': 4, 'p': 6}\n",
      "{'\\n': 24, 'a': 41, ' ': 97, 'l': 19, 'o': 36, 't': 44, 'f': 9, 'h': 26, 'i': 30, 'n': 35, 'g': 6, 's': 31, 'c': 14, 'u': 11, 'r': 32, 'e': 60, 'd': 15, 'y': 9, 'w': 13, \"'\": 6, 'v': 5, 'm': 12, 'b': 7, 'k': 4, 'p': 6}\n",
      "{'\\n': 24, 'a': 41, ' ': 97, 'l': 19, 'o': 36, 't': 44, 'f': 9, 'h': 26, 'i': 30, 'n': 35, 'g': 6, 's': 31, 'c': 14, 'u': 11, 'r': 32, 'e': 60, 'd': 16, 'y': 9, 'w': 13, \"'\": 6, 'v': 5, 'm': 12, 'b': 7, 'k': 4, 'p': 6}\n",
      "{'\\n': 24, 'a': 41, ' ': 98, 'l': 19, 'o': 36, 't': 44, 'f': 9, 'h': 26, 'i': 30, 'n': 35, 'g': 6, 's': 31, 'c': 14, 'u': 11, 'r': 32, 'e': 60, 'd': 16, 'y': 9, 'w': 13, \"'\": 6, 'v': 5, 'm': 12, 'b': 7, 'k': 4, 'p': 6}\n",
      "{'\\n': 24, 'a': 41, ' ': 98, 'l': 20, 'o': 36, 't': 44, 'f': 9, 'h': 26, 'i': 30, 'n': 35, 'g': 6, 's': 31, 'c': 14, 'u': 11, 'r': 32, 'e': 60, 'd': 16, 'y': 9, 'w': 13, \"'\": 6, 'v': 5, 'm': 12, 'b': 7, 'k': 4, 'p': 6}\n",
      "{'\\n': 24, 'a': 41, ' ': 98, 'l': 20, 'o': 36, 't': 44, 'f': 9, 'h': 26, 'i': 30, 'n': 35, 'g': 6, 's': 31, 'c': 14, 'u': 11, 'r': 32, 'e': 61, 'd': 16, 'y': 9, 'w': 13, \"'\": 6, 'v': 5, 'm': 12, 'b': 7, 'k': 4, 'p': 6}\n",
      "{'\\n': 24, 'a': 42, ' ': 98, 'l': 20, 'o': 36, 't': 44, 'f': 9, 'h': 26, 'i': 30, 'n': 35, 'g': 6, 's': 31, 'c': 14, 'u': 11, 'r': 32, 'e': 61, 'd': 16, 'y': 9, 'w': 13, \"'\": 6, 'v': 5, 'm': 12, 'b': 7, 'k': 4, 'p': 6}\n",
      "{'\\n': 24, 'a': 42, ' ': 98, 'l': 20, 'o': 36, 't': 44, 'f': 9, 'h': 26, 'i': 30, 'n': 35, 'g': 6, 's': 31, 'c': 14, 'u': 11, 'r': 32, 'e': 61, 'd': 16, 'y': 9, 'w': 13, \"'\": 6, 'v': 6, 'm': 12, 'b': 7, 'k': 4, 'p': 6}\n",
      "{'\\n': 24, 'a': 42, ' ': 98, 'l': 20, 'o': 36, 't': 44, 'f': 9, 'h': 26, 'i': 30, 'n': 35, 'g': 6, 's': 31, 'c': 14, 'u': 11, 'r': 32, 'e': 62, 'd': 16, 'y': 9, 'w': 13, \"'\": 6, 'v': 6, 'm': 12, 'b': 7, 'k': 4, 'p': 6}\n",
      "{'\\n': 24, 'a': 42, ' ': 99, 'l': 20, 'o': 36, 't': 44, 'f': 9, 'h': 26, 'i': 30, 'n': 35, 'g': 6, 's': 31, 'c': 14, 'u': 11, 'r': 32, 'e': 62, 'd': 16, 'y': 9, 'w': 13, \"'\": 6, 'v': 6, 'm': 12, 'b': 7, 'k': 4, 'p': 6}\n",
      "{'\\n': 24, 'a': 42, ' ': 99, 'l': 20, 'o': 36, 't': 44, 'f': 9, 'h': 27, 'i': 30, 'n': 35, 'g': 6, 's': 31, 'c': 14, 'u': 11, 'r': 32, 'e': 62, 'd': 16, 'y': 9, 'w': 13, \"'\": 6, 'v': 6, 'm': 12, 'b': 7, 'k': 4, 'p': 6}\n",
      "{'\\n': 24, 'a': 42, ' ': 99, 'l': 20, 'o': 36, 't': 44, 'f': 9, 'h': 27, 'i': 31, 'n': 35, 'g': 6, 's': 31, 'c': 14, 'u': 11, 'r': 32, 'e': 62, 'd': 16, 'y': 9, 'w': 13, \"'\": 6, 'v': 6, 'm': 12, 'b': 7, 'k': 4, 'p': 6}\n",
      "{'\\n': 24, 'a': 42, ' ': 99, 'l': 20, 'o': 36, 't': 44, 'f': 9, 'h': 27, 'i': 31, 'n': 35, 'g': 6, 's': 32, 'c': 14, 'u': 11, 'r': 32, 'e': 62, 'd': 16, 'y': 9, 'w': 13, \"'\": 6, 'v': 6, 'm': 12, 'b': 7, 'k': 4, 'p': 6}\n",
      "{'\\n': 24, 'a': 42, ' ': 100, 'l': 20, 'o': 36, 't': 44, 'f': 9, 'h': 27, 'i': 31, 'n': 35, 'g': 6, 's': 32, 'c': 14, 'u': 11, 'r': 32, 'e': 62, 'd': 16, 'y': 9, 'w': 13, \"'\": 6, 'v': 6, 'm': 12, 'b': 7, 'k': 4, 'p': 6}\n",
      "{'\\n': 24, 'a': 42, ' ': 100, 'l': 20, 'o': 36, 't': 44, 'f': 9, 'h': 27, 'i': 31, 'n': 35, 'g': 6, 's': 32, 'c': 14, 'u': 11, 'r': 32, 'e': 62, 'd': 16, 'y': 9, 'w': 14, \"'\": 6, 'v': 6, 'm': 12, 'b': 7, 'k': 4, 'p': 6}\n",
      "{'\\n': 24, 'a': 42, ' ': 100, 'l': 20, 'o': 37, 't': 44, 'f': 9, 'h': 27, 'i': 31, 'n': 35, 'g': 6, 's': 32, 'c': 14, 'u': 11, 'r': 32, 'e': 62, 'd': 16, 'y': 9, 'w': 14, \"'\": 6, 'v': 6, 'm': 12, 'b': 7, 'k': 4, 'p': 6}\n",
      "{'\\n': 24, 'a': 42, ' ': 100, 'l': 20, 'o': 37, 't': 44, 'f': 9, 'h': 27, 'i': 31, 'n': 35, 'g': 6, 's': 32, 'c': 14, 'u': 11, 'r': 32, 'e': 62, 'd': 16, 'y': 9, 'w': 14, \"'\": 6, 'v': 6, 'm': 13, 'b': 7, 'k': 4, 'p': 6}\n",
      "{'\\n': 24, 'a': 43, ' ': 100, 'l': 20, 'o': 37, 't': 44, 'f': 9, 'h': 27, 'i': 31, 'n': 35, 'g': 6, 's': 32, 'c': 14, 'u': 11, 'r': 32, 'e': 62, 'd': 16, 'y': 9, 'w': 14, \"'\": 6, 'v': 6, 'm': 13, 'b': 7, 'k': 4, 'p': 6}\n",
      "{'\\n': 24, 'a': 43, ' ': 100, 'l': 20, 'o': 37, 't': 44, 'f': 9, 'h': 27, 'i': 31, 'n': 36, 'g': 6, 's': 32, 'c': 14, 'u': 11, 'r': 32, 'e': 62, 'd': 16, 'y': 9, 'w': 14, \"'\": 6, 'v': 6, 'm': 13, 'b': 7, 'k': 4, 'p': 6}\n",
      "{'\\n': 24, 'a': 43, ' ': 101, 'l': 20, 'o': 37, 't': 44, 'f': 9, 'h': 27, 'i': 31, 'n': 36, 'g': 6, 's': 32, 'c': 14, 'u': 11, 'r': 32, 'e': 62, 'd': 16, 'y': 9, 'w': 14, \"'\": 6, 'v': 6, 'm': 13, 'b': 7, 'k': 4, 'p': 6}\n",
      "{'\\n': 24, 'a': 43, ' ': 101, 'l': 20, 'o': 37, 't': 44, 'f': 9, 'h': 27, 'i': 31, 'n': 36, 'g': 6, 's': 32, 'c': 15, 'u': 11, 'r': 32, 'e': 62, 'd': 16, 'y': 9, 'w': 14, \"'\": 6, 'v': 6, 'm': 13, 'b': 7, 'k': 4, 'p': 6}\n",
      "{'\\n': 24, 'a': 43, ' ': 101, 'l': 20, 'o': 37, 't': 44, 'f': 9, 'h': 28, 'i': 31, 'n': 36, 'g': 6, 's': 32, 'c': 15, 'u': 11, 'r': 32, 'e': 62, 'd': 16, 'y': 9, 'w': 14, \"'\": 6, 'v': 6, 'm': 13, 'b': 7, 'k': 4, 'p': 6}\n",
      "{'\\n': 24, 'a': 43, ' ': 101, 'l': 20, 'o': 38, 't': 44, 'f': 9, 'h': 28, 'i': 31, 'n': 36, 'g': 6, 's': 32, 'c': 15, 'u': 11, 'r': 32, 'e': 62, 'd': 16, 'y': 9, 'w': 14, \"'\": 6, 'v': 6, 'm': 13, 'b': 7, 'k': 4, 'p': 6}\n",
      "{'\\n': 24, 'a': 43, ' ': 101, 'l': 20, 'o': 38, 't': 44, 'f': 9, 'h': 28, 'i': 31, 'n': 36, 'g': 6, 's': 32, 'c': 15, 'u': 11, 'r': 32, 'e': 62, 'd': 16, 'y': 9, 'w': 14, \"'\": 6, 'v': 6, 'm': 13, 'b': 7, 'k': 5, 'p': 6}\n",
      "{'\\n': 24, 'a': 43, ' ': 101, 'l': 20, 'o': 38, 't': 44, 'f': 9, 'h': 28, 'i': 31, 'n': 36, 'g': 6, 's': 32, 'c': 15, 'u': 11, 'r': 32, 'e': 63, 'd': 16, 'y': 9, 'w': 14, \"'\": 6, 'v': 6, 'm': 13, 'b': 7, 'k': 5, 'p': 6}\n",
      "{'\\n': 24, 'a': 43, ' ': 101, 'l': 20, 'o': 38, 't': 44, 'f': 9, 'h': 28, 'i': 31, 'n': 36, 'g': 6, 's': 32, 'c': 15, 'u': 11, 'r': 32, 'e': 63, 'd': 17, 'y': 9, 'w': 14, \"'\": 6, 'v': 6, 'm': 13, 'b': 7, 'k': 5, 'p': 6}\n",
      "{'\\n': 24, 'a': 43, ' ': 102, 'l': 20, 'o': 38, 't': 44, 'f': 9, 'h': 28, 'i': 31, 'n': 36, 'g': 6, 's': 32, 'c': 15, 'u': 11, 'r': 32, 'e': 63, 'd': 17, 'y': 9, 'w': 14, \"'\": 6, 'v': 6, 'm': 13, 'b': 7, 'k': 5, 'p': 6}\n",
      "{'\\n': 24, 'a': 43, ' ': 102, 'l': 20, 'o': 38, 't': 44, 'f': 9, 'h': 28, 'i': 32, 'n': 36, 'g': 6, 's': 32, 'c': 15, 'u': 11, 'r': 32, 'e': 63, 'd': 17, 'y': 9, 'w': 14, \"'\": 6, 'v': 6, 'm': 13, 'b': 7, 'k': 5, 'p': 6}\n",
      "{'\\n': 24, 'a': 43, ' ': 102, 'l': 20, 'o': 38, 't': 44, 'f': 9, 'h': 28, 'i': 32, 'n': 37, 'g': 6, 's': 32, 'c': 15, 'u': 11, 'r': 32, 'e': 63, 'd': 17, 'y': 9, 'w': 14, \"'\": 6, 'v': 6, 'm': 13, 'b': 7, 'k': 5, 'p': 6}\n",
      "{'\\n': 24, 'a': 43, ' ': 103, 'l': 20, 'o': 38, 't': 44, 'f': 9, 'h': 28, 'i': 32, 'n': 37, 'g': 6, 's': 32, 'c': 15, 'u': 11, 'r': 32, 'e': 63, 'd': 17, 'y': 9, 'w': 14, \"'\": 6, 'v': 6, 'm': 13, 'b': 7, 'k': 5, 'p': 6}\n",
      "{'\\n': 24, 'a': 43, ' ': 103, 'l': 20, 'o': 38, 't': 44, 'f': 9, 'h': 28, 'i': 32, 'n': 37, 'g': 6, 's': 32, 'c': 15, 'u': 11, 'r': 32, 'e': 63, 'd': 17, 'y': 9, 'w': 14, \"'\": 6, 'v': 6, 'm': 14, 'b': 7, 'k': 5, 'p': 6}\n",
      "{'\\n': 24, 'a': 44, ' ': 103, 'l': 20, 'o': 38, 't': 44, 'f': 9, 'h': 28, 'i': 32, 'n': 37, 'g': 6, 's': 32, 'c': 15, 'u': 11, 'r': 32, 'e': 63, 'd': 17, 'y': 9, 'w': 14, \"'\": 6, 'v': 6, 'm': 14, 'b': 7, 'k': 5, 'p': 6}\n",
      "{'\\n': 24, 'a': 44, ' ': 103, 'l': 20, 'o': 38, 't': 44, 'f': 9, 'h': 28, 'i': 32, 'n': 37, 'g': 6, 's': 32, 'c': 16, 'u': 11, 'r': 32, 'e': 63, 'd': 17, 'y': 9, 'w': 14, \"'\": 6, 'v': 6, 'm': 14, 'b': 7, 'k': 5, 'p': 6}\n",
      "{'\\n': 24, 'a': 44, ' ': 103, 'l': 20, 'o': 38, 't': 44, 'f': 9, 'h': 28, 'i': 32, 'n': 37, 'g': 6, 's': 32, 'c': 16, 'u': 11, 'r': 32, 'e': 64, 'd': 17, 'y': 9, 'w': 14, \"'\": 6, 'v': 6, 'm': 14, 'b': 7, 'k': 5, 'p': 6}\n",
      "{'\\n': 25, 'a': 44, ' ': 103, 'l': 20, 'o': 38, 't': 44, 'f': 9, 'h': 28, 'i': 32, 'n': 37, 'g': 6, 's': 32, 'c': 16, 'u': 11, 'r': 32, 'e': 64, 'd': 17, 'y': 9, 'w': 14, \"'\": 6, 'v': 6, 'm': 14, 'b': 7, 'k': 5, 'p': 6}\n",
      "{'\\n': 26, 'a': 44, ' ': 103, 'l': 20, 'o': 38, 't': 44, 'f': 9, 'h': 28, 'i': 32, 'n': 37, 'g': 6, 's': 32, 'c': 16, 'u': 11, 'r': 32, 'e': 64, 'd': 17, 'y': 9, 'w': 14, \"'\": 6, 'v': 6, 'm': 14, 'b': 7, 'k': 5, 'p': 6}\n",
      "{'\\n': 26, 'a': 44, ' ': 103, 'l': 20, 'o': 38, 't': 44, 'f': 9, 'h': 28, 'i': 32, 'n': 37, 'g': 6, 's': 33, 'c': 16, 'u': 11, 'r': 32, 'e': 64, 'd': 17, 'y': 9, 'w': 14, \"'\": 6, 'v': 6, 'm': 14, 'b': 7, 'k': 5, 'p': 6}\n",
      "{'\\n': 26, 'a': 44, ' ': 103, 'l': 20, 'o': 39, 't': 44, 'f': 9, 'h': 28, 'i': 32, 'n': 37, 'g': 6, 's': 33, 'c': 16, 'u': 11, 'r': 32, 'e': 64, 'd': 17, 'y': 9, 'w': 14, \"'\": 6, 'v': 6, 'm': 14, 'b': 7, 'k': 5, 'p': 6}\n",
      "{'\\n': 26, 'a': 44, ' ': 104, 'l': 20, 'o': 39, 't': 44, 'f': 9, 'h': 28, 'i': 32, 'n': 37, 'g': 6, 's': 33, 'c': 16, 'u': 11, 'r': 32, 'e': 64, 'd': 17, 'y': 9, 'w': 14, \"'\": 6, 'v': 6, 'm': 14, 'b': 7, 'k': 5, 'p': 6}\n",
      "{'\\n': 26, 'a': 44, ' ': 104, 'l': 20, 'o': 39, 't': 44, 'f': 9, 'h': 28, 'i': 32, 'n': 37, 'g': 6, 's': 34, 'c': 16, 'u': 11, 'r': 32, 'e': 64, 'd': 17, 'y': 9, 'w': 14, \"'\": 6, 'v': 6, 'm': 14, 'b': 7, 'k': 5, 'p': 6}\n",
      "{'\\n': 26, 'a': 44, ' ': 104, 'l': 20, 'o': 39, 't': 45, 'f': 9, 'h': 28, 'i': 32, 'n': 37, 'g': 6, 's': 34, 'c': 16, 'u': 11, 'r': 32, 'e': 64, 'd': 17, 'y': 9, 'w': 14, \"'\": 6, 'v': 6, 'm': 14, 'b': 7, 'k': 5, 'p': 6}\n",
      "{'\\n': 26, 'a': 45, ' ': 104, 'l': 20, 'o': 39, 't': 45, 'f': 9, 'h': 28, 'i': 32, 'n': 37, 'g': 6, 's': 34, 'c': 16, 'u': 11, 'r': 32, 'e': 64, 'd': 17, 'y': 9, 'w': 14, \"'\": 6, 'v': 6, 'm': 14, 'b': 7, 'k': 5, 'p': 6}\n",
      "{'\\n': 26, 'a': 45, ' ': 104, 'l': 20, 'o': 39, 't': 45, 'f': 9, 'h': 28, 'i': 32, 'n': 38, 'g': 6, 's': 34, 'c': 16, 'u': 11, 'r': 32, 'e': 64, 'd': 17, 'y': 9, 'w': 14, \"'\": 6, 'v': 6, 'm': 14, 'b': 7, 'k': 5, 'p': 6}\n",
      "{'\\n': 26, 'a': 45, ' ': 104, 'l': 20, 'o': 39, 't': 45, 'f': 9, 'h': 28, 'i': 32, 'n': 38, 'g': 6, 's': 34, 'c': 16, 'u': 11, 'r': 32, 'e': 64, 'd': 18, 'y': 9, 'w': 14, \"'\": 6, 'v': 6, 'm': 14, 'b': 7, 'k': 5, 'p': 6}\n",
      "{'\\n': 26, 'a': 45, ' ': 105, 'l': 20, 'o': 39, 't': 45, 'f': 9, 'h': 28, 'i': 32, 'n': 38, 'g': 6, 's': 34, 'c': 16, 'u': 11, 'r': 32, 'e': 64, 'd': 18, 'y': 9, 'w': 14, \"'\": 6, 'v': 6, 'm': 14, 'b': 7, 'k': 5, 'p': 6}\n",
      "{'\\n': 26, 'a': 45, ' ': 105, 'l': 20, 'o': 39, 't': 45, 'f': 9, 'h': 28, 'i': 32, 'n': 38, 'g': 6, 's': 34, 'c': 16, 'u': 12, 'r': 32, 'e': 64, 'd': 18, 'y': 9, 'w': 14, \"'\": 6, 'v': 6, 'm': 14, 'b': 7, 'k': 5, 'p': 6}\n",
      "{'\\n': 26, 'a': 45, ' ': 105, 'l': 20, 'o': 39, 't': 45, 'f': 9, 'h': 28, 'i': 32, 'n': 38, 'g': 6, 's': 34, 'c': 16, 'u': 12, 'r': 32, 'e': 64, 'd': 18, 'y': 9, 'w': 14, \"'\": 6, 'v': 6, 'm': 14, 'b': 7, 'k': 5, 'p': 7}\n",
      "{'\\n': 26, 'a': 45, ' ': 106, 'l': 20, 'o': 39, 't': 45, 'f': 9, 'h': 28, 'i': 32, 'n': 38, 'g': 6, 's': 34, 'c': 16, 'u': 12, 'r': 32, 'e': 64, 'd': 18, 'y': 9, 'w': 14, \"'\": 6, 'v': 6, 'm': 14, 'b': 7, 'k': 5, 'p': 7}\n",
      "{'\\n': 26, 'a': 45, ' ': 106, 'l': 20, 'o': 39, 't': 45, 'f': 10, 'h': 28, 'i': 32, 'n': 38, 'g': 6, 's': 34, 'c': 16, 'u': 12, 'r': 32, 'e': 64, 'd': 18, 'y': 9, 'w': 14, \"'\": 6, 'v': 6, 'm': 14, 'b': 7, 'k': 5, 'p': 7}\n",
      "{'\\n': 26, 'a': 45, ' ': 106, 'l': 20, 'o': 40, 't': 45, 'f': 10, 'h': 28, 'i': 32, 'n': 38, 'g': 6, 's': 34, 'c': 16, 'u': 12, 'r': 32, 'e': 64, 'd': 18, 'y': 9, 'w': 14, \"'\": 6, 'v': 6, 'm': 14, 'b': 7, 'k': 5, 'p': 7}\n",
      "{'\\n': 26, 'a': 45, ' ': 106, 'l': 20, 'o': 40, 't': 45, 'f': 10, 'h': 28, 'i': 32, 'n': 38, 'g': 6, 's': 34, 'c': 16, 'u': 12, 'r': 33, 'e': 64, 'd': 18, 'y': 9, 'w': 14, \"'\": 6, 'v': 6, 'm': 14, 'b': 7, 'k': 5, 'p': 7}\n",
      "{'\\n': 26, 'a': 45, ' ': 107, 'l': 20, 'o': 40, 't': 45, 'f': 10, 'h': 28, 'i': 32, 'n': 38, 'g': 6, 's': 34, 'c': 16, 'u': 12, 'r': 33, 'e': 64, 'd': 18, 'y': 9, 'w': 14, \"'\": 6, 'v': 6, 'm': 14, 'b': 7, 'k': 5, 'p': 7}\n",
      "{'\\n': 26, 'a': 45, ' ': 107, 'l': 20, 'o': 41, 't': 45, 'f': 10, 'h': 28, 'i': 32, 'n': 38, 'g': 6, 's': 34, 'c': 16, 'u': 12, 'r': 33, 'e': 64, 'd': 18, 'y': 9, 'w': 14, \"'\": 6, 'v': 6, 'm': 14, 'b': 7, 'k': 5, 'p': 7}\n",
      "{'\\n': 26, 'a': 45, ' ': 107, 'l': 20, 'o': 41, 't': 45, 'f': 10, 'h': 28, 'i': 32, 'n': 38, 'g': 6, 's': 34, 'c': 16, 'u': 13, 'r': 33, 'e': 64, 'd': 18, 'y': 9, 'w': 14, \"'\": 6, 'v': 6, 'm': 14, 'b': 7, 'k': 5, 'p': 7}\n",
      "{'\\n': 26, 'a': 45, ' ': 107, 'l': 20, 'o': 41, 't': 45, 'f': 10, 'h': 28, 'i': 32, 'n': 38, 'g': 6, 's': 34, 'c': 16, 'u': 13, 'r': 34, 'e': 64, 'd': 18, 'y': 9, 'w': 14, \"'\": 6, 'v': 6, 'm': 14, 'b': 7, 'k': 5, 'p': 7}\n",
      "{'\\n': 26, 'a': 45, ' ': 108, 'l': 20, 'o': 41, 't': 45, 'f': 10, 'h': 28, 'i': 32, 'n': 38, 'g': 6, 's': 34, 'c': 16, 'u': 13, 'r': 34, 'e': 64, 'd': 18, 'y': 9, 'w': 14, \"'\": 6, 'v': 6, 'm': 14, 'b': 7, 'k': 5, 'p': 7}\n",
      "{'\\n': 26, 'a': 45, ' ': 108, 'l': 20, 'o': 41, 't': 45, 'f': 10, 'h': 29, 'i': 32, 'n': 38, 'g': 6, 's': 34, 'c': 16, 'u': 13, 'r': 34, 'e': 64, 'd': 18, 'y': 9, 'w': 14, \"'\": 6, 'v': 6, 'm': 14, 'b': 7, 'k': 5, 'p': 7}\n",
      "{'\\n': 26, 'a': 45, ' ': 108, 'l': 20, 'o': 41, 't': 45, 'f': 10, 'h': 29, 'i': 32, 'n': 38, 'g': 6, 's': 34, 'c': 16, 'u': 14, 'r': 34, 'e': 64, 'd': 18, 'y': 9, 'w': 14, \"'\": 6, 'v': 6, 'm': 14, 'b': 7, 'k': 5, 'p': 7}\n",
      "{'\\n': 26, 'a': 45, ' ': 108, 'l': 20, 'o': 41, 't': 45, 'f': 10, 'h': 29, 'i': 32, 'n': 38, 'g': 6, 's': 34, 'c': 16, 'u': 14, 'r': 34, 'e': 64, 'd': 18, 'y': 9, 'w': 14, \"'\": 6, 'v': 6, 'm': 15, 'b': 7, 'k': 5, 'p': 7}\n",
      "{'\\n': 26, 'a': 46, ' ': 108, 'l': 20, 'o': 41, 't': 45, 'f': 10, 'h': 29, 'i': 32, 'n': 38, 'g': 6, 's': 34, 'c': 16, 'u': 14, 'r': 34, 'e': 64, 'd': 18, 'y': 9, 'w': 14, \"'\": 6, 'v': 6, 'm': 15, 'b': 7, 'k': 5, 'p': 7}\n",
      "{'\\n': 26, 'a': 46, ' ': 108, 'l': 20, 'o': 41, 't': 45, 'f': 10, 'h': 29, 'i': 32, 'n': 39, 'g': 6, 's': 34, 'c': 16, 'u': 14, 'r': 34, 'e': 64, 'd': 18, 'y': 9, 'w': 14, \"'\": 6, 'v': 6, 'm': 15, 'b': 7, 'k': 5, 'p': 7}\n",
      "{'\\n': 26, 'a': 46, ' ': 109, 'l': 20, 'o': 41, 't': 45, 'f': 10, 'h': 29, 'i': 32, 'n': 39, 'g': 6, 's': 34, 'c': 16, 'u': 14, 'r': 34, 'e': 64, 'd': 18, 'y': 9, 'w': 14, \"'\": 6, 'v': 6, 'm': 15, 'b': 7, 'k': 5, 'p': 7}\n",
      "{'\\n': 26, 'a': 46, ' ': 109, 'l': 20, 'o': 41, 't': 45, 'f': 10, 'h': 29, 'i': 32, 'n': 39, 'g': 6, 's': 34, 'c': 16, 'u': 14, 'r': 35, 'e': 64, 'd': 18, 'y': 9, 'w': 14, \"'\": 6, 'v': 6, 'm': 15, 'b': 7, 'k': 5, 'p': 7}\n",
      "{'\\n': 26, 'a': 46, ' ': 109, 'l': 20, 'o': 41, 't': 45, 'f': 10, 'h': 29, 'i': 33, 'n': 39, 'g': 6, 's': 34, 'c': 16, 'u': 14, 'r': 35, 'e': 64, 'd': 18, 'y': 9, 'w': 14, \"'\": 6, 'v': 6, 'm': 15, 'b': 7, 'k': 5, 'p': 7}\n",
      "{'\\n': 26, 'a': 46, ' ': 109, 'l': 20, 'o': 41, 't': 45, 'f': 10, 'h': 29, 'i': 33, 'n': 39, 'g': 7, 's': 34, 'c': 16, 'u': 14, 'r': 35, 'e': 64, 'd': 18, 'y': 9, 'w': 14, \"'\": 6, 'v': 6, 'm': 15, 'b': 7, 'k': 5, 'p': 7}\n",
      "{'\\n': 26, 'a': 46, ' ': 109, 'l': 20, 'o': 41, 't': 45, 'f': 10, 'h': 30, 'i': 33, 'n': 39, 'g': 7, 's': 34, 'c': 16, 'u': 14, 'r': 35, 'e': 64, 'd': 18, 'y': 9, 'w': 14, \"'\": 6, 'v': 6, 'm': 15, 'b': 7, 'k': 5, 'p': 7}\n",
      "{'\\n': 26, 'a': 46, ' ': 109, 'l': 20, 'o': 41, 't': 46, 'f': 10, 'h': 30, 'i': 33, 'n': 39, 'g': 7, 's': 34, 'c': 16, 'u': 14, 'r': 35, 'e': 64, 'd': 18, 'y': 9, 'w': 14, \"'\": 6, 'v': 6, 'm': 15, 'b': 7, 'k': 5, 'p': 7}\n",
      "{'\\n': 26, 'a': 46, ' ': 109, 'l': 20, 'o': 41, 't': 46, 'f': 10, 'h': 30, 'i': 33, 'n': 39, 'g': 7, 's': 35, 'c': 16, 'u': 14, 'r': 35, 'e': 64, 'd': 18, 'y': 9, 'w': 14, \"'\": 6, 'v': 6, 'm': 15, 'b': 7, 'k': 5, 'p': 7}\n",
      "{'\\n': 27, 'a': 46, ' ': 109, 'l': 20, 'o': 41, 't': 46, 'f': 10, 'h': 30, 'i': 33, 'n': 39, 'g': 7, 's': 35, 'c': 16, 'u': 14, 'r': 35, 'e': 64, 'd': 18, 'y': 9, 'w': 14, \"'\": 6, 'v': 6, 'm': 15, 'b': 7, 'k': 5, 'p': 7}\n",
      "{'\\n': 27, 'a': 46, ' ': 109, 'l': 20, 'o': 41, 't': 46, 'f': 10, 'h': 30, 'i': 33, 'n': 39, 'g': 7, 's': 35, 'c': 16, 'u': 14, 'r': 35, 'e': 64, 'd': 18, 'y': 9, 'w': 14, \"'\": 6, 'v': 6, 'm': 15, 'b': 7, 'k': 5, 'p': 8}\n",
      "{'\\n': 27, 'a': 46, ' ': 109, 'l': 20, 'o': 41, 't': 46, 'f': 10, 'h': 30, 'i': 33, 'n': 39, 'g': 7, 's': 35, 'c': 16, 'u': 15, 'r': 35, 'e': 64, 'd': 18, 'y': 9, 'w': 14, \"'\": 6, 'v': 6, 'm': 15, 'b': 7, 'k': 5, 'p': 8}\n",
      "{'\\n': 27, 'a': 46, ' ': 109, 'l': 20, 'o': 41, 't': 46, 'f': 10, 'h': 30, 'i': 33, 'n': 39, 'g': 7, 's': 36, 'c': 16, 'u': 15, 'r': 35, 'e': 64, 'd': 18, 'y': 9, 'w': 14, \"'\": 6, 'v': 6, 'm': 15, 'b': 7, 'k': 5, 'p': 8}\n",
      "{'\\n': 27, 'a': 46, ' ': 109, 'l': 20, 'o': 41, 't': 46, 'f': 10, 'h': 31, 'i': 33, 'n': 39, 'g': 7, 's': 36, 'c': 16, 'u': 15, 'r': 35, 'e': 64, 'd': 18, 'y': 9, 'w': 14, \"'\": 6, 'v': 6, 'm': 15, 'b': 7, 'k': 5, 'p': 8}\n",
      "{'\\n': 27, 'a': 46, ' ': 110, 'l': 20, 'o': 41, 't': 46, 'f': 10, 'h': 31, 'i': 33, 'n': 39, 'g': 7, 's': 36, 'c': 16, 'u': 15, 'r': 35, 'e': 64, 'd': 18, 'y': 9, 'w': 14, \"'\": 6, 'v': 6, 'm': 15, 'b': 7, 'k': 5, 'p': 8}\n",
      "{'\\n': 27, 'a': 46, ' ': 110, 'l': 20, 'o': 41, 't': 46, 'f': 10, 'h': 31, 'i': 33, 'n': 39, 'g': 7, 's': 36, 'c': 16, 'u': 15, 'r': 35, 'e': 64, 'd': 18, 'y': 9, 'w': 14, \"'\": 6, 'v': 6, 'm': 15, 'b': 8, 'k': 5, 'p': 8}\n",
      "{'\\n': 27, 'a': 47, ' ': 110, 'l': 20, 'o': 41, 't': 46, 'f': 10, 'h': 31, 'i': 33, 'n': 39, 'g': 7, 's': 36, 'c': 16, 'u': 15, 'r': 35, 'e': 64, 'd': 18, 'y': 9, 'w': 14, \"'\": 6, 'v': 6, 'm': 15, 'b': 8, 'k': 5, 'p': 8}\n",
      "{'\\n': 27, 'a': 47, ' ': 110, 'l': 20, 'o': 41, 't': 46, 'f': 10, 'h': 31, 'i': 33, 'n': 39, 'g': 7, 's': 36, 'c': 17, 'u': 15, 'r': 35, 'e': 64, 'd': 18, 'y': 9, 'w': 14, \"'\": 6, 'v': 6, 'm': 15, 'b': 8, 'k': 5, 'p': 8}\n",
      "{'\\n': 27, 'a': 47, ' ': 110, 'l': 20, 'o': 41, 't': 46, 'f': 10, 'h': 31, 'i': 33, 'n': 39, 'g': 7, 's': 36, 'c': 17, 'u': 15, 'r': 35, 'e': 64, 'd': 18, 'y': 9, 'w': 14, \"'\": 6, 'v': 6, 'm': 15, 'b': 8, 'k': 6, 'p': 8}\n",
      "{'\\n': 27, 'a': 47, ' ': 111, 'l': 20, 'o': 41, 't': 46, 'f': 10, 'h': 31, 'i': 33, 'n': 39, 'g': 7, 's': 36, 'c': 17, 'u': 15, 'r': 35, 'e': 64, 'd': 18, 'y': 9, 'w': 14, \"'\": 6, 'v': 6, 'm': 15, 'b': 8, 'k': 6, 'p': 8}\n",
      "{'\\n': 27, 'a': 47, ' ': 111, 'l': 20, 'o': 41, 't': 47, 'f': 10, 'h': 31, 'i': 33, 'n': 39, 'g': 7, 's': 36, 'c': 17, 'u': 15, 'r': 35, 'e': 64, 'd': 18, 'y': 9, 'w': 14, \"'\": 6, 'v': 6, 'm': 15, 'b': 8, 'k': 6, 'p': 8}\n",
      "{'\\n': 27, 'a': 47, ' ': 111, 'l': 20, 'o': 41, 't': 47, 'f': 10, 'h': 32, 'i': 33, 'n': 39, 'g': 7, 's': 36, 'c': 17, 'u': 15, 'r': 35, 'e': 64, 'd': 18, 'y': 9, 'w': 14, \"'\": 6, 'v': 6, 'm': 15, 'b': 8, 'k': 6, 'p': 8}\n",
      "{'\\n': 27, 'a': 47, ' ': 111, 'l': 20, 'o': 41, 't': 47, 'f': 10, 'h': 32, 'i': 34, 'n': 39, 'g': 7, 's': 36, 'c': 17, 'u': 15, 'r': 35, 'e': 64, 'd': 18, 'y': 9, 'w': 14, \"'\": 6, 'v': 6, 'm': 15, 'b': 8, 'k': 6, 'p': 8}\n",
      "{'\\n': 27, 'a': 47, ' ': 111, 'l': 20, 'o': 41, 't': 47, 'f': 10, 'h': 32, 'i': 34, 'n': 39, 'g': 7, 's': 37, 'c': 17, 'u': 15, 'r': 35, 'e': 64, 'd': 18, 'y': 9, 'w': 14, \"'\": 6, 'v': 6, 'm': 15, 'b': 8, 'k': 6, 'p': 8}\n",
      "{'\\n': 27, 'a': 47, ' ': 112, 'l': 20, 'o': 41, 't': 47, 'f': 10, 'h': 32, 'i': 34, 'n': 39, 'g': 7, 's': 37, 'c': 17, 'u': 15, 'r': 35, 'e': 64, 'd': 18, 'y': 9, 'w': 14, \"'\": 6, 'v': 6, 'm': 15, 'b': 8, 'k': 6, 'p': 8}\n",
      "{'\\n': 27, 'a': 47, ' ': 112, 'l': 20, 'o': 41, 't': 47, 'f': 10, 'h': 32, 'i': 34, 'n': 39, 'g': 7, 's': 37, 'c': 17, 'u': 15, 'r': 35, 'e': 64, 'd': 18, 'y': 9, 'w': 14, \"'\": 6, 'v': 6, 'm': 15, 'b': 8, 'k': 6, 'p': 9}\n",
      "{'\\n': 27, 'a': 47, ' ': 112, 'l': 20, 'o': 41, 't': 47, 'f': 10, 'h': 32, 'i': 34, 'n': 39, 'g': 7, 's': 37, 'c': 17, 'u': 15, 'r': 35, 'e': 65, 'd': 18, 'y': 9, 'w': 14, \"'\": 6, 'v': 6, 'm': 15, 'b': 8, 'k': 6, 'p': 9}\n",
      "{'\\n': 27, 'a': 47, ' ': 112, 'l': 20, 'o': 41, 't': 47, 'f': 10, 'h': 32, 'i': 34, 'n': 39, 'g': 7, 's': 38, 'c': 17, 'u': 15, 'r': 35, 'e': 65, 'd': 18, 'y': 9, 'w': 14, \"'\": 6, 'v': 6, 'm': 15, 'b': 8, 'k': 6, 'p': 9}\n",
      "{'\\n': 27, 'a': 47, ' ': 112, 'l': 20, 'o': 41, 't': 48, 'f': 10, 'h': 32, 'i': 34, 'n': 39, 'g': 7, 's': 38, 'c': 17, 'u': 15, 'r': 35, 'e': 65, 'd': 18, 'y': 9, 'w': 14, \"'\": 6, 'v': 6, 'm': 15, 'b': 8, 'k': 6, 'p': 9}\n",
      "{'\\n': 27, 'a': 47, ' ': 113, 'l': 20, 'o': 41, 't': 48, 'f': 10, 'h': 32, 'i': 34, 'n': 39, 'g': 7, 's': 38, 'c': 17, 'u': 15, 'r': 35, 'e': 65, 'd': 18, 'y': 9, 'w': 14, \"'\": 6, 'v': 6, 'm': 15, 'b': 8, 'k': 6, 'p': 9}\n",
      "{'\\n': 27, 'a': 47, ' ': 113, 'l': 20, 'o': 42, 't': 48, 'f': 10, 'h': 32, 'i': 34, 'n': 39, 'g': 7, 's': 38, 'c': 17, 'u': 15, 'r': 35, 'e': 65, 'd': 18, 'y': 9, 'w': 14, \"'\": 6, 'v': 6, 'm': 15, 'b': 8, 'k': 6, 'p': 9}\n",
      "{'\\n': 27, 'a': 47, ' ': 113, 'l': 20, 'o': 42, 't': 48, 'f': 11, 'h': 32, 'i': 34, 'n': 39, 'g': 7, 's': 38, 'c': 17, 'u': 15, 'r': 35, 'e': 65, 'd': 18, 'y': 9, 'w': 14, \"'\": 6, 'v': 6, 'm': 15, 'b': 8, 'k': 6, 'p': 9}\n",
      "{'\\n': 27, 'a': 47, ' ': 114, 'l': 20, 'o': 42, 't': 48, 'f': 11, 'h': 32, 'i': 34, 'n': 39, 'g': 7, 's': 38, 'c': 17, 'u': 15, 'r': 35, 'e': 65, 'd': 18, 'y': 9, 'w': 14, \"'\": 6, 'v': 6, 'm': 15, 'b': 8, 'k': 6, 'p': 9}\n",
      "{'\\n': 27, 'a': 47, ' ': 114, 'l': 20, 'o': 42, 't': 48, 'f': 11, 'h': 33, 'i': 34, 'n': 39, 'g': 7, 's': 38, 'c': 17, 'u': 15, 'r': 35, 'e': 65, 'd': 18, 'y': 9, 'w': 14, \"'\": 6, 'v': 6, 'm': 15, 'b': 8, 'k': 6, 'p': 9}\n",
      "{'\\n': 27, 'a': 48, ' ': 114, 'l': 20, 'o': 42, 't': 48, 'f': 11, 'h': 33, 'i': 34, 'n': 39, 'g': 7, 's': 38, 'c': 17, 'u': 15, 'r': 35, 'e': 65, 'd': 18, 'y': 9, 'w': 14, \"'\": 6, 'v': 6, 'm': 15, 'b': 8, 'k': 6, 'p': 9}\n",
      "{'\\n': 27, 'a': 48, ' ': 114, 'l': 20, 'o': 42, 't': 49, 'f': 11, 'h': 33, 'i': 34, 'n': 39, 'g': 7, 's': 38, 'c': 17, 'u': 15, 'r': 35, 'e': 65, 'd': 18, 'y': 9, 'w': 14, \"'\": 6, 'v': 6, 'm': 15, 'b': 8, 'k': 6, 'p': 9}\n",
      "{'\\n': 27, 'a': 48, ' ': 114, 'l': 20, 'o': 42, 't': 49, 'f': 11, 'h': 33, 'i': 34, 'n': 39, 'g': 7, 's': 38, 'c': 17, 'u': 15, 'r': 35, 'e': 66, 'd': 18, 'y': 9, 'w': 14, \"'\": 6, 'v': 6, 'm': 15, 'b': 8, 'k': 6, 'p': 9}\n",
      "{'\\n': 28, 'a': 48, ' ': 114, 'l': 20, 'o': 42, 't': 49, 'f': 11, 'h': 33, 'i': 34, 'n': 39, 'g': 7, 's': 38, 'c': 17, 'u': 15, 'r': 35, 'e': 66, 'd': 18, 'y': 9, 'w': 14, \"'\": 6, 'v': 6, 'm': 15, 'b': 8, 'k': 6, 'p': 9}\n",
      "{'\\n': 28, 'a': 48, ' ': 114, 'l': 20, 'o': 42, 't': 49, 'f': 11, 'h': 33, 'i': 34, 'n': 39, 'g': 7, 's': 38, 'c': 17, 'u': 15, 'r': 36, 'e': 66, 'd': 18, 'y': 9, 'w': 14, \"'\": 6, 'v': 6, 'm': 15, 'b': 8, 'k': 6, 'p': 9}\n",
      "{'\\n': 28, 'a': 49, ' ': 114, 'l': 20, 'o': 42, 't': 49, 'f': 11, 'h': 33, 'i': 34, 'n': 39, 'g': 7, 's': 38, 'c': 17, 'u': 15, 'r': 36, 'e': 66, 'd': 18, 'y': 9, 'w': 14, \"'\": 6, 'v': 6, 'm': 15, 'b': 8, 'k': 6, 'p': 9}\n",
      "{'\\n': 28, 'a': 49, ' ': 114, 'l': 20, 'o': 42, 't': 49, 'f': 11, 'h': 33, 'i': 35, 'n': 39, 'g': 7, 's': 38, 'c': 17, 'u': 15, 'r': 36, 'e': 66, 'd': 18, 'y': 9, 'w': 14, \"'\": 6, 'v': 6, 'm': 15, 'b': 8, 'k': 6, 'p': 9}\n",
      "{'\\n': 28, 'a': 49, ' ': 114, 'l': 20, 'o': 42, 't': 49, 'f': 11, 'h': 33, 'i': 35, 'n': 39, 'g': 7, 's': 39, 'c': 17, 'u': 15, 'r': 36, 'e': 66, 'd': 18, 'y': 9, 'w': 14, \"'\": 6, 'v': 6, 'm': 15, 'b': 8, 'k': 6, 'p': 9}\n",
      "{'\\n': 28, 'a': 49, ' ': 114, 'l': 20, 'o': 42, 't': 49, 'f': 11, 'h': 33, 'i': 35, 'n': 39, 'g': 7, 's': 39, 'c': 17, 'u': 15, 'r': 36, 'e': 67, 'd': 18, 'y': 9, 'w': 14, \"'\": 6, 'v': 6, 'm': 15, 'b': 8, 'k': 6, 'p': 9}\n",
      "{'\\n': 28, 'a': 49, ' ': 115, 'l': 20, 'o': 42, 't': 49, 'f': 11, 'h': 33, 'i': 35, 'n': 39, 'g': 7, 's': 39, 'c': 17, 'u': 15, 'r': 36, 'e': 67, 'd': 18, 'y': 9, 'w': 14, \"'\": 6, 'v': 6, 'm': 15, 'b': 8, 'k': 6, 'p': 9}\n",
      "{'\\n': 28, 'a': 49, ' ': 115, 'l': 20, 'o': 42, 't': 49, 'f': 11, 'h': 33, 'i': 35, 'n': 39, 'g': 7, 's': 39, 'c': 17, 'u': 15, 'r': 36, 'e': 67, 'd': 18, 'y': 10, 'w': 14, \"'\": 6, 'v': 6, 'm': 15, 'b': 8, 'k': 6, 'p': 9}\n",
      "{'\\n': 28, 'a': 49, ' ': 115, 'l': 20, 'o': 43, 't': 49, 'f': 11, 'h': 33, 'i': 35, 'n': 39, 'g': 7, 's': 39, 'c': 17, 'u': 15, 'r': 36, 'e': 67, 'd': 18, 'y': 10, 'w': 14, \"'\": 6, 'v': 6, 'm': 15, 'b': 8, 'k': 6, 'p': 9}\n",
      "{'\\n': 28, 'a': 49, ' ': 115, 'l': 20, 'o': 43, 't': 49, 'f': 11, 'h': 33, 'i': 35, 'n': 39, 'g': 7, 's': 39, 'c': 17, 'u': 16, 'r': 36, 'e': 67, 'd': 18, 'y': 10, 'w': 14, \"'\": 6, 'v': 6, 'm': 15, 'b': 8, 'k': 6, 'p': 9}\n",
      "{'\\n': 28, 'a': 49, ' ': 116, 'l': 20, 'o': 43, 't': 49, 'f': 11, 'h': 33, 'i': 35, 'n': 39, 'g': 7, 's': 39, 'c': 17, 'u': 16, 'r': 36, 'e': 67, 'd': 18, 'y': 10, 'w': 14, \"'\": 6, 'v': 6, 'm': 15, 'b': 8, 'k': 6, 'p': 9}\n",
      "{'\\n': 28, 'a': 49, ' ': 116, 'l': 20, 'o': 43, 't': 49, 'f': 11, 'h': 33, 'i': 35, 'n': 39, 'g': 7, 's': 39, 'c': 17, 'u': 16, 'r': 36, 'e': 67, 'd': 18, 'y': 10, 'w': 14, \"'\": 6, 'v': 7, 'm': 15, 'b': 8, 'k': 6, 'p': 9}\n",
      "{'\\n': 28, 'a': 49, ' ': 116, 'l': 20, 'o': 44, 't': 49, 'f': 11, 'h': 33, 'i': 35, 'n': 39, 'g': 7, 's': 39, 'c': 17, 'u': 16, 'r': 36, 'e': 67, 'd': 18, 'y': 10, 'w': 14, \"'\": 6, 'v': 7, 'm': 15, 'b': 8, 'k': 6, 'p': 9}\n",
      "{'\\n': 28, 'a': 49, ' ': 116, 'l': 20, 'o': 44, 't': 49, 'f': 11, 'h': 33, 'i': 36, 'n': 39, 'g': 7, 's': 39, 'c': 17, 'u': 16, 'r': 36, 'e': 67, 'd': 18, 'y': 10, 'w': 14, \"'\": 6, 'v': 7, 'm': 15, 'b': 8, 'k': 6, 'p': 9}\n",
      "{'\\n': 28, 'a': 49, ' ': 116, 'l': 20, 'o': 44, 't': 49, 'f': 11, 'h': 33, 'i': 36, 'n': 39, 'g': 7, 's': 39, 'c': 18, 'u': 16, 'r': 36, 'e': 67, 'd': 18, 'y': 10, 'w': 14, \"'\": 6, 'v': 7, 'm': 15, 'b': 8, 'k': 6, 'p': 9}\n",
      "{'\\n': 28, 'a': 49, ' ': 116, 'l': 20, 'o': 44, 't': 49, 'f': 11, 'h': 33, 'i': 36, 'n': 39, 'g': 7, 's': 39, 'c': 18, 'u': 16, 'r': 36, 'e': 68, 'd': 18, 'y': 10, 'w': 14, \"'\": 6, 'v': 7, 'm': 15, 'b': 8, 'k': 6, 'p': 9}\n",
      "{'\\n': 28, 'a': 49, ' ': 117, 'l': 20, 'o': 44, 't': 49, 'f': 11, 'h': 33, 'i': 36, 'n': 39, 'g': 7, 's': 39, 'c': 18, 'u': 16, 'r': 36, 'e': 68, 'd': 18, 'y': 10, 'w': 14, \"'\": 6, 'v': 7, 'm': 15, 'b': 8, 'k': 6, 'p': 9}\n",
      "{'\\n': 28, 'a': 49, ' ': 117, 'l': 20, 'o': 44, 't': 49, 'f': 11, 'h': 33, 'i': 36, 'n': 39, 'g': 7, 's': 39, 'c': 18, 'u': 16, 'r': 36, 'e': 68, 'd': 18, 'y': 10, 'w': 14, \"'\": 6, 'v': 7, 'm': 15, 'b': 8, 'k': 6, 'p': 10}\n",
      "{'\\n': 28, 'a': 50, ' ': 117, 'l': 20, 'o': 44, 't': 49, 'f': 11, 'h': 33, 'i': 36, 'n': 39, 'g': 7, 's': 39, 'c': 18, 'u': 16, 'r': 36, 'e': 68, 'd': 18, 'y': 10, 'w': 14, \"'\": 6, 'v': 7, 'm': 15, 'b': 8, 'k': 6, 'p': 10}\n",
      "{'\\n': 28, 'a': 50, ' ': 117, 'l': 20, 'o': 44, 't': 49, 'f': 11, 'h': 33, 'i': 36, 'n': 39, 'g': 7, 's': 40, 'c': 18, 'u': 16, 'r': 36, 'e': 68, 'd': 18, 'y': 10, 'w': 14, \"'\": 6, 'v': 7, 'm': 15, 'b': 8, 'k': 6, 'p': 10}\n",
      "{'\\n': 28, 'a': 50, ' ': 117, 'l': 20, 'o': 44, 't': 49, 'f': 11, 'h': 33, 'i': 36, 'n': 39, 'g': 7, 's': 41, 'c': 18, 'u': 16, 'r': 36, 'e': 68, 'd': 18, 'y': 10, 'w': 14, \"'\": 6, 'v': 7, 'm': 15, 'b': 8, 'k': 6, 'p': 10}\n",
      "{'\\n': 28, 'a': 50, ' ': 118, 'l': 20, 'o': 44, 't': 49, 'f': 11, 'h': 33, 'i': 36, 'n': 39, 'g': 7, 's': 41, 'c': 18, 'u': 16, 'r': 36, 'e': 68, 'd': 18, 'y': 10, 'w': 14, \"'\": 6, 'v': 7, 'm': 15, 'b': 8, 'k': 6, 'p': 10}\n",
      "{'\\n': 28, 'a': 50, ' ': 118, 'l': 20, 'o': 45, 't': 49, 'f': 11, 'h': 33, 'i': 36, 'n': 39, 'g': 7, 's': 41, 'c': 18, 'u': 16, 'r': 36, 'e': 68, 'd': 18, 'y': 10, 'w': 14, \"'\": 6, 'v': 7, 'm': 15, 'b': 8, 'k': 6, 'p': 10}\n",
      "{'\\n': 28, 'a': 50, ' ': 118, 'l': 20, 'o': 45, 't': 49, 'f': 11, 'h': 33, 'i': 36, 'n': 40, 'g': 7, 's': 41, 'c': 18, 'u': 16, 'r': 36, 'e': 68, 'd': 18, 'y': 10, 'w': 14, \"'\": 6, 'v': 7, 'm': 15, 'b': 8, 'k': 6, 'p': 10}\n",
      "{'\\n': 28, 'a': 50, ' ': 119, 'l': 20, 'o': 45, 't': 49, 'f': 11, 'h': 33, 'i': 36, 'n': 40, 'g': 7, 's': 41, 'c': 18, 'u': 16, 'r': 36, 'e': 68, 'd': 18, 'y': 10, 'w': 14, \"'\": 6, 'v': 7, 'm': 15, 'b': 8, 'k': 6, 'p': 10}\n",
      "{'\\n': 28, 'a': 50, ' ': 119, 'l': 20, 'o': 45, 't': 50, 'f': 11, 'h': 33, 'i': 36, 'n': 40, 'g': 7, 's': 41, 'c': 18, 'u': 16, 'r': 36, 'e': 68, 'd': 18, 'y': 10, 'w': 14, \"'\": 6, 'v': 7, 'm': 15, 'b': 8, 'k': 6, 'p': 10}\n",
      "{'\\n': 28, 'a': 50, ' ': 119, 'l': 20, 'o': 45, 't': 50, 'f': 11, 'h': 34, 'i': 36, 'n': 40, 'g': 7, 's': 41, 'c': 18, 'u': 16, 'r': 36, 'e': 68, 'd': 18, 'y': 10, 'w': 14, \"'\": 6, 'v': 7, 'm': 15, 'b': 8, 'k': 6, 'p': 10}\n",
      "{'\\n': 28, 'a': 50, ' ': 119, 'l': 20, 'o': 45, 't': 50, 'f': 11, 'h': 34, 'i': 36, 'n': 40, 'g': 7, 's': 41, 'c': 18, 'u': 16, 'r': 36, 'e': 69, 'd': 18, 'y': 10, 'w': 14, \"'\": 6, 'v': 7, 'm': 15, 'b': 8, 'k': 6, 'p': 10}\n",
      "{'\\n': 28, 'a': 50, ' ': 120, 'l': 20, 'o': 45, 't': 50, 'f': 11, 'h': 34, 'i': 36, 'n': 40, 'g': 7, 's': 41, 'c': 18, 'u': 16, 'r': 36, 'e': 69, 'd': 18, 'y': 10, 'w': 14, \"'\": 6, 'v': 7, 'm': 15, 'b': 8, 'k': 6, 'p': 10}\n",
      "{'\\n': 28, 'a': 50, ' ': 120, 'l': 21, 'o': 45, 't': 50, 'f': 11, 'h': 34, 'i': 36, 'n': 40, 'g': 7, 's': 41, 'c': 18, 'u': 16, 'r': 36, 'e': 69, 'd': 18, 'y': 10, 'w': 14, \"'\": 6, 'v': 7, 'm': 15, 'b': 8, 'k': 6, 'p': 10}\n",
      "{'\\n': 28, 'a': 50, ' ': 120, 'l': 21, 'o': 45, 't': 50, 'f': 11, 'h': 34, 'i': 37, 'n': 40, 'g': 7, 's': 41, 'c': 18, 'u': 16, 'r': 36, 'e': 69, 'd': 18, 'y': 10, 'w': 14, \"'\": 6, 'v': 7, 'm': 15, 'b': 8, 'k': 6, 'p': 10}\n",
      "{'\\n': 28, 'a': 50, ' ': 120, 'l': 21, 'o': 45, 't': 50, 'f': 11, 'h': 34, 'i': 37, 'n': 40, 'g': 8, 's': 41, 'c': 18, 'u': 16, 'r': 36, 'e': 69, 'd': 18, 'y': 10, 'w': 14, \"'\": 6, 'v': 7, 'm': 15, 'b': 8, 'k': 6, 'p': 10}\n",
      "{'\\n': 28, 'a': 50, ' ': 120, 'l': 21, 'o': 45, 't': 50, 'f': 11, 'h': 35, 'i': 37, 'n': 40, 'g': 8, 's': 41, 'c': 18, 'u': 16, 'r': 36, 'e': 69, 'd': 18, 'y': 10, 'w': 14, \"'\": 6, 'v': 7, 'm': 15, 'b': 8, 'k': 6, 'p': 10}\n",
      "{'\\n': 28, 'a': 50, ' ': 120, 'l': 21, 'o': 45, 't': 51, 'f': 11, 'h': 35, 'i': 37, 'n': 40, 'g': 8, 's': 41, 'c': 18, 'u': 16, 'r': 36, 'e': 69, 'd': 18, 'y': 10, 'w': 14, \"'\": 6, 'v': 7, 'm': 15, 'b': 8, 'k': 6, 'p': 10}\n",
      "{'\\n': 29, 'a': 50, ' ': 120, 'l': 21, 'o': 45, 't': 51, 'f': 11, 'h': 35, 'i': 37, 'n': 40, 'g': 8, 's': 41, 'c': 18, 'u': 16, 'r': 36, 'e': 69, 'd': 18, 'y': 10, 'w': 14, \"'\": 6, 'v': 7, 'm': 15, 'b': 8, 'k': 6, 'p': 10}\n",
      "{'\\n': 29, 'a': 50, ' ': 120, 'l': 21, 'o': 45, 't': 51, 'f': 11, 'h': 35, 'i': 37, 'n': 40, 'g': 8, 's': 41, 'c': 18, 'u': 17, 'r': 36, 'e': 69, 'd': 18, 'y': 10, 'w': 14, \"'\": 6, 'v': 7, 'm': 15, 'b': 8, 'k': 6, 'p': 10}\n",
      "{'\\n': 29, 'a': 50, ' ': 120, 'l': 21, 'o': 45, 't': 51, 'f': 11, 'h': 35, 'i': 37, 'n': 41, 'g': 8, 's': 41, 'c': 18, 'u': 17, 'r': 36, 'e': 69, 'd': 18, 'y': 10, 'w': 14, \"'\": 6, 'v': 7, 'm': 15, 'b': 8, 'k': 6, 'p': 10}\n",
      "{'\\n': 29, 'a': 50, ' ': 120, 'l': 21, 'o': 45, 't': 51, 'f': 11, 'h': 35, 'i': 38, 'n': 41, 'g': 8, 's': 41, 'c': 18, 'u': 17, 'r': 36, 'e': 69, 'd': 18, 'y': 10, 'w': 14, \"'\": 6, 'v': 7, 'm': 15, 'b': 8, 'k': 6, 'p': 10}\n",
      "{'\\n': 29, 'a': 50, ' ': 120, 'l': 21, 'o': 45, 't': 52, 'f': 11, 'h': 35, 'i': 38, 'n': 41, 'g': 8, 's': 41, 'c': 18, 'u': 17, 'r': 36, 'e': 69, 'd': 18, 'y': 10, 'w': 14, \"'\": 6, 'v': 7, 'm': 15, 'b': 8, 'k': 6, 'p': 10}\n",
      "{'\\n': 29, 'a': 50, ' ': 120, 'l': 21, 'o': 45, 't': 52, 'f': 11, 'h': 35, 'i': 38, 'n': 41, 'g': 8, 's': 41, 'c': 18, 'u': 17, 'r': 36, 'e': 70, 'd': 18, 'y': 10, 'w': 14, \"'\": 6, 'v': 7, 'm': 15, 'b': 8, 'k': 6, 'p': 10}\n",
      "{'\\n': 29, 'a': 50, ' ': 121, 'l': 21, 'o': 45, 't': 52, 'f': 11, 'h': 35, 'i': 38, 'n': 41, 'g': 8, 's': 41, 'c': 18, 'u': 17, 'r': 36, 'e': 70, 'd': 18, 'y': 10, 'w': 14, \"'\": 6, 'v': 7, 'm': 15, 'b': 8, 'k': 6, 'p': 10, '!': 1}\n",
      "{'\\n': 29, 'a': 50, ' ': 121, 'l': 21, 'o': 45, 't': 52, 'f': 11, 'h': 35, 'i': 39, 'n': 41, 'g': 8, 's': 41, 'c': 18, 'u': 17, 'r': 36, 'e': 70, 'd': 18, 'y': 10, 'w': 14, \"'\": 6, 'v': 7, 'm': 15, 'b': 8, 'k': 6, 'p': 10, '!': 1}\n",
      "{'\\n': 29, 'a': 50, ' ': 121, 'l': 21, 'o': 45, 't': 53, 'f': 11, 'h': 35, 'i': 39, 'n': 41, 'g': 8, 's': 41, 'c': 18, 'u': 17, 'r': 36, 'e': 70, 'd': 18, 'y': 10, 'w': 14, \"'\": 6, 'v': 7, 'm': 15, 'b': 8, 'k': 6, 'p': 10, '!': 1}\n",
      "{'\\n': 29, 'a': 50, ' ': 121, 'l': 21, 'o': 45, 't': 53, 'f': 11, 'h': 35, 'i': 39, 'n': 41, 'g': 8, 's': 41, 'c': 18, 'u': 17, 'r': 36, 'e': 70, 'd': 18, 'y': 10, 'w': 14, \"'\": 7, 'v': 7, 'm': 15, 'b': 8, 'k': 6, 'p': 10, '!': 1}\n",
      "{'\\n': 29, 'a': 50, ' ': 121, 'l': 21, 'o': 45, 't': 53, 'f': 11, 'h': 35, 'i': 39, 'n': 41, 'g': 8, 's': 42, 'c': 18, 'u': 17, 'r': 36, 'e': 70, 'd': 18, 'y': 10, 'w': 14, \"'\": 7, 'v': 7, 'm': 15, 'b': 8, 'k': 6, 'p': 10, '!': 1}\n",
      "{'\\n': 29, 'a': 50, ' ': 122, 'l': 21, 'o': 45, 't': 53, 'f': 11, 'h': 35, 'i': 39, 'n': 41, 'g': 8, 's': 42, 'c': 18, 'u': 17, 'r': 36, 'e': 70, 'd': 18, 'y': 10, 'w': 14, \"'\": 7, 'v': 7, 'm': 15, 'b': 8, 'k': 6, 'p': 10, '!': 1}\n",
      "{'\\n': 29, 'a': 50, ' ': 122, 'l': 21, 'o': 45, 't': 53, 'f': 11, 'h': 35, 'i': 39, 'n': 42, 'g': 8, 's': 42, 'c': 18, 'u': 17, 'r': 36, 'e': 70, 'd': 18, 'y': 10, 'w': 14, \"'\": 7, 'v': 7, 'm': 15, 'b': 8, 'k': 6, 'p': 10, '!': 1}\n",
      "{'\\n': 29, 'a': 50, ' ': 122, 'l': 21, 'o': 46, 't': 53, 'f': 11, 'h': 35, 'i': 39, 'n': 42, 'g': 8, 's': 42, 'c': 18, 'u': 17, 'r': 36, 'e': 70, 'd': 18, 'y': 10, 'w': 14, \"'\": 7, 'v': 7, 'm': 15, 'b': 8, 'k': 6, 'p': 10, '!': 1}\n",
      "{'\\n': 29, 'a': 50, ' ': 122, 'l': 21, 'o': 46, 't': 54, 'f': 11, 'h': 35, 'i': 39, 'n': 42, 'g': 8, 's': 42, 'c': 18, 'u': 17, 'r': 36, 'e': 70, 'd': 18, 'y': 10, 'w': 14, \"'\": 7, 'v': 7, 'm': 15, 'b': 8, 'k': 6, 'p': 10, '!': 1}\n",
      "{'\\n': 29, 'a': 50, ' ': 123, 'l': 21, 'o': 46, 't': 54, 'f': 11, 'h': 35, 'i': 39, 'n': 42, 'g': 8, 's': 42, 'c': 18, 'u': 17, 'r': 36, 'e': 70, 'd': 18, 'y': 10, 'w': 14, \"'\": 7, 'v': 7, 'm': 15, 'b': 8, 'k': 6, 'p': 10, '!': 1}\n",
      "{'\\n': 29, 'a': 50, ' ': 123, 'l': 21, 'o': 46, 't': 55, 'f': 11, 'h': 35, 'i': 39, 'n': 42, 'g': 8, 's': 42, 'c': 18, 'u': 17, 'r': 36, 'e': 70, 'd': 18, 'y': 10, 'w': 14, \"'\": 7, 'v': 7, 'm': 15, 'b': 8, 'k': 6, 'p': 10, '!': 1}\n",
      "{'\\n': 29, 'a': 50, ' ': 123, 'l': 21, 'o': 47, 't': 55, 'f': 11, 'h': 35, 'i': 39, 'n': 42, 'g': 8, 's': 42, 'c': 18, 'u': 17, 'r': 36, 'e': 70, 'd': 18, 'y': 10, 'w': 14, \"'\": 7, 'v': 7, 'm': 15, 'b': 8, 'k': 6, 'p': 10, '!': 1}\n",
      "{'\\n': 29, 'a': 50, ' ': 123, 'l': 21, 'o': 48, 't': 55, 'f': 11, 'h': 35, 'i': 39, 'n': 42, 'g': 8, 's': 42, 'c': 18, 'u': 17, 'r': 36, 'e': 70, 'd': 18, 'y': 10, 'w': 14, \"'\": 7, 'v': 7, 'm': 15, 'b': 8, 'k': 6, 'p': 10, '!': 1}\n",
      "{'\\n': 29, 'a': 50, ' ': 124, 'l': 21, 'o': 48, 't': 55, 'f': 11, 'h': 35, 'i': 39, 'n': 42, 'g': 8, 's': 42, 'c': 18, 'u': 17, 'r': 36, 'e': 70, 'd': 18, 'y': 10, 'w': 14, \"'\": 7, 'v': 7, 'm': 15, 'b': 8, 'k': 6, 'p': 10, '!': 1}\n",
      "{'\\n': 29, 'a': 50, ' ': 124, 'l': 22, 'o': 48, 't': 55, 'f': 11, 'h': 35, 'i': 39, 'n': 42, 'g': 8, 's': 42, 'c': 18, 'u': 17, 'r': 36, 'e': 70, 'd': 18, 'y': 10, 'w': 14, \"'\": 7, 'v': 7, 'm': 15, 'b': 8, 'k': 6, 'p': 10, '!': 1}\n",
      "{'\\n': 29, 'a': 51, ' ': 124, 'l': 22, 'o': 48, 't': 55, 'f': 11, 'h': 35, 'i': 39, 'n': 42, 'g': 8, 's': 42, 'c': 18, 'u': 17, 'r': 36, 'e': 70, 'd': 18, 'y': 10, 'w': 14, \"'\": 7, 'v': 7, 'm': 15, 'b': 8, 'k': 6, 'p': 10, '!': 1}\n",
      "{'\\n': 29, 'a': 51, ' ': 124, 'l': 22, 'o': 48, 't': 56, 'f': 11, 'h': 35, 'i': 39, 'n': 42, 'g': 8, 's': 42, 'c': 18, 'u': 17, 'r': 36, 'e': 70, 'd': 18, 'y': 10, 'w': 14, \"'\": 7, 'v': 7, 'm': 15, 'b': 8, 'k': 6, 'p': 10, '!': 1}\n",
      "{'\\n': 29, 'a': 51, ' ': 124, 'l': 22, 'o': 48, 't': 56, 'f': 11, 'h': 35, 'i': 39, 'n': 42, 'g': 8, 's': 42, 'c': 18, 'u': 17, 'r': 36, 'e': 71, 'd': 18, 'y': 10, 'w': 14, \"'\": 7, 'v': 7, 'm': 15, 'b': 8, 'k': 6, 'p': 10, '!': 1}\n",
      "{'\\n': 30, 'a': 51, ' ': 124, 'l': 22, 'o': 48, 't': 56, 'f': 11, 'h': 35, 'i': 39, 'n': 42, 'g': 8, 's': 42, 'c': 18, 'u': 17, 'r': 36, 'e': 71, 'd': 18, 'y': 10, 'w': 14, \"'\": 7, 'v': 7, 'm': 15, 'b': 8, 'k': 6, 'p': 10, '!': 1}\n",
      "{'\\n': 31, 'a': 51, ' ': 124, 'l': 22, 'o': 48, 't': 56, 'f': 11, 'h': 35, 'i': 39, 'n': 42, 'g': 8, 's': 42, 'c': 18, 'u': 17, 'r': 36, 'e': 71, 'd': 18, 'y': 10, 'w': 14, \"'\": 7, 'v': 7, 'm': 15, 'b': 8, 'k': 6, 'p': 10, '!': 1}\n",
      "{'\\n': 31, 'a': 51, ' ': 124, 'l': 22, 'o': 48, 't': 56, 'f': 11, 'h': 36, 'i': 39, 'n': 42, 'g': 8, 's': 42, 'c': 18, 'u': 17, 'r': 36, 'e': 71, 'd': 18, 'y': 10, 'w': 14, \"'\": 7, 'v': 7, 'm': 15, 'b': 8, 'k': 6, 'p': 10, '!': 1}\n",
      "{'\\n': 31, 'a': 51, ' ': 124, 'l': 22, 'o': 49, 't': 56, 'f': 11, 'h': 36, 'i': 39, 'n': 42, 'g': 8, 's': 42, 'c': 18, 'u': 17, 'r': 36, 'e': 71, 'd': 18, 'y': 10, 'w': 14, \"'\": 7, 'v': 7, 'm': 15, 'b': 8, 'k': 6, 'p': 10, '!': 1}\n",
      "{'\\n': 31, 'a': 51, ' ': 124, 'l': 22, 'o': 49, 't': 56, 'f': 11, 'h': 36, 'i': 39, 'n': 42, 'g': 8, 's': 42, 'c': 18, 'u': 17, 'r': 36, 'e': 71, 'd': 18, 'y': 10, 'w': 15, \"'\": 7, 'v': 7, 'm': 15, 'b': 8, 'k': 6, 'p': 10, '!': 1}\n",
      "{'\\n': 31, 'a': 51, ' ': 125, 'l': 22, 'o': 49, 't': 56, 'f': 11, 'h': 36, 'i': 39, 'n': 42, 'g': 8, 's': 42, 'c': 18, 'u': 17, 'r': 36, 'e': 71, 'd': 18, 'y': 10, 'w': 15, \"'\": 7, 'v': 7, 'm': 15, 'b': 8, 'k': 6, 'p': 10, '!': 1}\n",
      "{'\\n': 31, 'a': 51, ' ': 125, 'l': 22, 'o': 49, 't': 56, 'f': 11, 'h': 36, 'i': 39, 'n': 42, 'g': 8, 's': 42, 'c': 18, 'u': 17, 'r': 36, 'e': 71, 'd': 18, 'y': 10, 'w': 15, \"'\": 7, 'v': 7, 'm': 16, 'b': 8, 'k': 6, 'p': 10, '!': 1}\n",
      "{'\\n': 31, 'a': 52, ' ': 125, 'l': 22, 'o': 49, 't': 56, 'f': 11, 'h': 36, 'i': 39, 'n': 42, 'g': 8, 's': 42, 'c': 18, 'u': 17, 'r': 36, 'e': 71, 'd': 18, 'y': 10, 'w': 15, \"'\": 7, 'v': 7, 'm': 16, 'b': 8, 'k': 6, 'p': 10, '!': 1}\n",
      "{'\\n': 31, 'a': 52, ' ': 125, 'l': 22, 'o': 49, 't': 56, 'f': 11, 'h': 36, 'i': 39, 'n': 43, 'g': 8, 's': 42, 'c': 18, 'u': 17, 'r': 36, 'e': 71, 'd': 18, 'y': 10, 'w': 15, \"'\": 7, 'v': 7, 'm': 16, 'b': 8, 'k': 6, 'p': 10, '!': 1}\n",
      "{'\\n': 31, 'a': 52, ' ': 125, 'l': 22, 'o': 49, 't': 56, 'f': 11, 'h': 36, 'i': 39, 'n': 43, 'g': 8, 's': 42, 'c': 18, 'u': 17, 'r': 36, 'e': 71, 'd': 18, 'y': 11, 'w': 15, \"'\": 7, 'v': 7, 'm': 16, 'b': 8, 'k': 6, 'p': 10, '!': 1}\n",
      "{'\\n': 31, 'a': 52, ' ': 126, 'l': 22, 'o': 49, 't': 56, 'f': 11, 'h': 36, 'i': 39, 'n': 43, 'g': 8, 's': 42, 'c': 18, 'u': 17, 'r': 36, 'e': 71, 'd': 18, 'y': 11, 'w': 15, \"'\": 7, 'v': 7, 'm': 16, 'b': 8, 'k': 6, 'p': 10, '!': 1}\n",
      "{'\\n': 31, 'a': 52, ' ': 126, 'l': 22, 'o': 49, 't': 57, 'f': 11, 'h': 36, 'i': 39, 'n': 43, 'g': 8, 's': 42, 'c': 18, 'u': 17, 'r': 36, 'e': 71, 'd': 18, 'y': 11, 'w': 15, \"'\": 7, 'v': 7, 'm': 16, 'b': 8, 'k': 6, 'p': 10, '!': 1}\n",
      "{'\\n': 31, 'a': 52, ' ': 126, 'l': 22, 'o': 49, 't': 57, 'f': 11, 'h': 36, 'i': 39, 'n': 43, 'g': 8, 's': 42, 'c': 18, 'u': 17, 'r': 36, 'e': 72, 'd': 18, 'y': 11, 'w': 15, \"'\": 7, 'v': 7, 'm': 16, 'b': 8, 'k': 6, 'p': 10, '!': 1}\n",
      "{'\\n': 31, 'a': 53, ' ': 126, 'l': 22, 'o': 49, 't': 57, 'f': 11, 'h': 36, 'i': 39, 'n': 43, 'g': 8, 's': 42, 'c': 18, 'u': 17, 'r': 36, 'e': 72, 'd': 18, 'y': 11, 'w': 15, \"'\": 7, 'v': 7, 'm': 16, 'b': 8, 'k': 6, 'p': 10, '!': 1}\n",
      "{'\\n': 31, 'a': 53, ' ': 126, 'l': 22, 'o': 49, 't': 57, 'f': 11, 'h': 36, 'i': 39, 'n': 43, 'g': 8, 's': 42, 'c': 18, 'u': 17, 'r': 37, 'e': 72, 'd': 18, 'y': 11, 'w': 15, \"'\": 7, 'v': 7, 'm': 16, 'b': 8, 'k': 6, 'p': 10, '!': 1}\n",
      "{'\\n': 31, 'a': 53, ' ': 126, 'l': 22, 'o': 49, 't': 57, 'f': 11, 'h': 36, 'i': 39, 'n': 43, 'g': 8, 's': 43, 'c': 18, 'u': 17, 'r': 37, 'e': 72, 'd': 18, 'y': 11, 'w': 15, \"'\": 7, 'v': 7, 'm': 16, 'b': 8, 'k': 6, 'p': 10, '!': 1}\n",
      "{'\\n': 31, 'a': 53, ' ': 127, 'l': 22, 'o': 49, 't': 57, 'f': 11, 'h': 36, 'i': 39, 'n': 43, 'g': 8, 's': 43, 'c': 18, 'u': 17, 'r': 37, 'e': 72, 'd': 18, 'y': 11, 'w': 15, \"'\": 7, 'v': 7, 'm': 16, 'b': 8, 'k': 6, 'p': 10, '!': 1}\n",
      "{'\\n': 31, 'a': 53, ' ': 127, 'l': 22, 'o': 49, 't': 57, 'f': 12, 'h': 36, 'i': 39, 'n': 43, 'g': 8, 's': 43, 'c': 18, 'u': 17, 'r': 37, 'e': 72, 'd': 18, 'y': 11, 'w': 15, \"'\": 7, 'v': 7, 'm': 16, 'b': 8, 'k': 6, 'p': 10, '!': 1}\n",
      "{'\\n': 31, 'a': 53, ' ': 127, 'l': 23, 'o': 49, 't': 57, 'f': 12, 'h': 36, 'i': 39, 'n': 43, 'g': 8, 's': 43, 'c': 18, 'u': 17, 'r': 37, 'e': 72, 'd': 18, 'y': 11, 'w': 15, \"'\": 7, 'v': 7, 'm': 16, 'b': 8, 'k': 6, 'p': 10, '!': 1}\n",
      "{'\\n': 31, 'a': 53, ' ': 127, 'l': 23, 'o': 50, 't': 57, 'f': 12, 'h': 36, 'i': 39, 'n': 43, 'g': 8, 's': 43, 'c': 18, 'u': 17, 'r': 37, 'e': 72, 'd': 18, 'y': 11, 'w': 15, \"'\": 7, 'v': 7, 'm': 16, 'b': 8, 'k': 6, 'p': 10, '!': 1}\n",
      "{'\\n': 31, 'a': 53, ' ': 127, 'l': 23, 'o': 50, 't': 57, 'f': 12, 'h': 36, 'i': 39, 'n': 43, 'g': 8, 's': 43, 'c': 18, 'u': 17, 'r': 37, 'e': 72, 'd': 18, 'y': 11, 'w': 16, \"'\": 7, 'v': 7, 'm': 16, 'b': 8, 'k': 6, 'p': 10, '!': 1}\n",
      "{'\\n': 31, 'a': 53, ' ': 128, 'l': 23, 'o': 50, 't': 57, 'f': 12, 'h': 36, 'i': 39, 'n': 43, 'g': 8, 's': 43, 'c': 18, 'u': 17, 'r': 37, 'e': 72, 'd': 18, 'y': 11, 'w': 16, \"'\": 7, 'v': 7, 'm': 16, 'b': 8, 'k': 6, 'p': 10, '!': 1}\n",
      "{'\\n': 31, 'a': 54, ' ': 128, 'l': 23, 'o': 50, 't': 57, 'f': 12, 'h': 36, 'i': 39, 'n': 43, 'g': 8, 's': 43, 'c': 18, 'u': 17, 'r': 37, 'e': 72, 'd': 18, 'y': 11, 'w': 16, \"'\": 7, 'v': 7, 'm': 16, 'b': 8, 'k': 6, 'p': 10, '!': 1}\n",
      "{'\\n': 31, 'a': 54, ' ': 128, 'l': 23, 'o': 50, 't': 57, 'f': 12, 'h': 36, 'i': 39, 'n': 43, 'g': 8, 's': 43, 'c': 18, 'u': 17, 'r': 37, 'e': 72, 'd': 18, 'y': 11, 'w': 17, \"'\": 7, 'v': 7, 'm': 16, 'b': 8, 'k': 6, 'p': 10, '!': 1}\n",
      "{'\\n': 31, 'a': 55, ' ': 128, 'l': 23, 'o': 50, 't': 57, 'f': 12, 'h': 36, 'i': 39, 'n': 43, 'g': 8, 's': 43, 'c': 18, 'u': 17, 'r': 37, 'e': 72, 'd': 18, 'y': 11, 'w': 17, \"'\": 7, 'v': 7, 'm': 16, 'b': 8, 'k': 6, 'p': 10, '!': 1}\n",
      "{'\\n': 31, 'a': 55, ' ': 128, 'l': 23, 'o': 50, 't': 57, 'f': 12, 'h': 36, 'i': 39, 'n': 43, 'g': 8, 's': 43, 'c': 18, 'u': 17, 'r': 37, 'e': 72, 'd': 18, 'y': 12, 'w': 17, \"'\": 7, 'v': 7, 'm': 16, 'b': 8, 'k': 6, 'p': 10, '!': 1}\n",
      "{'\\n': 32, 'a': 55, ' ': 128, 'l': 23, 'o': 50, 't': 57, 'f': 12, 'h': 36, 'i': 39, 'n': 43, 'g': 8, 's': 43, 'c': 18, 'u': 17, 'r': 37, 'e': 72, 'd': 18, 'y': 12, 'w': 17, \"'\": 7, 'v': 7, 'm': 16, 'b': 8, 'k': 6, 'p': 10, '!': 1}\n",
      "{'\\n': 32, 'a': 55, ' ': 128, 'l': 23, 'o': 50, 't': 58, 'f': 12, 'h': 36, 'i': 39, 'n': 43, 'g': 8, 's': 43, 'c': 18, 'u': 17, 'r': 37, 'e': 72, 'd': 18, 'y': 12, 'w': 17, \"'\": 7, 'v': 7, 'm': 16, 'b': 8, 'k': 6, 'p': 10, '!': 1}\n",
      "{'\\n': 32, 'a': 55, ' ': 128, 'l': 23, 'o': 51, 't': 58, 'f': 12, 'h': 36, 'i': 39, 'n': 43, 'g': 8, 's': 43, 'c': 18, 'u': 17, 'r': 37, 'e': 72, 'd': 18, 'y': 12, 'w': 17, \"'\": 7, 'v': 7, 'm': 16, 'b': 8, 'k': 6, 'p': 10, '!': 1}\n",
      "{'\\n': 32, 'a': 55, ' ': 129, 'l': 23, 'o': 51, 't': 58, 'f': 12, 'h': 36, 'i': 39, 'n': 43, 'g': 8, 's': 43, 'c': 18, 'u': 17, 'r': 37, 'e': 72, 'd': 18, 'y': 12, 'w': 17, \"'\": 7, 'v': 7, 'm': 16, 'b': 8, 'k': 6, 'p': 10, '!': 1}\n",
      "{'\\n': 32, 'a': 55, ' ': 129, 'l': 23, 'o': 51, 't': 58, 'f': 12, 'h': 36, 'i': 39, 'n': 43, 'g': 8, 's': 43, 'c': 18, 'u': 17, 'r': 37, 'e': 72, 'd': 18, 'y': 12, 'w': 17, \"'\": 7, 'v': 7, 'm': 16, 'b': 9, 'k': 6, 'p': 10, '!': 1}\n",
      "{'\\n': 32, 'a': 55, ' ': 129, 'l': 23, 'o': 51, 't': 58, 'f': 12, 'h': 36, 'i': 39, 'n': 43, 'g': 8, 's': 43, 'c': 18, 'u': 17, 'r': 37, 'e': 73, 'd': 18, 'y': 12, 'w': 17, \"'\": 7, 'v': 7, 'm': 16, 'b': 9, 'k': 6, 'p': 10, '!': 1}\n",
      "{'\\n': 32, 'a': 55, ' ': 129, 'l': 23, 'o': 51, 't': 58, 'f': 12, 'h': 36, 'i': 39, 'n': 43, 'g': 8, 's': 43, 'c': 19, 'u': 17, 'r': 37, 'e': 73, 'd': 18, 'y': 12, 'w': 17, \"'\": 7, 'v': 7, 'm': 16, 'b': 9, 'k': 6, 'p': 10, '!': 1}\n",
      "{'\\n': 32, 'a': 55, ' ': 129, 'l': 23, 'o': 52, 't': 58, 'f': 12, 'h': 36, 'i': 39, 'n': 43, 'g': 8, 's': 43, 'c': 19, 'u': 17, 'r': 37, 'e': 73, 'd': 18, 'y': 12, 'w': 17, \"'\": 7, 'v': 7, 'm': 16, 'b': 9, 'k': 6, 'p': 10, '!': 1}\n",
      "{'\\n': 32, 'a': 55, ' ': 129, 'l': 23, 'o': 52, 't': 58, 'f': 12, 'h': 36, 'i': 39, 'n': 43, 'g': 8, 's': 43, 'c': 19, 'u': 17, 'r': 37, 'e': 73, 'd': 18, 'y': 12, 'w': 17, \"'\": 7, 'v': 7, 'm': 17, 'b': 9, 'k': 6, 'p': 10, '!': 1}\n",
      "{'\\n': 32, 'a': 55, ' ': 129, 'l': 23, 'o': 52, 't': 58, 'f': 12, 'h': 36, 'i': 39, 'n': 43, 'g': 8, 's': 43, 'c': 19, 'u': 17, 'r': 37, 'e': 74, 'd': 18, 'y': 12, 'w': 17, \"'\": 7, 'v': 7, 'm': 17, 'b': 9, 'k': 6, 'p': 10, '!': 1}\n",
      "{'\\n': 32, 'a': 55, ' ': 130, 'l': 23, 'o': 52, 't': 58, 'f': 12, 'h': 36, 'i': 39, 'n': 43, 'g': 8, 's': 43, 'c': 19, 'u': 17, 'r': 37, 'e': 74, 'd': 18, 'y': 12, 'w': 17, \"'\": 7, 'v': 7, 'm': 17, 'b': 9, 'k': 6, 'p': 10, '!': 1}\n",
      "{'\\n': 32, 'a': 56, ' ': 130, 'l': 23, 'o': 52, 't': 58, 'f': 12, 'h': 36, 'i': 39, 'n': 43, 'g': 8, 's': 43, 'c': 19, 'u': 17, 'r': 37, 'e': 74, 'd': 18, 'y': 12, 'w': 17, \"'\": 7, 'v': 7, 'm': 17, 'b': 9, 'k': 6, 'p': 10, '!': 1}\n",
      "{'\\n': 32, 'a': 56, ' ': 131, 'l': 23, 'o': 52, 't': 58, 'f': 12, 'h': 36, 'i': 39, 'n': 43, 'g': 8, 's': 43, 'c': 19, 'u': 17, 'r': 37, 'e': 74, 'd': 18, 'y': 12, 'w': 17, \"'\": 7, 'v': 7, 'm': 17, 'b': 9, 'k': 6, 'p': 10, '!': 1}\n",
      "{'\\n': 32, 'a': 56, ' ': 131, 'l': 23, 'o': 52, 't': 58, 'f': 12, 'h': 36, 'i': 39, 'n': 43, 'g': 8, 's': 44, 'c': 19, 'u': 17, 'r': 37, 'e': 74, 'd': 18, 'y': 12, 'w': 17, \"'\": 7, 'v': 7, 'm': 17, 'b': 9, 'k': 6, 'p': 10, '!': 1}\n",
      "{'\\n': 32, 'a': 56, ' ': 131, 'l': 23, 'o': 52, 't': 58, 'f': 12, 'h': 36, 'i': 39, 'n': 43, 'g': 8, 's': 44, 'c': 19, 'u': 17, 'r': 37, 'e': 75, 'd': 18, 'y': 12, 'w': 17, \"'\": 7, 'v': 7, 'm': 17, 'b': 9, 'k': 6, 'p': 10, '!': 1}\n",
      "{'\\n': 32, 'a': 57, ' ': 131, 'l': 23, 'o': 52, 't': 58, 'f': 12, 'h': 36, 'i': 39, 'n': 43, 'g': 8, 's': 44, 'c': 19, 'u': 17, 'r': 37, 'e': 75, 'd': 18, 'y': 12, 'w': 17, \"'\": 7, 'v': 7, 'm': 17, 'b': 9, 'k': 6, 'p': 10, '!': 1}\n",
      "{'\\n': 32, 'a': 57, ' ': 132, 'l': 23, 'o': 52, 't': 58, 'f': 12, 'h': 36, 'i': 39, 'n': 43, 'g': 8, 's': 44, 'c': 19, 'u': 17, 'r': 37, 'e': 75, 'd': 18, 'y': 12, 'w': 17, \"'\": 7, 'v': 7, 'm': 17, 'b': 9, 'k': 6, 'p': 10, '!': 1}\n",
      "{'\\n': 32, 'a': 57, ' ': 132, 'l': 23, 'o': 53, 't': 58, 'f': 12, 'h': 36, 'i': 39, 'n': 43, 'g': 8, 's': 44, 'c': 19, 'u': 17, 'r': 37, 'e': 75, 'd': 18, 'y': 12, 'w': 17, \"'\": 7, 'v': 7, 'm': 17, 'b': 9, 'k': 6, 'p': 10, '!': 1}\n",
      "{'\\n': 32, 'a': 57, ' ': 132, 'l': 23, 'o': 53, 't': 58, 'f': 13, 'h': 36, 'i': 39, 'n': 43, 'g': 8, 's': 44, 'c': 19, 'u': 17, 'r': 37, 'e': 75, 'd': 18, 'y': 12, 'w': 17, \"'\": 7, 'v': 7, 'm': 17, 'b': 9, 'k': 6, 'p': 10, '!': 1}\n",
      "{'\\n': 32, 'a': 57, ' ': 133, 'l': 23, 'o': 53, 't': 58, 'f': 13, 'h': 36, 'i': 39, 'n': 43, 'g': 8, 's': 44, 'c': 19, 'u': 17, 'r': 37, 'e': 75, 'd': 18, 'y': 12, 'w': 17, \"'\": 7, 'v': 7, 'm': 17, 'b': 9, 'k': 6, 'p': 10, '!': 1}\n",
      "{'\\n': 32, 'a': 57, ' ': 133, 'l': 23, 'o': 53, 't': 58, 'f': 14, 'h': 36, 'i': 39, 'n': 43, 'g': 8, 's': 44, 'c': 19, 'u': 17, 'r': 37, 'e': 75, 'd': 18, 'y': 12, 'w': 17, \"'\": 7, 'v': 7, 'm': 17, 'b': 9, 'k': 6, 'p': 10, '!': 1}\n",
      "{'\\n': 32, 'a': 57, ' ': 133, 'l': 23, 'o': 53, 't': 58, 'f': 14, 'h': 36, 'i': 39, 'n': 43, 'g': 8, 's': 44, 'c': 19, 'u': 17, 'r': 37, 'e': 76, 'd': 18, 'y': 12, 'w': 17, \"'\": 7, 'v': 7, 'm': 17, 'b': 9, 'k': 6, 'p': 10, '!': 1}\n",
      "{'\\n': 32, 'a': 58, ' ': 133, 'l': 23, 'o': 53, 't': 58, 'f': 14, 'h': 36, 'i': 39, 'n': 43, 'g': 8, 's': 44, 'c': 19, 'u': 17, 'r': 37, 'e': 76, 'd': 18, 'y': 12, 'w': 17, \"'\": 7, 'v': 7, 'm': 17, 'b': 9, 'k': 6, 'p': 10, '!': 1}\n",
      "{'\\n': 32, 'a': 58, ' ': 133, 'l': 23, 'o': 53, 't': 58, 'f': 14, 'h': 36, 'i': 39, 'n': 43, 'g': 8, 's': 44, 'c': 19, 'u': 17, 'r': 38, 'e': 76, 'd': 18, 'y': 12, 'w': 17, \"'\": 7, 'v': 7, 'm': 17, 'b': 9, 'k': 6, 'p': 10, '!': 1}\n",
      "{'\\n': 32, 'a': 58, ' ': 133, 'l': 23, 'o': 53, 't': 58, 'f': 14, 'h': 36, 'i': 39, 'n': 43, 'g': 8, 's': 45, 'c': 19, 'u': 17, 'r': 38, 'e': 76, 'd': 18, 'y': 12, 'w': 17, \"'\": 7, 'v': 7, 'm': 17, 'b': 9, 'k': 6, 'p': 10, '!': 1}\n",
      "{'\\n': 33, 'a': 58, ' ': 133, 'l': 23, 'o': 53, 't': 58, 'f': 14, 'h': 36, 'i': 39, 'n': 43, 'g': 8, 's': 45, 'c': 19, 'u': 17, 'r': 38, 'e': 76, 'd': 18, 'y': 12, 'w': 17, \"'\": 7, 'v': 7, 'm': 17, 'b': 9, 'k': 6, 'p': 10, '!': 1}\n",
      "{'\\n': 33, 'a': 58, ' ': 133, 'l': 23, 'o': 53, 't': 58, 'f': 14, 'h': 37, 'i': 39, 'n': 43, 'g': 8, 's': 45, 'c': 19, 'u': 17, 'r': 38, 'e': 76, 'd': 18, 'y': 12, 'w': 17, \"'\": 7, 'v': 7, 'm': 17, 'b': 9, 'k': 6, 'p': 10, '!': 1}\n",
      "{'\\n': 33, 'a': 58, ' ': 133, 'l': 23, 'o': 54, 't': 58, 'f': 14, 'h': 37, 'i': 39, 'n': 43, 'g': 8, 's': 45, 'c': 19, 'u': 17, 'r': 38, 'e': 76, 'd': 18, 'y': 12, 'w': 17, \"'\": 7, 'v': 7, 'm': 17, 'b': 9, 'k': 6, 'p': 10, '!': 1}\n",
      "{'\\n': 33, 'a': 58, ' ': 133, 'l': 23, 'o': 54, 't': 58, 'f': 14, 'h': 37, 'i': 39, 'n': 43, 'g': 8, 's': 45, 'c': 19, 'u': 17, 'r': 38, 'e': 76, 'd': 18, 'y': 12, 'w': 18, \"'\": 7, 'v': 7, 'm': 17, 'b': 9, 'k': 6, 'p': 10, '!': 1}\n",
      "{'\\n': 33, 'a': 58, ' ': 134, 'l': 23, 'o': 54, 't': 58, 'f': 14, 'h': 37, 'i': 39, 'n': 43, 'g': 8, 's': 45, 'c': 19, 'u': 17, 'r': 38, 'e': 76, 'd': 18, 'y': 12, 'w': 18, \"'\": 7, 'v': 7, 'm': 17, 'b': 9, 'k': 6, 'p': 10, '!': 1}\n",
      "{'\\n': 33, 'a': 58, ' ': 134, 'l': 23, 'o': 54, 't': 58, 'f': 14, 'h': 37, 'i': 39, 'n': 43, 'g': 8, 's': 45, 'c': 19, 'u': 17, 'r': 38, 'e': 76, 'd': 18, 'y': 12, 'w': 18, \"'\": 7, 'v': 7, 'm': 18, 'b': 9, 'k': 6, 'p': 10, '!': 1}\n",
      "{'\\n': 33, 'a': 59, ' ': 134, 'l': 23, 'o': 54, 't': 58, 'f': 14, 'h': 37, 'i': 39, 'n': 43, 'g': 8, 's': 45, 'c': 19, 'u': 17, 'r': 38, 'e': 76, 'd': 18, 'y': 12, 'w': 18, \"'\": 7, 'v': 7, 'm': 18, 'b': 9, 'k': 6, 'p': 10, '!': 1}\n",
      "{'\\n': 33, 'a': 59, ' ': 134, 'l': 23, 'o': 54, 't': 58, 'f': 14, 'h': 37, 'i': 39, 'n': 44, 'g': 8, 's': 45, 'c': 19, 'u': 17, 'r': 38, 'e': 76, 'd': 18, 'y': 12, 'w': 18, \"'\": 7, 'v': 7, 'm': 18, 'b': 9, 'k': 6, 'p': 10, '!': 1}\n",
      "{'\\n': 33, 'a': 59, ' ': 134, 'l': 23, 'o': 54, 't': 58, 'f': 14, 'h': 37, 'i': 39, 'n': 44, 'g': 8, 's': 45, 'c': 19, 'u': 17, 'r': 38, 'e': 76, 'd': 18, 'y': 13, 'w': 18, \"'\": 7, 'v': 7, 'm': 18, 'b': 9, 'k': 6, 'p': 10, '!': 1}\n",
      "{'\\n': 33, 'a': 59, ' ': 135, 'l': 23, 'o': 54, 't': 58, 'f': 14, 'h': 37, 'i': 39, 'n': 44, 'g': 8, 's': 45, 'c': 19, 'u': 17, 'r': 38, 'e': 76, 'd': 18, 'y': 13, 'w': 18, \"'\": 7, 'v': 7, 'm': 18, 'b': 9, 'k': 6, 'p': 10, '!': 1}\n",
      "{'\\n': 33, 'a': 59, ' ': 135, 'l': 23, 'o': 54, 't': 58, 'f': 14, 'h': 38, 'i': 39, 'n': 44, 'g': 8, 's': 45, 'c': 19, 'u': 17, 'r': 38, 'e': 76, 'd': 18, 'y': 13, 'w': 18, \"'\": 7, 'v': 7, 'm': 18, 'b': 9, 'k': 6, 'p': 10, '!': 1}\n",
      "{'\\n': 33, 'a': 59, ' ': 135, 'l': 23, 'o': 54, 't': 58, 'f': 14, 'h': 38, 'i': 39, 'n': 44, 'g': 8, 's': 45, 'c': 19, 'u': 17, 'r': 38, 'e': 77, 'd': 18, 'y': 13, 'w': 18, \"'\": 7, 'v': 7, 'm': 18, 'b': 9, 'k': 6, 'p': 10, '!': 1}\n",
      "{'\\n': 33, 'a': 60, ' ': 135, 'l': 23, 'o': 54, 't': 58, 'f': 14, 'h': 38, 'i': 39, 'n': 44, 'g': 8, 's': 45, 'c': 19, 'u': 17, 'r': 38, 'e': 77, 'd': 18, 'y': 13, 'w': 18, \"'\": 7, 'v': 7, 'm': 18, 'b': 9, 'k': 6, 'p': 10, '!': 1}\n",
      "{'\\n': 33, 'a': 60, ' ': 135, 'l': 23, 'o': 54, 't': 58, 'f': 14, 'h': 38, 'i': 39, 'n': 44, 'g': 8, 's': 45, 'c': 19, 'u': 17, 'r': 39, 'e': 77, 'd': 18, 'y': 13, 'w': 18, \"'\": 7, 'v': 7, 'm': 18, 'b': 9, 'k': 6, 'p': 10, '!': 1}\n",
      "{'\\n': 33, 'a': 60, ' ': 135, 'l': 23, 'o': 54, 't': 59, 'f': 14, 'h': 38, 'i': 39, 'n': 44, 'g': 8, 's': 45, 'c': 19, 'u': 17, 'r': 39, 'e': 77, 'd': 18, 'y': 13, 'w': 18, \"'\": 7, 'v': 7, 'm': 18, 'b': 9, 'k': 6, 'p': 10, '!': 1}\n",
      "{'\\n': 33, 'a': 60, ' ': 135, 'l': 23, 'o': 54, 't': 59, 'f': 14, 'h': 38, 'i': 39, 'n': 44, 'g': 8, 's': 46, 'c': 19, 'u': 17, 'r': 39, 'e': 77, 'd': 18, 'y': 13, 'w': 18, \"'\": 7, 'v': 7, 'm': 18, 'b': 9, 'k': 6, 'p': 10, '!': 1}\n",
      "{'\\n': 33, 'a': 60, ' ': 136, 'l': 23, 'o': 54, 't': 59, 'f': 14, 'h': 38, 'i': 39, 'n': 44, 'g': 8, 's': 46, 'c': 19, 'u': 17, 'r': 39, 'e': 77, 'd': 18, 'y': 13, 'w': 18, \"'\": 7, 'v': 7, 'm': 18, 'b': 9, 'k': 6, 'p': 10, '!': 1}\n",
      "{'\\n': 33, 'a': 61, ' ': 136, 'l': 23, 'o': 54, 't': 59, 'f': 14, 'h': 38, 'i': 39, 'n': 44, 'g': 8, 's': 46, 'c': 19, 'u': 17, 'r': 39, 'e': 77, 'd': 18, 'y': 13, 'w': 18, \"'\": 7, 'v': 7, 'm': 18, 'b': 9, 'k': 6, 'p': 10, '!': 1}\n",
      "{'\\n': 33, 'a': 61, ' ': 136, 'l': 23, 'o': 54, 't': 59, 'f': 14, 'h': 38, 'i': 39, 'n': 44, 'g': 8, 's': 46, 'c': 19, 'u': 17, 'r': 40, 'e': 77, 'd': 18, 'y': 13, 'w': 18, \"'\": 7, 'v': 7, 'm': 18, 'b': 9, 'k': 6, 'p': 10, '!': 1}\n",
      "{'\\n': 33, 'a': 61, ' ': 136, 'l': 23, 'o': 54, 't': 59, 'f': 14, 'h': 38, 'i': 39, 'n': 44, 'g': 8, 's': 46, 'c': 19, 'u': 17, 'r': 40, 'e': 78, 'd': 18, 'y': 13, 'w': 18, \"'\": 7, 'v': 7, 'm': 18, 'b': 9, 'k': 6, 'p': 10, '!': 1}\n",
      "{'\\n': 33, 'a': 61, ' ': 137, 'l': 23, 'o': 54, 't': 59, 'f': 14, 'h': 38, 'i': 39, 'n': 44, 'g': 8, 's': 46, 'c': 19, 'u': 17, 'r': 40, 'e': 78, 'd': 18, 'y': 13, 'w': 18, \"'\": 7, 'v': 7, 'm': 18, 'b': 9, 'k': 6, 'p': 10, '!': 1}\n",
      "{'\\n': 33, 'a': 61, ' ': 137, 'l': 23, 'o': 54, 't': 60, 'f': 14, 'h': 38, 'i': 39, 'n': 44, 'g': 8, 's': 46, 'c': 19, 'u': 17, 'r': 40, 'e': 78, 'd': 18, 'y': 13, 'w': 18, \"'\": 7, 'v': 7, 'm': 18, 'b': 9, 'k': 6, 'p': 10, '!': 1}\n",
      "{'\\n': 33, 'a': 61, ' ': 137, 'l': 23, 'o': 55, 't': 60, 'f': 14, 'h': 38, 'i': 39, 'n': 44, 'g': 8, 's': 46, 'c': 19, 'u': 17, 'r': 40, 'e': 78, 'd': 18, 'y': 13, 'w': 18, \"'\": 7, 'v': 7, 'm': 18, 'b': 9, 'k': 6, 'p': 10, '!': 1}\n",
      "{'\\n': 33, 'a': 61, ' ': 137, 'l': 23, 'o': 55, 't': 60, 'f': 14, 'h': 38, 'i': 39, 'n': 44, 'g': 8, 's': 46, 'c': 19, 'u': 17, 'r': 41, 'e': 78, 'd': 18, 'y': 13, 'w': 18, \"'\": 7, 'v': 7, 'm': 18, 'b': 9, 'k': 6, 'p': 10, '!': 1}\n",
      "{'\\n': 33, 'a': 61, ' ': 137, 'l': 23, 'o': 55, 't': 60, 'f': 14, 'h': 38, 'i': 39, 'n': 45, 'g': 8, 's': 46, 'c': 19, 'u': 17, 'r': 41, 'e': 78, 'd': 18, 'y': 13, 'w': 18, \"'\": 7, 'v': 7, 'm': 18, 'b': 9, 'k': 6, 'p': 10, '!': 1}\n",
      "{'\\n': 33, 'a': 61, ' ': 138, 'l': 23, 'o': 55, 't': 60, 'f': 14, 'h': 38, 'i': 39, 'n': 45, 'g': 8, 's': 46, 'c': 19, 'u': 17, 'r': 41, 'e': 78, 'd': 18, 'y': 13, 'w': 18, \"'\": 7, 'v': 7, 'm': 18, 'b': 9, 'k': 6, 'p': 10, '!': 1}\n",
      "{'\\n': 33, 'a': 62, ' ': 138, 'l': 23, 'o': 55, 't': 60, 'f': 14, 'h': 38, 'i': 39, 'n': 45, 'g': 8, 's': 46, 'c': 19, 'u': 17, 'r': 41, 'e': 78, 'd': 18, 'y': 13, 'w': 18, \"'\": 7, 'v': 7, 'm': 18, 'b': 9, 'k': 6, 'p': 10, '!': 1}\n",
      "{'\\n': 33, 'a': 62, ' ': 138, 'l': 23, 'o': 55, 't': 60, 'f': 14, 'h': 38, 'i': 39, 'n': 45, 'g': 8, 's': 46, 'c': 19, 'u': 17, 'r': 41, 'e': 78, 'd': 18, 'y': 13, 'w': 18, \"'\": 7, 'v': 7, 'm': 18, 'b': 9, 'k': 6, 'p': 11, '!': 1}\n",
      "{'\\n': 33, 'a': 63, ' ': 138, 'l': 23, 'o': 55, 't': 60, 'f': 14, 'h': 38, 'i': 39, 'n': 45, 'g': 8, 's': 46, 'c': 19, 'u': 17, 'r': 41, 'e': 78, 'd': 18, 'y': 13, 'w': 18, \"'\": 7, 'v': 7, 'm': 18, 'b': 9, 'k': 6, 'p': 11, '!': 1}\n",
      "{'\\n': 33, 'a': 63, ' ': 138, 'l': 23, 'o': 55, 't': 60, 'f': 14, 'h': 38, 'i': 39, 'n': 45, 'g': 8, 's': 46, 'c': 19, 'u': 17, 'r': 42, 'e': 78, 'd': 18, 'y': 13, 'w': 18, \"'\": 7, 'v': 7, 'm': 18, 'b': 9, 'k': 6, 'p': 11, '!': 1}\n",
      "{'\\n': 33, 'a': 63, ' ': 138, 'l': 23, 'o': 55, 't': 61, 'f': 14, 'h': 38, 'i': 39, 'n': 45, 'g': 8, 's': 46, 'c': 19, 'u': 17, 'r': 42, 'e': 78, 'd': 18, 'y': 13, 'w': 18, \"'\": 7, 'v': 7, 'm': 18, 'b': 9, 'k': 6, 'p': 11, '!': 1}\n",
      "{'\\n': 34, 'a': 63, ' ': 138, 'l': 23, 'o': 55, 't': 61, 'f': 14, 'h': 38, 'i': 39, 'n': 45, 'g': 8, 's': 46, 'c': 19, 'u': 17, 'r': 42, 'e': 78, 'd': 18, 'y': 13, 'w': 18, \"'\": 7, 'v': 7, 'm': 18, 'b': 9, 'k': 6, 'p': 11, '!': 1}\n",
      "{'\\n': 34, 'a': 63, ' ': 138, 'l': 23, 'o': 55, 't': 62, 'f': 14, 'h': 38, 'i': 39, 'n': 45, 'g': 8, 's': 46, 'c': 19, 'u': 17, 'r': 42, 'e': 78, 'd': 18, 'y': 13, 'w': 18, \"'\": 7, 'v': 7, 'm': 18, 'b': 9, 'k': 6, 'p': 11, '!': 1}\n",
      "{'\\n': 34, 'a': 63, ' ': 138, 'l': 23, 'o': 55, 't': 62, 'f': 14, 'h': 38, 'i': 40, 'n': 45, 'g': 8, 's': 46, 'c': 19, 'u': 17, 'r': 42, 'e': 78, 'd': 18, 'y': 13, 'w': 18, \"'\": 7, 'v': 7, 'm': 18, 'b': 9, 'k': 6, 'p': 11, '!': 1}\n",
      "{'\\n': 34, 'a': 63, ' ': 138, 'l': 24, 'o': 55, 't': 62, 'f': 14, 'h': 38, 'i': 40, 'n': 45, 'g': 8, 's': 46, 'c': 19, 'u': 17, 'r': 42, 'e': 78, 'd': 18, 'y': 13, 'w': 18, \"'\": 7, 'v': 7, 'm': 18, 'b': 9, 'k': 6, 'p': 11, '!': 1}\n",
      "{'\\n': 34, 'a': 63, ' ': 138, 'l': 25, 'o': 55, 't': 62, 'f': 14, 'h': 38, 'i': 40, 'n': 45, 'g': 8, 's': 46, 'c': 19, 'u': 17, 'r': 42, 'e': 78, 'd': 18, 'y': 13, 'w': 18, \"'\": 7, 'v': 7, 'm': 18, 'b': 9, 'k': 6, 'p': 11, '!': 1}\n",
      "{'\\n': 34, 'a': 63, ' ': 139, 'l': 25, 'o': 55, 't': 62, 'f': 14, 'h': 38, 'i': 40, 'n': 45, 'g': 8, 's': 46, 'c': 19, 'u': 17, 'r': 42, 'e': 78, 'd': 18, 'y': 13, 'w': 18, \"'\": 7, 'v': 7, 'm': 18, 'b': 9, 'k': 6, 'p': 11, '!': 1}\n",
      "{'\\n': 34, 'a': 64, ' ': 139, 'l': 25, 'o': 55, 't': 62, 'f': 14, 'h': 38, 'i': 40, 'n': 45, 'g': 8, 's': 46, 'c': 19, 'u': 17, 'r': 42, 'e': 78, 'd': 18, 'y': 13, 'w': 18, \"'\": 7, 'v': 7, 'm': 18, 'b': 9, 'k': 6, 'p': 11, '!': 1}\n",
      "{'\\n': 34, 'a': 64, ' ': 139, 'l': 25, 'o': 55, 't': 62, 'f': 14, 'h': 38, 'i': 40, 'n': 46, 'g': 8, 's': 46, 'c': 19, 'u': 17, 'r': 42, 'e': 78, 'd': 18, 'y': 13, 'w': 18, \"'\": 7, 'v': 7, 'm': 18, 'b': 9, 'k': 6, 'p': 11, '!': 1}\n",
      "{'\\n': 34, 'a': 64, ' ': 139, 'l': 25, 'o': 56, 't': 62, 'f': 14, 'h': 38, 'i': 40, 'n': 46, 'g': 8, 's': 46, 'c': 19, 'u': 17, 'r': 42, 'e': 78, 'd': 18, 'y': 13, 'w': 18, \"'\": 7, 'v': 7, 'm': 18, 'b': 9, 'k': 6, 'p': 11, '!': 1}\n",
      "{'\\n': 34, 'a': 64, ' ': 139, 'l': 25, 'o': 56, 't': 63, 'f': 14, 'h': 38, 'i': 40, 'n': 46, 'g': 8, 's': 46, 'c': 19, 'u': 17, 'r': 42, 'e': 78, 'd': 18, 'y': 13, 'w': 18, \"'\": 7, 'v': 7, 'm': 18, 'b': 9, 'k': 6, 'p': 11, '!': 1}\n",
      "{'\\n': 34, 'a': 64, ' ': 139, 'l': 25, 'o': 56, 't': 63, 'f': 14, 'h': 39, 'i': 40, 'n': 46, 'g': 8, 's': 46, 'c': 19, 'u': 17, 'r': 42, 'e': 78, 'd': 18, 'y': 13, 'w': 18, \"'\": 7, 'v': 7, 'm': 18, 'b': 9, 'k': 6, 'p': 11, '!': 1}\n",
      "{'\\n': 34, 'a': 64, ' ': 139, 'l': 25, 'o': 56, 't': 63, 'f': 14, 'h': 39, 'i': 40, 'n': 46, 'g': 8, 's': 46, 'c': 19, 'u': 17, 'r': 42, 'e': 79, 'd': 18, 'y': 13, 'w': 18, \"'\": 7, 'v': 7, 'm': 18, 'b': 9, 'k': 6, 'p': 11, '!': 1}\n",
      "{'\\n': 34, 'a': 64, ' ': 139, 'l': 25, 'o': 56, 't': 63, 'f': 14, 'h': 39, 'i': 40, 'n': 46, 'g': 8, 's': 46, 'c': 19, 'u': 17, 'r': 43, 'e': 79, 'd': 18, 'y': 13, 'w': 18, \"'\": 7, 'v': 7, 'm': 18, 'b': 9, 'k': 6, 'p': 11, '!': 1}\n",
      "{'\\n': 34, 'a': 64, ' ': 140, 'l': 25, 'o': 56, 't': 63, 'f': 14, 'h': 39, 'i': 40, 'n': 46, 'g': 8, 's': 46, 'c': 19, 'u': 17, 'r': 43, 'e': 79, 'd': 18, 'y': 13, 'w': 18, \"'\": 7, 'v': 7, 'm': 18, 'b': 9, 'k': 6, 'p': 11, '!': 1}\n",
      "{'\\n': 34, 'a': 64, ' ': 140, 'l': 25, 'o': 56, 't': 64, 'f': 14, 'h': 39, 'i': 40, 'n': 46, 'g': 8, 's': 46, 'c': 19, 'u': 17, 'r': 43, 'e': 79, 'd': 18, 'y': 13, 'w': 18, \"'\": 7, 'v': 7, 'm': 18, 'b': 9, 'k': 6, 'p': 11, '!': 1}\n",
      "{'\\n': 34, 'a': 64, ' ': 140, 'l': 25, 'o': 57, 't': 64, 'f': 14, 'h': 39, 'i': 40, 'n': 46, 'g': 8, 's': 46, 'c': 19, 'u': 17, 'r': 43, 'e': 79, 'd': 18, 'y': 13, 'w': 18, \"'\": 7, 'v': 7, 'm': 18, 'b': 9, 'k': 6, 'p': 11, '!': 1}\n",
      "{'\\n': 34, 'a': 64, ' ': 140, 'l': 25, 'o': 57, 't': 64, 'f': 14, 'h': 39, 'i': 40, 'n': 46, 'g': 8, 's': 46, 'c': 19, 'u': 17, 'r': 44, 'e': 79, 'd': 18, 'y': 13, 'w': 18, \"'\": 7, 'v': 7, 'm': 18, 'b': 9, 'k': 6, 'p': 11, '!': 1}\n",
      "{'\\n': 34, 'a': 64, ' ': 140, 'l': 25, 'o': 57, 't': 64, 'f': 14, 'h': 39, 'i': 40, 'n': 46, 'g': 8, 's': 46, 'c': 19, 'u': 17, 'r': 44, 'e': 79, 'd': 18, 'y': 13, 'w': 18, \"'\": 7, 'v': 7, 'm': 19, 'b': 9, 'k': 6, 'p': 11, '!': 1}\n",
      "{'\\n': 34, 'a': 64, ' ': 140, 'l': 25, 'o': 57, 't': 64, 'f': 14, 'h': 39, 'i': 40, 'n': 46, 'g': 8, 's': 46, 'c': 19, 'u': 17, 'r': 44, 'e': 80, 'd': 18, 'y': 13, 'w': 18, \"'\": 7, 'v': 7, 'm': 19, 'b': 9, 'k': 6, 'p': 11, '!': 1}\n",
      "{'\\n': 34, 'a': 64, ' ': 140, 'l': 25, 'o': 57, 't': 64, 'f': 14, 'h': 39, 'i': 40, 'n': 47, 'g': 8, 's': 46, 'c': 19, 'u': 17, 'r': 44, 'e': 80, 'd': 18, 'y': 13, 'w': 18, \"'\": 7, 'v': 7, 'm': 19, 'b': 9, 'k': 6, 'p': 11, '!': 1}\n",
      "{'\\n': 34, 'a': 64, ' ': 140, 'l': 25, 'o': 57, 't': 65, 'f': 14, 'h': 39, 'i': 40, 'n': 47, 'g': 8, 's': 46, 'c': 19, 'u': 17, 'r': 44, 'e': 80, 'd': 18, 'y': 13, 'w': 18, \"'\": 7, 'v': 7, 'm': 19, 'b': 9, 'k': 6, 'p': 11, '!': 1}\n",
      "{'\\n': 34, 'a': 64, ' ': 141, 'l': 25, 'o': 57, 't': 65, 'f': 14, 'h': 39, 'i': 40, 'n': 47, 'g': 8, 's': 46, 'c': 19, 'u': 17, 'r': 44, 'e': 80, 'd': 18, 'y': 13, 'w': 18, \"'\": 7, 'v': 7, 'm': 19, 'b': 9, 'k': 6, 'p': 11, '!': 1}\n",
      "{'\\n': 34, 'a': 64, ' ': 141, 'l': 25, 'o': 57, 't': 65, 'f': 14, 'h': 39, 'i': 40, 'n': 47, 'g': 8, 's': 47, 'c': 19, 'u': 17, 'r': 44, 'e': 80, 'd': 18, 'y': 13, 'w': 18, \"'\": 7, 'v': 7, 'm': 19, 'b': 9, 'k': 6, 'p': 11, '!': 1}\n",
      "{'\\n': 34, 'a': 64, ' ': 141, 'l': 25, 'o': 57, 't': 66, 'f': 14, 'h': 39, 'i': 40, 'n': 47, 'g': 8, 's': 47, 'c': 19, 'u': 17, 'r': 44, 'e': 80, 'd': 18, 'y': 13, 'w': 18, \"'\": 7, 'v': 7, 'm': 19, 'b': 9, 'k': 6, 'p': 11, '!': 1}\n",
      "{'\\n': 34, 'a': 65, ' ': 141, 'l': 25, 'o': 57, 't': 66, 'f': 14, 'h': 39, 'i': 40, 'n': 47, 'g': 8, 's': 47, 'c': 19, 'u': 17, 'r': 44, 'e': 80, 'd': 18, 'y': 13, 'w': 18, \"'\": 7, 'v': 7, 'm': 19, 'b': 9, 'k': 6, 'p': 11, '!': 1}\n",
      "{'\\n': 34, 'a': 65, ' ': 141, 'l': 25, 'o': 57, 't': 66, 'f': 14, 'h': 39, 'i': 40, 'n': 47, 'g': 8, 's': 47, 'c': 19, 'u': 17, 'r': 45, 'e': 80, 'd': 18, 'y': 13, 'w': 18, \"'\": 7, 'v': 7, 'm': 19, 'b': 9, 'k': 6, 'p': 11, '!': 1}\n",
      "{'\\n': 34, 'a': 65, ' ': 141, 'l': 25, 'o': 57, 't': 67, 'f': 14, 'h': 39, 'i': 40, 'n': 47, 'g': 8, 's': 47, 'c': 19, 'u': 17, 'r': 45, 'e': 80, 'd': 18, 'y': 13, 'w': 18, \"'\": 7, 'v': 7, 'm': 19, 'b': 9, 'k': 6, 'p': 11, '!': 1}\n",
      "{'\\n': 34, 'a': 65, ' ': 141, 'l': 25, 'o': 57, 't': 67, 'f': 14, 'h': 39, 'i': 40, 'n': 47, 'g': 8, 's': 48, 'c': 19, 'u': 17, 'r': 45, 'e': 80, 'd': 18, 'y': 13, 'w': 18, \"'\": 7, 'v': 7, 'm': 19, 'b': 9, 'k': 6, 'p': 11, '!': 1}\n",
      "{'\\n': 35, 'a': 65, ' ': 141, 'l': 25, 'o': 57, 't': 67, 'f': 14, 'h': 39, 'i': 40, 'n': 47, 'g': 8, 's': 48, 'c': 19, 'u': 17, 'r': 45, 'e': 80, 'd': 18, 'y': 13, 'w': 18, \"'\": 7, 'v': 7, 'm': 19, 'b': 9, 'k': 6, 'p': 11, '!': 1}\n",
      "{'\\n': 36, 'a': 65, ' ': 141, 'l': 25, 'o': 57, 't': 67, 'f': 14, 'h': 39, 'i': 40, 'n': 47, 'g': 8, 's': 48, 'c': 19, 'u': 17, 'r': 45, 'e': 80, 'd': 18, 'y': 13, 'w': 18, \"'\": 7, 'v': 7, 'm': 19, 'b': 9, 'k': 6, 'p': 11, '!': 1}\n",
      "{'\\n': 36, 'a': 65, ' ': 141, 'l': 25, 'o': 57, 't': 67, 'f': 14, 'h': 39, 'i': 40, 'n': 47, 'g': 8, 's': 48, 'c': 19, 'u': 17, 'r': 45, 'e': 80, 'd': 18, 'y': 13, 'w': 18, \"'\": 7, 'v': 7, 'm': 19, 'b': 10, 'k': 6, 'p': 11, '!': 1}\n",
      "{'\\n': 36, 'a': 65, ' ': 141, 'l': 25, 'o': 57, 't': 67, 'f': 14, 'h': 39, 'i': 40, 'n': 47, 'g': 8, 's': 48, 'c': 19, 'u': 18, 'r': 45, 'e': 80, 'd': 18, 'y': 13, 'w': 18, \"'\": 7, 'v': 7, 'm': 19, 'b': 10, 'k': 6, 'p': 11, '!': 1}\n",
      "{'\\n': 36, 'a': 65, ' ': 141, 'l': 25, 'o': 57, 't': 68, 'f': 14, 'h': 39, 'i': 40, 'n': 47, 'g': 8, 's': 48, 'c': 19, 'u': 18, 'r': 45, 'e': 80, 'd': 18, 'y': 13, 'w': 18, \"'\": 7, 'v': 7, 'm': 19, 'b': 10, 'k': 6, 'p': 11, '!': 1}\n",
      "{'\\n': 36, 'a': 65, ' ': 142, 'l': 25, 'o': 57, 't': 68, 'f': 14, 'h': 39, 'i': 40, 'n': 47, 'g': 8, 's': 48, 'c': 19, 'u': 18, 'r': 45, 'e': 80, 'd': 18, 'y': 13, 'w': 18, \"'\": 7, 'v': 7, 'm': 19, 'b': 10, 'k': 6, 'p': 11, '!': 1}\n",
      "{'\\n': 36, 'a': 65, ' ': 142, 'l': 25, 'o': 57, 't': 68, 'f': 14, 'h': 39, 'i': 40, 'n': 47, 'g': 8, 's': 48, 'c': 19, 'u': 18, 'r': 45, 'e': 80, 'd': 18, 'y': 13, 'w': 18, \"'\": 7, 'v': 7, 'm': 19, 'b': 11, 'k': 6, 'p': 11, '!': 1}\n",
      "{'\\n': 36, 'a': 65, ' ': 142, 'l': 25, 'o': 57, 't': 68, 'f': 14, 'h': 39, 'i': 40, 'n': 47, 'g': 8, 's': 48, 'c': 19, 'u': 18, 'r': 45, 'e': 81, 'd': 18, 'y': 13, 'w': 18, \"'\": 7, 'v': 7, 'm': 19, 'b': 11, 'k': 6, 'p': 11, '!': 1}\n",
      "{'\\n': 36, 'a': 65, ' ': 142, 'l': 25, 'o': 57, 't': 68, 'f': 15, 'h': 39, 'i': 40, 'n': 47, 'g': 8, 's': 48, 'c': 19, 'u': 18, 'r': 45, 'e': 81, 'd': 18, 'y': 13, 'w': 18, \"'\": 7, 'v': 7, 'm': 19, 'b': 11, 'k': 6, 'p': 11, '!': 1}\n",
      "{'\\n': 36, 'a': 65, ' ': 142, 'l': 25, 'o': 58, 't': 68, 'f': 15, 'h': 39, 'i': 40, 'n': 47, 'g': 8, 's': 48, 'c': 19, 'u': 18, 'r': 45, 'e': 81, 'd': 18, 'y': 13, 'w': 18, \"'\": 7, 'v': 7, 'm': 19, 'b': 11, 'k': 6, 'p': 11, '!': 1}\n",
      "{'\\n': 36, 'a': 65, ' ': 142, 'l': 25, 'o': 58, 't': 68, 'f': 15, 'h': 39, 'i': 40, 'n': 47, 'g': 8, 's': 48, 'c': 19, 'u': 18, 'r': 46, 'e': 81, 'd': 18, 'y': 13, 'w': 18, \"'\": 7, 'v': 7, 'm': 19, 'b': 11, 'k': 6, 'p': 11, '!': 1}\n",
      "{'\\n': 36, 'a': 65, ' ': 142, 'l': 25, 'o': 58, 't': 68, 'f': 15, 'h': 39, 'i': 40, 'n': 47, 'g': 8, 's': 48, 'c': 19, 'u': 18, 'r': 46, 'e': 82, 'd': 18, 'y': 13, 'w': 18, \"'\": 7, 'v': 7, 'm': 19, 'b': 11, 'k': 6, 'p': 11, '!': 1}\n",
      "{'\\n': 36, 'a': 65, ' ': 143, 'l': 25, 'o': 58, 't': 68, 'f': 15, 'h': 39, 'i': 40, 'n': 47, 'g': 8, 's': 48, 'c': 19, 'u': 18, 'r': 46, 'e': 82, 'd': 18, 'y': 13, 'w': 18, \"'\": 7, 'v': 7, 'm': 19, 'b': 11, 'k': 6, 'p': 11, '!': 1}\n",
      "{'\\n': 36, 'a': 65, ' ': 143, 'l': 25, 'o': 58, 't': 69, 'f': 15, 'h': 39, 'i': 40, 'n': 47, 'g': 8, 's': 48, 'c': 19, 'u': 18, 'r': 46, 'e': 82, 'd': 18, 'y': 13, 'w': 18, \"'\": 7, 'v': 7, 'm': 19, 'b': 11, 'k': 6, 'p': 11, '!': 1}\n",
      "{'\\n': 36, 'a': 65, ' ': 143, 'l': 25, 'o': 58, 't': 69, 'f': 15, 'h': 40, 'i': 40, 'n': 47, 'g': 8, 's': 48, 'c': 19, 'u': 18, 'r': 46, 'e': 82, 'd': 18, 'y': 13, 'w': 18, \"'\": 7, 'v': 7, 'm': 19, 'b': 11, 'k': 6, 'p': 11, '!': 1}\n",
      "{'\\n': 36, 'a': 65, ' ': 143, 'l': 25, 'o': 58, 't': 69, 'f': 15, 'h': 40, 'i': 40, 'n': 47, 'g': 8, 's': 48, 'c': 19, 'u': 18, 'r': 46, 'e': 83, 'd': 18, 'y': 13, 'w': 18, \"'\": 7, 'v': 7, 'm': 19, 'b': 11, 'k': 6, 'p': 11, '!': 1}\n",
      "{'\\n': 36, 'a': 65, ' ': 144, 'l': 25, 'o': 58, 't': 69, 'f': 15, 'h': 40, 'i': 40, 'n': 47, 'g': 8, 's': 48, 'c': 19, 'u': 18, 'r': 46, 'e': 83, 'd': 18, 'y': 13, 'w': 18, \"'\": 7, 'v': 7, 'm': 19, 'b': 11, 'k': 6, 'p': 11, '!': 1}\n",
      "{'\\n': 36, 'a': 65, ' ': 144, 'l': 25, 'o': 58, 't': 69, 'f': 15, 'h': 40, 'i': 40, 'n': 47, 'g': 8, 's': 48, 'c': 19, 'u': 18, 'r': 46, 'e': 83, 'd': 18, 'y': 13, 'w': 19, \"'\": 7, 'v': 7, 'm': 19, 'b': 11, 'k': 6, 'p': 11, '!': 1}\n",
      "{'\\n': 36, 'a': 65, ' ': 144, 'l': 25, 'o': 59, 't': 69, 'f': 15, 'h': 40, 'i': 40, 'n': 47, 'g': 8, 's': 48, 'c': 19, 'u': 18, 'r': 46, 'e': 83, 'd': 18, 'y': 13, 'w': 19, \"'\": 7, 'v': 7, 'm': 19, 'b': 11, 'k': 6, 'p': 11, '!': 1}\n",
      "{'\\n': 36, 'a': 65, ' ': 144, 'l': 25, 'o': 59, 't': 69, 'f': 15, 'h': 40, 'i': 40, 'n': 47, 'g': 8, 's': 48, 'c': 19, 'u': 18, 'r': 47, 'e': 83, 'd': 18, 'y': 13, 'w': 19, \"'\": 7, 'v': 7, 'm': 19, 'b': 11, 'k': 6, 'p': 11, '!': 1}\n",
      "{'\\n': 36, 'a': 65, ' ': 144, 'l': 26, 'o': 59, 't': 69, 'f': 15, 'h': 40, 'i': 40, 'n': 47, 'g': 8, 's': 48, 'c': 19, 'u': 18, 'r': 47, 'e': 83, 'd': 18, 'y': 13, 'w': 19, \"'\": 7, 'v': 7, 'm': 19, 'b': 11, 'k': 6, 'p': 11, '!': 1}\n",
      "{'\\n': 36, 'a': 65, ' ': 144, 'l': 26, 'o': 59, 't': 69, 'f': 15, 'h': 40, 'i': 40, 'n': 47, 'g': 8, 's': 48, 'c': 19, 'u': 18, 'r': 47, 'e': 83, 'd': 19, 'y': 13, 'w': 19, \"'\": 7, 'v': 7, 'm': 19, 'b': 11, 'k': 6, 'p': 11, '!': 1}\n",
      "{'\\n': 37, 'a': 65, ' ': 144, 'l': 26, 'o': 59, 't': 69, 'f': 15, 'h': 40, 'i': 40, 'n': 47, 'g': 8, 's': 48, 'c': 19, 'u': 18, 'r': 47, 'e': 83, 'd': 19, 'y': 13, 'w': 19, \"'\": 7, 'v': 7, 'm': 19, 'b': 11, 'k': 6, 'p': 11, '!': 1}\n",
      "{'\\n': 37, 'a': 65, ' ': 144, 'l': 26, 'o': 59, 't': 70, 'f': 15, 'h': 40, 'i': 40, 'n': 47, 'g': 8, 's': 48, 'c': 19, 'u': 18, 'r': 47, 'e': 83, 'd': 19, 'y': 13, 'w': 19, \"'\": 7, 'v': 7, 'm': 19, 'b': 11, 'k': 6, 'p': 11, '!': 1}\n",
      "{'\\n': 37, 'a': 65, ' ': 144, 'l': 26, 'o': 59, 't': 70, 'f': 15, 'h': 40, 'i': 40, 'n': 47, 'g': 8, 's': 48, 'c': 19, 'u': 19, 'r': 47, 'e': 83, 'd': 19, 'y': 13, 'w': 19, \"'\": 7, 'v': 7, 'm': 19, 'b': 11, 'k': 6, 'p': 11, '!': 1}\n",
      "{'\\n': 37, 'a': 65, ' ': 144, 'l': 26, 'o': 59, 't': 70, 'f': 15, 'h': 40, 'i': 40, 'n': 47, 'g': 8, 's': 48, 'c': 19, 'u': 19, 'r': 48, 'e': 83, 'd': 19, 'y': 13, 'w': 19, \"'\": 7, 'v': 7, 'm': 19, 'b': 11, 'k': 6, 'p': 11, '!': 1}\n",
      "{'\\n': 37, 'a': 65, ' ': 144, 'l': 26, 'o': 59, 't': 70, 'f': 15, 'h': 40, 'i': 40, 'n': 48, 'g': 8, 's': 48, 'c': 19, 'u': 19, 'r': 48, 'e': 83, 'd': 19, 'y': 13, 'w': 19, \"'\": 7, 'v': 7, 'm': 19, 'b': 11, 'k': 6, 'p': 11, '!': 1}\n",
      "{'\\n': 37, 'a': 65, ' ': 144, 'l': 26, 'o': 59, 't': 70, 'f': 15, 'h': 40, 'i': 40, 'n': 48, 'g': 8, 's': 49, 'c': 19, 'u': 19, 'r': 48, 'e': 83, 'd': 19, 'y': 13, 'w': 19, \"'\": 7, 'v': 7, 'm': 19, 'b': 11, 'k': 6, 'p': 11, '!': 1}\n",
      "{'\\n': 37, 'a': 65, ' ': 145, 'l': 26, 'o': 59, 't': 70, 'f': 15, 'h': 40, 'i': 40, 'n': 48, 'g': 8, 's': 49, 'c': 19, 'u': 19, 'r': 48, 'e': 83, 'd': 19, 'y': 13, 'w': 19, \"'\": 7, 'v': 7, 'm': 19, 'b': 11, 'k': 6, 'p': 11, '!': 1}\n",
      "{'\\n': 37, 'a': 65, ' ': 145, 'l': 26, 'o': 59, 't': 70, 'f': 15, 'h': 40, 'i': 41, 'n': 48, 'g': 8, 's': 49, 'c': 19, 'u': 19, 'r': 48, 'e': 83, 'd': 19, 'y': 13, 'w': 19, \"'\": 7, 'v': 7, 'm': 19, 'b': 11, 'k': 6, 'p': 11, '!': 1}\n",
      "{'\\n': 37, 'a': 65, ' ': 145, 'l': 26, 'o': 59, 't': 70, 'f': 15, 'h': 40, 'i': 41, 'n': 49, 'g': 8, 's': 49, 'c': 19, 'u': 19, 'r': 48, 'e': 83, 'd': 19, 'y': 13, 'w': 19, \"'\": 7, 'v': 7, 'm': 19, 'b': 11, 'k': 6, 'p': 11, '!': 1}\n",
      "{'\\n': 37, 'a': 65, ' ': 145, 'l': 26, 'o': 59, 't': 71, 'f': 15, 'h': 40, 'i': 41, 'n': 49, 'g': 8, 's': 49, 'c': 19, 'u': 19, 'r': 48, 'e': 83, 'd': 19, 'y': 13, 'w': 19, \"'\": 7, 'v': 7, 'm': 19, 'b': 11, 'k': 6, 'p': 11, '!': 1}\n",
      "{'\\n': 37, 'a': 65, ' ': 145, 'l': 26, 'o': 60, 't': 71, 'f': 15, 'h': 40, 'i': 41, 'n': 49, 'g': 8, 's': 49, 'c': 19, 'u': 19, 'r': 48, 'e': 83, 'd': 19, 'y': 13, 'w': 19, \"'\": 7, 'v': 7, 'm': 19, 'b': 11, 'k': 6, 'p': 11, '!': 1}\n",
      "{'\\n': 37, 'a': 65, ' ': 146, 'l': 26, 'o': 60, 't': 71, 'f': 15, 'h': 40, 'i': 41, 'n': 49, 'g': 8, 's': 49, 'c': 19, 'u': 19, 'r': 48, 'e': 83, 'd': 19, 'y': 13, 'w': 19, \"'\": 7, 'v': 7, 'm': 19, 'b': 11, 'k': 6, 'p': 11, '!': 1}\n",
      "{'\\n': 37, 'a': 66, ' ': 146, 'l': 26, 'o': 60, 't': 71, 'f': 15, 'h': 40, 'i': 41, 'n': 49, 'g': 8, 's': 49, 'c': 19, 'u': 19, 'r': 48, 'e': 83, 'd': 19, 'y': 13, 'w': 19, \"'\": 7, 'v': 7, 'm': 19, 'b': 11, 'k': 6, 'p': 11, '!': 1}\n",
      "{'\\n': 37, 'a': 66, ' ': 147, 'l': 26, 'o': 60, 't': 71, 'f': 15, 'h': 40, 'i': 41, 'n': 49, 'g': 8, 's': 49, 'c': 19, 'u': 19, 'r': 48, 'e': 83, 'd': 19, 'y': 13, 'w': 19, \"'\": 7, 'v': 7, 'm': 19, 'b': 11, 'k': 6, 'p': 11, '!': 1}\n",
      "{'\\n': 37, 'a': 66, ' ': 147, 'l': 26, 'o': 60, 't': 71, 'f': 15, 'h': 40, 'i': 41, 'n': 49, 'g': 8, 's': 50, 'c': 19, 'u': 19, 'r': 48, 'e': 83, 'd': 19, 'y': 13, 'w': 19, \"'\": 7, 'v': 7, 'm': 19, 'b': 11, 'k': 6, 'p': 11, '!': 1}\n",
      "{'\\n': 37, 'a': 66, ' ': 147, 'l': 26, 'o': 60, 't': 71, 'f': 15, 'h': 40, 'i': 41, 'n': 49, 'g': 8, 's': 50, 'c': 19, 'u': 20, 'r': 48, 'e': 83, 'd': 19, 'y': 13, 'w': 19, \"'\": 7, 'v': 7, 'm': 19, 'b': 11, 'k': 6, 'p': 11, '!': 1}\n",
      "{'\\n': 37, 'a': 66, ' ': 147, 'l': 26, 'o': 60, 't': 71, 'f': 15, 'h': 40, 'i': 41, 'n': 50, 'g': 8, 's': 50, 'c': 19, 'u': 20, 'r': 48, 'e': 83, 'd': 19, 'y': 13, 'w': 19, \"'\": 7, 'v': 7, 'm': 19, 'b': 11, 'k': 6, 'p': 11, '!': 1}\n",
      "{'\\n': 38, 'a': 66, ' ': 147, 'l': 26, 'o': 60, 't': 71, 'f': 15, 'h': 40, 'i': 41, 'n': 50, 'g': 8, 's': 50, 'c': 19, 'u': 20, 'r': 48, 'e': 83, 'd': 19, 'y': 13, 'w': 19, \"'\": 7, 'v': 7, 'm': 19, 'b': 11, 'k': 6, 'p': 11, '!': 1}\n",
      "{'\\n': 38, 'a': 67, ' ': 147, 'l': 26, 'o': 60, 't': 71, 'f': 15, 'h': 40, 'i': 41, 'n': 50, 'g': 8, 's': 50, 'c': 19, 'u': 20, 'r': 48, 'e': 83, 'd': 19, 'y': 13, 'w': 19, \"'\": 7, 'v': 7, 'm': 19, 'b': 11, 'k': 6, 'p': 11, '!': 1}\n",
      "{'\\n': 38, 'a': 67, ' ': 147, 'l': 27, 'o': 60, 't': 71, 'f': 15, 'h': 40, 'i': 41, 'n': 50, 'g': 8, 's': 50, 'c': 19, 'u': 20, 'r': 48, 'e': 83, 'd': 19, 'y': 13, 'w': 19, \"'\": 7, 'v': 7, 'm': 19, 'b': 11, 'k': 6, 'p': 11, '!': 1}\n",
      "{'\\n': 38, 'a': 67, ' ': 147, 'l': 28, 'o': 60, 't': 71, 'f': 15, 'h': 40, 'i': 41, 'n': 50, 'g': 8, 's': 50, 'c': 19, 'u': 20, 'r': 48, 'e': 83, 'd': 19, 'y': 13, 'w': 19, \"'\": 7, 'v': 7, 'm': 19, 'b': 11, 'k': 6, 'p': 11, '!': 1}\n",
      "{'\\n': 38, 'a': 67, ' ': 148, 'l': 28, 'o': 60, 't': 71, 'f': 15, 'h': 40, 'i': 41, 'n': 50, 'g': 8, 's': 50, 'c': 19, 'u': 20, 'r': 48, 'e': 83, 'd': 19, 'y': 13, 'w': 19, \"'\": 7, 'v': 7, 'm': 19, 'b': 11, 'k': 6, 'p': 11, '!': 1}\n",
      "{'\\n': 38, 'a': 67, ' ': 148, 'l': 28, 'o': 60, 't': 71, 'f': 15, 'h': 40, 'i': 41, 'n': 50, 'g': 8, 's': 50, 'c': 20, 'u': 20, 'r': 48, 'e': 83, 'd': 19, 'y': 13, 'w': 19, \"'\": 7, 'v': 7, 'm': 19, 'b': 11, 'k': 6, 'p': 11, '!': 1}\n",
      "{'\\n': 38, 'a': 67, ' ': 148, 'l': 28, 'o': 60, 't': 71, 'f': 15, 'h': 40, 'i': 41, 'n': 50, 'g': 8, 's': 50, 'c': 20, 'u': 20, 'r': 49, 'e': 83, 'd': 19, 'y': 13, 'w': 19, \"'\": 7, 'v': 7, 'm': 19, 'b': 11, 'k': 6, 'p': 11, '!': 1}\n",
      "{'\\n': 38, 'a': 67, ' ': 148, 'l': 28, 'o': 60, 't': 71, 'f': 15, 'h': 40, 'i': 41, 'n': 50, 'g': 8, 's': 50, 'c': 20, 'u': 21, 'r': 49, 'e': 83, 'd': 19, 'y': 13, 'w': 19, \"'\": 7, 'v': 7, 'm': 19, 'b': 11, 'k': 6, 'p': 11, '!': 1}\n",
      "{'\\n': 38, 'a': 67, ' ': 148, 'l': 28, 'o': 60, 't': 71, 'f': 15, 'h': 40, 'i': 41, 'n': 50, 'g': 8, 's': 50, 'c': 20, 'u': 21, 'r': 49, 'e': 84, 'd': 19, 'y': 13, 'w': 19, \"'\": 7, 'v': 7, 'm': 19, 'b': 11, 'k': 6, 'p': 11, '!': 1}\n",
      "{'\\n': 38, 'a': 67, ' ': 148, 'l': 29, 'o': 60, 't': 71, 'f': 15, 'h': 40, 'i': 41, 'n': 50, 'g': 8, 's': 50, 'c': 20, 'u': 21, 'r': 49, 'e': 84, 'd': 19, 'y': 13, 'w': 19, \"'\": 7, 'v': 7, 'm': 19, 'b': 11, 'k': 6, 'p': 11, '!': 1}\n",
      "{'\\n': 38, 'a': 67, ' ': 148, 'l': 29, 'o': 60, 't': 72, 'f': 15, 'h': 40, 'i': 41, 'n': 50, 'g': 8, 's': 50, 'c': 20, 'u': 21, 'r': 49, 'e': 84, 'd': 19, 'y': 13, 'w': 19, \"'\": 7, 'v': 7, 'm': 19, 'b': 11, 'k': 6, 'p': 11, '!': 1}\n",
      "{'\\n': 38, 'a': 67, ' ': 148, 'l': 29, 'o': 60, 't': 72, 'f': 15, 'h': 40, 'i': 41, 'n': 50, 'g': 8, 's': 50, 'c': 20, 'u': 21, 'r': 49, 'e': 84, 'd': 19, 'y': 14, 'w': 19, \"'\": 7, 'v': 7, 'm': 19, 'b': 11, 'k': 6, 'p': 11, '!': 1}\n",
      "{'\\n': 38, 'a': 67, ' ': 149, 'l': 29, 'o': 60, 't': 72, 'f': 15, 'h': 40, 'i': 41, 'n': 50, 'g': 8, 's': 50, 'c': 20, 'u': 21, 'r': 49, 'e': 84, 'd': 19, 'y': 14, 'w': 19, \"'\": 7, 'v': 7, 'm': 19, 'b': 11, 'k': 6, 'p': 11, '!': 1}\n",
      "{'\\n': 38, 'a': 68, ' ': 149, 'l': 29, 'o': 60, 't': 72, 'f': 15, 'h': 40, 'i': 41, 'n': 50, 'g': 8, 's': 50, 'c': 20, 'u': 21, 'r': 49, 'e': 84, 'd': 19, 'y': 14, 'w': 19, \"'\": 7, 'v': 7, 'm': 19, 'b': 11, 'k': 6, 'p': 11, '!': 1}\n",
      "{'\\n': 38, 'a': 68, ' ': 149, 'l': 29, 'o': 60, 't': 72, 'f': 15, 'h': 40, 'i': 41, 'n': 51, 'g': 8, 's': 50, 'c': 20, 'u': 21, 'r': 49, 'e': 84, 'd': 19, 'y': 14, 'w': 19, \"'\": 7, 'v': 7, 'm': 19, 'b': 11, 'k': 6, 'p': 11, '!': 1}\n",
      "{'\\n': 38, 'a': 68, ' ': 149, 'l': 29, 'o': 60, 't': 72, 'f': 15, 'h': 40, 'i': 41, 'n': 51, 'g': 8, 's': 50, 'c': 20, 'u': 21, 'r': 49, 'e': 84, 'd': 20, 'y': 14, 'w': 19, \"'\": 7, 'v': 7, 'm': 19, 'b': 11, 'k': 6, 'p': 11, '!': 1}\n",
      "{'\\n': 38, 'a': 68, ' ': 150, 'l': 29, 'o': 60, 't': 72, 'f': 15, 'h': 40, 'i': 41, 'n': 51, 'g': 8, 's': 50, 'c': 20, 'u': 21, 'r': 49, 'e': 84, 'd': 20, 'y': 14, 'w': 19, \"'\": 7, 'v': 7, 'm': 19, 'b': 11, 'k': 6, 'p': 11, '!': 1}\n",
      "{'\\n': 38, 'a': 68, ' ': 150, 'l': 29, 'o': 60, 't': 72, 'f': 15, 'h': 40, 'i': 41, 'n': 51, 'g': 8, 's': 50, 'c': 20, 'u': 21, 'r': 49, 'e': 84, 'd': 20, 'y': 14, 'w': 19, \"'\": 7, 'v': 8, 'm': 19, 'b': 11, 'k': 6, 'p': 11, '!': 1}\n",
      "{'\\n': 38, 'a': 68, ' ': 150, 'l': 29, 'o': 60, 't': 72, 'f': 15, 'h': 40, 'i': 42, 'n': 51, 'g': 8, 's': 50, 'c': 20, 'u': 21, 'r': 49, 'e': 84, 'd': 20, 'y': 14, 'w': 19, \"'\": 7, 'v': 8, 'm': 19, 'b': 11, 'k': 6, 'p': 11, '!': 1}\n",
      "{'\\n': 38, 'a': 68, ' ': 150, 'l': 29, 'o': 61, 't': 72, 'f': 15, 'h': 40, 'i': 42, 'n': 51, 'g': 8, 's': 50, 'c': 20, 'u': 21, 'r': 49, 'e': 84, 'd': 20, 'y': 14, 'w': 19, \"'\": 7, 'v': 8, 'm': 19, 'b': 11, 'k': 6, 'p': 11, '!': 1}\n",
      "{'\\n': 38, 'a': 68, ' ': 150, 'l': 30, 'o': 61, 't': 72, 'f': 15, 'h': 40, 'i': 42, 'n': 51, 'g': 8, 's': 50, 'c': 20, 'u': 21, 'r': 49, 'e': 84, 'd': 20, 'y': 14, 'w': 19, \"'\": 7, 'v': 8, 'm': 19, 'b': 11, 'k': 6, 'p': 11, '!': 1}\n",
      "{'\\n': 38, 'a': 68, ' ': 150, 'l': 30, 'o': 61, 't': 72, 'f': 15, 'h': 40, 'i': 42, 'n': 51, 'g': 8, 's': 50, 'c': 20, 'u': 21, 'r': 49, 'e': 85, 'd': 20, 'y': 14, 'w': 19, \"'\": 7, 'v': 8, 'm': 19, 'b': 11, 'k': 6, 'p': 11, '!': 1}\n",
      "{'\\n': 38, 'a': 68, ' ': 150, 'l': 30, 'o': 61, 't': 72, 'f': 15, 'h': 40, 'i': 42, 'n': 52, 'g': 8, 's': 50, 'c': 20, 'u': 21, 'r': 49, 'e': 85, 'd': 20, 'y': 14, 'w': 19, \"'\": 7, 'v': 8, 'm': 19, 'b': 11, 'k': 6, 'p': 11, '!': 1}\n",
      "{'\\n': 38, 'a': 68, ' ': 150, 'l': 30, 'o': 61, 't': 72, 'f': 15, 'h': 40, 'i': 42, 'n': 52, 'g': 8, 's': 50, 'c': 21, 'u': 21, 'r': 49, 'e': 85, 'd': 20, 'y': 14, 'w': 19, \"'\": 7, 'v': 8, 'm': 19, 'b': 11, 'k': 6, 'p': 11, '!': 1}\n",
      "{'\\n': 38, 'a': 68, ' ': 150, 'l': 30, 'o': 61, 't': 72, 'f': 15, 'h': 40, 'i': 42, 'n': 52, 'g': 8, 's': 50, 'c': 21, 'u': 21, 'r': 49, 'e': 86, 'd': 20, 'y': 14, 'w': 19, \"'\": 7, 'v': 8, 'm': 19, 'b': 11, 'k': 6, 'p': 11, '!': 1}\n",
      "{'\\n': 39, 'a': 68, ' ': 150, 'l': 30, 'o': 61, 't': 72, 'f': 15, 'h': 40, 'i': 42, 'n': 52, 'g': 8, 's': 50, 'c': 21, 'u': 21, 'r': 49, 'e': 86, 'd': 20, 'y': 14, 'w': 19, \"'\": 7, 'v': 8, 'm': 19, 'b': 11, 'k': 6, 'p': 11, '!': 1}\n",
      "{'\\n': 39, 'a': 68, ' ': 150, 'l': 30, 'o': 62, 't': 72, 'f': 15, 'h': 40, 'i': 42, 'n': 52, 'g': 8, 's': 50, 'c': 21, 'u': 21, 'r': 49, 'e': 86, 'd': 20, 'y': 14, 'w': 19, \"'\": 7, 'v': 8, 'm': 19, 'b': 11, 'k': 6, 'p': 11, '!': 1}\n",
      "{'\\n': 39, 'a': 68, ' ': 150, 'l': 30, 'o': 62, 't': 72, 'f': 15, 'h': 40, 'i': 42, 'n': 53, 'g': 8, 's': 50, 'c': 21, 'u': 21, 'r': 49, 'e': 86, 'd': 20, 'y': 14, 'w': 19, \"'\": 7, 'v': 8, 'm': 19, 'b': 11, 'k': 6, 'p': 11, '!': 1}\n",
      "{'\\n': 39, 'a': 68, ' ': 151, 'l': 30, 'o': 62, 't': 72, 'f': 15, 'h': 40, 'i': 42, 'n': 53, 'g': 8, 's': 50, 'c': 21, 'u': 21, 'r': 49, 'e': 86, 'd': 20, 'y': 14, 'w': 19, \"'\": 7, 'v': 8, 'm': 19, 'b': 11, 'k': 6, 'p': 11, '!': 1}\n",
      "{'\\n': 39, 'a': 68, ' ': 151, 'l': 30, 'o': 62, 't': 72, 'f': 15, 'h': 40, 'i': 42, 'n': 53, 'g': 8, 's': 50, 'c': 21, 'u': 21, 'r': 49, 'e': 87, 'd': 20, 'y': 14, 'w': 19, \"'\": 7, 'v': 8, 'm': 19, 'b': 11, 'k': 6, 'p': 11, '!': 1}\n",
      "{'\\n': 39, 'a': 69, ' ': 151, 'l': 30, 'o': 62, 't': 72, 'f': 15, 'h': 40, 'i': 42, 'n': 53, 'g': 8, 's': 50, 'c': 21, 'u': 21, 'r': 49, 'e': 87, 'd': 20, 'y': 14, 'w': 19, \"'\": 7, 'v': 8, 'm': 19, 'b': 11, 'k': 6, 'p': 11, '!': 1}\n",
      "{'\\n': 39, 'a': 69, ' ': 151, 'l': 30, 'o': 62, 't': 72, 'f': 15, 'h': 40, 'i': 42, 'n': 53, 'g': 8, 's': 50, 'c': 21, 'u': 21, 'r': 50, 'e': 87, 'd': 20, 'y': 14, 'w': 19, \"'\": 7, 'v': 8, 'm': 19, 'b': 11, 'k': 6, 'p': 11, '!': 1}\n",
      "{'\\n': 39, 'a': 69, ' ': 151, 'l': 30, 'o': 62, 't': 73, 'f': 15, 'h': 40, 'i': 42, 'n': 53, 'g': 8, 's': 50, 'c': 21, 'u': 21, 'r': 50, 'e': 87, 'd': 20, 'y': 14, 'w': 19, \"'\": 7, 'v': 8, 'm': 19, 'b': 11, 'k': 6, 'p': 11, '!': 1}\n",
      "{'\\n': 39, 'a': 69, ' ': 151, 'l': 30, 'o': 62, 't': 73, 'f': 15, 'h': 41, 'i': 42, 'n': 53, 'g': 8, 's': 50, 'c': 21, 'u': 21, 'r': 50, 'e': 87, 'd': 20, 'y': 14, 'w': 19, \"'\": 7, 'v': 8, 'm': 19, 'b': 11, 'k': 6, 'p': 11, '!': 1}\n",
      "{'\\n': 39, 'a': 69, ' ': 152, 'l': 30, 'o': 62, 't': 73, 'f': 15, 'h': 41, 'i': 42, 'n': 53, 'g': 8, 's': 50, 'c': 21, 'u': 21, 'r': 50, 'e': 87, 'd': 20, 'y': 14, 'w': 19, \"'\": 7, 'v': 8, 'm': 19, 'b': 11, 'k': 6, 'p': 11, '!': 1}\n",
      "{'\\n': 39, 'a': 69, ' ': 152, 'l': 30, 'o': 62, 't': 73, 'f': 15, 'h': 41, 'i': 42, 'n': 53, 'g': 8, 's': 50, 'c': 21, 'u': 21, 'r': 50, 'e': 87, 'd': 20, 'y': 14, 'w': 20, \"'\": 7, 'v': 8, 'm': 19, 'b': 11, 'k': 6, 'p': 11, '!': 1}\n",
      "{'\\n': 39, 'a': 69, ' ': 152, 'l': 30, 'o': 62, 't': 73, 'f': 15, 'h': 41, 'i': 43, 'n': 53, 'g': 8, 's': 50, 'c': 21, 'u': 21, 'r': 50, 'e': 87, 'd': 20, 'y': 14, 'w': 20, \"'\": 7, 'v': 8, 'm': 19, 'b': 11, 'k': 6, 'p': 11, '!': 1}\n",
      "{'\\n': 39, 'a': 69, ' ': 152, 'l': 31, 'o': 62, 't': 73, 'f': 15, 'h': 41, 'i': 43, 'n': 53, 'g': 8, 's': 50, 'c': 21, 'u': 21, 'r': 50, 'e': 87, 'd': 20, 'y': 14, 'w': 20, \"'\": 7, 'v': 8, 'm': 19, 'b': 11, 'k': 6, 'p': 11, '!': 1}\n",
      "{'\\n': 39, 'a': 69, ' ': 152, 'l': 32, 'o': 62, 't': 73, 'f': 15, 'h': 41, 'i': 43, 'n': 53, 'g': 8, 's': 50, 'c': 21, 'u': 21, 'r': 50, 'e': 87, 'd': 20, 'y': 14, 'w': 20, \"'\": 7, 'v': 8, 'm': 19, 'b': 11, 'k': 6, 'p': 11, '!': 1}\n",
      "{'\\n': 39, 'a': 69, ' ': 153, 'l': 32, 'o': 62, 't': 73, 'f': 15, 'h': 41, 'i': 43, 'n': 53, 'g': 8, 's': 50, 'c': 21, 'u': 21, 'r': 50, 'e': 87, 'd': 20, 'y': 14, 'w': 20, \"'\": 7, 'v': 8, 'm': 19, 'b': 11, 'k': 6, 'p': 11, '!': 1}\n",
      "{'\\n': 39, 'a': 69, ' ': 153, 'l': 32, 'o': 62, 't': 73, 'f': 15, 'h': 41, 'i': 43, 'n': 53, 'g': 8, 's': 50, 'c': 21, 'u': 21, 'r': 50, 'e': 87, 'd': 20, 'y': 14, 'w': 20, \"'\": 7, 'v': 8, 'm': 19, 'b': 12, 'k': 6, 'p': 11, '!': 1}\n",
      "{'\\n': 39, 'a': 69, ' ': 153, 'l': 32, 'o': 62, 't': 73, 'f': 15, 'h': 41, 'i': 43, 'n': 53, 'g': 8, 's': 50, 'c': 21, 'u': 21, 'r': 50, 'e': 88, 'd': 20, 'y': 14, 'w': 20, \"'\": 7, 'v': 8, 'm': 19, 'b': 12, 'k': 6, 'p': 11, '!': 1}\n",
      "{'\\n': 39, 'a': 69, ' ': 154, 'l': 32, 'o': 62, 't': 73, 'f': 15, 'h': 41, 'i': 43, 'n': 53, 'g': 8, 's': 50, 'c': 21, 'u': 21, 'r': 50, 'e': 88, 'd': 20, 'y': 14, 'w': 20, \"'\": 7, 'v': 8, 'm': 19, 'b': 12, 'k': 6, 'p': 11, '!': 1}\n",
      "{'\\n': 39, 'a': 69, ' ': 154, 'l': 32, 'o': 62, 't': 73, 'f': 15, 'h': 41, 'i': 43, 'n': 53, 'g': 8, 's': 50, 'c': 21, 'u': 21, 'r': 50, 'e': 88, 'd': 21, 'y': 14, 'w': 20, \"'\": 7, 'v': 8, 'm': 19, 'b': 12, 'k': 6, 'p': 11, '!': 1}\n",
      "{'\\n': 39, 'a': 69, ' ': 154, 'l': 32, 'o': 62, 't': 73, 'f': 15, 'h': 41, 'i': 43, 'n': 53, 'g': 8, 's': 50, 'c': 21, 'u': 21, 'r': 50, 'e': 89, 'd': 21, 'y': 14, 'w': 20, \"'\": 7, 'v': 8, 'm': 19, 'b': 12, 'k': 6, 'p': 11, '!': 1}\n",
      "{'\\n': 39, 'a': 70, ' ': 154, 'l': 32, 'o': 62, 't': 73, 'f': 15, 'h': 41, 'i': 43, 'n': 53, 'g': 8, 's': 50, 'c': 21, 'u': 21, 'r': 50, 'e': 89, 'd': 21, 'y': 14, 'w': 20, \"'\": 7, 'v': 8, 'm': 19, 'b': 12, 'k': 6, 'p': 11, '!': 1}\n",
      "{'\\n': 39, 'a': 70, ' ': 154, 'l': 32, 'o': 62, 't': 73, 'f': 15, 'h': 41, 'i': 43, 'n': 53, 'g': 8, 's': 50, 'c': 21, 'u': 21, 'r': 50, 'e': 89, 'd': 22, 'y': 14, 'w': 20, \"'\": 7, 'v': 8, 'm': 19, 'b': 12, 'k': 6, 'p': 11, '!': 1}\n",
      "{'\\n': 39, 'a': 70, ' ': 155, 'l': 32, 'o': 62, 't': 73, 'f': 15, 'h': 41, 'i': 43, 'n': 53, 'g': 8, 's': 50, 'c': 21, 'u': 21, 'r': 50, 'e': 89, 'd': 22, 'y': 14, 'w': 20, \"'\": 7, 'v': 8, 'm': 19, 'b': 12, 'k': 6, 'p': 11, '!': 1}\n",
      "{'\\n': 39, 'a': 71, ' ': 155, 'l': 32, 'o': 62, 't': 73, 'f': 15, 'h': 41, 'i': 43, 'n': 53, 'g': 8, 's': 50, 'c': 21, 'u': 21, 'r': 50, 'e': 89, 'd': 22, 'y': 14, 'w': 20, \"'\": 7, 'v': 8, 'm': 19, 'b': 12, 'k': 6, 'p': 11, '!': 1}\n",
      "{'\\n': 39, 'a': 71, ' ': 155, 'l': 32, 'o': 62, 't': 73, 'f': 15, 'h': 41, 'i': 43, 'n': 54, 'g': 8, 's': 50, 'c': 21, 'u': 21, 'r': 50, 'e': 89, 'd': 22, 'y': 14, 'w': 20, \"'\": 7, 'v': 8, 'm': 19, 'b': 12, 'k': 6, 'p': 11, '!': 1}\n",
      "{'\\n': 39, 'a': 71, ' ': 155, 'l': 32, 'o': 62, 't': 73, 'f': 15, 'h': 41, 'i': 43, 'n': 54, 'g': 8, 's': 50, 'c': 21, 'u': 21, 'r': 50, 'e': 89, 'd': 23, 'y': 14, 'w': 20, \"'\": 7, 'v': 8, 'm': 19, 'b': 12, 'k': 6, 'p': 11, '!': 1}\n",
      "{'\\n': 39, 'a': 71, ' ': 156, 'l': 32, 'o': 62, 't': 73, 'f': 15, 'h': 41, 'i': 43, 'n': 54, 'g': 8, 's': 50, 'c': 21, 'u': 21, 'r': 50, 'e': 89, 'd': 23, 'y': 14, 'w': 20, \"'\": 7, 'v': 8, 'm': 19, 'b': 12, 'k': 6, 'p': 11, '!': 1}\n",
      "{'\\n': 39, 'a': 71, ' ': 156, 'l': 32, 'o': 62, 't': 73, 'f': 15, 'h': 41, 'i': 43, 'n': 54, 'g': 9, 's': 50, 'c': 21, 'u': 21, 'r': 50, 'e': 89, 'd': 23, 'y': 14, 'w': 20, \"'\": 7, 'v': 8, 'm': 19, 'b': 12, 'k': 6, 'p': 11, '!': 1}\n",
      "{'\\n': 39, 'a': 71, ' ': 156, 'l': 32, 'o': 63, 't': 73, 'f': 15, 'h': 41, 'i': 43, 'n': 54, 'g': 9, 's': 50, 'c': 21, 'u': 21, 'r': 50, 'e': 89, 'd': 23, 'y': 14, 'w': 20, \"'\": 7, 'v': 8, 'm': 19, 'b': 12, 'k': 6, 'p': 11, '!': 1}\n",
      "{'\\n': 39, 'a': 71, ' ': 156, 'l': 32, 'o': 63, 't': 73, 'f': 15, 'h': 41, 'i': 43, 'n': 55, 'g': 9, 's': 50, 'c': 21, 'u': 21, 'r': 50, 'e': 89, 'd': 23, 'y': 14, 'w': 20, \"'\": 7, 'v': 8, 'm': 19, 'b': 12, 'k': 6, 'p': 11, '!': 1}\n",
      "{'\\n': 39, 'a': 71, ' ': 156, 'l': 32, 'o': 63, 't': 73, 'f': 15, 'h': 41, 'i': 43, 'n': 55, 'g': 9, 's': 50, 'c': 21, 'u': 21, 'r': 50, 'e': 90, 'd': 23, 'y': 14, 'w': 20, \"'\": 7, 'v': 8, 'm': 19, 'b': 12, 'k': 6, 'p': 11, '!': 1}\n",
      "{'\\n': 40, 'a': 71, ' ': 156, 'l': 32, 'o': 63, 't': 73, 'f': 15, 'h': 41, 'i': 43, 'n': 55, 'g': 9, 's': 50, 'c': 21, 'u': 21, 'r': 50, 'e': 90, 'd': 23, 'y': 14, 'w': 20, \"'\": 7, 'v': 8, 'm': 19, 'b': 12, 'k': 6, 'p': 11, '!': 1}\n",
      "{'\\n': 41, 'a': 71, ' ': 156, 'l': 32, 'o': 63, 't': 73, 'f': 15, 'h': 41, 'i': 43, 'n': 55, 'g': 9, 's': 50, 'c': 21, 'u': 21, 'r': 50, 'e': 90, 'd': 23, 'y': 14, 'w': 20, \"'\": 7, 'v': 8, 'm': 19, 'b': 12, 'k': 6, 'p': 11, '!': 1}\n",
      "{'\\n': 41, 'a': 71, ' ': 156, 'l': 32, 'o': 63, 't': 73, 'f': 15, 'h': 41, 'i': 43, 'n': 55, 'g': 9, 's': 51, 'c': 21, 'u': 21, 'r': 50, 'e': 90, 'd': 23, 'y': 14, 'w': 20, \"'\": 7, 'v': 8, 'm': 19, 'b': 12, 'k': 6, 'p': 11, '!': 1}\n",
      "{'\\n': 41, 'a': 71, ' ': 156, 'l': 32, 'o': 64, 't': 73, 'f': 15, 'h': 41, 'i': 43, 'n': 55, 'g': 9, 's': 51, 'c': 21, 'u': 21, 'r': 50, 'e': 90, 'd': 23, 'y': 14, 'w': 20, \"'\": 7, 'v': 8, 'm': 19, 'b': 12, 'k': 6, 'p': 11, '!': 1}\n",
      "{'\\n': 41, 'a': 71, ' ': 157, 'l': 32, 'o': 64, 't': 73, 'f': 15, 'h': 41, 'i': 43, 'n': 55, 'g': 9, 's': 51, 'c': 21, 'u': 21, 'r': 50, 'e': 90, 'd': 23, 'y': 14, 'w': 20, \"'\": 7, 'v': 8, 'm': 19, 'b': 12, 'k': 6, 'p': 11, '!': 1}\n",
      "{'\\n': 41, 'a': 71, ' ': 157, 'l': 32, 'o': 64, 't': 73, 'f': 15, 'h': 41, 'i': 43, 'n': 55, 'g': 9, 's': 52, 'c': 21, 'u': 21, 'r': 50, 'e': 90, 'd': 23, 'y': 14, 'w': 20, \"'\": 7, 'v': 8, 'm': 19, 'b': 12, 'k': 6, 'p': 11, '!': 1}\n",
      "{'\\n': 41, 'a': 71, ' ': 157, 'l': 32, 'o': 64, 't': 74, 'f': 15, 'h': 41, 'i': 43, 'n': 55, 'g': 9, 's': 52, 'c': 21, 'u': 21, 'r': 50, 'e': 90, 'd': 23, 'y': 14, 'w': 20, \"'\": 7, 'v': 8, 'm': 19, 'b': 12, 'k': 6, 'p': 11, '!': 1}\n",
      "{'\\n': 41, 'a': 72, ' ': 157, 'l': 32, 'o': 64, 't': 74, 'f': 15, 'h': 41, 'i': 43, 'n': 55, 'g': 9, 's': 52, 'c': 21, 'u': 21, 'r': 50, 'e': 90, 'd': 23, 'y': 14, 'w': 20, \"'\": 7, 'v': 8, 'm': 19, 'b': 12, 'k': 6, 'p': 11, '!': 1}\n",
      "{'\\n': 41, 'a': 72, ' ': 157, 'l': 32, 'o': 64, 't': 74, 'f': 15, 'h': 41, 'i': 43, 'n': 56, 'g': 9, 's': 52, 'c': 21, 'u': 21, 'r': 50, 'e': 90, 'd': 23, 'y': 14, 'w': 20, \"'\": 7, 'v': 8, 'm': 19, 'b': 12, 'k': 6, 'p': 11, '!': 1}\n",
      "{'\\n': 41, 'a': 72, ' ': 157, 'l': 32, 'o': 64, 't': 74, 'f': 15, 'h': 41, 'i': 43, 'n': 56, 'g': 9, 's': 52, 'c': 21, 'u': 21, 'r': 50, 'e': 90, 'd': 24, 'y': 14, 'w': 20, \"'\": 7, 'v': 8, 'm': 19, 'b': 12, 'k': 6, 'p': 11, '!': 1}\n",
      "{'\\n': 41, 'a': 72, ' ': 158, 'l': 32, 'o': 64, 't': 74, 'f': 15, 'h': 41, 'i': 43, 'n': 56, 'g': 9, 's': 52, 'c': 21, 'u': 21, 'r': 50, 'e': 90, 'd': 24, 'y': 14, 'w': 20, \"'\": 7, 'v': 8, 'm': 19, 'b': 12, 'k': 6, 'p': 11, '!': 1}\n",
      "{'\\n': 41, 'a': 72, ' ': 158, 'l': 32, 'o': 64, 't': 74, 'f': 15, 'h': 41, 'i': 43, 'n': 56, 'g': 9, 's': 52, 'c': 21, 'u': 22, 'r': 50, 'e': 90, 'd': 24, 'y': 14, 'w': 20, \"'\": 7, 'v': 8, 'm': 19, 'b': 12, 'k': 6, 'p': 11, '!': 1}\n",
      "{'\\n': 41, 'a': 72, ' ': 158, 'l': 32, 'o': 64, 't': 74, 'f': 15, 'h': 41, 'i': 43, 'n': 56, 'g': 9, 's': 52, 'c': 21, 'u': 22, 'r': 50, 'e': 90, 'd': 24, 'y': 14, 'w': 20, \"'\": 7, 'v': 8, 'm': 19, 'b': 12, 'k': 6, 'p': 12, '!': 1}\n",
      "{'\\n': 41, 'a': 72, ' ': 159, 'l': 32, 'o': 64, 't': 74, 'f': 15, 'h': 41, 'i': 43, 'n': 56, 'g': 9, 's': 52, 'c': 21, 'u': 22, 'r': 50, 'e': 90, 'd': 24, 'y': 14, 'w': 20, \"'\": 7, 'v': 8, 'm': 19, 'b': 12, 'k': 6, 'p': 12, '!': 1}\n",
      "{'\\n': 41, 'a': 72, ' ': 159, 'l': 32, 'o': 64, 't': 74, 'f': 16, 'h': 41, 'i': 43, 'n': 56, 'g': 9, 's': 52, 'c': 21, 'u': 22, 'r': 50, 'e': 90, 'd': 24, 'y': 14, 'w': 20, \"'\": 7, 'v': 8, 'm': 19, 'b': 12, 'k': 6, 'p': 12, '!': 1}\n",
      "{'\\n': 41, 'a': 72, ' ': 159, 'l': 32, 'o': 65, 't': 74, 'f': 16, 'h': 41, 'i': 43, 'n': 56, 'g': 9, 's': 52, 'c': 21, 'u': 22, 'r': 50, 'e': 90, 'd': 24, 'y': 14, 'w': 20, \"'\": 7, 'v': 8, 'm': 19, 'b': 12, 'k': 6, 'p': 12, '!': 1}\n",
      "{'\\n': 41, 'a': 72, ' ': 159, 'l': 32, 'o': 65, 't': 74, 'f': 16, 'h': 41, 'i': 43, 'n': 56, 'g': 9, 's': 52, 'c': 21, 'u': 22, 'r': 51, 'e': 90, 'd': 24, 'y': 14, 'w': 20, \"'\": 7, 'v': 8, 'm': 19, 'b': 12, 'k': 6, 'p': 12, '!': 1}\n",
      "{'\\n': 41, 'a': 72, ' ': 160, 'l': 32, 'o': 65, 't': 74, 'f': 16, 'h': 41, 'i': 43, 'n': 56, 'g': 9, 's': 52, 'c': 21, 'u': 22, 'r': 51, 'e': 90, 'd': 24, 'y': 14, 'w': 20, \"'\": 7, 'v': 8, 'm': 19, 'b': 12, 'k': 6, 'p': 12, '!': 1}\n",
      "{'\\n': 41, 'a': 72, ' ': 160, 'l': 32, 'o': 66, 't': 74, 'f': 16, 'h': 41, 'i': 43, 'n': 56, 'g': 9, 's': 52, 'c': 21, 'u': 22, 'r': 51, 'e': 90, 'd': 24, 'y': 14, 'w': 20, \"'\": 7, 'v': 8, 'm': 19, 'b': 12, 'k': 6, 'p': 12, '!': 1}\n",
      "{'\\n': 41, 'a': 72, ' ': 160, 'l': 32, 'o': 66, 't': 74, 'f': 16, 'h': 41, 'i': 43, 'n': 56, 'g': 9, 's': 52, 'c': 21, 'u': 23, 'r': 51, 'e': 90, 'd': 24, 'y': 14, 'w': 20, \"'\": 7, 'v': 8, 'm': 19, 'b': 12, 'k': 6, 'p': 12, '!': 1}\n",
      "{'\\n': 41, 'a': 72, ' ': 160, 'l': 32, 'o': 66, 't': 74, 'f': 16, 'h': 41, 'i': 43, 'n': 56, 'g': 9, 's': 52, 'c': 21, 'u': 23, 'r': 52, 'e': 90, 'd': 24, 'y': 14, 'w': 20, \"'\": 7, 'v': 8, 'm': 19, 'b': 12, 'k': 6, 'p': 12, '!': 1}\n",
      "{'\\n': 41, 'a': 72, ' ': 161, 'l': 32, 'o': 66, 't': 74, 'f': 16, 'h': 41, 'i': 43, 'n': 56, 'g': 9, 's': 52, 'c': 21, 'u': 23, 'r': 52, 'e': 90, 'd': 24, 'y': 14, 'w': 20, \"'\": 7, 'v': 8, 'm': 19, 'b': 12, 'k': 6, 'p': 12, '!': 1}\n",
      "{'\\n': 41, 'a': 72, ' ': 161, 'l': 32, 'o': 66, 't': 74, 'f': 16, 'h': 42, 'i': 43, 'n': 56, 'g': 9, 's': 52, 'c': 21, 'u': 23, 'r': 52, 'e': 90, 'd': 24, 'y': 14, 'w': 20, \"'\": 7, 'v': 8, 'm': 19, 'b': 12, 'k': 6, 'p': 12, '!': 1}\n",
      "{'\\n': 41, 'a': 72, ' ': 161, 'l': 32, 'o': 66, 't': 74, 'f': 16, 'h': 42, 'i': 43, 'n': 56, 'g': 9, 's': 52, 'c': 21, 'u': 24, 'r': 52, 'e': 90, 'd': 24, 'y': 14, 'w': 20, \"'\": 7, 'v': 8, 'm': 19, 'b': 12, 'k': 6, 'p': 12, '!': 1}\n",
      "{'\\n': 41, 'a': 72, ' ': 161, 'l': 32, 'o': 66, 't': 74, 'f': 16, 'h': 42, 'i': 43, 'n': 56, 'g': 9, 's': 52, 'c': 21, 'u': 24, 'r': 52, 'e': 90, 'd': 24, 'y': 14, 'w': 20, \"'\": 7, 'v': 8, 'm': 20, 'b': 12, 'k': 6, 'p': 12, '!': 1}\n",
      "{'\\n': 41, 'a': 73, ' ': 161, 'l': 32, 'o': 66, 't': 74, 'f': 16, 'h': 42, 'i': 43, 'n': 56, 'g': 9, 's': 52, 'c': 21, 'u': 24, 'r': 52, 'e': 90, 'd': 24, 'y': 14, 'w': 20, \"'\": 7, 'v': 8, 'm': 20, 'b': 12, 'k': 6, 'p': 12, '!': 1}\n",
      "{'\\n': 41, 'a': 73, ' ': 161, 'l': 32, 'o': 66, 't': 74, 'f': 16, 'h': 42, 'i': 43, 'n': 57, 'g': 9, 's': 52, 'c': 21, 'u': 24, 'r': 52, 'e': 90, 'd': 24, 'y': 14, 'w': 20, \"'\": 7, 'v': 8, 'm': 20, 'b': 12, 'k': 6, 'p': 12, '!': 1}\n",
      "{'\\n': 41, 'a': 73, ' ': 162, 'l': 32, 'o': 66, 't': 74, 'f': 16, 'h': 42, 'i': 43, 'n': 57, 'g': 9, 's': 52, 'c': 21, 'u': 24, 'r': 52, 'e': 90, 'd': 24, 'y': 14, 'w': 20, \"'\": 7, 'v': 8, 'm': 20, 'b': 12, 'k': 6, 'p': 12, '!': 1}\n",
      "{'\\n': 41, 'a': 73, ' ': 162, 'l': 32, 'o': 66, 't': 74, 'f': 16, 'h': 42, 'i': 43, 'n': 57, 'g': 9, 's': 52, 'c': 21, 'u': 24, 'r': 53, 'e': 90, 'd': 24, 'y': 14, 'w': 20, \"'\": 7, 'v': 8, 'm': 20, 'b': 12, 'k': 6, 'p': 12, '!': 1}\n",
      "{'\\n': 41, 'a': 73, ' ': 162, 'l': 32, 'o': 66, 't': 74, 'f': 16, 'h': 42, 'i': 44, 'n': 57, 'g': 9, 's': 52, 'c': 21, 'u': 24, 'r': 53, 'e': 90, 'd': 24, 'y': 14, 'w': 20, \"'\": 7, 'v': 8, 'm': 20, 'b': 12, 'k': 6, 'p': 12, '!': 1}\n",
      "{'\\n': 41, 'a': 73, ' ': 162, 'l': 32, 'o': 66, 't': 74, 'f': 16, 'h': 42, 'i': 44, 'n': 57, 'g': 10, 's': 52, 'c': 21, 'u': 24, 'r': 53, 'e': 90, 'd': 24, 'y': 14, 'w': 20, \"'\": 7, 'v': 8, 'm': 20, 'b': 12, 'k': 6, 'p': 12, '!': 1}\n",
      "{'\\n': 41, 'a': 73, ' ': 162, 'l': 32, 'o': 66, 't': 74, 'f': 16, 'h': 43, 'i': 44, 'n': 57, 'g': 10, 's': 52, 'c': 21, 'u': 24, 'r': 53, 'e': 90, 'd': 24, 'y': 14, 'w': 20, \"'\": 7, 'v': 8, 'm': 20, 'b': 12, 'k': 6, 'p': 12, '!': 1}\n",
      "{'\\n': 41, 'a': 73, ' ': 162, 'l': 32, 'o': 66, 't': 75, 'f': 16, 'h': 43, 'i': 44, 'n': 57, 'g': 10, 's': 52, 'c': 21, 'u': 24, 'r': 53, 'e': 90, 'd': 24, 'y': 14, 'w': 20, \"'\": 7, 'v': 8, 'm': 20, 'b': 12, 'k': 6, 'p': 12, '!': 1}\n",
      "{'\\n': 41, 'a': 73, ' ': 162, 'l': 32, 'o': 66, 't': 75, 'f': 16, 'h': 43, 'i': 44, 'n': 57, 'g': 10, 's': 53, 'c': 21, 'u': 24, 'r': 53, 'e': 90, 'd': 24, 'y': 14, 'w': 20, \"'\": 7, 'v': 8, 'm': 20, 'b': 12, 'k': 6, 'p': 12, '!': 1}\n",
      "{'\\n': 42, 'a': 73, ' ': 162, 'l': 32, 'o': 66, 't': 75, 'f': 16, 'h': 43, 'i': 44, 'n': 57, 'g': 10, 's': 53, 'c': 21, 'u': 24, 'r': 53, 'e': 90, 'd': 24, 'y': 14, 'w': 20, \"'\": 7, 'v': 8, 'm': 20, 'b': 12, 'k': 6, 'p': 12, '!': 1}\n",
      "{'\\n': 42, 'a': 73, ' ': 162, 'l': 32, 'o': 66, 't': 75, 'f': 16, 'h': 43, 'i': 44, 'n': 57, 'g': 10, 's': 53, 'c': 21, 'u': 24, 'r': 53, 'e': 90, 'd': 24, 'y': 14, 'w': 20, \"'\": 7, 'v': 8, 'm': 20, 'b': 12, 'k': 6, 'p': 13, '!': 1}\n",
      "{'\\n': 42, 'a': 73, ' ': 162, 'l': 32, 'o': 66, 't': 75, 'f': 16, 'h': 43, 'i': 44, 'n': 57, 'g': 10, 's': 53, 'c': 21, 'u': 25, 'r': 53, 'e': 90, 'd': 24, 'y': 14, 'w': 20, \"'\": 7, 'v': 8, 'm': 20, 'b': 12, 'k': 6, 'p': 13, '!': 1}\n",
      "{'\\n': 42, 'a': 73, ' ': 162, 'l': 32, 'o': 66, 't': 75, 'f': 16, 'h': 43, 'i': 44, 'n': 57, 'g': 10, 's': 54, 'c': 21, 'u': 25, 'r': 53, 'e': 90, 'd': 24, 'y': 14, 'w': 20, \"'\": 7, 'v': 8, 'm': 20, 'b': 12, 'k': 6, 'p': 13, '!': 1}\n",
      "{'\\n': 42, 'a': 73, ' ': 162, 'l': 32, 'o': 66, 't': 75, 'f': 16, 'h': 44, 'i': 44, 'n': 57, 'g': 10, 's': 54, 'c': 21, 'u': 25, 'r': 53, 'e': 90, 'd': 24, 'y': 14, 'w': 20, \"'\": 7, 'v': 8, 'm': 20, 'b': 12, 'k': 6, 'p': 13, '!': 1}\n",
      "{'\\n': 42, 'a': 73, ' ': 163, 'l': 32, 'o': 66, 't': 75, 'f': 16, 'h': 44, 'i': 44, 'n': 57, 'g': 10, 's': 54, 'c': 21, 'u': 25, 'r': 53, 'e': 90, 'd': 24, 'y': 14, 'w': 20, \"'\": 7, 'v': 8, 'm': 20, 'b': 12, 'k': 6, 'p': 13, '!': 1}\n",
      "{'\\n': 42, 'a': 73, ' ': 163, 'l': 32, 'o': 66, 't': 75, 'f': 16, 'h': 44, 'i': 44, 'n': 57, 'g': 10, 's': 54, 'c': 21, 'u': 25, 'r': 53, 'e': 90, 'd': 24, 'y': 14, 'w': 20, \"'\": 7, 'v': 8, 'm': 20, 'b': 13, 'k': 6, 'p': 13, '!': 1}\n",
      "{'\\n': 42, 'a': 74, ' ': 163, 'l': 32, 'o': 66, 't': 75, 'f': 16, 'h': 44, 'i': 44, 'n': 57, 'g': 10, 's': 54, 'c': 21, 'u': 25, 'r': 53, 'e': 90, 'd': 24, 'y': 14, 'w': 20, \"'\": 7, 'v': 8, 'm': 20, 'b': 13, 'k': 6, 'p': 13, '!': 1}\n",
      "{'\\n': 42, 'a': 74, ' ': 163, 'l': 32, 'o': 66, 't': 75, 'f': 16, 'h': 44, 'i': 44, 'n': 57, 'g': 10, 's': 54, 'c': 22, 'u': 25, 'r': 53, 'e': 90, 'd': 24, 'y': 14, 'w': 20, \"'\": 7, 'v': 8, 'm': 20, 'b': 13, 'k': 6, 'p': 13, '!': 1}\n",
      "{'\\n': 42, 'a': 74, ' ': 163, 'l': 32, 'o': 66, 't': 75, 'f': 16, 'h': 44, 'i': 44, 'n': 57, 'g': 10, 's': 54, 'c': 22, 'u': 25, 'r': 53, 'e': 90, 'd': 24, 'y': 14, 'w': 20, \"'\": 7, 'v': 8, 'm': 20, 'b': 13, 'k': 7, 'p': 13, '!': 1}\n",
      "{'\\n': 42, 'a': 74, ' ': 164, 'l': 32, 'o': 66, 't': 75, 'f': 16, 'h': 44, 'i': 44, 'n': 57, 'g': 10, 's': 54, 'c': 22, 'u': 25, 'r': 53, 'e': 90, 'd': 24, 'y': 14, 'w': 20, \"'\": 7, 'v': 8, 'm': 20, 'b': 13, 'k': 7, 'p': 13, '!': 1}\n",
      "{'\\n': 42, 'a': 74, ' ': 164, 'l': 32, 'o': 66, 't': 76, 'f': 16, 'h': 44, 'i': 44, 'n': 57, 'g': 10, 's': 54, 'c': 22, 'u': 25, 'r': 53, 'e': 90, 'd': 24, 'y': 14, 'w': 20, \"'\": 7, 'v': 8, 'm': 20, 'b': 13, 'k': 7, 'p': 13, '!': 1}\n",
      "{'\\n': 42, 'a': 74, ' ': 164, 'l': 32, 'o': 66, 't': 76, 'f': 16, 'h': 45, 'i': 44, 'n': 57, 'g': 10, 's': 54, 'c': 22, 'u': 25, 'r': 53, 'e': 90, 'd': 24, 'y': 14, 'w': 20, \"'\": 7, 'v': 8, 'm': 20, 'b': 13, 'k': 7, 'p': 13, '!': 1}\n",
      "{'\\n': 42, 'a': 74, ' ': 164, 'l': 32, 'o': 66, 't': 76, 'f': 16, 'h': 45, 'i': 45, 'n': 57, 'g': 10, 's': 54, 'c': 22, 'u': 25, 'r': 53, 'e': 90, 'd': 24, 'y': 14, 'w': 20, \"'\": 7, 'v': 8, 'm': 20, 'b': 13, 'k': 7, 'p': 13, '!': 1}\n",
      "{'\\n': 42, 'a': 74, ' ': 164, 'l': 32, 'o': 66, 't': 76, 'f': 16, 'h': 45, 'i': 45, 'n': 57, 'g': 10, 's': 55, 'c': 22, 'u': 25, 'r': 53, 'e': 90, 'd': 24, 'y': 14, 'w': 20, \"'\": 7, 'v': 8, 'm': 20, 'b': 13, 'k': 7, 'p': 13, '!': 1}\n",
      "{'\\n': 42, 'a': 74, ' ': 165, 'l': 32, 'o': 66, 't': 76, 'f': 16, 'h': 45, 'i': 45, 'n': 57, 'g': 10, 's': 55, 'c': 22, 'u': 25, 'r': 53, 'e': 90, 'd': 24, 'y': 14, 'w': 20, \"'\": 7, 'v': 8, 'm': 20, 'b': 13, 'k': 7, 'p': 13, '!': 1}\n",
      "{'\\n': 42, 'a': 74, ' ': 165, 'l': 32, 'o': 66, 't': 76, 'f': 16, 'h': 45, 'i': 45, 'n': 57, 'g': 10, 's': 55, 'c': 22, 'u': 25, 'r': 53, 'e': 90, 'd': 24, 'y': 14, 'w': 20, \"'\": 7, 'v': 8, 'm': 20, 'b': 13, 'k': 7, 'p': 14, '!': 1}\n",
      "{'\\n': 42, 'a': 74, ' ': 165, 'l': 32, 'o': 66, 't': 76, 'f': 16, 'h': 45, 'i': 45, 'n': 57, 'g': 10, 's': 55, 'c': 22, 'u': 25, 'r': 53, 'e': 91, 'd': 24, 'y': 14, 'w': 20, \"'\": 7, 'v': 8, 'm': 20, 'b': 13, 'k': 7, 'p': 14, '!': 1}\n",
      "{'\\n': 42, 'a': 74, ' ': 165, 'l': 32, 'o': 66, 't': 76, 'f': 16, 'h': 45, 'i': 45, 'n': 57, 'g': 10, 's': 56, 'c': 22, 'u': 25, 'r': 53, 'e': 91, 'd': 24, 'y': 14, 'w': 20, \"'\": 7, 'v': 8, 'm': 20, 'b': 13, 'k': 7, 'p': 14, '!': 1}\n",
      "{'\\n': 42, 'a': 74, ' ': 165, 'l': 32, 'o': 66, 't': 77, 'f': 16, 'h': 45, 'i': 45, 'n': 57, 'g': 10, 's': 56, 'c': 22, 'u': 25, 'r': 53, 'e': 91, 'd': 24, 'y': 14, 'w': 20, \"'\": 7, 'v': 8, 'm': 20, 'b': 13, 'k': 7, 'p': 14, '!': 1}\n",
      "{'\\n': 42, 'a': 74, ' ': 166, 'l': 32, 'o': 66, 't': 77, 'f': 16, 'h': 45, 'i': 45, 'n': 57, 'g': 10, 's': 56, 'c': 22, 'u': 25, 'r': 53, 'e': 91, 'd': 24, 'y': 14, 'w': 20, \"'\": 7, 'v': 8, 'm': 20, 'b': 13, 'k': 7, 'p': 14, '!': 1}\n",
      "{'\\n': 42, 'a': 74, ' ': 166, 'l': 32, 'o': 67, 't': 77, 'f': 16, 'h': 45, 'i': 45, 'n': 57, 'g': 10, 's': 56, 'c': 22, 'u': 25, 'r': 53, 'e': 91, 'd': 24, 'y': 14, 'w': 20, \"'\": 7, 'v': 8, 'm': 20, 'b': 13, 'k': 7, 'p': 14, '!': 1}\n",
      "{'\\n': 42, 'a': 74, ' ': 166, 'l': 32, 'o': 67, 't': 77, 'f': 17, 'h': 45, 'i': 45, 'n': 57, 'g': 10, 's': 56, 'c': 22, 'u': 25, 'r': 53, 'e': 91, 'd': 24, 'y': 14, 'w': 20, \"'\": 7, 'v': 8, 'm': 20, 'b': 13, 'k': 7, 'p': 14, '!': 1}\n",
      "{'\\n': 42, 'a': 74, ' ': 167, 'l': 32, 'o': 67, 't': 77, 'f': 17, 'h': 45, 'i': 45, 'n': 57, 'g': 10, 's': 56, 'c': 22, 'u': 25, 'r': 53, 'e': 91, 'd': 24, 'y': 14, 'w': 20, \"'\": 7, 'v': 8, 'm': 20, 'b': 13, 'k': 7, 'p': 14, '!': 1}\n",
      "{'\\n': 42, 'a': 74, ' ': 167, 'l': 32, 'o': 67, 't': 77, 'f': 17, 'h': 46, 'i': 45, 'n': 57, 'g': 10, 's': 56, 'c': 22, 'u': 25, 'r': 53, 'e': 91, 'd': 24, 'y': 14, 'w': 20, \"'\": 7, 'v': 8, 'm': 20, 'b': 13, 'k': 7, 'p': 14, '!': 1}\n",
      "{'\\n': 42, 'a': 75, ' ': 167, 'l': 32, 'o': 67, 't': 77, 'f': 17, 'h': 46, 'i': 45, 'n': 57, 'g': 10, 's': 56, 'c': 22, 'u': 25, 'r': 53, 'e': 91, 'd': 24, 'y': 14, 'w': 20, \"'\": 7, 'v': 8, 'm': 20, 'b': 13, 'k': 7, 'p': 14, '!': 1}\n",
      "{'\\n': 42, 'a': 75, ' ': 167, 'l': 32, 'o': 67, 't': 78, 'f': 17, 'h': 46, 'i': 45, 'n': 57, 'g': 10, 's': 56, 'c': 22, 'u': 25, 'r': 53, 'e': 91, 'd': 24, 'y': 14, 'w': 20, \"'\": 7, 'v': 8, 'm': 20, 'b': 13, 'k': 7, 'p': 14, '!': 1}\n",
      "{'\\n': 42, 'a': 75, ' ': 167, 'l': 32, 'o': 67, 't': 78, 'f': 17, 'h': 46, 'i': 45, 'n': 57, 'g': 10, 's': 56, 'c': 22, 'u': 25, 'r': 53, 'e': 92, 'd': 24, 'y': 14, 'w': 20, \"'\": 7, 'v': 8, 'm': 20, 'b': 13, 'k': 7, 'p': 14, '!': 1}\n",
      "{'\\n': 43, 'a': 75, ' ': 167, 'l': 32, 'o': 67, 't': 78, 'f': 17, 'h': 46, 'i': 45, 'n': 57, 'g': 10, 's': 56, 'c': 22, 'u': 25, 'r': 53, 'e': 92, 'd': 24, 'y': 14, 'w': 20, \"'\": 7, 'v': 8, 'm': 20, 'b': 13, 'k': 7, 'p': 14, '!': 1}\n",
      "{'\\n': 43, 'a': 75, ' ': 167, 'l': 32, 'o': 67, 't': 78, 'f': 17, 'h': 46, 'i': 45, 'n': 57, 'g': 10, 's': 56, 'c': 22, 'u': 25, 'r': 54, 'e': 92, 'd': 24, 'y': 14, 'w': 20, \"'\": 7, 'v': 8, 'm': 20, 'b': 13, 'k': 7, 'p': 14, '!': 1}\n",
      "{'\\n': 43, 'a': 76, ' ': 167, 'l': 32, 'o': 67, 't': 78, 'f': 17, 'h': 46, 'i': 45, 'n': 57, 'g': 10, 's': 56, 'c': 22, 'u': 25, 'r': 54, 'e': 92, 'd': 24, 'y': 14, 'w': 20, \"'\": 7, 'v': 8, 'm': 20, 'b': 13, 'k': 7, 'p': 14, '!': 1}\n",
      "{'\\n': 43, 'a': 76, ' ': 167, 'l': 32, 'o': 67, 't': 78, 'f': 17, 'h': 46, 'i': 46, 'n': 57, 'g': 10, 's': 56, 'c': 22, 'u': 25, 'r': 54, 'e': 92, 'd': 24, 'y': 14, 'w': 20, \"'\": 7, 'v': 8, 'm': 20, 'b': 13, 'k': 7, 'p': 14, '!': 1}\n",
      "{'\\n': 43, 'a': 76, ' ': 167, 'l': 32, 'o': 67, 't': 78, 'f': 17, 'h': 46, 'i': 46, 'n': 57, 'g': 10, 's': 57, 'c': 22, 'u': 25, 'r': 54, 'e': 92, 'd': 24, 'y': 14, 'w': 20, \"'\": 7, 'v': 8, 'm': 20, 'b': 13, 'k': 7, 'p': 14, '!': 1}\n",
      "{'\\n': 43, 'a': 76, ' ': 167, 'l': 32, 'o': 67, 't': 78, 'f': 17, 'h': 46, 'i': 46, 'n': 57, 'g': 10, 's': 57, 'c': 22, 'u': 25, 'r': 54, 'e': 93, 'd': 24, 'y': 14, 'w': 20, \"'\": 7, 'v': 8, 'm': 20, 'b': 13, 'k': 7, 'p': 14, '!': 1}\n",
      "{'\\n': 43, 'a': 76, ' ': 168, 'l': 32, 'o': 67, 't': 78, 'f': 17, 'h': 46, 'i': 46, 'n': 57, 'g': 10, 's': 57, 'c': 22, 'u': 25, 'r': 54, 'e': 93, 'd': 24, 'y': 14, 'w': 20, \"'\": 7, 'v': 8, 'm': 20, 'b': 13, 'k': 7, 'p': 14, '!': 1}\n",
      "{'\\n': 43, 'a': 76, ' ': 168, 'l': 32, 'o': 67, 't': 78, 'f': 17, 'h': 46, 'i': 46, 'n': 57, 'g': 10, 's': 57, 'c': 22, 'u': 25, 'r': 54, 'e': 93, 'd': 24, 'y': 15, 'w': 20, \"'\": 7, 'v': 8, 'm': 20, 'b': 13, 'k': 7, 'p': 14, '!': 1}\n",
      "{'\\n': 43, 'a': 76, ' ': 168, 'l': 32, 'o': 68, 't': 78, 'f': 17, 'h': 46, 'i': 46, 'n': 57, 'g': 10, 's': 57, 'c': 22, 'u': 25, 'r': 54, 'e': 93, 'd': 24, 'y': 15, 'w': 20, \"'\": 7, 'v': 8, 'm': 20, 'b': 13, 'k': 7, 'p': 14, '!': 1}\n",
      "{'\\n': 43, 'a': 76, ' ': 168, 'l': 32, 'o': 68, 't': 78, 'f': 17, 'h': 46, 'i': 46, 'n': 57, 'g': 10, 's': 57, 'c': 22, 'u': 26, 'r': 54, 'e': 93, 'd': 24, 'y': 15, 'w': 20, \"'\": 7, 'v': 8, 'm': 20, 'b': 13, 'k': 7, 'p': 14, '!': 1}\n",
      "{'\\n': 43, 'a': 76, ' ': 169, 'l': 32, 'o': 68, 't': 78, 'f': 17, 'h': 46, 'i': 46, 'n': 57, 'g': 10, 's': 57, 'c': 22, 'u': 26, 'r': 54, 'e': 93, 'd': 24, 'y': 15, 'w': 20, \"'\": 7, 'v': 8, 'm': 20, 'b': 13, 'k': 7, 'p': 14, '!': 1}\n",
      "{'\\n': 43, 'a': 76, ' ': 169, 'l': 32, 'o': 68, 't': 78, 'f': 17, 'h': 46, 'i': 46, 'n': 57, 'g': 10, 's': 57, 'c': 22, 'u': 26, 'r': 54, 'e': 93, 'd': 24, 'y': 15, 'w': 20, \"'\": 7, 'v': 9, 'm': 20, 'b': 13, 'k': 7, 'p': 14, '!': 1}\n",
      "{'\\n': 43, 'a': 76, ' ': 169, 'l': 32, 'o': 69, 't': 78, 'f': 17, 'h': 46, 'i': 46, 'n': 57, 'g': 10, 's': 57, 'c': 22, 'u': 26, 'r': 54, 'e': 93, 'd': 24, 'y': 15, 'w': 20, \"'\": 7, 'v': 9, 'm': 20, 'b': 13, 'k': 7, 'p': 14, '!': 1}\n",
      "{'\\n': 43, 'a': 76, ' ': 169, 'l': 32, 'o': 69, 't': 78, 'f': 17, 'h': 46, 'i': 47, 'n': 57, 'g': 10, 's': 57, 'c': 22, 'u': 26, 'r': 54, 'e': 93, 'd': 24, 'y': 15, 'w': 20, \"'\": 7, 'v': 9, 'm': 20, 'b': 13, 'k': 7, 'p': 14, '!': 1}\n",
      "{'\\n': 43, 'a': 76, ' ': 169, 'l': 32, 'o': 69, 't': 78, 'f': 17, 'h': 46, 'i': 47, 'n': 57, 'g': 10, 's': 57, 'c': 23, 'u': 26, 'r': 54, 'e': 93, 'd': 24, 'y': 15, 'w': 20, \"'\": 7, 'v': 9, 'm': 20, 'b': 13, 'k': 7, 'p': 14, '!': 1}\n",
      "{'\\n': 43, 'a': 76, ' ': 169, 'l': 32, 'o': 69, 't': 78, 'f': 17, 'h': 46, 'i': 47, 'n': 57, 'g': 10, 's': 57, 'c': 23, 'u': 26, 'r': 54, 'e': 94, 'd': 24, 'y': 15, 'w': 20, \"'\": 7, 'v': 9, 'm': 20, 'b': 13, 'k': 7, 'p': 14, '!': 1}\n",
      "{'\\n': 43, 'a': 76, ' ': 170, 'l': 32, 'o': 69, 't': 78, 'f': 17, 'h': 46, 'i': 47, 'n': 57, 'g': 10, 's': 57, 'c': 23, 'u': 26, 'r': 54, 'e': 94, 'd': 24, 'y': 15, 'w': 20, \"'\": 7, 'v': 9, 'm': 20, 'b': 13, 'k': 7, 'p': 14, '!': 1}\n",
      "{'\\n': 43, 'a': 76, ' ': 170, 'l': 32, 'o': 69, 't': 78, 'f': 17, 'h': 46, 'i': 47, 'n': 57, 'g': 10, 's': 57, 'c': 23, 'u': 26, 'r': 54, 'e': 94, 'd': 24, 'y': 15, 'w': 20, \"'\": 7, 'v': 9, 'm': 20, 'b': 13, 'k': 7, 'p': 15, '!': 1}\n",
      "{'\\n': 43, 'a': 77, ' ': 170, 'l': 32, 'o': 69, 't': 78, 'f': 17, 'h': 46, 'i': 47, 'n': 57, 'g': 10, 's': 57, 'c': 23, 'u': 26, 'r': 54, 'e': 94, 'd': 24, 'y': 15, 'w': 20, \"'\": 7, 'v': 9, 'm': 20, 'b': 13, 'k': 7, 'p': 15, '!': 1}\n",
      "{'\\n': 43, 'a': 77, ' ': 170, 'l': 32, 'o': 69, 't': 78, 'f': 17, 'h': 46, 'i': 47, 'n': 57, 'g': 10, 's': 58, 'c': 23, 'u': 26, 'r': 54, 'e': 94, 'd': 24, 'y': 15, 'w': 20, \"'\": 7, 'v': 9, 'm': 20, 'b': 13, 'k': 7, 'p': 15, '!': 1}\n",
      "{'\\n': 43, 'a': 77, ' ': 170, 'l': 32, 'o': 69, 't': 78, 'f': 17, 'h': 46, 'i': 47, 'n': 57, 'g': 10, 's': 59, 'c': 23, 'u': 26, 'r': 54, 'e': 94, 'd': 24, 'y': 15, 'w': 20, \"'\": 7, 'v': 9, 'm': 20, 'b': 13, 'k': 7, 'p': 15, '!': 1}\n",
      "{'\\n': 43, 'a': 77, ' ': 171, 'l': 32, 'o': 69, 't': 78, 'f': 17, 'h': 46, 'i': 47, 'n': 57, 'g': 10, 's': 59, 'c': 23, 'u': 26, 'r': 54, 'e': 94, 'd': 24, 'y': 15, 'w': 20, \"'\": 7, 'v': 9, 'm': 20, 'b': 13, 'k': 7, 'p': 15, '!': 1}\n",
      "{'\\n': 43, 'a': 77, ' ': 171, 'l': 32, 'o': 70, 't': 78, 'f': 17, 'h': 46, 'i': 47, 'n': 57, 'g': 10, 's': 59, 'c': 23, 'u': 26, 'r': 54, 'e': 94, 'd': 24, 'y': 15, 'w': 20, \"'\": 7, 'v': 9, 'm': 20, 'b': 13, 'k': 7, 'p': 15, '!': 1}\n",
      "{'\\n': 43, 'a': 77, ' ': 171, 'l': 32, 'o': 70, 't': 78, 'f': 17, 'h': 46, 'i': 47, 'n': 58, 'g': 10, 's': 59, 'c': 23, 'u': 26, 'r': 54, 'e': 94, 'd': 24, 'y': 15, 'w': 20, \"'\": 7, 'v': 9, 'm': 20, 'b': 13, 'k': 7, 'p': 15, '!': 1}\n",
      "{'\\n': 43, 'a': 77, ' ': 172, 'l': 32, 'o': 70, 't': 78, 'f': 17, 'h': 46, 'i': 47, 'n': 58, 'g': 10, 's': 59, 'c': 23, 'u': 26, 'r': 54, 'e': 94, 'd': 24, 'y': 15, 'w': 20, \"'\": 7, 'v': 9, 'm': 20, 'b': 13, 'k': 7, 'p': 15, '!': 1}\n",
      "{'\\n': 43, 'a': 77, ' ': 172, 'l': 32, 'o': 70, 't': 79, 'f': 17, 'h': 46, 'i': 47, 'n': 58, 'g': 10, 's': 59, 'c': 23, 'u': 26, 'r': 54, 'e': 94, 'd': 24, 'y': 15, 'w': 20, \"'\": 7, 'v': 9, 'm': 20, 'b': 13, 'k': 7, 'p': 15, '!': 1}\n",
      "{'\\n': 43, 'a': 77, ' ': 172, 'l': 32, 'o': 70, 't': 79, 'f': 17, 'h': 47, 'i': 47, 'n': 58, 'g': 10, 's': 59, 'c': 23, 'u': 26, 'r': 54, 'e': 94, 'd': 24, 'y': 15, 'w': 20, \"'\": 7, 'v': 9, 'm': 20, 'b': 13, 'k': 7, 'p': 15, '!': 1}\n",
      "{'\\n': 43, 'a': 77, ' ': 172, 'l': 32, 'o': 70, 't': 79, 'f': 17, 'h': 47, 'i': 47, 'n': 58, 'g': 10, 's': 59, 'c': 23, 'u': 26, 'r': 54, 'e': 95, 'd': 24, 'y': 15, 'w': 20, \"'\": 7, 'v': 9, 'm': 20, 'b': 13, 'k': 7, 'p': 15, '!': 1}\n",
      "{'\\n': 43, 'a': 77, ' ': 173, 'l': 32, 'o': 70, 't': 79, 'f': 17, 'h': 47, 'i': 47, 'n': 58, 'g': 10, 's': 59, 'c': 23, 'u': 26, 'r': 54, 'e': 95, 'd': 24, 'y': 15, 'w': 20, \"'\": 7, 'v': 9, 'm': 20, 'b': 13, 'k': 7, 'p': 15, '!': 1}\n",
      "{'\\n': 43, 'a': 77, ' ': 173, 'l': 33, 'o': 70, 't': 79, 'f': 17, 'h': 47, 'i': 47, 'n': 58, 'g': 10, 's': 59, 'c': 23, 'u': 26, 'r': 54, 'e': 95, 'd': 24, 'y': 15, 'w': 20, \"'\": 7, 'v': 9, 'm': 20, 'b': 13, 'k': 7, 'p': 15, '!': 1}\n",
      "{'\\n': 43, 'a': 77, ' ': 173, 'l': 33, 'o': 70, 't': 79, 'f': 17, 'h': 47, 'i': 48, 'n': 58, 'g': 10, 's': 59, 'c': 23, 'u': 26, 'r': 54, 'e': 95, 'd': 24, 'y': 15, 'w': 20, \"'\": 7, 'v': 9, 'm': 20, 'b': 13, 'k': 7, 'p': 15, '!': 1}\n",
      "{'\\n': 43, 'a': 77, ' ': 173, 'l': 33, 'o': 70, 't': 79, 'f': 17, 'h': 47, 'i': 48, 'n': 58, 'g': 11, 's': 59, 'c': 23, 'u': 26, 'r': 54, 'e': 95, 'd': 24, 'y': 15, 'w': 20, \"'\": 7, 'v': 9, 'm': 20, 'b': 13, 'k': 7, 'p': 15, '!': 1}\n",
      "{'\\n': 43, 'a': 77, ' ': 173, 'l': 33, 'o': 70, 't': 79, 'f': 17, 'h': 48, 'i': 48, 'n': 58, 'g': 11, 's': 59, 'c': 23, 'u': 26, 'r': 54, 'e': 95, 'd': 24, 'y': 15, 'w': 20, \"'\": 7, 'v': 9, 'm': 20, 'b': 13, 'k': 7, 'p': 15, '!': 1}\n",
      "{'\\n': 43, 'a': 77, ' ': 173, 'l': 33, 'o': 70, 't': 80, 'f': 17, 'h': 48, 'i': 48, 'n': 58, 'g': 11, 's': 59, 'c': 23, 'u': 26, 'r': 54, 'e': 95, 'd': 24, 'y': 15, 'w': 20, \"'\": 7, 'v': 9, 'm': 20, 'b': 13, 'k': 7, 'p': 15, '!': 1}\n",
      "{'\\n': 44, 'a': 77, ' ': 173, 'l': 33, 'o': 70, 't': 80, 'f': 17, 'h': 48, 'i': 48, 'n': 58, 'g': 11, 's': 59, 'c': 23, 'u': 26, 'r': 54, 'e': 95, 'd': 24, 'y': 15, 'w': 20, \"'\": 7, 'v': 9, 'm': 20, 'b': 13, 'k': 7, 'p': 15, '!': 1}\n",
      "{'\\n': 44, 'a': 77, ' ': 173, 'l': 33, 'o': 70, 't': 80, 'f': 17, 'h': 48, 'i': 48, 'n': 58, 'g': 11, 's': 59, 'c': 23, 'u': 27, 'r': 54, 'e': 95, 'd': 24, 'y': 15, 'w': 20, \"'\": 7, 'v': 9, 'm': 20, 'b': 13, 'k': 7, 'p': 15, '!': 1}\n",
      "{'\\n': 44, 'a': 77, ' ': 173, 'l': 33, 'o': 70, 't': 80, 'f': 17, 'h': 48, 'i': 48, 'n': 59, 'g': 11, 's': 59, 'c': 23, 'u': 27, 'r': 54, 'e': 95, 'd': 24, 'y': 15, 'w': 20, \"'\": 7, 'v': 9, 'm': 20, 'b': 13, 'k': 7, 'p': 15, '!': 1}\n",
      "{'\\n': 44, 'a': 77, ' ': 173, 'l': 33, 'o': 70, 't': 80, 'f': 17, 'h': 48, 'i': 49, 'n': 59, 'g': 11, 's': 59, 'c': 23, 'u': 27, 'r': 54, 'e': 95, 'd': 24, 'y': 15, 'w': 20, \"'\": 7, 'v': 9, 'm': 20, 'b': 13, 'k': 7, 'p': 15, '!': 1}\n",
      "{'\\n': 44, 'a': 77, ' ': 173, 'l': 33, 'o': 70, 't': 81, 'f': 17, 'h': 48, 'i': 49, 'n': 59, 'g': 11, 's': 59, 'c': 23, 'u': 27, 'r': 54, 'e': 95, 'd': 24, 'y': 15, 'w': 20, \"'\": 7, 'v': 9, 'm': 20, 'b': 13, 'k': 7, 'p': 15, '!': 1}\n",
      "{'\\n': 44, 'a': 77, ' ': 173, 'l': 33, 'o': 70, 't': 81, 'f': 17, 'h': 48, 'i': 49, 'n': 59, 'g': 11, 's': 59, 'c': 23, 'u': 27, 'r': 54, 'e': 96, 'd': 24, 'y': 15, 'w': 20, \"'\": 7, 'v': 9, 'm': 20, 'b': 13, 'k': 7, 'p': 15, '!': 1}\n",
      "{'\\n': 44, 'a': 77, ' ': 173, 'l': 33, 'o': 70, 't': 81, 'f': 17, 'h': 48, 'i': 49, 'n': 59, 'g': 11, 's': 59, 'c': 23, 'u': 27, 'r': 54, 'e': 96, 'd': 24, 'y': 15, 'w': 20, \"'\": 7, 'v': 9, 'm': 20, 'b': 13, 'k': 7, 'p': 15, '!': 2}\n",
      "{'\\n': 44, 'a': 77, ' ': 174, 'l': 33, 'o': 70, 't': 81, 'f': 17, 'h': 48, 'i': 49, 'n': 59, 'g': 11, 's': 59, 'c': 23, 'u': 27, 'r': 54, 'e': 96, 'd': 24, 'y': 15, 'w': 20, \"'\": 7, 'v': 9, 'm': 20, 'b': 13, 'k': 7, 'p': 15, '!': 2}\n",
      "{'\\n': 44, 'a': 77, ' ': 174, 'l': 33, 'o': 70, 't': 81, 'f': 17, 'h': 48, 'i': 50, 'n': 59, 'g': 11, 's': 59, 'c': 23, 'u': 27, 'r': 54, 'e': 96, 'd': 24, 'y': 15, 'w': 20, \"'\": 7, 'v': 9, 'm': 20, 'b': 13, 'k': 7, 'p': 15, '!': 2}\n",
      "{'\\n': 44, 'a': 77, ' ': 174, 'l': 33, 'o': 70, 't': 82, 'f': 17, 'h': 48, 'i': 50, 'n': 59, 'g': 11, 's': 59, 'c': 23, 'u': 27, 'r': 54, 'e': 96, 'd': 24, 'y': 15, 'w': 20, \"'\": 7, 'v': 9, 'm': 20, 'b': 13, 'k': 7, 'p': 15, '!': 2}\n",
      "{'\\n': 44, 'a': 77, ' ': 174, 'l': 33, 'o': 70, 't': 82, 'f': 17, 'h': 48, 'i': 50, 'n': 59, 'g': 11, 's': 59, 'c': 23, 'u': 27, 'r': 54, 'e': 96, 'd': 24, 'y': 15, 'w': 20, \"'\": 8, 'v': 9, 'm': 20, 'b': 13, 'k': 7, 'p': 15, '!': 2}\n",
      "{'\\n': 44, 'a': 77, ' ': 174, 'l': 33, 'o': 70, 't': 82, 'f': 17, 'h': 48, 'i': 50, 'n': 59, 'g': 11, 's': 60, 'c': 23, 'u': 27, 'r': 54, 'e': 96, 'd': 24, 'y': 15, 'w': 20, \"'\": 8, 'v': 9, 'm': 20, 'b': 13, 'k': 7, 'p': 15, '!': 2}\n",
      "{'\\n': 44, 'a': 77, ' ': 175, 'l': 33, 'o': 70, 't': 82, 'f': 17, 'h': 48, 'i': 50, 'n': 59, 'g': 11, 's': 60, 'c': 23, 'u': 27, 'r': 54, 'e': 96, 'd': 24, 'y': 15, 'w': 20, \"'\": 8, 'v': 9, 'm': 20, 'b': 13, 'k': 7, 'p': 15, '!': 2}\n",
      "{'\\n': 44, 'a': 77, ' ': 175, 'l': 33, 'o': 70, 't': 82, 'f': 17, 'h': 48, 'i': 50, 'n': 60, 'g': 11, 's': 60, 'c': 23, 'u': 27, 'r': 54, 'e': 96, 'd': 24, 'y': 15, 'w': 20, \"'\": 8, 'v': 9, 'm': 20, 'b': 13, 'k': 7, 'p': 15, '!': 2}\n",
      "{'\\n': 44, 'a': 77, ' ': 175, 'l': 33, 'o': 71, 't': 82, 'f': 17, 'h': 48, 'i': 50, 'n': 60, 'g': 11, 's': 60, 'c': 23, 'u': 27, 'r': 54, 'e': 96, 'd': 24, 'y': 15, 'w': 20, \"'\": 8, 'v': 9, 'm': 20, 'b': 13, 'k': 7, 'p': 15, '!': 2}\n",
      "{'\\n': 44, 'a': 77, ' ': 175, 'l': 33, 'o': 71, 't': 83, 'f': 17, 'h': 48, 'i': 50, 'n': 60, 'g': 11, 's': 60, 'c': 23, 'u': 27, 'r': 54, 'e': 96, 'd': 24, 'y': 15, 'w': 20, \"'\": 8, 'v': 9, 'm': 20, 'b': 13, 'k': 7, 'p': 15, '!': 2}\n",
      "{'\\n': 44, 'a': 77, ' ': 176, 'l': 33, 'o': 71, 't': 83, 'f': 17, 'h': 48, 'i': 50, 'n': 60, 'g': 11, 's': 60, 'c': 23, 'u': 27, 'r': 54, 'e': 96, 'd': 24, 'y': 15, 'w': 20, \"'\": 8, 'v': 9, 'm': 20, 'b': 13, 'k': 7, 'p': 15, '!': 2}\n",
      "{'\\n': 44, 'a': 77, ' ': 176, 'l': 33, 'o': 71, 't': 84, 'f': 17, 'h': 48, 'i': 50, 'n': 60, 'g': 11, 's': 60, 'c': 23, 'u': 27, 'r': 54, 'e': 96, 'd': 24, 'y': 15, 'w': 20, \"'\": 8, 'v': 9, 'm': 20, 'b': 13, 'k': 7, 'p': 15, '!': 2}\n",
      "{'\\n': 44, 'a': 77, ' ': 176, 'l': 33, 'o': 72, 't': 84, 'f': 17, 'h': 48, 'i': 50, 'n': 60, 'g': 11, 's': 60, 'c': 23, 'u': 27, 'r': 54, 'e': 96, 'd': 24, 'y': 15, 'w': 20, \"'\": 8, 'v': 9, 'm': 20, 'b': 13, 'k': 7, 'p': 15, '!': 2}\n",
      "{'\\n': 44, 'a': 77, ' ': 176, 'l': 33, 'o': 73, 't': 84, 'f': 17, 'h': 48, 'i': 50, 'n': 60, 'g': 11, 's': 60, 'c': 23, 'u': 27, 'r': 54, 'e': 96, 'd': 24, 'y': 15, 'w': 20, \"'\": 8, 'v': 9, 'm': 20, 'b': 13, 'k': 7, 'p': 15, '!': 2}\n",
      "{'\\n': 44, 'a': 77, ' ': 177, 'l': 33, 'o': 73, 't': 84, 'f': 17, 'h': 48, 'i': 50, 'n': 60, 'g': 11, 's': 60, 'c': 23, 'u': 27, 'r': 54, 'e': 96, 'd': 24, 'y': 15, 'w': 20, \"'\": 8, 'v': 9, 'm': 20, 'b': 13, 'k': 7, 'p': 15, '!': 2}\n",
      "{'\\n': 44, 'a': 77, ' ': 177, 'l': 34, 'o': 73, 't': 84, 'f': 17, 'h': 48, 'i': 50, 'n': 60, 'g': 11, 's': 60, 'c': 23, 'u': 27, 'r': 54, 'e': 96, 'd': 24, 'y': 15, 'w': 20, \"'\": 8, 'v': 9, 'm': 20, 'b': 13, 'k': 7, 'p': 15, '!': 2}\n",
      "{'\\n': 44, 'a': 78, ' ': 177, 'l': 34, 'o': 73, 't': 84, 'f': 17, 'h': 48, 'i': 50, 'n': 60, 'g': 11, 's': 60, 'c': 23, 'u': 27, 'r': 54, 'e': 96, 'd': 24, 'y': 15, 'w': 20, \"'\": 8, 'v': 9, 'm': 20, 'b': 13, 'k': 7, 'p': 15, '!': 2}\n",
      "{'\\n': 44, 'a': 78, ' ': 177, 'l': 34, 'o': 73, 't': 85, 'f': 17, 'h': 48, 'i': 50, 'n': 60, 'g': 11, 's': 60, 'c': 23, 'u': 27, 'r': 54, 'e': 96, 'd': 24, 'y': 15, 'w': 20, \"'\": 8, 'v': 9, 'm': 20, 'b': 13, 'k': 7, 'p': 15, '!': 2}\n",
      "{'\\n': 44, 'a': 78, ' ': 177, 'l': 34, 'o': 73, 't': 85, 'f': 17, 'h': 48, 'i': 50, 'n': 60, 'g': 11, 's': 60, 'c': 23, 'u': 27, 'r': 54, 'e': 97, 'd': 24, 'y': 15, 'w': 20, \"'\": 8, 'v': 9, 'm': 20, 'b': 13, 'k': 7, 'p': 15, '!': 2}\n",
      "{'\\n': 45, 'a': 78, ' ': 177, 'l': 34, 'o': 73, 't': 85, 'f': 17, 'h': 48, 'i': 50, 'n': 60, 'g': 11, 's': 60, 'c': 23, 'u': 27, 'r': 54, 'e': 97, 'd': 24, 'y': 15, 'w': 20, \"'\": 8, 'v': 9, 'm': 20, 'b': 13, 'k': 7, 'p': 15, '!': 2}\n",
      "- [!] -> [2]회 나타남\n",
      "- [k] -> [7]회 나타남\n",
      "- ['] -> [8]회 나타남\n",
      "- [v] -> [9]회 나타남\n",
      "- [g] -> [11]회 나타남\n",
      "- [b] -> [13]회 나타남\n",
      "- [y] -> [15]회 나타남\n",
      "- [p] -> [15]회 나타남\n",
      "- [f] -> [17]회 나타남\n",
      "- [w] -> [20]회 나타남\n",
      "- [m] -> [20]회 나타남\n",
      "- [c] -> [23]회 나타남\n",
      "- [d] -> [24]회 나타남\n",
      "- [u] -> [27]회 나타남\n",
      "- [l] -> [34]회 나타남\n",
      "- [\n",
      "] -> [45]회 나타남\n",
      "- [h] -> [48]회 나타남\n",
      "- [i] -> [50]회 나타남\n",
      "- [r] -> [54]회 나타남\n",
      "- [n] -> [60]회 나타남\n",
      "- [s] -> [60]회 나타남\n",
      "- [o] -> [73]회 나타남\n",
      "- [a] -> [78]회 나타남\n",
      "- [t] -> [85]회 나타남\n",
      "- [e] -> [97]회 나타남\n",
      "- [[ ]] -> [177]회 나타남\n"
     ]
    }
   ],
   "source": [
    "\n",
    "with open('mydata.txt', 'r', encoding ='utf-8') as f:\n",
    "    data = f.read()\n",
    "\n",
    "freq = {}\n",
    "\n",
    "for char in data:                           \n",
    "    if char in freq:\n",
    "        freq[char] += 1\n",
    "        print(freq)\n",
    "    else:\n",
    "        freq[char] = 1         \n",
    "\n",
    "sorted_chars = sorted(freq.items(), key=lambda x: x[1])    \n",
    "\n",
    "for char, count in sorted_chars:\n",
    "    if char == ' ':                                \n",
    "        char = '[ ]'\n",
    "    print(f'- [{char}] -> [{count}]회 나타남')"
   ]
  },
  {
   "cell_type": "code",
   "execution_count": null,
   "id": "bc6b10ee",
   "metadata": {},
   "outputs": [],
   "source": [
    "with open('mydata.txt','w') as f:\n",
    "    f.write(\n",
    "'''\n",
    "a lot of things occur each day\n",
    "we've got to live with on our way\n",
    "there's so much misery on the screen\n",
    "with commercials in between\n",
    "\n",
    "and the russians won't be so late\n",
    "uncle sam don't want to wait\n",
    "no matter if you're black or white\n",
    "you never ever had a right\n",
    "\n",
    "and look up to the eternal skies\n",
    "see warfare even there\n",
    "what once has been a paradise\n",
    "now destruction and despair\n",
    "\n",
    "in other worlds the children die\n",
    "lacking food ill from a fly\n",
    "oppressed by troops to tame their land\n",
    "it's all the same again\n",
    "\n",
    "if any man is free on earth\n",
    "then tormentors steal his birth\n",
    "they slam gun butts in his face\n",
    "and leave his woman choked in mace\n",
    "\n",
    "so stand up for our human rights\n",
    "push back this pest of hate\n",
    "raise you voice pass on the light\n",
    "unite! it's not too late\n",
    "\n",
    "how many tears flow away\n",
    "to become a sea of fears\n",
    "how many hearts are torn apart\n",
    "till another torment starts\n",
    "\n",
    "but before the world\n",
    "turns into a sun\n",
    "all cruelty and violence\n",
    "on earth will be dead and gone\n",
    "\n",
    "so stand up for our human rights\n",
    "push back this pest of hate\n",
    "raise you voice pass on the light\n",
    "unite! it's not too late\n",
    "''')"
   ]
  },
  {
   "cell_type": "code",
   "execution_count": 1,
   "id": "8d419c80",
   "metadata": {},
   "outputs": [
    {
     "name": "stdout",
     "output_type": "stream",
     "text": [
      "[1, 4, 9, 16]\n"
     ]
    }
   ],
   "source": [
    "abclist = [1,2,3,4]\n",
    "nlist = map(lambda a : a * a, abclist)\n",
    "print(list(nlist))"
   ]
  },
  {
   "cell_type": "code",
   "execution_count": 2,
   "id": "84a5b146",
   "metadata": {},
   "outputs": [
    {
     "ename": "TypeError",
     "evalue": "list indices must be integers or slices, not map",
     "output_type": "error",
     "traceback": [
      "\u001b[1;31m---------------------------------------------------------------------------\u001b[0m",
      "\u001b[1;31mTypeError\u001b[0m                                 Traceback (most recent call last)",
      "Cell \u001b[1;32mIn[2], line 3\u001b[0m\n\u001b[0;32m      1\u001b[0m \u001b[38;5;28mlist\u001b[39m \u001b[38;5;241m=\u001b[39m [\u001b[38;5;241m1\u001b[39m,\u001b[38;5;241m2\u001b[39m,\u001b[38;5;241m3\u001b[39m,\u001b[38;5;241m4\u001b[39m,\u001b[38;5;241m5\u001b[39m]\n\u001b[0;32m      2\u001b[0m good \u001b[38;5;241m=\u001b[39m \u001b[38;5;28mmap\u001b[39m(\u001b[38;5;28;01mlambda\u001b[39;00m a : a \u001b[38;5;241m*\u001b[39m a,\u001b[38;5;28mlist\u001b[39m)\n\u001b[1;32m----> 3\u001b[0m \u001b[38;5;28mprint\u001b[39m(\u001b[38;5;28;43mlist\u001b[39;49m\u001b[43m[\u001b[49m\u001b[43mgood\u001b[49m\u001b[43m]\u001b[49m)\n",
      "\u001b[1;31mTypeError\u001b[0m: list indices must be integers or slices, not map"
     ]
    }
   ],
   "source": [
    "list = [1,2,3,4,5]\n",
    "good = map(lambda a : a * a,list)\n",
    "print(list[good])"
   ]
  }
 ],
 "metadata": {
  "kernelspec": {
   "display_name": "Python 3 (ipykernel)",
   "language": "python",
   "name": "python3"
  },
  "language_info": {
   "codemirror_mode": {
    "name": "ipython",
    "version": 3
   },
   "file_extension": ".py",
   "mimetype": "text/x-python",
   "name": "python",
   "nbconvert_exporter": "python",
   "pygments_lexer": "ipython3",
   "version": "3.10.13"
  }
 },
 "nbformat": 4,
 "nbformat_minor": 5
}
