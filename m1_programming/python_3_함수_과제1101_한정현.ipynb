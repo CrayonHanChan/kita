{
 "cells": [
  {
   "cell_type": "markdown",
   "id": "f84b5bbb",
   "metadata": {},
   "source": [
    "#### 과제1_1101 : 사용자 함수를 아래와 같이 사용할 수 있는 func3를 작성하세요.\n",
    "func3(100, 200)  \n",
    "출력: Width: 100, Height: 200, Color: blue, Thickness: 1\n",
    "\n",
    "func3(100, 200, color='green', thickness=10)  \n",
    "출력: Width: 100, Height: 200, Color: green, Thickness: 10"
   ]
  },
  {
   "cell_type": "code",
   "execution_count": 2,
   "id": "31af238e",
   "metadata": {
    "scrolled": true
   },
   "outputs": [
    {
     "name": "stdout",
     "output_type": "stream",
     "text": [
      "Width : 100\n",
      "Height : 200\n",
      "Other arguments: {'color': 'blue', 'thickness': 1}\n",
      "Width : 100\n",
      "Height : 200\n",
      "Other arguments: {'color': 'green', 'thickness': 10}\n"
     ]
    }
   ],
   "source": [
    "# 과제1_1101 솔루션\n",
    "def func3(wid,hei,**kwargs):\n",
    "    dict = {'color':'blue', 'thickness': 1}\n",
    "    if len(kwargs) == 0 :\n",
    "        kwargs = dict\n",
    "    print(f\"Width : {wid}\")\n",
    "    print(f\"Height : {hei}\")\n",
    "    print(f\"Other arguments: {kwargs}\")\n",
    "\n",
    "func3(100,200)\n",
    "func3(100,200, color='green', thickness=10 )"
   ]
  },
  {
   "cell_type": "markdown",
   "id": "628b110e",
   "metadata": {},
   "source": [
    "#### 과제2_1101 : 아래와 같이 출력되도록 func4를 작성하세요\n",
    "def print_info(**kwargs):\n",
    "    for key, value in kwargs.items():\n",
    "        print(f\"{key}: {value}\")\n",
    "\n",
    "        \n",
    "func4(100, 200, color='yellow', style='dotted')\n",
    "출력:\n",
    "color: yellow\n",
    "style: dotted"
   ]
  },
  {
   "cell_type": "code",
   "execution_count": 2,
   "id": "66d33720",
   "metadata": {},
   "outputs": [
    {
     "name": "stdout",
     "output_type": "stream",
     "text": [
      "color: yellow\n",
      "style: dotted\n"
     ]
    }
   ],
   "source": [
    "# 과제2_1101 솔루션\n",
    "def func4(a,b,**kwargs):\n",
    "    for key, value in kwargs.items():\n",
    "        print(f\"{key}: {value}\")\n",
    "        \n",
    "func4(100, 200, color='yellow', style='dotted')    "
   ]
  },
  {
   "cell_type": "markdown",
   "id": "61e7a815",
   "metadata": {},
   "source": [
    "#### 과제3_1101 : 첫번째 숫자에서 뻴셈, 나눗셈 멀티 계산 함수 sub_div를 작성\n",
    "('-', 2,4,6,8,10)\n",
    "('/', 2,4,6,8,10)"
   ]
  },
  {
   "cell_type": "code",
   "execution_count": 27,
   "id": "0c591291",
   "metadata": {
    "scrolled": true
   },
   "outputs": [
    {
     "name": "stdout",
     "output_type": "stream",
     "text": [
      "-26\n"
     ]
    },
    {
     "data": {
      "text/plain": [
       "0.0010416666666666667"
      ]
     },
     "execution_count": 27,
     "metadata": {},
     "output_type": "execute_result"
    }
   ],
   "source": [
    "# 과제3_1101 솔루션\n",
    "def sub_div(oh,*args) :\n",
    "        if oh == '-' :\n",
    "            sub = args[0]\n",
    "            for q in args[1:] :\n",
    "                sub -= q\n",
    "            return print(sub)\n",
    "        elif oh == '/' :\n",
    "            div = args[0]\n",
    "            for s in args[1:] :\n",
    "                div /= s\n",
    "            return div\n",
    "        else :\n",
    "            return print(\"종료\")\n",
    "        \n",
    "        \n",
    "sub_div('-', 2,4,6,8,10)\n",
    "sub_div('/', 2,4,6,8,10)"
   ]
  },
  {
   "cell_type": "markdown",
   "id": "4f55bfc1",
   "metadata": {},
   "source": [
    "#### 과제4_1101 : 아래 사용자 함수에서 결과가 아래와 같이 출력되도록 완성하세요.\n",
    "- 함수 내에서의 x 값: 20\n",
    "- 함수 밖에서의 x 값: 20   \n",
    "\n",
    "x = 10\n",
    "def modify_global():\n",
    "    x = 20\n",
    "    print(\"함수 내에서의 x 값:\", x)\n",
    "modify_global()\n",
    "print(\"함수 밖에서의 x 값:\", x)"
   ]
  },
  {
   "cell_type": "code",
   "execution_count": 1,
   "id": "da937618",
   "metadata": {},
   "outputs": [
    {
     "name": "stdout",
     "output_type": "stream",
     "text": [
      "함수 내에서의 x 값: 20\n",
      "함수 밖에서의 x 값: 20\n"
     ]
    }
   ],
   "source": [
    "# 과제4_1101 솔루션\n",
    "\n",
    "x = 10\n",
    "def modify_global():\n",
    "    global x # global 을 사용해서 x 를 전역변수로 사용한다고 명시\n",
    "    x = 20\n",
    "    print(\"함수 내에서의 x 값:\", x)\n",
    "modify_global()\n",
    "print(\"함수 밖에서의 x 값:\", x)"
   ]
  },
  {
   "cell_type": "markdown",
   "id": "dc593ef6",
   "metadata": {},
   "source": [
    "#### 과제5_1101 : 원하는 데이터를 생성해서 저장하고 다시 읽어오세요."
   ]
  },
  {
   "cell_type": "code",
   "execution_count": 28,
   "id": "5699e252",
   "metadata": {},
   "outputs": [
    {
     "name": "stdout",
     "output_type": "stream",
     "text": [
      "파이썬 파일생성! 와우\n"
     ]
    }
   ],
   "source": [
    "# 과제5_1101 솔루션\n",
    "with open (\"wow.txt\",\"w\") as f :\n",
    "    f.write(\"파이썬 파일생성! 와우\")\n",
    "    \n",
    "with open (\"wow.txt\",\"r\") as f :\n",
    "    txt = f.read()\n",
    "    print(txt)"
   ]
  },
  {
   "cell_type": "markdown",
   "id": "a9de6148",
   "metadata": {},
   "source": [
    "#### 과제6_1101 : 텍스트 파일(mydata.txt)을 읽고 파일의 내용에서 나타나는 문자들에 대해 자주 나타나는 문자들을 아래와 같이 순서대로 출력하세요.\n",
    "[] -> [177]회 나타남\n",
    "[e] -> [97]회 나타남\n",
    "[t] -> [85]회 나타남"
   ]
  },
  {
   "cell_type": "code",
   "execution_count": 5,
   "id": "57680fe5",
   "metadata": {},
   "outputs": [],
   "source": [
    "# 과제6_1101 솔루션\n",
    "with open('mydata.txt','w') as f:\n",
    "    f.write(\n",
    "'''\n",
    "a lot of things occur each day\n",
    "we've got to live with on our way\n",
    "there's so much misery on the screen\n",
    "with commercials in between\n",
    "\n",
    "and the russians won't be so late\n",
    "uncle sam don't want to wait\n",
    "no matter if you're black or white\n",
    "you never ever had a right\n",
    "\n",
    "and look up to the eternal skies\n",
    "see warfare even there\n",
    "what once has been a paradise\n",
    "now destruction and despair\n",
    "\n",
    "in other worlds the children die\n",
    "lacking food ill from a fly\n",
    "oppressed by troops to tame their land\n",
    "it's all the same again\n",
    "\n",
    "if any man is free on earth\n",
    "then tormentors steal his birth\n",
    "they slam gun butts in his face\n",
    "and leave his woman choked in mace\n",
    "\n",
    "so stand up for our human rights\n",
    "push back this pest of hate\n",
    "raise you voice pass on the light\n",
    "unite! it's not too late\n",
    "\n",
    "how many tears flow away\n",
    "to become a sea of fears\n",
    "how many hearts are torn apart\n",
    "till another torment starts\n",
    "\n",
    "but before the world\n",
    "turns into a sun\n",
    "all cruelty and violence\n",
    "on earth will be dead and gone\n",
    "\n",
    "so stand up for our human rights\n",
    "push back this pest of hate\n",
    "raise you voice pass on the light\n",
    "unite! it's not too late\n",
    "''')\n",
    "\n",
    "with open('mydata.txt','r') as f :\n",
    "    mydata = f.read()\n",
    "    \n",
    "chr_frequency = {}\n",
    "\n",
    "for i in mydata :\n",
    "    if i in chr_frequency :\n",
    "        chr_frequency[i] = chr_frequency[i] + i"
   ]
  }
 ],
 "metadata": {
  "kernelspec": {
   "display_name": "Python 3 (ipykernel)",
   "language": "python",
   "name": "python3"
  },
  "language_info": {
   "codemirror_mode": {
    "name": "ipython",
    "version": 3
   },
   "file_extension": ".py",
   "mimetype": "text/x-python",
   "name": "python",
   "nbconvert_exporter": "python",
   "pygments_lexer": "ipython3",
   "version": "3.10.13"
  }
 },
 "nbformat": 4,
 "nbformat_minor": 5
}
